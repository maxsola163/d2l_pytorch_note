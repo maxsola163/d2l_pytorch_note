{
 "cells": [
  {
   "cell_type": "markdown",
   "id": "32e1bf03",
   "metadata": {
    "slideshow": {
     "slide_type": "-"
    }
   },
   "source": [
    "# 层和块\n",
    "\n",
    "我们先回顾一下多层感知机"
   ]
  },
  {
   "cell_type": "code",
   "execution_count": 1,
   "id": "b9bcbd98",
   "metadata": {
    "execution": {
     "iopub.execute_input": "2022-12-07T16:28:43.817066Z",
     "iopub.status.busy": "2022-12-07T16:28:43.816409Z",
     "iopub.status.idle": "2022-12-07T16:28:45.216452Z",
     "shell.execute_reply": "2022-12-07T16:28:45.215623Z"
    },
    "origin_pos": 2,
    "tab": [
     "pytorch"
    ]
   },
   "outputs": [
    {
     "data": {
      "text/plain": [
       "tensor([[ 0.2275, -0.0931,  0.0570,  0.0855, -0.0524,  0.0325,  0.1676, -0.1014,\n",
       "          0.0794, -0.1586],\n",
       "        [ 0.2249, -0.0549, -0.0864, -0.1089, -0.1159, -0.0089,  0.1040, -0.2234,\n",
       "          0.1652, -0.2738]], grad_fn=<AddmmBackward0>)"
      ]
     },
     "execution_count": 1,
     "metadata": {},
     "output_type": "execute_result"
    }
   ],
   "source": [
    "import torch\n",
    "from torch import nn\n",
    "from torch.nn import functional as F\n",
    "\n",
    "net = nn.Sequential(nn.Linear(20, 256), nn.ReLU(), nn.Linear(256, 10))\n",
    "\n",
    "X = torch.rand(2, 20)\n",
    "net(X)"
   ]
  },
  {
   "cell_type": "markdown",
   "id": "3c753775",
   "metadata": {
    "slideshow": {
     "slide_type": "-"
    }
   },
   "source": [
    "`nn.Sequential`定义了一种特殊的`Module`"
   ]
  },
  {
   "cell_type": "markdown",
   "id": "0320db9e",
   "metadata": {
    "slideshow": {
     "slide_type": "slide"
    }
   },
   "source": [
    "自定义块"
   ]
  },
  {
   "cell_type": "code",
   "execution_count": 2,
   "id": "67970a47",
   "metadata": {
    "execution": {
     "iopub.execute_input": "2022-12-07T16:28:45.220410Z",
     "iopub.status.busy": "2022-12-07T16:28:45.219789Z",
     "iopub.status.idle": "2022-12-07T16:28:45.225103Z",
     "shell.execute_reply": "2022-12-07T16:28:45.224338Z"
    },
    "origin_pos": 14,
    "tab": [
     "pytorch"
    ]
   },
   "outputs": [],
   "source": [
    "class MLP(nn.Module):\n",
    "    def __init__(self):\n",
    "        super().__init__()\n",
    "        self.hidden = nn.Linear(20, 256)\n",
    "        self.out = nn.Linear(256, 10)\n",
    "\n",
    "    def forward(self, X):\n",
    "        return self.out(F.relu(self.hidden(X)))"
   ]
  },
  {
   "cell_type": "markdown",
   "id": "65ad8b5b",
   "metadata": {
    "slideshow": {
     "slide_type": "slide"
    }
   },
   "source": [
    "实例化多层感知机的层，然后在每次调用前向传播函数时调用这些层"
   ]
  },
  {
   "cell_type": "code",
   "execution_count": 3,
   "id": "c196f83b",
   "metadata": {
    "execution": {
     "iopub.execute_input": "2022-12-07T16:28:45.228240Z",
     "iopub.status.busy": "2022-12-07T16:28:45.227741Z",
     "iopub.status.idle": "2022-12-07T16:28:45.233871Z",
     "shell.execute_reply": "2022-12-07T16:28:45.233130Z"
    },
    "origin_pos": 19,
    "tab": [
     "pytorch"
    ]
   },
   "outputs": [
    {
     "data": {
      "text/plain": [
       "tensor([[ 0.1981,  0.1234,  0.0592,  0.0819,  0.0648,  0.3781,  0.1214,  0.1906,\n",
       "         -0.0062,  0.1415],\n",
       "        [ 0.2254,  0.0934, -0.0539,  0.1771,  0.0199,  0.2174,  0.2251,  0.3334,\n",
       "         -0.0966,  0.2420]], grad_fn=<AddmmBackward0>)"
      ]
     },
     "execution_count": 3,
     "metadata": {},
     "output_type": "execute_result"
    }
   ],
   "source": [
    "net = MLP()\n",
    "net(X)"
   ]
  },
  {
   "cell_type": "markdown",
   "id": "45400e46",
   "metadata": {
    "slideshow": {
     "slide_type": "slide"
    }
   },
   "source": [
    "顺序块"
   ]
  },
  {
   "cell_type": "code",
   "execution_count": 5,
   "id": "47eaeca3",
   "metadata": {
    "execution": {
     "iopub.execute_input": "2022-12-07T16:28:45.248643Z",
     "iopub.status.busy": "2022-12-07T16:28:45.248107Z",
     "iopub.status.idle": "2022-12-07T16:28:45.254498Z",
     "shell.execute_reply": "2022-12-07T16:28:45.253795Z"
    },
    "origin_pos": 31,
    "tab": [
     "pytorch"
    ]
   },
   "outputs": [
    {
     "data": {
      "text/plain": [
       "tensor([[ 0.0270, -0.0326, -0.0883,  0.0289,  0.0240, -0.2199,  0.1712, -0.1201,\n",
       "          0.1149,  0.1823],\n",
       "        [-0.0254, -0.0283, -0.1461,  0.1541,  0.2295, -0.3174, -0.0860,  0.0275,\n",
       "          0.0732,  0.1548]], grad_fn=<AddmmBackward0>)"
      ]
     },
     "execution_count": 5,
     "metadata": {},
     "output_type": "execute_result"
    }
   ],
   "source": [
    "class MySequential(nn.Module):\n",
    "    def __init__(self, *args):\n",
    "        super().__init__()\n",
    "        for idx, module in enumerate(args):\n",
    "            self._modules[str(idx)] = module\n",
    "\n",
    "    def forward(self, X):\n",
    "        for block in self._modules.values():\n",
    "            X = block(X)\n",
    "        return X\n",
    "\n",
    "net = MySequential(nn.Linear(20, 256), nn.ReLU(), nn.Linear(256, 10))\n",
    "net(X)"
   ]
  },
  {
   "cell_type": "markdown",
   "id": "86e490d9",
   "metadata": {
    "slideshow": {
     "slide_type": "slide"
    }
   },
   "source": [
    "在前向传播函数中执行代码"
   ]
  },
  {
   "cell_type": "code",
   "execution_count": 7,
   "id": "8e23cfb9",
   "metadata": {
    "execution": {
     "iopub.execute_input": "2022-12-07T16:28:45.265695Z",
     "iopub.status.busy": "2022-12-07T16:28:45.265428Z",
     "iopub.status.idle": "2022-12-07T16:28:45.271974Z",
     "shell.execute_reply": "2022-12-07T16:28:45.271209Z"
    },
    "origin_pos": 40,
    "tab": [
     "pytorch"
    ]
   },
   "outputs": [
    {
     "data": {
      "text/plain": [
       "tensor(-0.2160, grad_fn=<SumBackward0>)"
      ]
     },
     "execution_count": 7,
     "metadata": {},
     "output_type": "execute_result"
    }
   ],
   "source": [
    "class FixedHiddenMLP(nn.Module):\n",
    "    def __init__(self):\n",
    "        super().__init__()\n",
    "        self.rand_weight = torch.rand((20, 20), requires_grad=False)\n",
    "        self.linear = nn.Linear(20, 20)\n",
    "\n",
    "    def forward(self, X):\n",
    "        X = self.linear(X)\n",
    "        X = F.relu(torch.mm(X, self.rand_weight) + 1)\n",
    "        X = self.linear(X)\n",
    "        while X.abs().sum() > 1:\n",
    "            X /= 2\n",
    "        return X.sum()\n",
    "\n",
    "net = FixedHiddenMLP()\n",
    "net(X)"
   ]
  },
  {
   "cell_type": "markdown",
   "id": "ea3d23e2",
   "metadata": {
    "slideshow": {
     "slide_type": "slide"
    }
   },
   "source": [
    "混合搭配各种组合块的方法"
   ]
  },
  {
   "cell_type": "code",
   "execution_count": 8,
   "id": "cb1cf1d0",
   "metadata": {
    "execution": {
     "iopub.execute_input": "2022-12-07T16:28:45.276015Z",
     "iopub.status.busy": "2022-12-07T16:28:45.275750Z",
     "iopub.status.idle": "2022-12-07T16:28:45.285289Z",
     "shell.execute_reply": "2022-12-07T16:28:45.284572Z"
    },
    "origin_pos": 43,
    "tab": [
     "pytorch"
    ]
   },
   "outputs": [
    {
     "data": {
      "text/plain": [
       "tensor(-0.4822, grad_fn=<SumBackward0>)"
      ]
     },
     "execution_count": 8,
     "metadata": {},
     "output_type": "execute_result"
    }
   ],
   "source": [
    "class NestMLP(nn.Module):\n",
    "    def __init__(self):\n",
    "        super().__init__()\n",
    "        self.net = nn.Sequential(nn.Linear(20, 64), nn.ReLU(),\n",
    "                                 nn.Linear(64, 32), nn.ReLU())\n",
    "        self.linear = nn.Linear(32, 16)\n",
    "\n",
    "    def forward(self, X):\n",
    "        return self.linear(self.net(X))\n",
    "\n",
    "chimera = nn.Sequential(NestMLP(), nn.Linear(16, 20), FixedHiddenMLP())\n",
    "chimera(X)"
   ]
  }
 ],
 "metadata": {
  "celltoolbar": "Slideshow",
  "language_info": {
   "name": "python"
  },
  "rise": {
   "autolaunch": true,
   "enable_chalkboard": true,
   "overlay": "<div class='my-top-right'><img height=80px src='http://d2l.ai/_static/logo-with-text.png'/></div><div class='my-top-left'></div>",
   "scroll": true
  }
 },
 "nbformat": 4,
 "nbformat_minor": 5
}