{
 "cells": [
  {
   "cell_type": "code",
   "execution_count": 1,
   "id": "61e3f9e5-394a-42cb-b96b-c35564856f48",
   "metadata": {},
   "outputs": [
    {
     "name": "stdout",
     "output_type": "stream",
     "text": [
      "the num of cpu cores : 12\n"
     ]
    }
   ],
   "source": [
    "import torch\n",
    "import os\n",
    "print(f\"the num of cpu cores : {os.cpu_count()}\")"
   ]
  },
  {
   "cell_type": "code",
   "execution_count": 2,
   "id": "f5636e7d-e21f-48ef-99f0-090e13a4b808",
   "metadata": {},
   "outputs": [
    {
     "name": "stdout",
     "output_type": "stream",
     "text": [
      "model name\t: Intel(R) Xeon(R) CPU E5-2620 v4 @ 2.10GHz\n"
     ]
    }
   ],
   "source": [
    "!head -n 30 /proc/cpuinfo | grep \"model name\""
   ]
  },
  {
   "cell_type": "code",
   "execution_count": 4,
   "id": "6555df13-fac6-415a-99ef-ddc1a525d4f4",
   "metadata": {},
   "outputs": [
    {
     "name": "stdout",
     "output_type": "stream",
     "text": [
      "No GPU\n"
     ]
    }
   ],
   "source": [
    "try:\n",
    "    torch.cuda.get_device_name()\n",
    "except RuntimeError:\n",
    "    print(\"No GPU\")"
   ]
  },
  {
   "cell_type": "code",
   "execution_count": 5,
   "id": "5b167970-3c85-4f34-ae0f-a577ce226ca9",
   "metadata": {},
   "outputs": [
    {
     "name": "stdout",
     "output_type": "stream",
     "text": [
      "              total        used        free      shared  buff/cache   available\n",
      "Mem:          125Gi        11Gi        12Gi        40Mi       101Gi       113Gi\n",
      "Swap:         2.0Gi       295Mi       1.7Gi\n"
     ]
    }
   ],
   "source": [
    "!free -h"
   ]
  },
  {
   "cell_type": "code",
   "execution_count": 9,
   "id": "e27dc627-d8d1-4ac7-8603-f5fe762fd6d3",
   "metadata": {},
   "outputs": [
    {
     "name": "stdout",
     "output_type": "stream",
     "text": [
      "Filesystem              Size  Used Avail Use% Mounted on\n",
      "overlay                  25G  566M   25G   3% /\n",
      "tmpfs                    64M     0   64M   0% /dev\n",
      "tmpfs                    63G     0   63G   0% /sys/fs/cgroup\n",
      "shm                     8.0G  792K  8.0G   1% /dev/shm\n",
      "/dev/sdb                150M  4.0K  150M   1% /init\n",
      "172.181.217.78:/data/1  1.0T  858G  167G  84% /root/autodl-pub\n",
      "tmpfs                    63G   12K   63G   1% /proc/driver/nvidia\n",
      "/dev/sda5               879G   32G  803G   4% /usr/bin/nvidia-smi\n",
      "udev                     63G     0   63G   0% /dev/nvidiactl\n",
      "tmpfs                    63G     0   63G   0% /proc/asound\n",
      "tmpfs                    63G     0   63G   0% /proc/acpi\n",
      "tmpfs                    63G     0   63G   0% /proc/scsi\n",
      "tmpfs                    63G     0   63G   0% /sys/firmware\n"
     ]
    }
   ],
   "source": [
    "!df -h"
   ]
  }
 ],
 "metadata": {
  "kernelspec": {
   "display_name": "d2l",
   "language": "python",
   "name": "python3"
  },
  "language_info": {
   "codemirror_mode": {
    "name": "ipython",
    "version": 3
   },
   "file_extension": ".py",
   "mimetype": "text/x-python",
   "name": "python",
   "nbconvert_exporter": "python",
   "pygments_lexer": "ipython3",
   "version": "3.10.9 | packaged by conda-forge | (main, Jan 11 2023, 15:15:40) [MSC v.1916 64 bit (AMD64)]"
  },
  "vscode": {
   "interpreter": {
    "hash": "e68e5b16d81fa9059e1158f6a4d703d6dd8750a9ccfa1e75dbe04c34949a9a2e"
   }
  }
 },
 "nbformat": 4,
 "nbformat_minor": 5
}
