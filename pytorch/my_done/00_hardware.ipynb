{
 "cells": [
  {
   "cell_type": "code",
   "execution_count": 8,
   "id": "61e3f9e5-394a-42cb-b96b-c35564856f48",
   "metadata": {},
   "outputs": [
    {
     "name": "stdout",
     "output_type": "stream",
     "text": [
      "the num of cpu cores : 2\n"
     ]
    }
   ],
   "source": [
    "import torch\n",
    "import os\n",
    "print(f\"the num of cpu cores : {os.cpu_count()}\")"
   ]
  },
  {
   "cell_type": "code",
   "execution_count": 9,
   "id": "f5636e7d-e21f-48ef-99f0-090e13a4b808",
   "metadata": {},
   "outputs": [
    {
     "name": "stdout",
     "output_type": "stream",
     "text": [
      "model name\t: Intel(R) Xeon(R) Gold 6271C CPU @ 2.60GHz\n"
     ]
    }
   ],
   "source": [
    "!head -n 30 /proc/cpuinfo | grep \"model name\""
   ]
  },
  {
   "cell_type": "code",
   "execution_count": 10,
   "id": "6555df13-fac6-415a-99ef-ddc1a525d4f4",
   "metadata": {},
   "outputs": [
    {
     "name": "stdout",
     "output_type": "stream",
     "text": [
      "No GPU\n"
     ]
    }
   ],
   "source": [
    "try:\n",
    "    torch.cuda.get_device_name()\n",
    "except RuntimeError:\n",
    "    print(\"No GPU\")"
   ]
  },
  {
   "cell_type": "code",
   "execution_count": 11,
   "id": "5b167970-3c85-4f34-ae0f-a577ce226ca9",
   "metadata": {},
   "outputs": [
    {
     "name": "stdout",
     "output_type": "stream",
     "text": [
      "              total        used        free      shared  buff/cache   available\n",
      "Mem:          3.8Gi       866Mi       297Mi       2.0Mi       2.7Gi       2.7Gi\n",
      "Swap:            0B          0B          0B\n"
     ]
    }
   ],
   "source": [
    "!free -h"
   ]
  },
  {
   "cell_type": "code",
   "execution_count": 12,
   "id": "e27dc627-d8d1-4ac7-8603-f5fe762fd6d3",
   "metadata": {},
   "outputs": [
    {
     "name": "stdout",
     "output_type": "stream",
     "text": [
      "Filesystem      Size  Used Avail Use% Mounted on\n",
      "udev            1.9G     0  1.9G   0% /dev\n",
      "tmpfs           393M  868K  392M   1% /run\n",
      "/dev/vda1        79G   14G   62G  18% /\n",
      "tmpfs           2.0G     0  2.0G   0% /dev/shm\n",
      "tmpfs           5.0M     0  5.0M   0% /run/lock\n",
      "tmpfs           2.0G     0  2.0G   0% /sys/fs/cgroup\n",
      "tmpfs           393M     0  393M   0% /run/user/1000\n"
     ]
    }
   ],
   "source": [
    "!df -h"
   ]
  },
  {
   "cell_type": "code",
   "execution_count": 13,
   "id": "7058044b",
   "metadata": {},
   "outputs": [
    {
     "name": "stdout",
     "output_type": "stream",
     "text": [
      "Looking in indexes: https://pypi.douban.com/simple\n",
      "Requirement already satisfied: matplotlib.inline in /home/maxsola/miniconda3/envs/d2l/lib/python3.8/site-packages (0.1.6)\n",
      "Requirement already satisfied: traitlets in /home/maxsola/miniconda3/envs/d2l/lib/python3.8/site-packages (from matplotlib.inline) (5.8.1)\n",
      "Looking in indexes: https://pypi.douban.com/simple\n",
      "Requirement already satisfied: matplotlib in /home/maxsola/miniconda3/envs/d2l/lib/python3.8/site-packages (3.6.3)\n",
      "Requirement already satisfied: kiwisolver>=1.0.1 in /home/maxsola/miniconda3/envs/d2l/lib/python3.8/site-packages (from matplotlib) (1.4.4)\n",
      "Requirement already satisfied: fonttools>=4.22.0 in /home/maxsola/miniconda3/envs/d2l/lib/python3.8/site-packages (from matplotlib) (4.38.0)\n",
      "Requirement already satisfied: packaging>=20.0 in /home/maxsola/miniconda3/envs/d2l/lib/python3.8/site-packages (from matplotlib) (23.0)\n",
      "Requirement already satisfied: pillow>=6.2.0 in /home/maxsola/miniconda3/envs/d2l/lib/python3.8/site-packages (from matplotlib) (9.4.0)\n",
      "Requirement already satisfied: numpy>=1.19 in /home/maxsola/miniconda3/envs/d2l/lib/python3.8/site-packages (from matplotlib) (1.24.1)\n",
      "Requirement already satisfied: python-dateutil>=2.7 in /home/maxsola/miniconda3/envs/d2l/lib/python3.8/site-packages (from matplotlib) (2.8.2)\n",
      "Requirement already satisfied: pyparsing>=2.2.1 in /home/maxsola/miniconda3/envs/d2l/lib/python3.8/site-packages (from matplotlib) (3.0.9)\n",
      "Requirement already satisfied: cycler>=0.10 in /home/maxsola/miniconda3/envs/d2l/lib/python3.8/site-packages (from matplotlib) (0.11.0)\n",
      "Requirement already satisfied: contourpy>=1.0.1 in /home/maxsola/miniconda3/envs/d2l/lib/python3.8/site-packages (from matplotlib) (1.0.7)\n",
      "Requirement already satisfied: six>=1.5 in /home/maxsola/miniconda3/envs/d2l/lib/python3.8/site-packages (from python-dateutil>=2.7->matplotlib) (1.16.0)\n"
     ]
    }
   ],
   "source": [
    "!pip install matplotlib.inline \n",
    "!pip install matplotlib"
   ]
  },
  {
   "cell_type": "code",
   "execution_count": null,
   "id": "75c2bba4",
   "metadata": {},
   "outputs": [],
   "source": []
  }
 ],
 "metadata": {
  "kernelspec": {
   "display_name": "Python 3 (ipykernel)",
   "language": "python",
   "name": "python3"
  },
  "language_info": {
   "codemirror_mode": {
    "name": "ipython",
    "version": 3
   },
   "file_extension": ".py",
   "mimetype": "text/x-python",
   "name": "python",
   "nbconvert_exporter": "python",
   "pygments_lexer": "ipython3",
   "version": "3.8.16"
  },
  "vscode": {
   "interpreter": {
    "hash": "e68e5b16d81fa9059e1158f6a4d703d6dd8750a9ccfa1e75dbe04c34949a9a2e"
   }
  }
 },
 "nbformat": 4,
 "nbformat_minor": 5
}
