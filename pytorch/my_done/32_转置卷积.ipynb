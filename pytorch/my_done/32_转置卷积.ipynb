{
 "cells": [
  {
   "attachments": {},
   "cell_type": "markdown",
   "id": "5e88789a",
   "metadata": {},
   "source": [
    "# 转置卷积\n",
    "\n",
    "卷积要么宽高不变，要么宽高减小，**但是像素级预测需要最后换高增大**\n",
    "\n",
    "- 转置卷积则可以用来增大输入高宽\n",
    "\n",
    "$$Y[i:i+h, j:j+w]+=x[i,j]\\cdot\\text{kernel}$$\n",
    "\n",
    "- padding作用在输出上\n",
    "- 转置卷积也是卷积\n",
    "    - 相当于上采样，将输入和核进行了重新排列\n",
    "\n",
    "## 重新排列\n",
    "\n",
    "- 转置卷积相当于只是改变了高宽\n",
    "- 填充：p，步幅：s\n",
    "    - 在行和列之间插入s-1行或列\n",
    "    - 输入的上下左右填充 k-p-1\n",
    "    - 核矩阵：上下左右反转\n",
    "    - 然后正常卷积（填充为0、步幅为1）\n",
    "\n",
    "$$\n",
    "\\begin{cases}\n",
    "n'\\geq s\\times n + k - 2p - s \\\\\n",
    "k = 2p+s\n",
    "\\end{cases}\n",
    "$$\n",
    "\n",
    "## 转置\n",
    "\n",
    "- 对于卷积$Y=X\\star W$\n",
    "    - 可以对 W 构造出一个 V，使得卷积等价于$Y=V\\cdot X$\n",
    "- 而转置卷积则等价于$Y'=V^T\\cdot X'$\n",
    "\n",
    "> 转置卷积是卷积，但不是反卷积"
   ]
  },
  {
   "cell_type": "code",
   "execution_count": 3,
   "id": "ee855d50",
   "metadata": {
    "ExecuteTime": {
     "end_time": "2023-02-27T04:51:02.076397Z",
     "start_time": "2023-02-27T04:51:01.761570Z"
    }
   },
   "outputs": [],
   "source": [
    "import torch\n",
    "from torch import nn\n",
    "from d2l import torch as d2l"
   ]
  },
  {
   "cell_type": "code",
   "execution_count": 4,
   "id": "6dd5915d",
   "metadata": {
    "ExecuteTime": {
     "end_time": "2023-02-27T04:55:31.347168Z",
     "start_time": "2023-02-27T04:55:31.343117Z"
    }
   },
   "outputs": [],
   "source": [
    "\"\"\" No padding Stride = 1 \"\"\"\n",
    "def trans_conv(X, k):\n",
    "    h, w = k.shape\n",
    "    Y = torch.zeros((X.shape[0] + h - 1, X.shape[1] + w - 1))\n",
    "    for i in range(X.shape[0]):\n",
    "        for j in range(X.shape[1]):\n",
    "            Y[i:i+h, j:j+w] += X[i, j] * k\n",
    "    return Y"
   ]
  },
  {
   "cell_type": "code",
   "execution_count": 5,
   "id": "c1363092",
   "metadata": {
    "ExecuteTime": {
     "end_time": "2023-02-27T04:55:31.837880Z",
     "start_time": "2023-02-27T04:55:31.833150Z"
    }
   },
   "outputs": [
    {
     "data": {
      "text/plain": [
       "tensor([[ 0.,  0.,  1.],\n",
       "        [ 0.,  4.,  6.],\n",
       "        [ 4., 12.,  9.]])"
      ]
     },
     "execution_count": 5,
     "metadata": {},
     "output_type": "execute_result"
    }
   ],
   "source": [
    "X = torch.tensor([[0.0, 1.0], [2.0, 3.0]])\n",
    "k = X.clone()\n",
    "trans_conv(X, k)"
   ]
  },
  {
   "cell_type": "code",
   "execution_count": 6,
   "id": "a38b7328",
   "metadata": {
    "ExecuteTime": {
     "end_time": "2023-02-27T04:58:11.455582Z",
     "start_time": "2023-02-27T04:58:11.446546Z"
    }
   },
   "outputs": [
    {
     "data": {
      "text/plain": [
       "tensor([[[[ 0.,  0.,  1.],\n",
       "          [ 0.,  4.,  6.],\n",
       "          [ 4., 12.,  9.]]]], grad_fn=<SlowConvTranspose2DBackward0>)"
      ]
     },
     "execution_count": 6,
     "metadata": {},
     "output_type": "execute_result"
    }
   ],
   "source": [
    "X, k = X.reshape(1, 1, 2, 2), k.reshape(1, 1, 2, 2)\n",
    "tconv = nn.ConvTranspose2d(1, 1, kernel_size=2, bias=False)\n",
    "tconv.weight.data=k\n",
    "tconv(X)"
   ]
  },
  {
   "cell_type": "code",
   "execution_count": 8,
   "id": "5c9814ca",
   "metadata": {},
   "outputs": [
    {
     "data": {
      "text/plain": [
       "tensor([[[[4.]]]], grad_fn=<SlowConvTranspose2DBackward0>)"
      ]
     },
     "execution_count": 8,
     "metadata": {},
     "output_type": "execute_result"
    }
   ],
   "source": [
    "# 填充 相当于遮罩输出\n",
    "tconv = nn.ConvTranspose2d(1, 1, kernel_size=2, padding=1, bias=False)\n",
    "tconv.weight.data = k\n",
    "tconv(X)"
   ]
  },
  {
   "cell_type": "code",
   "execution_count": 10,
   "id": "7c84bb96",
   "metadata": {},
   "outputs": [
    {
     "data": {
      "text/plain": [
       "tensor([[[[0., 0., 0., 1.],\n",
       "          [0., 0., 2., 3.],\n",
       "          [0., 2., 0., 3.],\n",
       "          [4., 6., 6., 9.]]]], grad_fn=<SlowConvTranspose2DBackward0>)"
      ]
     },
     "execution_count": 10,
     "metadata": {},
     "output_type": "execute_result"
    }
   ],
   "source": [
    "# (img_h + kernel_h - stride) / stride\n",
    "tconv = nn.ConvTranspose2d(1, 1, kernel_size=2, stride=2, bias=False)\n",
    "tconv.weight.data = k\n",
    "tconv(X)"
   ]
  },
  {
   "cell_type": "code",
   "execution_count": null,
   "id": "75bef676",
   "metadata": {},
   "outputs": [],
   "source": []
  }
 ],
 "metadata": {
  "kernelspec": {
   "display_name": "torch",
   "language": "python",
   "name": "python3"
  },
  "language_info": {
   "codemirror_mode": {
    "name": "ipython",
    "version": 3
   },
   "file_extension": ".py",
   "mimetype": "text/x-python",
   "name": "python",
   "nbconvert_exporter": "python",
   "pygments_lexer": "ipython3",
   "version": "3.6.13"
  },
  "vscode": {
   "interpreter": {
    "hash": "3d8ed2d9294580d642883372641c0cb1ad3c1ae250b86242c01218a4964c7767"
   }
  }
 },
 "nbformat": 4,
 "nbformat_minor": 5
}
