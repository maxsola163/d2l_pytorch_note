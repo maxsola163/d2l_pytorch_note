{
 "cells": [
  {
   "cell_type": "markdown",
   "id": "46e1abb7-6b51-4211-8e00-698858093f76",
   "metadata": {},
   "source": [
    "# 锚框\n",
    "\n",
    "一类目标检测算法是通过锚框检测\n",
    "\n",
    "- 提出多个称为锚框的边缘框\n",
    "- 预测每一个锚框之中是否含有关注的物体\n",
    "- 存在则预测真实边缘框的偏移\n",
    "\n",
    "### 交并比\n",
    "\n",
    "通过交并比 IoU 来计算两个锚框的相似度\n",
    "\n",
    "- 0 表示无重叠，1表示重合\n",
    "\n",
    "\n",
    "$$J(A,B)=\\frac{|A\\cap B|}{|A\\cup B|}$$\n",
    "\n",
    "\n",
    "### 赋予锚框标号\n",
    "\n",
    "- 每一个锚框是一个训练样本\n",
    "- 锚框要么表示一个背景，要么关联一个真实的边缘框\n",
    "- 使用大量锚框代表着存在大量的负类样本\n",
    "\n",
    "\n",
    "### 使用非极大值抑制(NMS)输出\n",
    "\n",
    "- 每一个锚框预测一个边缘框\n",
    "- NMS可以合并相似的预测\n",
    "    - 选择非背景类的最大预测值\n",
    "    - 去掉其他合并比大于$\\theta$的框，表示已经选中\n",
    "    - 重复知道所有预测要么被选中，要么被去掉\n",
    "\n",
    "**Conclusion**\n",
    "\n",
    "- 锚框目标检测\n",
    "- 生产大量锚框，赋予标号，每个锚框作为一个样本训练\n",
    "- 使用NMS除去\n",
    "\n",
    "> 锚框的引入使得复杂度飙升"
   ]
  },
  {
   "cell_type": "code",
   "execution_count": 2,
   "id": "2ca12ee0-cf6c-4a11-a475-d5c459907e06",
   "metadata": {},
   "outputs": [],
   "source": [
    "%matplotlib inline\n",
    "import torch\n",
    "from d2l import torch as d2l\n",
    "\n",
    "torch.set_printoptions(2) # 更改打印精度"
   ]
  },
  {
   "cell_type": "markdown",
   "id": "6194eb55-e320-4d26-9355-fbaa9dbb898d",
   "metadata": {},
   "source": [
    "锚框的生产：\n",
    "\n",
    "以每一个**像素为中心**生成：$宽度：w\\cdot s\\sqrt{r}和高度：\\frac{h\\cdot s}{\\sqrt{r}} \\qquad w,h 输入图片高宽，s锚框占图片的百分比，r锚框的高宽比$\n",
    "\n",
    "1. 取5个s，5个r，25个组合\n",
    "2. $(s_1, r_1), (s_1, r_2), \\cdots ,(s_1, r_n), (s_2, r_1), (s_3, r_1), \\cdots ,(s_n, r_1)$ 九个组合"
   ]
  },
  {
   "cell_type": "code",
   "execution_count": 44,
   "id": "4908ffee-61e6-4980-b9a1-062448c2d0be",
   "metadata": {},
   "outputs": [],
   "source": [
    "def multibox_prior(data, sizes, ratios):\n",
    "    in_height, in_width = data.shape[-2:]\n",
    "    device, num_sizes, num_ratios = data.device, len(sizes), len(ratios)\n",
    "    num_boxes_per_pixel = num_sizes + num_ratios - 1\n",
    "    size_tensor = torch.tensor(sizes, device=device)\n",
    "    ratios_tensor = torch.tensor(ratios, device=device)\n",
    "    \n",
    "    offset_h, offset_w = 0.5, 0.5\n",
    "    steps_h, steps_w = 1.0 / in_height, 1.0 / in_width\n",
    "    \n",
    "    center_h = (torch.arange(in_height, device=device) + offset_h) * steps_h\n",
    "    center_w = (torch.arange(in_width, device=device) + offset_w) * steps_w\n",
    "    shift_y, shift_x = torch.meshgrid(center_h, center_w) # 生成网格\n",
    "    shift_y, shift_x = shift_y.reshape([-1]), shift_x.reshape(-1) # 变成一行\n",
    "    \n",
    "    w = torch.cat((size_tensor * torch.sqrt(ratios_tensor[0]), size_tensor[0] * torch.sqrt(ratios_tensor[1:]))) \\\n",
    "        * in_height / in_width\n",
    "    h = torch.cat((size_tensor / torch.sqrt(ratios_tensor[0]), size_tensor[0] / torch.sqrt(ratios_tensor[1:])))\n",
    "    \n",
    "    auchor_manipulartions = torch.stack((-w, -h, w, h)).T.repeat(in_height * in_width, 1) / 2\n",
    "    out_grid = torch.stack([shift_x, shift_y, shift_x, shift_y], dim=1).repeat_interleave(num_boxes_per_pixel, dim = 0)\n",
    "    out = out_grid + auchor_manipulartions\n",
    "    return out.unsqueeze(0)"
   ]
  },
  {
   "cell_type": "code",
   "execution_count": 46,
   "id": "a881c258-2df4-4a59-a5d0-61809c7d1119",
   "metadata": {},
   "outputs": [
    {
     "data": {
      "text/plain": [
       "torch.Size([1, 144, 4])"
      ]
     },
     "execution_count": 46,
     "metadata": {},
     "output_type": "execute_result"
    }
   ],
   "source": [
    "a = multibox_prior(torch.arange(36).reshape([6, 6]), sizes=[0.2, 0.4], ratios=[0.5, 1, 2])\n",
    "a.shape"
   ]
  },
  {
   "cell_type": "code",
   "execution_count": null,
   "id": "23a78233-4b73-4efa-aa08-0d4f905e022b",
   "metadata": {},
   "outputs": [],
   "source": []
  }
 ],
 "metadata": {
  "kernelspec": {
   "display_name": "Python 3 (ipykernel)",
   "language": "python",
   "name": "python3"
  },
  "language_info": {
   "codemirror_mode": {
    "name": "ipython",
    "version": 3
   },
   "file_extension": ".py",
   "mimetype": "text/x-python",
   "name": "python",
   "nbconvert_exporter": "python",
   "pygments_lexer": "ipython3",
   "version": "3.8.16"
  }
 },
 "nbformat": 4,
 "nbformat_minor": 5
}
