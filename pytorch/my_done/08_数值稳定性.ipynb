{
 "cells": [
  {
   "attachments": {},
   "cell_type": "markdown",
   "metadata": {},
   "source": [
    "# 数值稳定性\n",
    "\n",
    "**d层神经网络**\n",
    "\n",
    "$$h^t=f_t(h^{t-1})\\quad\\text\\quad y=l\\cdot f_d\\cdots f_1(x)$$\n",
    "\n",
    "**计算l关于Wt的梯度**\n",
    "\n",
    "$$\\frac{\\partial l}{\\partial W^t}=\\frac{\\partial l}{\\partial h^d}\\frac{\\partial h^d}{\\partial h^{d-1}}\\cdots\\frac{\\partial h^t}{\\partial W^t}$$\n",
    "\n",
    "> 大量的矩阵乘法，会导致梯度爆炸，或者梯度消失\n",
    "\n",
    "**梯度爆炸问题**\n",
    "\n",
    "- 值超出值域\n",
    "    - `float16`: $\\quad6\\times10^{-5}~6\\times10^4$\n",
    "- 对学习率敏感\n",
    "\n",
    "**梯度消失的问题**\n",
    "\n",
    "- 梯度值变为零，**无论如何改变学习率，训练没有进展**\n",
    "    - 对16位更敏感\n",
    "- 对于底部层严重\n",
    "    - 越往下，矩阵乘的越多，越容易消失\n"
   ]
  },
  {
   "attachments": {},
   "cell_type": "markdown",
   "metadata": {},
   "source": [
    "# 训练更加稳定\n",
    "\n",
    "- 目标让梯度在合理值范围内：\n",
    "    - 乘法变加法：\n",
    "        - ResNet：超过一定层数，使用加法\n",
    "        - LSTM\n",
    "- 归一化\n",
    "    - 梯度归一化\n",
    "    - 梯度剪裁（超出范围，就以范围的最大值定义）\n",
    "- 合理的权重初始化以及合理的激活函数\n",
    "    - **让每一层的输出均是：均值为0，方差为固定值**"
   ]
  },
  {
   "attachments": {},
   "cell_type": "markdown",
   "metadata": {},
   "source": [
    "# 权重初始化\n",
    "\n",
    "- 在合理值区间里随机初始参数\n",
    "- 训练的开始更容易数值不稳定\n",
    "    - 远离最优解的地方表面复杂\n",
    "    - 最优解的附近一般平滑\n",
    "\n",
    "**Xavier 初始**\n",
    "\n",
    "- 难以同时保证 $n_{t-1}\\gamma_t=1$ 以及 $n_t\\gamma_t=1$ **输入输出方差不变**\n",
    "- Xavier 使得 $r_t \\frac{n_{t-1}+n_t}{2}=1\\rightarrow r_t = \\frac{2}{n_{t-1}{n_t}}$\n",
    "    - 正态分布 $N(0, \\sqrt{\\frac{2}{n_{t-1}+n_t}})$\n",
    "    - 均匀分布 $U(-\\sqrt{\\frac{6}{n_{t-1}+n_t}}, \\sqrt{\\frac{6}{n_{t-1}+n_t}})$\n",
    "- 可以根据输入输出，适配权重\n",
    "\n",
    "# 激活函数\n",
    "\n",
    "- 保证 $f(x)=ax+b\\qquad a\\sim1\\quad b\\sim 0$\n",
    "    - 泰勒展开\n",
    "        - tanh\n",
    "        - relu\n",
    "        - 4*sigmod(x)-2"
   ]
  },
  {
   "attachments": {},
   "cell_type": "markdown",
   "metadata": {},
   "source": [
    "# QA\n",
    "\n",
    "- nan,inf的处理（一般是炸了）\n",
    "    - 初始值的方差往小调\n",
    "    - learning rate 往小调"
   ]
  }
 ],
 "metadata": {
  "kernelspec": {
   "display_name": "d2l",
   "language": "python",
   "name": "python3"
  },
  "language_info": {
   "codemirror_mode": {
    "name": "ipython",
    "version": 3
   },
   "file_extension": ".py",
   "mimetype": "text/x-python",
   "name": "python",
   "nbconvert_exporter": "python",
   "pygments_lexer": "ipython3",
   "version": "3.10.9"
  },
  "orig_nbformat": 4,
  "vscode": {
   "interpreter": {
    "hash": "e68e5b16d81fa9059e1158f6a4d703d6dd8750a9ccfa1e75dbe04c34949a9a2e"
   }
  }
 },
 "nbformat": 4,
 "nbformat_minor": 2
}
