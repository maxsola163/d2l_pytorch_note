{
 "cells": [
  {
   "cell_type": "markdown",
   "id": "QLqUkcHujFc4",
   "metadata": {
    "id": "QLqUkcHujFc4"
   },
   "source": [
    "# 初始化\n",
    "\n",
    "> 提供了两种线性回归的实现，1、全部自己写，2、使用`pytorch`提供的工具"
   ]
  },
  {
   "cell_type": "code",
   "execution_count": 1,
   "id": "xXeTVncwhuvT",
   "metadata": {
    "colab": {
     "base_uri": "https://localhost:8080/"
    },
    "executionInfo": {
     "elapsed": 7874,
     "status": "ok",
     "timestamp": 1674123386065,
     "user": {
      "displayName": "周佳林",
      "userId": "18191733824795449952"
     },
     "user_tz": -480
    },
    "id": "xXeTVncwhuvT",
    "outputId": "3dcaafb8-d7e6-4545-afbd-9e9977a56107"
   },
   "outputs": [
    {
     "name": "stdout",
     "output_type": "stream",
     "text": [
      "Looking in indexes: https://pypi.douban.com/simple\n",
      "Requirement already satisfied: matplotlib_inline in /home/maxsola/miniconda3/envs/d2l/lib/python3.8/site-packages (0.1.6)\n",
      "Requirement already satisfied: traitlets in /home/maxsola/miniconda3/envs/d2l/lib/python3.8/site-packages (from matplotlib_inline) (5.8.1)\n",
      "Note: you may need to restart the kernel to use updated packages.\n"
     ]
    }
   ],
   "source": [
    "%pip install matplotlib_inline"
   ]
  },
  {
   "cell_type": "markdown",
   "id": "P2SvfPkBi7nd",
   "metadata": {
    "id": "P2SvfPkBi7nd"
   },
   "source": [
    "# 自己做"
   ]
  },
  {
   "cell_type": "code",
   "execution_count": 2,
   "id": "92d07f9a",
   "metadata": {
    "id": "92d07f9a"
   },
   "outputs": [],
   "source": [
    "%matplotlib inline \n",
    "from matplotlib import pyplot as plt\n",
    "from matplotlib_inline import backend_inline as bcil\n",
    "import random\n",
    "import torch\n",
    "from torch.utils import data\n",
    "from torch import nn"
   ]
  },
  {
   "cell_type": "markdown",
   "id": "8b04513d",
   "metadata": {
    "id": "8b04513d"
   },
   "source": [
    "数据集生成"
   ]
  },
  {
   "cell_type": "code",
   "execution_count": 3,
   "id": "240a0c40",
   "metadata": {
    "id": "240a0c40"
   },
   "outputs": [],
   "source": [
    "def synthetic_data(w, b, num_examples):  \n",
    "    \"\"\"生成y=Xw+b+噪声\"\"\"\n",
    "    X = torch.normal(0, 1, (num_examples, len(w)))\n",
    "    y = torch.matmul(X, w) + b # matmul() 对比 mm() 可以实现广播\n",
    "    y += torch.normal(0, 0.01, y.shape)\n",
    "    return X, y.reshape((-1, 1)) # reshape中-1表示自动计算\n",
    "\n",
    "true_w = torch.tensor([2, -3.4])\n",
    "true_b = 4.2\n",
    "features, labels = synthetic_data(true_w, true_b, 1000)"
   ]
  },
  {
   "cell_type": "code",
   "execution_count": 4,
   "id": "5060ea12",
   "metadata": {
    "colab": {
     "base_uri": "https://localhost:8080/"
    },
    "executionInfo": {
     "elapsed": 23,
     "status": "ok",
     "timestamp": 1674123386067,
     "user": {
      "displayName": "周佳林",
      "userId": "18191733824795449952"
     },
     "user_tz": -480
    },
    "id": "5060ea12",
    "outputId": "ae58ca8b-7b9d-44da-fa20-13cdc6a1adb0"
   },
   "outputs": [
    {
     "data": {
      "text/plain": [
       "(torch.Size([1000, 2]), torch.Size([1000, 1]))"
      ]
     },
     "execution_count": 4,
     "metadata": {},
     "output_type": "execute_result"
    }
   ],
   "source": [
    "features.shape, labels.shape"
   ]
  },
  {
   "cell_type": "code",
   "execution_count": 5,
   "id": "bc41acfb",
   "metadata": {
    "colab": {
     "base_uri": "https://localhost:8080/"
    },
    "executionInfo": {
     "elapsed": 21,
     "status": "ok",
     "timestamp": 1674123386067,
     "user": {
      "displayName": "周佳林",
      "userId": "18191733824795449952"
     },
     "user_tz": -480
    },
    "id": "bc41acfb",
    "outputId": "241fff00-8267-44da-f0ce-b6a0c894aed8"
   },
   "outputs": [
    {
     "data": {
      "text/plain": [
       "(tensor([1.3873, 0.9681]), tensor([3.6784]))"
      ]
     },
     "execution_count": 5,
     "metadata": {},
     "output_type": "execute_result"
    }
   ],
   "source": [
    "features[0], labels[0]"
   ]
  },
  {
   "cell_type": "code",
   "execution_count": 6,
   "id": "d7ec17e8",
   "metadata": {
    "colab": {
     "base_uri": "https://localhost:8080/",
     "height": 261
    },
    "executionInfo": {
     "elapsed": 470,
     "status": "ok",
     "timestamp": 1674123386518,
     "user": {
      "displayName": "周佳林",
      "userId": "18191733824795449952"
     },
     "user_tz": -480
    },
    "id": "d7ec17e8",
    "outputId": "df06ccea-dc33-481d-b439-0a3b9104bd3c"
   },
   "outputs": [
    {
     "data": {
      "text/plain": [
       "' numpy() 不放到梯度中 '"
      ]
     },
     "execution_count": 6,
     "metadata": {},
     "output_type": "execute_result"
    },
    {
     "data": {
      "image/svg+xml": "<?xml version=\"1.0\" encoding=\"utf-8\" standalone=\"no\"?>\n<!DOCTYPE svg PUBLIC \"-//W3C//DTD SVG 1.1//EN\"\n  \"http://www.w3.org/Graphics/SVG/1.1/DTD/svg11.dtd\">\n<svg xmlns:xlink=\"http://www.w3.org/1999/xlink\" width=\"237.804688pt\" height=\"169.678125pt\" viewBox=\"0 0 237.804688 169.678125\" xmlns=\"http://www.w3.org/2000/svg\" version=\"1.1\">\n <metadata>\n  <rdf:RDF xmlns:dc=\"http://purl.org/dc/elements/1.1/\" xmlns:cc=\"http://creativecommons.org/ns#\" xmlns:rdf=\"http://www.w3.org/1999/02/22-rdf-syntax-ns#\">\n   <cc:Work>\n    <dc:type rdf:resource=\"http://purl.org/dc/dcmitype/StillImage\"/>\n    <dc:date>2023-01-26T09:59:34.582179</dc:date>\n    <dc:format>image/svg+xml</dc:format>\n    <dc:creator>\n     <cc:Agent>\n      <dc:title>Matplotlib v3.6.3, https://matplotlib.org/</dc:title>\n     </cc:Agent>\n    </dc:creator>\n   </cc:Work>\n  </rdf:RDF>\n </metadata>\n <defs>\n  <style type=\"text/css\">*{stroke-linejoin: round; stroke-linecap: butt}</style>\n </defs>\n <g id=\"figure_1\">\n  <g id=\"patch_1\">\n   <path d=\"M 0 169.678125 \nL 237.804688 169.678125 \nL 237.804688 0 \nL 0 0 \nz\n\" style=\"fill: #ffffff\"/>\n  </g>\n  <g id=\"axes_1\">\n   <g id=\"patch_2\">\n    <path d=\"M 35.304688 145.8 \nL 230.604688 145.8 \nL 230.604688 7.2 \nL 35.304688 7.2 \nz\n\" style=\"fill: #ffffff\"/>\n   </g>\n   <g id=\"PathCollection_1\">\n    <defs>\n     <path id=\"m9c0a48bae0\" d=\"M 0 0.5 \nC 0.132602 0.5 0.25979 0.447317 0.353553 0.353553 \nC 0.447317 0.25979 0.5 0.132602 0.5 0 \nC 0.5 -0.132602 0.447317 -0.25979 0.353553 -0.353553 \nC 0.25979 -0.447317 0.132602 -0.5 0 -0.5 \nC -0.132602 -0.5 -0.25979 -0.447317 -0.353553 -0.353553 \nC -0.447317 -0.25979 -0.5 -0.132602 -0.5 0 \nC -0.5 0.132602 -0.447317 0.25979 -0.353553 0.353553 \nC -0.25979 0.447317 -0.132602 0.5 0 0.5 \nz\n\" style=\"stroke: #1f77b4\"/>\n    </defs>\n    <g clip-path=\"url(#pff8ed50fd0)\">\n     <use xlink:href=\"#m9c0a48bae0\" x=\"156.504847\" y=\"77.104789\" style=\"fill: #1f77b4; stroke: #1f77b4\"/>\n     <use xlink:href=\"#m9c0a48bae0\" x=\"100.07789\" y=\"58.699366\" style=\"fill: #1f77b4; stroke: #1f77b4\"/>\n     <use xlink:href=\"#m9c0a48bae0\" x=\"63.660554\" y=\"46.004739\" style=\"fill: #1f77b4; stroke: #1f77b4\"/>\n     <use xlink:href=\"#m9c0a48bae0\" x=\"143.405733\" y=\"84.806131\" style=\"fill: #1f77b4; stroke: #1f77b4\"/>\n     <use xlink:href=\"#m9c0a48bae0\" x=\"178.914707\" y=\"117.395598\" style=\"fill: #1f77b4; stroke: #1f77b4\"/>\n     <use xlink:href=\"#m9c0a48bae0\" x=\"155.463818\" y=\"81.643414\" style=\"fill: #1f77b4; stroke: #1f77b4\"/>\n     <use xlink:href=\"#m9c0a48bae0\" x=\"129.963979\" y=\"70.601522\" style=\"fill: #1f77b4; stroke: #1f77b4\"/>\n     <use xlink:href=\"#m9c0a48bae0\" x=\"134.270612\" y=\"65.360662\" style=\"fill: #1f77b4; stroke: #1f77b4\"/>\n     <use xlink:href=\"#m9c0a48bae0\" x=\"102.599849\" y=\"50.903937\" style=\"fill: #1f77b4; stroke: #1f77b4\"/>\n     <use xlink:href=\"#m9c0a48bae0\" x=\"147.572227\" y=\"85.265973\" style=\"fill: #1f77b4; stroke: #1f77b4\"/>\n     <use xlink:href=\"#m9c0a48bae0\" x=\"127.01709\" y=\"71.373639\" style=\"fill: #1f77b4; stroke: #1f77b4\"/>\n     <use xlink:href=\"#m9c0a48bae0\" x=\"139.730231\" y=\"90.443869\" style=\"fill: #1f77b4; stroke: #1f77b4\"/>\n     <use xlink:href=\"#m9c0a48bae0\" x=\"161.126227\" y=\"103.299067\" style=\"fill: #1f77b4; stroke: #1f77b4\"/>\n     <use xlink:href=\"#m9c0a48bae0\" x=\"131.966042\" y=\"82.21328\" style=\"fill: #1f77b4; stroke: #1f77b4\"/>\n     <use xlink:href=\"#m9c0a48bae0\" x=\"132.222145\" y=\"74.282822\" style=\"fill: #1f77b4; stroke: #1f77b4\"/>\n     <use xlink:href=\"#m9c0a48bae0\" x=\"159.696784\" y=\"76.252383\" style=\"fill: #1f77b4; stroke: #1f77b4\"/>\n     <use xlink:href=\"#m9c0a48bae0\" x=\"93.881981\" y=\"62.570843\" style=\"fill: #1f77b4; stroke: #1f77b4\"/>\n     <use xlink:href=\"#m9c0a48bae0\" x=\"170.080321\" y=\"83.256092\" style=\"fill: #1f77b4; stroke: #1f77b4\"/>\n     <use xlink:href=\"#m9c0a48bae0\" x=\"122.500978\" y=\"62.316123\" style=\"fill: #1f77b4; stroke: #1f77b4\"/>\n     <use xlink:href=\"#m9c0a48bae0\" x=\"163.187417\" y=\"96.212063\" style=\"fill: #1f77b4; stroke: #1f77b4\"/>\n     <use xlink:href=\"#m9c0a48bae0\" x=\"101.770066\" y=\"79.942863\" style=\"fill: #1f77b4; stroke: #1f77b4\"/>\n     <use xlink:href=\"#m9c0a48bae0\" x=\"97.454554\" y=\"48.705236\" style=\"fill: #1f77b4; stroke: #1f77b4\"/>\n     <use xlink:href=\"#m9c0a48bae0\" x=\"128.169245\" y=\"71.282971\" style=\"fill: #1f77b4; stroke: #1f77b4\"/>\n     <use xlink:href=\"#m9c0a48bae0\" x=\"87.760939\" y=\"39.717066\" style=\"fill: #1f77b4; stroke: #1f77b4\"/>\n     <use xlink:href=\"#m9c0a48bae0\" x=\"140.347255\" y=\"100.298587\" style=\"fill: #1f77b4; stroke: #1f77b4\"/>\n     <use xlink:href=\"#m9c0a48bae0\" x=\"121.336213\" y=\"68.874053\" style=\"fill: #1f77b4; stroke: #1f77b4\"/>\n     <use xlink:href=\"#m9c0a48bae0\" x=\"96.980343\" y=\"57.67353\" style=\"fill: #1f77b4; stroke: #1f77b4\"/>\n     <use xlink:href=\"#m9c0a48bae0\" x=\"124.346095\" y=\"72.087813\" style=\"fill: #1f77b4; stroke: #1f77b4\"/>\n     <use xlink:href=\"#m9c0a48bae0\" x=\"144.296523\" y=\"95.98957\" style=\"fill: #1f77b4; stroke: #1f77b4\"/>\n     <use xlink:href=\"#m9c0a48bae0\" x=\"69.805535\" y=\"53.29757\" style=\"fill: #1f77b4; stroke: #1f77b4\"/>\n     <use xlink:href=\"#m9c0a48bae0\" x=\"174.371847\" y=\"99.061204\" style=\"fill: #1f77b4; stroke: #1f77b4\"/>\n     <use xlink:href=\"#m9c0a48bae0\" x=\"185.386494\" y=\"110.358703\" style=\"fill: #1f77b4; stroke: #1f77b4\"/>\n     <use xlink:href=\"#m9c0a48bae0\" x=\"149.985146\" y=\"76.8054\" style=\"fill: #1f77b4; stroke: #1f77b4\"/>\n     <use xlink:href=\"#m9c0a48bae0\" x=\"144.448088\" y=\"73.993039\" style=\"fill: #1f77b4; stroke: #1f77b4\"/>\n     <use xlink:href=\"#m9c0a48bae0\" x=\"189.250923\" y=\"98.980819\" style=\"fill: #1f77b4; stroke: #1f77b4\"/>\n     <use xlink:href=\"#m9c0a48bae0\" x=\"179.534968\" y=\"98.371216\" style=\"fill: #1f77b4; stroke: #1f77b4\"/>\n     <use xlink:href=\"#m9c0a48bae0\" x=\"111.090558\" y=\"70.446751\" style=\"fill: #1f77b4; stroke: #1f77b4\"/>\n     <use xlink:href=\"#m9c0a48bae0\" x=\"98.024581\" y=\"83.224272\" style=\"fill: #1f77b4; stroke: #1f77b4\"/>\n     <use xlink:href=\"#m9c0a48bae0\" x=\"119.51003\" y=\"66.391772\" style=\"fill: #1f77b4; stroke: #1f77b4\"/>\n     <use xlink:href=\"#m9c0a48bae0\" x=\"102.999575\" y=\"61.4696\" style=\"fill: #1f77b4; stroke: #1f77b4\"/>\n     <use xlink:href=\"#m9c0a48bae0\" x=\"107.646735\" y=\"50.035355\" style=\"fill: #1f77b4; stroke: #1f77b4\"/>\n     <use xlink:href=\"#m9c0a48bae0\" x=\"185.002721\" y=\"108.000063\" style=\"fill: #1f77b4; stroke: #1f77b4\"/>\n     <use xlink:href=\"#m9c0a48bae0\" x=\"114.466183\" y=\"57.070816\" style=\"fill: #1f77b4; stroke: #1f77b4\"/>\n     <use xlink:href=\"#m9c0a48bae0\" x=\"189.695129\" y=\"109.514555\" style=\"fill: #1f77b4; stroke: #1f77b4\"/>\n     <use xlink:href=\"#m9c0a48bae0\" x=\"160.866695\" y=\"91.676373\" style=\"fill: #1f77b4; stroke: #1f77b4\"/>\n     <use xlink:href=\"#m9c0a48bae0\" x=\"185.536548\" y=\"104.108224\" style=\"fill: #1f77b4; stroke: #1f77b4\"/>\n     <use xlink:href=\"#m9c0a48bae0\" x=\"154.197847\" y=\"93.088636\" style=\"fill: #1f77b4; stroke: #1f77b4\"/>\n     <use xlink:href=\"#m9c0a48bae0\" x=\"59.344836\" y=\"33.875827\" style=\"fill: #1f77b4; stroke: #1f77b4\"/>\n     <use xlink:href=\"#m9c0a48bae0\" x=\"109.133782\" y=\"56.725368\" style=\"fill: #1f77b4; stroke: #1f77b4\"/>\n     <use xlink:href=\"#m9c0a48bae0\" x=\"114.739928\" y=\"72.172667\" style=\"fill: #1f77b4; stroke: #1f77b4\"/>\n     <use xlink:href=\"#m9c0a48bae0\" x=\"129.499763\" y=\"78.989233\" style=\"fill: #1f77b4; stroke: #1f77b4\"/>\n     <use xlink:href=\"#m9c0a48bae0\" x=\"138.306807\" y=\"80.407564\" style=\"fill: #1f77b4; stroke: #1f77b4\"/>\n     <use xlink:href=\"#m9c0a48bae0\" x=\"117.534493\" y=\"65.629427\" style=\"fill: #1f77b4; stroke: #1f77b4\"/>\n     <use xlink:href=\"#m9c0a48bae0\" x=\"142.899131\" y=\"86.543629\" style=\"fill: #1f77b4; stroke: #1f77b4\"/>\n     <use xlink:href=\"#m9c0a48bae0\" x=\"81.626563\" y=\"44.235618\" style=\"fill: #1f77b4; stroke: #1f77b4\"/>\n     <use xlink:href=\"#m9c0a48bae0\" x=\"154.836809\" y=\"116.674448\" style=\"fill: #1f77b4; stroke: #1f77b4\"/>\n     <use xlink:href=\"#m9c0a48bae0\" x=\"60.952075\" y=\"33.899484\" style=\"fill: #1f77b4; stroke: #1f77b4\"/>\n     <use xlink:href=\"#m9c0a48bae0\" x=\"189.638971\" y=\"118.278019\" style=\"fill: #1f77b4; stroke: #1f77b4\"/>\n     <use xlink:href=\"#m9c0a48bae0\" x=\"178.931962\" y=\"116.866412\" style=\"fill: #1f77b4; stroke: #1f77b4\"/>\n     <use xlink:href=\"#m9c0a48bae0\" x=\"67.739374\" y=\"27.935974\" style=\"fill: #1f77b4; stroke: #1f77b4\"/>\n     <use xlink:href=\"#m9c0a48bae0\" x=\"107.369942\" y=\"55.746573\" style=\"fill: #1f77b4; stroke: #1f77b4\"/>\n     <use xlink:href=\"#m9c0a48bae0\" x=\"131.45952\" y=\"72.001423\" style=\"fill: #1f77b4; stroke: #1f77b4\"/>\n     <use xlink:href=\"#m9c0a48bae0\" x=\"133.920837\" y=\"83.673032\" style=\"fill: #1f77b4; stroke: #1f77b4\"/>\n     <use xlink:href=\"#m9c0a48bae0\" x=\"76.453715\" y=\"47.056271\" style=\"fill: #1f77b4; stroke: #1f77b4\"/>\n     <use xlink:href=\"#m9c0a48bae0\" x=\"109.388837\" y=\"63.14097\" style=\"fill: #1f77b4; stroke: #1f77b4\"/>\n     <use xlink:href=\"#m9c0a48bae0\" x=\"145.194493\" y=\"68.757521\" style=\"fill: #1f77b4; stroke: #1f77b4\"/>\n     <use xlink:href=\"#m9c0a48bae0\" x=\"92.098677\" y=\"35.009979\" style=\"fill: #1f77b4; stroke: #1f77b4\"/>\n     <use xlink:href=\"#m9c0a48bae0\" x=\"123.312216\" y=\"89.227099\" style=\"fill: #1f77b4; stroke: #1f77b4\"/>\n     <use xlink:href=\"#m9c0a48bae0\" x=\"177.753298\" y=\"113.13498\" style=\"fill: #1f77b4; stroke: #1f77b4\"/>\n     <use xlink:href=\"#m9c0a48bae0\" x=\"144.690282\" y=\"91.52841\" style=\"fill: #1f77b4; stroke: #1f77b4\"/>\n     <use xlink:href=\"#m9c0a48bae0\" x=\"135.559964\" y=\"78.843608\" style=\"fill: #1f77b4; stroke: #1f77b4\"/>\n     <use xlink:href=\"#m9c0a48bae0\" x=\"101.880862\" y=\"50.284838\" style=\"fill: #1f77b4; stroke: #1f77b4\"/>\n     <use xlink:href=\"#m9c0a48bae0\" x=\"144.824318\" y=\"82.376141\" style=\"fill: #1f77b4; stroke: #1f77b4\"/>\n     <use xlink:href=\"#m9c0a48bae0\" x=\"115.160279\" y=\"68.336275\" style=\"fill: #1f77b4; stroke: #1f77b4\"/>\n     <use xlink:href=\"#m9c0a48bae0\" x=\"126.39362\" y=\"62.738362\" style=\"fill: #1f77b4; stroke: #1f77b4\"/>\n     <use xlink:href=\"#m9c0a48bae0\" x=\"133.146437\" y=\"67.982165\" style=\"fill: #1f77b4; stroke: #1f77b4\"/>\n     <use xlink:href=\"#m9c0a48bae0\" x=\"164.169031\" y=\"80.879335\" style=\"fill: #1f77b4; stroke: #1f77b4\"/>\n     <use xlink:href=\"#m9c0a48bae0\" x=\"112.587704\" y=\"69.863059\" style=\"fill: #1f77b4; stroke: #1f77b4\"/>\n     <use xlink:href=\"#m9c0a48bae0\" x=\"104.054448\" y=\"56.953903\" style=\"fill: #1f77b4; stroke: #1f77b4\"/>\n     <use xlink:href=\"#m9c0a48bae0\" x=\"148.296944\" y=\"103.805772\" style=\"fill: #1f77b4; stroke: #1f77b4\"/>\n     <use xlink:href=\"#m9c0a48bae0\" x=\"112.660798\" y=\"71.328913\" style=\"fill: #1f77b4; stroke: #1f77b4\"/>\n     <use xlink:href=\"#m9c0a48bae0\" x=\"152.089311\" y=\"86.551555\" style=\"fill: #1f77b4; stroke: #1f77b4\"/>\n     <use xlink:href=\"#m9c0a48bae0\" x=\"143.43569\" y=\"78.715733\" style=\"fill: #1f77b4; stroke: #1f77b4\"/>\n     <use xlink:href=\"#m9c0a48bae0\" x=\"106.356279\" y=\"68.960642\" style=\"fill: #1f77b4; stroke: #1f77b4\"/>\n     <use xlink:href=\"#m9c0a48bae0\" x=\"157.450564\" y=\"96.032529\" style=\"fill: #1f77b4; stroke: #1f77b4\"/>\n     <use xlink:href=\"#m9c0a48bae0\" x=\"122.640983\" y=\"71.141071\" style=\"fill: #1f77b4; stroke: #1f77b4\"/>\n     <use xlink:href=\"#m9c0a48bae0\" x=\"121.948679\" y=\"80.075519\" style=\"fill: #1f77b4; stroke: #1f77b4\"/>\n     <use xlink:href=\"#m9c0a48bae0\" x=\"128.354691\" y=\"62.358824\" style=\"fill: #1f77b4; stroke: #1f77b4\"/>\n     <use xlink:href=\"#m9c0a48bae0\" x=\"173.827825\" y=\"104.581437\" style=\"fill: #1f77b4; stroke: #1f77b4\"/>\n     <use xlink:href=\"#m9c0a48bae0\" x=\"139.762798\" y=\"84.573668\" style=\"fill: #1f77b4; stroke: #1f77b4\"/>\n     <use xlink:href=\"#m9c0a48bae0\" x=\"87.991298\" y=\"50.484499\" style=\"fill: #1f77b4; stroke: #1f77b4\"/>\n     <use xlink:href=\"#m9c0a48bae0\" x=\"92.643251\" y=\"49.973624\" style=\"fill: #1f77b4; stroke: #1f77b4\"/>\n     <use xlink:href=\"#m9c0a48bae0\" x=\"158.966594\" y=\"86.74731\" style=\"fill: #1f77b4; stroke: #1f77b4\"/>\n     <use xlink:href=\"#m9c0a48bae0\" x=\"144.398954\" y=\"91.23391\" style=\"fill: #1f77b4; stroke: #1f77b4\"/>\n     <use xlink:href=\"#m9c0a48bae0\" x=\"169.076601\" y=\"123.042276\" style=\"fill: #1f77b4; stroke: #1f77b4\"/>\n     <use xlink:href=\"#m9c0a48bae0\" x=\"165.843496\" y=\"90.619128\" style=\"fill: #1f77b4; stroke: #1f77b4\"/>\n     <use xlink:href=\"#m9c0a48bae0\" x=\"129.622649\" y=\"85.637284\" style=\"fill: #1f77b4; stroke: #1f77b4\"/>\n     <use xlink:href=\"#m9c0a48bae0\" x=\"72.973809\" y=\"39.709568\" style=\"fill: #1f77b4; stroke: #1f77b4\"/>\n     <use xlink:href=\"#m9c0a48bae0\" x=\"84.580834\" y=\"42.102133\" style=\"fill: #1f77b4; stroke: #1f77b4\"/>\n     <use xlink:href=\"#m9c0a48bae0\" x=\"125.798025\" y=\"79.019871\" style=\"fill: #1f77b4; stroke: #1f77b4\"/>\n     <use xlink:href=\"#m9c0a48bae0\" x=\"111.534902\" y=\"58.491319\" style=\"fill: #1f77b4; stroke: #1f77b4\"/>\n     <use xlink:href=\"#m9c0a48bae0\" x=\"111.917012\" y=\"82.854741\" style=\"fill: #1f77b4; stroke: #1f77b4\"/>\n     <use xlink:href=\"#m9c0a48bae0\" x=\"104.596719\" y=\"47.161746\" style=\"fill: #1f77b4; stroke: #1f77b4\"/>\n     <use xlink:href=\"#m9c0a48bae0\" x=\"169.914005\" y=\"101.456495\" style=\"fill: #1f77b4; stroke: #1f77b4\"/>\n     <use xlink:href=\"#m9c0a48bae0\" x=\"101.624782\" y=\"52.590804\" style=\"fill: #1f77b4; stroke: #1f77b4\"/>\n     <use xlink:href=\"#m9c0a48bae0\" x=\"141.100718\" y=\"71.50307\" style=\"fill: #1f77b4; stroke: #1f77b4\"/>\n     <use xlink:href=\"#m9c0a48bae0\" x=\"141.20117\" y=\"94.097856\" style=\"fill: #1f77b4; stroke: #1f77b4\"/>\n     <use xlink:href=\"#m9c0a48bae0\" x=\"57.82133\" y=\"21.042271\" style=\"fill: #1f77b4; stroke: #1f77b4\"/>\n     <use xlink:href=\"#m9c0a48bae0\" x=\"197.022279\" y=\"136.979377\" style=\"fill: #1f77b4; stroke: #1f77b4\"/>\n     <use xlink:href=\"#m9c0a48bae0\" x=\"120.848846\" y=\"80.222304\" style=\"fill: #1f77b4; stroke: #1f77b4\"/>\n     <use xlink:href=\"#m9c0a48bae0\" x=\"86.004499\" y=\"53.485455\" style=\"fill: #1f77b4; stroke: #1f77b4\"/>\n     <use xlink:href=\"#m9c0a48bae0\" x=\"135.16534\" y=\"86.565007\" style=\"fill: #1f77b4; stroke: #1f77b4\"/>\n     <use xlink:href=\"#m9c0a48bae0\" x=\"156.915586\" y=\"90.404334\" style=\"fill: #1f77b4; stroke: #1f77b4\"/>\n     <use xlink:href=\"#m9c0a48bae0\" x=\"131.065701\" y=\"70.775702\" style=\"fill: #1f77b4; stroke: #1f77b4\"/>\n     <use xlink:href=\"#m9c0a48bae0\" x=\"111.499344\" y=\"64.689529\" style=\"fill: #1f77b4; stroke: #1f77b4\"/>\n     <use xlink:href=\"#m9c0a48bae0\" x=\"150.60656\" y=\"93.159156\" style=\"fill: #1f77b4; stroke: #1f77b4\"/>\n     <use xlink:href=\"#m9c0a48bae0\" x=\"221.727415\" y=\"123.044353\" style=\"fill: #1f77b4; stroke: #1f77b4\"/>\n     <use xlink:href=\"#m9c0a48bae0\" x=\"125.08524\" y=\"73.699162\" style=\"fill: #1f77b4; stroke: #1f77b4\"/>\n     <use xlink:href=\"#m9c0a48bae0\" x=\"148.117981\" y=\"96.036326\" style=\"fill: #1f77b4; stroke: #1f77b4\"/>\n     <use xlink:href=\"#m9c0a48bae0\" x=\"132.13385\" y=\"76.640039\" style=\"fill: #1f77b4; stroke: #1f77b4\"/>\n     <use xlink:href=\"#m9c0a48bae0\" x=\"98.467263\" y=\"54.484303\" style=\"fill: #1f77b4; stroke: #1f77b4\"/>\n     <use xlink:href=\"#m9c0a48bae0\" x=\"141.933196\" y=\"81.360443\" style=\"fill: #1f77b4; stroke: #1f77b4\"/>\n     <use xlink:href=\"#m9c0a48bae0\" x=\"134.465338\" y=\"94.813406\" style=\"fill: #1f77b4; stroke: #1f77b4\"/>\n     <use xlink:href=\"#m9c0a48bae0\" x=\"128.389257\" y=\"77.136989\" style=\"fill: #1f77b4; stroke: #1f77b4\"/>\n     <use xlink:href=\"#m9c0a48bae0\" x=\"117.893007\" y=\"73.518212\" style=\"fill: #1f77b4; stroke: #1f77b4\"/>\n     <use xlink:href=\"#m9c0a48bae0\" x=\"138.372117\" y=\"78.113559\" style=\"fill: #1f77b4; stroke: #1f77b4\"/>\n     <use xlink:href=\"#m9c0a48bae0\" x=\"78.239834\" y=\"45.033745\" style=\"fill: #1f77b4; stroke: #1f77b4\"/>\n     <use xlink:href=\"#m9c0a48bae0\" x=\"113.738277\" y=\"52.943871\" style=\"fill: #1f77b4; stroke: #1f77b4\"/>\n     <use xlink:href=\"#m9c0a48bae0\" x=\"111.031409\" y=\"58.445486\" style=\"fill: #1f77b4; stroke: #1f77b4\"/>\n     <use xlink:href=\"#m9c0a48bae0\" x=\"110.685356\" y=\"64.73492\" style=\"fill: #1f77b4; stroke: #1f77b4\"/>\n     <use xlink:href=\"#m9c0a48bae0\" x=\"108.69007\" y=\"59.098466\" style=\"fill: #1f77b4; stroke: #1f77b4\"/>\n     <use xlink:href=\"#m9c0a48bae0\" x=\"142.618675\" y=\"84.560971\" style=\"fill: #1f77b4; stroke: #1f77b4\"/>\n     <use xlink:href=\"#m9c0a48bae0\" x=\"80.731464\" y=\"48.847297\" style=\"fill: #1f77b4; stroke: #1f77b4\"/>\n     <use xlink:href=\"#m9c0a48bae0\" x=\"171.752989\" y=\"98.029549\" style=\"fill: #1f77b4; stroke: #1f77b4\"/>\n     <use xlink:href=\"#m9c0a48bae0\" x=\"159.075118\" y=\"91.955149\" style=\"fill: #1f77b4; stroke: #1f77b4\"/>\n     <use xlink:href=\"#m9c0a48bae0\" x=\"134.214361\" y=\"98.990568\" style=\"fill: #1f77b4; stroke: #1f77b4\"/>\n     <use xlink:href=\"#m9c0a48bae0\" x=\"204.206795\" y=\"128.459505\" style=\"fill: #1f77b4; stroke: #1f77b4\"/>\n     <use xlink:href=\"#m9c0a48bae0\" x=\"115.58422\" y=\"58.994998\" style=\"fill: #1f77b4; stroke: #1f77b4\"/>\n     <use xlink:href=\"#m9c0a48bae0\" x=\"156.092967\" y=\"109.147797\" style=\"fill: #1f77b4; stroke: #1f77b4\"/>\n     <use xlink:href=\"#m9c0a48bae0\" x=\"141.97643\" y=\"87.311423\" style=\"fill: #1f77b4; stroke: #1f77b4\"/>\n     <use xlink:href=\"#m9c0a48bae0\" x=\"93.291378\" y=\"57.36814\" style=\"fill: #1f77b4; stroke: #1f77b4\"/>\n     <use xlink:href=\"#m9c0a48bae0\" x=\"120.936182\" y=\"66.670019\" style=\"fill: #1f77b4; stroke: #1f77b4\"/>\n     <use xlink:href=\"#m9c0a48bae0\" x=\"108.303048\" y=\"72.268359\" style=\"fill: #1f77b4; stroke: #1f77b4\"/>\n     <use xlink:href=\"#m9c0a48bae0\" x=\"128.260632\" y=\"75.21185\" style=\"fill: #1f77b4; stroke: #1f77b4\"/>\n     <use xlink:href=\"#m9c0a48bae0\" x=\"128.447157\" y=\"56.298955\" style=\"fill: #1f77b4; stroke: #1f77b4\"/>\n     <use xlink:href=\"#m9c0a48bae0\" x=\"162.143128\" y=\"75.2011\" style=\"fill: #1f77b4; stroke: #1f77b4\"/>\n     <use xlink:href=\"#m9c0a48bae0\" x=\"109.294329\" y=\"63.546815\" style=\"fill: #1f77b4; stroke: #1f77b4\"/>\n     <use xlink:href=\"#m9c0a48bae0\" x=\"132.579554\" y=\"94.342478\" style=\"fill: #1f77b4; stroke: #1f77b4\"/>\n     <use xlink:href=\"#m9c0a48bae0\" x=\"172.35801\" y=\"97.89182\" style=\"fill: #1f77b4; stroke: #1f77b4\"/>\n     <use xlink:href=\"#m9c0a48bae0\" x=\"113.954026\" y=\"66.796358\" style=\"fill: #1f77b4; stroke: #1f77b4\"/>\n     <use xlink:href=\"#m9c0a48bae0\" x=\"107.625203\" y=\"54.895805\" style=\"fill: #1f77b4; stroke: #1f77b4\"/>\n     <use xlink:href=\"#m9c0a48bae0\" x=\"140.557437\" y=\"74.586809\" style=\"fill: #1f77b4; stroke: #1f77b4\"/>\n     <use xlink:href=\"#m9c0a48bae0\" x=\"94.693912\" y=\"57.016619\" style=\"fill: #1f77b4; stroke: #1f77b4\"/>\n     <use xlink:href=\"#m9c0a48bae0\" x=\"173.217115\" y=\"94.556811\" style=\"fill: #1f77b4; stroke: #1f77b4\"/>\n     <use xlink:href=\"#m9c0a48bae0\" x=\"121.184409\" y=\"55.528034\" style=\"fill: #1f77b4; stroke: #1f77b4\"/>\n     <use xlink:href=\"#m9c0a48bae0\" x=\"130.329266\" y=\"84.875486\" style=\"fill: #1f77b4; stroke: #1f77b4\"/>\n     <use xlink:href=\"#m9c0a48bae0\" x=\"114.011064\" y=\"53.581546\" style=\"fill: #1f77b4; stroke: #1f77b4\"/>\n     <use xlink:href=\"#m9c0a48bae0\" x=\"113.208426\" y=\"57.394347\" style=\"fill: #1f77b4; stroke: #1f77b4\"/>\n     <use xlink:href=\"#m9c0a48bae0\" x=\"119.032986\" y=\"71.346224\" style=\"fill: #1f77b4; stroke: #1f77b4\"/>\n     <use xlink:href=\"#m9c0a48bae0\" x=\"122.138206\" y=\"65.22574\" style=\"fill: #1f77b4; stroke: #1f77b4\"/>\n     <use xlink:href=\"#m9c0a48bae0\" x=\"152.64498\" y=\"100.201089\" style=\"fill: #1f77b4; stroke: #1f77b4\"/>\n     <use xlink:href=\"#m9c0a48bae0\" x=\"90.122445\" y=\"52.832537\" style=\"fill: #1f77b4; stroke: #1f77b4\"/>\n     <use xlink:href=\"#m9c0a48bae0\" x=\"161.672935\" y=\"110.256202\" style=\"fill: #1f77b4; stroke: #1f77b4\"/>\n     <use xlink:href=\"#m9c0a48bae0\" x=\"148.117896\" y=\"89.096055\" style=\"fill: #1f77b4; stroke: #1f77b4\"/>\n     <use xlink:href=\"#m9c0a48bae0\" x=\"141.544949\" y=\"75.748733\" style=\"fill: #1f77b4; stroke: #1f77b4\"/>\n     <use xlink:href=\"#m9c0a48bae0\" x=\"138.682751\" y=\"77.046715\" style=\"fill: #1f77b4; stroke: #1f77b4\"/>\n     <use xlink:href=\"#m9c0a48bae0\" x=\"134.116582\" y=\"83.60207\" style=\"fill: #1f77b4; stroke: #1f77b4\"/>\n     <use xlink:href=\"#m9c0a48bae0\" x=\"92.691902\" y=\"66.709042\" style=\"fill: #1f77b4; stroke: #1f77b4\"/>\n     <use xlink:href=\"#m9c0a48bae0\" x=\"121.165784\" y=\"54.719459\" style=\"fill: #1f77b4; stroke: #1f77b4\"/>\n     <use xlink:href=\"#m9c0a48bae0\" x=\"145.246148\" y=\"88.94044\" style=\"fill: #1f77b4; stroke: #1f77b4\"/>\n     <use xlink:href=\"#m9c0a48bae0\" x=\"77.147024\" y=\"36.644247\" style=\"fill: #1f77b4; stroke: #1f77b4\"/>\n     <use xlink:href=\"#m9c0a48bae0\" x=\"95.43387\" y=\"53.387174\" style=\"fill: #1f77b4; stroke: #1f77b4\"/>\n     <use xlink:href=\"#m9c0a48bae0\" x=\"159.719206\" y=\"85.841075\" style=\"fill: #1f77b4; stroke: #1f77b4\"/>\n     <use xlink:href=\"#m9c0a48bae0\" x=\"147.873754\" y=\"102.038644\" style=\"fill: #1f77b4; stroke: #1f77b4\"/>\n     <use xlink:href=\"#m9c0a48bae0\" x=\"112.910047\" y=\"51.406706\" style=\"fill: #1f77b4; stroke: #1f77b4\"/>\n     <use xlink:href=\"#m9c0a48bae0\" x=\"148.420273\" y=\"91.569634\" style=\"fill: #1f77b4; stroke: #1f77b4\"/>\n     <use xlink:href=\"#m9c0a48bae0\" x=\"144.434333\" y=\"79.06019\" style=\"fill: #1f77b4; stroke: #1f77b4\"/>\n     <use xlink:href=\"#m9c0a48bae0\" x=\"129.642959\" y=\"78.15185\" style=\"fill: #1f77b4; stroke: #1f77b4\"/>\n     <use xlink:href=\"#m9c0a48bae0\" x=\"80.483947\" y=\"57.971766\" style=\"fill: #1f77b4; stroke: #1f77b4\"/>\n     <use xlink:href=\"#m9c0a48bae0\" x=\"122.102143\" y=\"79.697068\" style=\"fill: #1f77b4; stroke: #1f77b4\"/>\n     <use xlink:href=\"#m9c0a48bae0\" x=\"136.459874\" y=\"79.011443\" style=\"fill: #1f77b4; stroke: #1f77b4\"/>\n     <use xlink:href=\"#m9c0a48bae0\" x=\"142.502207\" y=\"87.76416\" style=\"fill: #1f77b4; stroke: #1f77b4\"/>\n     <use xlink:href=\"#m9c0a48bae0\" x=\"123.624939\" y=\"69.205222\" style=\"fill: #1f77b4; stroke: #1f77b4\"/>\n     <use xlink:href=\"#m9c0a48bae0\" x=\"116.053987\" y=\"59.568582\" style=\"fill: #1f77b4; stroke: #1f77b4\"/>\n     <use xlink:href=\"#m9c0a48bae0\" x=\"73.968808\" y=\"52.376213\" style=\"fill: #1f77b4; stroke: #1f77b4\"/>\n     <use xlink:href=\"#m9c0a48bae0\" x=\"124.193608\" y=\"86.059386\" style=\"fill: #1f77b4; stroke: #1f77b4\"/>\n     <use xlink:href=\"#m9c0a48bae0\" x=\"122.96065\" y=\"76.594132\" style=\"fill: #1f77b4; stroke: #1f77b4\"/>\n     <use xlink:href=\"#m9c0a48bae0\" x=\"105.138022\" y=\"65.628577\" style=\"fill: #1f77b4; stroke: #1f77b4\"/>\n     <use xlink:href=\"#m9c0a48bae0\" x=\"140.699708\" y=\"84.741807\" style=\"fill: #1f77b4; stroke: #1f77b4\"/>\n     <use xlink:href=\"#m9c0a48bae0\" x=\"143.688607\" y=\"94.937001\" style=\"fill: #1f77b4; stroke: #1f77b4\"/>\n     <use xlink:href=\"#m9c0a48bae0\" x=\"148.462479\" y=\"79.375318\" style=\"fill: #1f77b4; stroke: #1f77b4\"/>\n     <use xlink:href=\"#m9c0a48bae0\" x=\"110.983204\" y=\"66.448716\" style=\"fill: #1f77b4; stroke: #1f77b4\"/>\n     <use xlink:href=\"#m9c0a48bae0\" x=\"115.825817\" y=\"74.366036\" style=\"fill: #1f77b4; stroke: #1f77b4\"/>\n     <use xlink:href=\"#m9c0a48bae0\" x=\"175.236435\" y=\"94.155938\" style=\"fill: #1f77b4; stroke: #1f77b4\"/>\n     <use xlink:href=\"#m9c0a48bae0\" x=\"98.510255\" y=\"56.238171\" style=\"fill: #1f77b4; stroke: #1f77b4\"/>\n     <use xlink:href=\"#m9c0a48bae0\" x=\"121.408369\" y=\"63.340337\" style=\"fill: #1f77b4; stroke: #1f77b4\"/>\n     <use xlink:href=\"#m9c0a48bae0\" x=\"133.043899\" y=\"67.149205\" style=\"fill: #1f77b4; stroke: #1f77b4\"/>\n     <use xlink:href=\"#m9c0a48bae0\" x=\"158.327268\" y=\"90.845918\" style=\"fill: #1f77b4; stroke: #1f77b4\"/>\n     <use xlink:href=\"#m9c0a48bae0\" x=\"132.614569\" y=\"75.823313\" style=\"fill: #1f77b4; stroke: #1f77b4\"/>\n     <use xlink:href=\"#m9c0a48bae0\" x=\"123.160687\" y=\"71.1765\" style=\"fill: #1f77b4; stroke: #1f77b4\"/>\n     <use xlink:href=\"#m9c0a48bae0\" x=\"66.065031\" y=\"36.455996\" style=\"fill: #1f77b4; stroke: #1f77b4\"/>\n     <use xlink:href=\"#m9c0a48bae0\" x=\"127.662519\" y=\"79.711053\" style=\"fill: #1f77b4; stroke: #1f77b4\"/>\n     <use xlink:href=\"#m9c0a48bae0\" x=\"129.797373\" y=\"87.263087\" style=\"fill: #1f77b4; stroke: #1f77b4\"/>\n     <use xlink:href=\"#m9c0a48bae0\" x=\"132.075252\" y=\"75.260321\" style=\"fill: #1f77b4; stroke: #1f77b4\"/>\n     <use xlink:href=\"#m9c0a48bae0\" x=\"153.817552\" y=\"99.286986\" style=\"fill: #1f77b4; stroke: #1f77b4\"/>\n     <use xlink:href=\"#m9c0a48bae0\" x=\"131.293145\" y=\"68.045962\" style=\"fill: #1f77b4; stroke: #1f77b4\"/>\n     <use xlink:href=\"#m9c0a48bae0\" x=\"102.841145\" y=\"58.609526\" style=\"fill: #1f77b4; stroke: #1f77b4\"/>\n     <use xlink:href=\"#m9c0a48bae0\" x=\"155.267514\" y=\"102.228269\" style=\"fill: #1f77b4; stroke: #1f77b4\"/>\n     <use xlink:href=\"#m9c0a48bae0\" x=\"114.075384\" y=\"79.478295\" style=\"fill: #1f77b4; stroke: #1f77b4\"/>\n     <use xlink:href=\"#m9c0a48bae0\" x=\"151.881188\" y=\"73.260804\" style=\"fill: #1f77b4; stroke: #1f77b4\"/>\n     <use xlink:href=\"#m9c0a48bae0\" x=\"95.96711\" y=\"76.74531\" style=\"fill: #1f77b4; stroke: #1f77b4\"/>\n     <use xlink:href=\"#m9c0a48bae0\" x=\"64.753242\" y=\"30.688952\" style=\"fill: #1f77b4; stroke: #1f77b4\"/>\n     <use xlink:href=\"#m9c0a48bae0\" x=\"124.605651\" y=\"65.591944\" style=\"fill: #1f77b4; stroke: #1f77b4\"/>\n     <use xlink:href=\"#m9c0a48bae0\" x=\"146.092631\" y=\"77.684496\" style=\"fill: #1f77b4; stroke: #1f77b4\"/>\n     <use xlink:href=\"#m9c0a48bae0\" x=\"122.919379\" y=\"65.252842\" style=\"fill: #1f77b4; stroke: #1f77b4\"/>\n     <use xlink:href=\"#m9c0a48bae0\" x=\"97.879541\" y=\"59.928223\" style=\"fill: #1f77b4; stroke: #1f77b4\"/>\n     <use xlink:href=\"#m9c0a48bae0\" x=\"158.795607\" y=\"71.931929\" style=\"fill: #1f77b4; stroke: #1f77b4\"/>\n     <use xlink:href=\"#m9c0a48bae0\" x=\"101.311076\" y=\"75.692332\" style=\"fill: #1f77b4; stroke: #1f77b4\"/>\n     <use xlink:href=\"#m9c0a48bae0\" x=\"109.054691\" y=\"59.138804\" style=\"fill: #1f77b4; stroke: #1f77b4\"/>\n     <use xlink:href=\"#m9c0a48bae0\" x=\"114.124169\" y=\"58.905963\" style=\"fill: #1f77b4; stroke: #1f77b4\"/>\n     <use xlink:href=\"#m9c0a48bae0\" x=\"155.45855\" y=\"90.590646\" style=\"fill: #1f77b4; stroke: #1f77b4\"/>\n     <use xlink:href=\"#m9c0a48bae0\" x=\"127.957023\" y=\"71.838819\" style=\"fill: #1f77b4; stroke: #1f77b4\"/>\n     <use xlink:href=\"#m9c0a48bae0\" x=\"130.973517\" y=\"70.934372\" style=\"fill: #1f77b4; stroke: #1f77b4\"/>\n     <use xlink:href=\"#m9c0a48bae0\" x=\"104.223499\" y=\"56.088203\" style=\"fill: #1f77b4; stroke: #1f77b4\"/>\n     <use xlink:href=\"#m9c0a48bae0\" x=\"190.786442\" y=\"105.236501\" style=\"fill: #1f77b4; stroke: #1f77b4\"/>\n     <use xlink:href=\"#m9c0a48bae0\" x=\"68.965687\" y=\"51.006657\" style=\"fill: #1f77b4; stroke: #1f77b4\"/>\n     <use xlink:href=\"#m9c0a48bae0\" x=\"174.001446\" y=\"99.135252\" style=\"fill: #1f77b4; stroke: #1f77b4\"/>\n     <use xlink:href=\"#m9c0a48bae0\" x=\"116.1133\" y=\"66.800185\" style=\"fill: #1f77b4; stroke: #1f77b4\"/>\n     <use xlink:href=\"#m9c0a48bae0\" x=\"153.898955\" y=\"95.253429\" style=\"fill: #1f77b4; stroke: #1f77b4\"/>\n     <use xlink:href=\"#m9c0a48bae0\" x=\"111.584848\" y=\"58.233246\" style=\"fill: #1f77b4; stroke: #1f77b4\"/>\n     <use xlink:href=\"#m9c0a48bae0\" x=\"117.367689\" y=\"71.196422\" style=\"fill: #1f77b4; stroke: #1f77b4\"/>\n     <use xlink:href=\"#m9c0a48bae0\" x=\"131.049631\" y=\"57.22167\" style=\"fill: #1f77b4; stroke: #1f77b4\"/>\n     <use xlink:href=\"#m9c0a48bae0\" x=\"88.716105\" y=\"47.537359\" style=\"fill: #1f77b4; stroke: #1f77b4\"/>\n     <use xlink:href=\"#m9c0a48bae0\" x=\"88.39953\" y=\"56.469208\" style=\"fill: #1f77b4; stroke: #1f77b4\"/>\n     <use xlink:href=\"#m9c0a48bae0\" x=\"138.622579\" y=\"89.909435\" style=\"fill: #1f77b4; stroke: #1f77b4\"/>\n     <use xlink:href=\"#m9c0a48bae0\" x=\"184.976915\" y=\"103.271087\" style=\"fill: #1f77b4; stroke: #1f77b4\"/>\n     <use xlink:href=\"#m9c0a48bae0\" x=\"94.756074\" y=\"56.00461\" style=\"fill: #1f77b4; stroke: #1f77b4\"/>\n     <use xlink:href=\"#m9c0a48bae0\" x=\"102.418399\" y=\"69.566431\" style=\"fill: #1f77b4; stroke: #1f77b4\"/>\n     <use xlink:href=\"#m9c0a48bae0\" x=\"168.785936\" y=\"61.938871\" style=\"fill: #1f77b4; stroke: #1f77b4\"/>\n     <use xlink:href=\"#m9c0a48bae0\" x=\"115.526764\" y=\"81.355228\" style=\"fill: #1f77b4; stroke: #1f77b4\"/>\n     <use xlink:href=\"#m9c0a48bae0\" x=\"116.091368\" y=\"70.979535\" style=\"fill: #1f77b4; stroke: #1f77b4\"/>\n     <use xlink:href=\"#m9c0a48bae0\" x=\"126.314929\" y=\"92.224587\" style=\"fill: #1f77b4; stroke: #1f77b4\"/>\n     <use xlink:href=\"#m9c0a48bae0\" x=\"114.387071\" y=\"81.17555\" style=\"fill: #1f77b4; stroke: #1f77b4\"/>\n     <use xlink:href=\"#m9c0a48bae0\" x=\"103.105128\" y=\"49.337678\" style=\"fill: #1f77b4; stroke: #1f77b4\"/>\n     <use xlink:href=\"#m9c0a48bae0\" x=\"145.147332\" y=\"72.945962\" style=\"fill: #1f77b4; stroke: #1f77b4\"/>\n     <use xlink:href=\"#m9c0a48bae0\" x=\"111.574976\" y=\"77.720197\" style=\"fill: #1f77b4; stroke: #1f77b4\"/>\n     <use xlink:href=\"#m9c0a48bae0\" x=\"138.58367\" y=\"80.99196\" style=\"fill: #1f77b4; stroke: #1f77b4\"/>\n     <use xlink:href=\"#m9c0a48bae0\" x=\"160.564065\" y=\"92.234064\" style=\"fill: #1f77b4; stroke: #1f77b4\"/>\n     <use xlink:href=\"#m9c0a48bae0\" x=\"101.099936\" y=\"47.670527\" style=\"fill: #1f77b4; stroke: #1f77b4\"/>\n     <use xlink:href=\"#m9c0a48bae0\" x=\"121.263578\" y=\"55.38762\" style=\"fill: #1f77b4; stroke: #1f77b4\"/>\n     <use xlink:href=\"#m9c0a48bae0\" x=\"156.84114\" y=\"84.281167\" style=\"fill: #1f77b4; stroke: #1f77b4\"/>\n     <use xlink:href=\"#m9c0a48bae0\" x=\"166.4652\" y=\"99.502456\" style=\"fill: #1f77b4; stroke: #1f77b4\"/>\n     <use xlink:href=\"#m9c0a48bae0\" x=\"159.250978\" y=\"84.400156\" style=\"fill: #1f77b4; stroke: #1f77b4\"/>\n     <use xlink:href=\"#m9c0a48bae0\" x=\"106.167046\" y=\"78.373762\" style=\"fill: #1f77b4; stroke: #1f77b4\"/>\n     <use xlink:href=\"#m9c0a48bae0\" x=\"216.060137\" y=\"130.961264\" style=\"fill: #1f77b4; stroke: #1f77b4\"/>\n     <use xlink:href=\"#m9c0a48bae0\" x=\"123.660794\" y=\"76.785999\" style=\"fill: #1f77b4; stroke: #1f77b4\"/>\n     <use xlink:href=\"#m9c0a48bae0\" x=\"99.543337\" y=\"57.748967\" style=\"fill: #1f77b4; stroke: #1f77b4\"/>\n     <use xlink:href=\"#m9c0a48bae0\" x=\"108.003079\" y=\"76.050957\" style=\"fill: #1f77b4; stroke: #1f77b4\"/>\n     <use xlink:href=\"#m9c0a48bae0\" x=\"138.485545\" y=\"79.942321\" style=\"fill: #1f77b4; stroke: #1f77b4\"/>\n     <use xlink:href=\"#m9c0a48bae0\" x=\"112.874142\" y=\"74.230543\" style=\"fill: #1f77b4; stroke: #1f77b4\"/>\n     <use xlink:href=\"#m9c0a48bae0\" x=\"121.057461\" y=\"71.64352\" style=\"fill: #1f77b4; stroke: #1f77b4\"/>\n     <use xlink:href=\"#m9c0a48bae0\" x=\"100.77843\" y=\"62.068717\" style=\"fill: #1f77b4; stroke: #1f77b4\"/>\n     <use xlink:href=\"#m9c0a48bae0\" x=\"121.701142\" y=\"57.391206\" style=\"fill: #1f77b4; stroke: #1f77b4\"/>\n     <use xlink:href=\"#m9c0a48bae0\" x=\"166.122854\" y=\"87.845688\" style=\"fill: #1f77b4; stroke: #1f77b4\"/>\n     <use xlink:href=\"#m9c0a48bae0\" x=\"140.518476\" y=\"85.535058\" style=\"fill: #1f77b4; stroke: #1f77b4\"/>\n     <use xlink:href=\"#m9c0a48bae0\" x=\"194.991114\" y=\"121.37701\" style=\"fill: #1f77b4; stroke: #1f77b4\"/>\n     <use xlink:href=\"#m9c0a48bae0\" x=\"87.173734\" y=\"66.452415\" style=\"fill: #1f77b4; stroke: #1f77b4\"/>\n     <use xlink:href=\"#m9c0a48bae0\" x=\"64.921064\" y=\"42.746964\" style=\"fill: #1f77b4; stroke: #1f77b4\"/>\n     <use xlink:href=\"#m9c0a48bae0\" x=\"115.295895\" y=\"64.888041\" style=\"fill: #1f77b4; stroke: #1f77b4\"/>\n     <use xlink:href=\"#m9c0a48bae0\" x=\"161.412456\" y=\"91.385876\" style=\"fill: #1f77b4; stroke: #1f77b4\"/>\n     <use xlink:href=\"#m9c0a48bae0\" x=\"184.356502\" y=\"82.618595\" style=\"fill: #1f77b4; stroke: #1f77b4\"/>\n     <use xlink:href=\"#m9c0a48bae0\" x=\"94.328057\" y=\"54.831809\" style=\"fill: #1f77b4; stroke: #1f77b4\"/>\n     <use xlink:href=\"#m9c0a48bae0\" x=\"136.25302\" y=\"82.168758\" style=\"fill: #1f77b4; stroke: #1f77b4\"/>\n     <use xlink:href=\"#m9c0a48bae0\" x=\"160.081143\" y=\"81.455871\" style=\"fill: #1f77b4; stroke: #1f77b4\"/>\n     <use xlink:href=\"#m9c0a48bae0\" x=\"186.861618\" y=\"111.257415\" style=\"fill: #1f77b4; stroke: #1f77b4\"/>\n     <use xlink:href=\"#m9c0a48bae0\" x=\"69.526479\" y=\"21.163003\" style=\"fill: #1f77b4; stroke: #1f77b4\"/>\n     <use xlink:href=\"#m9c0a48bae0\" x=\"69.341186\" y=\"65.244976\" style=\"fill: #1f77b4; stroke: #1f77b4\"/>\n     <use xlink:href=\"#m9c0a48bae0\" x=\"127.64612\" y=\"78.954208\" style=\"fill: #1f77b4; stroke: #1f77b4\"/>\n     <use xlink:href=\"#m9c0a48bae0\" x=\"115.257692\" y=\"64.42977\" style=\"fill: #1f77b4; stroke: #1f77b4\"/>\n     <use xlink:href=\"#m9c0a48bae0\" x=\"122.19677\" y=\"92.747348\" style=\"fill: #1f77b4; stroke: #1f77b4\"/>\n     <use xlink:href=\"#m9c0a48bae0\" x=\"117.501533\" y=\"71.501752\" style=\"fill: #1f77b4; stroke: #1f77b4\"/>\n     <use xlink:href=\"#m9c0a48bae0\" x=\"122.500152\" y=\"63.271842\" style=\"fill: #1f77b4; stroke: #1f77b4\"/>\n     <use xlink:href=\"#m9c0a48bae0\" x=\"144.500051\" y=\"87.788798\" style=\"fill: #1f77b4; stroke: #1f77b4\"/>\n     <use xlink:href=\"#m9c0a48bae0\" x=\"111.600164\" y=\"100.693772\" style=\"fill: #1f77b4; stroke: #1f77b4\"/>\n     <use xlink:href=\"#m9c0a48bae0\" x=\"133.177174\" y=\"76.961448\" style=\"fill: #1f77b4; stroke: #1f77b4\"/>\n     <use xlink:href=\"#m9c0a48bae0\" x=\"80.794715\" y=\"60.119499\" style=\"fill: #1f77b4; stroke: #1f77b4\"/>\n     <use xlink:href=\"#m9c0a48bae0\" x=\"134.658462\" y=\"82.269786\" style=\"fill: #1f77b4; stroke: #1f77b4\"/>\n     <use xlink:href=\"#m9c0a48bae0\" x=\"113.953057\" y=\"64.822272\" style=\"fill: #1f77b4; stroke: #1f77b4\"/>\n     <use xlink:href=\"#m9c0a48bae0\" x=\"114.130568\" y=\"88.854821\" style=\"fill: #1f77b4; stroke: #1f77b4\"/>\n     <use xlink:href=\"#m9c0a48bae0\" x=\"144.723278\" y=\"94.2494\" style=\"fill: #1f77b4; stroke: #1f77b4\"/>\n     <use xlink:href=\"#m9c0a48bae0\" x=\"121.961414\" y=\"69.259085\" style=\"fill: #1f77b4; stroke: #1f77b4\"/>\n     <use xlink:href=\"#m9c0a48bae0\" x=\"148.206326\" y=\"85.043815\" style=\"fill: #1f77b4; stroke: #1f77b4\"/>\n     <use xlink:href=\"#m9c0a48bae0\" x=\"106.605401\" y=\"65.625162\" style=\"fill: #1f77b4; stroke: #1f77b4\"/>\n     <use xlink:href=\"#m9c0a48bae0\" x=\"170.529938\" y=\"111.342196\" style=\"fill: #1f77b4; stroke: #1f77b4\"/>\n     <use xlink:href=\"#m9c0a48bae0\" x=\"128.18985\" y=\"51.5305\" style=\"fill: #1f77b4; stroke: #1f77b4\"/>\n     <use xlink:href=\"#m9c0a48bae0\" x=\"131.869875\" y=\"76.824983\" style=\"fill: #1f77b4; stroke: #1f77b4\"/>\n     <use xlink:href=\"#m9c0a48bae0\" x=\"76.344158\" y=\"36.8636\" style=\"fill: #1f77b4; stroke: #1f77b4\"/>\n     <use xlink:href=\"#m9c0a48bae0\" x=\"125.122695\" y=\"59.840492\" style=\"fill: #1f77b4; stroke: #1f77b4\"/>\n     <use xlink:href=\"#m9c0a48bae0\" x=\"150.554419\" y=\"81.716903\" style=\"fill: #1f77b4; stroke: #1f77b4\"/>\n     <use xlink:href=\"#m9c0a48bae0\" x=\"100.355476\" y=\"41.117991\" style=\"fill: #1f77b4; stroke: #1f77b4\"/>\n     <use xlink:href=\"#m9c0a48bae0\" x=\"94.229852\" y=\"61.265233\" style=\"fill: #1f77b4; stroke: #1f77b4\"/>\n     <use xlink:href=\"#m9c0a48bae0\" x=\"120.798935\" y=\"61.980207\" style=\"fill: #1f77b4; stroke: #1f77b4\"/>\n     <use xlink:href=\"#m9c0a48bae0\" x=\"119.718889\" y=\"71.110134\" style=\"fill: #1f77b4; stroke: #1f77b4\"/>\n     <use xlink:href=\"#m9c0a48bae0\" x=\"141.704585\" y=\"82.561571\" style=\"fill: #1f77b4; stroke: #1f77b4\"/>\n     <use xlink:href=\"#m9c0a48bae0\" x=\"195.978544\" y=\"119.031416\" style=\"fill: #1f77b4; stroke: #1f77b4\"/>\n     <use xlink:href=\"#m9c0a48bae0\" x=\"91.220797\" y=\"72.875542\" style=\"fill: #1f77b4; stroke: #1f77b4\"/>\n     <use xlink:href=\"#m9c0a48bae0\" x=\"103.610535\" y=\"55.71905\" style=\"fill: #1f77b4; stroke: #1f77b4\"/>\n     <use xlink:href=\"#m9c0a48bae0\" x=\"141.578634\" y=\"77.934121\" style=\"fill: #1f77b4; stroke: #1f77b4\"/>\n     <use xlink:href=\"#m9c0a48bae0\" x=\"193.91634\" y=\"116.658586\" style=\"fill: #1f77b4; stroke: #1f77b4\"/>\n     <use xlink:href=\"#m9c0a48bae0\" x=\"171.639402\" y=\"87.345878\" style=\"fill: #1f77b4; stroke: #1f77b4\"/>\n     <use xlink:href=\"#m9c0a48bae0\" x=\"116.523858\" y=\"88.918721\" style=\"fill: #1f77b4; stroke: #1f77b4\"/>\n     <use xlink:href=\"#m9c0a48bae0\" x=\"128.299901\" y=\"82.329052\" style=\"fill: #1f77b4; stroke: #1f77b4\"/>\n     <use xlink:href=\"#m9c0a48bae0\" x=\"155.951057\" y=\"106.252583\" style=\"fill: #1f77b4; stroke: #1f77b4\"/>\n     <use xlink:href=\"#m9c0a48bae0\" x=\"148.804736\" y=\"95.79306\" style=\"fill: #1f77b4; stroke: #1f77b4\"/>\n     <use xlink:href=\"#m9c0a48bae0\" x=\"149.330765\" y=\"85.82899\" style=\"fill: #1f77b4; stroke: #1f77b4\"/>\n     <use xlink:href=\"#m9c0a48bae0\" x=\"109.811462\" y=\"71.679848\" style=\"fill: #1f77b4; stroke: #1f77b4\"/>\n     <use xlink:href=\"#m9c0a48bae0\" x=\"112.153991\" y=\"67.571159\" style=\"fill: #1f77b4; stroke: #1f77b4\"/>\n     <use xlink:href=\"#m9c0a48bae0\" x=\"168.680578\" y=\"112.200256\" style=\"fill: #1f77b4; stroke: #1f77b4\"/>\n     <use xlink:href=\"#m9c0a48bae0\" x=\"131.317797\" y=\"78.688998\" style=\"fill: #1f77b4; stroke: #1f77b4\"/>\n     <use xlink:href=\"#m9c0a48bae0\" x=\"102.215313\" y=\"57.921037\" style=\"fill: #1f77b4; stroke: #1f77b4\"/>\n     <use xlink:href=\"#m9c0a48bae0\" x=\"83.246435\" y=\"62.27297\" style=\"fill: #1f77b4; stroke: #1f77b4\"/>\n     <use xlink:href=\"#m9c0a48bae0\" x=\"197.168772\" y=\"108.278308\" style=\"fill: #1f77b4; stroke: #1f77b4\"/>\n     <use xlink:href=\"#m9c0a48bae0\" x=\"141.747943\" y=\"80.203543\" style=\"fill: #1f77b4; stroke: #1f77b4\"/>\n     <use xlink:href=\"#m9c0a48bae0\" x=\"156.149605\" y=\"88.894812\" style=\"fill: #1f77b4; stroke: #1f77b4\"/>\n     <use xlink:href=\"#m9c0a48bae0\" x=\"45.605122\" y=\"25.440509\" style=\"fill: #1f77b4; stroke: #1f77b4\"/>\n     <use xlink:href=\"#m9c0a48bae0\" x=\"104.678324\" y=\"59.393487\" style=\"fill: #1f77b4; stroke: #1f77b4\"/>\n     <use xlink:href=\"#m9c0a48bae0\" x=\"181.334104\" y=\"107.210478\" style=\"fill: #1f77b4; stroke: #1f77b4\"/>\n     <use xlink:href=\"#m9c0a48bae0\" x=\"155.523844\" y=\"98.175108\" style=\"fill: #1f77b4; stroke: #1f77b4\"/>\n     <use xlink:href=\"#m9c0a48bae0\" x=\"74.293042\" y=\"17.972937\" style=\"fill: #1f77b4; stroke: #1f77b4\"/>\n     <use xlink:href=\"#m9c0a48bae0\" x=\"178.835735\" y=\"106.038874\" style=\"fill: #1f77b4; stroke: #1f77b4\"/>\n     <use xlink:href=\"#m9c0a48bae0\" x=\"138.089112\" y=\"73.67313\" style=\"fill: #1f77b4; stroke: #1f77b4\"/>\n     <use xlink:href=\"#m9c0a48bae0\" x=\"206.919813\" y=\"114.493313\" style=\"fill: #1f77b4; stroke: #1f77b4\"/>\n     <use xlink:href=\"#m9c0a48bae0\" x=\"127.526224\" y=\"84.85172\" style=\"fill: #1f77b4; stroke: #1f77b4\"/>\n     <use xlink:href=\"#m9c0a48bae0\" x=\"130.896737\" y=\"76.315175\" style=\"fill: #1f77b4; stroke: #1f77b4\"/>\n     <use xlink:href=\"#m9c0a48bae0\" x=\"153.46848\" y=\"106.121249\" style=\"fill: #1f77b4; stroke: #1f77b4\"/>\n     <use xlink:href=\"#m9c0a48bae0\" x=\"123.696702\" y=\"63.833481\" style=\"fill: #1f77b4; stroke: #1f77b4\"/>\n     <use xlink:href=\"#m9c0a48bae0\" x=\"116.852581\" y=\"68.589226\" style=\"fill: #1f77b4; stroke: #1f77b4\"/>\n     <use xlink:href=\"#m9c0a48bae0\" x=\"128.893126\" y=\"68.029838\" style=\"fill: #1f77b4; stroke: #1f77b4\"/>\n     <use xlink:href=\"#m9c0a48bae0\" x=\"126.060706\" y=\"52.972794\" style=\"fill: #1f77b4; stroke: #1f77b4\"/>\n     <use xlink:href=\"#m9c0a48bae0\" x=\"151.846401\" y=\"94.559243\" style=\"fill: #1f77b4; stroke: #1f77b4\"/>\n     <use xlink:href=\"#m9c0a48bae0\" x=\"146.497934\" y=\"70.999992\" style=\"fill: #1f77b4; stroke: #1f77b4\"/>\n     <use xlink:href=\"#m9c0a48bae0\" x=\"91.344413\" y=\"45.928643\" style=\"fill: #1f77b4; stroke: #1f77b4\"/>\n     <use xlink:href=\"#m9c0a48bae0\" x=\"129.863816\" y=\"74.044157\" style=\"fill: #1f77b4; stroke: #1f77b4\"/>\n     <use xlink:href=\"#m9c0a48bae0\" x=\"126.130723\" y=\"61.49807\" style=\"fill: #1f77b4; stroke: #1f77b4\"/>\n     <use xlink:href=\"#m9c0a48bae0\" x=\"78.865539\" y=\"47.288755\" style=\"fill: #1f77b4; stroke: #1f77b4\"/>\n     <use xlink:href=\"#m9c0a48bae0\" x=\"87.579589\" y=\"44.61379\" style=\"fill: #1f77b4; stroke: #1f77b4\"/>\n     <use xlink:href=\"#m9c0a48bae0\" x=\"140.686685\" y=\"79.221773\" style=\"fill: #1f77b4; stroke: #1f77b4\"/>\n     <use xlink:href=\"#m9c0a48bae0\" x=\"138.572644\" y=\"59.905091\" style=\"fill: #1f77b4; stroke: #1f77b4\"/>\n     <use xlink:href=\"#m9c0a48bae0\" x=\"203.536685\" y=\"119.866755\" style=\"fill: #1f77b4; stroke: #1f77b4\"/>\n     <use xlink:href=\"#m9c0a48bae0\" x=\"153.326752\" y=\"89.389137\" style=\"fill: #1f77b4; stroke: #1f77b4\"/>\n     <use xlink:href=\"#m9c0a48bae0\" x=\"148.089189\" y=\"96.862443\" style=\"fill: #1f77b4; stroke: #1f77b4\"/>\n     <use xlink:href=\"#m9c0a48bae0\" x=\"119.620185\" y=\"68.748896\" style=\"fill: #1f77b4; stroke: #1f77b4\"/>\n     <use xlink:href=\"#m9c0a48bae0\" x=\"157.221012\" y=\"93.211851\" style=\"fill: #1f77b4; stroke: #1f77b4\"/>\n     <use xlink:href=\"#m9c0a48bae0\" x=\"131.898416\" y=\"82.739954\" style=\"fill: #1f77b4; stroke: #1f77b4\"/>\n     <use xlink:href=\"#m9c0a48bae0\" x=\"143.267566\" y=\"83.989475\" style=\"fill: #1f77b4; stroke: #1f77b4\"/>\n     <use xlink:href=\"#m9c0a48bae0\" x=\"168.6889\" y=\"88.435065\" style=\"fill: #1f77b4; stroke: #1f77b4\"/>\n     <use xlink:href=\"#m9c0a48bae0\" x=\"98.520583\" y=\"55.608716\" style=\"fill: #1f77b4; stroke: #1f77b4\"/>\n     <use xlink:href=\"#m9c0a48bae0\" x=\"180.577647\" y=\"86.776253\" style=\"fill: #1f77b4; stroke: #1f77b4\"/>\n     <use xlink:href=\"#m9c0a48bae0\" x=\"141.706285\" y=\"74.53089\" style=\"fill: #1f77b4; stroke: #1f77b4\"/>\n     <use xlink:href=\"#m9c0a48bae0\" x=\"125.305825\" y=\"78.828895\" style=\"fill: #1f77b4; stroke: #1f77b4\"/>\n     <use xlink:href=\"#m9c0a48bae0\" x=\"77.608683\" y=\"52.698429\" style=\"fill: #1f77b4; stroke: #1f77b4\"/>\n     <use xlink:href=\"#m9c0a48bae0\" x=\"84.765311\" y=\"31.031141\" style=\"fill: #1f77b4; stroke: #1f77b4\"/>\n     <use xlink:href=\"#m9c0a48bae0\" x=\"117.811863\" y=\"83.525957\" style=\"fill: #1f77b4; stroke: #1f77b4\"/>\n     <use xlink:href=\"#m9c0a48bae0\" x=\"133.71022\" y=\"73.147521\" style=\"fill: #1f77b4; stroke: #1f77b4\"/>\n     <use xlink:href=\"#m9c0a48bae0\" x=\"107.404915\" y=\"68.79225\" style=\"fill: #1f77b4; stroke: #1f77b4\"/>\n     <use xlink:href=\"#m9c0a48bae0\" x=\"142.267868\" y=\"90.87395\" style=\"fill: #1f77b4; stroke: #1f77b4\"/>\n     <use xlink:href=\"#m9c0a48bae0\" x=\"126.997443\" y=\"69.197342\" style=\"fill: #1f77b4; stroke: #1f77b4\"/>\n     <use xlink:href=\"#m9c0a48bae0\" x=\"81.894761\" y=\"60.359188\" style=\"fill: #1f77b4; stroke: #1f77b4\"/>\n     <use xlink:href=\"#m9c0a48bae0\" x=\"114.31448\" y=\"66.505345\" style=\"fill: #1f77b4; stroke: #1f77b4\"/>\n     <use xlink:href=\"#m9c0a48bae0\" x=\"101.963304\" y=\"77.978722\" style=\"fill: #1f77b4; stroke: #1f77b4\"/>\n     <use xlink:href=\"#m9c0a48bae0\" x=\"159.508198\" y=\"88.313349\" style=\"fill: #1f77b4; stroke: #1f77b4\"/>\n     <use xlink:href=\"#m9c0a48bae0\" x=\"134.800823\" y=\"85.995481\" style=\"fill: #1f77b4; stroke: #1f77b4\"/>\n     <use xlink:href=\"#m9c0a48bae0\" x=\"109.809548\" y=\"66.480306\" style=\"fill: #1f77b4; stroke: #1f77b4\"/>\n     <use xlink:href=\"#m9c0a48bae0\" x=\"130.418826\" y=\"62.941978\" style=\"fill: #1f77b4; stroke: #1f77b4\"/>\n     <use xlink:href=\"#m9c0a48bae0\" x=\"127.853505\" y=\"92.224985\" style=\"fill: #1f77b4; stroke: #1f77b4\"/>\n     <use xlink:href=\"#m9c0a48bae0\" x=\"174.90431\" y=\"91.547953\" style=\"fill: #1f77b4; stroke: #1f77b4\"/>\n     <use xlink:href=\"#m9c0a48bae0\" x=\"156.963353\" y=\"88.242016\" style=\"fill: #1f77b4; stroke: #1f77b4\"/>\n     <use xlink:href=\"#m9c0a48bae0\" x=\"122.46861\" y=\"64.86554\" style=\"fill: #1f77b4; stroke: #1f77b4\"/>\n     <use xlink:href=\"#m9c0a48bae0\" x=\"95.717036\" y=\"54.673128\" style=\"fill: #1f77b4; stroke: #1f77b4\"/>\n     <use xlink:href=\"#m9c0a48bae0\" x=\"171.5635\" y=\"74.80384\" style=\"fill: #1f77b4; stroke: #1f77b4\"/>\n     <use xlink:href=\"#m9c0a48bae0\" x=\"148.740133\" y=\"90.051282\" style=\"fill: #1f77b4; stroke: #1f77b4\"/>\n     <use xlink:href=\"#m9c0a48bae0\" x=\"71.501058\" y=\"43.97357\" style=\"fill: #1f77b4; stroke: #1f77b4\"/>\n     <use xlink:href=\"#m9c0a48bae0\" x=\"102.035338\" y=\"43.264397\" style=\"fill: #1f77b4; stroke: #1f77b4\"/>\n     <use xlink:href=\"#m9c0a48bae0\" x=\"56.161528\" y=\"22.681553\" style=\"fill: #1f77b4; stroke: #1f77b4\"/>\n     <use xlink:href=\"#m9c0a48bae0\" x=\"63.966811\" y=\"39.024764\" style=\"fill: #1f77b4; stroke: #1f77b4\"/>\n     <use xlink:href=\"#m9c0a48bae0\" x=\"96.922439\" y=\"62.155952\" style=\"fill: #1f77b4; stroke: #1f77b4\"/>\n     <use xlink:href=\"#m9c0a48bae0\" x=\"111.169177\" y=\"61.590897\" style=\"fill: #1f77b4; stroke: #1f77b4\"/>\n     <use xlink:href=\"#m9c0a48bae0\" x=\"127.307355\" y=\"61.32344\" style=\"fill: #1f77b4; stroke: #1f77b4\"/>\n     <use xlink:href=\"#m9c0a48bae0\" x=\"143.497536\" y=\"65.988448\" style=\"fill: #1f77b4; stroke: #1f77b4\"/>\n     <use xlink:href=\"#m9c0a48bae0\" x=\"131.404095\" y=\"76.509361\" style=\"fill: #1f77b4; stroke: #1f77b4\"/>\n     <use xlink:href=\"#m9c0a48bae0\" x=\"118.411538\" y=\"75.438094\" style=\"fill: #1f77b4; stroke: #1f77b4\"/>\n     <use xlink:href=\"#m9c0a48bae0\" x=\"76.971699\" y=\"47.075038\" style=\"fill: #1f77b4; stroke: #1f77b4\"/>\n     <use xlink:href=\"#m9c0a48bae0\" x=\"186.271235\" y=\"101.377789\" style=\"fill: #1f77b4; stroke: #1f77b4\"/>\n     <use xlink:href=\"#m9c0a48bae0\" x=\"148.624379\" y=\"90.912111\" style=\"fill: #1f77b4; stroke: #1f77b4\"/>\n     <use xlink:href=\"#m9c0a48bae0\" x=\"128.503964\" y=\"77.118633\" style=\"fill: #1f77b4; stroke: #1f77b4\"/>\n     <use xlink:href=\"#m9c0a48bae0\" x=\"109.821469\" y=\"62.374622\" style=\"fill: #1f77b4; stroke: #1f77b4\"/>\n     <use xlink:href=\"#m9c0a48bae0\" x=\"104.267063\" y=\"73.467346\" style=\"fill: #1f77b4; stroke: #1f77b4\"/>\n     <use xlink:href=\"#m9c0a48bae0\" x=\"133.991258\" y=\"88.527664\" style=\"fill: #1f77b4; stroke: #1f77b4\"/>\n     <use xlink:href=\"#m9c0a48bae0\" x=\"95.965646\" y=\"43.651463\" style=\"fill: #1f77b4; stroke: #1f77b4\"/>\n     <use xlink:href=\"#m9c0a48bae0\" x=\"140.340143\" y=\"82.71884\" style=\"fill: #1f77b4; stroke: #1f77b4\"/>\n     <use xlink:href=\"#m9c0a48bae0\" x=\"127.255883\" y=\"73.902043\" style=\"fill: #1f77b4; stroke: #1f77b4\"/>\n     <use xlink:href=\"#m9c0a48bae0\" x=\"67.849664\" y=\"45.803467\" style=\"fill: #1f77b4; stroke: #1f77b4\"/>\n     <use xlink:href=\"#m9c0a48bae0\" x=\"129.025382\" y=\"74.465612\" style=\"fill: #1f77b4; stroke: #1f77b4\"/>\n     <use xlink:href=\"#m9c0a48bae0\" x=\"147.170049\" y=\"86.720444\" style=\"fill: #1f77b4; stroke: #1f77b4\"/>\n     <use xlink:href=\"#m9c0a48bae0\" x=\"146.173147\" y=\"81.939921\" style=\"fill: #1f77b4; stroke: #1f77b4\"/>\n     <use xlink:href=\"#m9c0a48bae0\" x=\"137.23517\" y=\"85.303382\" style=\"fill: #1f77b4; stroke: #1f77b4\"/>\n     <use xlink:href=\"#m9c0a48bae0\" x=\"108.831839\" y=\"54.025505\" style=\"fill: #1f77b4; stroke: #1f77b4\"/>\n     <use xlink:href=\"#m9c0a48bae0\" x=\"144.217687\" y=\"76.002803\" style=\"fill: #1f77b4; stroke: #1f77b4\"/>\n     <use xlink:href=\"#m9c0a48bae0\" x=\"136.773713\" y=\"70.946714\" style=\"fill: #1f77b4; stroke: #1f77b4\"/>\n     <use xlink:href=\"#m9c0a48bae0\" x=\"116.630568\" y=\"74.14323\" style=\"fill: #1f77b4; stroke: #1f77b4\"/>\n     <use xlink:href=\"#m9c0a48bae0\" x=\"98.732042\" y=\"64.94694\" style=\"fill: #1f77b4; stroke: #1f77b4\"/>\n     <use xlink:href=\"#m9c0a48bae0\" x=\"127.359455\" y=\"71.754839\" style=\"fill: #1f77b4; stroke: #1f77b4\"/>\n     <use xlink:href=\"#m9c0a48bae0\" x=\"145.746938\" y=\"95.696086\" style=\"fill: #1f77b4; stroke: #1f77b4\"/>\n     <use xlink:href=\"#m9c0a48bae0\" x=\"173.790282\" y=\"114.45061\" style=\"fill: #1f77b4; stroke: #1f77b4\"/>\n     <use xlink:href=\"#m9c0a48bae0\" x=\"147.043499\" y=\"86.004147\" style=\"fill: #1f77b4; stroke: #1f77b4\"/>\n     <use xlink:href=\"#m9c0a48bae0\" x=\"124.074887\" y=\"82.500291\" style=\"fill: #1f77b4; stroke: #1f77b4\"/>\n     <use xlink:href=\"#m9c0a48bae0\" x=\"143.46344\" y=\"79.458419\" style=\"fill: #1f77b4; stroke: #1f77b4\"/>\n     <use xlink:href=\"#m9c0a48bae0\" x=\"86.907647\" y=\"36.212259\" style=\"fill: #1f77b4; stroke: #1f77b4\"/>\n     <use xlink:href=\"#m9c0a48bae0\" x=\"123.965212\" y=\"81.560863\" style=\"fill: #1f77b4; stroke: #1f77b4\"/>\n     <use xlink:href=\"#m9c0a48bae0\" x=\"123.679744\" y=\"63.438257\" style=\"fill: #1f77b4; stroke: #1f77b4\"/>\n     <use xlink:href=\"#m9c0a48bae0\" x=\"118.911168\" y=\"58.61919\" style=\"fill: #1f77b4; stroke: #1f77b4\"/>\n     <use xlink:href=\"#m9c0a48bae0\" x=\"124.480144\" y=\"73.057496\" style=\"fill: #1f77b4; stroke: #1f77b4\"/>\n     <use xlink:href=\"#m9c0a48bae0\" x=\"134.288313\" y=\"97.333325\" style=\"fill: #1f77b4; stroke: #1f77b4\"/>\n     <use xlink:href=\"#m9c0a48bae0\" x=\"143.953495\" y=\"82.905007\" style=\"fill: #1f77b4; stroke: #1f77b4\"/>\n     <use xlink:href=\"#m9c0a48bae0\" x=\"120.527374\" y=\"71.489575\" style=\"fill: #1f77b4; stroke: #1f77b4\"/>\n     <use xlink:href=\"#m9c0a48bae0\" x=\"158.058196\" y=\"94.430764\" style=\"fill: #1f77b4; stroke: #1f77b4\"/>\n     <use xlink:href=\"#m9c0a48bae0\" x=\"159.602433\" y=\"87.509812\" style=\"fill: #1f77b4; stroke: #1f77b4\"/>\n     <use xlink:href=\"#m9c0a48bae0\" x=\"132.105741\" y=\"89.894612\" style=\"fill: #1f77b4; stroke: #1f77b4\"/>\n     <use xlink:href=\"#m9c0a48bae0\" x=\"60.765908\" y=\"26.604896\" style=\"fill: #1f77b4; stroke: #1f77b4\"/>\n     <use xlink:href=\"#m9c0a48bae0\" x=\"120.415009\" y=\"63.065357\" style=\"fill: #1f77b4; stroke: #1f77b4\"/>\n     <use xlink:href=\"#m9c0a48bae0\" x=\"122.289707\" y=\"64.219527\" style=\"fill: #1f77b4; stroke: #1f77b4\"/>\n     <use xlink:href=\"#m9c0a48bae0\" x=\"170.118093\" y=\"101.154058\" style=\"fill: #1f77b4; stroke: #1f77b4\"/>\n     <use xlink:href=\"#m9c0a48bae0\" x=\"86.686484\" y=\"50.55332\" style=\"fill: #1f77b4; stroke: #1f77b4\"/>\n     <use xlink:href=\"#m9c0a48bae0\" x=\"97.834707\" y=\"52.494917\" style=\"fill: #1f77b4; stroke: #1f77b4\"/>\n     <use xlink:href=\"#m9c0a48bae0\" x=\"167.01776\" y=\"87.853282\" style=\"fill: #1f77b4; stroke: #1f77b4\"/>\n     <use xlink:href=\"#m9c0a48bae0\" x=\"141.672154\" y=\"61.686093\" style=\"fill: #1f77b4; stroke: #1f77b4\"/>\n     <use xlink:href=\"#m9c0a48bae0\" x=\"123.628597\" y=\"65.340702\" style=\"fill: #1f77b4; stroke: #1f77b4\"/>\n     <use xlink:href=\"#m9c0a48bae0\" x=\"162.85229\" y=\"93.837071\" style=\"fill: #1f77b4; stroke: #1f77b4\"/>\n     <use xlink:href=\"#m9c0a48bae0\" x=\"105.41061\" y=\"48.807718\" style=\"fill: #1f77b4; stroke: #1f77b4\"/>\n     <use xlink:href=\"#m9c0a48bae0\" x=\"113.089188\" y=\"70.946025\" style=\"fill: #1f77b4; stroke: #1f77b4\"/>\n     <use xlink:href=\"#m9c0a48bae0\" x=\"155.201754\" y=\"85.158062\" style=\"fill: #1f77b4; stroke: #1f77b4\"/>\n     <use xlink:href=\"#m9c0a48bae0\" x=\"144.377129\" y=\"84.135179\" style=\"fill: #1f77b4; stroke: #1f77b4\"/>\n     <use xlink:href=\"#m9c0a48bae0\" x=\"82.439179\" y=\"51.423212\" style=\"fill: #1f77b4; stroke: #1f77b4\"/>\n     <use xlink:href=\"#m9c0a48bae0\" x=\"133.198189\" y=\"81.663859\" style=\"fill: #1f77b4; stroke: #1f77b4\"/>\n     <use xlink:href=\"#m9c0a48bae0\" x=\"170.594137\" y=\"97.781611\" style=\"fill: #1f77b4; stroke: #1f77b4\"/>\n     <use xlink:href=\"#m9c0a48bae0\" x=\"114.791623\" y=\"65.310838\" style=\"fill: #1f77b4; stroke: #1f77b4\"/>\n     <use xlink:href=\"#m9c0a48bae0\" x=\"91.737295\" y=\"44.320958\" style=\"fill: #1f77b4; stroke: #1f77b4\"/>\n     <use xlink:href=\"#m9c0a48bae0\" x=\"151.367261\" y=\"76.509034\" style=\"fill: #1f77b4; stroke: #1f77b4\"/>\n     <use xlink:href=\"#m9c0a48bae0\" x=\"113.904608\" y=\"70.252548\" style=\"fill: #1f77b4; stroke: #1f77b4\"/>\n     <use xlink:href=\"#m9c0a48bae0\" x=\"125.75393\" y=\"63.60399\" style=\"fill: #1f77b4; stroke: #1f77b4\"/>\n     <use xlink:href=\"#m9c0a48bae0\" x=\"86.968796\" y=\"56.497125\" style=\"fill: #1f77b4; stroke: #1f77b4\"/>\n     <use xlink:href=\"#m9c0a48bae0\" x=\"129.577791\" y=\"79.118256\" style=\"fill: #1f77b4; stroke: #1f77b4\"/>\n     <use xlink:href=\"#m9c0a48bae0\" x=\"60.529427\" y=\"34.530416\" style=\"fill: #1f77b4; stroke: #1f77b4\"/>\n     <use xlink:href=\"#m9c0a48bae0\" x=\"117.723831\" y=\"84.649702\" style=\"fill: #1f77b4; stroke: #1f77b4\"/>\n     <use xlink:href=\"#m9c0a48bae0\" x=\"114.056487\" y=\"65.179731\" style=\"fill: #1f77b4; stroke: #1f77b4\"/>\n     <use xlink:href=\"#m9c0a48bae0\" x=\"106.498144\" y=\"57.344623\" style=\"fill: #1f77b4; stroke: #1f77b4\"/>\n     <use xlink:href=\"#m9c0a48bae0\" x=\"80.437974\" y=\"60.838298\" style=\"fill: #1f77b4; stroke: #1f77b4\"/>\n     <use xlink:href=\"#m9c0a48bae0\" x=\"113.757567\" y=\"74.087466\" style=\"fill: #1f77b4; stroke: #1f77b4\"/>\n     <use xlink:href=\"#m9c0a48bae0\" x=\"138.046203\" y=\"71.69147\" style=\"fill: #1f77b4; stroke: #1f77b4\"/>\n     <use xlink:href=\"#m9c0a48bae0\" x=\"141.856263\" y=\"72.629036\" style=\"fill: #1f77b4; stroke: #1f77b4\"/>\n     <use xlink:href=\"#m9c0a48bae0\" x=\"92.992836\" y=\"51.000579\" style=\"fill: #1f77b4; stroke: #1f77b4\"/>\n     <use xlink:href=\"#m9c0a48bae0\" x=\"114.617771\" y=\"67.234574\" style=\"fill: #1f77b4; stroke: #1f77b4\"/>\n     <use xlink:href=\"#m9c0a48bae0\" x=\"90.273495\" y=\"31.225146\" style=\"fill: #1f77b4; stroke: #1f77b4\"/>\n     <use xlink:href=\"#m9c0a48bae0\" x=\"145.947972\" y=\"77.154941\" style=\"fill: #1f77b4; stroke: #1f77b4\"/>\n     <use xlink:href=\"#m9c0a48bae0\" x=\"83.771603\" y=\"48.766496\" style=\"fill: #1f77b4; stroke: #1f77b4\"/>\n     <use xlink:href=\"#m9c0a48bae0\" x=\"151.530322\" y=\"83.814279\" style=\"fill: #1f77b4; stroke: #1f77b4\"/>\n     <use xlink:href=\"#m9c0a48bae0\" x=\"110.88359\" y=\"74.085699\" style=\"fill: #1f77b4; stroke: #1f77b4\"/>\n     <use xlink:href=\"#m9c0a48bae0\" x=\"154.605246\" y=\"84.044686\" style=\"fill: #1f77b4; stroke: #1f77b4\"/>\n     <use xlink:href=\"#m9c0a48bae0\" x=\"141.981964\" y=\"80.074949\" style=\"fill: #1f77b4; stroke: #1f77b4\"/>\n     <use xlink:href=\"#m9c0a48bae0\" x=\"138.266155\" y=\"86.049381\" style=\"fill: #1f77b4; stroke: #1f77b4\"/>\n     <use xlink:href=\"#m9c0a48bae0\" x=\"78.575173\" y=\"43.022212\" style=\"fill: #1f77b4; stroke: #1f77b4\"/>\n     <use xlink:href=\"#m9c0a48bae0\" x=\"160.334216\" y=\"104.962376\" style=\"fill: #1f77b4; stroke: #1f77b4\"/>\n     <use xlink:href=\"#m9c0a48bae0\" x=\"109.137325\" y=\"61.11976\" style=\"fill: #1f77b4; stroke: #1f77b4\"/>\n     <use xlink:href=\"#m9c0a48bae0\" x=\"134.80665\" y=\"60.167922\" style=\"fill: #1f77b4; stroke: #1f77b4\"/>\n     <use xlink:href=\"#m9c0a48bae0\" x=\"137.833103\" y=\"82.494333\" style=\"fill: #1f77b4; stroke: #1f77b4\"/>\n     <use xlink:href=\"#m9c0a48bae0\" x=\"160.535451\" y=\"88.950689\" style=\"fill: #1f77b4; stroke: #1f77b4\"/>\n     <use xlink:href=\"#m9c0a48bae0\" x=\"114.545052\" y=\"64.6804\" style=\"fill: #1f77b4; stroke: #1f77b4\"/>\n     <use xlink:href=\"#m9c0a48bae0\" x=\"140.998206\" y=\"85.278714\" style=\"fill: #1f77b4; stroke: #1f77b4\"/>\n     <use xlink:href=\"#m9c0a48bae0\" x=\"171.063521\" y=\"103.678058\" style=\"fill: #1f77b4; stroke: #1f77b4\"/>\n     <use xlink:href=\"#m9c0a48bae0\" x=\"179.274176\" y=\"105.448578\" style=\"fill: #1f77b4; stroke: #1f77b4\"/>\n     <use xlink:href=\"#m9c0a48bae0\" x=\"107.529926\" y=\"61.307046\" style=\"fill: #1f77b4; stroke: #1f77b4\"/>\n     <use xlink:href=\"#m9c0a48bae0\" x=\"124.698438\" y=\"83.68264\" style=\"fill: #1f77b4; stroke: #1f77b4\"/>\n     <use xlink:href=\"#m9c0a48bae0\" x=\"129.094086\" y=\"78.16008\" style=\"fill: #1f77b4; stroke: #1f77b4\"/>\n     <use xlink:href=\"#m9c0a48bae0\" x=\"92.984729\" y=\"47.493839\" style=\"fill: #1f77b4; stroke: #1f77b4\"/>\n     <use xlink:href=\"#m9c0a48bae0\" x=\"93.057261\" y=\"26.836458\" style=\"fill: #1f77b4; stroke: #1f77b4\"/>\n     <use xlink:href=\"#m9c0a48bae0\" x=\"126.257866\" y=\"92.59462\" style=\"fill: #1f77b4; stroke: #1f77b4\"/>\n     <use xlink:href=\"#m9c0a48bae0\" x=\"119.926787\" y=\"69.293027\" style=\"fill: #1f77b4; stroke: #1f77b4\"/>\n     <use xlink:href=\"#m9c0a48bae0\" x=\"122.021188\" y=\"65.862717\" style=\"fill: #1f77b4; stroke: #1f77b4\"/>\n     <use xlink:href=\"#m9c0a48bae0\" x=\"148.296786\" y=\"75.947979\" style=\"fill: #1f77b4; stroke: #1f77b4\"/>\n     <use xlink:href=\"#m9c0a48bae0\" x=\"114.797332\" y=\"63.75614\" style=\"fill: #1f77b4; stroke: #1f77b4\"/>\n     <use xlink:href=\"#m9c0a48bae0\" x=\"108.641806\" y=\"62.962684\" style=\"fill: #1f77b4; stroke: #1f77b4\"/>\n     <use xlink:href=\"#m9c0a48bae0\" x=\"106.629626\" y=\"55.659623\" style=\"fill: #1f77b4; stroke: #1f77b4\"/>\n     <use xlink:href=\"#m9c0a48bae0\" x=\"161.508118\" y=\"99.89668\" style=\"fill: #1f77b4; stroke: #1f77b4\"/>\n     <use xlink:href=\"#m9c0a48bae0\" x=\"81.645054\" y=\"34.929601\" style=\"fill: #1f77b4; stroke: #1f77b4\"/>\n     <use xlink:href=\"#m9c0a48bae0\" x=\"119.942598\" y=\"42.873127\" style=\"fill: #1f77b4; stroke: #1f77b4\"/>\n     <use xlink:href=\"#m9c0a48bae0\" x=\"115.542429\" y=\"74.882633\" style=\"fill: #1f77b4; stroke: #1f77b4\"/>\n     <use xlink:href=\"#m9c0a48bae0\" x=\"85.878558\" y=\"46.711495\" style=\"fill: #1f77b4; stroke: #1f77b4\"/>\n     <use xlink:href=\"#m9c0a48bae0\" x=\"114.433509\" y=\"59.882186\" style=\"fill: #1f77b4; stroke: #1f77b4\"/>\n     <use xlink:href=\"#m9c0a48bae0\" x=\"167.150486\" y=\"85.969101\" style=\"fill: #1f77b4; stroke: #1f77b4\"/>\n     <use xlink:href=\"#m9c0a48bae0\" x=\"83.973827\" y=\"46.259017\" style=\"fill: #1f77b4; stroke: #1f77b4\"/>\n     <use xlink:href=\"#m9c0a48bae0\" x=\"105.769048\" y=\"57.460881\" style=\"fill: #1f77b4; stroke: #1f77b4\"/>\n     <use xlink:href=\"#m9c0a48bae0\" x=\"142.115337\" y=\"66.795518\" style=\"fill: #1f77b4; stroke: #1f77b4\"/>\n     <use xlink:href=\"#m9c0a48bae0\" x=\"112.541084\" y=\"64.288706\" style=\"fill: #1f77b4; stroke: #1f77b4\"/>\n     <use xlink:href=\"#m9c0a48bae0\" x=\"119.556276\" y=\"61.324186\" style=\"fill: #1f77b4; stroke: #1f77b4\"/>\n     <use xlink:href=\"#m9c0a48bae0\" x=\"128.871793\" y=\"78.960663\" style=\"fill: #1f77b4; stroke: #1f77b4\"/>\n     <use xlink:href=\"#m9c0a48bae0\" x=\"139.896451\" y=\"77.961395\" style=\"fill: #1f77b4; stroke: #1f77b4\"/>\n     <use xlink:href=\"#m9c0a48bae0\" x=\"105.79036\" y=\"52.08189\" style=\"fill: #1f77b4; stroke: #1f77b4\"/>\n     <use xlink:href=\"#m9c0a48bae0\" x=\"87.745787\" y=\"51.278339\" style=\"fill: #1f77b4; stroke: #1f77b4\"/>\n     <use xlink:href=\"#m9c0a48bae0\" x=\"133.428435\" y=\"79.025688\" style=\"fill: #1f77b4; stroke: #1f77b4\"/>\n     <use xlink:href=\"#m9c0a48bae0\" x=\"104.074675\" y=\"46.001215\" style=\"fill: #1f77b4; stroke: #1f77b4\"/>\n     <use xlink:href=\"#m9c0a48bae0\" x=\"133.52582\" y=\"85.696073\" style=\"fill: #1f77b4; stroke: #1f77b4\"/>\n     <use xlink:href=\"#m9c0a48bae0\" x=\"72.588544\" y=\"36.74709\" style=\"fill: #1f77b4; stroke: #1f77b4\"/>\n     <use xlink:href=\"#m9c0a48bae0\" x=\"109.599144\" y=\"72.818963\" style=\"fill: #1f77b4; stroke: #1f77b4\"/>\n     <use xlink:href=\"#m9c0a48bae0\" x=\"156.332775\" y=\"90.29117\" style=\"fill: #1f77b4; stroke: #1f77b4\"/>\n     <use xlink:href=\"#m9c0a48bae0\" x=\"87.175199\" y=\"58.942294\" style=\"fill: #1f77b4; stroke: #1f77b4\"/>\n     <use xlink:href=\"#m9c0a48bae0\" x=\"133.278698\" y=\"59.740464\" style=\"fill: #1f77b4; stroke: #1f77b4\"/>\n     <use xlink:href=\"#m9c0a48bae0\" x=\"130.64158\" y=\"69.269498\" style=\"fill: #1f77b4; stroke: #1f77b4\"/>\n     <use xlink:href=\"#m9c0a48bae0\" x=\"167.719839\" y=\"86.300957\" style=\"fill: #1f77b4; stroke: #1f77b4\"/>\n     <use xlink:href=\"#m9c0a48bae0\" x=\"167.842337\" y=\"92.211972\" style=\"fill: #1f77b4; stroke: #1f77b4\"/>\n     <use xlink:href=\"#m9c0a48bae0\" x=\"99.91211\" y=\"49.737119\" style=\"fill: #1f77b4; stroke: #1f77b4\"/>\n     <use xlink:href=\"#m9c0a48bae0\" x=\"138.537205\" y=\"97.148191\" style=\"fill: #1f77b4; stroke: #1f77b4\"/>\n     <use xlink:href=\"#m9c0a48bae0\" x=\"120.031419\" y=\"70.267745\" style=\"fill: #1f77b4; stroke: #1f77b4\"/>\n     <use xlink:href=\"#m9c0a48bae0\" x=\"75.718248\" y=\"40.657816\" style=\"fill: #1f77b4; stroke: #1f77b4\"/>\n     <use xlink:href=\"#m9c0a48bae0\" x=\"212.612411\" y=\"122.312344\" style=\"fill: #1f77b4; stroke: #1f77b4\"/>\n     <use xlink:href=\"#m9c0a48bae0\" x=\"179.359844\" y=\"108.266664\" style=\"fill: #1f77b4; stroke: #1f77b4\"/>\n     <use xlink:href=\"#m9c0a48bae0\" x=\"139.75064\" y=\"71.269065\" style=\"fill: #1f77b4; stroke: #1f77b4\"/>\n     <use xlink:href=\"#m9c0a48bae0\" x=\"137.446067\" y=\"82.998305\" style=\"fill: #1f77b4; stroke: #1f77b4\"/>\n     <use xlink:href=\"#m9c0a48bae0\" x=\"120.545205\" y=\"70.565184\" style=\"fill: #1f77b4; stroke: #1f77b4\"/>\n     <use xlink:href=\"#m9c0a48bae0\" x=\"159.875406\" y=\"103.86006\" style=\"fill: #1f77b4; stroke: #1f77b4\"/>\n     <use xlink:href=\"#m9c0a48bae0\" x=\"112.587577\" y=\"74.121273\" style=\"fill: #1f77b4; stroke: #1f77b4\"/>\n     <use xlink:href=\"#m9c0a48bae0\" x=\"114.360509\" y=\"67.082229\" style=\"fill: #1f77b4; stroke: #1f77b4\"/>\n     <use xlink:href=\"#m9c0a48bae0\" x=\"129.252875\" y=\"94.460117\" style=\"fill: #1f77b4; stroke: #1f77b4\"/>\n     <use xlink:href=\"#m9c0a48bae0\" x=\"123.472644\" y=\"67.317749\" style=\"fill: #1f77b4; stroke: #1f77b4\"/>\n     <use xlink:href=\"#m9c0a48bae0\" x=\"168.443101\" y=\"113.762283\" style=\"fill: #1f77b4; stroke: #1f77b4\"/>\n     <use xlink:href=\"#m9c0a48bae0\" x=\"140.304369\" y=\"85.873251\" style=\"fill: #1f77b4; stroke: #1f77b4\"/>\n     <use xlink:href=\"#m9c0a48bae0\" x=\"105.739732\" y=\"63.934815\" style=\"fill: #1f77b4; stroke: #1f77b4\"/>\n     <use xlink:href=\"#m9c0a48bae0\" x=\"168.570843\" y=\"122.433479\" style=\"fill: #1f77b4; stroke: #1f77b4\"/>\n     <use xlink:href=\"#m9c0a48bae0\" x=\"208.412764\" y=\"119.313075\" style=\"fill: #1f77b4; stroke: #1f77b4\"/>\n     <use xlink:href=\"#m9c0a48bae0\" x=\"71.970928\" y=\"46.60226\" style=\"fill: #1f77b4; stroke: #1f77b4\"/>\n     <use xlink:href=\"#m9c0a48bae0\" x=\"107.640667\" y=\"71.546296\" style=\"fill: #1f77b4; stroke: #1f77b4\"/>\n     <use xlink:href=\"#m9c0a48bae0\" x=\"126.358641\" y=\"73.832064\" style=\"fill: #1f77b4; stroke: #1f77b4\"/>\n     <use xlink:href=\"#m9c0a48bae0\" x=\"82.111998\" y=\"31.784528\" style=\"fill: #1f77b4; stroke: #1f77b4\"/>\n     <use xlink:href=\"#m9c0a48bae0\" x=\"113.296512\" y=\"58.128683\" style=\"fill: #1f77b4; stroke: #1f77b4\"/>\n     <use xlink:href=\"#m9c0a48bae0\" x=\"152.128782\" y=\"101.259139\" style=\"fill: #1f77b4; stroke: #1f77b4\"/>\n     <use xlink:href=\"#m9c0a48bae0\" x=\"120.972282\" y=\"77.502308\" style=\"fill: #1f77b4; stroke: #1f77b4\"/>\n     <use xlink:href=\"#m9c0a48bae0\" x=\"100.776793\" y=\"64.035381\" style=\"fill: #1f77b4; stroke: #1f77b4\"/>\n     <use xlink:href=\"#m9c0a48bae0\" x=\"116.901838\" y=\"50.328539\" style=\"fill: #1f77b4; stroke: #1f77b4\"/>\n     <use xlink:href=\"#m9c0a48bae0\" x=\"152.446462\" y=\"92.977908\" style=\"fill: #1f77b4; stroke: #1f77b4\"/>\n     <use xlink:href=\"#m9c0a48bae0\" x=\"62.785829\" y=\"45.931203\" style=\"fill: #1f77b4; stroke: #1f77b4\"/>\n     <use xlink:href=\"#m9c0a48bae0\" x=\"126.636436\" y=\"67.652418\" style=\"fill: #1f77b4; stroke: #1f77b4\"/>\n     <use xlink:href=\"#m9c0a48bae0\" x=\"123.059086\" y=\"87.503295\" style=\"fill: #1f77b4; stroke: #1f77b4\"/>\n     <use xlink:href=\"#m9c0a48bae0\" x=\"134.131235\" y=\"81.367867\" style=\"fill: #1f77b4; stroke: #1f77b4\"/>\n     <use xlink:href=\"#m9c0a48bae0\" x=\"162.574799\" y=\"75.752444\" style=\"fill: #1f77b4; stroke: #1f77b4\"/>\n     <use xlink:href=\"#m9c0a48bae0\" x=\"196.581897\" y=\"102.512447\" style=\"fill: #1f77b4; stroke: #1f77b4\"/>\n     <use xlink:href=\"#m9c0a48bae0\" x=\"117.426782\" y=\"69.758511\" style=\"fill: #1f77b4; stroke: #1f77b4\"/>\n     <use xlink:href=\"#m9c0a48bae0\" x=\"115.402318\" y=\"70.787118\" style=\"fill: #1f77b4; stroke: #1f77b4\"/>\n     <use xlink:href=\"#m9c0a48bae0\" x=\"118.888039\" y=\"57.798877\" style=\"fill: #1f77b4; stroke: #1f77b4\"/>\n     <use xlink:href=\"#m9c0a48bae0\" x=\"152.249353\" y=\"106.962414\" style=\"fill: #1f77b4; stroke: #1f77b4\"/>\n     <use xlink:href=\"#m9c0a48bae0\" x=\"157.608767\" y=\"83.160949\" style=\"fill: #1f77b4; stroke: #1f77b4\"/>\n     <use xlink:href=\"#m9c0a48bae0\" x=\"140.226195\" y=\"89.015385\" style=\"fill: #1f77b4; stroke: #1f77b4\"/>\n     <use xlink:href=\"#m9c0a48bae0\" x=\"169.101158\" y=\"106.997169\" style=\"fill: #1f77b4; stroke: #1f77b4\"/>\n     <use xlink:href=\"#m9c0a48bae0\" x=\"166.941473\" y=\"98.679818\" style=\"fill: #1f77b4; stroke: #1f77b4\"/>\n     <use xlink:href=\"#m9c0a48bae0\" x=\"117.361584\" y=\"60.732054\" style=\"fill: #1f77b4; stroke: #1f77b4\"/>\n     <use xlink:href=\"#m9c0a48bae0\" x=\"127.981698\" y=\"56.591227\" style=\"fill: #1f77b4; stroke: #1f77b4\"/>\n     <use xlink:href=\"#m9c0a48bae0\" x=\"108.017122\" y=\"43.770723\" style=\"fill: #1f77b4; stroke: #1f77b4\"/>\n     <use xlink:href=\"#m9c0a48bae0\" x=\"100.817775\" y=\"59.253633\" style=\"fill: #1f77b4; stroke: #1f77b4\"/>\n     <use xlink:href=\"#m9c0a48bae0\" x=\"94.331361\" y=\"59.352944\" style=\"fill: #1f77b4; stroke: #1f77b4\"/>\n     <use xlink:href=\"#m9c0a48bae0\" x=\"86.318655\" y=\"43.584984\" style=\"fill: #1f77b4; stroke: #1f77b4\"/>\n     <use xlink:href=\"#m9c0a48bae0\" x=\"114.195059\" y=\"67.678008\" style=\"fill: #1f77b4; stroke: #1f77b4\"/>\n     <use xlink:href=\"#m9c0a48bae0\" x=\"109.774759\" y=\"49.1944\" style=\"fill: #1f77b4; stroke: #1f77b4\"/>\n     <use xlink:href=\"#m9c0a48bae0\" x=\"137.216732\" y=\"81.819107\" style=\"fill: #1f77b4; stroke: #1f77b4\"/>\n     <use xlink:href=\"#m9c0a48bae0\" x=\"166.106689\" y=\"80.632874\" style=\"fill: #1f77b4; stroke: #1f77b4\"/>\n     <use xlink:href=\"#m9c0a48bae0\" x=\"162.383923\" y=\"99.998801\" style=\"fill: #1f77b4; stroke: #1f77b4\"/>\n     <use xlink:href=\"#m9c0a48bae0\" x=\"169.267342\" y=\"113.934632\" style=\"fill: #1f77b4; stroke: #1f77b4\"/>\n     <use xlink:href=\"#m9c0a48bae0\" x=\"138.508154\" y=\"82.801155\" style=\"fill: #1f77b4; stroke: #1f77b4\"/>\n     <use xlink:href=\"#m9c0a48bae0\" x=\"164.744159\" y=\"101.766734\" style=\"fill: #1f77b4; stroke: #1f77b4\"/>\n     <use xlink:href=\"#m9c0a48bae0\" x=\"127.677686\" y=\"74.842959\" style=\"fill: #1f77b4; stroke: #1f77b4\"/>\n     <use xlink:href=\"#m9c0a48bae0\" x=\"155.370968\" y=\"89.913638\" style=\"fill: #1f77b4; stroke: #1f77b4\"/>\n     <use xlink:href=\"#m9c0a48bae0\" x=\"98.186888\" y=\"54.782287\" style=\"fill: #1f77b4; stroke: #1f77b4\"/>\n     <use xlink:href=\"#m9c0a48bae0\" x=\"163.083302\" y=\"87.236565\" style=\"fill: #1f77b4; stroke: #1f77b4\"/>\n     <use xlink:href=\"#m9c0a48bae0\" x=\"119.257246\" y=\"56.473109\" style=\"fill: #1f77b4; stroke: #1f77b4\"/>\n     <use xlink:href=\"#m9c0a48bae0\" x=\"109.419486\" y=\"81.256048\" style=\"fill: #1f77b4; stroke: #1f77b4\"/>\n     <use xlink:href=\"#m9c0a48bae0\" x=\"110.03878\" y=\"64.982907\" style=\"fill: #1f77b4; stroke: #1f77b4\"/>\n     <use xlink:href=\"#m9c0a48bae0\" x=\"177.523508\" y=\"105.690171\" style=\"fill: #1f77b4; stroke: #1f77b4\"/>\n     <use xlink:href=\"#m9c0a48bae0\" x=\"129.344054\" y=\"70.495969\" style=\"fill: #1f77b4; stroke: #1f77b4\"/>\n     <use xlink:href=\"#m9c0a48bae0\" x=\"130.401799\" y=\"77.482765\" style=\"fill: #1f77b4; stroke: #1f77b4\"/>\n     <use xlink:href=\"#m9c0a48bae0\" x=\"138.618731\" y=\"74.757224\" style=\"fill: #1f77b4; stroke: #1f77b4\"/>\n     <use xlink:href=\"#m9c0a48bae0\" x=\"101.149155\" y=\"75.124489\" style=\"fill: #1f77b4; stroke: #1f77b4\"/>\n     <use xlink:href=\"#m9c0a48bae0\" x=\"106.702579\" y=\"57.260285\" style=\"fill: #1f77b4; stroke: #1f77b4\"/>\n     <use xlink:href=\"#m9c0a48bae0\" x=\"104.222412\" y=\"59.708955\" style=\"fill: #1f77b4; stroke: #1f77b4\"/>\n     <use xlink:href=\"#m9c0a48bae0\" x=\"136.684267\" y=\"92.807042\" style=\"fill: #1f77b4; stroke: #1f77b4\"/>\n     <use xlink:href=\"#m9c0a48bae0\" x=\"193.518166\" y=\"119.110308\" style=\"fill: #1f77b4; stroke: #1f77b4\"/>\n     <use xlink:href=\"#m9c0a48bae0\" x=\"116.577436\" y=\"77.792997\" style=\"fill: #1f77b4; stroke: #1f77b4\"/>\n     <use xlink:href=\"#m9c0a48bae0\" x=\"156.146016\" y=\"99.583112\" style=\"fill: #1f77b4; stroke: #1f77b4\"/>\n     <use xlink:href=\"#m9c0a48bae0\" x=\"142.514769\" y=\"93.607117\" style=\"fill: #1f77b4; stroke: #1f77b4\"/>\n     <use xlink:href=\"#m9c0a48bae0\" x=\"135.799991\" y=\"86.782011\" style=\"fill: #1f77b4; stroke: #1f77b4\"/>\n     <use xlink:href=\"#m9c0a48bae0\" x=\"178.998737\" y=\"110.43087\" style=\"fill: #1f77b4; stroke: #1f77b4\"/>\n     <use xlink:href=\"#m9c0a48bae0\" x=\"122.237386\" y=\"55.975217\" style=\"fill: #1f77b4; stroke: #1f77b4\"/>\n     <use xlink:href=\"#m9c0a48bae0\" x=\"144.79573\" y=\"68.791497\" style=\"fill: #1f77b4; stroke: #1f77b4\"/>\n     <use xlink:href=\"#m9c0a48bae0\" x=\"118.859103\" y=\"66.075907\" style=\"fill: #1f77b4; stroke: #1f77b4\"/>\n     <use xlink:href=\"#m9c0a48bae0\" x=\"84.324152\" y=\"58.285321\" style=\"fill: #1f77b4; stroke: #1f77b4\"/>\n     <use xlink:href=\"#m9c0a48bae0\" x=\"140.313976\" y=\"86.390225\" style=\"fill: #1f77b4; stroke: #1f77b4\"/>\n     <use xlink:href=\"#m9c0a48bae0\" x=\"108.599869\" y=\"59.652892\" style=\"fill: #1f77b4; stroke: #1f77b4\"/>\n     <use xlink:href=\"#m9c0a48bae0\" x=\"142.326931\" y=\"76.669606\" style=\"fill: #1f77b4; stroke: #1f77b4\"/>\n     <use xlink:href=\"#m9c0a48bae0\" x=\"130.956976\" y=\"69.697378\" style=\"fill: #1f77b4; stroke: #1f77b4\"/>\n     <use xlink:href=\"#m9c0a48bae0\" x=\"117.698257\" y=\"65.474261\" style=\"fill: #1f77b4; stroke: #1f77b4\"/>\n     <use xlink:href=\"#m9c0a48bae0\" x=\"131.462392\" y=\"75.638466\" style=\"fill: #1f77b4; stroke: #1f77b4\"/>\n     <use xlink:href=\"#m9c0a48bae0\" x=\"65.351632\" y=\"33.573075\" style=\"fill: #1f77b4; stroke: #1f77b4\"/>\n     <use xlink:href=\"#m9c0a48bae0\" x=\"166.650805\" y=\"117.493664\" style=\"fill: #1f77b4; stroke: #1f77b4\"/>\n     <use xlink:href=\"#m9c0a48bae0\" x=\"143.504328\" y=\"93.124138\" style=\"fill: #1f77b4; stroke: #1f77b4\"/>\n     <use xlink:href=\"#m9c0a48bae0\" x=\"129.274073\" y=\"74.879195\" style=\"fill: #1f77b4; stroke: #1f77b4\"/>\n     <use xlink:href=\"#m9c0a48bae0\" x=\"142.738143\" y=\"94.568194\" style=\"fill: #1f77b4; stroke: #1f77b4\"/>\n     <use xlink:href=\"#m9c0a48bae0\" x=\"116.500343\" y=\"62.615705\" style=\"fill: #1f77b4; stroke: #1f77b4\"/>\n     <use xlink:href=\"#m9c0a48bae0\" x=\"116.168163\" y=\"77.452968\" style=\"fill: #1f77b4; stroke: #1f77b4\"/>\n     <use xlink:href=\"#m9c0a48bae0\" x=\"176.263265\" y=\"91.626424\" style=\"fill: #1f77b4; stroke: #1f77b4\"/>\n     <use xlink:href=\"#m9c0a48bae0\" x=\"130.074513\" y=\"70.697812\" style=\"fill: #1f77b4; stroke: #1f77b4\"/>\n     <use xlink:href=\"#m9c0a48bae0\" x=\"168.268206\" y=\"81.290609\" style=\"fill: #1f77b4; stroke: #1f77b4\"/>\n     <use xlink:href=\"#m9c0a48bae0\" x=\"169.470448\" y=\"122.668548\" style=\"fill: #1f77b4; stroke: #1f77b4\"/>\n     <use xlink:href=\"#m9c0a48bae0\" x=\"177.580305\" y=\"114.599023\" style=\"fill: #1f77b4; stroke: #1f77b4\"/>\n     <use xlink:href=\"#m9c0a48bae0\" x=\"133.777906\" y=\"68.360779\" style=\"fill: #1f77b4; stroke: #1f77b4\"/>\n     <use xlink:href=\"#m9c0a48bae0\" x=\"159.18791\" y=\"105.246614\" style=\"fill: #1f77b4; stroke: #1f77b4\"/>\n     <use xlink:href=\"#m9c0a48bae0\" x=\"115.429897\" y=\"72.657667\" style=\"fill: #1f77b4; stroke: #1f77b4\"/>\n     <use xlink:href=\"#m9c0a48bae0\" x=\"122.834217\" y=\"81.363747\" style=\"fill: #1f77b4; stroke: #1f77b4\"/>\n     <use xlink:href=\"#m9c0a48bae0\" x=\"110.140697\" y=\"56.511105\" style=\"fill: #1f77b4; stroke: #1f77b4\"/>\n     <use xlink:href=\"#m9c0a48bae0\" x=\"169.113252\" y=\"87.526874\" style=\"fill: #1f77b4; stroke: #1f77b4\"/>\n     <use xlink:href=\"#m9c0a48bae0\" x=\"129.736601\" y=\"61.985091\" style=\"fill: #1f77b4; stroke: #1f77b4\"/>\n     <use xlink:href=\"#m9c0a48bae0\" x=\"81.3598\" y=\"41.709677\" style=\"fill: #1f77b4; stroke: #1f77b4\"/>\n     <use xlink:href=\"#m9c0a48bae0\" x=\"171.402029\" y=\"93.877245\" style=\"fill: #1f77b4; stroke: #1f77b4\"/>\n     <use xlink:href=\"#m9c0a48bae0\" x=\"91.035786\" y=\"43.380351\" style=\"fill: #1f77b4; stroke: #1f77b4\"/>\n     <use xlink:href=\"#m9c0a48bae0\" x=\"155.415013\" y=\"78.154908\" style=\"fill: #1f77b4; stroke: #1f77b4\"/>\n     <use xlink:href=\"#m9c0a48bae0\" x=\"147.141472\" y=\"109.545661\" style=\"fill: #1f77b4; stroke: #1f77b4\"/>\n     <use xlink:href=\"#m9c0a48bae0\" x=\"89.231218\" y=\"56.827354\" style=\"fill: #1f77b4; stroke: #1f77b4\"/>\n     <use xlink:href=\"#m9c0a48bae0\" x=\"89.926873\" y=\"54.576662\" style=\"fill: #1f77b4; stroke: #1f77b4\"/>\n     <use xlink:href=\"#m9c0a48bae0\" x=\"154.130229\" y=\"100.521966\" style=\"fill: #1f77b4; stroke: #1f77b4\"/>\n     <use xlink:href=\"#m9c0a48bae0\" x=\"102.034178\" y=\"56.428685\" style=\"fill: #1f77b4; stroke: #1f77b4\"/>\n     <use xlink:href=\"#m9c0a48bae0\" x=\"123.799841\" y=\"66.610641\" style=\"fill: #1f77b4; stroke: #1f77b4\"/>\n     <use xlink:href=\"#m9c0a48bae0\" x=\"106.612527\" y=\"45.183595\" style=\"fill: #1f77b4; stroke: #1f77b4\"/>\n     <use xlink:href=\"#m9c0a48bae0\" x=\"130.490932\" y=\"76.274401\" style=\"fill: #1f77b4; stroke: #1f77b4\"/>\n     <use xlink:href=\"#m9c0a48bae0\" x=\"194.434446\" y=\"100.407553\" style=\"fill: #1f77b4; stroke: #1f77b4\"/>\n     <use xlink:href=\"#m9c0a48bae0\" x=\"150.109104\" y=\"65.869009\" style=\"fill: #1f77b4; stroke: #1f77b4\"/>\n     <use xlink:href=\"#m9c0a48bae0\" x=\"170.258548\" y=\"89.251524\" style=\"fill: #1f77b4; stroke: #1f77b4\"/>\n     <use xlink:href=\"#m9c0a48bae0\" x=\"123.508384\" y=\"65.797909\" style=\"fill: #1f77b4; stroke: #1f77b4\"/>\n     <use xlink:href=\"#m9c0a48bae0\" x=\"99.164699\" y=\"51.626416\" style=\"fill: #1f77b4; stroke: #1f77b4\"/>\n     <use xlink:href=\"#m9c0a48bae0\" x=\"93.924882\" y=\"47.726441\" style=\"fill: #1f77b4; stroke: #1f77b4\"/>\n     <use xlink:href=\"#m9c0a48bae0\" x=\"133.769701\" y=\"100.40065\" style=\"fill: #1f77b4; stroke: #1f77b4\"/>\n     <use xlink:href=\"#m9c0a48bae0\" x=\"147.324115\" y=\"84.378444\" style=\"fill: #1f77b4; stroke: #1f77b4\"/>\n     <use xlink:href=\"#m9c0a48bae0\" x=\"151.706184\" y=\"103.846188\" style=\"fill: #1f77b4; stroke: #1f77b4\"/>\n     <use xlink:href=\"#m9c0a48bae0\" x=\"114.500444\" y=\"50.686806\" style=\"fill: #1f77b4; stroke: #1f77b4\"/>\n     <use xlink:href=\"#m9c0a48bae0\" x=\"83.183385\" y=\"31.970171\" style=\"fill: #1f77b4; stroke: #1f77b4\"/>\n     <use xlink:href=\"#m9c0a48bae0\" x=\"89.123323\" y=\"39.628516\" style=\"fill: #1f77b4; stroke: #1f77b4\"/>\n     <use xlink:href=\"#m9c0a48bae0\" x=\"119.046937\" y=\"74.638558\" style=\"fill: #1f77b4; stroke: #1f77b4\"/>\n     <use xlink:href=\"#m9c0a48bae0\" x=\"135.205866\" y=\"80.047238\" style=\"fill: #1f77b4; stroke: #1f77b4\"/>\n     <use xlink:href=\"#m9c0a48bae0\" x=\"142.209893\" y=\"81.383725\" style=\"fill: #1f77b4; stroke: #1f77b4\"/>\n     <use xlink:href=\"#m9c0a48bae0\" x=\"49.571723\" y=\"37.704802\" style=\"fill: #1f77b4; stroke: #1f77b4\"/>\n     <use xlink:href=\"#m9c0a48bae0\" x=\"163.702788\" y=\"89.215306\" style=\"fill: #1f77b4; stroke: #1f77b4\"/>\n     <use xlink:href=\"#m9c0a48bae0\" x=\"150.992927\" y=\"84.138944\" style=\"fill: #1f77b4; stroke: #1f77b4\"/>\n     <use xlink:href=\"#m9c0a48bae0\" x=\"127.988086\" y=\"67.025399\" style=\"fill: #1f77b4; stroke: #1f77b4\"/>\n     <use xlink:href=\"#m9c0a48bae0\" x=\"119.144722\" y=\"69.139274\" style=\"fill: #1f77b4; stroke: #1f77b4\"/>\n     <use xlink:href=\"#m9c0a48bae0\" x=\"153.086995\" y=\"64.374773\" style=\"fill: #1f77b4; stroke: #1f77b4\"/>\n     <use xlink:href=\"#m9c0a48bae0\" x=\"130.514619\" y=\"78.666249\" style=\"fill: #1f77b4; stroke: #1f77b4\"/>\n     <use xlink:href=\"#m9c0a48bae0\" x=\"156.400609\" y=\"96.799306\" style=\"fill: #1f77b4; stroke: #1f77b4\"/>\n     <use xlink:href=\"#m9c0a48bae0\" x=\"134.419257\" y=\"87.260275\" style=\"fill: #1f77b4; stroke: #1f77b4\"/>\n     <use xlink:href=\"#m9c0a48bae0\" x=\"87.035757\" y=\"56.687121\" style=\"fill: #1f77b4; stroke: #1f77b4\"/>\n     <use xlink:href=\"#m9c0a48bae0\" x=\"110.185462\" y=\"58.918518\" style=\"fill: #1f77b4; stroke: #1f77b4\"/>\n     <use xlink:href=\"#m9c0a48bae0\" x=\"149.178085\" y=\"88.011389\" style=\"fill: #1f77b4; stroke: #1f77b4\"/>\n     <use xlink:href=\"#m9c0a48bae0\" x=\"142.602363\" y=\"71.700799\" style=\"fill: #1f77b4; stroke: #1f77b4\"/>\n     <use xlink:href=\"#m9c0a48bae0\" x=\"129.938422\" y=\"59.393105\" style=\"fill: #1f77b4; stroke: #1f77b4\"/>\n     <use xlink:href=\"#m9c0a48bae0\" x=\"102.252799\" y=\"62.149233\" style=\"fill: #1f77b4; stroke: #1f77b4\"/>\n     <use xlink:href=\"#m9c0a48bae0\" x=\"90.823167\" y=\"43.48941\" style=\"fill: #1f77b4; stroke: #1f77b4\"/>\n     <use xlink:href=\"#m9c0a48bae0\" x=\"107.827589\" y=\"51.896754\" style=\"fill: #1f77b4; stroke: #1f77b4\"/>\n     <use xlink:href=\"#m9c0a48bae0\" x=\"180.058823\" y=\"105.807664\" style=\"fill: #1f77b4; stroke: #1f77b4\"/>\n     <use xlink:href=\"#m9c0a48bae0\" x=\"146.059923\" y=\"95.393704\" style=\"fill: #1f77b4; stroke: #1f77b4\"/>\n     <use xlink:href=\"#m9c0a48bae0\" x=\"126.660447\" y=\"61.820343\" style=\"fill: #1f77b4; stroke: #1f77b4\"/>\n     <use xlink:href=\"#m9c0a48bae0\" x=\"134.055415\" y=\"82.502041\" style=\"fill: #1f77b4; stroke: #1f77b4\"/>\n     <use xlink:href=\"#m9c0a48bae0\" x=\"141.344216\" y=\"83.145559\" style=\"fill: #1f77b4; stroke: #1f77b4\"/>\n     <use xlink:href=\"#m9c0a48bae0\" x=\"114.929486\" y=\"73.176185\" style=\"fill: #1f77b4; stroke: #1f77b4\"/>\n     <use xlink:href=\"#m9c0a48bae0\" x=\"133.921647\" y=\"84.428925\" style=\"fill: #1f77b4; stroke: #1f77b4\"/>\n     <use xlink:href=\"#m9c0a48bae0\" x=\"130.45228\" y=\"74.61408\" style=\"fill: #1f77b4; stroke: #1f77b4\"/>\n     <use xlink:href=\"#m9c0a48bae0\" x=\"129.596915\" y=\"73.724125\" style=\"fill: #1f77b4; stroke: #1f77b4\"/>\n     <use xlink:href=\"#m9c0a48bae0\" x=\"91.843539\" y=\"54.597897\" style=\"fill: #1f77b4; stroke: #1f77b4\"/>\n     <use xlink:href=\"#m9c0a48bae0\" x=\"167.787918\" y=\"71.456501\" style=\"fill: #1f77b4; stroke: #1f77b4\"/>\n     <use xlink:href=\"#m9c0a48bae0\" x=\"89.527776\" y=\"54.878587\" style=\"fill: #1f77b4; stroke: #1f77b4\"/>\n     <use xlink:href=\"#m9c0a48bae0\" x=\"90.118805\" y=\"35.706564\" style=\"fill: #1f77b4; stroke: #1f77b4\"/>\n     <use xlink:href=\"#m9c0a48bae0\" x=\"144.778701\" y=\"77.685646\" style=\"fill: #1f77b4; stroke: #1f77b4\"/>\n     <use xlink:href=\"#m9c0a48bae0\" x=\"135.682546\" y=\"75.089042\" style=\"fill: #1f77b4; stroke: #1f77b4\"/>\n     <use xlink:href=\"#m9c0a48bae0\" x=\"109.737551\" y=\"76.633837\" style=\"fill: #1f77b4; stroke: #1f77b4\"/>\n     <use xlink:href=\"#m9c0a48bae0\" x=\"130.894287\" y=\"85.542663\" style=\"fill: #1f77b4; stroke: #1f77b4\"/>\n     <use xlink:href=\"#m9c0a48bae0\" x=\"126.560401\" y=\"77.896771\" style=\"fill: #1f77b4; stroke: #1f77b4\"/>\n     <use xlink:href=\"#m9c0a48bae0\" x=\"133.019784\" y=\"77.368868\" style=\"fill: #1f77b4; stroke: #1f77b4\"/>\n     <use xlink:href=\"#m9c0a48bae0\" x=\"210.412487\" y=\"108.077293\" style=\"fill: #1f77b4; stroke: #1f77b4\"/>\n     <use xlink:href=\"#m9c0a48bae0\" x=\"134.273303\" y=\"67.055523\" style=\"fill: #1f77b4; stroke: #1f77b4\"/>\n     <use xlink:href=\"#m9c0a48bae0\" x=\"79.16615\" y=\"54.21121\" style=\"fill: #1f77b4; stroke: #1f77b4\"/>\n     <use xlink:href=\"#m9c0a48bae0\" x=\"137.767766\" y=\"70.930459\" style=\"fill: #1f77b4; stroke: #1f77b4\"/>\n     <use xlink:href=\"#m9c0a48bae0\" x=\"106.00953\" y=\"54.250352\" style=\"fill: #1f77b4; stroke: #1f77b4\"/>\n     <use xlink:href=\"#m9c0a48bae0\" x=\"131.109673\" y=\"83.932395\" style=\"fill: #1f77b4; stroke: #1f77b4\"/>\n     <use xlink:href=\"#m9c0a48bae0\" x=\"117.702439\" y=\"61.356258\" style=\"fill: #1f77b4; stroke: #1f77b4\"/>\n     <use xlink:href=\"#m9c0a48bae0\" x=\"129.730612\" y=\"65.474515\" style=\"fill: #1f77b4; stroke: #1f77b4\"/>\n     <use xlink:href=\"#m9c0a48bae0\" x=\"124.91569\" y=\"74.320336\" style=\"fill: #1f77b4; stroke: #1f77b4\"/>\n     <use xlink:href=\"#m9c0a48bae0\" x=\"70.489578\" y=\"35.314825\" style=\"fill: #1f77b4; stroke: #1f77b4\"/>\n     <use xlink:href=\"#m9c0a48bae0\" x=\"154.417335\" y=\"88.521312\" style=\"fill: #1f77b4; stroke: #1f77b4\"/>\n     <use xlink:href=\"#m9c0a48bae0\" x=\"201.73967\" y=\"110.920207\" style=\"fill: #1f77b4; stroke: #1f77b4\"/>\n     <use xlink:href=\"#m9c0a48bae0\" x=\"115.920415\" y=\"72.212626\" style=\"fill: #1f77b4; stroke: #1f77b4\"/>\n     <use xlink:href=\"#m9c0a48bae0\" x=\"128.542625\" y=\"78.353928\" style=\"fill: #1f77b4; stroke: #1f77b4\"/>\n     <use xlink:href=\"#m9c0a48bae0\" x=\"115.877922\" y=\"81.970705\" style=\"fill: #1f77b4; stroke: #1f77b4\"/>\n     <use xlink:href=\"#m9c0a48bae0\" x=\"100.405016\" y=\"51.748662\" style=\"fill: #1f77b4; stroke: #1f77b4\"/>\n     <use xlink:href=\"#m9c0a48bae0\" x=\"142.700312\" y=\"95.657178\" style=\"fill: #1f77b4; stroke: #1f77b4\"/>\n     <use xlink:href=\"#m9c0a48bae0\" x=\"126.020688\" y=\"73.537173\" style=\"fill: #1f77b4; stroke: #1f77b4\"/>\n     <use xlink:href=\"#m9c0a48bae0\" x=\"202.107652\" y=\"112.840339\" style=\"fill: #1f77b4; stroke: #1f77b4\"/>\n     <use xlink:href=\"#m9c0a48bae0\" x=\"106.891333\" y=\"69.891218\" style=\"fill: #1f77b4; stroke: #1f77b4\"/>\n     <use xlink:href=\"#m9c0a48bae0\" x=\"118.605315\" y=\"77.079552\" style=\"fill: #1f77b4; stroke: #1f77b4\"/>\n     <use xlink:href=\"#m9c0a48bae0\" x=\"182.260559\" y=\"117.382055\" style=\"fill: #1f77b4; stroke: #1f77b4\"/>\n     <use xlink:href=\"#m9c0a48bae0\" x=\"161.526834\" y=\"91.001838\" style=\"fill: #1f77b4; stroke: #1f77b4\"/>\n     <use xlink:href=\"#m9c0a48bae0\" x=\"65.193436\" y=\"40.257444\" style=\"fill: #1f77b4; stroke: #1f77b4\"/>\n     <use xlink:href=\"#m9c0a48bae0\" x=\"120.184545\" y=\"58.143183\" style=\"fill: #1f77b4; stroke: #1f77b4\"/>\n     <use xlink:href=\"#m9c0a48bae0\" x=\"103.781343\" y=\"47.70143\" style=\"fill: #1f77b4; stroke: #1f77b4\"/>\n     <use xlink:href=\"#m9c0a48bae0\" x=\"117.436737\" y=\"60.660102\" style=\"fill: #1f77b4; stroke: #1f77b4\"/>\n     <use xlink:href=\"#m9c0a48bae0\" x=\"157.87299\" y=\"93.783041\" style=\"fill: #1f77b4; stroke: #1f77b4\"/>\n     <use xlink:href=\"#m9c0a48bae0\" x=\"134.621595\" y=\"91.638242\" style=\"fill: #1f77b4; stroke: #1f77b4\"/>\n     <use xlink:href=\"#m9c0a48bae0\" x=\"130.112669\" y=\"70.727315\" style=\"fill: #1f77b4; stroke: #1f77b4\"/>\n     <use xlink:href=\"#m9c0a48bae0\" x=\"125.433617\" y=\"63.815964\" style=\"fill: #1f77b4; stroke: #1f77b4\"/>\n     <use xlink:href=\"#m9c0a48bae0\" x=\"182.267309\" y=\"116.205826\" style=\"fill: #1f77b4; stroke: #1f77b4\"/>\n     <use xlink:href=\"#m9c0a48bae0\" x=\"49.503863\" y=\"33.51349\" style=\"fill: #1f77b4; stroke: #1f77b4\"/>\n     <use xlink:href=\"#m9c0a48bae0\" x=\"120.164609\" y=\"73.039544\" style=\"fill: #1f77b4; stroke: #1f77b4\"/>\n     <use xlink:href=\"#m9c0a48bae0\" x=\"119.232103\" y=\"73.280722\" style=\"fill: #1f77b4; stroke: #1f77b4\"/>\n     <use xlink:href=\"#m9c0a48bae0\" x=\"149.493631\" y=\"71.79051\" style=\"fill: #1f77b4; stroke: #1f77b4\"/>\n     <use xlink:href=\"#m9c0a48bae0\" x=\"149.476645\" y=\"93.659853\" style=\"fill: #1f77b4; stroke: #1f77b4\"/>\n     <use xlink:href=\"#m9c0a48bae0\" x=\"165.801876\" y=\"104.146754\" style=\"fill: #1f77b4; stroke: #1f77b4\"/>\n     <use xlink:href=\"#m9c0a48bae0\" x=\"99.492729\" y=\"68.670269\" style=\"fill: #1f77b4; stroke: #1f77b4\"/>\n     <use xlink:href=\"#m9c0a48bae0\" x=\"124.759468\" y=\"71.584716\" style=\"fill: #1f77b4; stroke: #1f77b4\"/>\n     <use xlink:href=\"#m9c0a48bae0\" x=\"130.780759\" y=\"84.665476\" style=\"fill: #1f77b4; stroke: #1f77b4\"/>\n     <use xlink:href=\"#m9c0a48bae0\" x=\"129.701512\" y=\"68.992483\" style=\"fill: #1f77b4; stroke: #1f77b4\"/>\n     <use xlink:href=\"#m9c0a48bae0\" x=\"124.142734\" y=\"75.295678\" style=\"fill: #1f77b4; stroke: #1f77b4\"/>\n     <use xlink:href=\"#m9c0a48bae0\" x=\"76.523419\" y=\"39.218613\" style=\"fill: #1f77b4; stroke: #1f77b4\"/>\n     <use xlink:href=\"#m9c0a48bae0\" x=\"156.719416\" y=\"87.547403\" style=\"fill: #1f77b4; stroke: #1f77b4\"/>\n     <use xlink:href=\"#m9c0a48bae0\" x=\"103.658756\" y=\"66.854428\" style=\"fill: #1f77b4; stroke: #1f77b4\"/>\n     <use xlink:href=\"#m9c0a48bae0\" x=\"126.623285\" y=\"80.463642\" style=\"fill: #1f77b4; stroke: #1f77b4\"/>\n     <use xlink:href=\"#m9c0a48bae0\" x=\"104.45333\" y=\"67.54705\" style=\"fill: #1f77b4; stroke: #1f77b4\"/>\n     <use xlink:href=\"#m9c0a48bae0\" x=\"118.529137\" y=\"65.665905\" style=\"fill: #1f77b4; stroke: #1f77b4\"/>\n     <use xlink:href=\"#m9c0a48bae0\" x=\"169.392853\" y=\"101.740306\" style=\"fill: #1f77b4; stroke: #1f77b4\"/>\n     <use xlink:href=\"#m9c0a48bae0\" x=\"94.310084\" y=\"60.305738\" style=\"fill: #1f77b4; stroke: #1f77b4\"/>\n     <use xlink:href=\"#m9c0a48bae0\" x=\"135.284386\" y=\"81.797791\" style=\"fill: #1f77b4; stroke: #1f77b4\"/>\n     <use xlink:href=\"#m9c0a48bae0\" x=\"104.192961\" y=\"55.08983\" style=\"fill: #1f77b4; stroke: #1f77b4\"/>\n     <use xlink:href=\"#m9c0a48bae0\" x=\"123.312517\" y=\"59.483809\" style=\"fill: #1f77b4; stroke: #1f77b4\"/>\n     <use xlink:href=\"#m9c0a48bae0\" x=\"90.124673\" y=\"52.941297\" style=\"fill: #1f77b4; stroke: #1f77b4\"/>\n     <use xlink:href=\"#m9c0a48bae0\" x=\"110.212864\" y=\"71.052986\" style=\"fill: #1f77b4; stroke: #1f77b4\"/>\n     <use xlink:href=\"#m9c0a48bae0\" x=\"110.561542\" y=\"50.95127\" style=\"fill: #1f77b4; stroke: #1f77b4\"/>\n     <use xlink:href=\"#m9c0a48bae0\" x=\"66.827821\" y=\"28.661668\" style=\"fill: #1f77b4; stroke: #1f77b4\"/>\n     <use xlink:href=\"#m9c0a48bae0\" x=\"103.637939\" y=\"58.156503\" style=\"fill: #1f77b4; stroke: #1f77b4\"/>\n     <use xlink:href=\"#m9c0a48bae0\" x=\"81.131012\" y=\"50.878333\" style=\"fill: #1f77b4; stroke: #1f77b4\"/>\n     <use xlink:href=\"#m9c0a48bae0\" x=\"122.542697\" y=\"53.686393\" style=\"fill: #1f77b4; stroke: #1f77b4\"/>\n     <use xlink:href=\"#m9c0a48bae0\" x=\"111.165063\" y=\"55.364385\" style=\"fill: #1f77b4; stroke: #1f77b4\"/>\n     <use xlink:href=\"#m9c0a48bae0\" x=\"141.319296\" y=\"85.966968\" style=\"fill: #1f77b4; stroke: #1f77b4\"/>\n     <use xlink:href=\"#m9c0a48bae0\" x=\"76.624498\" y=\"41.365081\" style=\"fill: #1f77b4; stroke: #1f77b4\"/>\n     <use xlink:href=\"#m9c0a48bae0\" x=\"125.116803\" y=\"63.306772\" style=\"fill: #1f77b4; stroke: #1f77b4\"/>\n     <use xlink:href=\"#m9c0a48bae0\" x=\"172.799003\" y=\"87.383193\" style=\"fill: #1f77b4; stroke: #1f77b4\"/>\n     <use xlink:href=\"#m9c0a48bae0\" x=\"156.168244\" y=\"84.940403\" style=\"fill: #1f77b4; stroke: #1f77b4\"/>\n     <use xlink:href=\"#m9c0a48bae0\" x=\"95.198063\" y=\"56.071878\" style=\"fill: #1f77b4; stroke: #1f77b4\"/>\n     <use xlink:href=\"#m9c0a48bae0\" x=\"117.697011\" y=\"63.221403\" style=\"fill: #1f77b4; stroke: #1f77b4\"/>\n     <use xlink:href=\"#m9c0a48bae0\" x=\"134.286575\" y=\"78.682373\" style=\"fill: #1f77b4; stroke: #1f77b4\"/>\n     <use xlink:href=\"#m9c0a48bae0\" x=\"161.782711\" y=\"82.053634\" style=\"fill: #1f77b4; stroke: #1f77b4\"/>\n     <use xlink:href=\"#m9c0a48bae0\" x=\"135.012774\" y=\"87.332932\" style=\"fill: #1f77b4; stroke: #1f77b4\"/>\n     <use xlink:href=\"#m9c0a48bae0\" x=\"136.636823\" y=\"89.371272\" style=\"fill: #1f77b4; stroke: #1f77b4\"/>\n     <use xlink:href=\"#m9c0a48bae0\" x=\"142.749715\" y=\"83.227272\" style=\"fill: #1f77b4; stroke: #1f77b4\"/>\n     <use xlink:href=\"#m9c0a48bae0\" x=\"125.095911\" y=\"67.412563\" style=\"fill: #1f77b4; stroke: #1f77b4\"/>\n     <use xlink:href=\"#m9c0a48bae0\" x=\"159.787663\" y=\"97.022606\" style=\"fill: #1f77b4; stroke: #1f77b4\"/>\n     <use xlink:href=\"#m9c0a48bae0\" x=\"135.450654\" y=\"89.611383\" style=\"fill: #1f77b4; stroke: #1f77b4\"/>\n     <use xlink:href=\"#m9c0a48bae0\" x=\"162.462954\" y=\"85.469487\" style=\"fill: #1f77b4; stroke: #1f77b4\"/>\n     <use xlink:href=\"#m9c0a48bae0\" x=\"135.216869\" y=\"79.456413\" style=\"fill: #1f77b4; stroke: #1f77b4\"/>\n     <use xlink:href=\"#m9c0a48bae0\" x=\"161.194643\" y=\"94.006102\" style=\"fill: #1f77b4; stroke: #1f77b4\"/>\n     <use xlink:href=\"#m9c0a48bae0\" x=\"123.677214\" y=\"58.805308\" style=\"fill: #1f77b4; stroke: #1f77b4\"/>\n     <use xlink:href=\"#m9c0a48bae0\" x=\"134.985529\" y=\"78.418727\" style=\"fill: #1f77b4; stroke: #1f77b4\"/>\n     <use xlink:href=\"#m9c0a48bae0\" x=\"188.708351\" y=\"113.123795\" style=\"fill: #1f77b4; stroke: #1f77b4\"/>\n     <use xlink:href=\"#m9c0a48bae0\" x=\"156.75631\" y=\"95.126433\" style=\"fill: #1f77b4; stroke: #1f77b4\"/>\n     <use xlink:href=\"#m9c0a48bae0\" x=\"193.219321\" y=\"90.058703\" style=\"fill: #1f77b4; stroke: #1f77b4\"/>\n     <use xlink:href=\"#m9c0a48bae0\" x=\"127.832038\" y=\"84.102436\" style=\"fill: #1f77b4; stroke: #1f77b4\"/>\n     <use xlink:href=\"#m9c0a48bae0\" x=\"133.688861\" y=\"71.89809\" style=\"fill: #1f77b4; stroke: #1f77b4\"/>\n     <use xlink:href=\"#m9c0a48bae0\" x=\"44.18196\" y=\"13.5\" style=\"fill: #1f77b4; stroke: #1f77b4\"/>\n     <use xlink:href=\"#m9c0a48bae0\" x=\"113.674402\" y=\"54.041754\" style=\"fill: #1f77b4; stroke: #1f77b4\"/>\n     <use xlink:href=\"#m9c0a48bae0\" x=\"69.096702\" y=\"33.119277\" style=\"fill: #1f77b4; stroke: #1f77b4\"/>\n     <use xlink:href=\"#m9c0a48bae0\" x=\"141.692124\" y=\"65.401616\" style=\"fill: #1f77b4; stroke: #1f77b4\"/>\n     <use xlink:href=\"#m9c0a48bae0\" x=\"175.488943\" y=\"112.990765\" style=\"fill: #1f77b4; stroke: #1f77b4\"/>\n     <use xlink:href=\"#m9c0a48bae0\" x=\"114.020037\" y=\"72.290345\" style=\"fill: #1f77b4; stroke: #1f77b4\"/>\n     <use xlink:href=\"#m9c0a48bae0\" x=\"125.193306\" y=\"64.289003\" style=\"fill: #1f77b4; stroke: #1f77b4\"/>\n     <use xlink:href=\"#m9c0a48bae0\" x=\"161.710586\" y=\"107.161801\" style=\"fill: #1f77b4; stroke: #1f77b4\"/>\n     <use xlink:href=\"#m9c0a48bae0\" x=\"105.442189\" y=\"63.618273\" style=\"fill: #1f77b4; stroke: #1f77b4\"/>\n     <use xlink:href=\"#m9c0a48bae0\" x=\"67.42415\" y=\"47.139532\" style=\"fill: #1f77b4; stroke: #1f77b4\"/>\n     <use xlink:href=\"#m9c0a48bae0\" x=\"166.691857\" y=\"93.07109\" style=\"fill: #1f77b4; stroke: #1f77b4\"/>\n     <use xlink:href=\"#m9c0a48bae0\" x=\"54.278141\" y=\"30.067864\" style=\"fill: #1f77b4; stroke: #1f77b4\"/>\n     <use xlink:href=\"#m9c0a48bae0\" x=\"109.690128\" y=\"53.432983\" style=\"fill: #1f77b4; stroke: #1f77b4\"/>\n     <use xlink:href=\"#m9c0a48bae0\" x=\"139.298847\" y=\"80.152342\" style=\"fill: #1f77b4; stroke: #1f77b4\"/>\n     <use xlink:href=\"#m9c0a48bae0\" x=\"124.47877\" y=\"80.443214\" style=\"fill: #1f77b4; stroke: #1f77b4\"/>\n     <use xlink:href=\"#m9c0a48bae0\" x=\"131.324864\" y=\"79.581778\" style=\"fill: #1f77b4; stroke: #1f77b4\"/>\n     <use xlink:href=\"#m9c0a48bae0\" x=\"136.112058\" y=\"79.006865\" style=\"fill: #1f77b4; stroke: #1f77b4\"/>\n     <use xlink:href=\"#m9c0a48bae0\" x=\"160.050846\" y=\"71.160302\" style=\"fill: #1f77b4; stroke: #1f77b4\"/>\n     <use xlink:href=\"#m9c0a48bae0\" x=\"150.504645\" y=\"67.581643\" style=\"fill: #1f77b4; stroke: #1f77b4\"/>\n     <use xlink:href=\"#m9c0a48bae0\" x=\"117.949187\" y=\"73.059837\" style=\"fill: #1f77b4; stroke: #1f77b4\"/>\n     <use xlink:href=\"#m9c0a48bae0\" x=\"166.051867\" y=\"90.922457\" style=\"fill: #1f77b4; stroke: #1f77b4\"/>\n     <use xlink:href=\"#m9c0a48bae0\" x=\"116.052882\" y=\"67.560266\" style=\"fill: #1f77b4; stroke: #1f77b4\"/>\n     <use xlink:href=\"#m9c0a48bae0\" x=\"203.305188\" y=\"119.10644\" style=\"fill: #1f77b4; stroke: #1f77b4\"/>\n     <use xlink:href=\"#m9c0a48bae0\" x=\"96.007246\" y=\"50.300579\" style=\"fill: #1f77b4; stroke: #1f77b4\"/>\n     <use xlink:href=\"#m9c0a48bae0\" x=\"130.379811\" y=\"78.264063\" style=\"fill: #1f77b4; stroke: #1f77b4\"/>\n     <use xlink:href=\"#m9c0a48bae0\" x=\"108.152031\" y=\"82.617102\" style=\"fill: #1f77b4; stroke: #1f77b4\"/>\n     <use xlink:href=\"#m9c0a48bae0\" x=\"134.544156\" y=\"74.223955\" style=\"fill: #1f77b4; stroke: #1f77b4\"/>\n     <use xlink:href=\"#m9c0a48bae0\" x=\"165.085141\" y=\"97.26336\" style=\"fill: #1f77b4; stroke: #1f77b4\"/>\n     <use xlink:href=\"#m9c0a48bae0\" x=\"81.560102\" y=\"56.599074\" style=\"fill: #1f77b4; stroke: #1f77b4\"/>\n     <use xlink:href=\"#m9c0a48bae0\" x=\"184.068149\" y=\"101.623324\" style=\"fill: #1f77b4; stroke: #1f77b4\"/>\n     <use xlink:href=\"#m9c0a48bae0\" x=\"143.441276\" y=\"87.207373\" style=\"fill: #1f77b4; stroke: #1f77b4\"/>\n     <use xlink:href=\"#m9c0a48bae0\" x=\"95.3839\" y=\"56.192018\" style=\"fill: #1f77b4; stroke: #1f77b4\"/>\n     <use xlink:href=\"#m9c0a48bae0\" x=\"106.988443\" y=\"60.6202\" style=\"fill: #1f77b4; stroke: #1f77b4\"/>\n     <use xlink:href=\"#m9c0a48bae0\" x=\"120.506067\" y=\"87.203309\" style=\"fill: #1f77b4; stroke: #1f77b4\"/>\n     <use xlink:href=\"#m9c0a48bae0\" x=\"123.137529\" y=\"75.608314\" style=\"fill: #1f77b4; stroke: #1f77b4\"/>\n     <use xlink:href=\"#m9c0a48bae0\" x=\"164.823822\" y=\"107.499502\" style=\"fill: #1f77b4; stroke: #1f77b4\"/>\n     <use xlink:href=\"#m9c0a48bae0\" x=\"151.019038\" y=\"89.359194\" style=\"fill: #1f77b4; stroke: #1f77b4\"/>\n     <use xlink:href=\"#m9c0a48bae0\" x=\"95.021915\" y=\"55.181591\" style=\"fill: #1f77b4; stroke: #1f77b4\"/>\n     <use xlink:href=\"#m9c0a48bae0\" x=\"96.144219\" y=\"50.542142\" style=\"fill: #1f77b4; stroke: #1f77b4\"/>\n     <use xlink:href=\"#m9c0a48bae0\" x=\"115.51321\" y=\"66.051461\" style=\"fill: #1f77b4; stroke: #1f77b4\"/>\n     <use xlink:href=\"#m9c0a48bae0\" x=\"163.367039\" y=\"104.422676\" style=\"fill: #1f77b4; stroke: #1f77b4\"/>\n     <use xlink:href=\"#m9c0a48bae0\" x=\"95.179569\" y=\"43.931631\" style=\"fill: #1f77b4; stroke: #1f77b4\"/>\n     <use xlink:href=\"#m9c0a48bae0\" x=\"103.270417\" y=\"73.224404\" style=\"fill: #1f77b4; stroke: #1f77b4\"/>\n     <use xlink:href=\"#m9c0a48bae0\" x=\"131.27997\" y=\"55.73001\" style=\"fill: #1f77b4; stroke: #1f77b4\"/>\n     <use xlink:href=\"#m9c0a48bae0\" x=\"158.935906\" y=\"92.906466\" style=\"fill: #1f77b4; stroke: #1f77b4\"/>\n     <use xlink:href=\"#m9c0a48bae0\" x=\"85.321737\" y=\"71.392501\" style=\"fill: #1f77b4; stroke: #1f77b4\"/>\n     <use xlink:href=\"#m9c0a48bae0\" x=\"187.028698\" y=\"113.613639\" style=\"fill: #1f77b4; stroke: #1f77b4\"/>\n     <use xlink:href=\"#m9c0a48bae0\" x=\"111.739059\" y=\"45.7481\" style=\"fill: #1f77b4; stroke: #1f77b4\"/>\n     <use xlink:href=\"#m9c0a48bae0\" x=\"85.060158\" y=\"56.574823\" style=\"fill: #1f77b4; stroke: #1f77b4\"/>\n     <use xlink:href=\"#m9c0a48bae0\" x=\"106.236657\" y=\"54.517737\" style=\"fill: #1f77b4; stroke: #1f77b4\"/>\n     <use xlink:href=\"#m9c0a48bae0\" x=\"79.724176\" y=\"49.411066\" style=\"fill: #1f77b4; stroke: #1f77b4\"/>\n     <use xlink:href=\"#m9c0a48bae0\" x=\"113.624834\" y=\"44.054053\" style=\"fill: #1f77b4; stroke: #1f77b4\"/>\n     <use xlink:href=\"#m9c0a48bae0\" x=\"141.322638\" y=\"78.980409\" style=\"fill: #1f77b4; stroke: #1f77b4\"/>\n     <use xlink:href=\"#m9c0a48bae0\" x=\"125.871293\" y=\"76.827552\" style=\"fill: #1f77b4; stroke: #1f77b4\"/>\n     <use xlink:href=\"#m9c0a48bae0\" x=\"104.264696\" y=\"59.4699\" style=\"fill: #1f77b4; stroke: #1f77b4\"/>\n     <use xlink:href=\"#m9c0a48bae0\" x=\"161.244186\" y=\"100.978091\" style=\"fill: #1f77b4; stroke: #1f77b4\"/>\n     <use xlink:href=\"#m9c0a48bae0\" x=\"149.946035\" y=\"99.943558\" style=\"fill: #1f77b4; stroke: #1f77b4\"/>\n     <use xlink:href=\"#m9c0a48bae0\" x=\"101.479965\" y=\"47.374504\" style=\"fill: #1f77b4; stroke: #1f77b4\"/>\n     <use xlink:href=\"#m9c0a48bae0\" x=\"62.192589\" y=\"45.971741\" style=\"fill: #1f77b4; stroke: #1f77b4\"/>\n     <use xlink:href=\"#m9c0a48bae0\" x=\"112.602139\" y=\"59.678743\" style=\"fill: #1f77b4; stroke: #1f77b4\"/>\n     <use xlink:href=\"#m9c0a48bae0\" x=\"173.439229\" y=\"90.865726\" style=\"fill: #1f77b4; stroke: #1f77b4\"/>\n     <use xlink:href=\"#m9c0a48bae0\" x=\"102.693396\" y=\"62.862407\" style=\"fill: #1f77b4; stroke: #1f77b4\"/>\n     <use xlink:href=\"#m9c0a48bae0\" x=\"151.771343\" y=\"83.262955\" style=\"fill: #1f77b4; stroke: #1f77b4\"/>\n     <use xlink:href=\"#m9c0a48bae0\" x=\"151.69654\" y=\"86.829673\" style=\"fill: #1f77b4; stroke: #1f77b4\"/>\n     <use xlink:href=\"#m9c0a48bae0\" x=\"155.577049\" y=\"88.047299\" style=\"fill: #1f77b4; stroke: #1f77b4\"/>\n     <use xlink:href=\"#m9c0a48bae0\" x=\"137.907644\" y=\"63.386806\" style=\"fill: #1f77b4; stroke: #1f77b4\"/>\n     <use xlink:href=\"#m9c0a48bae0\" x=\"147.7529\" y=\"79.590495\" style=\"fill: #1f77b4; stroke: #1f77b4\"/>\n     <use xlink:href=\"#m9c0a48bae0\" x=\"106.186107\" y=\"57.535794\" style=\"fill: #1f77b4; stroke: #1f77b4\"/>\n     <use xlink:href=\"#m9c0a48bae0\" x=\"174.753183\" y=\"85.824374\" style=\"fill: #1f77b4; stroke: #1f77b4\"/>\n     <use xlink:href=\"#m9c0a48bae0\" x=\"155.187619\" y=\"92.067107\" style=\"fill: #1f77b4; stroke: #1f77b4\"/>\n     <use xlink:href=\"#m9c0a48bae0\" x=\"135.575601\" y=\"90.745181\" style=\"fill: #1f77b4; stroke: #1f77b4\"/>\n     <use xlink:href=\"#m9c0a48bae0\" x=\"109.493484\" y=\"60.132161\" style=\"fill: #1f77b4; stroke: #1f77b4\"/>\n     <use xlink:href=\"#m9c0a48bae0\" x=\"68.664865\" y=\"43.281406\" style=\"fill: #1f77b4; stroke: #1f77b4\"/>\n     <use xlink:href=\"#m9c0a48bae0\" x=\"99.53333\" y=\"64.88495\" style=\"fill: #1f77b4; stroke: #1f77b4\"/>\n     <use xlink:href=\"#m9c0a48bae0\" x=\"147.425234\" y=\"90.822212\" style=\"fill: #1f77b4; stroke: #1f77b4\"/>\n     <use xlink:href=\"#m9c0a48bae0\" x=\"153.14324\" y=\"80.856323\" style=\"fill: #1f77b4; stroke: #1f77b4\"/>\n     <use xlink:href=\"#m9c0a48bae0\" x=\"155.551428\" y=\"89.493536\" style=\"fill: #1f77b4; stroke: #1f77b4\"/>\n     <use xlink:href=\"#m9c0a48bae0\" x=\"168.281935\" y=\"83.501016\" style=\"fill: #1f77b4; stroke: #1f77b4\"/>\n     <use xlink:href=\"#m9c0a48bae0\" x=\"101.858787\" y=\"58.930622\" style=\"fill: #1f77b4; stroke: #1f77b4\"/>\n     <use xlink:href=\"#m9c0a48bae0\" x=\"86.892554\" y=\"50.341379\" style=\"fill: #1f77b4; stroke: #1f77b4\"/>\n     <use xlink:href=\"#m9c0a48bae0\" x=\"105.028711\" y=\"68.713469\" style=\"fill: #1f77b4; stroke: #1f77b4\"/>\n     <use xlink:href=\"#m9c0a48bae0\" x=\"155.945398\" y=\"88.618006\" style=\"fill: #1f77b4; stroke: #1f77b4\"/>\n     <use xlink:href=\"#m9c0a48bae0\" x=\"123.731565\" y=\"62.810945\" style=\"fill: #1f77b4; stroke: #1f77b4\"/>\n     <use xlink:href=\"#m9c0a48bae0\" x=\"141.816527\" y=\"78.963522\" style=\"fill: #1f77b4; stroke: #1f77b4\"/>\n     <use xlink:href=\"#m9c0a48bae0\" x=\"162.152772\" y=\"103.607303\" style=\"fill: #1f77b4; stroke: #1f77b4\"/>\n     <use xlink:href=\"#m9c0a48bae0\" x=\"126.125518\" y=\"72.20127\" style=\"fill: #1f77b4; stroke: #1f77b4\"/>\n     <use xlink:href=\"#m9c0a48bae0\" x=\"194.122428\" y=\"115.662457\" style=\"fill: #1f77b4; stroke: #1f77b4\"/>\n     <use xlink:href=\"#m9c0a48bae0\" x=\"136.893938\" y=\"76.482147\" style=\"fill: #1f77b4; stroke: #1f77b4\"/>\n     <use xlink:href=\"#m9c0a48bae0\" x=\"147.325581\" y=\"77.085521\" style=\"fill: #1f77b4; stroke: #1f77b4\"/>\n     <use xlink:href=\"#m9c0a48bae0\" x=\"125.053749\" y=\"82.572604\" style=\"fill: #1f77b4; stroke: #1f77b4\"/>\n     <use xlink:href=\"#m9c0a48bae0\" x=\"97.081884\" y=\"61.246944\" style=\"fill: #1f77b4; stroke: #1f77b4\"/>\n     <use xlink:href=\"#m9c0a48bae0\" x=\"134.321003\" y=\"77.475831\" style=\"fill: #1f77b4; stroke: #1f77b4\"/>\n     <use xlink:href=\"#m9c0a48bae0\" x=\"118.053467\" y=\"67.802372\" style=\"fill: #1f77b4; stroke: #1f77b4\"/>\n     <use xlink:href=\"#m9c0a48bae0\" x=\"122.915282\" y=\"63.162837\" style=\"fill: #1f77b4; stroke: #1f77b4\"/>\n     <use xlink:href=\"#m9c0a48bae0\" x=\"84.051322\" y=\"51.702748\" style=\"fill: #1f77b4; stroke: #1f77b4\"/>\n     <use xlink:href=\"#m9c0a48bae0\" x=\"127.868868\" y=\"75.491239\" style=\"fill: #1f77b4; stroke: #1f77b4\"/>\n     <use xlink:href=\"#m9c0a48bae0\" x=\"139.807392\" y=\"91.134239\" style=\"fill: #1f77b4; stroke: #1f77b4\"/>\n     <use xlink:href=\"#m9c0a48bae0\" x=\"168.058114\" y=\"90.457164\" style=\"fill: #1f77b4; stroke: #1f77b4\"/>\n     <use xlink:href=\"#m9c0a48bae0\" x=\"179.24143\" y=\"80.116883\" style=\"fill: #1f77b4; stroke: #1f77b4\"/>\n     <use xlink:href=\"#m9c0a48bae0\" x=\"117.476781\" y=\"56.672564\" style=\"fill: #1f77b4; stroke: #1f77b4\"/>\n     <use xlink:href=\"#m9c0a48bae0\" x=\"103.934899\" y=\"63.815071\" style=\"fill: #1f77b4; stroke: #1f77b4\"/>\n     <use xlink:href=\"#m9c0a48bae0\" x=\"145.242119\" y=\"87.720239\" style=\"fill: #1f77b4; stroke: #1f77b4\"/>\n     <use xlink:href=\"#m9c0a48bae0\" x=\"140.633235\" y=\"69.628686\" style=\"fill: #1f77b4; stroke: #1f77b4\"/>\n     <use xlink:href=\"#m9c0a48bae0\" x=\"104.110259\" y=\"67.36573\" style=\"fill: #1f77b4; stroke: #1f77b4\"/>\n     <use xlink:href=\"#m9c0a48bae0\" x=\"141.622979\" y=\"96.560823\" style=\"fill: #1f77b4; stroke: #1f77b4\"/>\n     <use xlink:href=\"#m9c0a48bae0\" x=\"133.920817\" y=\"93.092479\" style=\"fill: #1f77b4; stroke: #1f77b4\"/>\n     <use xlink:href=\"#m9c0a48bae0\" x=\"96.218281\" y=\"48.94741\" style=\"fill: #1f77b4; stroke: #1f77b4\"/>\n     <use xlink:href=\"#m9c0a48bae0\" x=\"195.572103\" y=\"110.08261\" style=\"fill: #1f77b4; stroke: #1f77b4\"/>\n     <use xlink:href=\"#m9c0a48bae0\" x=\"170.872735\" y=\"107.563949\" style=\"fill: #1f77b4; stroke: #1f77b4\"/>\n     <use xlink:href=\"#m9c0a48bae0\" x=\"140.087844\" y=\"81.27694\" style=\"fill: #1f77b4; stroke: #1f77b4\"/>\n     <use xlink:href=\"#m9c0a48bae0\" x=\"113.299387\" y=\"59.936011\" style=\"fill: #1f77b4; stroke: #1f77b4\"/>\n     <use xlink:href=\"#m9c0a48bae0\" x=\"187.080185\" y=\"106.703415\" style=\"fill: #1f77b4; stroke: #1f77b4\"/>\n     <use xlink:href=\"#m9c0a48bae0\" x=\"176.824174\" y=\"108.43655\" style=\"fill: #1f77b4; stroke: #1f77b4\"/>\n     <use xlink:href=\"#m9c0a48bae0\" x=\"119.831884\" y=\"80.228823\" style=\"fill: #1f77b4; stroke: #1f77b4\"/>\n     <use xlink:href=\"#m9c0a48bae0\" x=\"112.361666\" y=\"61.754597\" style=\"fill: #1f77b4; stroke: #1f77b4\"/>\n     <use xlink:href=\"#m9c0a48bae0\" x=\"115.411276\" y=\"65.444175\" style=\"fill: #1f77b4; stroke: #1f77b4\"/>\n     <use xlink:href=\"#m9c0a48bae0\" x=\"130.679272\" y=\"79.869998\" style=\"fill: #1f77b4; stroke: #1f77b4\"/>\n     <use xlink:href=\"#m9c0a48bae0\" x=\"106.087833\" y=\"79.623897\" style=\"fill: #1f77b4; stroke: #1f77b4\"/>\n     <use xlink:href=\"#m9c0a48bae0\" x=\"120.047386\" y=\"70.787574\" style=\"fill: #1f77b4; stroke: #1f77b4\"/>\n     <use xlink:href=\"#m9c0a48bae0\" x=\"133.578928\" y=\"82.826674\" style=\"fill: #1f77b4; stroke: #1f77b4\"/>\n     <use xlink:href=\"#m9c0a48bae0\" x=\"124.473765\" y=\"72.332208\" style=\"fill: #1f77b4; stroke: #1f77b4\"/>\n     <use xlink:href=\"#m9c0a48bae0\" x=\"165.017326\" y=\"87.429716\" style=\"fill: #1f77b4; stroke: #1f77b4\"/>\n     <use xlink:href=\"#m9c0a48bae0\" x=\"107.996409\" y=\"56.504986\" style=\"fill: #1f77b4; stroke: #1f77b4\"/>\n     <use xlink:href=\"#m9c0a48bae0\" x=\"94.919257\" y=\"64.11721\" style=\"fill: #1f77b4; stroke: #1f77b4\"/>\n     <use xlink:href=\"#m9c0a48bae0\" x=\"152.422127\" y=\"99.994116\" style=\"fill: #1f77b4; stroke: #1f77b4\"/>\n     <use xlink:href=\"#m9c0a48bae0\" x=\"125.054919\" y=\"73.633243\" style=\"fill: #1f77b4; stroke: #1f77b4\"/>\n     <use xlink:href=\"#m9c0a48bae0\" x=\"116.369147\" y=\"58.003973\" style=\"fill: #1f77b4; stroke: #1f77b4\"/>\n     <use xlink:href=\"#m9c0a48bae0\" x=\"82.081983\" y=\"51.165001\" style=\"fill: #1f77b4; stroke: #1f77b4\"/>\n     <use xlink:href=\"#m9c0a48bae0\" x=\"102.180699\" y=\"50.867724\" style=\"fill: #1f77b4; stroke: #1f77b4\"/>\n     <use xlink:href=\"#m9c0a48bae0\" x=\"109.134886\" y=\"65.284493\" style=\"fill: #1f77b4; stroke: #1f77b4\"/>\n     <use xlink:href=\"#m9c0a48bae0\" x=\"83.307018\" y=\"53.219722\" style=\"fill: #1f77b4; stroke: #1f77b4\"/>\n     <use xlink:href=\"#m9c0a48bae0\" x=\"154.721909\" y=\"109.687697\" style=\"fill: #1f77b4; stroke: #1f77b4\"/>\n     <use xlink:href=\"#m9c0a48bae0\" x=\"143.462358\" y=\"105.499614\" style=\"fill: #1f77b4; stroke: #1f77b4\"/>\n     <use xlink:href=\"#m9c0a48bae0\" x=\"115.238054\" y=\"69.369718\" style=\"fill: #1f77b4; stroke: #1f77b4\"/>\n     <use xlink:href=\"#m9c0a48bae0\" x=\"146.252609\" y=\"101.068693\" style=\"fill: #1f77b4; stroke: #1f77b4\"/>\n     <use xlink:href=\"#m9c0a48bae0\" x=\"152.161424\" y=\"75.396594\" style=\"fill: #1f77b4; stroke: #1f77b4\"/>\n     <use xlink:href=\"#m9c0a48bae0\" x=\"128.583506\" y=\"93.725846\" style=\"fill: #1f77b4; stroke: #1f77b4\"/>\n     <use xlink:href=\"#m9c0a48bae0\" x=\"113.577406\" y=\"82.494096\" style=\"fill: #1f77b4; stroke: #1f77b4\"/>\n     <use xlink:href=\"#m9c0a48bae0\" x=\"107.311635\" y=\"51.833205\" style=\"fill: #1f77b4; stroke: #1f77b4\"/>\n     <use xlink:href=\"#m9c0a48bae0\" x=\"115.321601\" y=\"70.201938\" style=\"fill: #1f77b4; stroke: #1f77b4\"/>\n     <use xlink:href=\"#m9c0a48bae0\" x=\"164.843881\" y=\"104.09943\" style=\"fill: #1f77b4; stroke: #1f77b4\"/>\n     <use xlink:href=\"#m9c0a48bae0\" x=\"127.75825\" y=\"67.26593\" style=\"fill: #1f77b4; stroke: #1f77b4\"/>\n     <use xlink:href=\"#m9c0a48bae0\" x=\"133.849695\" y=\"80.305615\" style=\"fill: #1f77b4; stroke: #1f77b4\"/>\n     <use xlink:href=\"#m9c0a48bae0\" x=\"107.565203\" y=\"40.866917\" style=\"fill: #1f77b4; stroke: #1f77b4\"/>\n     <use xlink:href=\"#m9c0a48bae0\" x=\"162.872755\" y=\"92.808995\" style=\"fill: #1f77b4; stroke: #1f77b4\"/>\n     <use xlink:href=\"#m9c0a48bae0\" x=\"149.929586\" y=\"89.867659\" style=\"fill: #1f77b4; stroke: #1f77b4\"/>\n     <use xlink:href=\"#m9c0a48bae0\" x=\"109.244733\" y=\"60.36959\" style=\"fill: #1f77b4; stroke: #1f77b4\"/>\n     <use xlink:href=\"#m9c0a48bae0\" x=\"152.077829\" y=\"90.193997\" style=\"fill: #1f77b4; stroke: #1f77b4\"/>\n     <use xlink:href=\"#m9c0a48bae0\" x=\"137.071148\" y=\"67.36974\" style=\"fill: #1f77b4; stroke: #1f77b4\"/>\n     <use xlink:href=\"#m9c0a48bae0\" x=\"116.480399\" y=\"86.788824\" style=\"fill: #1f77b4; stroke: #1f77b4\"/>\n     <use xlink:href=\"#m9c0a48bae0\" x=\"123.543255\" y=\"86.546361\" style=\"fill: #1f77b4; stroke: #1f77b4\"/>\n     <use xlink:href=\"#m9c0a48bae0\" x=\"192.460043\" y=\"112.185934\" style=\"fill: #1f77b4; stroke: #1f77b4\"/>\n     <use xlink:href=\"#m9c0a48bae0\" x=\"140.647386\" y=\"94.489472\" style=\"fill: #1f77b4; stroke: #1f77b4\"/>\n     <use xlink:href=\"#m9c0a48bae0\" x=\"134.363296\" y=\"67.275948\" style=\"fill: #1f77b4; stroke: #1f77b4\"/>\n     <use xlink:href=\"#m9c0a48bae0\" x=\"168.199231\" y=\"101.969496\" style=\"fill: #1f77b4; stroke: #1f77b4\"/>\n     <use xlink:href=\"#m9c0a48bae0\" x=\"209.658463\" y=\"139.5\" style=\"fill: #1f77b4; stroke: #1f77b4\"/>\n     <use xlink:href=\"#m9c0a48bae0\" x=\"110.636805\" y=\"57.316222\" style=\"fill: #1f77b4; stroke: #1f77b4\"/>\n     <use xlink:href=\"#m9c0a48bae0\" x=\"149.520746\" y=\"77.241087\" style=\"fill: #1f77b4; stroke: #1f77b4\"/>\n     <use xlink:href=\"#m9c0a48bae0\" x=\"144.171913\" y=\"71.929196\" style=\"fill: #1f77b4; stroke: #1f77b4\"/>\n     <use xlink:href=\"#m9c0a48bae0\" x=\"150.602087\" y=\"95.405822\" style=\"fill: #1f77b4; stroke: #1f77b4\"/>\n     <use xlink:href=\"#m9c0a48bae0\" x=\"98.18339\" y=\"70.014561\" style=\"fill: #1f77b4; stroke: #1f77b4\"/>\n     <use xlink:href=\"#m9c0a48bae0\" x=\"168.438971\" y=\"96.065775\" style=\"fill: #1f77b4; stroke: #1f77b4\"/>\n     <use xlink:href=\"#m9c0a48bae0\" x=\"110.066623\" y=\"64.917285\" style=\"fill: #1f77b4; stroke: #1f77b4\"/>\n     <use xlink:href=\"#m9c0a48bae0\" x=\"109.079524\" y=\"44.488448\" style=\"fill: #1f77b4; stroke: #1f77b4\"/>\n     <use xlink:href=\"#m9c0a48bae0\" x=\"139.812414\" y=\"83.414046\" style=\"fill: #1f77b4; stroke: #1f77b4\"/>\n     <use xlink:href=\"#m9c0a48bae0\" x=\"117.066946\" y=\"67.429249\" style=\"fill: #1f77b4; stroke: #1f77b4\"/>\n     <use xlink:href=\"#m9c0a48bae0\" x=\"143.928991\" y=\"73.006147\" style=\"fill: #1f77b4; stroke: #1f77b4\"/>\n     <use xlink:href=\"#m9c0a48bae0\" x=\"158.856287\" y=\"94.823193\" style=\"fill: #1f77b4; stroke: #1f77b4\"/>\n     <use xlink:href=\"#m9c0a48bae0\" x=\"148.419232\" y=\"84.855744\" style=\"fill: #1f77b4; stroke: #1f77b4\"/>\n     <use xlink:href=\"#m9c0a48bae0\" x=\"115.408548\" y=\"66.65173\" style=\"fill: #1f77b4; stroke: #1f77b4\"/>\n     <use xlink:href=\"#m9c0a48bae0\" x=\"69.574939\" y=\"31.580028\" style=\"fill: #1f77b4; stroke: #1f77b4\"/>\n     <use xlink:href=\"#m9c0a48bae0\" x=\"175.820975\" y=\"88.513988\" style=\"fill: #1f77b4; stroke: #1f77b4\"/>\n     <use xlink:href=\"#m9c0a48bae0\" x=\"130.105361\" y=\"64.582395\" style=\"fill: #1f77b4; stroke: #1f77b4\"/>\n     <use xlink:href=\"#m9c0a48bae0\" x=\"92.908255\" y=\"47.729594\" style=\"fill: #1f77b4; stroke: #1f77b4\"/>\n     <use xlink:href=\"#m9c0a48bae0\" x=\"165.301917\" y=\"84.039909\" style=\"fill: #1f77b4; stroke: #1f77b4\"/>\n     <use xlink:href=\"#m9c0a48bae0\" x=\"125.367983\" y=\"86.078026\" style=\"fill: #1f77b4; stroke: #1f77b4\"/>\n     <use xlink:href=\"#m9c0a48bae0\" x=\"105.231378\" y=\"80.014425\" style=\"fill: #1f77b4; stroke: #1f77b4\"/>\n     <use xlink:href=\"#m9c0a48bae0\" x=\"143.792511\" y=\"86.946491\" style=\"fill: #1f77b4; stroke: #1f77b4\"/>\n     <use xlink:href=\"#m9c0a48bae0\" x=\"142.131639\" y=\"79.503358\" style=\"fill: #1f77b4; stroke: #1f77b4\"/>\n     <use xlink:href=\"#m9c0a48bae0\" x=\"103.615143\" y=\"61.395103\" style=\"fill: #1f77b4; stroke: #1f77b4\"/>\n     <use xlink:href=\"#m9c0a48bae0\" x=\"159.477086\" y=\"83.213508\" style=\"fill: #1f77b4; stroke: #1f77b4\"/>\n     <use xlink:href=\"#m9c0a48bae0\" x=\"129.669782\" y=\"85.343287\" style=\"fill: #1f77b4; stroke: #1f77b4\"/>\n     <use xlink:href=\"#m9c0a48bae0\" x=\"98.98135\" y=\"66.61496\" style=\"fill: #1f77b4; stroke: #1f77b4\"/>\n     <use xlink:href=\"#m9c0a48bae0\" x=\"155.864158\" y=\"105.903664\" style=\"fill: #1f77b4; stroke: #1f77b4\"/>\n     <use xlink:href=\"#m9c0a48bae0\" x=\"123.592938\" y=\"83.227848\" style=\"fill: #1f77b4; stroke: #1f77b4\"/>\n     <use xlink:href=\"#m9c0a48bae0\" x=\"138.046264\" y=\"76.307498\" style=\"fill: #1f77b4; stroke: #1f77b4\"/>\n     <use xlink:href=\"#m9c0a48bae0\" x=\"143.281213\" y=\"86.638587\" style=\"fill: #1f77b4; stroke: #1f77b4\"/>\n     <use xlink:href=\"#m9c0a48bae0\" x=\"86.599884\" y=\"52.84852\" style=\"fill: #1f77b4; stroke: #1f77b4\"/>\n     <use xlink:href=\"#m9c0a48bae0\" x=\"92.168335\" y=\"46.839188\" style=\"fill: #1f77b4; stroke: #1f77b4\"/>\n     <use xlink:href=\"#m9c0a48bae0\" x=\"112.139363\" y=\"66.812026\" style=\"fill: #1f77b4; stroke: #1f77b4\"/>\n     <use xlink:href=\"#m9c0a48bae0\" x=\"72.430734\" y=\"45.282497\" style=\"fill: #1f77b4; stroke: #1f77b4\"/>\n     <use xlink:href=\"#m9c0a48bae0\" x=\"125.988229\" y=\"95.35915\" style=\"fill: #1f77b4; stroke: #1f77b4\"/>\n     <use xlink:href=\"#m9c0a48bae0\" x=\"148.215519\" y=\"85.305091\" style=\"fill: #1f77b4; stroke: #1f77b4\"/>\n     <use xlink:href=\"#m9c0a48bae0\" x=\"173.124608\" y=\"102.893572\" style=\"fill: #1f77b4; stroke: #1f77b4\"/>\n     <use xlink:href=\"#m9c0a48bae0\" x=\"125.094101\" y=\"58.834151\" style=\"fill: #1f77b4; stroke: #1f77b4\"/>\n     <use xlink:href=\"#m9c0a48bae0\" x=\"99.50161\" y=\"70.226554\" style=\"fill: #1f77b4; stroke: #1f77b4\"/>\n     <use xlink:href=\"#m9c0a48bae0\" x=\"132.722896\" y=\"78.805163\" style=\"fill: #1f77b4; stroke: #1f77b4\"/>\n     <use xlink:href=\"#m9c0a48bae0\" x=\"113.096248\" y=\"78.508595\" style=\"fill: #1f77b4; stroke: #1f77b4\"/>\n     <use xlink:href=\"#m9c0a48bae0\" x=\"148.932729\" y=\"106.39803\" style=\"fill: #1f77b4; stroke: #1f77b4\"/>\n     <use xlink:href=\"#m9c0a48bae0\" x=\"179.524865\" y=\"103.034615\" style=\"fill: #1f77b4; stroke: #1f77b4\"/>\n     <use xlink:href=\"#m9c0a48bae0\" x=\"151.685322\" y=\"82.752634\" style=\"fill: #1f77b4; stroke: #1f77b4\"/>\n     <use xlink:href=\"#m9c0a48bae0\" x=\"152.142337\" y=\"96.256917\" style=\"fill: #1f77b4; stroke: #1f77b4\"/>\n     <use xlink:href=\"#m9c0a48bae0\" x=\"80.324995\" y=\"53.30125\" style=\"fill: #1f77b4; stroke: #1f77b4\"/>\n     <use xlink:href=\"#m9c0a48bae0\" x=\"121.571711\" y=\"79.78276\" style=\"fill: #1f77b4; stroke: #1f77b4\"/>\n     <use xlink:href=\"#m9c0a48bae0\" x=\"85.543694\" y=\"55.115947\" style=\"fill: #1f77b4; stroke: #1f77b4\"/>\n     <use xlink:href=\"#m9c0a48bae0\" x=\"101.385922\" y=\"74.130893\" style=\"fill: #1f77b4; stroke: #1f77b4\"/>\n     <use xlink:href=\"#m9c0a48bae0\" x=\"126.927217\" y=\"69.760902\" style=\"fill: #1f77b4; stroke: #1f77b4\"/>\n     <use xlink:href=\"#m9c0a48bae0\" x=\"149.584072\" y=\"92.042861\" style=\"fill: #1f77b4; stroke: #1f77b4\"/>\n     <use xlink:href=\"#m9c0a48bae0\" x=\"136.61119\" y=\"81.941254\" style=\"fill: #1f77b4; stroke: #1f77b4\"/>\n     <use xlink:href=\"#m9c0a48bae0\" x=\"153.532728\" y=\"95.746956\" style=\"fill: #1f77b4; stroke: #1f77b4\"/>\n     <use xlink:href=\"#m9c0a48bae0\" x=\"97.31495\" y=\"35.600535\" style=\"fill: #1f77b4; stroke: #1f77b4\"/>\n     <use xlink:href=\"#m9c0a48bae0\" x=\"106.439084\" y=\"77.824187\" style=\"fill: #1f77b4; stroke: #1f77b4\"/>\n     <use xlink:href=\"#m9c0a48bae0\" x=\"163.592894\" y=\"94.268937\" style=\"fill: #1f77b4; stroke: #1f77b4\"/>\n     <use xlink:href=\"#m9c0a48bae0\" x=\"73.182287\" y=\"36.835175\" style=\"fill: #1f77b4; stroke: #1f77b4\"/>\n     <use xlink:href=\"#m9c0a48bae0\" x=\"164.65643\" y=\"74.382879\" style=\"fill: #1f77b4; stroke: #1f77b4\"/>\n     <use xlink:href=\"#m9c0a48bae0\" x=\"116.296001\" y=\"75.526047\" style=\"fill: #1f77b4; stroke: #1f77b4\"/>\n     <use xlink:href=\"#m9c0a48bae0\" x=\"133.525375\" y=\"74.177502\" style=\"fill: #1f77b4; stroke: #1f77b4\"/>\n     <use xlink:href=\"#m9c0a48bae0\" x=\"103.382952\" y=\"53.761434\" style=\"fill: #1f77b4; stroke: #1f77b4\"/>\n     <use xlink:href=\"#m9c0a48bae0\" x=\"126.442333\" y=\"84.189451\" style=\"fill: #1f77b4; stroke: #1f77b4\"/>\n     <use xlink:href=\"#m9c0a48bae0\" x=\"75.952778\" y=\"47.326178\" style=\"fill: #1f77b4; stroke: #1f77b4\"/>\n     <use xlink:href=\"#m9c0a48bae0\" x=\"162.550704\" y=\"102.535016\" style=\"fill: #1f77b4; stroke: #1f77b4\"/>\n     <use xlink:href=\"#m9c0a48bae0\" x=\"64.122119\" y=\"21.405272\" style=\"fill: #1f77b4; stroke: #1f77b4\"/>\n     <use xlink:href=\"#m9c0a48bae0\" x=\"165.258992\" y=\"110.991585\" style=\"fill: #1f77b4; stroke: #1f77b4\"/>\n     <use xlink:href=\"#m9c0a48bae0\" x=\"129.139433\" y=\"61.485797\" style=\"fill: #1f77b4; stroke: #1f77b4\"/>\n    </g>\n   </g>\n   <g id=\"matplotlib.axis_1\">\n    <g id=\"xtick_1\">\n     <g id=\"line2d_1\">\n      <path d=\"M 70.098674 145.8 \nL 70.098674 7.2 \n\" clip-path=\"url(#pff8ed50fd0)\" style=\"fill: none; stroke: #b0b0b0; stroke-width: 0.8; stroke-linecap: square\"/>\n     </g>\n     <g id=\"line2d_2\">\n      <defs>\n       <path id=\"mdc5a990f4c\" d=\"M 0 0 \nL 0 3.5 \n\" style=\"stroke: #000000; stroke-width: 0.8\"/>\n      </defs>\n      <g>\n       <use xlink:href=\"#mdc5a990f4c\" x=\"70.098674\" y=\"145.8\" style=\"stroke: #000000; stroke-width: 0.8\"/>\n      </g>\n     </g>\n     <g id=\"text_1\">\n      <!-- −2 -->\n      <g transform=\"translate(62.72758 160.398438) scale(0.1 -0.1)\">\n       <defs>\n        <path id=\"DejaVuSans-2212\" d=\"M 678 2272 \nL 4684 2272 \nL 4684 1741 \nL 678 1741 \nL 678 2272 \nz\n\" transform=\"scale(0.015625)\"/>\n        <path id=\"DejaVuSans-32\" d=\"M 1228 531 \nL 3431 531 \nL 3431 0 \nL 469 0 \nL 469 531 \nQ 828 903 1448 1529 \nQ 2069 2156 2228 2338 \nQ 2531 2678 2651 2914 \nQ 2772 3150 2772 3378 \nQ 2772 3750 2511 3984 \nQ 2250 4219 1831 4219 \nQ 1534 4219 1204 4116 \nQ 875 4013 500 3803 \nL 500 4441 \nQ 881 4594 1212 4672 \nQ 1544 4750 1819 4750 \nQ 2544 4750 2975 4387 \nQ 3406 4025 3406 3419 \nQ 3406 3131 3298 2873 \nQ 3191 2616 2906 2266 \nQ 2828 2175 2409 1742 \nQ 1991 1309 1228 531 \nz\n\" transform=\"scale(0.015625)\"/>\n       </defs>\n       <use xlink:href=\"#DejaVuSans-2212\"/>\n       <use xlink:href=\"#DejaVuSans-32\" x=\"83.789062\"/>\n      </g>\n     </g>\n    </g>\n    <g id=\"xtick_2\">\n     <g id=\"line2d_3\">\n      <path d=\"M 128.322579 145.8 \nL 128.322579 7.2 \n\" clip-path=\"url(#pff8ed50fd0)\" style=\"fill: none; stroke: #b0b0b0; stroke-width: 0.8; stroke-linecap: square\"/>\n     </g>\n     <g id=\"line2d_4\">\n      <g>\n       <use xlink:href=\"#mdc5a990f4c\" x=\"128.322579\" y=\"145.8\" style=\"stroke: #000000; stroke-width: 0.8\"/>\n      </g>\n     </g>\n     <g id=\"text_2\">\n      <!-- 0 -->\n      <g transform=\"translate(125.141329 160.398438) scale(0.1 -0.1)\">\n       <defs>\n        <path id=\"DejaVuSans-30\" d=\"M 2034 4250 \nQ 1547 4250 1301 3770 \nQ 1056 3291 1056 2328 \nQ 1056 1369 1301 889 \nQ 1547 409 2034 409 \nQ 2525 409 2770 889 \nQ 3016 1369 3016 2328 \nQ 3016 3291 2770 3770 \nQ 2525 4250 2034 4250 \nz\nM 2034 4750 \nQ 2819 4750 3233 4129 \nQ 3647 3509 3647 2328 \nQ 3647 1150 3233 529 \nQ 2819 -91 2034 -91 \nQ 1250 -91 836 529 \nQ 422 1150 422 2328 \nQ 422 3509 836 4129 \nQ 1250 4750 2034 4750 \nz\n\" transform=\"scale(0.015625)\"/>\n       </defs>\n       <use xlink:href=\"#DejaVuSans-30\"/>\n      </g>\n     </g>\n    </g>\n    <g id=\"xtick_3\">\n     <g id=\"line2d_5\">\n      <path d=\"M 186.546484 145.8 \nL 186.546484 7.2 \n\" clip-path=\"url(#pff8ed50fd0)\" style=\"fill: none; stroke: #b0b0b0; stroke-width: 0.8; stroke-linecap: square\"/>\n     </g>\n     <g id=\"line2d_6\">\n      <g>\n       <use xlink:href=\"#mdc5a990f4c\" x=\"186.546484\" y=\"145.8\" style=\"stroke: #000000; stroke-width: 0.8\"/>\n      </g>\n     </g>\n     <g id=\"text_3\">\n      <!-- 2 -->\n      <g transform=\"translate(183.365234 160.398438) scale(0.1 -0.1)\">\n       <use xlink:href=\"#DejaVuSans-32\"/>\n      </g>\n     </g>\n    </g>\n   </g>\n   <g id=\"matplotlib.axis_2\">\n    <g id=\"ytick_1\">\n     <g id=\"line2d_7\">\n      <path d=\"M 35.304688 145.211994 \nL 230.604688 145.211994 \n\" clip-path=\"url(#pff8ed50fd0)\" style=\"fill: none; stroke: #b0b0b0; stroke-width: 0.8; stroke-linecap: square\"/>\n     </g>\n     <g id=\"line2d_8\">\n      <defs>\n       <path id=\"m74d7e89431\" d=\"M 0 0 \nL -3.5 0 \n\" style=\"stroke: #000000; stroke-width: 0.8\"/>\n      </defs>\n      <g>\n       <use xlink:href=\"#m74d7e89431\" x=\"35.304688\" y=\"145.211994\" style=\"stroke: #000000; stroke-width: 0.8\"/>\n      </g>\n     </g>\n     <g id=\"text_4\">\n      <!-- −10 -->\n      <g transform=\"translate(7.2 149.011213) scale(0.1 -0.1)\">\n       <defs>\n        <path id=\"DejaVuSans-31\" d=\"M 794 531 \nL 1825 531 \nL 1825 4091 \nL 703 3866 \nL 703 4441 \nL 1819 4666 \nL 2450 4666 \nL 2450 531 \nL 3481 531 \nL 3481 0 \nL 794 0 \nL 794 531 \nz\n\" transform=\"scale(0.015625)\"/>\n       </defs>\n       <use xlink:href=\"#DejaVuSans-2212\"/>\n       <use xlink:href=\"#DejaVuSans-31\" x=\"83.789062\"/>\n       <use xlink:href=\"#DejaVuSans-30\" x=\"147.412109\"/>\n      </g>\n     </g>\n    </g>\n    <g id=\"ytick_2\">\n     <g id=\"line2d_9\">\n      <path d=\"M 35.304688 120.316035 \nL 230.604688 120.316035 \n\" clip-path=\"url(#pff8ed50fd0)\" style=\"fill: none; stroke: #b0b0b0; stroke-width: 0.8; stroke-linecap: square\"/>\n     </g>\n     <g id=\"line2d_10\">\n      <g>\n       <use xlink:href=\"#m74d7e89431\" x=\"35.304688\" y=\"120.316035\" style=\"stroke: #000000; stroke-width: 0.8\"/>\n      </g>\n     </g>\n     <g id=\"text_5\">\n      <!-- −5 -->\n      <g transform=\"translate(13.5625 124.115253) scale(0.1 -0.1)\">\n       <defs>\n        <path id=\"DejaVuSans-35\" d=\"M 691 4666 \nL 3169 4666 \nL 3169 4134 \nL 1269 4134 \nL 1269 2991 \nQ 1406 3038 1543 3061 \nQ 1681 3084 1819 3084 \nQ 2600 3084 3056 2656 \nQ 3513 2228 3513 1497 \nQ 3513 744 3044 326 \nQ 2575 -91 1722 -91 \nQ 1428 -91 1123 -41 \nQ 819 9 494 109 \nL 494 744 \nQ 775 591 1075 516 \nQ 1375 441 1709 441 \nQ 2250 441 2565 725 \nQ 2881 1009 2881 1497 \nQ 2881 1984 2565 2268 \nQ 2250 2553 1709 2553 \nQ 1456 2553 1204 2497 \nQ 953 2441 691 2322 \nL 691 4666 \nz\n\" transform=\"scale(0.015625)\"/>\n       </defs>\n       <use xlink:href=\"#DejaVuSans-2212\"/>\n       <use xlink:href=\"#DejaVuSans-35\" x=\"83.789062\"/>\n      </g>\n     </g>\n    </g>\n    <g id=\"ytick_3\">\n     <g id=\"line2d_11\">\n      <path d=\"M 35.304688 95.420075 \nL 230.604688 95.420075 \n\" clip-path=\"url(#pff8ed50fd0)\" style=\"fill: none; stroke: #b0b0b0; stroke-width: 0.8; stroke-linecap: square\"/>\n     </g>\n     <g id=\"line2d_12\">\n      <g>\n       <use xlink:href=\"#m74d7e89431\" x=\"35.304688\" y=\"95.420075\" style=\"stroke: #000000; stroke-width: 0.8\"/>\n      </g>\n     </g>\n     <g id=\"text_6\">\n      <!-- 0 -->\n      <g transform=\"translate(21.942187 99.219294) scale(0.1 -0.1)\">\n       <use xlink:href=\"#DejaVuSans-30\"/>\n      </g>\n     </g>\n    </g>\n    <g id=\"ytick_4\">\n     <g id=\"line2d_13\">\n      <path d=\"M 35.304688 70.524116 \nL 230.604688 70.524116 \n\" clip-path=\"url(#pff8ed50fd0)\" style=\"fill: none; stroke: #b0b0b0; stroke-width: 0.8; stroke-linecap: square\"/>\n     </g>\n     <g id=\"line2d_14\">\n      <g>\n       <use xlink:href=\"#m74d7e89431\" x=\"35.304688\" y=\"70.524116\" style=\"stroke: #000000; stroke-width: 0.8\"/>\n      </g>\n     </g>\n     <g id=\"text_7\">\n      <!-- 5 -->\n      <g transform=\"translate(21.942187 74.323335) scale(0.1 -0.1)\">\n       <use xlink:href=\"#DejaVuSans-35\"/>\n      </g>\n     </g>\n    </g>\n    <g id=\"ytick_5\">\n     <g id=\"line2d_15\">\n      <path d=\"M 35.304688 45.628157 \nL 230.604688 45.628157 \n\" clip-path=\"url(#pff8ed50fd0)\" style=\"fill: none; stroke: #b0b0b0; stroke-width: 0.8; stroke-linecap: square\"/>\n     </g>\n     <g id=\"line2d_16\">\n      <g>\n       <use xlink:href=\"#m74d7e89431\" x=\"35.304688\" y=\"45.628157\" style=\"stroke: #000000; stroke-width: 0.8\"/>\n      </g>\n     </g>\n     <g id=\"text_8\">\n      <!-- 10 -->\n      <g transform=\"translate(15.579687 49.427375) scale(0.1 -0.1)\">\n       <use xlink:href=\"#DejaVuSans-31\"/>\n       <use xlink:href=\"#DejaVuSans-30\" x=\"63.623047\"/>\n      </g>\n     </g>\n    </g>\n    <g id=\"ytick_6\">\n     <g id=\"line2d_17\">\n      <path d=\"M 35.304688 20.732197 \nL 230.604688 20.732197 \n\" clip-path=\"url(#pff8ed50fd0)\" style=\"fill: none; stroke: #b0b0b0; stroke-width: 0.8; stroke-linecap: square\"/>\n     </g>\n     <g id=\"line2d_18\">\n      <g>\n       <use xlink:href=\"#m74d7e89431\" x=\"35.304688\" y=\"20.732197\" style=\"stroke: #000000; stroke-width: 0.8\"/>\n      </g>\n     </g>\n     <g id=\"text_9\">\n      <!-- 15 -->\n      <g transform=\"translate(15.579687 24.531416) scale(0.1 -0.1)\">\n       <use xlink:href=\"#DejaVuSans-31\"/>\n       <use xlink:href=\"#DejaVuSans-35\" x=\"63.623047\"/>\n      </g>\n     </g>\n    </g>\n   </g>\n   <g id=\"patch_3\">\n    <path d=\"M 35.304688 145.8 \nL 35.304688 7.2 \n\" style=\"fill: none; stroke: #000000; stroke-width: 0.8; stroke-linejoin: miter; stroke-linecap: square\"/>\n   </g>\n   <g id=\"patch_4\">\n    <path d=\"M 230.604688 145.8 \nL 230.604688 7.2 \n\" style=\"fill: none; stroke: #000000; stroke-width: 0.8; stroke-linejoin: miter; stroke-linecap: square\"/>\n   </g>\n   <g id=\"patch_5\">\n    <path d=\"M 35.304687 145.8 \nL 230.604688 145.8 \n\" style=\"fill: none; stroke: #000000; stroke-width: 0.8; stroke-linejoin: miter; stroke-linecap: square\"/>\n   </g>\n   <g id=\"patch_6\">\n    <path d=\"M 35.304687 7.2 \nL 230.604688 7.2 \n\" style=\"fill: none; stroke: #000000; stroke-width: 0.8; stroke-linejoin: miter; stroke-linecap: square\"/>\n   </g>\n  </g>\n </g>\n <defs>\n  <clipPath id=\"pff8ed50fd0\">\n   <rect x=\"35.304688\" y=\"7.2\" width=\"195.3\" height=\"138.6\"/>\n  </clipPath>\n </defs>\n</svg>\n",
      "text/plain": [
       "<Figure size 350x250 with 1 Axes>"
      ]
     },
     "metadata": {},
     "output_type": "display_data"
    }
   ],
   "source": [
    "bcil.set_matplotlib_formats('svg')\n",
    "plt.rcParams['figure.figsize'] = (3.5, 2.5)\n",
    "plt.grid()\n",
    "plt.scatter(features[:, 1].detach().numpy(), labels.detach().numpy(), s=1)\n",
    "\"\"\" numpy() 不放到梯度中 \"\"\""
   ]
  },
  {
   "cell_type": "code",
   "execution_count": 7,
   "id": "77435500",
   "metadata": {
    "colab": {
     "base_uri": "https://localhost:8080/"
    },
    "executionInfo": {
     "elapsed": 4,
     "status": "ok",
     "timestamp": 1674123386519,
     "user": {
      "displayName": "周佳林",
      "userId": "18191733824795449952"
     },
     "user_tz": -480
    },
    "id": "77435500",
    "outputId": "b9271e55-8641-4903-dea4-ad9b0e4ce561"
   },
   "outputs": [
    {
     "name": "stdout",
     "output_type": "stream",
     "text": [
      "tensor([[-0.5535, -1.4695],\n",
      "        [ 0.2978, -1.2136],\n",
      "        [-0.0136, -1.5303],\n",
      "        [-0.0338, -0.0791],\n",
      "        [ 0.7370, -0.4877],\n",
      "        [-1.4166, -1.6448],\n",
      "        [ 0.2708, -1.0255],\n",
      "        [ 2.1257, -1.3070],\n",
      "        [ 0.3409, -0.6775],\n",
      "        [ 1.1093,  1.3337]]) \n",
      " tensor([[ 8.0945],\n",
      "        [ 8.9210],\n",
      "        [ 9.3697],\n",
      "        [ 4.3949],\n",
      "        [ 7.3333],\n",
      "        [ 6.9453],\n",
      "        [ 8.2214],\n",
      "        [12.8926],\n",
      "        [ 7.1833],\n",
      "        [ 1.8981]])\n"
     ]
    }
   ],
   "source": [
    "# 实现小批量读取\n",
    "def data_iter(batch_size, features, labels):\n",
    "    num_examples = features.shape[0]\n",
    "    indices = list(range(num_examples))\n",
    "    random.shuffle(indices) # 将原列表顺序打乱\n",
    "    for i in range(0, num_examples, batch_size):\n",
    "        batch_indices = torch.tensor(\n",
    "            indices[i: min(i + batch_size, num_examples)]) # 有可能超出索引范围： min()\n",
    "        yield features[batch_indices], labels[batch_indices]\n",
    "\n",
    "batch_size = 10\n",
    "\n",
    "for X, y in data_iter(batch_size, features, labels):\n",
    "    print(X, '\\n', y)\n",
    "    break"
   ]
  },
  {
   "cell_type": "markdown",
   "id": "fd889237",
   "metadata": {
    "id": "fd889237"
   },
   "source": [
    "参数初始化"
   ]
  },
  {
   "cell_type": "code",
   "execution_count": 8,
   "id": "d6289bb7",
   "metadata": {
    "id": "d6289bb7"
   },
   "outputs": [],
   "source": [
    "w = torch.normal(0, 0.01, size=(2, 1), requires_grad=True)\n",
    "b = torch.zeros(1, requires_grad=True)"
   ]
  },
  {
   "cell_type": "code",
   "execution_count": 9,
   "id": "4eddf458",
   "metadata": {
    "id": "4eddf458"
   },
   "outputs": [],
   "source": [
    "# 定义模型\n",
    "def linreg(X, w, b):\n",
    "    return torch.matmul(X, w) + b"
   ]
  },
  {
   "cell_type": "code",
   "execution_count": 10,
   "id": "48afad4a",
   "metadata": {
    "id": "48afad4a"
   },
   "outputs": [],
   "source": [
    "# 损失函数\n",
    "def squred_loss(y_hat, y):\n",
    "    return (y_hat - y.reshape(y_hat.shape)) ** 2"
   ]
  },
  {
   "cell_type": "code",
   "execution_count": 11,
   "id": "5314ad83",
   "metadata": {
    "id": "5314ad83"
   },
   "outputs": [],
   "source": [
    "# 定义优化算法\n",
    "def sgd(params, lr, batch_size):\n",
    "    with torch.no_grad(): # 梯度优化不需要梯度计算\n",
    "        for param in params:\n",
    "            param -= lr * param.grad / batch_size\n",
    "            param.grad.zero_() # 手动归零"
   ]
  },
  {
   "cell_type": "code",
   "execution_count": 12,
   "id": "0ca1fa5b",
   "metadata": {
    "colab": {
     "base_uri": "https://localhost:8080/"
    },
    "executionInfo": {
     "elapsed": 363,
     "status": "ok",
     "timestamp": 1674123387240,
     "user": {
      "displayName": "周佳林",
      "userId": "18191733824795449952"
     },
     "user_tz": -480
    },
    "id": "0ca1fa5b",
    "outputId": "536e49c9-550c-4d90-b332-6d4e2b47aab5"
   },
   "outputs": [
    {
     "name": "stdout",
     "output_type": "stream",
     "text": [
      "epochs 1, loss 0.00011600\n",
      "epochs 2, loss 0.00011253\n",
      "epochs 3, loss 0.00011205\n",
      "epochs 4, loss 0.00011765\n",
      "epochs 5, loss 0.00011587\n",
      "epochs 6, loss 0.00011694\n",
      "epochs 7, loss 0.00011359\n",
      "epochs 8, loss 0.00011454\n",
      "epochs 9, loss 0.00011515\n",
      "epochs 10, loss 0.00011174\n"
     ]
    }
   ],
   "source": [
    "lr = 0.1\n",
    "num_epochs = 10\n",
    "net = linreg\n",
    "loss = squred_loss\n",
    "batch_size = 10\n",
    "\n",
    "for epoch in range(num_epochs):\n",
    "    for X, y in data_iter(batch_size, features, labels):\n",
    "        l = loss(net(X, w, b), y)\n",
    "        # l 的形状是 (batch_size, 1), 不是标量, 无法计算梯度\n",
    "        # 使用 sum 累加损失\n",
    "        l.sum().backward()\n",
    "        sgd([w, b], lr, batch_size)\n",
    "    with torch.no_grad():\n",
    "        train = loss(net(features, w, b), labels)\n",
    "        print(f\"epochs {epoch+1}, loss {float(train.mean()):.8f}\")"
   ]
  },
  {
   "cell_type": "markdown",
   "id": "S672E1WJi-jy",
   "metadata": {
    "id": "S672E1WJi-jy"
   },
   "source": [
    "# 利用 `Pytorch` 的工具"
   ]
  },
  {
   "cell_type": "code",
   "execution_count": 13,
   "id": "5e1c2c3d",
   "metadata": {
    "id": "5e1c2c3d"
   },
   "outputs": [],
   "source": [
    "\"\"\" 使用 Pytorch 提供的工具 \"\"\"\n",
    "features, labels = synthetic_data(true_w, true_b, 1000) # 生产初始化参数"
   ]
  },
  {
   "cell_type": "code",
   "execution_count": 14,
   "id": "19a7aee9",
   "metadata": {
    "colab": {
     "base_uri": "https://localhost:8080/"
    },
    "executionInfo": {
     "elapsed": 9,
     "status": "ok",
     "timestamp": 1674123387241,
     "user": {
      "displayName": "周佳林",
      "userId": "18191733824795449952"
     },
     "user_tz": -480
    },
    "id": "19a7aee9",
    "outputId": "8b0dcf63-96fe-4573-c055-90a57a0e859a"
   },
   "outputs": [
    {
     "data": {
      "text/plain": [
       "[tensor([[-0.9152,  0.9623],\n",
       "         [ 1.0335, -0.9103],\n",
       "         [-2.1490,  0.4138],\n",
       "         [-0.0395,  1.3234],\n",
       "         [-0.9661, -0.0449],\n",
       "         [-1.2673, -1.2078],\n",
       "         [ 0.3277,  1.0542],\n",
       "         [ 0.2874, -2.2370],\n",
       "         [ 0.5535,  0.8053],\n",
       "         [ 1.8298,  0.0035]]),\n",
       " tensor([[-0.9007],\n",
       "         [ 9.3550],\n",
       "         [-1.5175],\n",
       "         [-0.3533],\n",
       "         [ 2.4242],\n",
       "         [ 5.7774],\n",
       "         [ 1.2573],\n",
       "         [12.3751],\n",
       "         [ 2.5597],\n",
       "         [ 7.8401]])]"
      ]
     },
     "execution_count": 14,
     "metadata": {},
     "output_type": "execute_result"
    }
   ],
   "source": [
    "def load_array(data_arrays, batch_size, is_train=True):\n",
    "    dataset = data.TensorDataset(*data_arrays) # 当传递值为迭代器时, 使用*修饰\n",
    "    return data.DataLoader(dataset, batch_size, shuffle = is_train)\n",
    "\n",
    "batch_size = 10\n",
    "data_iter = load_array((features, labels), batch_size, True)\n",
    "\n",
    "next(iter(data_iter)) # 得到一个返回"
   ]
  },
  {
   "cell_type": "code",
   "execution_count": 15,
   "id": "47f0520f",
   "metadata": {
    "id": "47f0520f"
   },
   "outputs": [],
   "source": [
    "\"\"\" Sequential : list of layers\"\"\"\n",
    "net = nn.Sequential(nn.Linear(2, 1)) # 等价于全连接层"
   ]
  },
  {
   "cell_type": "code",
   "execution_count": 16,
   "id": "dca55d56",
   "metadata": {
    "colab": {
     "base_uri": "https://localhost:8080/"
    },
    "executionInfo": {
     "elapsed": 7,
     "status": "ok",
     "timestamp": 1674123387241,
     "user": {
      "displayName": "周佳林",
      "userId": "18191733824795449952"
     },
     "user_tz": -480
    },
    "id": "dca55d56",
    "outputId": "b26eed14-f91c-45cd-8039-0046ba302997"
   },
   "outputs": [
    {
     "data": {
      "text/plain": [
       "tensor([0.])"
      ]
     },
     "execution_count": 16,
     "metadata": {},
     "output_type": "execute_result"
    }
   ],
   "source": [
    "\"\"\" 初始化参数模型 \"\"\"\n",
    "net[0].weight.data.normal_(0, 0.01)\n",
    "net[0].bias.data.fill_(0)"
   ]
  },
  {
   "cell_type": "code",
   "execution_count": 17,
   "id": "767c87b6",
   "metadata": {
    "id": "767c87b6"
   },
   "outputs": [],
   "source": [
    "loss = nn.MSELoss() # 均方误差"
   ]
  },
  {
   "cell_type": "code",
   "execution_count": 18,
   "id": "f29e8b8d",
   "metadata": {
    "id": "f29e8b8d"
   },
   "outputs": [],
   "source": [
    "trainer = torch.optim.SGD(net.parameters(), lr=0.03)"
   ]
  },
  {
   "cell_type": "code",
   "execution_count": 19,
   "id": "611d8c4d",
   "metadata": {
    "colab": {
     "base_uri": "https://localhost:8080/"
    },
    "executionInfo": {
     "elapsed": 1061,
     "status": "ok",
     "timestamp": 1674123388296,
     "user": {
      "displayName": "周佳林",
      "userId": "18191733824795449952"
     },
     "user_tz": -480
    },
    "id": "611d8c4d",
    "outputId": "215ffa3c-13f2-4e27-b15a-cc02b7c8ee3c"
   },
   "outputs": [
    {
     "name": "stdout",
     "output_type": "stream",
     "text": [
      "epochs: 1, loss:0.00017083\n",
      "epochs: 2, loss:0.00009797\n",
      "epochs: 3, loss:0.00009875\n",
      "epochs: 4, loss:0.00009785\n",
      "epochs: 5, loss:0.00009926\n",
      "epochs: 6, loss:0.00009777\n",
      "epochs: 7, loss:0.00009926\n",
      "epochs: 8, loss:0.00009803\n",
      "epochs: 9, loss:0.00009794\n",
      "epochs: 10, loss:0.00009863\n"
     ]
    }
   ],
   "source": [
    "num_epochs = 10\n",
    "for epoch in range(num_epochs):\n",
    "    for X, y in data_iter:\n",
    "        l = loss(net(X), y) # Pytorch 默认进行了 sum() 运算\n",
    "        trainer.zero_grad()\n",
    "        l.backward()\n",
    "        trainer.step()\n",
    "    with torch.no_grad():\n",
    "        l = loss(net(features), labels)\n",
    "        print(f\"epochs: {epoch + 1}, loss:{l:.8f}\") # MSELoss没有 / 2"
   ]
  },
  {
   "attachments": {},
   "cell_type": "markdown",
   "id": "2rAGm8roiTpL",
   "metadata": {
    "id": "2rAGm8roiTpL"
   },
   "source": [
    "`batchsize` 反直觉\n",
    "\n",
    "  有的时候越小越好？ \n",
    "\n",
    "> 小的`batchsize`可以提高噪声，提高鲁棒性？\n",
    "\n",
    "建模是不精确的，优化也是不精确的[即深度学习的两个模型都是不精确的]\n",
    "\n",
    "- 不太关心统计的最优解\n",
    "- 关心**收敛的地方**，希望收敛的地方平坦，范化性很好\n",
    "\n",
    "batch_size 不是整数倍\n",
    "1. 调整 batch_size\n",
    "2. 舍弃数据多余部分\n",
    "3. 从下一个 epoch 中借用数据\n",
    "\n",
    "NaN 是由于每一次梯度迭代存在除法\n",
    "\n",
    "> 有可能被除数有 0 或者 inf\n",
    "\n",
    "** 超参数 **\n",
    "\n",
    "超参数是指神经网络学习前需要确定的值，不是通过训练得出"
   ]
  },
  {
   "cell_type": "code",
   "execution_count": null,
   "id": "QOaSQ81Cmy4s",
   "metadata": {
    "id": "QOaSQ81Cmy4s"
   },
   "outputs": [],
   "source": []
  }
 ],
 "metadata": {
  "colab": {
   "provenance": []
  },
  "gpuClass": "standard",
  "kernelspec": {
   "display_name": "Python 3 (ipykernel)",
   "language": "python",
   "name": "python3"
  },
  "language_info": {
   "codemirror_mode": {
    "name": "ipython",
    "version": 3
   },
   "file_extension": ".py",
   "mimetype": "text/x-python",
   "name": "python",
   "nbconvert_exporter": "python",
   "pygments_lexer": "ipython3",
   "version": "3.8.16"
  },
  "vscode": {
   "interpreter": {
    "hash": "e68e5b16d81fa9059e1158f6a4d703d6dd8750a9ccfa1e75dbe04c34949a9a2e"
   }
  }
 },
 "nbformat": 4,
 "nbformat_minor": 5
}
