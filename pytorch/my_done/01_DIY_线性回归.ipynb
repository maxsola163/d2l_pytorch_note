{
 "cells": [
  {
   "cell_type": "markdown",
   "id": "QLqUkcHujFc4",
   "metadata": {
    "id": "QLqUkcHujFc4"
   },
   "source": [
    "# 初始化\n",
    "\n",
    "> 提供了两种线性回归的实现，1、全部自己写，2、使用`pytorch`提供的工具"
   ]
  },
  {
   "cell_type": "code",
   "execution_count": 1,
   "id": "xXeTVncwhuvT",
   "metadata": {
    "colab": {
     "base_uri": "https://localhost:8080/"
    },
    "executionInfo": {
     "elapsed": 7874,
     "status": "ok",
     "timestamp": 1674123386065,
     "user": {
      "displayName": "周佳林",
      "userId": "18191733824795449952"
     },
     "user_tz": -480
    },
    "id": "xXeTVncwhuvT",
    "outputId": "3dcaafb8-d7e6-4545-afbd-9e9977a56107"
   },
   "outputs": [
    {
     "name": "stdout",
     "output_type": "stream",
     "text": [
      "Looking in indexes: https://pypi.douban.com/simple/\n",
      "Requirement already satisfied: matplotlib_inline in c:\\users\\maxsola\\miniconda3\\envs\\d2l\\lib\\site-packages (0.1.6)\n",
      "Requirement already satisfied: traitlets in c:\\users\\maxsola\\miniconda3\\envs\\d2l\\lib\\site-packages (from matplotlib_inline) (5.8.1)\n",
      "Note: you may need to restart the kernel to use updated packages.\n"
     ]
    }
   ],
   "source": [
    "%pip install matplotlib_inline"
   ]
  },
  {
   "cell_type": "markdown",
   "id": "P2SvfPkBi7nd",
   "metadata": {
    "id": "P2SvfPkBi7nd"
   },
   "source": [
    "# 自己做"
   ]
  },
  {
   "cell_type": "code",
   "execution_count": 2,
   "id": "92d07f9a",
   "metadata": {
    "id": "92d07f9a"
   },
   "outputs": [],
   "source": [
    "%matplotlib inline \n",
    "from matplotlib import pyplot as plt\n",
    "from matplotlib_inline import backend_inline as bcil\n",
    "import random\n",
    "import torch\n",
    "from torch.utils import data\n",
    "from torch import nn"
   ]
  },
  {
   "cell_type": "markdown",
   "id": "8b04513d",
   "metadata": {
    "id": "8b04513d"
   },
   "source": [
    "数据集生成"
   ]
  },
  {
   "cell_type": "code",
   "execution_count": 3,
   "id": "240a0c40",
   "metadata": {
    "id": "240a0c40"
   },
   "outputs": [],
   "source": [
    "def synthetic_data(w, b, num_examples):  \n",
    "    \"\"\"生成y=Xw+b+噪声\"\"\"\n",
    "    X = torch.normal(0, 1, (num_examples, len(w)))\n",
    "    y = torch.matmul(X, w) + b # matmul() 对比 mm() 可以实现广播\n",
    "    y += torch.normal(0, 0.01, y.shape)\n",
    "    return X, y.reshape((-1, 1)) # reshape中-1表示自动计算\n",
    "\n",
    "true_w = torch.tensor([2, -3.4])\n",
    "true_b = 4.2\n",
    "features, labels = synthetic_data(true_w, true_b, 1000)"
   ]
  },
  {
   "cell_type": "code",
   "execution_count": 4,
   "id": "5060ea12",
   "metadata": {
    "colab": {
     "base_uri": "https://localhost:8080/"
    },
    "executionInfo": {
     "elapsed": 23,
     "status": "ok",
     "timestamp": 1674123386067,
     "user": {
      "displayName": "周佳林",
      "userId": "18191733824795449952"
     },
     "user_tz": -480
    },
    "id": "5060ea12",
    "outputId": "ae58ca8b-7b9d-44da-fa20-13cdc6a1adb0"
   },
   "outputs": [
    {
     "data": {
      "text/plain": [
       "(torch.Size([1000, 2]), torch.Size([1000, 1]))"
      ]
     },
     "execution_count": 4,
     "metadata": {},
     "output_type": "execute_result"
    }
   ],
   "source": [
    "features.shape, labels.shape"
   ]
  },
  {
   "cell_type": "code",
   "execution_count": 5,
   "id": "bc41acfb",
   "metadata": {
    "colab": {
     "base_uri": "https://localhost:8080/"
    },
    "executionInfo": {
     "elapsed": 21,
     "status": "ok",
     "timestamp": 1674123386067,
     "user": {
      "displayName": "周佳林",
      "userId": "18191733824795449952"
     },
     "user_tz": -480
    },
    "id": "bc41acfb",
    "outputId": "241fff00-8267-44da-f0ce-b6a0c894aed8"
   },
   "outputs": [
    {
     "data": {
      "text/plain": [
       "(tensor([-1.3663,  0.5141]), tensor([-0.2919]))"
      ]
     },
     "execution_count": 5,
     "metadata": {},
     "output_type": "execute_result"
    }
   ],
   "source": [
    "features[0], labels[0]"
   ]
  },
  {
   "cell_type": "code",
   "execution_count": 6,
   "id": "d7ec17e8",
   "metadata": {
    "colab": {
     "base_uri": "https://localhost:8080/",
     "height": 261
    },
    "executionInfo": {
     "elapsed": 470,
     "status": "ok",
     "timestamp": 1674123386518,
     "user": {
      "displayName": "周佳林",
      "userId": "18191733824795449952"
     },
     "user_tz": -480
    },
    "id": "d7ec17e8",
    "outputId": "df06ccea-dc33-481d-b439-0a3b9104bd3c"
   },
   "outputs": [
    {
     "data": {
      "text/plain": [
       "' numpy() 不放到梯度中 '"
      ]
     },
     "execution_count": 6,
     "metadata": {},
     "output_type": "execute_result"
    },
    {
     "data": {
      "image/svg+xml": "<?xml version=\"1.0\" encoding=\"utf-8\" standalone=\"no\"?>\n<!DOCTYPE svg PUBLIC \"-//W3C//DTD SVG 1.1//EN\"\n  \"http://www.w3.org/Graphics/SVG/1.1/DTD/svg11.dtd\">\n<svg xmlns:xlink=\"http://www.w3.org/1999/xlink\" width=\"237.804688pt\" height=\"169.678125pt\" viewBox=\"0 0 237.804688 169.678125\" xmlns=\"http://www.w3.org/2000/svg\" version=\"1.1\">\n <metadata>\n  <rdf:RDF xmlns:dc=\"http://purl.org/dc/elements/1.1/\" xmlns:cc=\"http://creativecommons.org/ns#\" xmlns:rdf=\"http://www.w3.org/1999/02/22-rdf-syntax-ns#\">\n   <cc:Work>\n    <dc:type rdf:resource=\"http://purl.org/dc/dcmitype/StillImage\"/>\n    <dc:date>2023-01-23T11:05:23.416183</dc:date>\n    <dc:format>image/svg+xml</dc:format>\n    <dc:creator>\n     <cc:Agent>\n      <dc:title>Matplotlib v3.6.3, https://matplotlib.org/</dc:title>\n     </cc:Agent>\n    </dc:creator>\n   </cc:Work>\n  </rdf:RDF>\n </metadata>\n <defs>\n  <style type=\"text/css\">*{stroke-linejoin: round; stroke-linecap: butt}</style>\n </defs>\n <g id=\"figure_1\">\n  <g id=\"patch_1\">\n   <path d=\"M 0 169.678125 \nL 237.804688 169.678125 \nL 237.804688 0 \nL 0 0 \nz\n\" style=\"fill: #ffffff\"/>\n  </g>\n  <g id=\"axes_1\">\n   <g id=\"patch_2\">\n    <path d=\"M 35.304688 145.8 \nL 230.604688 145.8 \nL 230.604688 7.2 \nL 35.304688 7.2 \nz\n\" style=\"fill: #ffffff\"/>\n   </g>\n   <g id=\"PathCollection_1\">\n    <defs>\n     <path id=\"m44ee977c14\" d=\"M 0 0.5 \nC 0.132602 0.5 0.25979 0.447317 0.353553 0.353553 \nC 0.447317 0.25979 0.5 0.132602 0.5 0 \nC 0.5 -0.132602 0.447317 -0.25979 0.353553 -0.353553 \nC 0.25979 -0.447317 0.132602 -0.5 0 -0.5 \nC -0.132602 -0.5 -0.25979 -0.447317 -0.353553 -0.353553 \nC -0.447317 -0.25979 -0.5 -0.132602 -0.5 0 \nC -0.5 0.132602 -0.447317 0.25979 -0.353553 0.353553 \nC -0.25979 0.447317 -0.132602 0.5 0 0.5 \nz\n\" style=\"stroke: #1f77b4\"/>\n    </defs>\n    <g clip-path=\"url(#p2cd5a4ff5e)\">\n     <use xlink:href=\"#m44ee977c14\" x=\"146.958322\" y=\"98.036694\" style=\"fill: #1f77b4; stroke: #1f77b4\"/>\n     <use xlink:href=\"#m44ee977c14\" x=\"139.960885\" y=\"76.417504\" style=\"fill: #1f77b4; stroke: #1f77b4\"/>\n     <use xlink:href=\"#m44ee977c14\" x=\"200.452077\" y=\"133.262938\" style=\"fill: #1f77b4; stroke: #1f77b4\"/>\n     <use xlink:href=\"#m44ee977c14\" x=\"145.541751\" y=\"76.717556\" style=\"fill: #1f77b4; stroke: #1f77b4\"/>\n     <use xlink:href=\"#m44ee977c14\" x=\"193.172229\" y=\"102.285717\" style=\"fill: #1f77b4; stroke: #1f77b4\"/>\n     <use xlink:href=\"#m44ee977c14\" x=\"105.889464\" y=\"62.288231\" style=\"fill: #1f77b4; stroke: #1f77b4\"/>\n     <use xlink:href=\"#m44ee977c14\" x=\"123.316071\" y=\"67.836286\" style=\"fill: #1f77b4; stroke: #1f77b4\"/>\n     <use xlink:href=\"#m44ee977c14\" x=\"179.122197\" y=\"108.255379\" style=\"fill: #1f77b4; stroke: #1f77b4\"/>\n     <use xlink:href=\"#m44ee977c14\" x=\"114.493911\" y=\"77.150536\" style=\"fill: #1f77b4; stroke: #1f77b4\"/>\n     <use xlink:href=\"#m44ee977c14\" x=\"128.956707\" y=\"71.756602\" style=\"fill: #1f77b4; stroke: #1f77b4\"/>\n     <use xlink:href=\"#m44ee977c14\" x=\"96.714987\" y=\"69.919824\" style=\"fill: #1f77b4; stroke: #1f77b4\"/>\n     <use xlink:href=\"#m44ee977c14\" x=\"156.121776\" y=\"85.745479\" style=\"fill: #1f77b4; stroke: #1f77b4\"/>\n     <use xlink:href=\"#m44ee977c14\" x=\"83.161676\" y=\"34.582009\" style=\"fill: #1f77b4; stroke: #1f77b4\"/>\n     <use xlink:href=\"#m44ee977c14\" x=\"137.131069\" y=\"89.489232\" style=\"fill: #1f77b4; stroke: #1f77b4\"/>\n     <use xlink:href=\"#m44ee977c14\" x=\"104.598423\" y=\"51.334056\" style=\"fill: #1f77b4; stroke: #1f77b4\"/>\n     <use xlink:href=\"#m44ee977c14\" x=\"129.343989\" y=\"66.215951\" style=\"fill: #1f77b4; stroke: #1f77b4\"/>\n     <use xlink:href=\"#m44ee977c14\" x=\"112.557161\" y=\"63.190904\" style=\"fill: #1f77b4; stroke: #1f77b4\"/>\n     <use xlink:href=\"#m44ee977c14\" x=\"129.093321\" y=\"51.302837\" style=\"fill: #1f77b4; stroke: #1f77b4\"/>\n     <use xlink:href=\"#m44ee977c14\" x=\"176.447744\" y=\"113.071119\" style=\"fill: #1f77b4; stroke: #1f77b4\"/>\n     <use xlink:href=\"#m44ee977c14\" x=\"146.560712\" y=\"72.881843\" style=\"fill: #1f77b4; stroke: #1f77b4\"/>\n     <use xlink:href=\"#m44ee977c14\" x=\"121.509019\" y=\"62.683537\" style=\"fill: #1f77b4; stroke: #1f77b4\"/>\n     <use xlink:href=\"#m44ee977c14\" x=\"157.55096\" y=\"92.938881\" style=\"fill: #1f77b4; stroke: #1f77b4\"/>\n     <use xlink:href=\"#m44ee977c14\" x=\"118.052582\" y=\"66.453599\" style=\"fill: #1f77b4; stroke: #1f77b4\"/>\n     <use xlink:href=\"#m44ee977c14\" x=\"103.707393\" y=\"56.178927\" style=\"fill: #1f77b4; stroke: #1f77b4\"/>\n     <use xlink:href=\"#m44ee977c14\" x=\"132.793162\" y=\"72.232989\" style=\"fill: #1f77b4; stroke: #1f77b4\"/>\n     <use xlink:href=\"#m44ee977c14\" x=\"192.023372\" y=\"114.190339\" style=\"fill: #1f77b4; stroke: #1f77b4\"/>\n     <use xlink:href=\"#m44ee977c14\" x=\"108.528467\" y=\"46.199348\" style=\"fill: #1f77b4; stroke: #1f77b4\"/>\n     <use xlink:href=\"#m44ee977c14\" x=\"150.524007\" y=\"79.914879\" style=\"fill: #1f77b4; stroke: #1f77b4\"/>\n     <use xlink:href=\"#m44ee977c14\" x=\"107.407784\" y=\"36.10099\" style=\"fill: #1f77b4; stroke: #1f77b4\"/>\n     <use xlink:href=\"#m44ee977c14\" x=\"83.501396\" y=\"33.015358\" style=\"fill: #1f77b4; stroke: #1f77b4\"/>\n     <use xlink:href=\"#m44ee977c14\" x=\"158.651966\" y=\"101.295027\" style=\"fill: #1f77b4; stroke: #1f77b4\"/>\n     <use xlink:href=\"#m44ee977c14\" x=\"121.767547\" y=\"79.257429\" style=\"fill: #1f77b4; stroke: #1f77b4\"/>\n     <use xlink:href=\"#m44ee977c14\" x=\"142.143142\" y=\"88.659456\" style=\"fill: #1f77b4; stroke: #1f77b4\"/>\n     <use xlink:href=\"#m44ee977c14\" x=\"153.606342\" y=\"98.17812\" style=\"fill: #1f77b4; stroke: #1f77b4\"/>\n     <use xlink:href=\"#m44ee977c14\" x=\"92.893032\" y=\"61.374337\" style=\"fill: #1f77b4; stroke: #1f77b4\"/>\n     <use xlink:href=\"#m44ee977c14\" x=\"148.950954\" y=\"72.71329\" style=\"fill: #1f77b4; stroke: #1f77b4\"/>\n     <use xlink:href=\"#m44ee977c14\" x=\"127.363763\" y=\"82.034762\" style=\"fill: #1f77b4; stroke: #1f77b4\"/>\n     <use xlink:href=\"#m44ee977c14\" x=\"124.075185\" y=\"70.273347\" style=\"fill: #1f77b4; stroke: #1f77b4\"/>\n     <use xlink:href=\"#m44ee977c14\" x=\"154.681758\" y=\"98.595002\" style=\"fill: #1f77b4; stroke: #1f77b4\"/>\n     <use xlink:href=\"#m44ee977c14\" x=\"139.311719\" y=\"97.21898\" style=\"fill: #1f77b4; stroke: #1f77b4\"/>\n     <use xlink:href=\"#m44ee977c14\" x=\"148.202616\" y=\"98.418257\" style=\"fill: #1f77b4; stroke: #1f77b4\"/>\n     <use xlink:href=\"#m44ee977c14\" x=\"127.269027\" y=\"73.450051\" style=\"fill: #1f77b4; stroke: #1f77b4\"/>\n     <use xlink:href=\"#m44ee977c14\" x=\"89.659638\" y=\"53.592681\" style=\"fill: #1f77b4; stroke: #1f77b4\"/>\n     <use xlink:href=\"#m44ee977c14\" x=\"80.438658\" y=\"48.893652\" style=\"fill: #1f77b4; stroke: #1f77b4\"/>\n     <use xlink:href=\"#m44ee977c14\" x=\"144.410148\" y=\"78.012074\" style=\"fill: #1f77b4; stroke: #1f77b4\"/>\n     <use xlink:href=\"#m44ee977c14\" x=\"160.948632\" y=\"95.580282\" style=\"fill: #1f77b4; stroke: #1f77b4\"/>\n     <use xlink:href=\"#m44ee977c14\" x=\"107.128097\" y=\"76.304324\" style=\"fill: #1f77b4; stroke: #1f77b4\"/>\n     <use xlink:href=\"#m44ee977c14\" x=\"138.591201\" y=\"94.366187\" style=\"fill: #1f77b4; stroke: #1f77b4\"/>\n     <use xlink:href=\"#m44ee977c14\" x=\"126.736872\" y=\"78.352423\" style=\"fill: #1f77b4; stroke: #1f77b4\"/>\n     <use xlink:href=\"#m44ee977c14\" x=\"103.687883\" y=\"61.77067\" style=\"fill: #1f77b4; stroke: #1f77b4\"/>\n     <use xlink:href=\"#m44ee977c14\" x=\"121.280963\" y=\"64.776209\" style=\"fill: #1f77b4; stroke: #1f77b4\"/>\n     <use xlink:href=\"#m44ee977c14\" x=\"120.435994\" y=\"56.81681\" style=\"fill: #1f77b4; stroke: #1f77b4\"/>\n     <use xlink:href=\"#m44ee977c14\" x=\"158.101441\" y=\"83.412022\" style=\"fill: #1f77b4; stroke: #1f77b4\"/>\n     <use xlink:href=\"#m44ee977c14\" x=\"129.521755\" y=\"76.954112\" style=\"fill: #1f77b4; stroke: #1f77b4\"/>\n     <use xlink:href=\"#m44ee977c14\" x=\"133.943238\" y=\"67.830911\" style=\"fill: #1f77b4; stroke: #1f77b4\"/>\n     <use xlink:href=\"#m44ee977c14\" x=\"144.964011\" y=\"77.62187\" style=\"fill: #1f77b4; stroke: #1f77b4\"/>\n     <use xlink:href=\"#m44ee977c14\" x=\"51.43498\" y=\"14.324301\" style=\"fill: #1f77b4; stroke: #1f77b4\"/>\n     <use xlink:href=\"#m44ee977c14\" x=\"138.635833\" y=\"80.797888\" style=\"fill: #1f77b4; stroke: #1f77b4\"/>\n     <use xlink:href=\"#m44ee977c14\" x=\"102.354037\" y=\"51.757795\" style=\"fill: #1f77b4; stroke: #1f77b4\"/>\n     <use xlink:href=\"#m44ee977c14\" x=\"122.330916\" y=\"78.25438\" style=\"fill: #1f77b4; stroke: #1f77b4\"/>\n     <use xlink:href=\"#m44ee977c14\" x=\"137.509889\" y=\"82.987687\" style=\"fill: #1f77b4; stroke: #1f77b4\"/>\n     <use xlink:href=\"#m44ee977c14\" x=\"129.6398\" y=\"81.463939\" style=\"fill: #1f77b4; stroke: #1f77b4\"/>\n     <use xlink:href=\"#m44ee977c14\" x=\"127.259009\" y=\"101.615681\" style=\"fill: #1f77b4; stroke: #1f77b4\"/>\n     <use xlink:href=\"#m44ee977c14\" x=\"147.140469\" y=\"75.136563\" style=\"fill: #1f77b4; stroke: #1f77b4\"/>\n     <use xlink:href=\"#m44ee977c14\" x=\"154.850775\" y=\"86.470568\" style=\"fill: #1f77b4; stroke: #1f77b4\"/>\n     <use xlink:href=\"#m44ee977c14\" x=\"149.289818\" y=\"100.200598\" style=\"fill: #1f77b4; stroke: #1f77b4\"/>\n     <use xlink:href=\"#m44ee977c14\" x=\"119.886916\" y=\"70.84483\" style=\"fill: #1f77b4; stroke: #1f77b4\"/>\n     <use xlink:href=\"#m44ee977c14\" x=\"141.626068\" y=\"91.187396\" style=\"fill: #1f77b4; stroke: #1f77b4\"/>\n     <use xlink:href=\"#m44ee977c14\" x=\"106.728737\" y=\"70.137771\" style=\"fill: #1f77b4; stroke: #1f77b4\"/>\n     <use xlink:href=\"#m44ee977c14\" x=\"145.584515\" y=\"89.025499\" style=\"fill: #1f77b4; stroke: #1f77b4\"/>\n     <use xlink:href=\"#m44ee977c14\" x=\"97.498725\" y=\"58.660921\" style=\"fill: #1f77b4; stroke: #1f77b4\"/>\n     <use xlink:href=\"#m44ee977c14\" x=\"150.638142\" y=\"79.386882\" style=\"fill: #1f77b4; stroke: #1f77b4\"/>\n     <use xlink:href=\"#m44ee977c14\" x=\"140.837742\" y=\"90.219942\" style=\"fill: #1f77b4; stroke: #1f77b4\"/>\n     <use xlink:href=\"#m44ee977c14\" x=\"134.514419\" y=\"83.817001\" style=\"fill: #1f77b4; stroke: #1f77b4\"/>\n     <use xlink:href=\"#m44ee977c14\" x=\"155.797725\" y=\"96.338423\" style=\"fill: #1f77b4; stroke: #1f77b4\"/>\n     <use xlink:href=\"#m44ee977c14\" x=\"147.931912\" y=\"75.3085\" style=\"fill: #1f77b4; stroke: #1f77b4\"/>\n     <use xlink:href=\"#m44ee977c14\" x=\"136.655199\" y=\"82.421284\" style=\"fill: #1f77b4; stroke: #1f77b4\"/>\n     <use xlink:href=\"#m44ee977c14\" x=\"114.467805\" y=\"50.776722\" style=\"fill: #1f77b4; stroke: #1f77b4\"/>\n     <use xlink:href=\"#m44ee977c14\" x=\"141.083654\" y=\"84.627309\" style=\"fill: #1f77b4; stroke: #1f77b4\"/>\n     <use xlink:href=\"#m44ee977c14\" x=\"122.202338\" y=\"62.643233\" style=\"fill: #1f77b4; stroke: #1f77b4\"/>\n     <use xlink:href=\"#m44ee977c14\" x=\"141.175084\" y=\"66.813525\" style=\"fill: #1f77b4; stroke: #1f77b4\"/>\n     <use xlink:href=\"#m44ee977c14\" x=\"89.036807\" y=\"32.501832\" style=\"fill: #1f77b4; stroke: #1f77b4\"/>\n     <use xlink:href=\"#m44ee977c14\" x=\"126.8263\" y=\"77.063058\" style=\"fill: #1f77b4; stroke: #1f77b4\"/>\n     <use xlink:href=\"#m44ee977c14\" x=\"92.36193\" y=\"41.655658\" style=\"fill: #1f77b4; stroke: #1f77b4\"/>\n     <use xlink:href=\"#m44ee977c14\" x=\"131.537973\" y=\"79.134295\" style=\"fill: #1f77b4; stroke: #1f77b4\"/>\n     <use xlink:href=\"#m44ee977c14\" x=\"114.157973\" y=\"66.459665\" style=\"fill: #1f77b4; stroke: #1f77b4\"/>\n     <use xlink:href=\"#m44ee977c14\" x=\"123.53634\" y=\"68.140686\" style=\"fill: #1f77b4; stroke: #1f77b4\"/>\n     <use xlink:href=\"#m44ee977c14\" x=\"107.083461\" y=\"42.998926\" style=\"fill: #1f77b4; stroke: #1f77b4\"/>\n     <use xlink:href=\"#m44ee977c14\" x=\"117.162322\" y=\"57.722185\" style=\"fill: #1f77b4; stroke: #1f77b4\"/>\n     <use xlink:href=\"#m44ee977c14\" x=\"130.950905\" y=\"59.531311\" style=\"fill: #1f77b4; stroke: #1f77b4\"/>\n     <use xlink:href=\"#m44ee977c14\" x=\"129.562929\" y=\"65.920099\" style=\"fill: #1f77b4; stroke: #1f77b4\"/>\n     <use xlink:href=\"#m44ee977c14\" x=\"141.601418\" y=\"79.99239\" style=\"fill: #1f77b4; stroke: #1f77b4\"/>\n     <use xlink:href=\"#m44ee977c14\" x=\"79.91797\" y=\"40.078405\" style=\"fill: #1f77b4; stroke: #1f77b4\"/>\n     <use xlink:href=\"#m44ee977c14\" x=\"126.250851\" y=\"54.285285\" style=\"fill: #1f77b4; stroke: #1f77b4\"/>\n     <use xlink:href=\"#m44ee977c14\" x=\"217.220084\" y=\"137.359603\" style=\"fill: #1f77b4; stroke: #1f77b4\"/>\n     <use xlink:href=\"#m44ee977c14\" x=\"121.757168\" y=\"53.574534\" style=\"fill: #1f77b4; stroke: #1f77b4\"/>\n     <use xlink:href=\"#m44ee977c14\" x=\"136.678678\" y=\"68.604629\" style=\"fill: #1f77b4; stroke: #1f77b4\"/>\n     <use xlink:href=\"#m44ee977c14\" x=\"136.392554\" y=\"81.493803\" style=\"fill: #1f77b4; stroke: #1f77b4\"/>\n     <use xlink:href=\"#m44ee977c14\" x=\"158.032057\" y=\"97.194105\" style=\"fill: #1f77b4; stroke: #1f77b4\"/>\n     <use xlink:href=\"#m44ee977c14\" x=\"90.072228\" y=\"44.45645\" style=\"fill: #1f77b4; stroke: #1f77b4\"/>\n     <use xlink:href=\"#m44ee977c14\" x=\"171.169552\" y=\"104.986935\" style=\"fill: #1f77b4; stroke: #1f77b4\"/>\n     <use xlink:href=\"#m44ee977c14\" x=\"172.183339\" y=\"108.456309\" style=\"fill: #1f77b4; stroke: #1f77b4\"/>\n     <use xlink:href=\"#m44ee977c14\" x=\"118.389511\" y=\"75.703176\" style=\"fill: #1f77b4; stroke: #1f77b4\"/>\n     <use xlink:href=\"#m44ee977c14\" x=\"80.440877\" y=\"47.82867\" style=\"fill: #1f77b4; stroke: #1f77b4\"/>\n     <use xlink:href=\"#m44ee977c14\" x=\"64.80571\" y=\"40.519739\" style=\"fill: #1f77b4; stroke: #1f77b4\"/>\n     <use xlink:href=\"#m44ee977c14\" x=\"144.059766\" y=\"78.443025\" style=\"fill: #1f77b4; stroke: #1f77b4\"/>\n     <use xlink:href=\"#m44ee977c14\" x=\"143.93773\" y=\"80.529496\" style=\"fill: #1f77b4; stroke: #1f77b4\"/>\n     <use xlink:href=\"#m44ee977c14\" x=\"146.924722\" y=\"73.48534\" style=\"fill: #1f77b4; stroke: #1f77b4\"/>\n     <use xlink:href=\"#m44ee977c14\" x=\"140.776732\" y=\"97.535895\" style=\"fill: #1f77b4; stroke: #1f77b4\"/>\n     <use xlink:href=\"#m44ee977c14\" x=\"133.218961\" y=\"78.257094\" style=\"fill: #1f77b4; stroke: #1f77b4\"/>\n     <use xlink:href=\"#m44ee977c14\" x=\"166.451677\" y=\"108.802638\" style=\"fill: #1f77b4; stroke: #1f77b4\"/>\n     <use xlink:href=\"#m44ee977c14\" x=\"114.676523\" y=\"57.271422\" style=\"fill: #1f77b4; stroke: #1f77b4\"/>\n     <use xlink:href=\"#m44ee977c14\" x=\"155.918532\" y=\"88.334858\" style=\"fill: #1f77b4; stroke: #1f77b4\"/>\n     <use xlink:href=\"#m44ee977c14\" x=\"149.18243\" y=\"77.68932\" style=\"fill: #1f77b4; stroke: #1f77b4\"/>\n     <use xlink:href=\"#m44ee977c14\" x=\"148.063715\" y=\"76.465367\" style=\"fill: #1f77b4; stroke: #1f77b4\"/>\n     <use xlink:href=\"#m44ee977c14\" x=\"130.511954\" y=\"66.665147\" style=\"fill: #1f77b4; stroke: #1f77b4\"/>\n     <use xlink:href=\"#m44ee977c14\" x=\"121.878475\" y=\"68.56769\" style=\"fill: #1f77b4; stroke: #1f77b4\"/>\n     <use xlink:href=\"#m44ee977c14\" x=\"136.012037\" y=\"75.000213\" style=\"fill: #1f77b4; stroke: #1f77b4\"/>\n     <use xlink:href=\"#m44ee977c14\" x=\"158.330122\" y=\"101.855117\" style=\"fill: #1f77b4; stroke: #1f77b4\"/>\n     <use xlink:href=\"#m44ee977c14\" x=\"141.110385\" y=\"76.367662\" style=\"fill: #1f77b4; stroke: #1f77b4\"/>\n     <use xlink:href=\"#m44ee977c14\" x=\"128.704153\" y=\"72.346493\" style=\"fill: #1f77b4; stroke: #1f77b4\"/>\n     <use xlink:href=\"#m44ee977c14\" x=\"135.993278\" y=\"86.426579\" style=\"fill: #1f77b4; stroke: #1f77b4\"/>\n     <use xlink:href=\"#m44ee977c14\" x=\"93.271396\" y=\"54.900782\" style=\"fill: #1f77b4; stroke: #1f77b4\"/>\n     <use xlink:href=\"#m44ee977c14\" x=\"112.929723\" y=\"46.475726\" style=\"fill: #1f77b4; stroke: #1f77b4\"/>\n     <use xlink:href=\"#m44ee977c14\" x=\"155.086147\" y=\"92.553956\" style=\"fill: #1f77b4; stroke: #1f77b4\"/>\n     <use xlink:href=\"#m44ee977c14\" x=\"159.466496\" y=\"85.420689\" style=\"fill: #1f77b4; stroke: #1f77b4\"/>\n     <use xlink:href=\"#m44ee977c14\" x=\"132.385789\" y=\"81.242506\" style=\"fill: #1f77b4; stroke: #1f77b4\"/>\n     <use xlink:href=\"#m44ee977c14\" x=\"142.9446\" y=\"74.798018\" style=\"fill: #1f77b4; stroke: #1f77b4\"/>\n     <use xlink:href=\"#m44ee977c14\" x=\"113.115127\" y=\"81.702624\" style=\"fill: #1f77b4; stroke: #1f77b4\"/>\n     <use xlink:href=\"#m44ee977c14\" x=\"108.541536\" y=\"57.085968\" style=\"fill: #1f77b4; stroke: #1f77b4\"/>\n     <use xlink:href=\"#m44ee977c14\" x=\"128.823515\" y=\"85.312834\" style=\"fill: #1f77b4; stroke: #1f77b4\"/>\n     <use xlink:href=\"#m44ee977c14\" x=\"184.371599\" y=\"120.759724\" style=\"fill: #1f77b4; stroke: #1f77b4\"/>\n     <use xlink:href=\"#m44ee977c14\" x=\"126.514588\" y=\"84.574597\" style=\"fill: #1f77b4; stroke: #1f77b4\"/>\n     <use xlink:href=\"#m44ee977c14\" x=\"108.427475\" y=\"59.809179\" style=\"fill: #1f77b4; stroke: #1f77b4\"/>\n     <use xlink:href=\"#m44ee977c14\" x=\"122.530438\" y=\"69.832684\" style=\"fill: #1f77b4; stroke: #1f77b4\"/>\n     <use xlink:href=\"#m44ee977c14\" x=\"139.241549\" y=\"70.299587\" style=\"fill: #1f77b4; stroke: #1f77b4\"/>\n     <use xlink:href=\"#m44ee977c14\" x=\"127.107666\" y=\"74.583693\" style=\"fill: #1f77b4; stroke: #1f77b4\"/>\n     <use xlink:href=\"#m44ee977c14\" x=\"100.033415\" y=\"69.257492\" style=\"fill: #1f77b4; stroke: #1f77b4\"/>\n     <use xlink:href=\"#m44ee977c14\" x=\"167.080105\" y=\"102.331027\" style=\"fill: #1f77b4; stroke: #1f77b4\"/>\n     <use xlink:href=\"#m44ee977c14\" x=\"87.952024\" y=\"37.263318\" style=\"fill: #1f77b4; stroke: #1f77b4\"/>\n     <use xlink:href=\"#m44ee977c14\" x=\"105.16278\" y=\"49.093798\" style=\"fill: #1f77b4; stroke: #1f77b4\"/>\n     <use xlink:href=\"#m44ee977c14\" x=\"113.284116\" y=\"60.879033\" style=\"fill: #1f77b4; stroke: #1f77b4\"/>\n     <use xlink:href=\"#m44ee977c14\" x=\"148.790276\" y=\"75.927625\" style=\"fill: #1f77b4; stroke: #1f77b4\"/>\n     <use xlink:href=\"#m44ee977c14\" x=\"135.111821\" y=\"82.859758\" style=\"fill: #1f77b4; stroke: #1f77b4\"/>\n     <use xlink:href=\"#m44ee977c14\" x=\"149.991825\" y=\"95.113794\" style=\"fill: #1f77b4; stroke: #1f77b4\"/>\n     <use xlink:href=\"#m44ee977c14\" x=\"123.588324\" y=\"84.063193\" style=\"fill: #1f77b4; stroke: #1f77b4\"/>\n     <use xlink:href=\"#m44ee977c14\" x=\"118.594036\" y=\"55.381459\" style=\"fill: #1f77b4; stroke: #1f77b4\"/>\n     <use xlink:href=\"#m44ee977c14\" x=\"125.948317\" y=\"58.533131\" style=\"fill: #1f77b4; stroke: #1f77b4\"/>\n     <use xlink:href=\"#m44ee977c14\" x=\"108.124388\" y=\"55.51013\" style=\"fill: #1f77b4; stroke: #1f77b4\"/>\n     <use xlink:href=\"#m44ee977c14\" x=\"123.958734\" y=\"63.048178\" style=\"fill: #1f77b4; stroke: #1f77b4\"/>\n     <use xlink:href=\"#m44ee977c14\" x=\"161.348655\" y=\"95.153807\" style=\"fill: #1f77b4; stroke: #1f77b4\"/>\n     <use xlink:href=\"#m44ee977c14\" x=\"167.232335\" y=\"97.479815\" style=\"fill: #1f77b4; stroke: #1f77b4\"/>\n     <use xlink:href=\"#m44ee977c14\" x=\"136.899807\" y=\"79.806855\" style=\"fill: #1f77b4; stroke: #1f77b4\"/>\n     <use xlink:href=\"#m44ee977c14\" x=\"130.652822\" y=\"79.415016\" style=\"fill: #1f77b4; stroke: #1f77b4\"/>\n     <use xlink:href=\"#m44ee977c14\" x=\"146.141973\" y=\"76.813262\" style=\"fill: #1f77b4; stroke: #1f77b4\"/>\n     <use xlink:href=\"#m44ee977c14\" x=\"175.902367\" y=\"102.400957\" style=\"fill: #1f77b4; stroke: #1f77b4\"/>\n     <use xlink:href=\"#m44ee977c14\" x=\"137.997648\" y=\"77.66296\" style=\"fill: #1f77b4; stroke: #1f77b4\"/>\n     <use xlink:href=\"#m44ee977c14\" x=\"99.0694\" y=\"58.251687\" style=\"fill: #1f77b4; stroke: #1f77b4\"/>\n     <use xlink:href=\"#m44ee977c14\" x=\"160.620192\" y=\"88.742568\" style=\"fill: #1f77b4; stroke: #1f77b4\"/>\n     <use xlink:href=\"#m44ee977c14\" x=\"132.432736\" y=\"79.626183\" style=\"fill: #1f77b4; stroke: #1f77b4\"/>\n     <use xlink:href=\"#m44ee977c14\" x=\"145.451015\" y=\"79.766244\" style=\"fill: #1f77b4; stroke: #1f77b4\"/>\n     <use xlink:href=\"#m44ee977c14\" x=\"136.611569\" y=\"91.031152\" style=\"fill: #1f77b4; stroke: #1f77b4\"/>\n     <use xlink:href=\"#m44ee977c14\" x=\"158.773787\" y=\"80.103985\" style=\"fill: #1f77b4; stroke: #1f77b4\"/>\n     <use xlink:href=\"#m44ee977c14\" x=\"135.196459\" y=\"77.459434\" style=\"fill: #1f77b4; stroke: #1f77b4\"/>\n     <use xlink:href=\"#m44ee977c14\" x=\"162.014863\" y=\"81.206746\" style=\"fill: #1f77b4; stroke: #1f77b4\"/>\n     <use xlink:href=\"#m44ee977c14\" x=\"163.707927\" y=\"89.613392\" style=\"fill: #1f77b4; stroke: #1f77b4\"/>\n     <use xlink:href=\"#m44ee977c14\" x=\"158.489437\" y=\"100.753303\" style=\"fill: #1f77b4; stroke: #1f77b4\"/>\n     <use xlink:href=\"#m44ee977c14\" x=\"164.119404\" y=\"95.172478\" style=\"fill: #1f77b4; stroke: #1f77b4\"/>\n     <use xlink:href=\"#m44ee977c14\" x=\"147.201564\" y=\"83.697726\" style=\"fill: #1f77b4; stroke: #1f77b4\"/>\n     <use xlink:href=\"#m44ee977c14\" x=\"158.751264\" y=\"81.034688\" style=\"fill: #1f77b4; stroke: #1f77b4\"/>\n     <use xlink:href=\"#m44ee977c14\" x=\"96.083002\" y=\"60.615889\" style=\"fill: #1f77b4; stroke: #1f77b4\"/>\n     <use xlink:href=\"#m44ee977c14\" x=\"102.178509\" y=\"65.67579\" style=\"fill: #1f77b4; stroke: #1f77b4\"/>\n     <use xlink:href=\"#m44ee977c14\" x=\"111.471664\" y=\"59.348614\" style=\"fill: #1f77b4; stroke: #1f77b4\"/>\n     <use xlink:href=\"#m44ee977c14\" x=\"136.981084\" y=\"73.501422\" style=\"fill: #1f77b4; stroke: #1f77b4\"/>\n     <use xlink:href=\"#m44ee977c14\" x=\"122.781598\" y=\"69.027872\" style=\"fill: #1f77b4; stroke: #1f77b4\"/>\n     <use xlink:href=\"#m44ee977c14\" x=\"83.15756\" y=\"51.829536\" style=\"fill: #1f77b4; stroke: #1f77b4\"/>\n     <use xlink:href=\"#m44ee977c14\" x=\"166.191413\" y=\"110.31789\" style=\"fill: #1f77b4; stroke: #1f77b4\"/>\n     <use xlink:href=\"#m44ee977c14\" x=\"127.481587\" y=\"95.454475\" style=\"fill: #1f77b4; stroke: #1f77b4\"/>\n     <use xlink:href=\"#m44ee977c14\" x=\"176.872686\" y=\"104.938148\" style=\"fill: #1f77b4; stroke: #1f77b4\"/>\n     <use xlink:href=\"#m44ee977c14\" x=\"74.413229\" y=\"31.259899\" style=\"fill: #1f77b4; stroke: #1f77b4\"/>\n     <use xlink:href=\"#m44ee977c14\" x=\"150.260632\" y=\"107.9619\" style=\"fill: #1f77b4; stroke: #1f77b4\"/>\n     <use xlink:href=\"#m44ee977c14\" x=\"124.592707\" y=\"72.724475\" style=\"fill: #1f77b4; stroke: #1f77b4\"/>\n     <use xlink:href=\"#m44ee977c14\" x=\"115.341399\" y=\"68.338956\" style=\"fill: #1f77b4; stroke: #1f77b4\"/>\n     <use xlink:href=\"#m44ee977c14\" x=\"96.384878\" y=\"54.512142\" style=\"fill: #1f77b4; stroke: #1f77b4\"/>\n     <use xlink:href=\"#m44ee977c14\" x=\"182.492044\" y=\"115.164329\" style=\"fill: #1f77b4; stroke: #1f77b4\"/>\n     <use xlink:href=\"#m44ee977c14\" x=\"106.711504\" y=\"57.410485\" style=\"fill: #1f77b4; stroke: #1f77b4\"/>\n     <use xlink:href=\"#m44ee977c14\" x=\"193.331052\" y=\"124.583178\" style=\"fill: #1f77b4; stroke: #1f77b4\"/>\n     <use xlink:href=\"#m44ee977c14\" x=\"113.315775\" y=\"59.240841\" style=\"fill: #1f77b4; stroke: #1f77b4\"/>\n     <use xlink:href=\"#m44ee977c14\" x=\"126.141947\" y=\"62.07989\" style=\"fill: #1f77b4; stroke: #1f77b4\"/>\n     <use xlink:href=\"#m44ee977c14\" x=\"152.43108\" y=\"95.100877\" style=\"fill: #1f77b4; stroke: #1f77b4\"/>\n     <use xlink:href=\"#m44ee977c14\" x=\"119.541906\" y=\"80.775168\" style=\"fill: #1f77b4; stroke: #1f77b4\"/>\n     <use xlink:href=\"#m44ee977c14\" x=\"174.287822\" y=\"111.906297\" style=\"fill: #1f77b4; stroke: #1f77b4\"/>\n     <use xlink:href=\"#m44ee977c14\" x=\"130.655336\" y=\"80.499169\" style=\"fill: #1f77b4; stroke: #1f77b4\"/>\n     <use xlink:href=\"#m44ee977c14\" x=\"130.054967\" y=\"78.468678\" style=\"fill: #1f77b4; stroke: #1f77b4\"/>\n     <use xlink:href=\"#m44ee977c14\" x=\"171.626412\" y=\"107.491526\" style=\"fill: #1f77b4; stroke: #1f77b4\"/>\n     <use xlink:href=\"#m44ee977c14\" x=\"133.826086\" y=\"75.324205\" style=\"fill: #1f77b4; stroke: #1f77b4\"/>\n     <use xlink:href=\"#m44ee977c14\" x=\"140.189792\" y=\"70.262598\" style=\"fill: #1f77b4; stroke: #1f77b4\"/>\n     <use xlink:href=\"#m44ee977c14\" x=\"169.35798\" y=\"106.141461\" style=\"fill: #1f77b4; stroke: #1f77b4\"/>\n     <use xlink:href=\"#m44ee977c14\" x=\"160.249742\" y=\"101.42341\" style=\"fill: #1f77b4; stroke: #1f77b4\"/>\n     <use xlink:href=\"#m44ee977c14\" x=\"109.273173\" y=\"77.066704\" style=\"fill: #1f77b4; stroke: #1f77b4\"/>\n     <use xlink:href=\"#m44ee977c14\" x=\"170.785492\" y=\"113.891689\" style=\"fill: #1f77b4; stroke: #1f77b4\"/>\n     <use xlink:href=\"#m44ee977c14\" x=\"133.054002\" y=\"55.019798\" style=\"fill: #1f77b4; stroke: #1f77b4\"/>\n     <use xlink:href=\"#m44ee977c14\" x=\"127.559099\" y=\"85.638262\" style=\"fill: #1f77b4; stroke: #1f77b4\"/>\n     <use xlink:href=\"#m44ee977c14\" x=\"132.326294\" y=\"77.145629\" style=\"fill: #1f77b4; stroke: #1f77b4\"/>\n     <use xlink:href=\"#m44ee977c14\" x=\"77.539143\" y=\"46.193675\" style=\"fill: #1f77b4; stroke: #1f77b4\"/>\n     <use xlink:href=\"#m44ee977c14\" x=\"163.032411\" y=\"95.700877\" style=\"fill: #1f77b4; stroke: #1f77b4\"/>\n     <use xlink:href=\"#m44ee977c14\" x=\"112.235271\" y=\"61.807547\" style=\"fill: #1f77b4; stroke: #1f77b4\"/>\n     <use xlink:href=\"#m44ee977c14\" x=\"124.613231\" y=\"77.327427\" style=\"fill: #1f77b4; stroke: #1f77b4\"/>\n     <use xlink:href=\"#m44ee977c14\" x=\"86.891947\" y=\"45.347165\" style=\"fill: #1f77b4; stroke: #1f77b4\"/>\n     <use xlink:href=\"#m44ee977c14\" x=\"140.307518\" y=\"89.220395\" style=\"fill: #1f77b4; stroke: #1f77b4\"/>\n     <use xlink:href=\"#m44ee977c14\" x=\"132.485829\" y=\"63.666319\" style=\"fill: #1f77b4; stroke: #1f77b4\"/>\n     <use xlink:href=\"#m44ee977c14\" x=\"131.928696\" y=\"43.932622\" style=\"fill: #1f77b4; stroke: #1f77b4\"/>\n     <use xlink:href=\"#m44ee977c14\" x=\"97.419717\" y=\"58.51023\" style=\"fill: #1f77b4; stroke: #1f77b4\"/>\n     <use xlink:href=\"#m44ee977c14\" x=\"156.668025\" y=\"97.496156\" style=\"fill: #1f77b4; stroke: #1f77b4\"/>\n     <use xlink:href=\"#m44ee977c14\" x=\"147.616607\" y=\"87.433298\" style=\"fill: #1f77b4; stroke: #1f77b4\"/>\n     <use xlink:href=\"#m44ee977c14\" x=\"120.737062\" y=\"60.785005\" style=\"fill: #1f77b4; stroke: #1f77b4\"/>\n     <use xlink:href=\"#m44ee977c14\" x=\"150.857763\" y=\"91.746127\" style=\"fill: #1f77b4; stroke: #1f77b4\"/>\n     <use xlink:href=\"#m44ee977c14\" x=\"152.081907\" y=\"95.59861\" style=\"fill: #1f77b4; stroke: #1f77b4\"/>\n     <use xlink:href=\"#m44ee977c14\" x=\"152.541417\" y=\"89.385884\" style=\"fill: #1f77b4; stroke: #1f77b4\"/>\n     <use xlink:href=\"#m44ee977c14\" x=\"118.314357\" y=\"65.27413\" style=\"fill: #1f77b4; stroke: #1f77b4\"/>\n     <use xlink:href=\"#m44ee977c14\" x=\"104.445723\" y=\"60.182506\" style=\"fill: #1f77b4; stroke: #1f77b4\"/>\n     <use xlink:href=\"#m44ee977c14\" x=\"119.502315\" y=\"67.894993\" style=\"fill: #1f77b4; stroke: #1f77b4\"/>\n     <use xlink:href=\"#m44ee977c14\" x=\"142.908401\" y=\"78.753558\" style=\"fill: #1f77b4; stroke: #1f77b4\"/>\n     <use xlink:href=\"#m44ee977c14\" x=\"147.699897\" y=\"94.350219\" style=\"fill: #1f77b4; stroke: #1f77b4\"/>\n     <use xlink:href=\"#m44ee977c14\" x=\"138.974261\" y=\"81.227488\" style=\"fill: #1f77b4; stroke: #1f77b4\"/>\n     <use xlink:href=\"#m44ee977c14\" x=\"112.076457\" y=\"53.130046\" style=\"fill: #1f77b4; stroke: #1f77b4\"/>\n     <use xlink:href=\"#m44ee977c14\" x=\"94.667289\" y=\"41.217492\" style=\"fill: #1f77b4; stroke: #1f77b4\"/>\n     <use xlink:href=\"#m44ee977c14\" x=\"137.968666\" y=\"72.512455\" style=\"fill: #1f77b4; stroke: #1f77b4\"/>\n     <use xlink:href=\"#m44ee977c14\" x=\"155.176009\" y=\"86.211223\" style=\"fill: #1f77b4; stroke: #1f77b4\"/>\n     <use xlink:href=\"#m44ee977c14\" x=\"106.409111\" y=\"68.206443\" style=\"fill: #1f77b4; stroke: #1f77b4\"/>\n     <use xlink:href=\"#m44ee977c14\" x=\"114.433125\" y=\"62.372779\" style=\"fill: #1f77b4; stroke: #1f77b4\"/>\n     <use xlink:href=\"#m44ee977c14\" x=\"116.118122\" y=\"67.686079\" style=\"fill: #1f77b4; stroke: #1f77b4\"/>\n     <use xlink:href=\"#m44ee977c14\" x=\"136.436559\" y=\"78.946441\" style=\"fill: #1f77b4; stroke: #1f77b4\"/>\n     <use xlink:href=\"#m44ee977c14\" x=\"181.194999\" y=\"107.18697\" style=\"fill: #1f77b4; stroke: #1f77b4\"/>\n     <use xlink:href=\"#m44ee977c14\" x=\"148.690576\" y=\"97.948747\" style=\"fill: #1f77b4; stroke: #1f77b4\"/>\n     <use xlink:href=\"#m44ee977c14\" x=\"135.045118\" y=\"79.03087\" style=\"fill: #1f77b4; stroke: #1f77b4\"/>\n     <use xlink:href=\"#m44ee977c14\" x=\"132.182141\" y=\"81.703533\" style=\"fill: #1f77b4; stroke: #1f77b4\"/>\n     <use xlink:href=\"#m44ee977c14\" x=\"121.357235\" y=\"64.176466\" style=\"fill: #1f77b4; stroke: #1f77b4\"/>\n     <use xlink:href=\"#m44ee977c14\" x=\"123.373814\" y=\"84.224266\" style=\"fill: #1f77b4; stroke: #1f77b4\"/>\n     <use xlink:href=\"#m44ee977c14\" x=\"106.492756\" y=\"63.341869\" style=\"fill: #1f77b4; stroke: #1f77b4\"/>\n     <use xlink:href=\"#m44ee977c14\" x=\"166.531648\" y=\"109.836563\" style=\"fill: #1f77b4; stroke: #1f77b4\"/>\n     <use xlink:href=\"#m44ee977c14\" x=\"105.615482\" y=\"60.034139\" style=\"fill: #1f77b4; stroke: #1f77b4\"/>\n     <use xlink:href=\"#m44ee977c14\" x=\"103.276338\" y=\"72.913628\" style=\"fill: #1f77b4; stroke: #1f77b4\"/>\n     <use xlink:href=\"#m44ee977c14\" x=\"147.21971\" y=\"85.186468\" style=\"fill: #1f77b4; stroke: #1f77b4\"/>\n     <use xlink:href=\"#m44ee977c14\" x=\"115.24763\" y=\"61.085816\" style=\"fill: #1f77b4; stroke: #1f77b4\"/>\n     <use xlink:href=\"#m44ee977c14\" x=\"128.076182\" y=\"42.518517\" style=\"fill: #1f77b4; stroke: #1f77b4\"/>\n     <use xlink:href=\"#m44ee977c14\" x=\"193.953163\" y=\"120.369021\" style=\"fill: #1f77b4; stroke: #1f77b4\"/>\n     <use xlink:href=\"#m44ee977c14\" x=\"119.754085\" y=\"67.464223\" style=\"fill: #1f77b4; stroke: #1f77b4\"/>\n     <use xlink:href=\"#m44ee977c14\" x=\"71.54937\" y=\"40.397737\" style=\"fill: #1f77b4; stroke: #1f77b4\"/>\n     <use xlink:href=\"#m44ee977c14\" x=\"74.868112\" y=\"53.63119\" style=\"fill: #1f77b4; stroke: #1f77b4\"/>\n     <use xlink:href=\"#m44ee977c14\" x=\"92.372392\" y=\"43.440191\" style=\"fill: #1f77b4; stroke: #1f77b4\"/>\n     <use xlink:href=\"#m44ee977c14\" x=\"125.938848\" y=\"67.158289\" style=\"fill: #1f77b4; stroke: #1f77b4\"/>\n     <use xlink:href=\"#m44ee977c14\" x=\"129.67965\" y=\"58.684342\" style=\"fill: #1f77b4; stroke: #1f77b4\"/>\n     <use xlink:href=\"#m44ee977c14\" x=\"85.070558\" y=\"51.492221\" style=\"fill: #1f77b4; stroke: #1f77b4\"/>\n     <use xlink:href=\"#m44ee977c14\" x=\"125.05215\" y=\"68.037628\" style=\"fill: #1f77b4; stroke: #1f77b4\"/>\n     <use xlink:href=\"#m44ee977c14\" x=\"94.282192\" y=\"46.818076\" style=\"fill: #1f77b4; stroke: #1f77b4\"/>\n     <use xlink:href=\"#m44ee977c14\" x=\"131.36386\" y=\"71.31339\" style=\"fill: #1f77b4; stroke: #1f77b4\"/>\n     <use xlink:href=\"#m44ee977c14\" x=\"126.261777\" y=\"83.460039\" style=\"fill: #1f77b4; stroke: #1f77b4\"/>\n     <use xlink:href=\"#m44ee977c14\" x=\"157.329814\" y=\"92.534026\" style=\"fill: #1f77b4; stroke: #1f77b4\"/>\n     <use xlink:href=\"#m44ee977c14\" x=\"121.479096\" y=\"77.965491\" style=\"fill: #1f77b4; stroke: #1f77b4\"/>\n     <use xlink:href=\"#m44ee977c14\" x=\"61.459531\" y=\"29.017313\" style=\"fill: #1f77b4; stroke: #1f77b4\"/>\n     <use xlink:href=\"#m44ee977c14\" x=\"149.374028\" y=\"102.691281\" style=\"fill: #1f77b4; stroke: #1f77b4\"/>\n     <use xlink:href=\"#m44ee977c14\" x=\"102.450294\" y=\"51.956449\" style=\"fill: #1f77b4; stroke: #1f77b4\"/>\n     <use xlink:href=\"#m44ee977c14\" x=\"121.199636\" y=\"80.761733\" style=\"fill: #1f77b4; stroke: #1f77b4\"/>\n     <use xlink:href=\"#m44ee977c14\" x=\"143.049003\" y=\"86.261228\" style=\"fill: #1f77b4; stroke: #1f77b4\"/>\n     <use xlink:href=\"#m44ee977c14\" x=\"177.263105\" y=\"111.546497\" style=\"fill: #1f77b4; stroke: #1f77b4\"/>\n     <use xlink:href=\"#m44ee977c14\" x=\"55.994483\" y=\"36.433098\" style=\"fill: #1f77b4; stroke: #1f77b4\"/>\n     <use xlink:href=\"#m44ee977c14\" x=\"134.623059\" y=\"77.748631\" style=\"fill: #1f77b4; stroke: #1f77b4\"/>\n     <use xlink:href=\"#m44ee977c14\" x=\"113.848415\" y=\"53.861962\" style=\"fill: #1f77b4; stroke: #1f77b4\"/>\n     <use xlink:href=\"#m44ee977c14\" x=\"115.579314\" y=\"69.299291\" style=\"fill: #1f77b4; stroke: #1f77b4\"/>\n     <use xlink:href=\"#m44ee977c14\" x=\"129.067049\" y=\"70.382651\" style=\"fill: #1f77b4; stroke: #1f77b4\"/>\n     <use xlink:href=\"#m44ee977c14\" x=\"154.872357\" y=\"83.564418\" style=\"fill: #1f77b4; stroke: #1f77b4\"/>\n     <use xlink:href=\"#m44ee977c14\" x=\"147.160098\" y=\"94.960181\" style=\"fill: #1f77b4; stroke: #1f77b4\"/>\n     <use xlink:href=\"#m44ee977c14\" x=\"151.217665\" y=\"85.970976\" style=\"fill: #1f77b4; stroke: #1f77b4\"/>\n     <use xlink:href=\"#m44ee977c14\" x=\"111.604035\" y=\"76.089794\" style=\"fill: #1f77b4; stroke: #1f77b4\"/>\n     <use xlink:href=\"#m44ee977c14\" x=\"122.638357\" y=\"75.172258\" style=\"fill: #1f77b4; stroke: #1f77b4\"/>\n     <use xlink:href=\"#m44ee977c14\" x=\"108.626015\" y=\"65.619125\" style=\"fill: #1f77b4; stroke: #1f77b4\"/>\n     <use xlink:href=\"#m44ee977c14\" x=\"135.91112\" y=\"67.255845\" style=\"fill: #1f77b4; stroke: #1f77b4\"/>\n     <use xlink:href=\"#m44ee977c14\" x=\"62.132619\" y=\"33.099787\" style=\"fill: #1f77b4; stroke: #1f77b4\"/>\n     <use xlink:href=\"#m44ee977c14\" x=\"177.757512\" y=\"99.099554\" style=\"fill: #1f77b4; stroke: #1f77b4\"/>\n     <use xlink:href=\"#m44ee977c14\" x=\"94.074543\" y=\"59.463178\" style=\"fill: #1f77b4; stroke: #1f77b4\"/>\n     <use xlink:href=\"#m44ee977c14\" x=\"168.079163\" y=\"98.299153\" style=\"fill: #1f77b4; stroke: #1f77b4\"/>\n     <use xlink:href=\"#m44ee977c14\" x=\"111.504459\" y=\"60.028358\" style=\"fill: #1f77b4; stroke: #1f77b4\"/>\n     <use xlink:href=\"#m44ee977c14\" x=\"131.219059\" y=\"83.607597\" style=\"fill: #1f77b4; stroke: #1f77b4\"/>\n     <use xlink:href=\"#m44ee977c14\" x=\"119.898021\" y=\"77.65703\" style=\"fill: #1f77b4; stroke: #1f77b4\"/>\n     <use xlink:href=\"#m44ee977c14\" x=\"105.285879\" y=\"48.845887\" style=\"fill: #1f77b4; stroke: #1f77b4\"/>\n     <use xlink:href=\"#m44ee977c14\" x=\"133.304437\" y=\"80.187302\" style=\"fill: #1f77b4; stroke: #1f77b4\"/>\n     <use xlink:href=\"#m44ee977c14\" x=\"138.653095\" y=\"103.323145\" style=\"fill: #1f77b4; stroke: #1f77b4\"/>\n     <use xlink:href=\"#m44ee977c14\" x=\"120.436394\" y=\"63.438539\" style=\"fill: #1f77b4; stroke: #1f77b4\"/>\n     <use xlink:href=\"#m44ee977c14\" x=\"155.26827\" y=\"85.050553\" style=\"fill: #1f77b4; stroke: #1f77b4\"/>\n     <use xlink:href=\"#m44ee977c14\" x=\"120.437028\" y=\"72.05209\" style=\"fill: #1f77b4; stroke: #1f77b4\"/>\n     <use xlink:href=\"#m44ee977c14\" x=\"105.682489\" y=\"59.372281\" style=\"fill: #1f77b4; stroke: #1f77b4\"/>\n     <use xlink:href=\"#m44ee977c14\" x=\"167.616351\" y=\"106.666818\" style=\"fill: #1f77b4; stroke: #1f77b4\"/>\n     <use xlink:href=\"#m44ee977c14\" x=\"118.929855\" y=\"76.869931\" style=\"fill: #1f77b4; stroke: #1f77b4\"/>\n     <use xlink:href=\"#m44ee977c14\" x=\"141.451236\" y=\"76.766494\" style=\"fill: #1f77b4; stroke: #1f77b4\"/>\n     <use xlink:href=\"#m44ee977c14\" x=\"170.251137\" y=\"81.913647\" style=\"fill: #1f77b4; stroke: #1f77b4\"/>\n     <use xlink:href=\"#m44ee977c14\" x=\"116.995666\" y=\"65.555595\" style=\"fill: #1f77b4; stroke: #1f77b4\"/>\n     <use xlink:href=\"#m44ee977c14\" x=\"142.186151\" y=\"88.573295\" style=\"fill: #1f77b4; stroke: #1f77b4\"/>\n     <use xlink:href=\"#m44ee977c14\" x=\"87.360772\" y=\"52.374072\" style=\"fill: #1f77b4; stroke: #1f77b4\"/>\n     <use xlink:href=\"#m44ee977c14\" x=\"126.408676\" y=\"64.914334\" style=\"fill: #1f77b4; stroke: #1f77b4\"/>\n     <use xlink:href=\"#m44ee977c14\" x=\"139.672616\" y=\"68.847962\" style=\"fill: #1f77b4; stroke: #1f77b4\"/>\n     <use xlink:href=\"#m44ee977c14\" x=\"115.936749\" y=\"72.614068\" style=\"fill: #1f77b4; stroke: #1f77b4\"/>\n     <use xlink:href=\"#m44ee977c14\" x=\"171.263081\" y=\"109.852896\" style=\"fill: #1f77b4; stroke: #1f77b4\"/>\n     <use xlink:href=\"#m44ee977c14\" x=\"99.756004\" y=\"53.982198\" style=\"fill: #1f77b4; stroke: #1f77b4\"/>\n     <use xlink:href=\"#m44ee977c14\" x=\"148.047953\" y=\"91.365815\" style=\"fill: #1f77b4; stroke: #1f77b4\"/>\n     <use xlink:href=\"#m44ee977c14\" x=\"153.465936\" y=\"85.735074\" style=\"fill: #1f77b4; stroke: #1f77b4\"/>\n     <use xlink:href=\"#m44ee977c14\" x=\"108.640477\" y=\"54.736948\" style=\"fill: #1f77b4; stroke: #1f77b4\"/>\n     <use xlink:href=\"#m44ee977c14\" x=\"132.111644\" y=\"73.606171\" style=\"fill: #1f77b4; stroke: #1f77b4\"/>\n     <use xlink:href=\"#m44ee977c14\" x=\"184.756747\" y=\"108.999943\" style=\"fill: #1f77b4; stroke: #1f77b4\"/>\n     <use xlink:href=\"#m44ee977c14\" x=\"144.894494\" y=\"77.833069\" style=\"fill: #1f77b4; stroke: #1f77b4\"/>\n     <use xlink:href=\"#m44ee977c14\" x=\"98.788266\" y=\"55.047882\" style=\"fill: #1f77b4; stroke: #1f77b4\"/>\n     <use xlink:href=\"#m44ee977c14\" x=\"119.62104\" y=\"60.418999\" style=\"fill: #1f77b4; stroke: #1f77b4\"/>\n     <use xlink:href=\"#m44ee977c14\" x=\"106.975643\" y=\"72.085964\" style=\"fill: #1f77b4; stroke: #1f77b4\"/>\n     <use xlink:href=\"#m44ee977c14\" x=\"155.889108\" y=\"95.084027\" style=\"fill: #1f77b4; stroke: #1f77b4\"/>\n     <use xlink:href=\"#m44ee977c14\" x=\"140.765676\" y=\"81.642178\" style=\"fill: #1f77b4; stroke: #1f77b4\"/>\n     <use xlink:href=\"#m44ee977c14\" x=\"141.866162\" y=\"98.660116\" style=\"fill: #1f77b4; stroke: #1f77b4\"/>\n     <use xlink:href=\"#m44ee977c14\" x=\"150.81619\" y=\"93.614665\" style=\"fill: #1f77b4; stroke: #1f77b4\"/>\n     <use xlink:href=\"#m44ee977c14\" x=\"124.498518\" y=\"84.44327\" style=\"fill: #1f77b4; stroke: #1f77b4\"/>\n     <use xlink:href=\"#m44ee977c14\" x=\"106.77729\" y=\"32.397649\" style=\"fill: #1f77b4; stroke: #1f77b4\"/>\n     <use xlink:href=\"#m44ee977c14\" x=\"133.059155\" y=\"74.200763\" style=\"fill: #1f77b4; stroke: #1f77b4\"/>\n     <use xlink:href=\"#m44ee977c14\" x=\"109.435974\" y=\"57.826017\" style=\"fill: #1f77b4; stroke: #1f77b4\"/>\n     <use xlink:href=\"#m44ee977c14\" x=\"124.904724\" y=\"85.162739\" style=\"fill: #1f77b4; stroke: #1f77b4\"/>\n     <use xlink:href=\"#m44ee977c14\" x=\"141.704454\" y=\"86.684801\" style=\"fill: #1f77b4; stroke: #1f77b4\"/>\n     <use xlink:href=\"#m44ee977c14\" x=\"164.611594\" y=\"88.136194\" style=\"fill: #1f77b4; stroke: #1f77b4\"/>\n     <use xlink:href=\"#m44ee977c14\" x=\"112.803114\" y=\"64.673288\" style=\"fill: #1f77b4; stroke: #1f77b4\"/>\n     <use xlink:href=\"#m44ee977c14\" x=\"114.163228\" y=\"61.745092\" style=\"fill: #1f77b4; stroke: #1f77b4\"/>\n     <use xlink:href=\"#m44ee977c14\" x=\"155.747929\" y=\"86.712265\" style=\"fill: #1f77b4; stroke: #1f77b4\"/>\n     <use xlink:href=\"#m44ee977c14\" x=\"118.885672\" y=\"53.121027\" style=\"fill: #1f77b4; stroke: #1f77b4\"/>\n     <use xlink:href=\"#m44ee977c14\" x=\"141.211454\" y=\"91.009808\" style=\"fill: #1f77b4; stroke: #1f77b4\"/>\n     <use xlink:href=\"#m44ee977c14\" x=\"160.241061\" y=\"100.850942\" style=\"fill: #1f77b4; stroke: #1f77b4\"/>\n     <use xlink:href=\"#m44ee977c14\" x=\"122.371529\" y=\"59.424412\" style=\"fill: #1f77b4; stroke: #1f77b4\"/>\n     <use xlink:href=\"#m44ee977c14\" x=\"195.694238\" y=\"97.026684\" style=\"fill: #1f77b4; stroke: #1f77b4\"/>\n     <use xlink:href=\"#m44ee977c14\" x=\"137.698966\" y=\"87.203493\" style=\"fill: #1f77b4; stroke: #1f77b4\"/>\n     <use xlink:href=\"#m44ee977c14\" x=\"144.802429\" y=\"79.540233\" style=\"fill: #1f77b4; stroke: #1f77b4\"/>\n     <use xlink:href=\"#m44ee977c14\" x=\"154.909695\" y=\"97.724415\" style=\"fill: #1f77b4; stroke: #1f77b4\"/>\n     <use xlink:href=\"#m44ee977c14\" x=\"126.188952\" y=\"81.339705\" style=\"fill: #1f77b4; stroke: #1f77b4\"/>\n     <use xlink:href=\"#m44ee977c14\" x=\"131.436208\" y=\"92.027452\" style=\"fill: #1f77b4; stroke: #1f77b4\"/>\n     <use xlink:href=\"#m44ee977c14\" x=\"95.025291\" y=\"42.681794\" style=\"fill: #1f77b4; stroke: #1f77b4\"/>\n     <use xlink:href=\"#m44ee977c14\" x=\"153.801682\" y=\"73.417476\" style=\"fill: #1f77b4; stroke: #1f77b4\"/>\n     <use xlink:href=\"#m44ee977c14\" x=\"126.951284\" y=\"65.012093\" style=\"fill: #1f77b4; stroke: #1f77b4\"/>\n     <use xlink:href=\"#m44ee977c14\" x=\"140.092861\" y=\"76.29288\" style=\"fill: #1f77b4; stroke: #1f77b4\"/>\n     <use xlink:href=\"#m44ee977c14\" x=\"173.427999\" y=\"99.267322\" style=\"fill: #1f77b4; stroke: #1f77b4\"/>\n     <use xlink:href=\"#m44ee977c14\" x=\"104.178611\" y=\"48.485199\" style=\"fill: #1f77b4; stroke: #1f77b4\"/>\n     <use xlink:href=\"#m44ee977c14\" x=\"94.077463\" y=\"63.608025\" style=\"fill: #1f77b4; stroke: #1f77b4\"/>\n     <use xlink:href=\"#m44ee977c14\" x=\"125.620127\" y=\"86.184906\" style=\"fill: #1f77b4; stroke: #1f77b4\"/>\n     <use xlink:href=\"#m44ee977c14\" x=\"125.432309\" y=\"68.075563\" style=\"fill: #1f77b4; stroke: #1f77b4\"/>\n     <use xlink:href=\"#m44ee977c14\" x=\"107.705927\" y=\"78.652789\" style=\"fill: #1f77b4; stroke: #1f77b4\"/>\n     <use xlink:href=\"#m44ee977c14\" x=\"141.156392\" y=\"88.63173\" style=\"fill: #1f77b4; stroke: #1f77b4\"/>\n     <use xlink:href=\"#m44ee977c14\" x=\"166.102848\" y=\"106.1351\" style=\"fill: #1f77b4; stroke: #1f77b4\"/>\n     <use xlink:href=\"#m44ee977c14\" x=\"111.676804\" y=\"68.488647\" style=\"fill: #1f77b4; stroke: #1f77b4\"/>\n     <use xlink:href=\"#m44ee977c14\" x=\"114.289826\" y=\"74.859708\" style=\"fill: #1f77b4; stroke: #1f77b4\"/>\n     <use xlink:href=\"#m44ee977c14\" x=\"166.418337\" y=\"97.242251\" style=\"fill: #1f77b4; stroke: #1f77b4\"/>\n     <use xlink:href=\"#m44ee977c14\" x=\"102.7804\" y=\"51.13077\" style=\"fill: #1f77b4; stroke: #1f77b4\"/>\n     <use xlink:href=\"#m44ee977c14\" x=\"102.327867\" y=\"61.019612\" style=\"fill: #1f77b4; stroke: #1f77b4\"/>\n     <use xlink:href=\"#m44ee977c14\" x=\"140.452175\" y=\"77.351983\" style=\"fill: #1f77b4; stroke: #1f77b4\"/>\n     <use xlink:href=\"#m44ee977c14\" x=\"155.678593\" y=\"81.501668\" style=\"fill: #1f77b4; stroke: #1f77b4\"/>\n     <use xlink:href=\"#m44ee977c14\" x=\"145.077572\" y=\"88.290584\" style=\"fill: #1f77b4; stroke: #1f77b4\"/>\n     <use xlink:href=\"#m44ee977c14\" x=\"173.214208\" y=\"102.773605\" style=\"fill: #1f77b4; stroke: #1f77b4\"/>\n     <use xlink:href=\"#m44ee977c14\" x=\"213.267704\" y=\"123.775297\" style=\"fill: #1f77b4; stroke: #1f77b4\"/>\n     <use xlink:href=\"#m44ee977c14\" x=\"123.245243\" y=\"79.219242\" style=\"fill: #1f77b4; stroke: #1f77b4\"/>\n     <use xlink:href=\"#m44ee977c14\" x=\"98.22048\" y=\"70.492699\" style=\"fill: #1f77b4; stroke: #1f77b4\"/>\n     <use xlink:href=\"#m44ee977c14\" x=\"152.795103\" y=\"87.228854\" style=\"fill: #1f77b4; stroke: #1f77b4\"/>\n     <use xlink:href=\"#m44ee977c14\" x=\"100.590137\" y=\"39.244798\" style=\"fill: #1f77b4; stroke: #1f77b4\"/>\n     <use xlink:href=\"#m44ee977c14\" x=\"117.804584\" y=\"71.17361\" style=\"fill: #1f77b4; stroke: #1f77b4\"/>\n     <use xlink:href=\"#m44ee977c14\" x=\"100.014967\" y=\"51.508374\" style=\"fill: #1f77b4; stroke: #1f77b4\"/>\n     <use xlink:href=\"#m44ee977c14\" x=\"192.080049\" y=\"113.169792\" style=\"fill: #1f77b4; stroke: #1f77b4\"/>\n     <use xlink:href=\"#m44ee977c14\" x=\"146.669803\" y=\"77.504704\" style=\"fill: #1f77b4; stroke: #1f77b4\"/>\n     <use xlink:href=\"#m44ee977c14\" x=\"110.27566\" y=\"49.731636\" style=\"fill: #1f77b4; stroke: #1f77b4\"/>\n     <use xlink:href=\"#m44ee977c14\" x=\"104.706963\" y=\"64.631835\" style=\"fill: #1f77b4; stroke: #1f77b4\"/>\n     <use xlink:href=\"#m44ee977c14\" x=\"143.771169\" y=\"78.677732\" style=\"fill: #1f77b4; stroke: #1f77b4\"/>\n     <use xlink:href=\"#m44ee977c14\" x=\"101.067669\" y=\"61.230107\" style=\"fill: #1f77b4; stroke: #1f77b4\"/>\n     <use xlink:href=\"#m44ee977c14\" x=\"154.033831\" y=\"84.491976\" style=\"fill: #1f77b4; stroke: #1f77b4\"/>\n     <use xlink:href=\"#m44ee977c14\" x=\"91.297829\" y=\"47.129676\" style=\"fill: #1f77b4; stroke: #1f77b4\"/>\n     <use xlink:href=\"#m44ee977c14\" x=\"138.3812\" y=\"92.573628\" style=\"fill: #1f77b4; stroke: #1f77b4\"/>\n     <use xlink:href=\"#m44ee977c14\" x=\"137.271755\" y=\"81.745243\" style=\"fill: #1f77b4; stroke: #1f77b4\"/>\n     <use xlink:href=\"#m44ee977c14\" x=\"145.934867\" y=\"87.141618\" style=\"fill: #1f77b4; stroke: #1f77b4\"/>\n     <use xlink:href=\"#m44ee977c14\" x=\"177.874604\" y=\"92.116241\" style=\"fill: #1f77b4; stroke: #1f77b4\"/>\n     <use xlink:href=\"#m44ee977c14\" x=\"103.62124\" y=\"64.223802\" style=\"fill: #1f77b4; stroke: #1f77b4\"/>\n     <use xlink:href=\"#m44ee977c14\" x=\"84.347066\" y=\"43.742576\" style=\"fill: #1f77b4; stroke: #1f77b4\"/>\n     <use xlink:href=\"#m44ee977c14\" x=\"164.493405\" y=\"91.575614\" style=\"fill: #1f77b4; stroke: #1f77b4\"/>\n     <use xlink:href=\"#m44ee977c14\" x=\"149.288392\" y=\"88.787535\" style=\"fill: #1f77b4; stroke: #1f77b4\"/>\n     <use xlink:href=\"#m44ee977c14\" x=\"156.576383\" y=\"99.080276\" style=\"fill: #1f77b4; stroke: #1f77b4\"/>\n     <use xlink:href=\"#m44ee977c14\" x=\"116.109689\" y=\"71.246953\" style=\"fill: #1f77b4; stroke: #1f77b4\"/>\n     <use xlink:href=\"#m44ee977c14\" x=\"112.909696\" y=\"70.13555\" style=\"fill: #1f77b4; stroke: #1f77b4\"/>\n     <use xlink:href=\"#m44ee977c14\" x=\"154.184988\" y=\"90.005485\" style=\"fill: #1f77b4; stroke: #1f77b4\"/>\n     <use xlink:href=\"#m44ee977c14\" x=\"138.450339\" y=\"65.563388\" style=\"fill: #1f77b4; stroke: #1f77b4\"/>\n     <use xlink:href=\"#m44ee977c14\" x=\"144.14525\" y=\"71.089806\" style=\"fill: #1f77b4; stroke: #1f77b4\"/>\n     <use xlink:href=\"#m44ee977c14\" x=\"145.154952\" y=\"67.648634\" style=\"fill: #1f77b4; stroke: #1f77b4\"/>\n     <use xlink:href=\"#m44ee977c14\" x=\"180.714618\" y=\"99.880603\" style=\"fill: #1f77b4; stroke: #1f77b4\"/>\n     <use xlink:href=\"#m44ee977c14\" x=\"188.356012\" y=\"113.48647\" style=\"fill: #1f77b4; stroke: #1f77b4\"/>\n     <use xlink:href=\"#m44ee977c14\" x=\"120.800494\" y=\"66.743478\" style=\"fill: #1f77b4; stroke: #1f77b4\"/>\n     <use xlink:href=\"#m44ee977c14\" x=\"104.648012\" y=\"53.104304\" style=\"fill: #1f77b4; stroke: #1f77b4\"/>\n     <use xlink:href=\"#m44ee977c14\" x=\"115.440359\" y=\"53.476156\" style=\"fill: #1f77b4; stroke: #1f77b4\"/>\n     <use xlink:href=\"#m44ee977c14\" x=\"136.823556\" y=\"67.541482\" style=\"fill: #1f77b4; stroke: #1f77b4\"/>\n     <use xlink:href=\"#m44ee977c14\" x=\"132.0112\" y=\"85.115799\" style=\"fill: #1f77b4; stroke: #1f77b4\"/>\n     <use xlink:href=\"#m44ee977c14\" x=\"134.479166\" y=\"93.781375\" style=\"fill: #1f77b4; stroke: #1f77b4\"/>\n     <use xlink:href=\"#m44ee977c14\" x=\"130.914888\" y=\"72.773625\" style=\"fill: #1f77b4; stroke: #1f77b4\"/>\n     <use xlink:href=\"#m44ee977c14\" x=\"147.909238\" y=\"107.947317\" style=\"fill: #1f77b4; stroke: #1f77b4\"/>\n     <use xlink:href=\"#m44ee977c14\" x=\"88.503012\" y=\"39.639572\" style=\"fill: #1f77b4; stroke: #1f77b4\"/>\n     <use xlink:href=\"#m44ee977c14\" x=\"162.446235\" y=\"92.700201\" style=\"fill: #1f77b4; stroke: #1f77b4\"/>\n     <use xlink:href=\"#m44ee977c14\" x=\"105.871499\" y=\"70.450174\" style=\"fill: #1f77b4; stroke: #1f77b4\"/>\n     <use xlink:href=\"#m44ee977c14\" x=\"156.625855\" y=\"102.041296\" style=\"fill: #1f77b4; stroke: #1f77b4\"/>\n     <use xlink:href=\"#m44ee977c14\" x=\"119.364296\" y=\"52.067141\" style=\"fill: #1f77b4; stroke: #1f77b4\"/>\n     <use xlink:href=\"#m44ee977c14\" x=\"137.373657\" y=\"70.987325\" style=\"fill: #1f77b4; stroke: #1f77b4\"/>\n     <use xlink:href=\"#m44ee977c14\" x=\"132.867633\" y=\"75.581708\" style=\"fill: #1f77b4; stroke: #1f77b4\"/>\n     <use xlink:href=\"#m44ee977c14\" x=\"135.681602\" y=\"79.035426\" style=\"fill: #1f77b4; stroke: #1f77b4\"/>\n     <use xlink:href=\"#m44ee977c14\" x=\"112.917984\" y=\"71.25298\" style=\"fill: #1f77b4; stroke: #1f77b4\"/>\n     <use xlink:href=\"#m44ee977c14\" x=\"108.701406\" y=\"68.716284\" style=\"fill: #1f77b4; stroke: #1f77b4\"/>\n     <use xlink:href=\"#m44ee977c14\" x=\"141.14537\" y=\"94.177294\" style=\"fill: #1f77b4; stroke: #1f77b4\"/>\n     <use xlink:href=\"#m44ee977c14\" x=\"104.135035\" y=\"78.785292\" style=\"fill: #1f77b4; stroke: #1f77b4\"/>\n     <use xlink:href=\"#m44ee977c14\" x=\"137.122179\" y=\"73.41877\" style=\"fill: #1f77b4; stroke: #1f77b4\"/>\n     <use xlink:href=\"#m44ee977c14\" x=\"124.043788\" y=\"67.671975\" style=\"fill: #1f77b4; stroke: #1f77b4\"/>\n     <use xlink:href=\"#m44ee977c14\" x=\"162.091216\" y=\"89.837667\" style=\"fill: #1f77b4; stroke: #1f77b4\"/>\n     <use xlink:href=\"#m44ee977c14\" x=\"114.656516\" y=\"59.950234\" style=\"fill: #1f77b4; stroke: #1f77b4\"/>\n     <use xlink:href=\"#m44ee977c14\" x=\"116.438336\" y=\"62.422643\" style=\"fill: #1f77b4; stroke: #1f77b4\"/>\n     <use xlink:href=\"#m44ee977c14\" x=\"131.829469\" y=\"67.642379\" style=\"fill: #1f77b4; stroke: #1f77b4\"/>\n     <use xlink:href=\"#m44ee977c14\" x=\"129.033312\" y=\"84.544799\" style=\"fill: #1f77b4; stroke: #1f77b4\"/>\n     <use xlink:href=\"#m44ee977c14\" x=\"155.70742\" y=\"97.849044\" style=\"fill: #1f77b4; stroke: #1f77b4\"/>\n     <use xlink:href=\"#m44ee977c14\" x=\"141.494482\" y=\"74.293795\" style=\"fill: #1f77b4; stroke: #1f77b4\"/>\n     <use xlink:href=\"#m44ee977c14\" x=\"135.835524\" y=\"77.603778\" style=\"fill: #1f77b4; stroke: #1f77b4\"/>\n     <use xlink:href=\"#m44ee977c14\" x=\"151.195702\" y=\"89.566879\" style=\"fill: #1f77b4; stroke: #1f77b4\"/>\n     <use xlink:href=\"#m44ee977c14\" x=\"105.955896\" y=\"54.442742\" style=\"fill: #1f77b4; stroke: #1f77b4\"/>\n     <use xlink:href=\"#m44ee977c14\" x=\"123.608819\" y=\"57.900264\" style=\"fill: #1f77b4; stroke: #1f77b4\"/>\n     <use xlink:href=\"#m44ee977c14\" x=\"128.789035\" y=\"70.331577\" style=\"fill: #1f77b4; stroke: #1f77b4\"/>\n     <use xlink:href=\"#m44ee977c14\" x=\"122.843084\" y=\"73.85465\" style=\"fill: #1f77b4; stroke: #1f77b4\"/>\n     <use xlink:href=\"#m44ee977c14\" x=\"144.143041\" y=\"82.196684\" style=\"fill: #1f77b4; stroke: #1f77b4\"/>\n     <use xlink:href=\"#m44ee977c14\" x=\"159.817145\" y=\"81.107557\" style=\"fill: #1f77b4; stroke: #1f77b4\"/>\n     <use xlink:href=\"#m44ee977c14\" x=\"132.072653\" y=\"70.337292\" style=\"fill: #1f77b4; stroke: #1f77b4\"/>\n     <use xlink:href=\"#m44ee977c14\" x=\"141.560607\" y=\"76.101218\" style=\"fill: #1f77b4; stroke: #1f77b4\"/>\n     <use xlink:href=\"#m44ee977c14\" x=\"120.424377\" y=\"59.61896\" style=\"fill: #1f77b4; stroke: #1f77b4\"/>\n     <use xlink:href=\"#m44ee977c14\" x=\"154.967296\" y=\"86.959763\" style=\"fill: #1f77b4; stroke: #1f77b4\"/>\n     <use xlink:href=\"#m44ee977c14\" x=\"108.891918\" y=\"62.778558\" style=\"fill: #1f77b4; stroke: #1f77b4\"/>\n     <use xlink:href=\"#m44ee977c14\" x=\"139.049431\" y=\"85.539924\" style=\"fill: #1f77b4; stroke: #1f77b4\"/>\n     <use xlink:href=\"#m44ee977c14\" x=\"124.635573\" y=\"73.883786\" style=\"fill: #1f77b4; stroke: #1f77b4\"/>\n     <use xlink:href=\"#m44ee977c14\" x=\"120.242401\" y=\"68.395445\" style=\"fill: #1f77b4; stroke: #1f77b4\"/>\n     <use xlink:href=\"#m44ee977c14\" x=\"168.248825\" y=\"97.328006\" style=\"fill: #1f77b4; stroke: #1f77b4\"/>\n     <use xlink:href=\"#m44ee977c14\" x=\"146.519045\" y=\"89.163568\" style=\"fill: #1f77b4; stroke: #1f77b4\"/>\n     <use xlink:href=\"#m44ee977c14\" x=\"88.996507\" y=\"47.018437\" style=\"fill: #1f77b4; stroke: #1f77b4\"/>\n     <use xlink:href=\"#m44ee977c14\" x=\"165.933372\" y=\"85.636301\" style=\"fill: #1f77b4; stroke: #1f77b4\"/>\n     <use xlink:href=\"#m44ee977c14\" x=\"188.875229\" y=\"121.386058\" style=\"fill: #1f77b4; stroke: #1f77b4\"/>\n     <use xlink:href=\"#m44ee977c14\" x=\"141.456924\" y=\"85.276325\" style=\"fill: #1f77b4; stroke: #1f77b4\"/>\n     <use xlink:href=\"#m44ee977c14\" x=\"109.15781\" y=\"58.54152\" style=\"fill: #1f77b4; stroke: #1f77b4\"/>\n     <use xlink:href=\"#m44ee977c14\" x=\"102.844205\" y=\"57.618696\" style=\"fill: #1f77b4; stroke: #1f77b4\"/>\n     <use xlink:href=\"#m44ee977c14\" x=\"142.992687\" y=\"75.849302\" style=\"fill: #1f77b4; stroke: #1f77b4\"/>\n     <use xlink:href=\"#m44ee977c14\" x=\"140.235183\" y=\"77.782442\" style=\"fill: #1f77b4; stroke: #1f77b4\"/>\n     <use xlink:href=\"#m44ee977c14\" x=\"133.175817\" y=\"83.109093\" style=\"fill: #1f77b4; stroke: #1f77b4\"/>\n     <use xlink:href=\"#m44ee977c14\" x=\"114.37123\" y=\"76.812755\" style=\"fill: #1f77b4; stroke: #1f77b4\"/>\n     <use xlink:href=\"#m44ee977c14\" x=\"129.821292\" y=\"61.51241\" style=\"fill: #1f77b4; stroke: #1f77b4\"/>\n     <use xlink:href=\"#m44ee977c14\" x=\"118.324397\" y=\"43.001254\" style=\"fill: #1f77b4; stroke: #1f77b4\"/>\n     <use xlink:href=\"#m44ee977c14\" x=\"139.121667\" y=\"93.537071\" style=\"fill: #1f77b4; stroke: #1f77b4\"/>\n     <use xlink:href=\"#m44ee977c14\" x=\"117.734429\" y=\"65.793474\" style=\"fill: #1f77b4; stroke: #1f77b4\"/>\n     <use xlink:href=\"#m44ee977c14\" x=\"133.780763\" y=\"86.566016\" style=\"fill: #1f77b4; stroke: #1f77b4\"/>\n     <use xlink:href=\"#m44ee977c14\" x=\"120.856566\" y=\"74.932617\" style=\"fill: #1f77b4; stroke: #1f77b4\"/>\n     <use xlink:href=\"#m44ee977c14\" x=\"154.001437\" y=\"80.723769\" style=\"fill: #1f77b4; stroke: #1f77b4\"/>\n     <use xlink:href=\"#m44ee977c14\" x=\"126.16249\" y=\"82.375941\" style=\"fill: #1f77b4; stroke: #1f77b4\"/>\n     <use xlink:href=\"#m44ee977c14\" x=\"121.668724\" y=\"67.081873\" style=\"fill: #1f77b4; stroke: #1f77b4\"/>\n     <use xlink:href=\"#m44ee977c14\" x=\"118.284109\" y=\"65.958569\" style=\"fill: #1f77b4; stroke: #1f77b4\"/>\n     <use xlink:href=\"#m44ee977c14\" x=\"124.917968\" y=\"78.429453\" style=\"fill: #1f77b4; stroke: #1f77b4\"/>\n     <use xlink:href=\"#m44ee977c14\" x=\"130.625617\" y=\"80.151389\" style=\"fill: #1f77b4; stroke: #1f77b4\"/>\n     <use xlink:href=\"#m44ee977c14\" x=\"128.64844\" y=\"72.334459\" style=\"fill: #1f77b4; stroke: #1f77b4\"/>\n     <use xlink:href=\"#m44ee977c14\" x=\"138.433612\" y=\"82.311585\" style=\"fill: #1f77b4; stroke: #1f77b4\"/>\n     <use xlink:href=\"#m44ee977c14\" x=\"100.217077\" y=\"64.037919\" style=\"fill: #1f77b4; stroke: #1f77b4\"/>\n     <use xlink:href=\"#m44ee977c14\" x=\"125.822234\" y=\"71.415704\" style=\"fill: #1f77b4; stroke: #1f77b4\"/>\n     <use xlink:href=\"#m44ee977c14\" x=\"124.367485\" y=\"66.667579\" style=\"fill: #1f77b4; stroke: #1f77b4\"/>\n     <use xlink:href=\"#m44ee977c14\" x=\"118.192324\" y=\"54.573311\" style=\"fill: #1f77b4; stroke: #1f77b4\"/>\n     <use xlink:href=\"#m44ee977c14\" x=\"164.49454\" y=\"92.66228\" style=\"fill: #1f77b4; stroke: #1f77b4\"/>\n     <use xlink:href=\"#m44ee977c14\" x=\"171.554866\" y=\"88.802112\" style=\"fill: #1f77b4; stroke: #1f77b4\"/>\n     <use xlink:href=\"#m44ee977c14\" x=\"170.580615\" y=\"109.623792\" style=\"fill: #1f77b4; stroke: #1f77b4\"/>\n     <use xlink:href=\"#m44ee977c14\" x=\"152.93706\" y=\"84.554242\" style=\"fill: #1f77b4; stroke: #1f77b4\"/>\n     <use xlink:href=\"#m44ee977c14\" x=\"144.843556\" y=\"75.676546\" style=\"fill: #1f77b4; stroke: #1f77b4\"/>\n     <use xlink:href=\"#m44ee977c14\" x=\"133.865296\" y=\"85.401433\" style=\"fill: #1f77b4; stroke: #1f77b4\"/>\n     <use xlink:href=\"#m44ee977c14\" x=\"137.708202\" y=\"91.737041\" style=\"fill: #1f77b4; stroke: #1f77b4\"/>\n     <use xlink:href=\"#m44ee977c14\" x=\"116.828117\" y=\"64.240037\" style=\"fill: #1f77b4; stroke: #1f77b4\"/>\n     <use xlink:href=\"#m44ee977c14\" x=\"112.118148\" y=\"41.833248\" style=\"fill: #1f77b4; stroke: #1f77b4\"/>\n     <use xlink:href=\"#m44ee977c14\" x=\"131.202279\" y=\"59.859057\" style=\"fill: #1f77b4; stroke: #1f77b4\"/>\n     <use xlink:href=\"#m44ee977c14\" x=\"202.589863\" y=\"118.041387\" style=\"fill: #1f77b4; stroke: #1f77b4\"/>\n     <use xlink:href=\"#m44ee977c14\" x=\"104.465531\" y=\"59.915058\" style=\"fill: #1f77b4; stroke: #1f77b4\"/>\n     <use xlink:href=\"#m44ee977c14\" x=\"142.288381\" y=\"91.225547\" style=\"fill: #1f77b4; stroke: #1f77b4\"/>\n     <use xlink:href=\"#m44ee977c14\" x=\"128.173534\" y=\"52.005305\" style=\"fill: #1f77b4; stroke: #1f77b4\"/>\n     <use xlink:href=\"#m44ee977c14\" x=\"144.038014\" y=\"80.254956\" style=\"fill: #1f77b4; stroke: #1f77b4\"/>\n     <use xlink:href=\"#m44ee977c14\" x=\"146.711566\" y=\"84.307223\" style=\"fill: #1f77b4; stroke: #1f77b4\"/>\n     <use xlink:href=\"#m44ee977c14\" x=\"142.273765\" y=\"87.525769\" style=\"fill: #1f77b4; stroke: #1f77b4\"/>\n     <use xlink:href=\"#m44ee977c14\" x=\"101.882182\" y=\"52.630098\" style=\"fill: #1f77b4; stroke: #1f77b4\"/>\n     <use xlink:href=\"#m44ee977c14\" x=\"115.091415\" y=\"66.777995\" style=\"fill: #1f77b4; stroke: #1f77b4\"/>\n     <use xlink:href=\"#m44ee977c14\" x=\"132.281041\" y=\"82.027861\" style=\"fill: #1f77b4; stroke: #1f77b4\"/>\n     <use xlink:href=\"#m44ee977c14\" x=\"110.464766\" y=\"83.731218\" style=\"fill: #1f77b4; stroke: #1f77b4\"/>\n     <use xlink:href=\"#m44ee977c14\" x=\"138.545264\" y=\"94.995374\" style=\"fill: #1f77b4; stroke: #1f77b4\"/>\n     <use xlink:href=\"#m44ee977c14\" x=\"96.743827\" y=\"59.733666\" style=\"fill: #1f77b4; stroke: #1f77b4\"/>\n     <use xlink:href=\"#m44ee977c14\" x=\"157.13634\" y=\"95.309141\" style=\"fill: #1f77b4; stroke: #1f77b4\"/>\n     <use xlink:href=\"#m44ee977c14\" x=\"100.837128\" y=\"49.000309\" style=\"fill: #1f77b4; stroke: #1f77b4\"/>\n     <use xlink:href=\"#m44ee977c14\" x=\"150.994804\" y=\"96.102356\" style=\"fill: #1f77b4; stroke: #1f77b4\"/>\n     <use xlink:href=\"#m44ee977c14\" x=\"127.170547\" y=\"72.829265\" style=\"fill: #1f77b4; stroke: #1f77b4\"/>\n     <use xlink:href=\"#m44ee977c14\" x=\"174.622341\" y=\"104.261853\" style=\"fill: #1f77b4; stroke: #1f77b4\"/>\n     <use xlink:href=\"#m44ee977c14\" x=\"124.024426\" y=\"77.629947\" style=\"fill: #1f77b4; stroke: #1f77b4\"/>\n     <use xlink:href=\"#m44ee977c14\" x=\"146.629553\" y=\"82.996582\" style=\"fill: #1f77b4; stroke: #1f77b4\"/>\n     <use xlink:href=\"#m44ee977c14\" x=\"142.549312\" y=\"79.052401\" style=\"fill: #1f77b4; stroke: #1f77b4\"/>\n     <use xlink:href=\"#m44ee977c14\" x=\"191.980609\" y=\"123.172917\" style=\"fill: #1f77b4; stroke: #1f77b4\"/>\n     <use xlink:href=\"#m44ee977c14\" x=\"171.211138\" y=\"94.198335\" style=\"fill: #1f77b4; stroke: #1f77b4\"/>\n     <use xlink:href=\"#m44ee977c14\" x=\"128.536194\" y=\"72.835605\" style=\"fill: #1f77b4; stroke: #1f77b4\"/>\n     <use xlink:href=\"#m44ee977c14\" x=\"181.630228\" y=\"109.361752\" style=\"fill: #1f77b4; stroke: #1f77b4\"/>\n     <use xlink:href=\"#m44ee977c14\" x=\"101.130493\" y=\"66.426417\" style=\"fill: #1f77b4; stroke: #1f77b4\"/>\n     <use xlink:href=\"#m44ee977c14\" x=\"147.637498\" y=\"100.332117\" style=\"fill: #1f77b4; stroke: #1f77b4\"/>\n     <use xlink:href=\"#m44ee977c14\" x=\"148.27922\" y=\"88.278824\" style=\"fill: #1f77b4; stroke: #1f77b4\"/>\n     <use xlink:href=\"#m44ee977c14\" x=\"184.866518\" y=\"106.656708\" style=\"fill: #1f77b4; stroke: #1f77b4\"/>\n     <use xlink:href=\"#m44ee977c14\" x=\"168.146356\" y=\"96.977697\" style=\"fill: #1f77b4; stroke: #1f77b4\"/>\n     <use xlink:href=\"#m44ee977c14\" x=\"113.036919\" y=\"49.573787\" style=\"fill: #1f77b4; stroke: #1f77b4\"/>\n     <use xlink:href=\"#m44ee977c14\" x=\"134.283956\" y=\"76.324624\" style=\"fill: #1f77b4; stroke: #1f77b4\"/>\n     <use xlink:href=\"#m44ee977c14\" x=\"109.932415\" y=\"40.748129\" style=\"fill: #1f77b4; stroke: #1f77b4\"/>\n     <use xlink:href=\"#m44ee977c14\" x=\"127.911976\" y=\"71.673247\" style=\"fill: #1f77b4; stroke: #1f77b4\"/>\n     <use xlink:href=\"#m44ee977c14\" x=\"114.926156\" y=\"69.911535\" style=\"fill: #1f77b4; stroke: #1f77b4\"/>\n     <use xlink:href=\"#m44ee977c14\" x=\"131.527087\" y=\"72.350313\" style=\"fill: #1f77b4; stroke: #1f77b4\"/>\n     <use xlink:href=\"#m44ee977c14\" x=\"128.373112\" y=\"78.464727\" style=\"fill: #1f77b4; stroke: #1f77b4\"/>\n     <use xlink:href=\"#m44ee977c14\" x=\"125.95655\" y=\"90.523229\" style=\"fill: #1f77b4; stroke: #1f77b4\"/>\n     <use xlink:href=\"#m44ee977c14\" x=\"135.071635\" y=\"85.319997\" style=\"fill: #1f77b4; stroke: #1f77b4\"/>\n     <use xlink:href=\"#m44ee977c14\" x=\"96.01191\" y=\"49.886688\" style=\"fill: #1f77b4; stroke: #1f77b4\"/>\n     <use xlink:href=\"#m44ee977c14\" x=\"92.707996\" y=\"51.045501\" style=\"fill: #1f77b4; stroke: #1f77b4\"/>\n     <use xlink:href=\"#m44ee977c14\" x=\"178.968879\" y=\"104.66966\" style=\"fill: #1f77b4; stroke: #1f77b4\"/>\n     <use xlink:href=\"#m44ee977c14\" x=\"140.073648\" y=\"75.664289\" style=\"fill: #1f77b4; stroke: #1f77b4\"/>\n     <use xlink:href=\"#m44ee977c14\" x=\"104.355168\" y=\"40.239856\" style=\"fill: #1f77b4; stroke: #1f77b4\"/>\n     <use xlink:href=\"#m44ee977c14\" x=\"170.775759\" y=\"82.305843\" style=\"fill: #1f77b4; stroke: #1f77b4\"/>\n     <use xlink:href=\"#m44ee977c14\" x=\"132.823591\" y=\"43.998411\" style=\"fill: #1f77b4; stroke: #1f77b4\"/>\n     <use xlink:href=\"#m44ee977c14\" x=\"145.904801\" y=\"92.95528\" style=\"fill: #1f77b4; stroke: #1f77b4\"/>\n     <use xlink:href=\"#m44ee977c14\" x=\"134.925402\" y=\"70.298589\" style=\"fill: #1f77b4; stroke: #1f77b4\"/>\n     <use xlink:href=\"#m44ee977c14\" x=\"92.179746\" y=\"60.172531\" style=\"fill: #1f77b4; stroke: #1f77b4\"/>\n     <use xlink:href=\"#m44ee977c14\" x=\"180.149484\" y=\"113.188193\" style=\"fill: #1f77b4; stroke: #1f77b4\"/>\n     <use xlink:href=\"#m44ee977c14\" x=\"130.436424\" y=\"76.260448\" style=\"fill: #1f77b4; stroke: #1f77b4\"/>\n     <use xlink:href=\"#m44ee977c14\" x=\"83.073891\" y=\"43.861712\" style=\"fill: #1f77b4; stroke: #1f77b4\"/>\n     <use xlink:href=\"#m44ee977c14\" x=\"164.284722\" y=\"104.549539\" style=\"fill: #1f77b4; stroke: #1f77b4\"/>\n     <use xlink:href=\"#m44ee977c14\" x=\"145.67883\" y=\"84.662746\" style=\"fill: #1f77b4; stroke: #1f77b4\"/>\n     <use xlink:href=\"#m44ee977c14\" x=\"167.374622\" y=\"95.015263\" style=\"fill: #1f77b4; stroke: #1f77b4\"/>\n     <use xlink:href=\"#m44ee977c14\" x=\"102.823895\" y=\"64.176617\" style=\"fill: #1f77b4; stroke: #1f77b4\"/>\n     <use xlink:href=\"#m44ee977c14\" x=\"157.503071\" y=\"64.715338\" style=\"fill: #1f77b4; stroke: #1f77b4\"/>\n     <use xlink:href=\"#m44ee977c14\" x=\"136.879966\" y=\"81.658362\" style=\"fill: #1f77b4; stroke: #1f77b4\"/>\n     <use xlink:href=\"#m44ee977c14\" x=\"147.192453\" y=\"84.289241\" style=\"fill: #1f77b4; stroke: #1f77b4\"/>\n     <use xlink:href=\"#m44ee977c14\" x=\"137.1071\" y=\"85.319942\" style=\"fill: #1f77b4; stroke: #1f77b4\"/>\n     <use xlink:href=\"#m44ee977c14\" x=\"142.351933\" y=\"83.11428\" style=\"fill: #1f77b4; stroke: #1f77b4\"/>\n     <use xlink:href=\"#m44ee977c14\" x=\"129.050578\" y=\"69.248172\" style=\"fill: #1f77b4; stroke: #1f77b4\"/>\n     <use xlink:href=\"#m44ee977c14\" x=\"171.557252\" y=\"89.331995\" style=\"fill: #1f77b4; stroke: #1f77b4\"/>\n     <use xlink:href=\"#m44ee977c14\" x=\"177.58896\" y=\"101.123261\" style=\"fill: #1f77b4; stroke: #1f77b4\"/>\n     <use xlink:href=\"#m44ee977c14\" x=\"101.106757\" y=\"41.087849\" style=\"fill: #1f77b4; stroke: #1f77b4\"/>\n     <use xlink:href=\"#m44ee977c14\" x=\"123.496437\" y=\"86.548202\" style=\"fill: #1f77b4; stroke: #1f77b4\"/>\n     <use xlink:href=\"#m44ee977c14\" x=\"195.595483\" y=\"107.944945\" style=\"fill: #1f77b4; stroke: #1f77b4\"/>\n     <use xlink:href=\"#m44ee977c14\" x=\"150.072355\" y=\"89.398272\" style=\"fill: #1f77b4; stroke: #1f77b4\"/>\n     <use xlink:href=\"#m44ee977c14\" x=\"137.49971\" y=\"90.337007\" style=\"fill: #1f77b4; stroke: #1f77b4\"/>\n     <use xlink:href=\"#m44ee977c14\" x=\"159.016439\" y=\"91.147249\" style=\"fill: #1f77b4; stroke: #1f77b4\"/>\n     <use xlink:href=\"#m44ee977c14\" x=\"143.916501\" y=\"64.395075\" style=\"fill: #1f77b4; stroke: #1f77b4\"/>\n     <use xlink:href=\"#m44ee977c14\" x=\"114.400042\" y=\"59.866168\" style=\"fill: #1f77b4; stroke: #1f77b4\"/>\n     <use xlink:href=\"#m44ee977c14\" x=\"138.070269\" y=\"69.813222\" style=\"fill: #1f77b4; stroke: #1f77b4\"/>\n     <use xlink:href=\"#m44ee977c14\" x=\"123.128911\" y=\"73.89471\" style=\"fill: #1f77b4; stroke: #1f77b4\"/>\n     <use xlink:href=\"#m44ee977c14\" x=\"189.428759\" y=\"95.209568\" style=\"fill: #1f77b4; stroke: #1f77b4\"/>\n     <use xlink:href=\"#m44ee977c14\" x=\"127.405333\" y=\"72.679036\" style=\"fill: #1f77b4; stroke: #1f77b4\"/>\n     <use xlink:href=\"#m44ee977c14\" x=\"133.663977\" y=\"71.700174\" style=\"fill: #1f77b4; stroke: #1f77b4\"/>\n     <use xlink:href=\"#m44ee977c14\" x=\"156.723043\" y=\"101.111089\" style=\"fill: #1f77b4; stroke: #1f77b4\"/>\n     <use xlink:href=\"#m44ee977c14\" x=\"148.163635\" y=\"82.510991\" style=\"fill: #1f77b4; stroke: #1f77b4\"/>\n     <use xlink:href=\"#m44ee977c14\" x=\"106.207061\" y=\"72.809089\" style=\"fill: #1f77b4; stroke: #1f77b4\"/>\n     <use xlink:href=\"#m44ee977c14\" x=\"72.30833\" y=\"37.207128\" style=\"fill: #1f77b4; stroke: #1f77b4\"/>\n     <use xlink:href=\"#m44ee977c14\" x=\"99.226255\" y=\"61.134598\" style=\"fill: #1f77b4; stroke: #1f77b4\"/>\n     <use xlink:href=\"#m44ee977c14\" x=\"141.934731\" y=\"66.485482\" style=\"fill: #1f77b4; stroke: #1f77b4\"/>\n     <use xlink:href=\"#m44ee977c14\" x=\"153.145956\" y=\"90.483811\" style=\"fill: #1f77b4; stroke: #1f77b4\"/>\n     <use xlink:href=\"#m44ee977c14\" x=\"138.660365\" y=\"86.795495\" style=\"fill: #1f77b4; stroke: #1f77b4\"/>\n     <use xlink:href=\"#m44ee977c14\" x=\"97.451225\" y=\"56.9315\" style=\"fill: #1f77b4; stroke: #1f77b4\"/>\n     <use xlink:href=\"#m44ee977c14\" x=\"129.104401\" y=\"89.592445\" style=\"fill: #1f77b4; stroke: #1f77b4\"/>\n     <use xlink:href=\"#m44ee977c14\" x=\"122.534228\" y=\"72.098029\" style=\"fill: #1f77b4; stroke: #1f77b4\"/>\n     <use xlink:href=\"#m44ee977c14\" x=\"130.495382\" y=\"70.698252\" style=\"fill: #1f77b4; stroke: #1f77b4\"/>\n     <use xlink:href=\"#m44ee977c14\" x=\"81.913872\" y=\"53.416351\" style=\"fill: #1f77b4; stroke: #1f77b4\"/>\n     <use xlink:href=\"#m44ee977c14\" x=\"124.384009\" y=\"70.48376\" style=\"fill: #1f77b4; stroke: #1f77b4\"/>\n     <use xlink:href=\"#m44ee977c14\" x=\"124.672272\" y=\"55.058375\" style=\"fill: #1f77b4; stroke: #1f77b4\"/>\n     <use xlink:href=\"#m44ee977c14\" x=\"178.128349\" y=\"123.40025\" style=\"fill: #1f77b4; stroke: #1f77b4\"/>\n     <use xlink:href=\"#m44ee977c14\" x=\"123.299181\" y=\"62.206027\" style=\"fill: #1f77b4; stroke: #1f77b4\"/>\n     <use xlink:href=\"#m44ee977c14\" x=\"118.951015\" y=\"68.36486\" style=\"fill: #1f77b4; stroke: #1f77b4\"/>\n     <use xlink:href=\"#m44ee977c14\" x=\"90.072701\" y=\"55.088883\" style=\"fill: #1f77b4; stroke: #1f77b4\"/>\n     <use xlink:href=\"#m44ee977c14\" x=\"144.080563\" y=\"74.435467\" style=\"fill: #1f77b4; stroke: #1f77b4\"/>\n     <use xlink:href=\"#m44ee977c14\" x=\"116.412923\" y=\"63.69855\" style=\"fill: #1f77b4; stroke: #1f77b4\"/>\n     <use xlink:href=\"#m44ee977c14\" x=\"160.560676\" y=\"92.101967\" style=\"fill: #1f77b4; stroke: #1f77b4\"/>\n     <use xlink:href=\"#m44ee977c14\" x=\"141.729041\" y=\"92.805758\" style=\"fill: #1f77b4; stroke: #1f77b4\"/>\n     <use xlink:href=\"#m44ee977c14\" x=\"117.99228\" y=\"68.685644\" style=\"fill: #1f77b4; stroke: #1f77b4\"/>\n     <use xlink:href=\"#m44ee977c14\" x=\"126.451006\" y=\"68.808842\" style=\"fill: #1f77b4; stroke: #1f77b4\"/>\n     <use xlink:href=\"#m44ee977c14\" x=\"164.177744\" y=\"103.856531\" style=\"fill: #1f77b4; stroke: #1f77b4\"/>\n     <use xlink:href=\"#m44ee977c14\" x=\"124.133266\" y=\"89.317597\" style=\"fill: #1f77b4; stroke: #1f77b4\"/>\n     <use xlink:href=\"#m44ee977c14\" x=\"120.791012\" y=\"82.931436\" style=\"fill: #1f77b4; stroke: #1f77b4\"/>\n     <use xlink:href=\"#m44ee977c14\" x=\"141.869463\" y=\"86.832079\" style=\"fill: #1f77b4; stroke: #1f77b4\"/>\n     <use xlink:href=\"#m44ee977c14\" x=\"142.117192\" y=\"97.116609\" style=\"fill: #1f77b4; stroke: #1f77b4\"/>\n     <use xlink:href=\"#m44ee977c14\" x=\"221.727415\" y=\"139.5\" style=\"fill: #1f77b4; stroke: #1f77b4\"/>\n     <use xlink:href=\"#m44ee977c14\" x=\"91.691398\" y=\"55.595864\" style=\"fill: #1f77b4; stroke: #1f77b4\"/>\n     <use xlink:href=\"#m44ee977c14\" x=\"140.732291\" y=\"97.956668\" style=\"fill: #1f77b4; stroke: #1f77b4\"/>\n     <use xlink:href=\"#m44ee977c14\" x=\"113.767456\" y=\"56.894316\" style=\"fill: #1f77b4; stroke: #1f77b4\"/>\n     <use xlink:href=\"#m44ee977c14\" x=\"158.769701\" y=\"88.359367\" style=\"fill: #1f77b4; stroke: #1f77b4\"/>\n     <use xlink:href=\"#m44ee977c14\" x=\"138.3565\" y=\"98.221989\" style=\"fill: #1f77b4; stroke: #1f77b4\"/>\n     <use xlink:href=\"#m44ee977c14\" x=\"115.707108\" y=\"87.416056\" style=\"fill: #1f77b4; stroke: #1f77b4\"/>\n     <use xlink:href=\"#m44ee977c14\" x=\"113.656972\" y=\"70.978281\" style=\"fill: #1f77b4; stroke: #1f77b4\"/>\n     <use xlink:href=\"#m44ee977c14\" x=\"153.319801\" y=\"108.889152\" style=\"fill: #1f77b4; stroke: #1f77b4\"/>\n     <use xlink:href=\"#m44ee977c14\" x=\"149.120336\" y=\"83.875012\" style=\"fill: #1f77b4; stroke: #1f77b4\"/>\n     <use xlink:href=\"#m44ee977c14\" x=\"145.042544\" y=\"91.059272\" style=\"fill: #1f77b4; stroke: #1f77b4\"/>\n     <use xlink:href=\"#m44ee977c14\" x=\"127.086976\" y=\"74.335638\" style=\"fill: #1f77b4; stroke: #1f77b4\"/>\n     <use xlink:href=\"#m44ee977c14\" x=\"136.332977\" y=\"77.884841\" style=\"fill: #1f77b4; stroke: #1f77b4\"/>\n     <use xlink:href=\"#m44ee977c14\" x=\"110.909049\" y=\"75.917807\" style=\"fill: #1f77b4; stroke: #1f77b4\"/>\n     <use xlink:href=\"#m44ee977c14\" x=\"136.362439\" y=\"69.083611\" style=\"fill: #1f77b4; stroke: #1f77b4\"/>\n     <use xlink:href=\"#m44ee977c14\" x=\"176.549032\" y=\"96.980145\" style=\"fill: #1f77b4; stroke: #1f77b4\"/>\n     <use xlink:href=\"#m44ee977c14\" x=\"96.854672\" y=\"44.597083\" style=\"fill: #1f77b4; stroke: #1f77b4\"/>\n     <use xlink:href=\"#m44ee977c14\" x=\"139.412969\" y=\"64.160275\" style=\"fill: #1f77b4; stroke: #1f77b4\"/>\n     <use xlink:href=\"#m44ee977c14\" x=\"189.891037\" y=\"117.573008\" style=\"fill: #1f77b4; stroke: #1f77b4\"/>\n     <use xlink:href=\"#m44ee977c14\" x=\"137.806243\" y=\"86.236329\" style=\"fill: #1f77b4; stroke: #1f77b4\"/>\n     <use xlink:href=\"#m44ee977c14\" x=\"164.988956\" y=\"105.876218\" style=\"fill: #1f77b4; stroke: #1f77b4\"/>\n     <use xlink:href=\"#m44ee977c14\" x=\"120.520778\" y=\"87.001332\" style=\"fill: #1f77b4; stroke: #1f77b4\"/>\n     <use xlink:href=\"#m44ee977c14\" x=\"163.528865\" y=\"89.819757\" style=\"fill: #1f77b4; stroke: #1f77b4\"/>\n     <use xlink:href=\"#m44ee977c14\" x=\"142.738753\" y=\"65.774751\" style=\"fill: #1f77b4; stroke: #1f77b4\"/>\n     <use xlink:href=\"#m44ee977c14\" x=\"95.241311\" y=\"50.071019\" style=\"fill: #1f77b4; stroke: #1f77b4\"/>\n     <use xlink:href=\"#m44ee977c14\" x=\"128.9403\" y=\"73.22086\" style=\"fill: #1f77b4; stroke: #1f77b4\"/>\n     <use xlink:href=\"#m44ee977c14\" x=\"118.597377\" y=\"62.517214\" style=\"fill: #1f77b4; stroke: #1f77b4\"/>\n     <use xlink:href=\"#m44ee977c14\" x=\"152.094702\" y=\"86.362085\" style=\"fill: #1f77b4; stroke: #1f77b4\"/>\n     <use xlink:href=\"#m44ee977c14\" x=\"165.034829\" y=\"81.092376\" style=\"fill: #1f77b4; stroke: #1f77b4\"/>\n     <use xlink:href=\"#m44ee977c14\" x=\"165.664149\" y=\"96.103039\" style=\"fill: #1f77b4; stroke: #1f77b4\"/>\n     <use xlink:href=\"#m44ee977c14\" x=\"140.582178\" y=\"84.326272\" style=\"fill: #1f77b4; stroke: #1f77b4\"/>\n     <use xlink:href=\"#m44ee977c14\" x=\"104.275873\" y=\"58.422179\" style=\"fill: #1f77b4; stroke: #1f77b4\"/>\n     <use xlink:href=\"#m44ee977c14\" x=\"139.209175\" y=\"81.217129\" style=\"fill: #1f77b4; stroke: #1f77b4\"/>\n     <use xlink:href=\"#m44ee977c14\" x=\"114.622535\" y=\"73.562975\" style=\"fill: #1f77b4; stroke: #1f77b4\"/>\n     <use xlink:href=\"#m44ee977c14\" x=\"141.415926\" y=\"82.570624\" style=\"fill: #1f77b4; stroke: #1f77b4\"/>\n     <use xlink:href=\"#m44ee977c14\" x=\"88.292272\" y=\"52.406373\" style=\"fill: #1f77b4; stroke: #1f77b4\"/>\n     <use xlink:href=\"#m44ee977c14\" x=\"145.674192\" y=\"91.118832\" style=\"fill: #1f77b4; stroke: #1f77b4\"/>\n     <use xlink:href=\"#m44ee977c14\" x=\"135.881987\" y=\"74.314547\" style=\"fill: #1f77b4; stroke: #1f77b4\"/>\n     <use xlink:href=\"#m44ee977c14\" x=\"134.856267\" y=\"86.767032\" style=\"fill: #1f77b4; stroke: #1f77b4\"/>\n     <use xlink:href=\"#m44ee977c14\" x=\"133.8945\" y=\"82.701177\" style=\"fill: #1f77b4; stroke: #1f77b4\"/>\n     <use xlink:href=\"#m44ee977c14\" x=\"147.647025\" y=\"79.156267\" style=\"fill: #1f77b4; stroke: #1f77b4\"/>\n     <use xlink:href=\"#m44ee977c14\" x=\"110.873557\" y=\"50.504795\" style=\"fill: #1f77b4; stroke: #1f77b4\"/>\n     <use xlink:href=\"#m44ee977c14\" x=\"133.368374\" y=\"77.922082\" style=\"fill: #1f77b4; stroke: #1f77b4\"/>\n     <use xlink:href=\"#m44ee977c14\" x=\"126.06125\" y=\"59.093726\" style=\"fill: #1f77b4; stroke: #1f77b4\"/>\n     <use xlink:href=\"#m44ee977c14\" x=\"160.761727\" y=\"99.911065\" style=\"fill: #1f77b4; stroke: #1f77b4\"/>\n     <use xlink:href=\"#m44ee977c14\" x=\"152.736214\" y=\"97.44322\" style=\"fill: #1f77b4; stroke: #1f77b4\"/>\n     <use xlink:href=\"#m44ee977c14\" x=\"177.768831\" y=\"104.19324\" style=\"fill: #1f77b4; stroke: #1f77b4\"/>\n     <use xlink:href=\"#m44ee977c14\" x=\"103.94466\" y=\"53.62909\" style=\"fill: #1f77b4; stroke: #1f77b4\"/>\n     <use xlink:href=\"#m44ee977c14\" x=\"147.804769\" y=\"103.955102\" style=\"fill: #1f77b4; stroke: #1f77b4\"/>\n     <use xlink:href=\"#m44ee977c14\" x=\"179.48563\" y=\"97.359518\" style=\"fill: #1f77b4; stroke: #1f77b4\"/>\n     <use xlink:href=\"#m44ee977c14\" x=\"155.513049\" y=\"99.044117\" style=\"fill: #1f77b4; stroke: #1f77b4\"/>\n     <use xlink:href=\"#m44ee977c14\" x=\"148.509742\" y=\"83.08785\" style=\"fill: #1f77b4; stroke: #1f77b4\"/>\n     <use xlink:href=\"#m44ee977c14\" x=\"139.536617\" y=\"85.260363\" style=\"fill: #1f77b4; stroke: #1f77b4\"/>\n     <use xlink:href=\"#m44ee977c14\" x=\"144.876322\" y=\"59.88421\" style=\"fill: #1f77b4; stroke: #1f77b4\"/>\n     <use xlink:href=\"#m44ee977c14\" x=\"153.305691\" y=\"87.556284\" style=\"fill: #1f77b4; stroke: #1f77b4\"/>\n     <use xlink:href=\"#m44ee977c14\" x=\"114.866604\" y=\"52.834183\" style=\"fill: #1f77b4; stroke: #1f77b4\"/>\n     <use xlink:href=\"#m44ee977c14\" x=\"146.765171\" y=\"96.632782\" style=\"fill: #1f77b4; stroke: #1f77b4\"/>\n     <use xlink:href=\"#m44ee977c14\" x=\"120.002681\" y=\"64.93357\" style=\"fill: #1f77b4; stroke: #1f77b4\"/>\n     <use xlink:href=\"#m44ee977c14\" x=\"112.733578\" y=\"72.745037\" style=\"fill: #1f77b4; stroke: #1f77b4\"/>\n     <use xlink:href=\"#m44ee977c14\" x=\"132.625952\" y=\"68.199334\" style=\"fill: #1f77b4; stroke: #1f77b4\"/>\n     <use xlink:href=\"#m44ee977c14\" x=\"144.549438\" y=\"85.796941\" style=\"fill: #1f77b4; stroke: #1f77b4\"/>\n     <use xlink:href=\"#m44ee977c14\" x=\"124.358722\" y=\"62.134932\" style=\"fill: #1f77b4; stroke: #1f77b4\"/>\n     <use xlink:href=\"#m44ee977c14\" x=\"117.94885\" y=\"58.320324\" style=\"fill: #1f77b4; stroke: #1f77b4\"/>\n     <use xlink:href=\"#m44ee977c14\" x=\"159.699281\" y=\"91.776862\" style=\"fill: #1f77b4; stroke: #1f77b4\"/>\n     <use xlink:href=\"#m44ee977c14\" x=\"97.43031\" y=\"43.270904\" style=\"fill: #1f77b4; stroke: #1f77b4\"/>\n     <use xlink:href=\"#m44ee977c14\" x=\"134.236228\" y=\"71.746695\" style=\"fill: #1f77b4; stroke: #1f77b4\"/>\n     <use xlink:href=\"#m44ee977c14\" x=\"161.060564\" y=\"76.774386\" style=\"fill: #1f77b4; stroke: #1f77b4\"/>\n     <use xlink:href=\"#m44ee977c14\" x=\"187.473016\" y=\"88.559767\" style=\"fill: #1f77b4; stroke: #1f77b4\"/>\n     <use xlink:href=\"#m44ee977c14\" x=\"78.019972\" y=\"39.017672\" style=\"fill: #1f77b4; stroke: #1f77b4\"/>\n     <use xlink:href=\"#m44ee977c14\" x=\"132.371091\" y=\"76.242762\" style=\"fill: #1f77b4; stroke: #1f77b4\"/>\n     <use xlink:href=\"#m44ee977c14\" x=\"132.844418\" y=\"90.610105\" style=\"fill: #1f77b4; stroke: #1f77b4\"/>\n     <use xlink:href=\"#m44ee977c14\" x=\"115.053734\" y=\"71.169326\" style=\"fill: #1f77b4; stroke: #1f77b4\"/>\n     <use xlink:href=\"#m44ee977c14\" x=\"101.599667\" y=\"35.160658\" style=\"fill: #1f77b4; stroke: #1f77b4\"/>\n     <use xlink:href=\"#m44ee977c14\" x=\"93.207961\" y=\"54.024376\" style=\"fill: #1f77b4; stroke: #1f77b4\"/>\n     <use xlink:href=\"#m44ee977c14\" x=\"165.289278\" y=\"91.083179\" style=\"fill: #1f77b4; stroke: #1f77b4\"/>\n     <use xlink:href=\"#m44ee977c14\" x=\"100.111214\" y=\"46.169767\" style=\"fill: #1f77b4; stroke: #1f77b4\"/>\n     <use xlink:href=\"#m44ee977c14\" x=\"140.382535\" y=\"76.952274\" style=\"fill: #1f77b4; stroke: #1f77b4\"/>\n     <use xlink:href=\"#m44ee977c14\" x=\"138.382032\" y=\"73.065549\" style=\"fill: #1f77b4; stroke: #1f77b4\"/>\n     <use xlink:href=\"#m44ee977c14\" x=\"128.90289\" y=\"79.819065\" style=\"fill: #1f77b4; stroke: #1f77b4\"/>\n     <use xlink:href=\"#m44ee977c14\" x=\"189.958505\" y=\"109.445833\" style=\"fill: #1f77b4; stroke: #1f77b4\"/>\n     <use xlink:href=\"#m44ee977c14\" x=\"121.96752\" y=\"73.149302\" style=\"fill: #1f77b4; stroke: #1f77b4\"/>\n     <use xlink:href=\"#m44ee977c14\" x=\"127.867585\" y=\"63.849991\" style=\"fill: #1f77b4; stroke: #1f77b4\"/>\n     <use xlink:href=\"#m44ee977c14\" x=\"129.030041\" y=\"73.495518\" style=\"fill: #1f77b4; stroke: #1f77b4\"/>\n     <use xlink:href=\"#m44ee977c14\" x=\"159.371566\" y=\"86.44263\" style=\"fill: #1f77b4; stroke: #1f77b4\"/>\n     <use xlink:href=\"#m44ee977c14\" x=\"139.952483\" y=\"74.656417\" style=\"fill: #1f77b4; stroke: #1f77b4\"/>\n     <use xlink:href=\"#m44ee977c14\" x=\"127.569519\" y=\"77.539664\" style=\"fill: #1f77b4; stroke: #1f77b4\"/>\n     <use xlink:href=\"#m44ee977c14\" x=\"128.721432\" y=\"77.438338\" style=\"fill: #1f77b4; stroke: #1f77b4\"/>\n     <use xlink:href=\"#m44ee977c14\" x=\"159.643617\" y=\"97.169593\" style=\"fill: #1f77b4; stroke: #1f77b4\"/>\n     <use xlink:href=\"#m44ee977c14\" x=\"115.778813\" y=\"65.613328\" style=\"fill: #1f77b4; stroke: #1f77b4\"/>\n     <use xlink:href=\"#m44ee977c14\" x=\"160.224221\" y=\"102.912124\" style=\"fill: #1f77b4; stroke: #1f77b4\"/>\n     <use xlink:href=\"#m44ee977c14\" x=\"182.237083\" y=\"113.881621\" style=\"fill: #1f77b4; stroke: #1f77b4\"/>\n     <use xlink:href=\"#m44ee977c14\" x=\"118.233259\" y=\"52.051709\" style=\"fill: #1f77b4; stroke: #1f77b4\"/>\n     <use xlink:href=\"#m44ee977c14\" x=\"101.632995\" y=\"64.413003\" style=\"fill: #1f77b4; stroke: #1f77b4\"/>\n     <use xlink:href=\"#m44ee977c14\" x=\"124.237979\" y=\"44.350208\" style=\"fill: #1f77b4; stroke: #1f77b4\"/>\n     <use xlink:href=\"#m44ee977c14\" x=\"130.107438\" y=\"65.64091\" style=\"fill: #1f77b4; stroke: #1f77b4\"/>\n     <use xlink:href=\"#m44ee977c14\" x=\"126.801038\" y=\"60.504828\" style=\"fill: #1f77b4; stroke: #1f77b4\"/>\n     <use xlink:href=\"#m44ee977c14\" x=\"96.288377\" y=\"46.495485\" style=\"fill: #1f77b4; stroke: #1f77b4\"/>\n     <use xlink:href=\"#m44ee977c14\" x=\"169.513606\" y=\"94.574892\" style=\"fill: #1f77b4; stroke: #1f77b4\"/>\n     <use xlink:href=\"#m44ee977c14\" x=\"87.316637\" y=\"52.016455\" style=\"fill: #1f77b4; stroke: #1f77b4\"/>\n     <use xlink:href=\"#m44ee977c14\" x=\"174.178905\" y=\"118.060851\" style=\"fill: #1f77b4; stroke: #1f77b4\"/>\n     <use xlink:href=\"#m44ee977c14\" x=\"146.109322\" y=\"91.170569\" style=\"fill: #1f77b4; stroke: #1f77b4\"/>\n     <use xlink:href=\"#m44ee977c14\" x=\"138.541169\" y=\"71.047731\" style=\"fill: #1f77b4; stroke: #1f77b4\"/>\n     <use xlink:href=\"#m44ee977c14\" x=\"165.311683\" y=\"101.283323\" style=\"fill: #1f77b4; stroke: #1f77b4\"/>\n     <use xlink:href=\"#m44ee977c14\" x=\"118.342038\" y=\"67.665125\" style=\"fill: #1f77b4; stroke: #1f77b4\"/>\n     <use xlink:href=\"#m44ee977c14\" x=\"139.082399\" y=\"88.495457\" style=\"fill: #1f77b4; stroke: #1f77b4\"/>\n     <use xlink:href=\"#m44ee977c14\" x=\"119.077653\" y=\"70.533583\" style=\"fill: #1f77b4; stroke: #1f77b4\"/>\n     <use xlink:href=\"#m44ee977c14\" x=\"131.827067\" y=\"78.077244\" style=\"fill: #1f77b4; stroke: #1f77b4\"/>\n     <use xlink:href=\"#m44ee977c14\" x=\"162.116596\" y=\"84.783984\" style=\"fill: #1f77b4; stroke: #1f77b4\"/>\n     <use xlink:href=\"#m44ee977c14\" x=\"156.837141\" y=\"87.313927\" style=\"fill: #1f77b4; stroke: #1f77b4\"/>\n     <use xlink:href=\"#m44ee977c14\" x=\"140.911066\" y=\"71.848402\" style=\"fill: #1f77b4; stroke: #1f77b4\"/>\n     <use xlink:href=\"#m44ee977c14\" x=\"114.503788\" y=\"68.085504\" style=\"fill: #1f77b4; stroke: #1f77b4\"/>\n     <use xlink:href=\"#m44ee977c14\" x=\"129.787717\" y=\"61.07991\" style=\"fill: #1f77b4; stroke: #1f77b4\"/>\n     <use xlink:href=\"#m44ee977c14\" x=\"174.555663\" y=\"106.251798\" style=\"fill: #1f77b4; stroke: #1f77b4\"/>\n     <use xlink:href=\"#m44ee977c14\" x=\"170.020516\" y=\"98.155802\" style=\"fill: #1f77b4; stroke: #1f77b4\"/>\n     <use xlink:href=\"#m44ee977c14\" x=\"115.730633\" y=\"70.100223\" style=\"fill: #1f77b4; stroke: #1f77b4\"/>\n     <use xlink:href=\"#m44ee977c14\" x=\"115.241227\" y=\"48.375233\" style=\"fill: #1f77b4; stroke: #1f77b4\"/>\n     <use xlink:href=\"#m44ee977c14\" x=\"152.551598\" y=\"84.341856\" style=\"fill: #1f77b4; stroke: #1f77b4\"/>\n     <use xlink:href=\"#m44ee977c14\" x=\"146.393073\" y=\"77.925667\" style=\"fill: #1f77b4; stroke: #1f77b4\"/>\n     <use xlink:href=\"#m44ee977c14\" x=\"130.645741\" y=\"61.22193\" style=\"fill: #1f77b4; stroke: #1f77b4\"/>\n     <use xlink:href=\"#m44ee977c14\" x=\"108.081981\" y=\"65.619145\" style=\"fill: #1f77b4; stroke: #1f77b4\"/>\n     <use xlink:href=\"#m44ee977c14\" x=\"120.188453\" y=\"69.581719\" style=\"fill: #1f77b4; stroke: #1f77b4\"/>\n     <use xlink:href=\"#m44ee977c14\" x=\"126.478462\" y=\"72.659645\" style=\"fill: #1f77b4; stroke: #1f77b4\"/>\n     <use xlink:href=\"#m44ee977c14\" x=\"129.666736\" y=\"79.000705\" style=\"fill: #1f77b4; stroke: #1f77b4\"/>\n     <use xlink:href=\"#m44ee977c14\" x=\"111.666401\" y=\"54.524917\" style=\"fill: #1f77b4; stroke: #1f77b4\"/>\n     <use xlink:href=\"#m44ee977c14\" x=\"122.710633\" y=\"72.929295\" style=\"fill: #1f77b4; stroke: #1f77b4\"/>\n     <use xlink:href=\"#m44ee977c14\" x=\"96.776464\" y=\"52.698274\" style=\"fill: #1f77b4; stroke: #1f77b4\"/>\n     <use xlink:href=\"#m44ee977c14\" x=\"161.660597\" y=\"92.111265\" style=\"fill: #1f77b4; stroke: #1f77b4\"/>\n     <use xlink:href=\"#m44ee977c14\" x=\"193.728606\" y=\"123.988737\" style=\"fill: #1f77b4; stroke: #1f77b4\"/>\n     <use xlink:href=\"#m44ee977c14\" x=\"90.935665\" y=\"40.323021\" style=\"fill: #1f77b4; stroke: #1f77b4\"/>\n     <use xlink:href=\"#m44ee977c14\" x=\"104.708597\" y=\"67.441167\" style=\"fill: #1f77b4; stroke: #1f77b4\"/>\n     <use xlink:href=\"#m44ee977c14\" x=\"149.231626\" y=\"73.361825\" style=\"fill: #1f77b4; stroke: #1f77b4\"/>\n     <use xlink:href=\"#m44ee977c14\" x=\"118.055152\" y=\"66.401106\" style=\"fill: #1f77b4; stroke: #1f77b4\"/>\n     <use xlink:href=\"#m44ee977c14\" x=\"120.752686\" y=\"74.199594\" style=\"fill: #1f77b4; stroke: #1f77b4\"/>\n     <use xlink:href=\"#m44ee977c14\" x=\"135.760579\" y=\"83.725945\" style=\"fill: #1f77b4; stroke: #1f77b4\"/>\n     <use xlink:href=\"#m44ee977c14\" x=\"145.468932\" y=\"83.637478\" style=\"fill: #1f77b4; stroke: #1f77b4\"/>\n     <use xlink:href=\"#m44ee977c14\" x=\"129.404572\" y=\"76.600819\" style=\"fill: #1f77b4; stroke: #1f77b4\"/>\n     <use xlink:href=\"#m44ee977c14\" x=\"141.726429\" y=\"74.864003\" style=\"fill: #1f77b4; stroke: #1f77b4\"/>\n     <use xlink:href=\"#m44ee977c14\" x=\"152.828268\" y=\"93.799146\" style=\"fill: #1f77b4; stroke: #1f77b4\"/>\n     <use xlink:href=\"#m44ee977c14\" x=\"140.349919\" y=\"63.968563\" style=\"fill: #1f77b4; stroke: #1f77b4\"/>\n     <use xlink:href=\"#m44ee977c14\" x=\"110.525737\" y=\"82.537471\" style=\"fill: #1f77b4; stroke: #1f77b4\"/>\n     <use xlink:href=\"#m44ee977c14\" x=\"90.252425\" y=\"58.583388\" style=\"fill: #1f77b4; stroke: #1f77b4\"/>\n     <use xlink:href=\"#m44ee977c14\" x=\"144.905792\" y=\"88.710218\" style=\"fill: #1f77b4; stroke: #1f77b4\"/>\n     <use xlink:href=\"#m44ee977c14\" x=\"158.799666\" y=\"104.111648\" style=\"fill: #1f77b4; stroke: #1f77b4\"/>\n     <use xlink:href=\"#m44ee977c14\" x=\"129.398051\" y=\"80.824986\" style=\"fill: #1f77b4; stroke: #1f77b4\"/>\n     <use xlink:href=\"#m44ee977c14\" x=\"107.254511\" y=\"59.657537\" style=\"fill: #1f77b4; stroke: #1f77b4\"/>\n     <use xlink:href=\"#m44ee977c14\" x=\"84.353057\" y=\"44.939428\" style=\"fill: #1f77b4; stroke: #1f77b4\"/>\n     <use xlink:href=\"#m44ee977c14\" x=\"99.351404\" y=\"49.172636\" style=\"fill: #1f77b4; stroke: #1f77b4\"/>\n     <use xlink:href=\"#m44ee977c14\" x=\"167.172016\" y=\"84.284126\" style=\"fill: #1f77b4; stroke: #1f77b4\"/>\n     <use xlink:href=\"#m44ee977c14\" x=\"122.951381\" y=\"85.610858\" style=\"fill: #1f77b4; stroke: #1f77b4\"/>\n     <use xlink:href=\"#m44ee977c14\" x=\"149.309145\" y=\"70.899722\" style=\"fill: #1f77b4; stroke: #1f77b4\"/>\n     <use xlink:href=\"#m44ee977c14\" x=\"78.111371\" y=\"44.166078\" style=\"fill: #1f77b4; stroke: #1f77b4\"/>\n     <use xlink:href=\"#m44ee977c14\" x=\"137.354825\" y=\"75.18755\" style=\"fill: #1f77b4; stroke: #1f77b4\"/>\n     <use xlink:href=\"#m44ee977c14\" x=\"143.624782\" y=\"89.182018\" style=\"fill: #1f77b4; stroke: #1f77b4\"/>\n     <use xlink:href=\"#m44ee977c14\" x=\"143.26272\" y=\"90.177035\" style=\"fill: #1f77b4; stroke: #1f77b4\"/>\n     <use xlink:href=\"#m44ee977c14\" x=\"102.365139\" y=\"60.327582\" style=\"fill: #1f77b4; stroke: #1f77b4\"/>\n     <use xlink:href=\"#m44ee977c14\" x=\"133.633381\" y=\"63.385432\" style=\"fill: #1f77b4; stroke: #1f77b4\"/>\n     <use xlink:href=\"#m44ee977c14\" x=\"133.908387\" y=\"68.126055\" style=\"fill: #1f77b4; stroke: #1f77b4\"/>\n     <use xlink:href=\"#m44ee977c14\" x=\"157.73058\" y=\"75.078835\" style=\"fill: #1f77b4; stroke: #1f77b4\"/>\n     <use xlink:href=\"#m44ee977c14\" x=\"114.762314\" y=\"77.534678\" style=\"fill: #1f77b4; stroke: #1f77b4\"/>\n     <use xlink:href=\"#m44ee977c14\" x=\"174.014783\" y=\"101.191722\" style=\"fill: #1f77b4; stroke: #1f77b4\"/>\n     <use xlink:href=\"#m44ee977c14\" x=\"109.243028\" y=\"70.973516\" style=\"fill: #1f77b4; stroke: #1f77b4\"/>\n     <use xlink:href=\"#m44ee977c14\" x=\"123.120196\" y=\"83.774698\" style=\"fill: #1f77b4; stroke: #1f77b4\"/>\n     <use xlink:href=\"#m44ee977c14\" x=\"167.692461\" y=\"78.850882\" style=\"fill: #1f77b4; stroke: #1f77b4\"/>\n     <use xlink:href=\"#m44ee977c14\" x=\"104.980644\" y=\"77.234013\" style=\"fill: #1f77b4; stroke: #1f77b4\"/>\n     <use xlink:href=\"#m44ee977c14\" x=\"121.958764\" y=\"80.939752\" style=\"fill: #1f77b4; stroke: #1f77b4\"/>\n     <use xlink:href=\"#m44ee977c14\" x=\"158.665701\" y=\"77.477764\" style=\"fill: #1f77b4; stroke: #1f77b4\"/>\n     <use xlink:href=\"#m44ee977c14\" x=\"175.699198\" y=\"101.947985\" style=\"fill: #1f77b4; stroke: #1f77b4\"/>\n     <use xlink:href=\"#m44ee977c14\" x=\"100.591468\" y=\"70.512307\" style=\"fill: #1f77b4; stroke: #1f77b4\"/>\n     <use xlink:href=\"#m44ee977c14\" x=\"141.236303\" y=\"82.489162\" style=\"fill: #1f77b4; stroke: #1f77b4\"/>\n     <use xlink:href=\"#m44ee977c14\" x=\"112.678748\" y=\"58.830719\" style=\"fill: #1f77b4; stroke: #1f77b4\"/>\n     <use xlink:href=\"#m44ee977c14\" x=\"137.906381\" y=\"65.841544\" style=\"fill: #1f77b4; stroke: #1f77b4\"/>\n     <use xlink:href=\"#m44ee977c14\" x=\"93.569351\" y=\"44.009507\" style=\"fill: #1f77b4; stroke: #1f77b4\"/>\n     <use xlink:href=\"#m44ee977c14\" x=\"138.401779\" y=\"68.476999\" style=\"fill: #1f77b4; stroke: #1f77b4\"/>\n     <use xlink:href=\"#m44ee977c14\" x=\"88.653489\" y=\"47.137513\" style=\"fill: #1f77b4; stroke: #1f77b4\"/>\n     <use xlink:href=\"#m44ee977c14\" x=\"160.066448\" y=\"97.078202\" style=\"fill: #1f77b4; stroke: #1f77b4\"/>\n     <use xlink:href=\"#m44ee977c14\" x=\"172.25595\" y=\"98.247913\" style=\"fill: #1f77b4; stroke: #1f77b4\"/>\n     <use xlink:href=\"#m44ee977c14\" x=\"184.378329\" y=\"117.195642\" style=\"fill: #1f77b4; stroke: #1f77b4\"/>\n     <use xlink:href=\"#m44ee977c14\" x=\"102.524252\" y=\"47.502852\" style=\"fill: #1f77b4; stroke: #1f77b4\"/>\n     <use xlink:href=\"#m44ee977c14\" x=\"91.745247\" y=\"49.813728\" style=\"fill: #1f77b4; stroke: #1f77b4\"/>\n     <use xlink:href=\"#m44ee977c14\" x=\"106.582253\" y=\"60.571315\" style=\"fill: #1f77b4; stroke: #1f77b4\"/>\n     <use xlink:href=\"#m44ee977c14\" x=\"115.67908\" y=\"63.064966\" style=\"fill: #1f77b4; stroke: #1f77b4\"/>\n     <use xlink:href=\"#m44ee977c14\" x=\"149.745843\" y=\"69.145901\" style=\"fill: #1f77b4; stroke: #1f77b4\"/>\n     <use xlink:href=\"#m44ee977c14\" x=\"122.354588\" y=\"78.987916\" style=\"fill: #1f77b4; stroke: #1f77b4\"/>\n     <use xlink:href=\"#m44ee977c14\" x=\"125.467223\" y=\"84.578702\" style=\"fill: #1f77b4; stroke: #1f77b4\"/>\n     <use xlink:href=\"#m44ee977c14\" x=\"121.139002\" y=\"68.657478\" style=\"fill: #1f77b4; stroke: #1f77b4\"/>\n     <use xlink:href=\"#m44ee977c14\" x=\"167.660211\" y=\"97.194111\" style=\"fill: #1f77b4; stroke: #1f77b4\"/>\n     <use xlink:href=\"#m44ee977c14\" x=\"132.096201\" y=\"71.229465\" style=\"fill: #1f77b4; stroke: #1f77b4\"/>\n     <use xlink:href=\"#m44ee977c14\" x=\"187.024044\" y=\"133.45357\" style=\"fill: #1f77b4; stroke: #1f77b4\"/>\n     <use xlink:href=\"#m44ee977c14\" x=\"155.129505\" y=\"82.320813\" style=\"fill: #1f77b4; stroke: #1f77b4\"/>\n     <use xlink:href=\"#m44ee977c14\" x=\"148.385913\" y=\"81.159021\" style=\"fill: #1f77b4; stroke: #1f77b4\"/>\n     <use xlink:href=\"#m44ee977c14\" x=\"193.676548\" y=\"120.570087\" style=\"fill: #1f77b4; stroke: #1f77b4\"/>\n     <use xlink:href=\"#m44ee977c14\" x=\"146.082519\" y=\"81.176528\" style=\"fill: #1f77b4; stroke: #1f77b4\"/>\n     <use xlink:href=\"#m44ee977c14\" x=\"170.331581\" y=\"101.34741\" style=\"fill: #1f77b4; stroke: #1f77b4\"/>\n     <use xlink:href=\"#m44ee977c14\" x=\"93.370206\" y=\"48.911763\" style=\"fill: #1f77b4; stroke: #1f77b4\"/>\n     <use xlink:href=\"#m44ee977c14\" x=\"118.608373\" y=\"56.569958\" style=\"fill: #1f77b4; stroke: #1f77b4\"/>\n     <use xlink:href=\"#m44ee977c14\" x=\"142.117208\" y=\"88.537605\" style=\"fill: #1f77b4; stroke: #1f77b4\"/>\n     <use xlink:href=\"#m44ee977c14\" x=\"97.859967\" y=\"38.954321\" style=\"fill: #1f77b4; stroke: #1f77b4\"/>\n     <use xlink:href=\"#m44ee977c14\" x=\"112.503649\" y=\"63.113705\" style=\"fill: #1f77b4; stroke: #1f77b4\"/>\n     <use xlink:href=\"#m44ee977c14\" x=\"135.473271\" y=\"85.777984\" style=\"fill: #1f77b4; stroke: #1f77b4\"/>\n     <use xlink:href=\"#m44ee977c14\" x=\"140.834066\" y=\"92.972194\" style=\"fill: #1f77b4; stroke: #1f77b4\"/>\n     <use xlink:href=\"#m44ee977c14\" x=\"144.435229\" y=\"68.842425\" style=\"fill: #1f77b4; stroke: #1f77b4\"/>\n     <use xlink:href=\"#m44ee977c14\" x=\"154.662879\" y=\"97.455779\" style=\"fill: #1f77b4; stroke: #1f77b4\"/>\n     <use xlink:href=\"#m44ee977c14\" x=\"142.875326\" y=\"100.54507\" style=\"fill: #1f77b4; stroke: #1f77b4\"/>\n     <use xlink:href=\"#m44ee977c14\" x=\"73.228267\" y=\"43.673743\" style=\"fill: #1f77b4; stroke: #1f77b4\"/>\n     <use xlink:href=\"#m44ee977c14\" x=\"145.59293\" y=\"58.744101\" style=\"fill: #1f77b4; stroke: #1f77b4\"/>\n     <use xlink:href=\"#m44ee977c14\" x=\"125.14181\" y=\"73.397076\" style=\"fill: #1f77b4; stroke: #1f77b4\"/>\n     <use xlink:href=\"#m44ee977c14\" x=\"149.420721\" y=\"92.738593\" style=\"fill: #1f77b4; stroke: #1f77b4\"/>\n     <use xlink:href=\"#m44ee977c14\" x=\"140.720281\" y=\"91.359569\" style=\"fill: #1f77b4; stroke: #1f77b4\"/>\n     <use xlink:href=\"#m44ee977c14\" x=\"105.559336\" y=\"61.121116\" style=\"fill: #1f77b4; stroke: #1f77b4\"/>\n     <use xlink:href=\"#m44ee977c14\" x=\"149.711796\" y=\"100.134608\" style=\"fill: #1f77b4; stroke: #1f77b4\"/>\n     <use xlink:href=\"#m44ee977c14\" x=\"135.791115\" y=\"72.362139\" style=\"fill: #1f77b4; stroke: #1f77b4\"/>\n     <use xlink:href=\"#m44ee977c14\" x=\"91.350497\" y=\"63.967155\" style=\"fill: #1f77b4; stroke: #1f77b4\"/>\n     <use xlink:href=\"#m44ee977c14\" x=\"141.787754\" y=\"85.393047\" style=\"fill: #1f77b4; stroke: #1f77b4\"/>\n     <use xlink:href=\"#m44ee977c14\" x=\"143.709747\" y=\"91.675086\" style=\"fill: #1f77b4; stroke: #1f77b4\"/>\n     <use xlink:href=\"#m44ee977c14\" x=\"103.254374\" y=\"60.157389\" style=\"fill: #1f77b4; stroke: #1f77b4\"/>\n     <use xlink:href=\"#m44ee977c14\" x=\"142.053729\" y=\"82.072014\" style=\"fill: #1f77b4; stroke: #1f77b4\"/>\n     <use xlink:href=\"#m44ee977c14\" x=\"124.538668\" y=\"82.607263\" style=\"fill: #1f77b4; stroke: #1f77b4\"/>\n     <use xlink:href=\"#m44ee977c14\" x=\"157.641738\" y=\"72.358419\" style=\"fill: #1f77b4; stroke: #1f77b4\"/>\n     <use xlink:href=\"#m44ee977c14\" x=\"141.614875\" y=\"78.545687\" style=\"fill: #1f77b4; stroke: #1f77b4\"/>\n     <use xlink:href=\"#m44ee977c14\" x=\"125.979335\" y=\"74.891578\" style=\"fill: #1f77b4; stroke: #1f77b4\"/>\n     <use xlink:href=\"#m44ee977c14\" x=\"173.481036\" y=\"104.352987\" style=\"fill: #1f77b4; stroke: #1f77b4\"/>\n     <use xlink:href=\"#m44ee977c14\" x=\"181.718588\" y=\"116.053556\" style=\"fill: #1f77b4; stroke: #1f77b4\"/>\n     <use xlink:href=\"#m44ee977c14\" x=\"128.580069\" y=\"84.462356\" style=\"fill: #1f77b4; stroke: #1f77b4\"/>\n     <use xlink:href=\"#m44ee977c14\" x=\"140.611055\" y=\"95.636465\" style=\"fill: #1f77b4; stroke: #1f77b4\"/>\n     <use xlink:href=\"#m44ee977c14\" x=\"143.143223\" y=\"83.15141\" style=\"fill: #1f77b4; stroke: #1f77b4\"/>\n     <use xlink:href=\"#m44ee977c14\" x=\"133.939521\" y=\"83.562036\" style=\"fill: #1f77b4; stroke: #1f77b4\"/>\n     <use xlink:href=\"#m44ee977c14\" x=\"151.922216\" y=\"67.094264\" style=\"fill: #1f77b4; stroke: #1f77b4\"/>\n     <use xlink:href=\"#m44ee977c14\" x=\"133.004189\" y=\"75.354092\" style=\"fill: #1f77b4; stroke: #1f77b4\"/>\n     <use xlink:href=\"#m44ee977c14\" x=\"104.111712\" y=\"46.091797\" style=\"fill: #1f77b4; stroke: #1f77b4\"/>\n     <use xlink:href=\"#m44ee977c14\" x=\"108.832425\" y=\"63.14243\" style=\"fill: #1f77b4; stroke: #1f77b4\"/>\n     <use xlink:href=\"#m44ee977c14\" x=\"67.074395\" y=\"32.654953\" style=\"fill: #1f77b4; stroke: #1f77b4\"/>\n     <use xlink:href=\"#m44ee977c14\" x=\"100.940073\" y=\"60.904981\" style=\"fill: #1f77b4; stroke: #1f77b4\"/>\n     <use xlink:href=\"#m44ee977c14\" x=\"130.660295\" y=\"86.706063\" style=\"fill: #1f77b4; stroke: #1f77b4\"/>\n     <use xlink:href=\"#m44ee977c14\" x=\"125.469006\" y=\"60.581028\" style=\"fill: #1f77b4; stroke: #1f77b4\"/>\n     <use xlink:href=\"#m44ee977c14\" x=\"44.18196\" y=\"31.59873\" style=\"fill: #1f77b4; stroke: #1f77b4\"/>\n     <use xlink:href=\"#m44ee977c14\" x=\"156.976333\" y=\"84.137936\" style=\"fill: #1f77b4; stroke: #1f77b4\"/>\n     <use xlink:href=\"#m44ee977c14\" x=\"99.451643\" y=\"60.493899\" style=\"fill: #1f77b4; stroke: #1f77b4\"/>\n     <use xlink:href=\"#m44ee977c14\" x=\"99.84218\" y=\"55.720974\" style=\"fill: #1f77b4; stroke: #1f77b4\"/>\n     <use xlink:href=\"#m44ee977c14\" x=\"128.059846\" y=\"80.151582\" style=\"fill: #1f77b4; stroke: #1f77b4\"/>\n     <use xlink:href=\"#m44ee977c14\" x=\"192.764408\" y=\"121.262159\" style=\"fill: #1f77b4; stroke: #1f77b4\"/>\n     <use xlink:href=\"#m44ee977c14\" x=\"114.826683\" y=\"71.016724\" style=\"fill: #1f77b4; stroke: #1f77b4\"/>\n     <use xlink:href=\"#m44ee977c14\" x=\"150.960577\" y=\"83.30052\" style=\"fill: #1f77b4; stroke: #1f77b4\"/>\n     <use xlink:href=\"#m44ee977c14\" x=\"79.607323\" y=\"33.167407\" style=\"fill: #1f77b4; stroke: #1f77b4\"/>\n     <use xlink:href=\"#m44ee977c14\" x=\"182.807206\" y=\"104.598748\" style=\"fill: #1f77b4; stroke: #1f77b4\"/>\n     <use xlink:href=\"#m44ee977c14\" x=\"139.520134\" y=\"74.688017\" style=\"fill: #1f77b4; stroke: #1f77b4\"/>\n     <use xlink:href=\"#m44ee977c14\" x=\"127.74613\" y=\"66.249514\" style=\"fill: #1f77b4; stroke: #1f77b4\"/>\n     <use xlink:href=\"#m44ee977c14\" x=\"144.416188\" y=\"91.294556\" style=\"fill: #1f77b4; stroke: #1f77b4\"/>\n     <use xlink:href=\"#m44ee977c14\" x=\"163.451309\" y=\"86.427034\" style=\"fill: #1f77b4; stroke: #1f77b4\"/>\n     <use xlink:href=\"#m44ee977c14\" x=\"134.305285\" y=\"71.160515\" style=\"fill: #1f77b4; stroke: #1f77b4\"/>\n     <use xlink:href=\"#m44ee977c14\" x=\"171.082215\" y=\"103.771637\" style=\"fill: #1f77b4; stroke: #1f77b4\"/>\n     <use xlink:href=\"#m44ee977c14\" x=\"152.532399\" y=\"87.931404\" style=\"fill: #1f77b4; stroke: #1f77b4\"/>\n     <use xlink:href=\"#m44ee977c14\" x=\"140.31716\" y=\"83.445178\" style=\"fill: #1f77b4; stroke: #1f77b4\"/>\n     <use xlink:href=\"#m44ee977c14\" x=\"153.021243\" y=\"92.848917\" style=\"fill: #1f77b4; stroke: #1f77b4\"/>\n     <use xlink:href=\"#m44ee977c14\" x=\"77.55216\" y=\"13.5\" style=\"fill: #1f77b4; stroke: #1f77b4\"/>\n     <use xlink:href=\"#m44ee977c14\" x=\"170.045387\" y=\"88.339787\" style=\"fill: #1f77b4; stroke: #1f77b4\"/>\n     <use xlink:href=\"#m44ee977c14\" x=\"141.999606\" y=\"115.793151\" style=\"fill: #1f77b4; stroke: #1f77b4\"/>\n     <use xlink:href=\"#m44ee977c14\" x=\"118.931746\" y=\"64.147618\" style=\"fill: #1f77b4; stroke: #1f77b4\"/>\n     <use xlink:href=\"#m44ee977c14\" x=\"142.645819\" y=\"72.968609\" style=\"fill: #1f77b4; stroke: #1f77b4\"/>\n     <use xlink:href=\"#m44ee977c14\" x=\"128.653342\" y=\"75.159249\" style=\"fill: #1f77b4; stroke: #1f77b4\"/>\n     <use xlink:href=\"#m44ee977c14\" x=\"139.804467\" y=\"74.418531\" style=\"fill: #1f77b4; stroke: #1f77b4\"/>\n     <use xlink:href=\"#m44ee977c14\" x=\"165.061219\" y=\"119.287318\" style=\"fill: #1f77b4; stroke: #1f77b4\"/>\n     <use xlink:href=\"#m44ee977c14\" x=\"140.900719\" y=\"82.809343\" style=\"fill: #1f77b4; stroke: #1f77b4\"/>\n     <use xlink:href=\"#m44ee977c14\" x=\"127.393669\" y=\"57.062083\" style=\"fill: #1f77b4; stroke: #1f77b4\"/>\n     <use xlink:href=\"#m44ee977c14\" x=\"160.822622\" y=\"82.519804\" style=\"fill: #1f77b4; stroke: #1f77b4\"/>\n     <use xlink:href=\"#m44ee977c14\" x=\"101.398942\" y=\"61.050553\" style=\"fill: #1f77b4; stroke: #1f77b4\"/>\n     <use xlink:href=\"#m44ee977c14\" x=\"111.884599\" y=\"64.789361\" style=\"fill: #1f77b4; stroke: #1f77b4\"/>\n     <use xlink:href=\"#m44ee977c14\" x=\"105.474942\" y=\"64.222334\" style=\"fill: #1f77b4; stroke: #1f77b4\"/>\n     <use xlink:href=\"#m44ee977c14\" x=\"130.358927\" y=\"73.523022\" style=\"fill: #1f77b4; stroke: #1f77b4\"/>\n     <use xlink:href=\"#m44ee977c14\" x=\"154.032951\" y=\"97.702261\" style=\"fill: #1f77b4; stroke: #1f77b4\"/>\n     <use xlink:href=\"#m44ee977c14\" x=\"140.406545\" y=\"76.855924\" style=\"fill: #1f77b4; stroke: #1f77b4\"/>\n     <use xlink:href=\"#m44ee977c14\" x=\"100.283617\" y=\"53.636836\" style=\"fill: #1f77b4; stroke: #1f77b4\"/>\n     <use xlink:href=\"#m44ee977c14\" x=\"102.632318\" y=\"58.884906\" style=\"fill: #1f77b4; stroke: #1f77b4\"/>\n     <use xlink:href=\"#m44ee977c14\" x=\"111.686076\" y=\"53.535227\" style=\"fill: #1f77b4; stroke: #1f77b4\"/>\n     <use xlink:href=\"#m44ee977c14\" x=\"156.214982\" y=\"98.394975\" style=\"fill: #1f77b4; stroke: #1f77b4\"/>\n     <use xlink:href=\"#m44ee977c14\" x=\"111.545225\" y=\"50.286168\" style=\"fill: #1f77b4; stroke: #1f77b4\"/>\n     <use xlink:href=\"#m44ee977c14\" x=\"134.247472\" y=\"91.909405\" style=\"fill: #1f77b4; stroke: #1f77b4\"/>\n     <use xlink:href=\"#m44ee977c14\" x=\"96.801792\" y=\"62.428041\" style=\"fill: #1f77b4; stroke: #1f77b4\"/>\n     <use xlink:href=\"#m44ee977c14\" x=\"84.672534\" y=\"45.171004\" style=\"fill: #1f77b4; stroke: #1f77b4\"/>\n     <use xlink:href=\"#m44ee977c14\" x=\"113.91547\" y=\"78.460117\" style=\"fill: #1f77b4; stroke: #1f77b4\"/>\n     <use xlink:href=\"#m44ee977c14\" x=\"94.471873\" y=\"51.734951\" style=\"fill: #1f77b4; stroke: #1f77b4\"/>\n     <use xlink:href=\"#m44ee977c14\" x=\"132.535302\" y=\"44.112266\" style=\"fill: #1f77b4; stroke: #1f77b4\"/>\n     <use xlink:href=\"#m44ee977c14\" x=\"174.248107\" y=\"110.399142\" style=\"fill: #1f77b4; stroke: #1f77b4\"/>\n     <use xlink:href=\"#m44ee977c14\" x=\"116.675219\" y=\"74.236444\" style=\"fill: #1f77b4; stroke: #1f77b4\"/>\n     <use xlink:href=\"#m44ee977c14\" x=\"112.002213\" y=\"67.852397\" style=\"fill: #1f77b4; stroke: #1f77b4\"/>\n     <use xlink:href=\"#m44ee977c14\" x=\"167.311088\" y=\"111.425659\" style=\"fill: #1f77b4; stroke: #1f77b4\"/>\n     <use xlink:href=\"#m44ee977c14\" x=\"128.105367\" y=\"85.609057\" style=\"fill: #1f77b4; stroke: #1f77b4\"/>\n     <use xlink:href=\"#m44ee977c14\" x=\"164.694143\" y=\"93.934401\" style=\"fill: #1f77b4; stroke: #1f77b4\"/>\n     <use xlink:href=\"#m44ee977c14\" x=\"134.90208\" y=\"72.158227\" style=\"fill: #1f77b4; stroke: #1f77b4\"/>\n     <use xlink:href=\"#m44ee977c14\" x=\"139.934255\" y=\"81.407092\" style=\"fill: #1f77b4; stroke: #1f77b4\"/>\n     <use xlink:href=\"#m44ee977c14\" x=\"175.068697\" y=\"87.956411\" style=\"fill: #1f77b4; stroke: #1f77b4\"/>\n     <use xlink:href=\"#m44ee977c14\" x=\"89.138249\" y=\"51.592922\" style=\"fill: #1f77b4; stroke: #1f77b4\"/>\n     <use xlink:href=\"#m44ee977c14\" x=\"144.472245\" y=\"92.970073\" style=\"fill: #1f77b4; stroke: #1f77b4\"/>\n     <use xlink:href=\"#m44ee977c14\" x=\"150.654738\" y=\"105.888329\" style=\"fill: #1f77b4; stroke: #1f77b4\"/>\n     <use xlink:href=\"#m44ee977c14\" x=\"127.416146\" y=\"68.073932\" style=\"fill: #1f77b4; stroke: #1f77b4\"/>\n     <use xlink:href=\"#m44ee977c14\" x=\"105.813354\" y=\"67.782243\" style=\"fill: #1f77b4; stroke: #1f77b4\"/>\n     <use xlink:href=\"#m44ee977c14\" x=\"112.013017\" y=\"52.464813\" style=\"fill: #1f77b4; stroke: #1f77b4\"/>\n     <use xlink:href=\"#m44ee977c14\" x=\"116.302184\" y=\"60.797692\" style=\"fill: #1f77b4; stroke: #1f77b4\"/>\n     <use xlink:href=\"#m44ee977c14\" x=\"50.848627\" y=\"32.635112\" style=\"fill: #1f77b4; stroke: #1f77b4\"/>\n     <use xlink:href=\"#m44ee977c14\" x=\"155.110198\" y=\"94.10961\" style=\"fill: #1f77b4; stroke: #1f77b4\"/>\n     <use xlink:href=\"#m44ee977c14\" x=\"125.9987\" y=\"78.385284\" style=\"fill: #1f77b4; stroke: #1f77b4\"/>\n     <use xlink:href=\"#m44ee977c14\" x=\"118.030527\" y=\"69.790277\" style=\"fill: #1f77b4; stroke: #1f77b4\"/>\n     <use xlink:href=\"#m44ee977c14\" x=\"76.586926\" y=\"42.434189\" style=\"fill: #1f77b4; stroke: #1f77b4\"/>\n     <use xlink:href=\"#m44ee977c14\" x=\"151.633486\" y=\"95.919593\" style=\"fill: #1f77b4; stroke: #1f77b4\"/>\n     <use xlink:href=\"#m44ee977c14\" x=\"141.341562\" y=\"85.583565\" style=\"fill: #1f77b4; stroke: #1f77b4\"/>\n     <use xlink:href=\"#m44ee977c14\" x=\"118.892797\" y=\"72.032115\" style=\"fill: #1f77b4; stroke: #1f77b4\"/>\n     <use xlink:href=\"#m44ee977c14\" x=\"143.353323\" y=\"78.187616\" style=\"fill: #1f77b4; stroke: #1f77b4\"/>\n     <use xlink:href=\"#m44ee977c14\" x=\"153.617903\" y=\"88.167028\" style=\"fill: #1f77b4; stroke: #1f77b4\"/>\n     <use xlink:href=\"#m44ee977c14\" x=\"86.534696\" y=\"57.08364\" style=\"fill: #1f77b4; stroke: #1f77b4\"/>\n     <use xlink:href=\"#m44ee977c14\" x=\"128.925266\" y=\"90.248708\" style=\"fill: #1f77b4; stroke: #1f77b4\"/>\n     <use xlink:href=\"#m44ee977c14\" x=\"81.090431\" y=\"50.259535\" style=\"fill: #1f77b4; stroke: #1f77b4\"/>\n     <use xlink:href=\"#m44ee977c14\" x=\"147.068787\" y=\"73.43425\" style=\"fill: #1f77b4; stroke: #1f77b4\"/>\n     <use xlink:href=\"#m44ee977c14\" x=\"153.308744\" y=\"83.341284\" style=\"fill: #1f77b4; stroke: #1f77b4\"/>\n     <use xlink:href=\"#m44ee977c14\" x=\"110.52526\" y=\"67.133724\" style=\"fill: #1f77b4; stroke: #1f77b4\"/>\n     <use xlink:href=\"#m44ee977c14\" x=\"116.148646\" y=\"54.76066\" style=\"fill: #1f77b4; stroke: #1f77b4\"/>\n     <use xlink:href=\"#m44ee977c14\" x=\"107.574468\" y=\"66.26327\" style=\"fill: #1f77b4; stroke: #1f77b4\"/>\n     <use xlink:href=\"#m44ee977c14\" x=\"168.365251\" y=\"81.958879\" style=\"fill: #1f77b4; stroke: #1f77b4\"/>\n     <use xlink:href=\"#m44ee977c14\" x=\"123.875353\" y=\"60.099067\" style=\"fill: #1f77b4; stroke: #1f77b4\"/>\n     <use xlink:href=\"#m44ee977c14\" x=\"145.930618\" y=\"108.416535\" style=\"fill: #1f77b4; stroke: #1f77b4\"/>\n     <use xlink:href=\"#m44ee977c14\" x=\"179.407575\" y=\"83.378024\" style=\"fill: #1f77b4; stroke: #1f77b4\"/>\n     <use xlink:href=\"#m44ee977c14\" x=\"126.544904\" y=\"72.211672\" style=\"fill: #1f77b4; stroke: #1f77b4\"/>\n     <use xlink:href=\"#m44ee977c14\" x=\"147.740216\" y=\"85.109519\" style=\"fill: #1f77b4; stroke: #1f77b4\"/>\n     <use xlink:href=\"#m44ee977c14\" x=\"160.145328\" y=\"88.142798\" style=\"fill: #1f77b4; stroke: #1f77b4\"/>\n     <use xlink:href=\"#m44ee977c14\" x=\"124.902342\" y=\"87.448266\" style=\"fill: #1f77b4; stroke: #1f77b4\"/>\n     <use xlink:href=\"#m44ee977c14\" x=\"65.44238\" y=\"47.400449\" style=\"fill: #1f77b4; stroke: #1f77b4\"/>\n     <use xlink:href=\"#m44ee977c14\" x=\"152.075913\" y=\"93.202917\" style=\"fill: #1f77b4; stroke: #1f77b4\"/>\n     <use xlink:href=\"#m44ee977c14\" x=\"82.931103\" y=\"60.628023\" style=\"fill: #1f77b4; stroke: #1f77b4\"/>\n     <use xlink:href=\"#m44ee977c14\" x=\"110.784824\" y=\"63.754364\" style=\"fill: #1f77b4; stroke: #1f77b4\"/>\n     <use xlink:href=\"#m44ee977c14\" x=\"145.069567\" y=\"90.085574\" style=\"fill: #1f77b4; stroke: #1f77b4\"/>\n     <use xlink:href=\"#m44ee977c14\" x=\"82.51193\" y=\"39.319026\" style=\"fill: #1f77b4; stroke: #1f77b4\"/>\n     <use xlink:href=\"#m44ee977c14\" x=\"131.357841\" y=\"76.836505\" style=\"fill: #1f77b4; stroke: #1f77b4\"/>\n     <use xlink:href=\"#m44ee977c14\" x=\"125.547358\" y=\"58.285645\" style=\"fill: #1f77b4; stroke: #1f77b4\"/>\n     <use xlink:href=\"#m44ee977c14\" x=\"123.744326\" y=\"62.620768\" style=\"fill: #1f77b4; stroke: #1f77b4\"/>\n     <use xlink:href=\"#m44ee977c14\" x=\"162.655672\" y=\"90.359976\" style=\"fill: #1f77b4; stroke: #1f77b4\"/>\n     <use xlink:href=\"#m44ee977c14\" x=\"158.495519\" y=\"84.17789\" style=\"fill: #1f77b4; stroke: #1f77b4\"/>\n     <use xlink:href=\"#m44ee977c14\" x=\"107.876886\" y=\"71.684921\" style=\"fill: #1f77b4; stroke: #1f77b4\"/>\n     <use xlink:href=\"#m44ee977c14\" x=\"174.53415\" y=\"95.70211\" style=\"fill: #1f77b4; stroke: #1f77b4\"/>\n     <use xlink:href=\"#m44ee977c14\" x=\"89.088491\" y=\"41.958522\" style=\"fill: #1f77b4; stroke: #1f77b4\"/>\n     <use xlink:href=\"#m44ee977c14\" x=\"127.262253\" y=\"73.918291\" style=\"fill: #1f77b4; stroke: #1f77b4\"/>\n     <use xlink:href=\"#m44ee977c14\" x=\"135.70415\" y=\"73.48248\" style=\"fill: #1f77b4; stroke: #1f77b4\"/>\n     <use xlink:href=\"#m44ee977c14\" x=\"78.403639\" y=\"54.738213\" style=\"fill: #1f77b4; stroke: #1f77b4\"/>\n     <use xlink:href=\"#m44ee977c14\" x=\"184.208638\" y=\"99.175869\" style=\"fill: #1f77b4; stroke: #1f77b4\"/>\n     <use xlink:href=\"#m44ee977c14\" x=\"116.424963\" y=\"64.662922\" style=\"fill: #1f77b4; stroke: #1f77b4\"/>\n     <use xlink:href=\"#m44ee977c14\" x=\"115.010294\" y=\"58.487263\" style=\"fill: #1f77b4; stroke: #1f77b4\"/>\n     <use xlink:href=\"#m44ee977c14\" x=\"125.536147\" y=\"72.917517\" style=\"fill: #1f77b4; stroke: #1f77b4\"/>\n     <use xlink:href=\"#m44ee977c14\" x=\"120.275142\" y=\"72.107448\" style=\"fill: #1f77b4; stroke: #1f77b4\"/>\n     <use xlink:href=\"#m44ee977c14\" x=\"109.228416\" y=\"75.279186\" style=\"fill: #1f77b4; stroke: #1f77b4\"/>\n     <use xlink:href=\"#m44ee977c14\" x=\"133.629305\" y=\"60.630481\" style=\"fill: #1f77b4; stroke: #1f77b4\"/>\n     <use xlink:href=\"#m44ee977c14\" x=\"143.528994\" y=\"85.767814\" style=\"fill: #1f77b4; stroke: #1f77b4\"/>\n     <use xlink:href=\"#m44ee977c14\" x=\"115.696577\" y=\"61.378698\" style=\"fill: #1f77b4; stroke: #1f77b4\"/>\n     <use xlink:href=\"#m44ee977c14\" x=\"96.379588\" y=\"56.560214\" style=\"fill: #1f77b4; stroke: #1f77b4\"/>\n     <use xlink:href=\"#m44ee977c14\" x=\"199.071301\" y=\"105.288172\" style=\"fill: #1f77b4; stroke: #1f77b4\"/>\n     <use xlink:href=\"#m44ee977c14\" x=\"153.377754\" y=\"91.488305\" style=\"fill: #1f77b4; stroke: #1f77b4\"/>\n     <use xlink:href=\"#m44ee977c14\" x=\"78.869122\" y=\"47.730699\" style=\"fill: #1f77b4; stroke: #1f77b4\"/>\n     <use xlink:href=\"#m44ee977c14\" x=\"166.38301\" y=\"102.89369\" style=\"fill: #1f77b4; stroke: #1f77b4\"/>\n     <use xlink:href=\"#m44ee977c14\" x=\"130.723079\" y=\"64.181583\" style=\"fill: #1f77b4; stroke: #1f77b4\"/>\n     <use xlink:href=\"#m44ee977c14\" x=\"118.408625\" y=\"84.37312\" style=\"fill: #1f77b4; stroke: #1f77b4\"/>\n     <use xlink:href=\"#m44ee977c14\" x=\"104.722613\" y=\"33.946882\" style=\"fill: #1f77b4; stroke: #1f77b4\"/>\n     <use xlink:href=\"#m44ee977c14\" x=\"134.262805\" y=\"80.537544\" style=\"fill: #1f77b4; stroke: #1f77b4\"/>\n     <use xlink:href=\"#m44ee977c14\" x=\"121.450893\" y=\"64.751016\" style=\"fill: #1f77b4; stroke: #1f77b4\"/>\n     <use xlink:href=\"#m44ee977c14\" x=\"182.016377\" y=\"119.053785\" style=\"fill: #1f77b4; stroke: #1f77b4\"/>\n     <use xlink:href=\"#m44ee977c14\" x=\"117.960961\" y=\"62.698508\" style=\"fill: #1f77b4; stroke: #1f77b4\"/>\n     <use xlink:href=\"#m44ee977c14\" x=\"155.529419\" y=\"89.015988\" style=\"fill: #1f77b4; stroke: #1f77b4\"/>\n     <use xlink:href=\"#m44ee977c14\" x=\"196.76197\" y=\"127.061402\" style=\"fill: #1f77b4; stroke: #1f77b4\"/>\n     <use xlink:href=\"#m44ee977c14\" x=\"115.435701\" y=\"57.860208\" style=\"fill: #1f77b4; stroke: #1f77b4\"/>\n     <use xlink:href=\"#m44ee977c14\" x=\"125.570546\" y=\"69.704543\" style=\"fill: #1f77b4; stroke: #1f77b4\"/>\n     <use xlink:href=\"#m44ee977c14\" x=\"130.103271\" y=\"89.877447\" style=\"fill: #1f77b4; stroke: #1f77b4\"/>\n     <use xlink:href=\"#m44ee977c14\" x=\"140.69384\" y=\"80.505497\" style=\"fill: #1f77b4; stroke: #1f77b4\"/>\n     <use xlink:href=\"#m44ee977c14\" x=\"159.888904\" y=\"78.579451\" style=\"fill: #1f77b4; stroke: #1f77b4\"/>\n     <use xlink:href=\"#m44ee977c14\" x=\"120.71138\" y=\"70.497229\" style=\"fill: #1f77b4; stroke: #1f77b4\"/>\n     <use xlink:href=\"#m44ee977c14\" x=\"163.31002\" y=\"97.263995\" style=\"fill: #1f77b4; stroke: #1f77b4\"/>\n     <use xlink:href=\"#m44ee977c14\" x=\"141.143267\" y=\"78.297736\" style=\"fill: #1f77b4; stroke: #1f77b4\"/>\n     <use xlink:href=\"#m44ee977c14\" x=\"162.464725\" y=\"91.590014\" style=\"fill: #1f77b4; stroke: #1f77b4\"/>\n     <use xlink:href=\"#m44ee977c14\" x=\"113.108358\" y=\"64.843374\" style=\"fill: #1f77b4; stroke: #1f77b4\"/>\n     <use xlink:href=\"#m44ee977c14\" x=\"170.243086\" y=\"85.924092\" style=\"fill: #1f77b4; stroke: #1f77b4\"/>\n     <use xlink:href=\"#m44ee977c14\" x=\"154.461893\" y=\"99.564106\" style=\"fill: #1f77b4; stroke: #1f77b4\"/>\n     <use xlink:href=\"#m44ee977c14\" x=\"97.007075\" y=\"38.641155\" style=\"fill: #1f77b4; stroke: #1f77b4\"/>\n     <use xlink:href=\"#m44ee977c14\" x=\"113.245627\" y=\"69.276224\" style=\"fill: #1f77b4; stroke: #1f77b4\"/>\n     <use xlink:href=\"#m44ee977c14\" x=\"121.318342\" y=\"59.127063\" style=\"fill: #1f77b4; stroke: #1f77b4\"/>\n     <use xlink:href=\"#m44ee977c14\" x=\"115.037188\" y=\"84.009993\" style=\"fill: #1f77b4; stroke: #1f77b4\"/>\n     <use xlink:href=\"#m44ee977c14\" x=\"173.82626\" y=\"121.684698\" style=\"fill: #1f77b4; stroke: #1f77b4\"/>\n     <use xlink:href=\"#m44ee977c14\" x=\"126.289048\" y=\"73.394865\" style=\"fill: #1f77b4; stroke: #1f77b4\"/>\n     <use xlink:href=\"#m44ee977c14\" x=\"124.54591\" y=\"58.302605\" style=\"fill: #1f77b4; stroke: #1f77b4\"/>\n     <use xlink:href=\"#m44ee977c14\" x=\"114.673367\" y=\"61.119835\" style=\"fill: #1f77b4; stroke: #1f77b4\"/>\n     <use xlink:href=\"#m44ee977c14\" x=\"135.171348\" y=\"64.133695\" style=\"fill: #1f77b4; stroke: #1f77b4\"/>\n     <use xlink:href=\"#m44ee977c14\" x=\"137.120701\" y=\"65.583953\" style=\"fill: #1f77b4; stroke: #1f77b4\"/>\n     <use xlink:href=\"#m44ee977c14\" x=\"153.236097\" y=\"77.751956\" style=\"fill: #1f77b4; stroke: #1f77b4\"/>\n     <use xlink:href=\"#m44ee977c14\" x=\"145.608024\" y=\"89.27313\" style=\"fill: #1f77b4; stroke: #1f77b4\"/>\n     <use xlink:href=\"#m44ee977c14\" x=\"150.541259\" y=\"86.79016\" style=\"fill: #1f77b4; stroke: #1f77b4\"/>\n     <use xlink:href=\"#m44ee977c14\" x=\"120.614484\" y=\"61.793569\" style=\"fill: #1f77b4; stroke: #1f77b4\"/>\n     <use xlink:href=\"#m44ee977c14\" x=\"149.982695\" y=\"92.876249\" style=\"fill: #1f77b4; stroke: #1f77b4\"/>\n     <use xlink:href=\"#m44ee977c14\" x=\"120.965981\" y=\"75.623788\" style=\"fill: #1f77b4; stroke: #1f77b4\"/>\n     <use xlink:href=\"#m44ee977c14\" x=\"124.756778\" y=\"76.260464\" style=\"fill: #1f77b4; stroke: #1f77b4\"/>\n     <use xlink:href=\"#m44ee977c14\" x=\"131.496878\" y=\"66.364927\" style=\"fill: #1f77b4; stroke: #1f77b4\"/>\n     <use xlink:href=\"#m44ee977c14\" x=\"83.037135\" y=\"38.25268\" style=\"fill: #1f77b4; stroke: #1f77b4\"/>\n     <use xlink:href=\"#m44ee977c14\" x=\"133.257023\" y=\"101.614943\" style=\"fill: #1f77b4; stroke: #1f77b4\"/>\n     <use xlink:href=\"#m44ee977c14\" x=\"152.087854\" y=\"93.841631\" style=\"fill: #1f77b4; stroke: #1f77b4\"/>\n     <use xlink:href=\"#m44ee977c14\" x=\"138.557019\" y=\"85.265325\" style=\"fill: #1f77b4; stroke: #1f77b4\"/>\n     <use xlink:href=\"#m44ee977c14\" x=\"132.270626\" y=\"68.629155\" style=\"fill: #1f77b4; stroke: #1f77b4\"/>\n     <use xlink:href=\"#m44ee977c14\" x=\"173.032258\" y=\"98.399899\" style=\"fill: #1f77b4; stroke: #1f77b4\"/>\n     <use xlink:href=\"#m44ee977c14\" x=\"130.433536\" y=\"72.120401\" style=\"fill: #1f77b4; stroke: #1f77b4\"/>\n     <use xlink:href=\"#m44ee977c14\" x=\"101.655841\" y=\"51.716115\" style=\"fill: #1f77b4; stroke: #1f77b4\"/>\n     <use xlink:href=\"#m44ee977c14\" x=\"169.503314\" y=\"95.549201\" style=\"fill: #1f77b4; stroke: #1f77b4\"/>\n     <use xlink:href=\"#m44ee977c14\" x=\"128.213565\" y=\"70.704525\" style=\"fill: #1f77b4; stroke: #1f77b4\"/>\n     <use xlink:href=\"#m44ee977c14\" x=\"162.224486\" y=\"92.264621\" style=\"fill: #1f77b4; stroke: #1f77b4\"/>\n     <use xlink:href=\"#m44ee977c14\" x=\"137.835011\" y=\"82.540648\" style=\"fill: #1f77b4; stroke: #1f77b4\"/>\n     <use xlink:href=\"#m44ee977c14\" x=\"131.517372\" y=\"82.837158\" style=\"fill: #1f77b4; stroke: #1f77b4\"/>\n     <use xlink:href=\"#m44ee977c14\" x=\"170.197748\" y=\"97.349596\" style=\"fill: #1f77b4; stroke: #1f77b4\"/>\n     <use xlink:href=\"#m44ee977c14\" x=\"129.721681\" y=\"62.432516\" style=\"fill: #1f77b4; stroke: #1f77b4\"/>\n     <use xlink:href=\"#m44ee977c14\" x=\"129.01643\" y=\"59.940257\" style=\"fill: #1f77b4; stroke: #1f77b4\"/>\n     <use xlink:href=\"#m44ee977c14\" x=\"90.961803\" y=\"52.305015\" style=\"fill: #1f77b4; stroke: #1f77b4\"/>\n     <use xlink:href=\"#m44ee977c14\" x=\"113.716871\" y=\"45.062608\" style=\"fill: #1f77b4; stroke: #1f77b4\"/>\n     <use xlink:href=\"#m44ee977c14\" x=\"142.882202\" y=\"86.142283\" style=\"fill: #1f77b4; stroke: #1f77b4\"/>\n     <use xlink:href=\"#m44ee977c14\" x=\"115.649877\" y=\"54.100411\" style=\"fill: #1f77b4; stroke: #1f77b4\"/>\n     <use xlink:href=\"#m44ee977c14\" x=\"140.568362\" y=\"91.404933\" style=\"fill: #1f77b4; stroke: #1f77b4\"/>\n     <use xlink:href=\"#m44ee977c14\" x=\"99.821764\" y=\"59.543075\" style=\"fill: #1f77b4; stroke: #1f77b4\"/>\n     <use xlink:href=\"#m44ee977c14\" x=\"103.332695\" y=\"56.718013\" style=\"fill: #1f77b4; stroke: #1f77b4\"/>\n     <use xlink:href=\"#m44ee977c14\" x=\"121.833449\" y=\"55.568465\" style=\"fill: #1f77b4; stroke: #1f77b4\"/>\n     <use xlink:href=\"#m44ee977c14\" x=\"184.27034\" y=\"115.047915\" style=\"fill: #1f77b4; stroke: #1f77b4\"/>\n    </g>\n   </g>\n   <g id=\"matplotlib.axis_1\">\n    <g id=\"xtick_1\">\n     <g id=\"line2d_1\">\n      <path d=\"M 79.502344 145.8 \nL 79.502344 7.2 \n\" clip-path=\"url(#p2cd5a4ff5e)\" style=\"fill: none; stroke: #b0b0b0; stroke-width: 0.8; stroke-linecap: square\"/>\n     </g>\n     <g id=\"line2d_2\">\n      <defs>\n       <path id=\"m1c45c225ea\" d=\"M 0 0 \nL 0 3.5 \n\" style=\"stroke: #000000; stroke-width: 0.8\"/>\n      </defs>\n      <g>\n       <use xlink:href=\"#m1c45c225ea\" x=\"79.502344\" y=\"145.8\" style=\"stroke: #000000; stroke-width: 0.8\"/>\n      </g>\n     </g>\n     <g id=\"text_1\">\n      <!-- −2 -->\n      <g transform=\"translate(72.13125 160.398438) scale(0.1 -0.1)\">\n       <defs>\n        <path id=\"DejaVuSans-2212\" d=\"M 678 2272 \nL 4684 2272 \nL 4684 1741 \nL 678 1741 \nL 678 2272 \nz\n\" transform=\"scale(0.015625)\"/>\n        <path id=\"DejaVuSans-32\" d=\"M 1228 531 \nL 3431 531 \nL 3431 0 \nL 469 0 \nL 469 531 \nQ 828 903 1448 1529 \nQ 2069 2156 2228 2338 \nQ 2531 2678 2651 2914 \nQ 2772 3150 2772 3378 \nQ 2772 3750 2511 3984 \nQ 2250 4219 1831 4219 \nQ 1534 4219 1204 4116 \nQ 875 4013 500 3803 \nL 500 4441 \nQ 881 4594 1212 4672 \nQ 1544 4750 1819 4750 \nQ 2544 4750 2975 4387 \nQ 3406 4025 3406 3419 \nQ 3406 3131 3298 2873 \nQ 3191 2616 2906 2266 \nQ 2828 2175 2409 1742 \nQ 1991 1309 1228 531 \nz\n\" transform=\"scale(0.015625)\"/>\n       </defs>\n       <use xlink:href=\"#DejaVuSans-2212\"/>\n       <use xlink:href=\"#DejaVuSans-32\" x=\"83.789062\"/>\n      </g>\n     </g>\n    </g>\n    <g id=\"xtick_2\">\n     <g id=\"line2d_3\">\n      <path d=\"M 133.163405 145.8 \nL 133.163405 7.2 \n\" clip-path=\"url(#p2cd5a4ff5e)\" style=\"fill: none; stroke: #b0b0b0; stroke-width: 0.8; stroke-linecap: square\"/>\n     </g>\n     <g id=\"line2d_4\">\n      <g>\n       <use xlink:href=\"#m1c45c225ea\" x=\"133.163405\" y=\"145.8\" style=\"stroke: #000000; stroke-width: 0.8\"/>\n      </g>\n     </g>\n     <g id=\"text_2\">\n      <!-- 0 -->\n      <g transform=\"translate(129.982155 160.398438) scale(0.1 -0.1)\">\n       <defs>\n        <path id=\"DejaVuSans-30\" d=\"M 2034 4250 \nQ 1547 4250 1301 3770 \nQ 1056 3291 1056 2328 \nQ 1056 1369 1301 889 \nQ 1547 409 2034 409 \nQ 2525 409 2770 889 \nQ 3016 1369 3016 2328 \nQ 3016 3291 2770 3770 \nQ 2525 4250 2034 4250 \nz\nM 2034 4750 \nQ 2819 4750 3233 4129 \nQ 3647 3509 3647 2328 \nQ 3647 1150 3233 529 \nQ 2819 -91 2034 -91 \nQ 1250 -91 836 529 \nQ 422 1150 422 2328 \nQ 422 3509 836 4129 \nQ 1250 4750 2034 4750 \nz\n\" transform=\"scale(0.015625)\"/>\n       </defs>\n       <use xlink:href=\"#DejaVuSans-30\"/>\n      </g>\n     </g>\n    </g>\n    <g id=\"xtick_3\">\n     <g id=\"line2d_5\">\n      <path d=\"M 186.824467 145.8 \nL 186.824467 7.2 \n\" clip-path=\"url(#p2cd5a4ff5e)\" style=\"fill: none; stroke: #b0b0b0; stroke-width: 0.8; stroke-linecap: square\"/>\n     </g>\n     <g id=\"line2d_6\">\n      <g>\n       <use xlink:href=\"#m1c45c225ea\" x=\"186.824467\" y=\"145.8\" style=\"stroke: #000000; stroke-width: 0.8\"/>\n      </g>\n     </g>\n     <g id=\"text_3\">\n      <!-- 2 -->\n      <g transform=\"translate(183.643217 160.398438) scale(0.1 -0.1)\">\n       <use xlink:href=\"#DejaVuSans-32\"/>\n      </g>\n     </g>\n    </g>\n   </g>\n   <g id=\"matplotlib.axis_2\">\n    <g id=\"ytick_1\">\n     <g id=\"line2d_7\">\n      <path d=\"M 35.304688 144.499096 \nL 230.604688 144.499096 \n\" clip-path=\"url(#p2cd5a4ff5e)\" style=\"fill: none; stroke: #b0b0b0; stroke-width: 0.8; stroke-linecap: square\"/>\n     </g>\n     <g id=\"line2d_8\">\n      <defs>\n       <path id=\"ma514614a42\" d=\"M 0 0 \nL -3.5 0 \n\" style=\"stroke: #000000; stroke-width: 0.8\"/>\n      </defs>\n      <g>\n       <use xlink:href=\"#ma514614a42\" x=\"35.304688\" y=\"144.499096\" style=\"stroke: #000000; stroke-width: 0.8\"/>\n      </g>\n     </g>\n     <g id=\"text_4\">\n      <!-- −10 -->\n      <g transform=\"translate(7.2 148.298314) scale(0.1 -0.1)\">\n       <defs>\n        <path id=\"DejaVuSans-31\" d=\"M 794 531 \nL 1825 531 \nL 1825 4091 \nL 703 3866 \nL 703 4441 \nL 1819 4666 \nL 2450 4666 \nL 2450 531 \nL 3481 531 \nL 3481 0 \nL 794 0 \nL 794 531 \nz\n\" transform=\"scale(0.015625)\"/>\n       </defs>\n       <use xlink:href=\"#DejaVuSans-2212\"/>\n       <use xlink:href=\"#DejaVuSans-31\" x=\"83.789062\"/>\n       <use xlink:href=\"#DejaVuSans-30\" x=\"147.412109\"/>\n      </g>\n     </g>\n    </g>\n    <g id=\"ytick_2\">\n     <g id=\"line2d_9\">\n      <path d=\"M 35.304688 120.569366 \nL 230.604688 120.569366 \n\" clip-path=\"url(#p2cd5a4ff5e)\" style=\"fill: none; stroke: #b0b0b0; stroke-width: 0.8; stroke-linecap: square\"/>\n     </g>\n     <g id=\"line2d_10\">\n      <g>\n       <use xlink:href=\"#ma514614a42\" x=\"35.304688\" y=\"120.569366\" style=\"stroke: #000000; stroke-width: 0.8\"/>\n      </g>\n     </g>\n     <g id=\"text_5\">\n      <!-- −5 -->\n      <g transform=\"translate(13.5625 124.368585) scale(0.1 -0.1)\">\n       <defs>\n        <path id=\"DejaVuSans-35\" d=\"M 691 4666 \nL 3169 4666 \nL 3169 4134 \nL 1269 4134 \nL 1269 2991 \nQ 1406 3038 1543 3061 \nQ 1681 3084 1819 3084 \nQ 2600 3084 3056 2656 \nQ 3513 2228 3513 1497 \nQ 3513 744 3044 326 \nQ 2575 -91 1722 -91 \nQ 1428 -91 1123 -41 \nQ 819 9 494 109 \nL 494 744 \nQ 775 591 1075 516 \nQ 1375 441 1709 441 \nQ 2250 441 2565 725 \nQ 2881 1009 2881 1497 \nQ 2881 1984 2565 2268 \nQ 2250 2553 1709 2553 \nQ 1456 2553 1204 2497 \nQ 953 2441 691 2322 \nL 691 4666 \nz\n\" transform=\"scale(0.015625)\"/>\n       </defs>\n       <use xlink:href=\"#DejaVuSans-2212\"/>\n       <use xlink:href=\"#DejaVuSans-35\" x=\"83.789062\"/>\n      </g>\n     </g>\n    </g>\n    <g id=\"ytick_3\">\n     <g id=\"line2d_11\">\n      <path d=\"M 35.304688 96.639636 \nL 230.604688 96.639636 \n\" clip-path=\"url(#p2cd5a4ff5e)\" style=\"fill: none; stroke: #b0b0b0; stroke-width: 0.8; stroke-linecap: square\"/>\n     </g>\n     <g id=\"line2d_12\">\n      <g>\n       <use xlink:href=\"#ma514614a42\" x=\"35.304688\" y=\"96.639636\" style=\"stroke: #000000; stroke-width: 0.8\"/>\n      </g>\n     </g>\n     <g id=\"text_6\">\n      <!-- 0 -->\n      <g transform=\"translate(21.942187 100.438855) scale(0.1 -0.1)\">\n       <use xlink:href=\"#DejaVuSans-30\"/>\n      </g>\n     </g>\n    </g>\n    <g id=\"ytick_4\">\n     <g id=\"line2d_13\">\n      <path d=\"M 35.304688 72.709906 \nL 230.604688 72.709906 \n\" clip-path=\"url(#p2cd5a4ff5e)\" style=\"fill: none; stroke: #b0b0b0; stroke-width: 0.8; stroke-linecap: square\"/>\n     </g>\n     <g id=\"line2d_14\">\n      <g>\n       <use xlink:href=\"#ma514614a42\" x=\"35.304688\" y=\"72.709906\" style=\"stroke: #000000; stroke-width: 0.8\"/>\n      </g>\n     </g>\n     <g id=\"text_7\">\n      <!-- 5 -->\n      <g transform=\"translate(21.942187 76.509125) scale(0.1 -0.1)\">\n       <use xlink:href=\"#DejaVuSans-35\"/>\n      </g>\n     </g>\n    </g>\n    <g id=\"ytick_5\">\n     <g id=\"line2d_15\">\n      <path d=\"M 35.304688 48.780176 \nL 230.604688 48.780176 \n\" clip-path=\"url(#p2cd5a4ff5e)\" style=\"fill: none; stroke: #b0b0b0; stroke-width: 0.8; stroke-linecap: square\"/>\n     </g>\n     <g id=\"line2d_16\">\n      <g>\n       <use xlink:href=\"#ma514614a42\" x=\"35.304688\" y=\"48.780176\" style=\"stroke: #000000; stroke-width: 0.8\"/>\n      </g>\n     </g>\n     <g id=\"text_8\">\n      <!-- 10 -->\n      <g transform=\"translate(15.579687 52.579395) scale(0.1 -0.1)\">\n       <use xlink:href=\"#DejaVuSans-31\"/>\n       <use xlink:href=\"#DejaVuSans-30\" x=\"63.623047\"/>\n      </g>\n     </g>\n    </g>\n    <g id=\"ytick_6\">\n     <g id=\"line2d_17\">\n      <path d=\"M 35.304688 24.850446 \nL 230.604688 24.850446 \n\" clip-path=\"url(#p2cd5a4ff5e)\" style=\"fill: none; stroke: #b0b0b0; stroke-width: 0.8; stroke-linecap: square\"/>\n     </g>\n     <g id=\"line2d_18\">\n      <g>\n       <use xlink:href=\"#ma514614a42\" x=\"35.304688\" y=\"24.850446\" style=\"stroke: #000000; stroke-width: 0.8\"/>\n      </g>\n     </g>\n     <g id=\"text_9\">\n      <!-- 15 -->\n      <g transform=\"translate(15.579687 28.649665) scale(0.1 -0.1)\">\n       <use xlink:href=\"#DejaVuSans-31\"/>\n       <use xlink:href=\"#DejaVuSans-35\" x=\"63.623047\"/>\n      </g>\n     </g>\n    </g>\n   </g>\n   <g id=\"patch_3\">\n    <path d=\"M 35.304688 145.8 \nL 35.304688 7.2 \n\" style=\"fill: none; stroke: #000000; stroke-width: 0.8; stroke-linejoin: miter; stroke-linecap: square\"/>\n   </g>\n   <g id=\"patch_4\">\n    <path d=\"M 230.604688 145.8 \nL 230.604688 7.2 \n\" style=\"fill: none; stroke: #000000; stroke-width: 0.8; stroke-linejoin: miter; stroke-linecap: square\"/>\n   </g>\n   <g id=\"patch_5\">\n    <path d=\"M 35.304687 145.8 \nL 230.604688 145.8 \n\" style=\"fill: none; stroke: #000000; stroke-width: 0.8; stroke-linejoin: miter; stroke-linecap: square\"/>\n   </g>\n   <g id=\"patch_6\">\n    <path d=\"M 35.304687 7.2 \nL 230.604688 7.2 \n\" style=\"fill: none; stroke: #000000; stroke-width: 0.8; stroke-linejoin: miter; stroke-linecap: square\"/>\n   </g>\n  </g>\n </g>\n <defs>\n  <clipPath id=\"p2cd5a4ff5e\">\n   <rect x=\"35.304688\" y=\"7.2\" width=\"195.3\" height=\"138.6\"/>\n  </clipPath>\n </defs>\n</svg>\n",
      "text/plain": [
       "<Figure size 350x250 with 1 Axes>"
      ]
     },
     "metadata": {},
     "output_type": "display_data"
    }
   ],
   "source": [
    "bcil.set_matplotlib_formats('svg')\n",
    "plt.rcParams['figure.figsize'] = (3.5, 2.5)\n",
    "plt.grid()\n",
    "plt.scatter(features[:, 1].detach().numpy(), labels.detach().numpy(), s=1)\n",
    "\"\"\" numpy() 不放到梯度中 \"\"\""
   ]
  },
  {
   "cell_type": "code",
   "execution_count": 7,
   "id": "77435500",
   "metadata": {
    "colab": {
     "base_uri": "https://localhost:8080/"
    },
    "executionInfo": {
     "elapsed": 4,
     "status": "ok",
     "timestamp": 1674123386519,
     "user": {
      "displayName": "周佳林",
      "userId": "18191733824795449952"
     },
     "user_tz": -480
    },
    "id": "77435500",
    "outputId": "b9271e55-8641-4903-dea4-ad9b0e4ce561"
   },
   "outputs": [
    {
     "name": "stdout",
     "output_type": "stream",
     "text": [
      "tensor([[ 0.6377,  0.4398],\n",
      "        [-1.1449,  2.1922],\n",
      "        [-0.1994,  2.1938],\n",
      "        [-0.4471,  1.4133],\n",
      "        [-1.4504,  0.6010],\n",
      "        [ 0.6939,  0.4931],\n",
      "        [-0.9321, -0.5305],\n",
      "        [ 0.4319, -2.0552],\n",
      "        [-0.3843, -1.7071],\n",
      "        [-0.9630, -1.5009]]) \n",
      " tensor([[ 3.9737],\n",
      "        [-5.5440],\n",
      "        [-3.6671],\n",
      "        [-1.4902],\n",
      "        [-0.7440],\n",
      "        [ 3.9102],\n",
      "        [ 4.1308],\n",
      "        [12.0398],\n",
      "        [ 9.2491],\n",
      "        [ 7.3685]])\n"
     ]
    }
   ],
   "source": [
    "# 实现小批量读取\n",
    "def data_iter(batch_size, features, labels):\n",
    "    num_examples = features.shape[0]\n",
    "    indices = list(range(num_examples))\n",
    "    random.shuffle(indices) # 将原列表顺序打乱\n",
    "    for i in range(0, num_examples, batch_size):\n",
    "        batch_indices = torch.tensor(\n",
    "            indices[i: min(i + batch_size, num_examples)]) # 有可能超出索引范围： min()\n",
    "        yield features[batch_indices], labels[batch_indices]\n",
    "\n",
    "batch_size = 10\n",
    "\n",
    "for X, y in data_iter(batch_size, features, labels):\n",
    "    print(X, '\\n', y)\n",
    "    break"
   ]
  },
  {
   "cell_type": "markdown",
   "id": "fd889237",
   "metadata": {
    "id": "fd889237"
   },
   "source": [
    "参数初始化"
   ]
  },
  {
   "cell_type": "code",
   "execution_count": 8,
   "id": "d6289bb7",
   "metadata": {
    "id": "d6289bb7"
   },
   "outputs": [],
   "source": [
    "w = torch.normal(0, 0.01, size=(2, 1), requires_grad=True)\n",
    "b = torch.zeros(1, requires_grad=True)"
   ]
  },
  {
   "cell_type": "code",
   "execution_count": 9,
   "id": "4eddf458",
   "metadata": {
    "id": "4eddf458"
   },
   "outputs": [],
   "source": [
    "# 定义模型\n",
    "def linreg(X, w, b):\n",
    "    return torch.matmul(X, w) + b"
   ]
  },
  {
   "cell_type": "code",
   "execution_count": 10,
   "id": "48afad4a",
   "metadata": {
    "id": "48afad4a"
   },
   "outputs": [],
   "source": [
    "# 损失函数\n",
    "def squred_loss(y_hat, y):\n",
    "    return (y_hat - y.reshape(y_hat.shape)) ** 2"
   ]
  },
  {
   "cell_type": "code",
   "execution_count": 11,
   "id": "5314ad83",
   "metadata": {
    "id": "5314ad83"
   },
   "outputs": [],
   "source": [
    "# 定义优化算法\n",
    "def sgd(params, lr, batch_size):\n",
    "    with torch.no_grad(): # 梯度优化不需要梯度计算\n",
    "        for param in params:\n",
    "            param -= lr * param.grad / batch_size\n",
    "            param.grad.zero_() # 手动归零"
   ]
  },
  {
   "cell_type": "code",
   "execution_count": 12,
   "id": "0ca1fa5b",
   "metadata": {
    "colab": {
     "base_uri": "https://localhost:8080/"
    },
    "executionInfo": {
     "elapsed": 363,
     "status": "ok",
     "timestamp": 1674123387240,
     "user": {
      "displayName": "周佳林",
      "userId": "18191733824795449952"
     },
     "user_tz": -480
    },
    "id": "0ca1fa5b",
    "outputId": "536e49c9-550c-4d90-b332-6d4e2b47aab5"
   },
   "outputs": [
    {
     "name": "stdout",
     "output_type": "stream",
     "text": [
      "epochs 1, loss 0.00010191\n",
      "epochs 2, loss 0.00009820\n",
      "epochs 3, loss 0.00009693\n",
      "epochs 4, loss 0.00009790\n",
      "epochs 5, loss 0.00009833\n",
      "epochs 6, loss 0.00009706\n",
      "epochs 7, loss 0.00010206\n",
      "epochs 8, loss 0.00010235\n",
      "epochs 9, loss 0.00009645\n",
      "epochs 10, loss 0.00009665\n"
     ]
    }
   ],
   "source": [
    "lr = 0.1\n",
    "num_epochs = 10\n",
    "net = linreg\n",
    "loss = squred_loss\n",
    "batch_size = 10\n",
    "\n",
    "for epoch in range(num_epochs):\n",
    "    for X, y in data_iter(batch_size, features, labels):\n",
    "        l = loss(net(X, w, b), y)\n",
    "        # l 的形状是 (batch_size, 1), 不是标量, 无法计算梯度\n",
    "        # 使用 sum 累加损失\n",
    "        l.sum().backward()\n",
    "        sgd([w, b], lr, batch_size)\n",
    "    with torch.no_grad():\n",
    "        train = loss(net(features, w, b), labels)\n",
    "        print(f\"epochs {epoch+1}, loss {float(train.mean()):.8f}\")"
   ]
  },
  {
   "cell_type": "markdown",
   "id": "S672E1WJi-jy",
   "metadata": {
    "id": "S672E1WJi-jy"
   },
   "source": [
    "# 利用 `Pytorch` 的工具"
   ]
  },
  {
   "cell_type": "code",
   "execution_count": 13,
   "id": "5e1c2c3d",
   "metadata": {
    "id": "5e1c2c3d"
   },
   "outputs": [],
   "source": [
    "\"\"\" 使用 Pytorch 提供的工具 \"\"\"\n",
    "features, labels = synthetic_data(true_w, true_b, 1000) # 生产初始化参数"
   ]
  },
  {
   "cell_type": "code",
   "execution_count": 14,
   "id": "19a7aee9",
   "metadata": {
    "colab": {
     "base_uri": "https://localhost:8080/"
    },
    "executionInfo": {
     "elapsed": 9,
     "status": "ok",
     "timestamp": 1674123387241,
     "user": {
      "displayName": "周佳林",
      "userId": "18191733824795449952"
     },
     "user_tz": -480
    },
    "id": "19a7aee9",
    "outputId": "8b0dcf63-96fe-4573-c055-90a57a0e859a"
   },
   "outputs": [
    {
     "data": {
      "text/plain": [
       "[tensor([[-1.2134,  2.8117],\n",
       "         [ 0.4998,  0.0772],\n",
       "         [ 0.8715,  0.1285],\n",
       "         [ 0.9600, -0.9226],\n",
       "         [ 2.0377, -0.2655],\n",
       "         [-0.8879,  1.8388],\n",
       "         [ 1.0989,  0.4080],\n",
       "         [ 0.8655, -1.9851],\n",
       "         [-0.9437,  0.4382],\n",
       "         [ 1.5586,  1.6756]]),\n",
       " tensor([[-7.7843],\n",
       "         [ 4.9273],\n",
       "         [ 5.5095],\n",
       "         [ 9.2572],\n",
       "         [ 9.1730],\n",
       "         [-3.8376],\n",
       "         [ 5.0095],\n",
       "         [12.6820],\n",
       "         [ 0.8167],\n",
       "         [ 1.6319]])]"
      ]
     },
     "execution_count": 14,
     "metadata": {},
     "output_type": "execute_result"
    }
   ],
   "source": [
    "def load_array(data_arrays, batch_size, is_train=True):\n",
    "    dataset = data.TensorDataset(*data_arrays) # 当传递值为迭代器时, 使用*修饰\n",
    "    return data.DataLoader(dataset, batch_size, shuffle = is_train)\n",
    "\n",
    "batch_size = 10\n",
    "data_iter = load_array((features, labels), batch_size, True)\n",
    "\n",
    "next(iter(data_iter)) # 得到一个返回"
   ]
  },
  {
   "cell_type": "code",
   "execution_count": 15,
   "id": "47f0520f",
   "metadata": {
    "id": "47f0520f"
   },
   "outputs": [],
   "source": [
    "\"\"\" Sequential : list of layers\"\"\"\n",
    "net = nn.Sequential(nn.Linear(2, 1)) # 等价于全连接层"
   ]
  },
  {
   "cell_type": "code",
   "execution_count": 16,
   "id": "dca55d56",
   "metadata": {
    "colab": {
     "base_uri": "https://localhost:8080/"
    },
    "executionInfo": {
     "elapsed": 7,
     "status": "ok",
     "timestamp": 1674123387241,
     "user": {
      "displayName": "周佳林",
      "userId": "18191733824795449952"
     },
     "user_tz": -480
    },
    "id": "dca55d56",
    "outputId": "b26eed14-f91c-45cd-8039-0046ba302997"
   },
   "outputs": [
    {
     "data": {
      "text/plain": [
       "tensor([0.])"
      ]
     },
     "execution_count": 16,
     "metadata": {},
     "output_type": "execute_result"
    }
   ],
   "source": [
    "\"\"\" 初始化参数模型 \"\"\"\n",
    "net[0].weight.data.normal_(0, 0.01)\n",
    "net[0].bias.data.fill_(0)"
   ]
  },
  {
   "cell_type": "code",
   "execution_count": 17,
   "id": "767c87b6",
   "metadata": {
    "id": "767c87b6"
   },
   "outputs": [],
   "source": [
    "loss = nn.MSELoss() # 均方误差"
   ]
  },
  {
   "cell_type": "code",
   "execution_count": 18,
   "id": "f29e8b8d",
   "metadata": {
    "id": "f29e8b8d"
   },
   "outputs": [],
   "source": [
    "trainer = torch.optim.SGD(net.parameters(), lr=0.03)"
   ]
  },
  {
   "cell_type": "code",
   "execution_count": 19,
   "id": "611d8c4d",
   "metadata": {
    "colab": {
     "base_uri": "https://localhost:8080/"
    },
    "executionInfo": {
     "elapsed": 1061,
     "status": "ok",
     "timestamp": 1674123388296,
     "user": {
      "displayName": "周佳林",
      "userId": "18191733824795449952"
     },
     "user_tz": -480
    },
    "id": "611d8c4d",
    "outputId": "215ffa3c-13f2-4e27-b15a-cc02b7c8ee3c"
   },
   "outputs": [
    {
     "name": "stdout",
     "output_type": "stream",
     "text": [
      "epochs: 1, loss:0.00036894\n",
      "epochs: 2, loss:0.00009930\n",
      "epochs: 3, loss:0.00009951\n",
      "epochs: 4, loss:0.00009931\n",
      "epochs: 5, loss:0.00009917\n",
      "epochs: 6, loss:0.00009977\n",
      "epochs: 7, loss:0.00009956\n",
      "epochs: 8, loss:0.00009909\n",
      "epochs: 9, loss:0.00009992\n",
      "epochs: 10, loss:0.00009920\n"
     ]
    }
   ],
   "source": [
    "num_epochs = 10\n",
    "for epoch in range(num_epochs):\n",
    "    for X, y in data_iter:\n",
    "        l = loss(net(X), y) # Pytorch 默认进行了 sum() 运算\n",
    "        trainer.zero_grad()\n",
    "        l.backward()\n",
    "        trainer.step()\n",
    "    with torch.no_grad():\n",
    "        l = loss(net(features), labels)\n",
    "        print(f\"epochs: {epoch + 1}, loss:{l:.8f}\") # MSELoss没有 / 2"
   ]
  },
  {
   "attachments": {},
   "cell_type": "markdown",
   "id": "2rAGm8roiTpL",
   "metadata": {
    "id": "2rAGm8roiTpL"
   },
   "source": [
    "`batchsize` 反直觉\n",
    "\n",
    "  有的时候越小越好？ \n",
    "\n",
    "> 小的`batchsize`可以提高噪声，提高鲁棒性？\n",
    "\n",
    "建模是不精确的，优化也是不精确的[即深度学习的两个模型都是不精确的]\n",
    "\n",
    "- 不太关心统计的最优解\n",
    "- 关心**收敛的地方**，希望收敛的地方平坦，范化性很好\n",
    "\n",
    "batch_size 不是整数倍\n",
    "1. 调整 batch_size\n",
    "2. 舍弃数据多余部分\n",
    "3. 从下一个 epoch 中借用数据\n",
    "\n",
    "NaN 是由于每一次梯度迭代存在除法\n",
    "\n",
    "> 有可能被除数有 0 或者 inf\n",
    "\n",
    "** 超参数 **\n",
    "\n",
    "超参数是指神经网络学习前需要确定的值，不是通过训练得出"
   ]
  },
  {
   "cell_type": "code",
   "execution_count": null,
   "id": "QOaSQ81Cmy4s",
   "metadata": {
    "id": "QOaSQ81Cmy4s"
   },
   "outputs": [],
   "source": []
  }
 ],
 "metadata": {
  "colab": {
   "provenance": []
  },
  "gpuClass": "standard",
  "kernelspec": {
   "display_name": "d2l",
   "language": "python",
   "name": "python3"
  },
  "language_info": {
   "codemirror_mode": {
    "name": "ipython",
    "version": 3
   },
   "file_extension": ".py",
   "mimetype": "text/x-python",
   "name": "python",
   "nbconvert_exporter": "python",
   "pygments_lexer": "ipython3",
   "version": "3.10.9 | packaged by conda-forge | (main, Jan 11 2023, 15:15:40) [MSC v.1916 64 bit (AMD64)]"
  },
  "vscode": {
   "interpreter": {
    "hash": "e68e5b16d81fa9059e1158f6a4d703d6dd8750a9ccfa1e75dbe04c34949a9a2e"
   }
  }
 },
 "nbformat": 4,
 "nbformat_minor": 5
}
