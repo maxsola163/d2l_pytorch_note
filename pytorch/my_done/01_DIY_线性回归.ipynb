{
 "cells": [
  {
   "cell_type": "markdown",
   "id": "QLqUkcHujFc4",
   "metadata": {
    "id": "QLqUkcHujFc4"
   },
   "source": [
    "# 初始化\n",
    "\n",
    "> 提供了两种线性回归的实现，1、全部自己写，2、使用`pytorch`提供的工具"
   ]
  },
  {
   "cell_type": "code",
   "execution_count": 1,
   "id": "xXeTVncwhuvT",
   "metadata": {
    "colab": {
     "base_uri": "https://localhost:8080/"
    },
    "executionInfo": {
     "elapsed": 7874,
     "status": "ok",
     "timestamp": 1674123386065,
     "user": {
      "displayName": "周佳林",
      "userId": "18191733824795449952"
     },
     "user_tz": -480
    },
    "id": "xXeTVncwhuvT",
    "outputId": "3dcaafb8-d7e6-4545-afbd-9e9977a56107"
   },
   "outputs": [
    {
     "name": "stdout",
     "output_type": "stream",
     "text": [
      "Looking in indexes: https://pypi.douban.com/simple/\n",
      "Requirement already satisfied: matplotlib_inline in c:\\users\\maxsola\\miniconda3\\envs\\d2l\\lib\\site-packages (0.1.6)\n",
      "Requirement already satisfied: traitlets in c:\\users\\maxsola\\miniconda3\\envs\\d2l\\lib\\site-packages (from matplotlib_inline) (5.8.1)\n"
     ]
    }
   ],
   "source": [
    "%pip install matplotlib_inline"
   ]
  },
  {
   "cell_type": "markdown",
   "id": "P2SvfPkBi7nd",
   "metadata": {
    "id": "P2SvfPkBi7nd"
   },
   "source": [
    "# 自己做"
   ]
  },
  {
   "cell_type": "code",
   "execution_count": 2,
   "id": "92d07f9a",
   "metadata": {
    "id": "92d07f9a"
   },
   "outputs": [],
   "source": [
    "%matplotlib inline \n",
    "from matplotlib import pyplot as plt\n",
    "from matplotlib_inline import backend_inline as bcil\n",
    "import random\n",
    "import torch\n",
    "from torch.utils import data\n",
    "from torch import nn"
   ]
  },
  {
   "cell_type": "markdown",
   "id": "8b04513d",
   "metadata": {
    "id": "8b04513d"
   },
   "source": [
    "数据集生成"
   ]
  },
  {
   "cell_type": "code",
   "execution_count": 3,
   "id": "240a0c40",
   "metadata": {
    "id": "240a0c40"
   },
   "outputs": [],
   "source": [
    "def synthetic_data(w, b, num_examples):  \n",
    "    \"\"\"生成y=Xw+b+噪声\"\"\"\n",
    "    X = torch.normal(0, 1, (num_examples, len(w)))\n",
    "    y = torch.matmul(X, w) + b # matmul() 对比 mm() 可以实现广播\n",
    "    y += torch.normal(0, 0.01, y.shape)\n",
    "    return X, y.reshape((-1, 1)) # reshape中-1表示自动计算\n",
    "\n",
    "true_w = torch.tensor([2, -3.4])\n",
    "true_b = 4.2\n",
    "features, labels = synthetic_data(true_w, true_b, 1000)"
   ]
  },
  {
   "cell_type": "code",
   "execution_count": 4,
   "id": "5060ea12",
   "metadata": {
    "colab": {
     "base_uri": "https://localhost:8080/"
    },
    "executionInfo": {
     "elapsed": 23,
     "status": "ok",
     "timestamp": 1674123386067,
     "user": {
      "displayName": "周佳林",
      "userId": "18191733824795449952"
     },
     "user_tz": -480
    },
    "id": "5060ea12",
    "outputId": "ae58ca8b-7b9d-44da-fa20-13cdc6a1adb0"
   },
   "outputs": [
    {
     "data": {
      "text/plain": [
       "(torch.Size([1000, 2]), torch.Size([1000, 1]))"
      ]
     },
     "execution_count": 4,
     "metadata": {},
     "output_type": "execute_result"
    }
   ],
   "source": [
    "features.shape, labels.shape"
   ]
  },
  {
   "cell_type": "code",
   "execution_count": 5,
   "id": "bc41acfb",
   "metadata": {
    "colab": {
     "base_uri": "https://localhost:8080/"
    },
    "executionInfo": {
     "elapsed": 21,
     "status": "ok",
     "timestamp": 1674123386067,
     "user": {
      "displayName": "周佳林",
      "userId": "18191733824795449952"
     },
     "user_tz": -480
    },
    "id": "bc41acfb",
    "outputId": "241fff00-8267-44da-f0ce-b6a0c894aed8"
   },
   "outputs": [
    {
     "data": {
      "text/plain": [
       "(tensor([-0.3213,  0.0697]), tensor([3.3218]))"
      ]
     },
     "execution_count": 5,
     "metadata": {},
     "output_type": "execute_result"
    }
   ],
   "source": [
    "features[0], labels[0]"
   ]
  },
  {
   "cell_type": "code",
   "execution_count": 6,
   "id": "d7ec17e8",
   "metadata": {
    "colab": {
     "base_uri": "https://localhost:8080/",
     "height": 261
    },
    "executionInfo": {
     "elapsed": 470,
     "status": "ok",
     "timestamp": 1674123386518,
     "user": {
      "displayName": "周佳林",
      "userId": "18191733824795449952"
     },
     "user_tz": -480
    },
    "id": "d7ec17e8",
    "outputId": "df06ccea-dc33-481d-b439-0a3b9104bd3c"
   },
   "outputs": [
    {
     "data": {
      "text/plain": [
       "' numpy() 不放到梯度中 '"
      ]
     },
     "execution_count": 6,
     "metadata": {},
     "output_type": "execute_result"
    },
    {
     "data": {
      "image/svg+xml": "<?xml version=\"1.0\" encoding=\"utf-8\" standalone=\"no\"?>\n<!DOCTYPE svg PUBLIC \"-//W3C//DTD SVG 1.1//EN\"\n  \"http://www.w3.org/Graphics/SVG/1.1/DTD/svg11.dtd\">\n<svg xmlns:xlink=\"http://www.w3.org/1999/xlink\" width=\"237.804688pt\" height=\"169.678125pt\" viewBox=\"0 0 237.804688 169.678125\" xmlns=\"http://www.w3.org/2000/svg\" version=\"1.1\">\n <metadata>\n  <rdf:RDF xmlns:dc=\"http://purl.org/dc/elements/1.1/\" xmlns:cc=\"http://creativecommons.org/ns#\" xmlns:rdf=\"http://www.w3.org/1999/02/22-rdf-syntax-ns#\">\n   <cc:Work>\n    <dc:type rdf:resource=\"http://purl.org/dc/dcmitype/StillImage\"/>\n    <dc:date>2023-01-22T09:48:44.415901</dc:date>\n    <dc:format>image/svg+xml</dc:format>\n    <dc:creator>\n     <cc:Agent>\n      <dc:title>Matplotlib v3.6.3, https://matplotlib.org/</dc:title>\n     </cc:Agent>\n    </dc:creator>\n   </cc:Work>\n  </rdf:RDF>\n </metadata>\n <defs>\n  <style type=\"text/css\">*{stroke-linejoin: round; stroke-linecap: butt}</style>\n </defs>\n <g id=\"figure_1\">\n  <g id=\"patch_1\">\n   <path d=\"M 0 169.678125 \nL 237.804688 169.678125 \nL 237.804688 0 \nL 0 0 \nz\n\" style=\"fill: #ffffff\"/>\n  </g>\n  <g id=\"axes_1\">\n   <g id=\"patch_2\">\n    <path d=\"M 35.304688 145.8 \nL 230.604688 145.8 \nL 230.604688 7.2 \nL 35.304688 7.2 \nz\n\" style=\"fill: #ffffff\"/>\n   </g>\n   <g id=\"PathCollection_1\">\n    <defs>\n     <path id=\"m59475243ba\" d=\"M 0 0.5 \nC 0.132602 0.5 0.25979 0.447317 0.353553 0.353553 \nC 0.447317 0.25979 0.5 0.132602 0.5 0 \nC 0.5 -0.132602 0.447317 -0.25979 0.353553 -0.353553 \nC 0.25979 -0.447317 0.132602 -0.5 0 -0.5 \nC -0.132602 -0.5 -0.25979 -0.447317 -0.353553 -0.353553 \nC -0.447317 -0.25979 -0.5 -0.132602 -0.5 0 \nC -0.5 0.132602 -0.447317 0.25979 -0.353553 0.353553 \nC -0.25979 0.447317 -0.132602 0.5 0 0.5 \nz\n\" style=\"stroke: #1f77b4\"/>\n    </defs>\n    <g clip-path=\"url(#p0f4aeebfb6)\">\n     <use xlink:href=\"#m59475243ba\" x=\"129.23245\" y=\"76.659695\" style=\"fill: #1f77b4; stroke: #1f77b4\"/>\n     <use xlink:href=\"#m59475243ba\" x=\"109.271581\" y=\"51.758295\" style=\"fill: #1f77b4; stroke: #1f77b4\"/>\n     <use xlink:href=\"#m59475243ba\" x=\"77.328114\" y=\"55.717519\" style=\"fill: #1f77b4; stroke: #1f77b4\"/>\n     <use xlink:href=\"#m59475243ba\" x=\"109.442041\" y=\"66.628372\" style=\"fill: #1f77b4; stroke: #1f77b4\"/>\n     <use xlink:href=\"#m59475243ba\" x=\"156.543971\" y=\"92.181989\" style=\"fill: #1f77b4; stroke: #1f77b4\"/>\n     <use xlink:href=\"#m59475243ba\" x=\"160.075282\" y=\"105.56668\" style=\"fill: #1f77b4; stroke: #1f77b4\"/>\n     <use xlink:href=\"#m59475243ba\" x=\"118.931152\" y=\"61.893049\" style=\"fill: #1f77b4; stroke: #1f77b4\"/>\n     <use xlink:href=\"#m59475243ba\" x=\"129.953062\" y=\"68.2037\" style=\"fill: #1f77b4; stroke: #1f77b4\"/>\n     <use xlink:href=\"#m59475243ba\" x=\"118.148751\" y=\"62.721258\" style=\"fill: #1f77b4; stroke: #1f77b4\"/>\n     <use xlink:href=\"#m59475243ba\" x=\"139.707642\" y=\"72.809431\" style=\"fill: #1f77b4; stroke: #1f77b4\"/>\n     <use xlink:href=\"#m59475243ba\" x=\"162.233669\" y=\"92.245068\" style=\"fill: #1f77b4; stroke: #1f77b4\"/>\n     <use xlink:href=\"#m59475243ba\" x=\"123.843637\" y=\"86.473285\" style=\"fill: #1f77b4; stroke: #1f77b4\"/>\n     <use xlink:href=\"#m59475243ba\" x=\"124.853268\" y=\"73.255849\" style=\"fill: #1f77b4; stroke: #1f77b4\"/>\n     <use xlink:href=\"#m59475243ba\" x=\"221.727415\" y=\"139.5\" style=\"fill: #1f77b4; stroke: #1f77b4\"/>\n     <use xlink:href=\"#m59475243ba\" x=\"79.128529\" y=\"39.707534\" style=\"fill: #1f77b4; stroke: #1f77b4\"/>\n     <use xlink:href=\"#m59475243ba\" x=\"111.511686\" y=\"63.23169\" style=\"fill: #1f77b4; stroke: #1f77b4\"/>\n     <use xlink:href=\"#m59475243ba\" x=\"137.023164\" y=\"92.210738\" style=\"fill: #1f77b4; stroke: #1f77b4\"/>\n     <use xlink:href=\"#m59475243ba\" x=\"154.621121\" y=\"108.271656\" style=\"fill: #1f77b4; stroke: #1f77b4\"/>\n     <use xlink:href=\"#m59475243ba\" x=\"105.734034\" y=\"49.225674\" style=\"fill: #1f77b4; stroke: #1f77b4\"/>\n     <use xlink:href=\"#m59475243ba\" x=\"117.960968\" y=\"61.746915\" style=\"fill: #1f77b4; stroke: #1f77b4\"/>\n     <use xlink:href=\"#m59475243ba\" x=\"71.254154\" y=\"45.992711\" style=\"fill: #1f77b4; stroke: #1f77b4\"/>\n     <use xlink:href=\"#m59475243ba\" x=\"138.35349\" y=\"86.937989\" style=\"fill: #1f77b4; stroke: #1f77b4\"/>\n     <use xlink:href=\"#m59475243ba\" x=\"126.632895\" y=\"72.682216\" style=\"fill: #1f77b4; stroke: #1f77b4\"/>\n     <use xlink:href=\"#m59475243ba\" x=\"111.149711\" y=\"77.936216\" style=\"fill: #1f77b4; stroke: #1f77b4\"/>\n     <use xlink:href=\"#m59475243ba\" x=\"92.390261\" y=\"55.652217\" style=\"fill: #1f77b4; stroke: #1f77b4\"/>\n     <use xlink:href=\"#m59475243ba\" x=\"90.6628\" y=\"56.643271\" style=\"fill: #1f77b4; stroke: #1f77b4\"/>\n     <use xlink:href=\"#m59475243ba\" x=\"157.913825\" y=\"84.253575\" style=\"fill: #1f77b4; stroke: #1f77b4\"/>\n     <use xlink:href=\"#m59475243ba\" x=\"148.51951\" y=\"79.967894\" style=\"fill: #1f77b4; stroke: #1f77b4\"/>\n     <use xlink:href=\"#m59475243ba\" x=\"126.133452\" y=\"75.078177\" style=\"fill: #1f77b4; stroke: #1f77b4\"/>\n     <use xlink:href=\"#m59475243ba\" x=\"128.85307\" y=\"78.459487\" style=\"fill: #1f77b4; stroke: #1f77b4\"/>\n     <use xlink:href=\"#m59475243ba\" x=\"129.947105\" y=\"72.901254\" style=\"fill: #1f77b4; stroke: #1f77b4\"/>\n     <use xlink:href=\"#m59475243ba\" x=\"143.567321\" y=\"94.355853\" style=\"fill: #1f77b4; stroke: #1f77b4\"/>\n     <use xlink:href=\"#m59475243ba\" x=\"160.977967\" y=\"94.523544\" style=\"fill: #1f77b4; stroke: #1f77b4\"/>\n     <use xlink:href=\"#m59475243ba\" x=\"136.160795\" y=\"77.619982\" style=\"fill: #1f77b4; stroke: #1f77b4\"/>\n     <use xlink:href=\"#m59475243ba\" x=\"121.8201\" y=\"72.025888\" style=\"fill: #1f77b4; stroke: #1f77b4\"/>\n     <use xlink:href=\"#m59475243ba\" x=\"143.422408\" y=\"77.453084\" style=\"fill: #1f77b4; stroke: #1f77b4\"/>\n     <use xlink:href=\"#m59475243ba\" x=\"58.00512\" y=\"23.275976\" style=\"fill: #1f77b4; stroke: #1f77b4\"/>\n     <use xlink:href=\"#m59475243ba\" x=\"199.521194\" y=\"118.020621\" style=\"fill: #1f77b4; stroke: #1f77b4\"/>\n     <use xlink:href=\"#m59475243ba\" x=\"130.247474\" y=\"53.278452\" style=\"fill: #1f77b4; stroke: #1f77b4\"/>\n     <use xlink:href=\"#m59475243ba\" x=\"132.481533\" y=\"91.424844\" style=\"fill: #1f77b4; stroke: #1f77b4\"/>\n     <use xlink:href=\"#m59475243ba\" x=\"121.492485\" y=\"49.109521\" style=\"fill: #1f77b4; stroke: #1f77b4\"/>\n     <use xlink:href=\"#m59475243ba\" x=\"153.885905\" y=\"86.411505\" style=\"fill: #1f77b4; stroke: #1f77b4\"/>\n     <use xlink:href=\"#m59475243ba\" x=\"130.79559\" y=\"71.814965\" style=\"fill: #1f77b4; stroke: #1f77b4\"/>\n     <use xlink:href=\"#m59475243ba\" x=\"167.405472\" y=\"98.705435\" style=\"fill: #1f77b4; stroke: #1f77b4\"/>\n     <use xlink:href=\"#m59475243ba\" x=\"138.179411\" y=\"65.279648\" style=\"fill: #1f77b4; stroke: #1f77b4\"/>\n     <use xlink:href=\"#m59475243ba\" x=\"83.762032\" y=\"45.078518\" style=\"fill: #1f77b4; stroke: #1f77b4\"/>\n     <use xlink:href=\"#m59475243ba\" x=\"101.970391\" y=\"48.544269\" style=\"fill: #1f77b4; stroke: #1f77b4\"/>\n     <use xlink:href=\"#m59475243ba\" x=\"164.986628\" y=\"100.697299\" style=\"fill: #1f77b4; stroke: #1f77b4\"/>\n     <use xlink:href=\"#m59475243ba\" x=\"63.48333\" y=\"31.594071\" style=\"fill: #1f77b4; stroke: #1f77b4\"/>\n     <use xlink:href=\"#m59475243ba\" x=\"164.56338\" y=\"81.845845\" style=\"fill: #1f77b4; stroke: #1f77b4\"/>\n     <use xlink:href=\"#m59475243ba\" x=\"113.440493\" y=\"74.37023\" style=\"fill: #1f77b4; stroke: #1f77b4\"/>\n     <use xlink:href=\"#m59475243ba\" x=\"155.967109\" y=\"101.692063\" style=\"fill: #1f77b4; stroke: #1f77b4\"/>\n     <use xlink:href=\"#m59475243ba\" x=\"158.419834\" y=\"93.260521\" style=\"fill: #1f77b4; stroke: #1f77b4\"/>\n     <use xlink:href=\"#m59475243ba\" x=\"95.72875\" y=\"47.289215\" style=\"fill: #1f77b4; stroke: #1f77b4\"/>\n     <use xlink:href=\"#m59475243ba\" x=\"128.340917\" y=\"66.498796\" style=\"fill: #1f77b4; stroke: #1f77b4\"/>\n     <use xlink:href=\"#m59475243ba\" x=\"130.804871\" y=\"71.411463\" style=\"fill: #1f77b4; stroke: #1f77b4\"/>\n     <use xlink:href=\"#m59475243ba\" x=\"139.095366\" y=\"91.283484\" style=\"fill: #1f77b4; stroke: #1f77b4\"/>\n     <use xlink:href=\"#m59475243ba\" x=\"137.989\" y=\"92.202566\" style=\"fill: #1f77b4; stroke: #1f77b4\"/>\n     <use xlink:href=\"#m59475243ba\" x=\"126.503736\" y=\"63.436538\" style=\"fill: #1f77b4; stroke: #1f77b4\"/>\n     <use xlink:href=\"#m59475243ba\" x=\"165.391492\" y=\"98.066667\" style=\"fill: #1f77b4; stroke: #1f77b4\"/>\n     <use xlink:href=\"#m59475243ba\" x=\"160.541192\" y=\"103.021572\" style=\"fill: #1f77b4; stroke: #1f77b4\"/>\n     <use xlink:href=\"#m59475243ba\" x=\"88.128301\" y=\"43.655869\" style=\"fill: #1f77b4; stroke: #1f77b4\"/>\n     <use xlink:href=\"#m59475243ba\" x=\"71.128444\" y=\"58.380178\" style=\"fill: #1f77b4; stroke: #1f77b4\"/>\n     <use xlink:href=\"#m59475243ba\" x=\"108.803842\" y=\"74.897805\" style=\"fill: #1f77b4; stroke: #1f77b4\"/>\n     <use xlink:href=\"#m59475243ba\" x=\"120.532844\" y=\"74.87927\" style=\"fill: #1f77b4; stroke: #1f77b4\"/>\n     <use xlink:href=\"#m59475243ba\" x=\"93.106861\" y=\"46.633779\" style=\"fill: #1f77b4; stroke: #1f77b4\"/>\n     <use xlink:href=\"#m59475243ba\" x=\"130.222154\" y=\"86.454592\" style=\"fill: #1f77b4; stroke: #1f77b4\"/>\n     <use xlink:href=\"#m59475243ba\" x=\"121.711788\" y=\"69.6347\" style=\"fill: #1f77b4; stroke: #1f77b4\"/>\n     <use xlink:href=\"#m59475243ba\" x=\"123.441176\" y=\"80.052744\" style=\"fill: #1f77b4; stroke: #1f77b4\"/>\n     <use xlink:href=\"#m59475243ba\" x=\"145.491722\" y=\"77.964144\" style=\"fill: #1f77b4; stroke: #1f77b4\"/>\n     <use xlink:href=\"#m59475243ba\" x=\"113.804466\" y=\"61.883551\" style=\"fill: #1f77b4; stroke: #1f77b4\"/>\n     <use xlink:href=\"#m59475243ba\" x=\"118.322355\" y=\"61.846942\" style=\"fill: #1f77b4; stroke: #1f77b4\"/>\n     <use xlink:href=\"#m59475243ba\" x=\"114.12562\" y=\"43.36436\" style=\"fill: #1f77b4; stroke: #1f77b4\"/>\n     <use xlink:href=\"#m59475243ba\" x=\"100.378915\" y=\"38.880134\" style=\"fill: #1f77b4; stroke: #1f77b4\"/>\n     <use xlink:href=\"#m59475243ba\" x=\"118.648712\" y=\"78.491582\" style=\"fill: #1f77b4; stroke: #1f77b4\"/>\n     <use xlink:href=\"#m59475243ba\" x=\"142.012032\" y=\"90.756828\" style=\"fill: #1f77b4; stroke: #1f77b4\"/>\n     <use xlink:href=\"#m59475243ba\" x=\"113.877146\" y=\"67.56764\" style=\"fill: #1f77b4; stroke: #1f77b4\"/>\n     <use xlink:href=\"#m59475243ba\" x=\"81.038517\" y=\"38.233987\" style=\"fill: #1f77b4; stroke: #1f77b4\"/>\n     <use xlink:href=\"#m59475243ba\" x=\"147.793209\" y=\"87.290072\" style=\"fill: #1f77b4; stroke: #1f77b4\"/>\n     <use xlink:href=\"#m59475243ba\" x=\"127.154835\" y=\"43.676787\" style=\"fill: #1f77b4; stroke: #1f77b4\"/>\n     <use xlink:href=\"#m59475243ba\" x=\"187.647913\" y=\"95.103891\" style=\"fill: #1f77b4; stroke: #1f77b4\"/>\n     <use xlink:href=\"#m59475243ba\" x=\"124.677077\" y=\"64.697481\" style=\"fill: #1f77b4; stroke: #1f77b4\"/>\n     <use xlink:href=\"#m59475243ba\" x=\"141.846424\" y=\"66.744779\" style=\"fill: #1f77b4; stroke: #1f77b4\"/>\n     <use xlink:href=\"#m59475243ba\" x=\"140.192568\" y=\"88.629519\" style=\"fill: #1f77b4; stroke: #1f77b4\"/>\n     <use xlink:href=\"#m59475243ba\" x=\"135.623421\" y=\"77.085254\" style=\"fill: #1f77b4; stroke: #1f77b4\"/>\n     <use xlink:href=\"#m59475243ba\" x=\"127.345255\" y=\"73.098547\" style=\"fill: #1f77b4; stroke: #1f77b4\"/>\n     <use xlink:href=\"#m59475243ba\" x=\"115.66684\" y=\"62.592013\" style=\"fill: #1f77b4; stroke: #1f77b4\"/>\n     <use xlink:href=\"#m59475243ba\" x=\"175.015027\" y=\"103.746664\" style=\"fill: #1f77b4; stroke: #1f77b4\"/>\n     <use xlink:href=\"#m59475243ba\" x=\"165.317401\" y=\"83.40429\" style=\"fill: #1f77b4; stroke: #1f77b4\"/>\n     <use xlink:href=\"#m59475243ba\" x=\"134.748644\" y=\"77.791046\" style=\"fill: #1f77b4; stroke: #1f77b4\"/>\n     <use xlink:href=\"#m59475243ba\" x=\"104.36576\" y=\"54.430472\" style=\"fill: #1f77b4; stroke: #1f77b4\"/>\n     <use xlink:href=\"#m59475243ba\" x=\"132.240496\" y=\"83.840664\" style=\"fill: #1f77b4; stroke: #1f77b4\"/>\n     <use xlink:href=\"#m59475243ba\" x=\"183.721781\" y=\"113.255649\" style=\"fill: #1f77b4; stroke: #1f77b4\"/>\n     <use xlink:href=\"#m59475243ba\" x=\"133.958552\" y=\"77.31515\" style=\"fill: #1f77b4; stroke: #1f77b4\"/>\n     <use xlink:href=\"#m59475243ba\" x=\"139.175566\" y=\"91.540699\" style=\"fill: #1f77b4; stroke: #1f77b4\"/>\n     <use xlink:href=\"#m59475243ba\" x=\"120.991491\" y=\"78.1945\" style=\"fill: #1f77b4; stroke: #1f77b4\"/>\n     <use xlink:href=\"#m59475243ba\" x=\"128.381714\" y=\"75.413196\" style=\"fill: #1f77b4; stroke: #1f77b4\"/>\n     <use xlink:href=\"#m59475243ba\" x=\"170.55154\" y=\"99.044004\" style=\"fill: #1f77b4; stroke: #1f77b4\"/>\n     <use xlink:href=\"#m59475243ba\" x=\"90.901886\" y=\"57.631358\" style=\"fill: #1f77b4; stroke: #1f77b4\"/>\n     <use xlink:href=\"#m59475243ba\" x=\"159.817261\" y=\"82.198934\" style=\"fill: #1f77b4; stroke: #1f77b4\"/>\n     <use xlink:href=\"#m59475243ba\" x=\"102.997187\" y=\"57.555858\" style=\"fill: #1f77b4; stroke: #1f77b4\"/>\n     <use xlink:href=\"#m59475243ba\" x=\"105.131422\" y=\"52.755692\" style=\"fill: #1f77b4; stroke: #1f77b4\"/>\n     <use xlink:href=\"#m59475243ba\" x=\"88.088706\" y=\"42.126934\" style=\"fill: #1f77b4; stroke: #1f77b4\"/>\n     <use xlink:href=\"#m59475243ba\" x=\"146.617323\" y=\"82.40377\" style=\"fill: #1f77b4; stroke: #1f77b4\"/>\n     <use xlink:href=\"#m59475243ba\" x=\"172.029697\" y=\"95.953725\" style=\"fill: #1f77b4; stroke: #1f77b4\"/>\n     <use xlink:href=\"#m59475243ba\" x=\"155.217379\" y=\"89.132198\" style=\"fill: #1f77b4; stroke: #1f77b4\"/>\n     <use xlink:href=\"#m59475243ba\" x=\"128.23578\" y=\"62.367461\" style=\"fill: #1f77b4; stroke: #1f77b4\"/>\n     <use xlink:href=\"#m59475243ba\" x=\"106.543754\" y=\"54.175701\" style=\"fill: #1f77b4; stroke: #1f77b4\"/>\n     <use xlink:href=\"#m59475243ba\" x=\"186.78007\" y=\"105.052897\" style=\"fill: #1f77b4; stroke: #1f77b4\"/>\n     <use xlink:href=\"#m59475243ba\" x=\"144.7246\" y=\"81.438617\" style=\"fill: #1f77b4; stroke: #1f77b4\"/>\n     <use xlink:href=\"#m59475243ba\" x=\"109.205379\" y=\"65.584844\" style=\"fill: #1f77b4; stroke: #1f77b4\"/>\n     <use xlink:href=\"#m59475243ba\" x=\"100.9668\" y=\"50.074868\" style=\"fill: #1f77b4; stroke: #1f77b4\"/>\n     <use xlink:href=\"#m59475243ba\" x=\"95.612312\" y=\"78.294222\" style=\"fill: #1f77b4; stroke: #1f77b4\"/>\n     <use xlink:href=\"#m59475243ba\" x=\"128.718111\" y=\"61.249087\" style=\"fill: #1f77b4; stroke: #1f77b4\"/>\n     <use xlink:href=\"#m59475243ba\" x=\"100.439779\" y=\"50.202117\" style=\"fill: #1f77b4; stroke: #1f77b4\"/>\n     <use xlink:href=\"#m59475243ba\" x=\"168.352334\" y=\"115.076956\" style=\"fill: #1f77b4; stroke: #1f77b4\"/>\n     <use xlink:href=\"#m59475243ba\" x=\"134.522226\" y=\"68.836347\" style=\"fill: #1f77b4; stroke: #1f77b4\"/>\n     <use xlink:href=\"#m59475243ba\" x=\"88.084173\" y=\"36.416299\" style=\"fill: #1f77b4; stroke: #1f77b4\"/>\n     <use xlink:href=\"#m59475243ba\" x=\"90.788547\" y=\"61.943864\" style=\"fill: #1f77b4; stroke: #1f77b4\"/>\n     <use xlink:href=\"#m59475243ba\" x=\"123.14886\" y=\"62.35071\" style=\"fill: #1f77b4; stroke: #1f77b4\"/>\n     <use xlink:href=\"#m59475243ba\" x=\"200.674405\" y=\"128.536919\" style=\"fill: #1f77b4; stroke: #1f77b4\"/>\n     <use xlink:href=\"#m59475243ba\" x=\"110.312184\" y=\"63.815474\" style=\"fill: #1f77b4; stroke: #1f77b4\"/>\n     <use xlink:href=\"#m59475243ba\" x=\"127.527736\" y=\"71.421828\" style=\"fill: #1f77b4; stroke: #1f77b4\"/>\n     <use xlink:href=\"#m59475243ba\" x=\"142.861776\" y=\"84.658083\" style=\"fill: #1f77b4; stroke: #1f77b4\"/>\n     <use xlink:href=\"#m59475243ba\" x=\"92.085278\" y=\"38.201831\" style=\"fill: #1f77b4; stroke: #1f77b4\"/>\n     <use xlink:href=\"#m59475243ba\" x=\"130.390151\" y=\"75.650256\" style=\"fill: #1f77b4; stroke: #1f77b4\"/>\n     <use xlink:href=\"#m59475243ba\" x=\"149.530921\" y=\"89.749089\" style=\"fill: #1f77b4; stroke: #1f77b4\"/>\n     <use xlink:href=\"#m59475243ba\" x=\"176.745515\" y=\"97.221543\" style=\"fill: #1f77b4; stroke: #1f77b4\"/>\n     <use xlink:href=\"#m59475243ba\" x=\"133.57896\" y=\"87.011027\" style=\"fill: #1f77b4; stroke: #1f77b4\"/>\n     <use xlink:href=\"#m59475243ba\" x=\"82.369833\" y=\"45.892099\" style=\"fill: #1f77b4; stroke: #1f77b4\"/>\n     <use xlink:href=\"#m59475243ba\" x=\"106.886607\" y=\"49.983808\" style=\"fill: #1f77b4; stroke: #1f77b4\"/>\n     <use xlink:href=\"#m59475243ba\" x=\"97.301369\" y=\"44.768842\" style=\"fill: #1f77b4; stroke: #1f77b4\"/>\n     <use xlink:href=\"#m59475243ba\" x=\"122.123969\" y=\"62.645997\" style=\"fill: #1f77b4; stroke: #1f77b4\"/>\n     <use xlink:href=\"#m59475243ba\" x=\"158.947999\" y=\"93.279348\" style=\"fill: #1f77b4; stroke: #1f77b4\"/>\n     <use xlink:href=\"#m59475243ba\" x=\"166.03607\" y=\"110.93735\" style=\"fill: #1f77b4; stroke: #1f77b4\"/>\n     <use xlink:href=\"#m59475243ba\" x=\"149.546511\" y=\"99.057073\" style=\"fill: #1f77b4; stroke: #1f77b4\"/>\n     <use xlink:href=\"#m59475243ba\" x=\"79.78433\" y=\"47.201414\" style=\"fill: #1f77b4; stroke: #1f77b4\"/>\n     <use xlink:href=\"#m59475243ba\" x=\"155.914794\" y=\"87.432859\" style=\"fill: #1f77b4; stroke: #1f77b4\"/>\n     <use xlink:href=\"#m59475243ba\" x=\"59.168646\" y=\"16.720873\" style=\"fill: #1f77b4; stroke: #1f77b4\"/>\n     <use xlink:href=\"#m59475243ba\" x=\"107.93701\" y=\"65.295045\" style=\"fill: #1f77b4; stroke: #1f77b4\"/>\n     <use xlink:href=\"#m59475243ba\" x=\"121.202468\" y=\"68.939761\" style=\"fill: #1f77b4; stroke: #1f77b4\"/>\n     <use xlink:href=\"#m59475243ba\" x=\"119.771681\" y=\"66.045768\" style=\"fill: #1f77b4; stroke: #1f77b4\"/>\n     <use xlink:href=\"#m59475243ba\" x=\"98.439576\" y=\"40.327725\" style=\"fill: #1f77b4; stroke: #1f77b4\"/>\n     <use xlink:href=\"#m59475243ba\" x=\"110.117567\" y=\"68.100554\" style=\"fill: #1f77b4; stroke: #1f77b4\"/>\n     <use xlink:href=\"#m59475243ba\" x=\"130.548838\" y=\"93.766241\" style=\"fill: #1f77b4; stroke: #1f77b4\"/>\n     <use xlink:href=\"#m59475243ba\" x=\"126.875047\" y=\"79.549951\" style=\"fill: #1f77b4; stroke: #1f77b4\"/>\n     <use xlink:href=\"#m59475243ba\" x=\"134.048122\" y=\"67.319764\" style=\"fill: #1f77b4; stroke: #1f77b4\"/>\n     <use xlink:href=\"#m59475243ba\" x=\"101.461369\" y=\"49.209743\" style=\"fill: #1f77b4; stroke: #1f77b4\"/>\n     <use xlink:href=\"#m59475243ba\" x=\"98.922757\" y=\"62.444389\" style=\"fill: #1f77b4; stroke: #1f77b4\"/>\n     <use xlink:href=\"#m59475243ba\" x=\"60.154488\" y=\"32.927819\" style=\"fill: #1f77b4; stroke: #1f77b4\"/>\n     <use xlink:href=\"#m59475243ba\" x=\"107.411485\" y=\"45.717812\" style=\"fill: #1f77b4; stroke: #1f77b4\"/>\n     <use xlink:href=\"#m59475243ba\" x=\"115.591055\" y=\"62.239126\" style=\"fill: #1f77b4; stroke: #1f77b4\"/>\n     <use xlink:href=\"#m59475243ba\" x=\"105.465596\" y=\"60.619612\" style=\"fill: #1f77b4; stroke: #1f77b4\"/>\n     <use xlink:href=\"#m59475243ba\" x=\"91.700341\" y=\"47.452219\" style=\"fill: #1f77b4; stroke: #1f77b4\"/>\n     <use xlink:href=\"#m59475243ba\" x=\"171.611934\" y=\"96.272903\" style=\"fill: #1f77b4; stroke: #1f77b4\"/>\n     <use xlink:href=\"#m59475243ba\" x=\"130.874061\" y=\"76.917988\" style=\"fill: #1f77b4; stroke: #1f77b4\"/>\n     <use xlink:href=\"#m59475243ba\" x=\"121.988124\" y=\"73.322375\" style=\"fill: #1f77b4; stroke: #1f77b4\"/>\n     <use xlink:href=\"#m59475243ba\" x=\"124.783967\" y=\"69.446288\" style=\"fill: #1f77b4; stroke: #1f77b4\"/>\n     <use xlink:href=\"#m59475243ba\" x=\"94.96139\" y=\"51.689216\" style=\"fill: #1f77b4; stroke: #1f77b4\"/>\n     <use xlink:href=\"#m59475243ba\" x=\"134.022884\" y=\"69.28779\" style=\"fill: #1f77b4; stroke: #1f77b4\"/>\n     <use xlink:href=\"#m59475243ba\" x=\"132.793315\" y=\"92.69878\" style=\"fill: #1f77b4; stroke: #1f77b4\"/>\n     <use xlink:href=\"#m59475243ba\" x=\"129.700555\" y=\"61.617814\" style=\"fill: #1f77b4; stroke: #1f77b4\"/>\n     <use xlink:href=\"#m59475243ba\" x=\"134.47338\" y=\"84.519419\" style=\"fill: #1f77b4; stroke: #1f77b4\"/>\n     <use xlink:href=\"#m59475243ba\" x=\"120.655517\" y=\"76.310421\" style=\"fill: #1f77b4; stroke: #1f77b4\"/>\n     <use xlink:href=\"#m59475243ba\" x=\"110.237327\" y=\"49.70521\" style=\"fill: #1f77b4; stroke: #1f77b4\"/>\n     <use xlink:href=\"#m59475243ba\" x=\"107.107936\" y=\"64.041772\" style=\"fill: #1f77b4; stroke: #1f77b4\"/>\n     <use xlink:href=\"#m59475243ba\" x=\"146.582213\" y=\"77.953713\" style=\"fill: #1f77b4; stroke: #1f77b4\"/>\n     <use xlink:href=\"#m59475243ba\" x=\"139.373125\" y=\"89.478581\" style=\"fill: #1f77b4; stroke: #1f77b4\"/>\n     <use xlink:href=\"#m59475243ba\" x=\"139.929388\" y=\"93.570191\" style=\"fill: #1f77b4; stroke: #1f77b4\"/>\n     <use xlink:href=\"#m59475243ba\" x=\"106.519464\" y=\"44.833777\" style=\"fill: #1f77b4; stroke: #1f77b4\"/>\n     <use xlink:href=\"#m59475243ba\" x=\"120.759119\" y=\"62.375356\" style=\"fill: #1f77b4; stroke: #1f77b4\"/>\n     <use xlink:href=\"#m59475243ba\" x=\"126.504042\" y=\"63.906949\" style=\"fill: #1f77b4; stroke: #1f77b4\"/>\n     <use xlink:href=\"#m59475243ba\" x=\"140.62076\" y=\"83.186595\" style=\"fill: #1f77b4; stroke: #1f77b4\"/>\n     <use xlink:href=\"#m59475243ba\" x=\"105.696984\" y=\"56.357717\" style=\"fill: #1f77b4; stroke: #1f77b4\"/>\n     <use xlink:href=\"#m59475243ba\" x=\"151.230916\" y=\"98.324216\" style=\"fill: #1f77b4; stroke: #1f77b4\"/>\n     <use xlink:href=\"#m59475243ba\" x=\"145.738586\" y=\"93.668282\" style=\"fill: #1f77b4; stroke: #1f77b4\"/>\n     <use xlink:href=\"#m59475243ba\" x=\"112.532732\" y=\"64.539449\" style=\"fill: #1f77b4; stroke: #1f77b4\"/>\n     <use xlink:href=\"#m59475243ba\" x=\"141.286054\" y=\"60.945777\" style=\"fill: #1f77b4; stroke: #1f77b4\"/>\n     <use xlink:href=\"#m59475243ba\" x=\"137.914726\" y=\"73.982775\" style=\"fill: #1f77b4; stroke: #1f77b4\"/>\n     <use xlink:href=\"#m59475243ba\" x=\"133.41598\" y=\"86.650016\" style=\"fill: #1f77b4; stroke: #1f77b4\"/>\n     <use xlink:href=\"#m59475243ba\" x=\"135.846852\" y=\"94.03287\" style=\"fill: #1f77b4; stroke: #1f77b4\"/>\n     <use xlink:href=\"#m59475243ba\" x=\"107.553152\" y=\"61.101296\" style=\"fill: #1f77b4; stroke: #1f77b4\"/>\n     <use xlink:href=\"#m59475243ba\" x=\"115.44146\" y=\"56.94687\" style=\"fill: #1f77b4; stroke: #1f77b4\"/>\n     <use xlink:href=\"#m59475243ba\" x=\"151.500957\" y=\"87.349243\" style=\"fill: #1f77b4; stroke: #1f77b4\"/>\n     <use xlink:href=\"#m59475243ba\" x=\"119.104785\" y=\"60.608835\" style=\"fill: #1f77b4; stroke: #1f77b4\"/>\n     <use xlink:href=\"#m59475243ba\" x=\"102.8097\" y=\"62.000316\" style=\"fill: #1f77b4; stroke: #1f77b4\"/>\n     <use xlink:href=\"#m59475243ba\" x=\"107.589618\" y=\"55.706121\" style=\"fill: #1f77b4; stroke: #1f77b4\"/>\n     <use xlink:href=\"#m59475243ba\" x=\"147.656189\" y=\"78.034051\" style=\"fill: #1f77b4; stroke: #1f77b4\"/>\n     <use xlink:href=\"#m59475243ba\" x=\"84.112902\" y=\"37.384249\" style=\"fill: #1f77b4; stroke: #1f77b4\"/>\n     <use xlink:href=\"#m59475243ba\" x=\"111.242403\" y=\"68.756713\" style=\"fill: #1f77b4; stroke: #1f77b4\"/>\n     <use xlink:href=\"#m59475243ba\" x=\"140.937938\" y=\"83.344693\" style=\"fill: #1f77b4; stroke: #1f77b4\"/>\n     <use xlink:href=\"#m59475243ba\" x=\"103.699641\" y=\"49.273065\" style=\"fill: #1f77b4; stroke: #1f77b4\"/>\n     <use xlink:href=\"#m59475243ba\" x=\"121.512109\" y=\"66.509856\" style=\"fill: #1f77b4; stroke: #1f77b4\"/>\n     <use xlink:href=\"#m59475243ba\" x=\"138.931012\" y=\"76.403762\" style=\"fill: #1f77b4; stroke: #1f77b4\"/>\n     <use xlink:href=\"#m59475243ba\" x=\"136.868074\" y=\"76.405559\" style=\"fill: #1f77b4; stroke: #1f77b4\"/>\n     <use xlink:href=\"#m59475243ba\" x=\"153.426404\" y=\"88.290744\" style=\"fill: #1f77b4; stroke: #1f77b4\"/>\n     <use xlink:href=\"#m59475243ba\" x=\"124.979696\" y=\"81.798437\" style=\"fill: #1f77b4; stroke: #1f77b4\"/>\n     <use xlink:href=\"#m59475243ba\" x=\"95.867105\" y=\"54.41521\" style=\"fill: #1f77b4; stroke: #1f77b4\"/>\n     <use xlink:href=\"#m59475243ba\" x=\"144.008047\" y=\"78.656234\" style=\"fill: #1f77b4; stroke: #1f77b4\"/>\n     <use xlink:href=\"#m59475243ba\" x=\"170.367873\" y=\"87.446732\" style=\"fill: #1f77b4; stroke: #1f77b4\"/>\n     <use xlink:href=\"#m59475243ba\" x=\"110.799711\" y=\"67.815515\" style=\"fill: #1f77b4; stroke: #1f77b4\"/>\n     <use xlink:href=\"#m59475243ba\" x=\"126.912292\" y=\"66.764416\" style=\"fill: #1f77b4; stroke: #1f77b4\"/>\n     <use xlink:href=\"#m59475243ba\" x=\"118.110809\" y=\"65.688277\" style=\"fill: #1f77b4; stroke: #1f77b4\"/>\n     <use xlink:href=\"#m59475243ba\" x=\"118.012367\" y=\"62.895078\" style=\"fill: #1f77b4; stroke: #1f77b4\"/>\n     <use xlink:href=\"#m59475243ba\" x=\"125.349726\" y=\"86.077216\" style=\"fill: #1f77b4; stroke: #1f77b4\"/>\n     <use xlink:href=\"#m59475243ba\" x=\"88.024716\" y=\"50.784648\" style=\"fill: #1f77b4; stroke: #1f77b4\"/>\n     <use xlink:href=\"#m59475243ba\" x=\"127.388745\" y=\"66.538623\" style=\"fill: #1f77b4; stroke: #1f77b4\"/>\n     <use xlink:href=\"#m59475243ba\" x=\"108.499534\" y=\"73.744359\" style=\"fill: #1f77b4; stroke: #1f77b4\"/>\n     <use xlink:href=\"#m59475243ba\" x=\"111.472784\" y=\"75.640897\" style=\"fill: #1f77b4; stroke: #1f77b4\"/>\n     <use xlink:href=\"#m59475243ba\" x=\"127.98618\" y=\"70.790485\" style=\"fill: #1f77b4; stroke: #1f77b4\"/>\n     <use xlink:href=\"#m59475243ba\" x=\"130.053833\" y=\"67.525304\" style=\"fill: #1f77b4; stroke: #1f77b4\"/>\n     <use xlink:href=\"#m59475243ba\" x=\"186.734465\" y=\"95.256976\" style=\"fill: #1f77b4; stroke: #1f77b4\"/>\n     <use xlink:href=\"#m59475243ba\" x=\"134.133481\" y=\"74.688475\" style=\"fill: #1f77b4; stroke: #1f77b4\"/>\n     <use xlink:href=\"#m59475243ba\" x=\"113.790344\" y=\"62.820252\" style=\"fill: #1f77b4; stroke: #1f77b4\"/>\n     <use xlink:href=\"#m59475243ba\" x=\"102.599586\" y=\"50.188106\" style=\"fill: #1f77b4; stroke: #1f77b4\"/>\n     <use xlink:href=\"#m59475243ba\" x=\"125.76463\" y=\"79.366037\" style=\"fill: #1f77b4; stroke: #1f77b4\"/>\n     <use xlink:href=\"#m59475243ba\" x=\"122.239639\" y=\"79.864188\" style=\"fill: #1f77b4; stroke: #1f77b4\"/>\n     <use xlink:href=\"#m59475243ba\" x=\"92.877827\" y=\"44.196389\" style=\"fill: #1f77b4; stroke: #1f77b4\"/>\n     <use xlink:href=\"#m59475243ba\" x=\"119.563336\" y=\"74.578872\" style=\"fill: #1f77b4; stroke: #1f77b4\"/>\n     <use xlink:href=\"#m59475243ba\" x=\"117.866022\" y=\"66.561738\" style=\"fill: #1f77b4; stroke: #1f77b4\"/>\n     <use xlink:href=\"#m59475243ba\" x=\"162.836809\" y=\"109.281822\" style=\"fill: #1f77b4; stroke: #1f77b4\"/>\n     <use xlink:href=\"#m59475243ba\" x=\"153.93479\" y=\"72.454548\" style=\"fill: #1f77b4; stroke: #1f77b4\"/>\n     <use xlink:href=\"#m59475243ba\" x=\"134.726321\" y=\"60.326064\" style=\"fill: #1f77b4; stroke: #1f77b4\"/>\n     <use xlink:href=\"#m59475243ba\" x=\"88.510118\" y=\"41.337135\" style=\"fill: #1f77b4; stroke: #1f77b4\"/>\n     <use xlink:href=\"#m59475243ba\" x=\"98.282051\" y=\"51.141256\" style=\"fill: #1f77b4; stroke: #1f77b4\"/>\n     <use xlink:href=\"#m59475243ba\" x=\"64.14884\" y=\"26.818263\" style=\"fill: #1f77b4; stroke: #1f77b4\"/>\n     <use xlink:href=\"#m59475243ba\" x=\"123.784207\" y=\"84.219433\" style=\"fill: #1f77b4; stroke: #1f77b4\"/>\n     <use xlink:href=\"#m59475243ba\" x=\"101.420009\" y=\"71.629124\" style=\"fill: #1f77b4; stroke: #1f77b4\"/>\n     <use xlink:href=\"#m59475243ba\" x=\"128.036239\" y=\"75.129968\" style=\"fill: #1f77b4; stroke: #1f77b4\"/>\n     <use xlink:href=\"#m59475243ba\" x=\"138.419418\" y=\"83.029633\" style=\"fill: #1f77b4; stroke: #1f77b4\"/>\n     <use xlink:href=\"#m59475243ba\" x=\"97.843259\" y=\"63.630215\" style=\"fill: #1f77b4; stroke: #1f77b4\"/>\n     <use xlink:href=\"#m59475243ba\" x=\"130.585627\" y=\"58.53406\" style=\"fill: #1f77b4; stroke: #1f77b4\"/>\n     <use xlink:href=\"#m59475243ba\" x=\"155.484867\" y=\"82.941871\" style=\"fill: #1f77b4; stroke: #1f77b4\"/>\n     <use xlink:href=\"#m59475243ba\" x=\"109.995294\" y=\"64.070514\" style=\"fill: #1f77b4; stroke: #1f77b4\"/>\n     <use xlink:href=\"#m59475243ba\" x=\"115.471944\" y=\"60.846497\" style=\"fill: #1f77b4; stroke: #1f77b4\"/>\n     <use xlink:href=\"#m59475243ba\" x=\"139.643961\" y=\"83.874044\" style=\"fill: #1f77b4; stroke: #1f77b4\"/>\n     <use xlink:href=\"#m59475243ba\" x=\"153.807541\" y=\"93.643794\" style=\"fill: #1f77b4; stroke: #1f77b4\"/>\n     <use xlink:href=\"#m59475243ba\" x=\"173.246552\" y=\"95.123228\" style=\"fill: #1f77b4; stroke: #1f77b4\"/>\n     <use xlink:href=\"#m59475243ba\" x=\"110.551734\" y=\"61.233341\" style=\"fill: #1f77b4; stroke: #1f77b4\"/>\n     <use xlink:href=\"#m59475243ba\" x=\"166.810819\" y=\"109.89063\" style=\"fill: #1f77b4; stroke: #1f77b4\"/>\n     <use xlink:href=\"#m59475243ba\" x=\"107.517135\" y=\"45.892159\" style=\"fill: #1f77b4; stroke: #1f77b4\"/>\n     <use xlink:href=\"#m59475243ba\" x=\"122.798419\" y=\"67.261722\" style=\"fill: #1f77b4; stroke: #1f77b4\"/>\n     <use xlink:href=\"#m59475243ba\" x=\"127.891478\" y=\"74.529114\" style=\"fill: #1f77b4; stroke: #1f77b4\"/>\n     <use xlink:href=\"#m59475243ba\" x=\"151.609389\" y=\"79.625031\" style=\"fill: #1f77b4; stroke: #1f77b4\"/>\n     <use xlink:href=\"#m59475243ba\" x=\"148.406121\" y=\"78.827712\" style=\"fill: #1f77b4; stroke: #1f77b4\"/>\n     <use xlink:href=\"#m59475243ba\" x=\"103.270448\" y=\"54.614151\" style=\"fill: #1f77b4; stroke: #1f77b4\"/>\n     <use xlink:href=\"#m59475243ba\" x=\"137.637747\" y=\"84.624723\" style=\"fill: #1f77b4; stroke: #1f77b4\"/>\n     <use xlink:href=\"#m59475243ba\" x=\"147.506664\" y=\"92.332023\" style=\"fill: #1f77b4; stroke: #1f77b4\"/>\n     <use xlink:href=\"#m59475243ba\" x=\"104.864046\" y=\"60.561027\" style=\"fill: #1f77b4; stroke: #1f77b4\"/>\n     <use xlink:href=\"#m59475243ba\" x=\"137.496131\" y=\"85.966628\" style=\"fill: #1f77b4; stroke: #1f77b4\"/>\n     <use xlink:href=\"#m59475243ba\" x=\"80.451606\" y=\"48.275911\" style=\"fill: #1f77b4; stroke: #1f77b4\"/>\n     <use xlink:href=\"#m59475243ba\" x=\"148.946527\" y=\"83.634209\" style=\"fill: #1f77b4; stroke: #1f77b4\"/>\n     <use xlink:href=\"#m59475243ba\" x=\"170.663915\" y=\"106.961532\" style=\"fill: #1f77b4; stroke: #1f77b4\"/>\n     <use xlink:href=\"#m59475243ba\" x=\"106.861201\" y=\"65.753084\" style=\"fill: #1f77b4; stroke: #1f77b4\"/>\n     <use xlink:href=\"#m59475243ba\" x=\"117.543148\" y=\"69.948415\" style=\"fill: #1f77b4; stroke: #1f77b4\"/>\n     <use xlink:href=\"#m59475243ba\" x=\"86.552744\" y=\"39.899847\" style=\"fill: #1f77b4; stroke: #1f77b4\"/>\n     <use xlink:href=\"#m59475243ba\" x=\"133.974443\" y=\"68.850782\" style=\"fill: #1f77b4; stroke: #1f77b4\"/>\n     <use xlink:href=\"#m59475243ba\" x=\"125.444503\" y=\"63.916455\" style=\"fill: #1f77b4; stroke: #1f77b4\"/>\n     <use xlink:href=\"#m59475243ba\" x=\"112.132752\" y=\"57.206827\" style=\"fill: #1f77b4; stroke: #1f77b4\"/>\n     <use xlink:href=\"#m59475243ba\" x=\"133.689609\" y=\"82.611227\" style=\"fill: #1f77b4; stroke: #1f77b4\"/>\n     <use xlink:href=\"#m59475243ba\" x=\"94.246991\" y=\"37.745161\" style=\"fill: #1f77b4; stroke: #1f77b4\"/>\n     <use xlink:href=\"#m59475243ba\" x=\"101.015522\" y=\"55.949097\" style=\"fill: #1f77b4; stroke: #1f77b4\"/>\n     <use xlink:href=\"#m59475243ba\" x=\"147.503533\" y=\"92.469086\" style=\"fill: #1f77b4; stroke: #1f77b4\"/>\n     <use xlink:href=\"#m59475243ba\" x=\"168.455202\" y=\"106.587917\" style=\"fill: #1f77b4; stroke: #1f77b4\"/>\n     <use xlink:href=\"#m59475243ba\" x=\"118.605676\" y=\"77.027314\" style=\"fill: #1f77b4; stroke: #1f77b4\"/>\n     <use xlink:href=\"#m59475243ba\" x=\"135.307211\" y=\"79.726334\" style=\"fill: #1f77b4; stroke: #1f77b4\"/>\n     <use xlink:href=\"#m59475243ba\" x=\"66.27636\" y=\"19.040496\" style=\"fill: #1f77b4; stroke: #1f77b4\"/>\n     <use xlink:href=\"#m59475243ba\" x=\"109.75244\" y=\"69.022759\" style=\"fill: #1f77b4; stroke: #1f77b4\"/>\n     <use xlink:href=\"#m59475243ba\" x=\"148.962777\" y=\"85.332014\" style=\"fill: #1f77b4; stroke: #1f77b4\"/>\n     <use xlink:href=\"#m59475243ba\" x=\"100.016645\" y=\"71.057187\" style=\"fill: #1f77b4; stroke: #1f77b4\"/>\n     <use xlink:href=\"#m59475243ba\" x=\"100.592329\" y=\"72.161213\" style=\"fill: #1f77b4; stroke: #1f77b4\"/>\n     <use xlink:href=\"#m59475243ba\" x=\"118.503775\" y=\"76.993871\" style=\"fill: #1f77b4; stroke: #1f77b4\"/>\n     <use xlink:href=\"#m59475243ba\" x=\"136.989914\" y=\"96.697276\" style=\"fill: #1f77b4; stroke: #1f77b4\"/>\n     <use xlink:href=\"#m59475243ba\" x=\"111.525694\" y=\"62.167934\" style=\"fill: #1f77b4; stroke: #1f77b4\"/>\n     <use xlink:href=\"#m59475243ba\" x=\"189.550245\" y=\"116.335138\" style=\"fill: #1f77b4; stroke: #1f77b4\"/>\n     <use xlink:href=\"#m59475243ba\" x=\"146.706017\" y=\"101.927113\" style=\"fill: #1f77b4; stroke: #1f77b4\"/>\n     <use xlink:href=\"#m59475243ba\" x=\"137.634077\" y=\"85.272934\" style=\"fill: #1f77b4; stroke: #1f77b4\"/>\n     <use xlink:href=\"#m59475243ba\" x=\"160.516509\" y=\"102.191621\" style=\"fill: #1f77b4; stroke: #1f77b4\"/>\n     <use xlink:href=\"#m59475243ba\" x=\"161.120686\" y=\"101.489651\" style=\"fill: #1f77b4; stroke: #1f77b4\"/>\n     <use xlink:href=\"#m59475243ba\" x=\"77.310605\" y=\"49.380941\" style=\"fill: #1f77b4; stroke: #1f77b4\"/>\n     <use xlink:href=\"#m59475243ba\" x=\"165.890556\" y=\"92.411866\" style=\"fill: #1f77b4; stroke: #1f77b4\"/>\n     <use xlink:href=\"#m59475243ba\" x=\"133.530152\" y=\"66.021437\" style=\"fill: #1f77b4; stroke: #1f77b4\"/>\n     <use xlink:href=\"#m59475243ba\" x=\"94.181115\" y=\"63.628288\" style=\"fill: #1f77b4; stroke: #1f77b4\"/>\n     <use xlink:href=\"#m59475243ba\" x=\"114.866344\" y=\"65.799869\" style=\"fill: #1f77b4; stroke: #1f77b4\"/>\n     <use xlink:href=\"#m59475243ba\" x=\"164.972841\" y=\"103.633044\" style=\"fill: #1f77b4; stroke: #1f77b4\"/>\n     <use xlink:href=\"#m59475243ba\" x=\"173.039974\" y=\"98.919805\" style=\"fill: #1f77b4; stroke: #1f77b4\"/>\n     <use xlink:href=\"#m59475243ba\" x=\"111.560737\" y=\"73.267637\" style=\"fill: #1f77b4; stroke: #1f77b4\"/>\n     <use xlink:href=\"#m59475243ba\" x=\"106.407313\" y=\"53.933399\" style=\"fill: #1f77b4; stroke: #1f77b4\"/>\n     <use xlink:href=\"#m59475243ba\" x=\"141.778364\" y=\"77.034941\" style=\"fill: #1f77b4; stroke: #1f77b4\"/>\n     <use xlink:href=\"#m59475243ba\" x=\"169.243218\" y=\"103.82711\" style=\"fill: #1f77b4; stroke: #1f77b4\"/>\n     <use xlink:href=\"#m59475243ba\" x=\"138.448915\" y=\"80.170814\" style=\"fill: #1f77b4; stroke: #1f77b4\"/>\n     <use xlink:href=\"#m59475243ba\" x=\"126.834676\" y=\"82.960968\" style=\"fill: #1f77b4; stroke: #1f77b4\"/>\n     <use xlink:href=\"#m59475243ba\" x=\"89.733568\" y=\"43.804196\" style=\"fill: #1f77b4; stroke: #1f77b4\"/>\n     <use xlink:href=\"#m59475243ba\" x=\"109.638133\" y=\"55.446333\" style=\"fill: #1f77b4; stroke: #1f77b4\"/>\n     <use xlink:href=\"#m59475243ba\" x=\"153.584891\" y=\"83.579038\" style=\"fill: #1f77b4; stroke: #1f77b4\"/>\n     <use xlink:href=\"#m59475243ba\" x=\"151.729311\" y=\"84.762188\" style=\"fill: #1f77b4; stroke: #1f77b4\"/>\n     <use xlink:href=\"#m59475243ba\" x=\"177.58862\" y=\"115.427259\" style=\"fill: #1f77b4; stroke: #1f77b4\"/>\n     <use xlink:href=\"#m59475243ba\" x=\"94.285671\" y=\"50.131957\" style=\"fill: #1f77b4; stroke: #1f77b4\"/>\n     <use xlink:href=\"#m59475243ba\" x=\"133.241592\" y=\"72.886551\" style=\"fill: #1f77b4; stroke: #1f77b4\"/>\n     <use xlink:href=\"#m59475243ba\" x=\"114.668176\" y=\"72.291094\" style=\"fill: #1f77b4; stroke: #1f77b4\"/>\n     <use xlink:href=\"#m59475243ba\" x=\"81.235059\" y=\"37.379707\" style=\"fill: #1f77b4; stroke: #1f77b4\"/>\n     <use xlink:href=\"#m59475243ba\" x=\"123.281402\" y=\"67.199525\" style=\"fill: #1f77b4; stroke: #1f77b4\"/>\n     <use xlink:href=\"#m59475243ba\" x=\"133.930263\" y=\"78.040763\" style=\"fill: #1f77b4; stroke: #1f77b4\"/>\n     <use xlink:href=\"#m59475243ba\" x=\"124.50346\" y=\"81.747938\" style=\"fill: #1f77b4; stroke: #1f77b4\"/>\n     <use xlink:href=\"#m59475243ba\" x=\"99.025498\" y=\"65.769606\" style=\"fill: #1f77b4; stroke: #1f77b4\"/>\n     <use xlink:href=\"#m59475243ba\" x=\"136.441662\" y=\"67.827881\" style=\"fill: #1f77b4; stroke: #1f77b4\"/>\n     <use xlink:href=\"#m59475243ba\" x=\"106.107637\" y=\"46.459212\" style=\"fill: #1f77b4; stroke: #1f77b4\"/>\n     <use xlink:href=\"#m59475243ba\" x=\"129.390181\" y=\"85.069704\" style=\"fill: #1f77b4; stroke: #1f77b4\"/>\n     <use xlink:href=\"#m59475243ba\" x=\"105.359445\" y=\"50.896108\" style=\"fill: #1f77b4; stroke: #1f77b4\"/>\n     <use xlink:href=\"#m59475243ba\" x=\"114.737252\" y=\"80.396433\" style=\"fill: #1f77b4; stroke: #1f77b4\"/>\n     <use xlink:href=\"#m59475243ba\" x=\"136.02224\" y=\"69.714767\" style=\"fill: #1f77b4; stroke: #1f77b4\"/>\n     <use xlink:href=\"#m59475243ba\" x=\"136.027918\" y=\"78.409253\" style=\"fill: #1f77b4; stroke: #1f77b4\"/>\n     <use xlink:href=\"#m59475243ba\" x=\"109.321634\" y=\"63.481592\" style=\"fill: #1f77b4; stroke: #1f77b4\"/>\n     <use xlink:href=\"#m59475243ba\" x=\"157.489139\" y=\"109.356434\" style=\"fill: #1f77b4; stroke: #1f77b4\"/>\n     <use xlink:href=\"#m59475243ba\" x=\"137.722544\" y=\"98.117\" style=\"fill: #1f77b4; stroke: #1f77b4\"/>\n     <use xlink:href=\"#m59475243ba\" x=\"149.199051\" y=\"94.425198\" style=\"fill: #1f77b4; stroke: #1f77b4\"/>\n     <use xlink:href=\"#m59475243ba\" x=\"128.469363\" y=\"74.173339\" style=\"fill: #1f77b4; stroke: #1f77b4\"/>\n     <use xlink:href=\"#m59475243ba\" x=\"117.17517\" y=\"60.744978\" style=\"fill: #1f77b4; stroke: #1f77b4\"/>\n     <use xlink:href=\"#m59475243ba\" x=\"151.196919\" y=\"103.782891\" style=\"fill: #1f77b4; stroke: #1f77b4\"/>\n     <use xlink:href=\"#m59475243ba\" x=\"185.185832\" y=\"109.031904\" style=\"fill: #1f77b4; stroke: #1f77b4\"/>\n     <use xlink:href=\"#m59475243ba\" x=\"130.966833\" y=\"75.950826\" style=\"fill: #1f77b4; stroke: #1f77b4\"/>\n     <use xlink:href=\"#m59475243ba\" x=\"120.896096\" y=\"72.258122\" style=\"fill: #1f77b4; stroke: #1f77b4\"/>\n     <use xlink:href=\"#m59475243ba\" x=\"100.480428\" y=\"38.413541\" style=\"fill: #1f77b4; stroke: #1f77b4\"/>\n     <use xlink:href=\"#m59475243ba\" x=\"148.381995\" y=\"101.381822\" style=\"fill: #1f77b4; stroke: #1f77b4\"/>\n     <use xlink:href=\"#m59475243ba\" x=\"143.19736\" y=\"64.228941\" style=\"fill: #1f77b4; stroke: #1f77b4\"/>\n     <use xlink:href=\"#m59475243ba\" x=\"132.316115\" y=\"73.735389\" style=\"fill: #1f77b4; stroke: #1f77b4\"/>\n     <use xlink:href=\"#m59475243ba\" x=\"112.307559\" y=\"63.496501\" style=\"fill: #1f77b4; stroke: #1f77b4\"/>\n     <use xlink:href=\"#m59475243ba\" x=\"106.335611\" y=\"47.224321\" style=\"fill: #1f77b4; stroke: #1f77b4\"/>\n     <use xlink:href=\"#m59475243ba\" x=\"119.044853\" y=\"53.984694\" style=\"fill: #1f77b4; stroke: #1f77b4\"/>\n     <use xlink:href=\"#m59475243ba\" x=\"138.695357\" y=\"75.907271\" style=\"fill: #1f77b4; stroke: #1f77b4\"/>\n     <use xlink:href=\"#m59475243ba\" x=\"141.993375\" y=\"82.765678\" style=\"fill: #1f77b4; stroke: #1f77b4\"/>\n     <use xlink:href=\"#m59475243ba\" x=\"92.114097\" y=\"46.985777\" style=\"fill: #1f77b4; stroke: #1f77b4\"/>\n     <use xlink:href=\"#m59475243ba\" x=\"85.596426\" y=\"55.293569\" style=\"fill: #1f77b4; stroke: #1f77b4\"/>\n     <use xlink:href=\"#m59475243ba\" x=\"126.17638\" y=\"70.313832\" style=\"fill: #1f77b4; stroke: #1f77b4\"/>\n     <use xlink:href=\"#m59475243ba\" x=\"111.906684\" y=\"53.216629\" style=\"fill: #1f77b4; stroke: #1f77b4\"/>\n     <use xlink:href=\"#m59475243ba\" x=\"66.707542\" y=\"23.027816\" style=\"fill: #1f77b4; stroke: #1f77b4\"/>\n     <use xlink:href=\"#m59475243ba\" x=\"137.06913\" y=\"62.40583\" style=\"fill: #1f77b4; stroke: #1f77b4\"/>\n     <use xlink:href=\"#m59475243ba\" x=\"144.967332\" y=\"83.102749\" style=\"fill: #1f77b4; stroke: #1f77b4\"/>\n     <use xlink:href=\"#m59475243ba\" x=\"142.339526\" y=\"86.514369\" style=\"fill: #1f77b4; stroke: #1f77b4\"/>\n     <use xlink:href=\"#m59475243ba\" x=\"112.561669\" y=\"57.48941\" style=\"fill: #1f77b4; stroke: #1f77b4\"/>\n     <use xlink:href=\"#m59475243ba\" x=\"110.013939\" y=\"73.11562\" style=\"fill: #1f77b4; stroke: #1f77b4\"/>\n     <use xlink:href=\"#m59475243ba\" x=\"106.70806\" y=\"67.056717\" style=\"fill: #1f77b4; stroke: #1f77b4\"/>\n     <use xlink:href=\"#m59475243ba\" x=\"180.185875\" y=\"109.064612\" style=\"fill: #1f77b4; stroke: #1f77b4\"/>\n     <use xlink:href=\"#m59475243ba\" x=\"114.082192\" y=\"75.088621\" style=\"fill: #1f77b4; stroke: #1f77b4\"/>\n     <use xlink:href=\"#m59475243ba\" x=\"91.611814\" y=\"39.925375\" style=\"fill: #1f77b4; stroke: #1f77b4\"/>\n     <use xlink:href=\"#m59475243ba\" x=\"126.557395\" y=\"75.889231\" style=\"fill: #1f77b4; stroke: #1f77b4\"/>\n     <use xlink:href=\"#m59475243ba\" x=\"80.429594\" y=\"59.581131\" style=\"fill: #1f77b4; stroke: #1f77b4\"/>\n     <use xlink:href=\"#m59475243ba\" x=\"146.599848\" y=\"87.313274\" style=\"fill: #1f77b4; stroke: #1f77b4\"/>\n     <use xlink:href=\"#m59475243ba\" x=\"136.539601\" y=\"71.674681\" style=\"fill: #1f77b4; stroke: #1f77b4\"/>\n     <use xlink:href=\"#m59475243ba\" x=\"136.133135\" y=\"75.361925\" style=\"fill: #1f77b4; stroke: #1f77b4\"/>\n     <use xlink:href=\"#m59475243ba\" x=\"116.036465\" y=\"79.033756\" style=\"fill: #1f77b4; stroke: #1f77b4\"/>\n     <use xlink:href=\"#m59475243ba\" x=\"100.346367\" y=\"52.727661\" style=\"fill: #1f77b4; stroke: #1f77b4\"/>\n     <use xlink:href=\"#m59475243ba\" x=\"103.833025\" y=\"53.178588\" style=\"fill: #1f77b4; stroke: #1f77b4\"/>\n     <use xlink:href=\"#m59475243ba\" x=\"183.669392\" y=\"96.786184\" style=\"fill: #1f77b4; stroke: #1f77b4\"/>\n     <use xlink:href=\"#m59475243ba\" x=\"104.261988\" y=\"38.594574\" style=\"fill: #1f77b4; stroke: #1f77b4\"/>\n     <use xlink:href=\"#m59475243ba\" x=\"136.592406\" y=\"72.464893\" style=\"fill: #1f77b4; stroke: #1f77b4\"/>\n     <use xlink:href=\"#m59475243ba\" x=\"168.673019\" y=\"90.094535\" style=\"fill: #1f77b4; stroke: #1f77b4\"/>\n     <use xlink:href=\"#m59475243ba\" x=\"116.278615\" y=\"56.555321\" style=\"fill: #1f77b4; stroke: #1f77b4\"/>\n     <use xlink:href=\"#m59475243ba\" x=\"128.114304\" y=\"83.530616\" style=\"fill: #1f77b4; stroke: #1f77b4\"/>\n     <use xlink:href=\"#m59475243ba\" x=\"96.211838\" y=\"60.006734\" style=\"fill: #1f77b4; stroke: #1f77b4\"/>\n     <use xlink:href=\"#m59475243ba\" x=\"133.781927\" y=\"82.78693\" style=\"fill: #1f77b4; stroke: #1f77b4\"/>\n     <use xlink:href=\"#m59475243ba\" x=\"143.871653\" y=\"82.180501\" style=\"fill: #1f77b4; stroke: #1f77b4\"/>\n     <use xlink:href=\"#m59475243ba\" x=\"129.926896\" y=\"62.150985\" style=\"fill: #1f77b4; stroke: #1f77b4\"/>\n     <use xlink:href=\"#m59475243ba\" x=\"101.495094\" y=\"52.467648\" style=\"fill: #1f77b4; stroke: #1f77b4\"/>\n     <use xlink:href=\"#m59475243ba\" x=\"126.783836\" y=\"87.142724\" style=\"fill: #1f77b4; stroke: #1f77b4\"/>\n     <use xlink:href=\"#m59475243ba\" x=\"109.997076\" y=\"67.958634\" style=\"fill: #1f77b4; stroke: #1f77b4\"/>\n     <use xlink:href=\"#m59475243ba\" x=\"126.136926\" y=\"86.517277\" style=\"fill: #1f77b4; stroke: #1f77b4\"/>\n     <use xlink:href=\"#m59475243ba\" x=\"142.75519\" y=\"66.99651\" style=\"fill: #1f77b4; stroke: #1f77b4\"/>\n     <use xlink:href=\"#m59475243ba\" x=\"142.253023\" y=\"77.15786\" style=\"fill: #1f77b4; stroke: #1f77b4\"/>\n     <use xlink:href=\"#m59475243ba\" x=\"68.301749\" y=\"34.206747\" style=\"fill: #1f77b4; stroke: #1f77b4\"/>\n     <use xlink:href=\"#m59475243ba\" x=\"157.411214\" y=\"82.175703\" style=\"fill: #1f77b4; stroke: #1f77b4\"/>\n     <use xlink:href=\"#m59475243ba\" x=\"57.089582\" y=\"36.067266\" style=\"fill: #1f77b4; stroke: #1f77b4\"/>\n     <use xlink:href=\"#m59475243ba\" x=\"123.456444\" y=\"67.743006\" style=\"fill: #1f77b4; stroke: #1f77b4\"/>\n     <use xlink:href=\"#m59475243ba\" x=\"131.422248\" y=\"74.850239\" style=\"fill: #1f77b4; stroke: #1f77b4\"/>\n     <use xlink:href=\"#m59475243ba\" x=\"101.209671\" y=\"41.929478\" style=\"fill: #1f77b4; stroke: #1f77b4\"/>\n     <use xlink:href=\"#m59475243ba\" x=\"127.947916\" y=\"90.913894\" style=\"fill: #1f77b4; stroke: #1f77b4\"/>\n     <use xlink:href=\"#m59475243ba\" x=\"115.414388\" y=\"67.543516\" style=\"fill: #1f77b4; stroke: #1f77b4\"/>\n     <use xlink:href=\"#m59475243ba\" x=\"101.367626\" y=\"76.891977\" style=\"fill: #1f77b4; stroke: #1f77b4\"/>\n     <use xlink:href=\"#m59475243ba\" x=\"130.57046\" y=\"70.559877\" style=\"fill: #1f77b4; stroke: #1f77b4\"/>\n     <use xlink:href=\"#m59475243ba\" x=\"120.178976\" y=\"79.955372\" style=\"fill: #1f77b4; stroke: #1f77b4\"/>\n     <use xlink:href=\"#m59475243ba\" x=\"111.093518\" y=\"50.162797\" style=\"fill: #1f77b4; stroke: #1f77b4\"/>\n     <use xlink:href=\"#m59475243ba\" x=\"82.90745\" y=\"33.610925\" style=\"fill: #1f77b4; stroke: #1f77b4\"/>\n     <use xlink:href=\"#m59475243ba\" x=\"115.967003\" y=\"72.938507\" style=\"fill: #1f77b4; stroke: #1f77b4\"/>\n     <use xlink:href=\"#m59475243ba\" x=\"179.370563\" y=\"109.918349\" style=\"fill: #1f77b4; stroke: #1f77b4\"/>\n     <use xlink:href=\"#m59475243ba\" x=\"122.253055\" y=\"55.221387\" style=\"fill: #1f77b4; stroke: #1f77b4\"/>\n     <use xlink:href=\"#m59475243ba\" x=\"101.620153\" y=\"58.210458\" style=\"fill: #1f77b4; stroke: #1f77b4\"/>\n     <use xlink:href=\"#m59475243ba\" x=\"81.246406\" y=\"32.732843\" style=\"fill: #1f77b4; stroke: #1f77b4\"/>\n     <use xlink:href=\"#m59475243ba\" x=\"148.440103\" y=\"87.375862\" style=\"fill: #1f77b4; stroke: #1f77b4\"/>\n     <use xlink:href=\"#m59475243ba\" x=\"131.35101\" y=\"78.043901\" style=\"fill: #1f77b4; stroke: #1f77b4\"/>\n     <use xlink:href=\"#m59475243ba\" x=\"99.414516\" y=\"50.667087\" style=\"fill: #1f77b4; stroke: #1f77b4\"/>\n     <use xlink:href=\"#m59475243ba\" x=\"112.571864\" y=\"45.203856\" style=\"fill: #1f77b4; stroke: #1f77b4\"/>\n     <use xlink:href=\"#m59475243ba\" x=\"108.767271\" y=\"63.436117\" style=\"fill: #1f77b4; stroke: #1f77b4\"/>\n     <use xlink:href=\"#m59475243ba\" x=\"171.920544\" y=\"102.09869\" style=\"fill: #1f77b4; stroke: #1f77b4\"/>\n     <use xlink:href=\"#m59475243ba\" x=\"110.042222\" y=\"56.616973\" style=\"fill: #1f77b4; stroke: #1f77b4\"/>\n     <use xlink:href=\"#m59475243ba\" x=\"100.205912\" y=\"70.341291\" style=\"fill: #1f77b4; stroke: #1f77b4\"/>\n     <use xlink:href=\"#m59475243ba\" x=\"137.93989\" y=\"80.842474\" style=\"fill: #1f77b4; stroke: #1f77b4\"/>\n     <use xlink:href=\"#m59475243ba\" x=\"141.309161\" y=\"91.655486\" style=\"fill: #1f77b4; stroke: #1f77b4\"/>\n     <use xlink:href=\"#m59475243ba\" x=\"148.435054\" y=\"107.101129\" style=\"fill: #1f77b4; stroke: #1f77b4\"/>\n     <use xlink:href=\"#m59475243ba\" x=\"139.342344\" y=\"83.024132\" style=\"fill: #1f77b4; stroke: #1f77b4\"/>\n     <use xlink:href=\"#m59475243ba\" x=\"119.970763\" y=\"52.978745\" style=\"fill: #1f77b4; stroke: #1f77b4\"/>\n     <use xlink:href=\"#m59475243ba\" x=\"126.048962\" y=\"58.883208\" style=\"fill: #1f77b4; stroke: #1f77b4\"/>\n     <use xlink:href=\"#m59475243ba\" x=\"76.040669\" y=\"47.293125\" style=\"fill: #1f77b4; stroke: #1f77b4\"/>\n     <use xlink:href=\"#m59475243ba\" x=\"103.003093\" y=\"47.318915\" style=\"fill: #1f77b4; stroke: #1f77b4\"/>\n     <use xlink:href=\"#m59475243ba\" x=\"171.694508\" y=\"111.802867\" style=\"fill: #1f77b4; stroke: #1f77b4\"/>\n     <use xlink:href=\"#m59475243ba\" x=\"145.201732\" y=\"81.526273\" style=\"fill: #1f77b4; stroke: #1f77b4\"/>\n     <use xlink:href=\"#m59475243ba\" x=\"117.628629\" y=\"53.666099\" style=\"fill: #1f77b4; stroke: #1f77b4\"/>\n     <use xlink:href=\"#m59475243ba\" x=\"151.627234\" y=\"86.578355\" style=\"fill: #1f77b4; stroke: #1f77b4\"/>\n     <use xlink:href=\"#m59475243ba\" x=\"75.065009\" y=\"49.019538\" style=\"fill: #1f77b4; stroke: #1f77b4\"/>\n     <use xlink:href=\"#m59475243ba\" x=\"151.369058\" y=\"77.155652\" style=\"fill: #1f77b4; stroke: #1f77b4\"/>\n     <use xlink:href=\"#m59475243ba\" x=\"113.260131\" y=\"71.830938\" style=\"fill: #1f77b4; stroke: #1f77b4\"/>\n     <use xlink:href=\"#m59475243ba\" x=\"113.323326\" y=\"70.316053\" style=\"fill: #1f77b4; stroke: #1f77b4\"/>\n     <use xlink:href=\"#m59475243ba\" x=\"113.344032\" y=\"65.178601\" style=\"fill: #1f77b4; stroke: #1f77b4\"/>\n     <use xlink:href=\"#m59475243ba\" x=\"161.098526\" y=\"106.302792\" style=\"fill: #1f77b4; stroke: #1f77b4\"/>\n     <use xlink:href=\"#m59475243ba\" x=\"159.42559\" y=\"89.671924\" style=\"fill: #1f77b4; stroke: #1f77b4\"/>\n     <use xlink:href=\"#m59475243ba\" x=\"87.857009\" y=\"43.415244\" style=\"fill: #1f77b4; stroke: #1f77b4\"/>\n     <use xlink:href=\"#m59475243ba\" x=\"140.268608\" y=\"88.010716\" style=\"fill: #1f77b4; stroke: #1f77b4\"/>\n     <use xlink:href=\"#m59475243ba\" x=\"120.30262\" y=\"56.119924\" style=\"fill: #1f77b4; stroke: #1f77b4\"/>\n     <use xlink:href=\"#m59475243ba\" x=\"164.116615\" y=\"102.297677\" style=\"fill: #1f77b4; stroke: #1f77b4\"/>\n     <use xlink:href=\"#m59475243ba\" x=\"166.255912\" y=\"85.20702\" style=\"fill: #1f77b4; stroke: #1f77b4\"/>\n     <use xlink:href=\"#m59475243ba\" x=\"120.779626\" y=\"71.438483\" style=\"fill: #1f77b4; stroke: #1f77b4\"/>\n     <use xlink:href=\"#m59475243ba\" x=\"85.058426\" y=\"58.270897\" style=\"fill: #1f77b4; stroke: #1f77b4\"/>\n     <use xlink:href=\"#m59475243ba\" x=\"129.584263\" y=\"64.74185\" style=\"fill: #1f77b4; stroke: #1f77b4\"/>\n     <use xlink:href=\"#m59475243ba\" x=\"104.330781\" y=\"37.620648\" style=\"fill: #1f77b4; stroke: #1f77b4\"/>\n     <use xlink:href=\"#m59475243ba\" x=\"104.686846\" y=\"69.079557\" style=\"fill: #1f77b4; stroke: #1f77b4\"/>\n     <use xlink:href=\"#m59475243ba\" x=\"151.890516\" y=\"88.161462\" style=\"fill: #1f77b4; stroke: #1f77b4\"/>\n     <use xlink:href=\"#m59475243ba\" x=\"103.744566\" y=\"62.544977\" style=\"fill: #1f77b4; stroke: #1f77b4\"/>\n     <use xlink:href=\"#m59475243ba\" x=\"126.055033\" y=\"66.971911\" style=\"fill: #1f77b4; stroke: #1f77b4\"/>\n     <use xlink:href=\"#m59475243ba\" x=\"113.800322\" y=\"70.176752\" style=\"fill: #1f77b4; stroke: #1f77b4\"/>\n     <use xlink:href=\"#m59475243ba\" x=\"139.69067\" y=\"75.36083\" style=\"fill: #1f77b4; stroke: #1f77b4\"/>\n     <use xlink:href=\"#m59475243ba\" x=\"106.718022\" y=\"77.650109\" style=\"fill: #1f77b4; stroke: #1f77b4\"/>\n     <use xlink:href=\"#m59475243ba\" x=\"117.509799\" y=\"70.85241\" style=\"fill: #1f77b4; stroke: #1f77b4\"/>\n     <use xlink:href=\"#m59475243ba\" x=\"133.487184\" y=\"69.079988\" style=\"fill: #1f77b4; stroke: #1f77b4\"/>\n     <use xlink:href=\"#m59475243ba\" x=\"139.621938\" y=\"67.418001\" style=\"fill: #1f77b4; stroke: #1f77b4\"/>\n     <use xlink:href=\"#m59475243ba\" x=\"117.244428\" y=\"72.30095\" style=\"fill: #1f77b4; stroke: #1f77b4\"/>\n     <use xlink:href=\"#m59475243ba\" x=\"106.631692\" y=\"76.670375\" style=\"fill: #1f77b4; stroke: #1f77b4\"/>\n     <use xlink:href=\"#m59475243ba\" x=\"120.571646\" y=\"74.305067\" style=\"fill: #1f77b4; stroke: #1f77b4\"/>\n     <use xlink:href=\"#m59475243ba\" x=\"128.75552\" y=\"73.304475\" style=\"fill: #1f77b4; stroke: #1f77b4\"/>\n     <use xlink:href=\"#m59475243ba\" x=\"102.984344\" y=\"56.39628\" style=\"fill: #1f77b4; stroke: #1f77b4\"/>\n     <use xlink:href=\"#m59475243ba\" x=\"120.479523\" y=\"58.900347\" style=\"fill: #1f77b4; stroke: #1f77b4\"/>\n     <use xlink:href=\"#m59475243ba\" x=\"148.881536\" y=\"72.292803\" style=\"fill: #1f77b4; stroke: #1f77b4\"/>\n     <use xlink:href=\"#m59475243ba\" x=\"104.610486\" y=\"56.39458\" style=\"fill: #1f77b4; stroke: #1f77b4\"/>\n     <use xlink:href=\"#m59475243ba\" x=\"109.134923\" y=\"50.447082\" style=\"fill: #1f77b4; stroke: #1f77b4\"/>\n     <use xlink:href=\"#m59475243ba\" x=\"129.355783\" y=\"77.789372\" style=\"fill: #1f77b4; stroke: #1f77b4\"/>\n     <use xlink:href=\"#m59475243ba\" x=\"146.316905\" y=\"80.699392\" style=\"fill: #1f77b4; stroke: #1f77b4\"/>\n     <use xlink:href=\"#m59475243ba\" x=\"167.968789\" y=\"107.94085\" style=\"fill: #1f77b4; stroke: #1f77b4\"/>\n     <use xlink:href=\"#m59475243ba\" x=\"124.996875\" y=\"63.954475\" style=\"fill: #1f77b4; stroke: #1f77b4\"/>\n     <use xlink:href=\"#m59475243ba\" x=\"162.597636\" y=\"94.670678\" style=\"fill: #1f77b4; stroke: #1f77b4\"/>\n     <use xlink:href=\"#m59475243ba\" x=\"119.383096\" y=\"59.927015\" style=\"fill: #1f77b4; stroke: #1f77b4\"/>\n     <use xlink:href=\"#m59475243ba\" x=\"125.451246\" y=\"60.372882\" style=\"fill: #1f77b4; stroke: #1f77b4\"/>\n     <use xlink:href=\"#m59475243ba\" x=\"134.087441\" y=\"103.048439\" style=\"fill: #1f77b4; stroke: #1f77b4\"/>\n     <use xlink:href=\"#m59475243ba\" x=\"106.907448\" y=\"45.771221\" style=\"fill: #1f77b4; stroke: #1f77b4\"/>\n     <use xlink:href=\"#m59475243ba\" x=\"159.160959\" y=\"84.514513\" style=\"fill: #1f77b4; stroke: #1f77b4\"/>\n     <use xlink:href=\"#m59475243ba\" x=\"85.666733\" y=\"37.524688\" style=\"fill: #1f77b4; stroke: #1f77b4\"/>\n     <use xlink:href=\"#m59475243ba\" x=\"134.320686\" y=\"78.578007\" style=\"fill: #1f77b4; stroke: #1f77b4\"/>\n     <use xlink:href=\"#m59475243ba\" x=\"99.163758\" y=\"57.318856\" style=\"fill: #1f77b4; stroke: #1f77b4\"/>\n     <use xlink:href=\"#m59475243ba\" x=\"150.227056\" y=\"89.746325\" style=\"fill: #1f77b4; stroke: #1f77b4\"/>\n     <use xlink:href=\"#m59475243ba\" x=\"142.186567\" y=\"83.181482\" style=\"fill: #1f77b4; stroke: #1f77b4\"/>\n     <use xlink:href=\"#m59475243ba\" x=\"123.406329\" y=\"80.603628\" style=\"fill: #1f77b4; stroke: #1f77b4\"/>\n     <use xlink:href=\"#m59475243ba\" x=\"155.8258\" y=\"97.490136\" style=\"fill: #1f77b4; stroke: #1f77b4\"/>\n     <use xlink:href=\"#m59475243ba\" x=\"117.094816\" y=\"76.249582\" style=\"fill: #1f77b4; stroke: #1f77b4\"/>\n     <use xlink:href=\"#m59475243ba\" x=\"118.398836\" y=\"57.950787\" style=\"fill: #1f77b4; stroke: #1f77b4\"/>\n     <use xlink:href=\"#m59475243ba\" x=\"131.175122\" y=\"76.997683\" style=\"fill: #1f77b4; stroke: #1f77b4\"/>\n     <use xlink:href=\"#m59475243ba\" x=\"146.417583\" y=\"66.065682\" style=\"fill: #1f77b4; stroke: #1f77b4\"/>\n     <use xlink:href=\"#m59475243ba\" x=\"145.511726\" y=\"82.915468\" style=\"fill: #1f77b4; stroke: #1f77b4\"/>\n     <use xlink:href=\"#m59475243ba\" x=\"133.495888\" y=\"85.880257\" style=\"fill: #1f77b4; stroke: #1f77b4\"/>\n     <use xlink:href=\"#m59475243ba\" x=\"111.710454\" y=\"46.292107\" style=\"fill: #1f77b4; stroke: #1f77b4\"/>\n     <use xlink:href=\"#m59475243ba\" x=\"107.909294\" y=\"59.289178\" style=\"fill: #1f77b4; stroke: #1f77b4\"/>\n     <use xlink:href=\"#m59475243ba\" x=\"121.519153\" y=\"62.600119\" style=\"fill: #1f77b4; stroke: #1f77b4\"/>\n     <use xlink:href=\"#m59475243ba\" x=\"141.338639\" y=\"94.159554\" style=\"fill: #1f77b4; stroke: #1f77b4\"/>\n     <use xlink:href=\"#m59475243ba\" x=\"120.397084\" y=\"76.516809\" style=\"fill: #1f77b4; stroke: #1f77b4\"/>\n     <use xlink:href=\"#m59475243ba\" x=\"143.347185\" y=\"111.728306\" style=\"fill: #1f77b4; stroke: #1f77b4\"/>\n     <use xlink:href=\"#m59475243ba\" x=\"115.073668\" y=\"65.720132\" style=\"fill: #1f77b4; stroke: #1f77b4\"/>\n     <use xlink:href=\"#m59475243ba\" x=\"104.283733\" y=\"48.678457\" style=\"fill: #1f77b4; stroke: #1f77b4\"/>\n     <use xlink:href=\"#m59475243ba\" x=\"109.144531\" y=\"40.072296\" style=\"fill: #1f77b4; stroke: #1f77b4\"/>\n     <use xlink:href=\"#m59475243ba\" x=\"81.593668\" y=\"46.659101\" style=\"fill: #1f77b4; stroke: #1f77b4\"/>\n     <use xlink:href=\"#m59475243ba\" x=\"159.347025\" y=\"108.760604\" style=\"fill: #1f77b4; stroke: #1f77b4\"/>\n     <use xlink:href=\"#m59475243ba\" x=\"105.073749\" y=\"59.967684\" style=\"fill: #1f77b4; stroke: #1f77b4\"/>\n     <use xlink:href=\"#m59475243ba\" x=\"139.251907\" y=\"61.12751\" style=\"fill: #1f77b4; stroke: #1f77b4\"/>\n     <use xlink:href=\"#m59475243ba\" x=\"81.287345\" y=\"44.546586\" style=\"fill: #1f77b4; stroke: #1f77b4\"/>\n     <use xlink:href=\"#m59475243ba\" x=\"132.706565\" y=\"89.494129\" style=\"fill: #1f77b4; stroke: #1f77b4\"/>\n     <use xlink:href=\"#m59475243ba\" x=\"145.827578\" y=\"91.738386\" style=\"fill: #1f77b4; stroke: #1f77b4\"/>\n     <use xlink:href=\"#m59475243ba\" x=\"139.476776\" y=\"92.968173\" style=\"fill: #1f77b4; stroke: #1f77b4\"/>\n     <use xlink:href=\"#m59475243ba\" x=\"117.475626\" y=\"79.297003\" style=\"fill: #1f77b4; stroke: #1f77b4\"/>\n     <use xlink:href=\"#m59475243ba\" x=\"119.326222\" y=\"57.941075\" style=\"fill: #1f77b4; stroke: #1f77b4\"/>\n     <use xlink:href=\"#m59475243ba\" x=\"180.237751\" y=\"108.53584\" style=\"fill: #1f77b4; stroke: #1f77b4\"/>\n     <use xlink:href=\"#m59475243ba\" x=\"138.928999\" y=\"84.957647\" style=\"fill: #1f77b4; stroke: #1f77b4\"/>\n     <use xlink:href=\"#m59475243ba\" x=\"99.605276\" y=\"42.284749\" style=\"fill: #1f77b4; stroke: #1f77b4\"/>\n     <use xlink:href=\"#m59475243ba\" x=\"150.458475\" y=\"93.148903\" style=\"fill: #1f77b4; stroke: #1f77b4\"/>\n     <use xlink:href=\"#m59475243ba\" x=\"123.004782\" y=\"85.964442\" style=\"fill: #1f77b4; stroke: #1f77b4\"/>\n     <use xlink:href=\"#m59475243ba\" x=\"110.124929\" y=\"62.745116\" style=\"fill: #1f77b4; stroke: #1f77b4\"/>\n     <use xlink:href=\"#m59475243ba\" x=\"112.002368\" y=\"49.594131\" style=\"fill: #1f77b4; stroke: #1f77b4\"/>\n     <use xlink:href=\"#m59475243ba\" x=\"153.584869\" y=\"88.226707\" style=\"fill: #1f77b4; stroke: #1f77b4\"/>\n     <use xlink:href=\"#m59475243ba\" x=\"151.689811\" y=\"89.546541\" style=\"fill: #1f77b4; stroke: #1f77b4\"/>\n     <use xlink:href=\"#m59475243ba\" x=\"136.030874\" y=\"89.734268\" style=\"fill: #1f77b4; stroke: #1f77b4\"/>\n     <use xlink:href=\"#m59475243ba\" x=\"106.126094\" y=\"63.061322\" style=\"fill: #1f77b4; stroke: #1f77b4\"/>\n     <use xlink:href=\"#m59475243ba\" x=\"138.811184\" y=\"85.073013\" style=\"fill: #1f77b4; stroke: #1f77b4\"/>\n     <use xlink:href=\"#m59475243ba\" x=\"152.484994\" y=\"89.325351\" style=\"fill: #1f77b4; stroke: #1f77b4\"/>\n     <use xlink:href=\"#m59475243ba\" x=\"148.969498\" y=\"92.340066\" style=\"fill: #1f77b4; stroke: #1f77b4\"/>\n     <use xlink:href=\"#m59475243ba\" x=\"158.630821\" y=\"92.618388\" style=\"fill: #1f77b4; stroke: #1f77b4\"/>\n     <use xlink:href=\"#m59475243ba\" x=\"74.56152\" y=\"13.5\" style=\"fill: #1f77b4; stroke: #1f77b4\"/>\n     <use xlink:href=\"#m59475243ba\" x=\"121.214344\" y=\"60.228049\" style=\"fill: #1f77b4; stroke: #1f77b4\"/>\n     <use xlink:href=\"#m59475243ba\" x=\"156.674569\" y=\"119.876334\" style=\"fill: #1f77b4; stroke: #1f77b4\"/>\n     <use xlink:href=\"#m59475243ba\" x=\"121.87607\" y=\"74.450075\" style=\"fill: #1f77b4; stroke: #1f77b4\"/>\n     <use xlink:href=\"#m59475243ba\" x=\"98.544805\" y=\"70.330914\" style=\"fill: #1f77b4; stroke: #1f77b4\"/>\n     <use xlink:href=\"#m59475243ba\" x=\"78.753533\" y=\"34.076583\" style=\"fill: #1f77b4; stroke: #1f77b4\"/>\n     <use xlink:href=\"#m59475243ba\" x=\"126.037633\" y=\"85.536456\" style=\"fill: #1f77b4; stroke: #1f77b4\"/>\n     <use xlink:href=\"#m59475243ba\" x=\"158.847299\" y=\"90.970314\" style=\"fill: #1f77b4; stroke: #1f77b4\"/>\n     <use xlink:href=\"#m59475243ba\" x=\"156.589502\" y=\"92.524834\" style=\"fill: #1f77b4; stroke: #1f77b4\"/>\n     <use xlink:href=\"#m59475243ba\" x=\"106.74619\" y=\"63.662612\" style=\"fill: #1f77b4; stroke: #1f77b4\"/>\n     <use xlink:href=\"#m59475243ba\" x=\"188.805787\" y=\"104.079604\" style=\"fill: #1f77b4; stroke: #1f77b4\"/>\n     <use xlink:href=\"#m59475243ba\" x=\"183.245568\" y=\"83.066346\" style=\"fill: #1f77b4; stroke: #1f77b4\"/>\n     <use xlink:href=\"#m59475243ba\" x=\"142.927247\" y=\"86.605412\" style=\"fill: #1f77b4; stroke: #1f77b4\"/>\n     <use xlink:href=\"#m59475243ba\" x=\"162.375218\" y=\"89.790924\" style=\"fill: #1f77b4; stroke: #1f77b4\"/>\n     <use xlink:href=\"#m59475243ba\" x=\"89.302432\" y=\"58.057226\" style=\"fill: #1f77b4; stroke: #1f77b4\"/>\n     <use xlink:href=\"#m59475243ba\" x=\"117.974126\" y=\"74.905359\" style=\"fill: #1f77b4; stroke: #1f77b4\"/>\n     <use xlink:href=\"#m59475243ba\" x=\"170.605528\" y=\"102.234282\" style=\"fill: #1f77b4; stroke: #1f77b4\"/>\n     <use xlink:href=\"#m59475243ba\" x=\"84.918781\" y=\"54.01564\" style=\"fill: #1f77b4; stroke: #1f77b4\"/>\n     <use xlink:href=\"#m59475243ba\" x=\"107.149641\" y=\"56.740709\" style=\"fill: #1f77b4; stroke: #1f77b4\"/>\n     <use xlink:href=\"#m59475243ba\" x=\"103.051071\" y=\"94.445552\" style=\"fill: #1f77b4; stroke: #1f77b4\"/>\n     <use xlink:href=\"#m59475243ba\" x=\"124.218746\" y=\"51.891369\" style=\"fill: #1f77b4; stroke: #1f77b4\"/>\n     <use xlink:href=\"#m59475243ba\" x=\"123.280334\" y=\"71.260353\" style=\"fill: #1f77b4; stroke: #1f77b4\"/>\n     <use xlink:href=\"#m59475243ba\" x=\"119.843654\" y=\"72.553869\" style=\"fill: #1f77b4; stroke: #1f77b4\"/>\n     <use xlink:href=\"#m59475243ba\" x=\"141.654367\" y=\"76.996341\" style=\"fill: #1f77b4; stroke: #1f77b4\"/>\n     <use xlink:href=\"#m59475243ba\" x=\"180.28693\" y=\"113.710005\" style=\"fill: #1f77b4; stroke: #1f77b4\"/>\n     <use xlink:href=\"#m59475243ba\" x=\"141.6196\" y=\"82.149776\" style=\"fill: #1f77b4; stroke: #1f77b4\"/>\n     <use xlink:href=\"#m59475243ba\" x=\"103.148524\" y=\"49.612363\" style=\"fill: #1f77b4; stroke: #1f77b4\"/>\n     <use xlink:href=\"#m59475243ba\" x=\"73.404474\" y=\"24.344125\" style=\"fill: #1f77b4; stroke: #1f77b4\"/>\n     <use xlink:href=\"#m59475243ba\" x=\"104.857982\" y=\"65.592111\" style=\"fill: #1f77b4; stroke: #1f77b4\"/>\n     <use xlink:href=\"#m59475243ba\" x=\"122.285307\" y=\"68.363878\" style=\"fill: #1f77b4; stroke: #1f77b4\"/>\n     <use xlink:href=\"#m59475243ba\" x=\"123.890862\" y=\"82.288703\" style=\"fill: #1f77b4; stroke: #1f77b4\"/>\n     <use xlink:href=\"#m59475243ba\" x=\"116.900016\" y=\"65.396702\" style=\"fill: #1f77b4; stroke: #1f77b4\"/>\n     <use xlink:href=\"#m59475243ba\" x=\"164.811216\" y=\"101.358138\" style=\"fill: #1f77b4; stroke: #1f77b4\"/>\n     <use xlink:href=\"#m59475243ba\" x=\"125.628357\" y=\"60.213864\" style=\"fill: #1f77b4; stroke: #1f77b4\"/>\n     <use xlink:href=\"#m59475243ba\" x=\"159.015241\" y=\"98.297358\" style=\"fill: #1f77b4; stroke: #1f77b4\"/>\n     <use xlink:href=\"#m59475243ba\" x=\"122.600226\" y=\"60.145629\" style=\"fill: #1f77b4; stroke: #1f77b4\"/>\n     <use xlink:href=\"#m59475243ba\" x=\"158.133565\" y=\"104.013719\" style=\"fill: #1f77b4; stroke: #1f77b4\"/>\n     <use xlink:href=\"#m59475243ba\" x=\"90.497542\" y=\"49.605786\" style=\"fill: #1f77b4; stroke: #1f77b4\"/>\n     <use xlink:href=\"#m59475243ba\" x=\"122.167071\" y=\"83.608357\" style=\"fill: #1f77b4; stroke: #1f77b4\"/>\n     <use xlink:href=\"#m59475243ba\" x=\"129.335722\" y=\"63.868603\" style=\"fill: #1f77b4; stroke: #1f77b4\"/>\n     <use xlink:href=\"#m59475243ba\" x=\"142.566067\" y=\"93.07224\" style=\"fill: #1f77b4; stroke: #1f77b4\"/>\n     <use xlink:href=\"#m59475243ba\" x=\"160.019705\" y=\"94.631549\" style=\"fill: #1f77b4; stroke: #1f77b4\"/>\n     <use xlink:href=\"#m59475243ba\" x=\"89.202462\" y=\"32.521899\" style=\"fill: #1f77b4; stroke: #1f77b4\"/>\n     <use xlink:href=\"#m59475243ba\" x=\"151.118412\" y=\"81.34927\" style=\"fill: #1f77b4; stroke: #1f77b4\"/>\n     <use xlink:href=\"#m59475243ba\" x=\"156.187906\" y=\"88.239867\" style=\"fill: #1f77b4; stroke: #1f77b4\"/>\n     <use xlink:href=\"#m59475243ba\" x=\"116.113237\" y=\"72.07338\" style=\"fill: #1f77b4; stroke: #1f77b4\"/>\n     <use xlink:href=\"#m59475243ba\" x=\"119.554852\" y=\"68.541616\" style=\"fill: #1f77b4; stroke: #1f77b4\"/>\n     <use xlink:href=\"#m59475243ba\" x=\"108.809532\" y=\"64.855425\" style=\"fill: #1f77b4; stroke: #1f77b4\"/>\n     <use xlink:href=\"#m59475243ba\" x=\"120.476813\" y=\"83.607974\" style=\"fill: #1f77b4; stroke: #1f77b4\"/>\n     <use xlink:href=\"#m59475243ba\" x=\"152.139615\" y=\"80.645478\" style=\"fill: #1f77b4; stroke: #1f77b4\"/>\n     <use xlink:href=\"#m59475243ba\" x=\"108.056222\" y=\"44.896499\" style=\"fill: #1f77b4; stroke: #1f77b4\"/>\n     <use xlink:href=\"#m59475243ba\" x=\"110.893385\" y=\"75.338378\" style=\"fill: #1f77b4; stroke: #1f77b4\"/>\n     <use xlink:href=\"#m59475243ba\" x=\"93.862988\" y=\"49.436009\" style=\"fill: #1f77b4; stroke: #1f77b4\"/>\n     <use xlink:href=\"#m59475243ba\" x=\"129.546529\" y=\"63.907453\" style=\"fill: #1f77b4; stroke: #1f77b4\"/>\n     <use xlink:href=\"#m59475243ba\" x=\"158.855746\" y=\"96.371217\" style=\"fill: #1f77b4; stroke: #1f77b4\"/>\n     <use xlink:href=\"#m59475243ba\" x=\"52.890782\" y=\"29.851617\" style=\"fill: #1f77b4; stroke: #1f77b4\"/>\n     <use xlink:href=\"#m59475243ba\" x=\"142.349239\" y=\"104.106448\" style=\"fill: #1f77b4; stroke: #1f77b4\"/>\n     <use xlink:href=\"#m59475243ba\" x=\"147.159583\" y=\"89.892739\" style=\"fill: #1f77b4; stroke: #1f77b4\"/>\n     <use xlink:href=\"#m59475243ba\" x=\"180.562281\" y=\"101.896111\" style=\"fill: #1f77b4; stroke: #1f77b4\"/>\n     <use xlink:href=\"#m59475243ba\" x=\"110.723722\" y=\"54.671959\" style=\"fill: #1f77b4; stroke: #1f77b4\"/>\n     <use xlink:href=\"#m59475243ba\" x=\"88.383236\" y=\"39.334384\" style=\"fill: #1f77b4; stroke: #1f77b4\"/>\n     <use xlink:href=\"#m59475243ba\" x=\"125.352178\" y=\"53.698255\" style=\"fill: #1f77b4; stroke: #1f77b4\"/>\n     <use xlink:href=\"#m59475243ba\" x=\"120.901702\" y=\"45.384606\" style=\"fill: #1f77b4; stroke: #1f77b4\"/>\n     <use xlink:href=\"#m59475243ba\" x=\"75.143394\" y=\"38.386403\" style=\"fill: #1f77b4; stroke: #1f77b4\"/>\n     <use xlink:href=\"#m59475243ba\" x=\"102.971307\" y=\"47.062372\" style=\"fill: #1f77b4; stroke: #1f77b4\"/>\n     <use xlink:href=\"#m59475243ba\" x=\"147.342806\" y=\"78.216887\" style=\"fill: #1f77b4; stroke: #1f77b4\"/>\n     <use xlink:href=\"#m59475243ba\" x=\"94.436641\" y=\"66.747868\" style=\"fill: #1f77b4; stroke: #1f77b4\"/>\n     <use xlink:href=\"#m59475243ba\" x=\"135.640467\" y=\"97.568269\" style=\"fill: #1f77b4; stroke: #1f77b4\"/>\n     <use xlink:href=\"#m59475243ba\" x=\"87.931669\" y=\"48.472422\" style=\"fill: #1f77b4; stroke: #1f77b4\"/>\n     <use xlink:href=\"#m59475243ba\" x=\"137.500625\" y=\"70.238284\" style=\"fill: #1f77b4; stroke: #1f77b4\"/>\n     <use xlink:href=\"#m59475243ba\" x=\"72.391158\" y=\"43.530732\" style=\"fill: #1f77b4; stroke: #1f77b4\"/>\n     <use xlink:href=\"#m59475243ba\" x=\"140.738881\" y=\"78.696145\" style=\"fill: #1f77b4; stroke: #1f77b4\"/>\n     <use xlink:href=\"#m59475243ba\" x=\"158.614307\" y=\"80.79091\" style=\"fill: #1f77b4; stroke: #1f77b4\"/>\n     <use xlink:href=\"#m59475243ba\" x=\"123.266489\" y=\"86.061155\" style=\"fill: #1f77b4; stroke: #1f77b4\"/>\n     <use xlink:href=\"#m59475243ba\" x=\"98.609552\" y=\"62.230562\" style=\"fill: #1f77b4; stroke: #1f77b4\"/>\n     <use xlink:href=\"#m59475243ba\" x=\"149.307684\" y=\"83.457228\" style=\"fill: #1f77b4; stroke: #1f77b4\"/>\n     <use xlink:href=\"#m59475243ba\" x=\"140.438504\" y=\"74.884215\" style=\"fill: #1f77b4; stroke: #1f77b4\"/>\n     <use xlink:href=\"#m59475243ba\" x=\"115.197498\" y=\"65.54007\" style=\"fill: #1f77b4; stroke: #1f77b4\"/>\n     <use xlink:href=\"#m59475243ba\" x=\"194.893451\" y=\"99.100856\" style=\"fill: #1f77b4; stroke: #1f77b4\"/>\n     <use xlink:href=\"#m59475243ba\" x=\"155.644789\" y=\"76.930235\" style=\"fill: #1f77b4; stroke: #1f77b4\"/>\n     <use xlink:href=\"#m59475243ba\" x=\"120.158497\" y=\"63.877758\" style=\"fill: #1f77b4; stroke: #1f77b4\"/>\n     <use xlink:href=\"#m59475243ba\" x=\"151.130063\" y=\"82.799113\" style=\"fill: #1f77b4; stroke: #1f77b4\"/>\n     <use xlink:href=\"#m59475243ba\" x=\"140.088437\" y=\"90.539242\" style=\"fill: #1f77b4; stroke: #1f77b4\"/>\n     <use xlink:href=\"#m59475243ba\" x=\"113.158882\" y=\"58.387289\" style=\"fill: #1f77b4; stroke: #1f77b4\"/>\n     <use xlink:href=\"#m59475243ba\" x=\"134.087486\" y=\"87.210283\" style=\"fill: #1f77b4; stroke: #1f77b4\"/>\n     <use xlink:href=\"#m59475243ba\" x=\"132.194207\" y=\"76.240908\" style=\"fill: #1f77b4; stroke: #1f77b4\"/>\n     <use xlink:href=\"#m59475243ba\" x=\"150.216175\" y=\"99.073923\" style=\"fill: #1f77b4; stroke: #1f77b4\"/>\n     <use xlink:href=\"#m59475243ba\" x=\"135.612586\" y=\"85.381002\" style=\"fill: #1f77b4; stroke: #1f77b4\"/>\n     <use xlink:href=\"#m59475243ba\" x=\"155.578307\" y=\"102.066129\" style=\"fill: #1f77b4; stroke: #1f77b4\"/>\n     <use xlink:href=\"#m59475243ba\" x=\"172.145887\" y=\"96.322896\" style=\"fill: #1f77b4; stroke: #1f77b4\"/>\n     <use xlink:href=\"#m59475243ba\" x=\"109.123623\" y=\"71.726364\" style=\"fill: #1f77b4; stroke: #1f77b4\"/>\n     <use xlink:href=\"#m59475243ba\" x=\"128.275545\" y=\"69.308854\" style=\"fill: #1f77b4; stroke: #1f77b4\"/>\n     <use xlink:href=\"#m59475243ba\" x=\"105.681039\" y=\"67.645459\" style=\"fill: #1f77b4; stroke: #1f77b4\"/>\n     <use xlink:href=\"#m59475243ba\" x=\"115.029686\" y=\"73.325606\" style=\"fill: #1f77b4; stroke: #1f77b4\"/>\n     <use xlink:href=\"#m59475243ba\" x=\"126.006057\" y=\"82.947416\" style=\"fill: #1f77b4; stroke: #1f77b4\"/>\n     <use xlink:href=\"#m59475243ba\" x=\"201.805238\" y=\"120.911046\" style=\"fill: #1f77b4; stroke: #1f77b4\"/>\n     <use xlink:href=\"#m59475243ba\" x=\"127.953872\" y=\"57.451699\" style=\"fill: #1f77b4; stroke: #1f77b4\"/>\n     <use xlink:href=\"#m59475243ba\" x=\"139.352276\" y=\"80.833737\" style=\"fill: #1f77b4; stroke: #1f77b4\"/>\n     <use xlink:href=\"#m59475243ba\" x=\"104.905424\" y=\"45.374632\" style=\"fill: #1f77b4; stroke: #1f77b4\"/>\n     <use xlink:href=\"#m59475243ba\" x=\"154.685649\" y=\"91.010387\" style=\"fill: #1f77b4; stroke: #1f77b4\"/>\n     <use xlink:href=\"#m59475243ba\" x=\"171.6495\" y=\"90.359035\" style=\"fill: #1f77b4; stroke: #1f77b4\"/>\n     <use xlink:href=\"#m59475243ba\" x=\"114.879496\" y=\"75.957638\" style=\"fill: #1f77b4; stroke: #1f77b4\"/>\n     <use xlink:href=\"#m59475243ba\" x=\"144.015756\" y=\"84.655876\" style=\"fill: #1f77b4; stroke: #1f77b4\"/>\n     <use xlink:href=\"#m59475243ba\" x=\"168.419719\" y=\"93.538013\" style=\"fill: #1f77b4; stroke: #1f77b4\"/>\n     <use xlink:href=\"#m59475243ba\" x=\"147.614764\" y=\"73.352143\" style=\"fill: #1f77b4; stroke: #1f77b4\"/>\n     <use xlink:href=\"#m59475243ba\" x=\"122.85108\" y=\"73.759548\" style=\"fill: #1f77b4; stroke: #1f77b4\"/>\n     <use xlink:href=\"#m59475243ba\" x=\"105.347537\" y=\"51.983767\" style=\"fill: #1f77b4; stroke: #1f77b4\"/>\n     <use xlink:href=\"#m59475243ba\" x=\"123.353882\" y=\"65.291587\" style=\"fill: #1f77b4; stroke: #1f77b4\"/>\n     <use xlink:href=\"#m59475243ba\" x=\"91.394652\" y=\"49.283561\" style=\"fill: #1f77b4; stroke: #1f77b4\"/>\n     <use xlink:href=\"#m59475243ba\" x=\"117.909577\" y=\"76.795081\" style=\"fill: #1f77b4; stroke: #1f77b4\"/>\n     <use xlink:href=\"#m59475243ba\" x=\"135.035757\" y=\"88.853726\" style=\"fill: #1f77b4; stroke: #1f77b4\"/>\n     <use xlink:href=\"#m59475243ba\" x=\"127.059015\" y=\"77.600771\" style=\"fill: #1f77b4; stroke: #1f77b4\"/>\n     <use xlink:href=\"#m59475243ba\" x=\"159.357278\" y=\"94.261768\" style=\"fill: #1f77b4; stroke: #1f77b4\"/>\n     <use xlink:href=\"#m59475243ba\" x=\"166.747318\" y=\"119.490452\" style=\"fill: #1f77b4; stroke: #1f77b4\"/>\n     <use xlink:href=\"#m59475243ba\" x=\"172.354156\" y=\"81.781551\" style=\"fill: #1f77b4; stroke: #1f77b4\"/>\n     <use xlink:href=\"#m59475243ba\" x=\"85.033678\" y=\"30.034612\" style=\"fill: #1f77b4; stroke: #1f77b4\"/>\n     <use xlink:href=\"#m59475243ba\" x=\"97.300114\" y=\"49.488634\" style=\"fill: #1f77b4; stroke: #1f77b4\"/>\n     <use xlink:href=\"#m59475243ba\" x=\"83.977883\" y=\"46.115106\" style=\"fill: #1f77b4; stroke: #1f77b4\"/>\n     <use xlink:href=\"#m59475243ba\" x=\"148.724142\" y=\"90.752198\" style=\"fill: #1f77b4; stroke: #1f77b4\"/>\n     <use xlink:href=\"#m59475243ba\" x=\"125.204044\" y=\"80.275038\" style=\"fill: #1f77b4; stroke: #1f77b4\"/>\n     <use xlink:href=\"#m59475243ba\" x=\"132.992169\" y=\"70.264762\" style=\"fill: #1f77b4; stroke: #1f77b4\"/>\n     <use xlink:href=\"#m59475243ba\" x=\"79.069876\" y=\"38.377017\" style=\"fill: #1f77b4; stroke: #1f77b4\"/>\n     <use xlink:href=\"#m59475243ba\" x=\"98.152188\" y=\"68.732651\" style=\"fill: #1f77b4; stroke: #1f77b4\"/>\n     <use xlink:href=\"#m59475243ba\" x=\"113.340631\" y=\"70.681787\" style=\"fill: #1f77b4; stroke: #1f77b4\"/>\n     <use xlink:href=\"#m59475243ba\" x=\"151.805673\" y=\"87.144788\" style=\"fill: #1f77b4; stroke: #1f77b4\"/>\n     <use xlink:href=\"#m59475243ba\" x=\"98.289626\" y=\"48.499812\" style=\"fill: #1f77b4; stroke: #1f77b4\"/>\n     <use xlink:href=\"#m59475243ba\" x=\"154.136267\" y=\"86.406877\" style=\"fill: #1f77b4; stroke: #1f77b4\"/>\n     <use xlink:href=\"#m59475243ba\" x=\"166.382611\" y=\"109.736173\" style=\"fill: #1f77b4; stroke: #1f77b4\"/>\n     <use xlink:href=\"#m59475243ba\" x=\"96.697264\" y=\"71.334556\" style=\"fill: #1f77b4; stroke: #1f77b4\"/>\n     <use xlink:href=\"#m59475243ba\" x=\"106.1589\" y=\"60.324502\" style=\"fill: #1f77b4; stroke: #1f77b4\"/>\n     <use xlink:href=\"#m59475243ba\" x=\"116.830611\" y=\"62.703434\" style=\"fill: #1f77b4; stroke: #1f77b4\"/>\n     <use xlink:href=\"#m59475243ba\" x=\"174.125451\" y=\"105.481199\" style=\"fill: #1f77b4; stroke: #1f77b4\"/>\n     <use xlink:href=\"#m59475243ba\" x=\"183.976867\" y=\"100.316767\" style=\"fill: #1f77b4; stroke: #1f77b4\"/>\n     <use xlink:href=\"#m59475243ba\" x=\"181.219363\" y=\"106.690498\" style=\"fill: #1f77b4; stroke: #1f77b4\"/>\n     <use xlink:href=\"#m59475243ba\" x=\"119.755005\" y=\"66.824141\" style=\"fill: #1f77b4; stroke: #1f77b4\"/>\n     <use xlink:href=\"#m59475243ba\" x=\"105.831306\" y=\"57.378553\" style=\"fill: #1f77b4; stroke: #1f77b4\"/>\n     <use xlink:href=\"#m59475243ba\" x=\"87.98591\" y=\"38.945766\" style=\"fill: #1f77b4; stroke: #1f77b4\"/>\n     <use xlink:href=\"#m59475243ba\" x=\"129.491226\" y=\"86.509385\" style=\"fill: #1f77b4; stroke: #1f77b4\"/>\n     <use xlink:href=\"#m59475243ba\" x=\"150.180231\" y=\"83.065546\" style=\"fill: #1f77b4; stroke: #1f77b4\"/>\n     <use xlink:href=\"#m59475243ba\" x=\"162.323346\" y=\"100.000348\" style=\"fill: #1f77b4; stroke: #1f77b4\"/>\n     <use xlink:href=\"#m59475243ba\" x=\"124.743638\" y=\"48.959507\" style=\"fill: #1f77b4; stroke: #1f77b4\"/>\n     <use xlink:href=\"#m59475243ba\" x=\"115.911425\" y=\"75.219763\" style=\"fill: #1f77b4; stroke: #1f77b4\"/>\n     <use xlink:href=\"#m59475243ba\" x=\"120.479155\" y=\"62.203583\" style=\"fill: #1f77b4; stroke: #1f77b4\"/>\n     <use xlink:href=\"#m59475243ba\" x=\"149.084537\" y=\"80.177149\" style=\"fill: #1f77b4; stroke: #1f77b4\"/>\n     <use xlink:href=\"#m59475243ba\" x=\"121.899934\" y=\"79.631812\" style=\"fill: #1f77b4; stroke: #1f77b4\"/>\n     <use xlink:href=\"#m59475243ba\" x=\"119.409611\" y=\"71.911536\" style=\"fill: #1f77b4; stroke: #1f77b4\"/>\n     <use xlink:href=\"#m59475243ba\" x=\"154.552342\" y=\"95.315625\" style=\"fill: #1f77b4; stroke: #1f77b4\"/>\n     <use xlink:href=\"#m59475243ba\" x=\"111.275911\" y=\"69.072203\" style=\"fill: #1f77b4; stroke: #1f77b4\"/>\n     <use xlink:href=\"#m59475243ba\" x=\"91.040257\" y=\"63.294772\" style=\"fill: #1f77b4; stroke: #1f77b4\"/>\n     <use xlink:href=\"#m59475243ba\" x=\"111.327394\" y=\"49.325002\" style=\"fill: #1f77b4; stroke: #1f77b4\"/>\n     <use xlink:href=\"#m59475243ba\" x=\"119.33168\" y=\"37.033071\" style=\"fill: #1f77b4; stroke: #1f77b4\"/>\n     <use xlink:href=\"#m59475243ba\" x=\"112.975496\" y=\"55.582293\" style=\"fill: #1f77b4; stroke: #1f77b4\"/>\n     <use xlink:href=\"#m59475243ba\" x=\"122.22954\" y=\"64.175862\" style=\"fill: #1f77b4; stroke: #1f77b4\"/>\n     <use xlink:href=\"#m59475243ba\" x=\"67.044471\" y=\"33.756603\" style=\"fill: #1f77b4; stroke: #1f77b4\"/>\n     <use xlink:href=\"#m59475243ba\" x=\"113.350622\" y=\"73.079084\" style=\"fill: #1f77b4; stroke: #1f77b4\"/>\n     <use xlink:href=\"#m59475243ba\" x=\"92.648594\" y=\"51.337699\" style=\"fill: #1f77b4; stroke: #1f77b4\"/>\n     <use xlink:href=\"#m59475243ba\" x=\"126.228346\" y=\"72.959856\" style=\"fill: #1f77b4; stroke: #1f77b4\"/>\n     <use xlink:href=\"#m59475243ba\" x=\"174.123287\" y=\"95.307643\" style=\"fill: #1f77b4; stroke: #1f77b4\"/>\n     <use xlink:href=\"#m59475243ba\" x=\"111.826389\" y=\"62.395735\" style=\"fill: #1f77b4; stroke: #1f77b4\"/>\n     <use xlink:href=\"#m59475243ba\" x=\"135.514915\" y=\"87.176486\" style=\"fill: #1f77b4; stroke: #1f77b4\"/>\n     <use xlink:href=\"#m59475243ba\" x=\"61.001331\" y=\"40.996586\" style=\"fill: #1f77b4; stroke: #1f77b4\"/>\n     <use xlink:href=\"#m59475243ba\" x=\"131.573343\" y=\"75.992498\" style=\"fill: #1f77b4; stroke: #1f77b4\"/>\n     <use xlink:href=\"#m59475243ba\" x=\"140.7592\" y=\"62.820353\" style=\"fill: #1f77b4; stroke: #1f77b4\"/>\n     <use xlink:href=\"#m59475243ba\" x=\"181.593667\" y=\"92.656586\" style=\"fill: #1f77b4; stroke: #1f77b4\"/>\n     <use xlink:href=\"#m59475243ba\" x=\"104.815791\" y=\"52.824014\" style=\"fill: #1f77b4; stroke: #1f77b4\"/>\n     <use xlink:href=\"#m59475243ba\" x=\"137.128122\" y=\"78.461576\" style=\"fill: #1f77b4; stroke: #1f77b4\"/>\n     <use xlink:href=\"#m59475243ba\" x=\"147.81748\" y=\"91.615326\" style=\"fill: #1f77b4; stroke: #1f77b4\"/>\n     <use xlink:href=\"#m59475243ba\" x=\"118.249605\" y=\"56.762766\" style=\"fill: #1f77b4; stroke: #1f77b4\"/>\n     <use xlink:href=\"#m59475243ba\" x=\"139.900996\" y=\"95.778041\" style=\"fill: #1f77b4; stroke: #1f77b4\"/>\n     <use xlink:href=\"#m59475243ba\" x=\"139.660317\" y=\"79.336765\" style=\"fill: #1f77b4; stroke: #1f77b4\"/>\n     <use xlink:href=\"#m59475243ba\" x=\"141.967427\" y=\"85.991565\" style=\"fill: #1f77b4; stroke: #1f77b4\"/>\n     <use xlink:href=\"#m59475243ba\" x=\"133.494945\" y=\"72.125625\" style=\"fill: #1f77b4; stroke: #1f77b4\"/>\n     <use xlink:href=\"#m59475243ba\" x=\"93.54666\" y=\"72.180701\" style=\"fill: #1f77b4; stroke: #1f77b4\"/>\n     <use xlink:href=\"#m59475243ba\" x=\"112.732239\" y=\"81.295344\" style=\"fill: #1f77b4; stroke: #1f77b4\"/>\n     <use xlink:href=\"#m59475243ba\" x=\"129.420056\" y=\"76.892557\" style=\"fill: #1f77b4; stroke: #1f77b4\"/>\n     <use xlink:href=\"#m59475243ba\" x=\"128.95011\" y=\"77.573479\" style=\"fill: #1f77b4; stroke: #1f77b4\"/>\n     <use xlink:href=\"#m59475243ba\" x=\"87.221655\" y=\"56.423654\" style=\"fill: #1f77b4; stroke: #1f77b4\"/>\n     <use xlink:href=\"#m59475243ba\" x=\"138.256912\" y=\"75.444346\" style=\"fill: #1f77b4; stroke: #1f77b4\"/>\n     <use xlink:href=\"#m59475243ba\" x=\"102.728278\" y=\"49.036102\" style=\"fill: #1f77b4; stroke: #1f77b4\"/>\n     <use xlink:href=\"#m59475243ba\" x=\"119.503897\" y=\"62.293671\" style=\"fill: #1f77b4; stroke: #1f77b4\"/>\n     <use xlink:href=\"#m59475243ba\" x=\"80.044809\" y=\"47.236655\" style=\"fill: #1f77b4; stroke: #1f77b4\"/>\n     <use xlink:href=\"#m59475243ba\" x=\"151.125752\" y=\"73.043331\" style=\"fill: #1f77b4; stroke: #1f77b4\"/>\n     <use xlink:href=\"#m59475243ba\" x=\"131.337256\" y=\"80.970325\" style=\"fill: #1f77b4; stroke: #1f77b4\"/>\n     <use xlink:href=\"#m59475243ba\" x=\"138.82966\" y=\"76.33526\" style=\"fill: #1f77b4; stroke: #1f77b4\"/>\n     <use xlink:href=\"#m59475243ba\" x=\"126.780814\" y=\"42.428745\" style=\"fill: #1f77b4; stroke: #1f77b4\"/>\n     <use xlink:href=\"#m59475243ba\" x=\"139.113968\" y=\"92.680639\" style=\"fill: #1f77b4; stroke: #1f77b4\"/>\n     <use xlink:href=\"#m59475243ba\" x=\"94.191943\" y=\"47.446334\" style=\"fill: #1f77b4; stroke: #1f77b4\"/>\n     <use xlink:href=\"#m59475243ba\" x=\"138.556812\" y=\"93.130664\" style=\"fill: #1f77b4; stroke: #1f77b4\"/>\n     <use xlink:href=\"#m59475243ba\" x=\"96.255857\" y=\"37.097181\" style=\"fill: #1f77b4; stroke: #1f77b4\"/>\n     <use xlink:href=\"#m59475243ba\" x=\"99.896609\" y=\"58.396244\" style=\"fill: #1f77b4; stroke: #1f77b4\"/>\n     <use xlink:href=\"#m59475243ba\" x=\"143.092712\" y=\"77.237893\" style=\"fill: #1f77b4; stroke: #1f77b4\"/>\n     <use xlink:href=\"#m59475243ba\" x=\"115.940871\" y=\"70.985411\" style=\"fill: #1f77b4; stroke: #1f77b4\"/>\n     <use xlink:href=\"#m59475243ba\" x=\"113.024071\" y=\"62.912655\" style=\"fill: #1f77b4; stroke: #1f77b4\"/>\n     <use xlink:href=\"#m59475243ba\" x=\"84.768206\" y=\"35.451401\" style=\"fill: #1f77b4; stroke: #1f77b4\"/>\n     <use xlink:href=\"#m59475243ba\" x=\"124.908977\" y=\"49.26174\" style=\"fill: #1f77b4; stroke: #1f77b4\"/>\n     <use xlink:href=\"#m59475243ba\" x=\"144.787392\" y=\"93.316628\" style=\"fill: #1f77b4; stroke: #1f77b4\"/>\n     <use xlink:href=\"#m59475243ba\" x=\"120.956493\" y=\"88.68854\" style=\"fill: #1f77b4; stroke: #1f77b4\"/>\n     <use xlink:href=\"#m59475243ba\" x=\"95.323985\" y=\"62.111001\" style=\"fill: #1f77b4; stroke: #1f77b4\"/>\n     <use xlink:href=\"#m59475243ba\" x=\"148.692628\" y=\"86.955535\" style=\"fill: #1f77b4; stroke: #1f77b4\"/>\n     <use xlink:href=\"#m59475243ba\" x=\"103.559179\" y=\"76.520233\" style=\"fill: #1f77b4; stroke: #1f77b4\"/>\n     <use xlink:href=\"#m59475243ba\" x=\"198.899793\" y=\"117.915178\" style=\"fill: #1f77b4; stroke: #1f77b4\"/>\n     <use xlink:href=\"#m59475243ba\" x=\"101.437855\" y=\"66.310576\" style=\"fill: #1f77b4; stroke: #1f77b4\"/>\n     <use xlink:href=\"#m59475243ba\" x=\"135.747154\" y=\"88.525052\" style=\"fill: #1f77b4; stroke: #1f77b4\"/>\n     <use xlink:href=\"#m59475243ba\" x=\"106.328093\" y=\"56.53053\" style=\"fill: #1f77b4; stroke: #1f77b4\"/>\n     <use xlink:href=\"#m59475243ba\" x=\"174.091861\" y=\"98.252326\" style=\"fill: #1f77b4; stroke: #1f77b4\"/>\n     <use xlink:href=\"#m59475243ba\" x=\"144.049858\" y=\"89.370405\" style=\"fill: #1f77b4; stroke: #1f77b4\"/>\n     <use xlink:href=\"#m59475243ba\" x=\"163.083863\" y=\"103.85205\" style=\"fill: #1f77b4; stroke: #1f77b4\"/>\n     <use xlink:href=\"#m59475243ba\" x=\"133.00052\" y=\"65.111326\" style=\"fill: #1f77b4; stroke: #1f77b4\"/>\n     <use xlink:href=\"#m59475243ba\" x=\"102.939581\" y=\"60.654997\" style=\"fill: #1f77b4; stroke: #1f77b4\"/>\n     <use xlink:href=\"#m59475243ba\" x=\"120.901696\" y=\"66.553919\" style=\"fill: #1f77b4; stroke: #1f77b4\"/>\n     <use xlink:href=\"#m59475243ba\" x=\"144.231693\" y=\"86.139068\" style=\"fill: #1f77b4; stroke: #1f77b4\"/>\n     <use xlink:href=\"#m59475243ba\" x=\"132.026305\" y=\"60.740076\" style=\"fill: #1f77b4; stroke: #1f77b4\"/>\n     <use xlink:href=\"#m59475243ba\" x=\"112.6937\" y=\"65.746688\" style=\"fill: #1f77b4; stroke: #1f77b4\"/>\n     <use xlink:href=\"#m59475243ba\" x=\"132.395768\" y=\"78.025929\" style=\"fill: #1f77b4; stroke: #1f77b4\"/>\n     <use xlink:href=\"#m59475243ba\" x=\"128.77151\" y=\"72.952814\" style=\"fill: #1f77b4; stroke: #1f77b4\"/>\n     <use xlink:href=\"#m59475243ba\" x=\"141.054526\" y=\"73.467272\" style=\"fill: #1f77b4; stroke: #1f77b4\"/>\n     <use xlink:href=\"#m59475243ba\" x=\"135.057474\" y=\"78.036669\" style=\"fill: #1f77b4; stroke: #1f77b4\"/>\n     <use xlink:href=\"#m59475243ba\" x=\"86.241517\" y=\"40.068418\" style=\"fill: #1f77b4; stroke: #1f77b4\"/>\n     <use xlink:href=\"#m59475243ba\" x=\"126.072302\" y=\"79.233478\" style=\"fill: #1f77b4; stroke: #1f77b4\"/>\n     <use xlink:href=\"#m59475243ba\" x=\"137.55925\" y=\"86.139597\" style=\"fill: #1f77b4; stroke: #1f77b4\"/>\n     <use xlink:href=\"#m59475243ba\" x=\"57.27546\" y=\"37.410909\" style=\"fill: #1f77b4; stroke: #1f77b4\"/>\n     <use xlink:href=\"#m59475243ba\" x=\"110.633272\" y=\"59.19287\" style=\"fill: #1f77b4; stroke: #1f77b4\"/>\n     <use xlink:href=\"#m59475243ba\" x=\"111.030644\" y=\"60.383119\" style=\"fill: #1f77b4; stroke: #1f77b4\"/>\n     <use xlink:href=\"#m59475243ba\" x=\"112.38959\" y=\"57.949298\" style=\"fill: #1f77b4; stroke: #1f77b4\"/>\n     <use xlink:href=\"#m59475243ba\" x=\"148.523715\" y=\"93.659168\" style=\"fill: #1f77b4; stroke: #1f77b4\"/>\n     <use xlink:href=\"#m59475243ba\" x=\"137.220794\" y=\"72.473436\" style=\"fill: #1f77b4; stroke: #1f77b4\"/>\n     <use xlink:href=\"#m59475243ba\" x=\"122.740654\" y=\"70.703486\" style=\"fill: #1f77b4; stroke: #1f77b4\"/>\n     <use xlink:href=\"#m59475243ba\" x=\"158.577807\" y=\"100.293922\" style=\"fill: #1f77b4; stroke: #1f77b4\"/>\n     <use xlink:href=\"#m59475243ba\" x=\"137.087009\" y=\"85.011432\" style=\"fill: #1f77b4; stroke: #1f77b4\"/>\n     <use xlink:href=\"#m59475243ba\" x=\"175.702724\" y=\"113.106327\" style=\"fill: #1f77b4; stroke: #1f77b4\"/>\n     <use xlink:href=\"#m59475243ba\" x=\"165.923253\" y=\"96.39987\" style=\"fill: #1f77b4; stroke: #1f77b4\"/>\n     <use xlink:href=\"#m59475243ba\" x=\"109.915992\" y=\"73.031859\" style=\"fill: #1f77b4; stroke: #1f77b4\"/>\n     <use xlink:href=\"#m59475243ba\" x=\"141.299806\" y=\"101.705411\" style=\"fill: #1f77b4; stroke: #1f77b4\"/>\n     <use xlink:href=\"#m59475243ba\" x=\"130.481442\" y=\"88.461273\" style=\"fill: #1f77b4; stroke: #1f77b4\"/>\n     <use xlink:href=\"#m59475243ba\" x=\"114.385793\" y=\"70.639316\" style=\"fill: #1f77b4; stroke: #1f77b4\"/>\n     <use xlink:href=\"#m59475243ba\" x=\"123.213397\" y=\"79.583668\" style=\"fill: #1f77b4; stroke: #1f77b4\"/>\n     <use xlink:href=\"#m59475243ba\" x=\"110.827059\" y=\"59.26449\" style=\"fill: #1f77b4; stroke: #1f77b4\"/>\n     <use xlink:href=\"#m59475243ba\" x=\"120.579278\" y=\"73.129166\" style=\"fill: #1f77b4; stroke: #1f77b4\"/>\n     <use xlink:href=\"#m59475243ba\" x=\"158.217003\" y=\"108.23506\" style=\"fill: #1f77b4; stroke: #1f77b4\"/>\n     <use xlink:href=\"#m59475243ba\" x=\"109.27564\" y=\"69.585071\" style=\"fill: #1f77b4; stroke: #1f77b4\"/>\n     <use xlink:href=\"#m59475243ba\" x=\"152.985513\" y=\"97.720531\" style=\"fill: #1f77b4; stroke: #1f77b4\"/>\n     <use xlink:href=\"#m59475243ba\" x=\"159.466956\" y=\"86.599993\" style=\"fill: #1f77b4; stroke: #1f77b4\"/>\n     <use xlink:href=\"#m59475243ba\" x=\"69.460675\" y=\"34.059721\" style=\"fill: #1f77b4; stroke: #1f77b4\"/>\n     <use xlink:href=\"#m59475243ba\" x=\"99.384558\" y=\"43.312418\" style=\"fill: #1f77b4; stroke: #1f77b4\"/>\n     <use xlink:href=\"#m59475243ba\" x=\"136.754692\" y=\"92.370712\" style=\"fill: #1f77b4; stroke: #1f77b4\"/>\n     <use xlink:href=\"#m59475243ba\" x=\"111.405273\" y=\"57.207352\" style=\"fill: #1f77b4; stroke: #1f77b4\"/>\n     <use xlink:href=\"#m59475243ba\" x=\"76.945039\" y=\"37.330501\" style=\"fill: #1f77b4; stroke: #1f77b4\"/>\n     <use xlink:href=\"#m59475243ba\" x=\"125.835136\" y=\"87.229707\" style=\"fill: #1f77b4; stroke: #1f77b4\"/>\n     <use xlink:href=\"#m59475243ba\" x=\"140.517272\" y=\"72.068217\" style=\"fill: #1f77b4; stroke: #1f77b4\"/>\n     <use xlink:href=\"#m59475243ba\" x=\"134.144585\" y=\"79.887184\" style=\"fill: #1f77b4; stroke: #1f77b4\"/>\n     <use xlink:href=\"#m59475243ba\" x=\"116.230175\" y=\"61.400023\" style=\"fill: #1f77b4; stroke: #1f77b4\"/>\n     <use xlink:href=\"#m59475243ba\" x=\"115.515776\" y=\"67.305581\" style=\"fill: #1f77b4; stroke: #1f77b4\"/>\n     <use xlink:href=\"#m59475243ba\" x=\"188.887802\" y=\"98.50041\" style=\"fill: #1f77b4; stroke: #1f77b4\"/>\n     <use xlink:href=\"#m59475243ba\" x=\"120.852204\" y=\"75.314482\" style=\"fill: #1f77b4; stroke: #1f77b4\"/>\n     <use xlink:href=\"#m59475243ba\" x=\"163.348071\" y=\"85.807115\" style=\"fill: #1f77b4; stroke: #1f77b4\"/>\n     <use xlink:href=\"#m59475243ba\" x=\"112.715524\" y=\"69.616363\" style=\"fill: #1f77b4; stroke: #1f77b4\"/>\n     <use xlink:href=\"#m59475243ba\" x=\"87.787488\" y=\"45.522598\" style=\"fill: #1f77b4; stroke: #1f77b4\"/>\n     <use xlink:href=\"#m59475243ba\" x=\"115.941648\" y=\"47.986034\" style=\"fill: #1f77b4; stroke: #1f77b4\"/>\n     <use xlink:href=\"#m59475243ba\" x=\"126.854677\" y=\"73.739191\" style=\"fill: #1f77b4; stroke: #1f77b4\"/>\n     <use xlink:href=\"#m59475243ba\" x=\"116.397905\" y=\"58.355992\" style=\"fill: #1f77b4; stroke: #1f77b4\"/>\n     <use xlink:href=\"#m59475243ba\" x=\"97.956082\" y=\"54.357521\" style=\"fill: #1f77b4; stroke: #1f77b4\"/>\n     <use xlink:href=\"#m59475243ba\" x=\"160.45149\" y=\"98.36412\" style=\"fill: #1f77b4; stroke: #1f77b4\"/>\n     <use xlink:href=\"#m59475243ba\" x=\"112.392204\" y=\"41.126067\" style=\"fill: #1f77b4; stroke: #1f77b4\"/>\n     <use xlink:href=\"#m59475243ba\" x=\"127.014939\" y=\"84.344174\" style=\"fill: #1f77b4; stroke: #1f77b4\"/>\n     <use xlink:href=\"#m59475243ba\" x=\"194.805975\" y=\"117.242859\" style=\"fill: #1f77b4; stroke: #1f77b4\"/>\n     <use xlink:href=\"#m59475243ba\" x=\"62.929196\" y=\"30.902849\" style=\"fill: #1f77b4; stroke: #1f77b4\"/>\n     <use xlink:href=\"#m59475243ba\" x=\"102.518451\" y=\"55.864305\" style=\"fill: #1f77b4; stroke: #1f77b4\"/>\n     <use xlink:href=\"#m59475243ba\" x=\"104.760301\" y=\"42.393202\" style=\"fill: #1f77b4; stroke: #1f77b4\"/>\n     <use xlink:href=\"#m59475243ba\" x=\"74.443441\" y=\"45.199424\" style=\"fill: #1f77b4; stroke: #1f77b4\"/>\n     <use xlink:href=\"#m59475243ba\" x=\"94.792833\" y=\"63.316927\" style=\"fill: #1f77b4; stroke: #1f77b4\"/>\n     <use xlink:href=\"#m59475243ba\" x=\"145.929395\" y=\"80.975098\" style=\"fill: #1f77b4; stroke: #1f77b4\"/>\n     <use xlink:href=\"#m59475243ba\" x=\"104.341876\" y=\"53.675747\" style=\"fill: #1f77b4; stroke: #1f77b4\"/>\n     <use xlink:href=\"#m59475243ba\" x=\"131.655142\" y=\"71.11951\" style=\"fill: #1f77b4; stroke: #1f77b4\"/>\n     <use xlink:href=\"#m59475243ba\" x=\"90.847926\" y=\"69.65975\" style=\"fill: #1f77b4; stroke: #1f77b4\"/>\n     <use xlink:href=\"#m59475243ba\" x=\"119.8819\" y=\"90.359601\" style=\"fill: #1f77b4; stroke: #1f77b4\"/>\n     <use xlink:href=\"#m59475243ba\" x=\"113.846089\" y=\"56.397291\" style=\"fill: #1f77b4; stroke: #1f77b4\"/>\n     <use xlink:href=\"#m59475243ba\" x=\"121.305698\" y=\"61.31971\" style=\"fill: #1f77b4; stroke: #1f77b4\"/>\n     <use xlink:href=\"#m59475243ba\" x=\"143.873463\" y=\"66.161543\" style=\"fill: #1f77b4; stroke: #1f77b4\"/>\n     <use xlink:href=\"#m59475243ba\" x=\"132.395058\" y=\"72.147807\" style=\"fill: #1f77b4; stroke: #1f77b4\"/>\n     <use xlink:href=\"#m59475243ba\" x=\"151.676862\" y=\"100.355786\" style=\"fill: #1f77b4; stroke: #1f77b4\"/>\n     <use xlink:href=\"#m59475243ba\" x=\"156.634845\" y=\"89.377257\" style=\"fill: #1f77b4; stroke: #1f77b4\"/>\n     <use xlink:href=\"#m59475243ba\" x=\"148.972029\" y=\"96.043446\" style=\"fill: #1f77b4; stroke: #1f77b4\"/>\n     <use xlink:href=\"#m59475243ba\" x=\"122.094174\" y=\"73.912957\" style=\"fill: #1f77b4; stroke: #1f77b4\"/>\n     <use xlink:href=\"#m59475243ba\" x=\"73.647762\" y=\"51.458092\" style=\"fill: #1f77b4; stroke: #1f77b4\"/>\n     <use xlink:href=\"#m59475243ba\" x=\"73.116607\" y=\"30.703244\" style=\"fill: #1f77b4; stroke: #1f77b4\"/>\n     <use xlink:href=\"#m59475243ba\" x=\"132.705484\" y=\"71.784074\" style=\"fill: #1f77b4; stroke: #1f77b4\"/>\n     <use xlink:href=\"#m59475243ba\" x=\"106.183886\" y=\"58.967544\" style=\"fill: #1f77b4; stroke: #1f77b4\"/>\n     <use xlink:href=\"#m59475243ba\" x=\"96.181587\" y=\"59.105885\" style=\"fill: #1f77b4; stroke: #1f77b4\"/>\n     <use xlink:href=\"#m59475243ba\" x=\"106.142962\" y=\"61.731453\" style=\"fill: #1f77b4; stroke: #1f77b4\"/>\n     <use xlink:href=\"#m59475243ba\" x=\"139.694642\" y=\"81.22341\" style=\"fill: #1f77b4; stroke: #1f77b4\"/>\n     <use xlink:href=\"#m59475243ba\" x=\"128.101631\" y=\"69.169595\" style=\"fill: #1f77b4; stroke: #1f77b4\"/>\n     <use xlink:href=\"#m59475243ba\" x=\"126.936816\" y=\"73.223578\" style=\"fill: #1f77b4; stroke: #1f77b4\"/>\n     <use xlink:href=\"#m59475243ba\" x=\"129.51688\" y=\"68.116179\" style=\"fill: #1f77b4; stroke: #1f77b4\"/>\n     <use xlink:href=\"#m59475243ba\" x=\"167.833164\" y=\"96.11911\" style=\"fill: #1f77b4; stroke: #1f77b4\"/>\n     <use xlink:href=\"#m59475243ba\" x=\"145.346515\" y=\"96.064917\" style=\"fill: #1f77b4; stroke: #1f77b4\"/>\n     <use xlink:href=\"#m59475243ba\" x=\"135.595296\" y=\"55.85913\" style=\"fill: #1f77b4; stroke: #1f77b4\"/>\n     <use xlink:href=\"#m59475243ba\" x=\"124.247653\" y=\"99.150614\" style=\"fill: #1f77b4; stroke: #1f77b4\"/>\n     <use xlink:href=\"#m59475243ba\" x=\"109.411954\" y=\"53.271261\" style=\"fill: #1f77b4; stroke: #1f77b4\"/>\n     <use xlink:href=\"#m59475243ba\" x=\"157.367819\" y=\"75.003483\" style=\"fill: #1f77b4; stroke: #1f77b4\"/>\n     <use xlink:href=\"#m59475243ba\" x=\"103.611506\" y=\"57.308044\" style=\"fill: #1f77b4; stroke: #1f77b4\"/>\n     <use xlink:href=\"#m59475243ba\" x=\"108.030151\" y=\"49.242701\" style=\"fill: #1f77b4; stroke: #1f77b4\"/>\n     <use xlink:href=\"#m59475243ba\" x=\"122.239153\" y=\"73.062704\" style=\"fill: #1f77b4; stroke: #1f77b4\"/>\n     <use xlink:href=\"#m59475243ba\" x=\"159.69566\" y=\"83.088031\" style=\"fill: #1f77b4; stroke: #1f77b4\"/>\n     <use xlink:href=\"#m59475243ba\" x=\"113.036913\" y=\"65.473966\" style=\"fill: #1f77b4; stroke: #1f77b4\"/>\n     <use xlink:href=\"#m59475243ba\" x=\"142.681683\" y=\"86.024792\" style=\"fill: #1f77b4; stroke: #1f77b4\"/>\n     <use xlink:href=\"#m59475243ba\" x=\"105.128492\" y=\"81.337789\" style=\"fill: #1f77b4; stroke: #1f77b4\"/>\n     <use xlink:href=\"#m59475243ba\" x=\"122.15118\" y=\"87.597449\" style=\"fill: #1f77b4; stroke: #1f77b4\"/>\n     <use xlink:href=\"#m59475243ba\" x=\"138.072113\" y=\"85.025916\" style=\"fill: #1f77b4; stroke: #1f77b4\"/>\n     <use xlink:href=\"#m59475243ba\" x=\"168.795287\" y=\"94.503932\" style=\"fill: #1f77b4; stroke: #1f77b4\"/>\n     <use xlink:href=\"#m59475243ba\" x=\"119.112744\" y=\"60.724814\" style=\"fill: #1f77b4; stroke: #1f77b4\"/>\n     <use xlink:href=\"#m59475243ba\" x=\"151.25662\" y=\"85.234059\" style=\"fill: #1f77b4; stroke: #1f77b4\"/>\n     <use xlink:href=\"#m59475243ba\" x=\"117.053677\" y=\"65.787994\" style=\"fill: #1f77b4; stroke: #1f77b4\"/>\n     <use xlink:href=\"#m59475243ba\" x=\"95.310532\" y=\"50.359464\" style=\"fill: #1f77b4; stroke: #1f77b4\"/>\n     <use xlink:href=\"#m59475243ba\" x=\"144.306165\" y=\"83.021158\" style=\"fill: #1f77b4; stroke: #1f77b4\"/>\n     <use xlink:href=\"#m59475243ba\" x=\"127.050672\" y=\"80.591749\" style=\"fill: #1f77b4; stroke: #1f77b4\"/>\n     <use xlink:href=\"#m59475243ba\" x=\"139.639974\" y=\"73.157057\" style=\"fill: #1f77b4; stroke: #1f77b4\"/>\n     <use xlink:href=\"#m59475243ba\" x=\"153.609011\" y=\"87.744914\" style=\"fill: #1f77b4; stroke: #1f77b4\"/>\n     <use xlink:href=\"#m59475243ba\" x=\"160.731439\" y=\"91.961153\" style=\"fill: #1f77b4; stroke: #1f77b4\"/>\n     <use xlink:href=\"#m59475243ba\" x=\"155.526076\" y=\"75.954517\" style=\"fill: #1f77b4; stroke: #1f77b4\"/>\n     <use xlink:href=\"#m59475243ba\" x=\"91.146065\" y=\"50.561824\" style=\"fill: #1f77b4; stroke: #1f77b4\"/>\n     <use xlink:href=\"#m59475243ba\" x=\"101.127977\" y=\"66.608414\" style=\"fill: #1f77b4; stroke: #1f77b4\"/>\n     <use xlink:href=\"#m59475243ba\" x=\"123.543247\" y=\"72.022359\" style=\"fill: #1f77b4; stroke: #1f77b4\"/>\n     <use xlink:href=\"#m59475243ba\" x=\"134.901159\" y=\"76.438279\" style=\"fill: #1f77b4; stroke: #1f77b4\"/>\n     <use xlink:href=\"#m59475243ba\" x=\"93.194649\" y=\"39.589552\" style=\"fill: #1f77b4; stroke: #1f77b4\"/>\n     <use xlink:href=\"#m59475243ba\" x=\"133.432922\" y=\"67.528049\" style=\"fill: #1f77b4; stroke: #1f77b4\"/>\n     <use xlink:href=\"#m59475243ba\" x=\"139.062605\" y=\"74.194908\" style=\"fill: #1f77b4; stroke: #1f77b4\"/>\n     <use xlink:href=\"#m59475243ba\" x=\"148.921664\" y=\"91.408404\" style=\"fill: #1f77b4; stroke: #1f77b4\"/>\n     <use xlink:href=\"#m59475243ba\" x=\"132.732341\" y=\"65.884165\" style=\"fill: #1f77b4; stroke: #1f77b4\"/>\n     <use xlink:href=\"#m59475243ba\" x=\"121.245276\" y=\"64.646543\" style=\"fill: #1f77b4; stroke: #1f77b4\"/>\n     <use xlink:href=\"#m59475243ba\" x=\"137.834226\" y=\"81.183519\" style=\"fill: #1f77b4; stroke: #1f77b4\"/>\n     <use xlink:href=\"#m59475243ba\" x=\"116.363595\" y=\"50.826328\" style=\"fill: #1f77b4; stroke: #1f77b4\"/>\n     <use xlink:href=\"#m59475243ba\" x=\"137.429036\" y=\"72.468594\" style=\"fill: #1f77b4; stroke: #1f77b4\"/>\n     <use xlink:href=\"#m59475243ba\" x=\"124.328172\" y=\"57.955247\" style=\"fill: #1f77b4; stroke: #1f77b4\"/>\n     <use xlink:href=\"#m59475243ba\" x=\"92.766754\" y=\"36.994847\" style=\"fill: #1f77b4; stroke: #1f77b4\"/>\n     <use xlink:href=\"#m59475243ba\" x=\"107.574151\" y=\"56.779731\" style=\"fill: #1f77b4; stroke: #1f77b4\"/>\n     <use xlink:href=\"#m59475243ba\" x=\"113.198044\" y=\"68.319604\" style=\"fill: #1f77b4; stroke: #1f77b4\"/>\n     <use xlink:href=\"#m59475243ba\" x=\"127.625584\" y=\"89.5903\" style=\"fill: #1f77b4; stroke: #1f77b4\"/>\n     <use xlink:href=\"#m59475243ba\" x=\"125.27894\" y=\"81.103918\" style=\"fill: #1f77b4; stroke: #1f77b4\"/>\n     <use xlink:href=\"#m59475243ba\" x=\"135.45611\" y=\"92.092658\" style=\"fill: #1f77b4; stroke: #1f77b4\"/>\n     <use xlink:href=\"#m59475243ba\" x=\"121.276416\" y=\"59.936669\" style=\"fill: #1f77b4; stroke: #1f77b4\"/>\n     <use xlink:href=\"#m59475243ba\" x=\"106.650996\" y=\"46.078271\" style=\"fill: #1f77b4; stroke: #1f77b4\"/>\n     <use xlink:href=\"#m59475243ba\" x=\"138.379134\" y=\"68.921355\" style=\"fill: #1f77b4; stroke: #1f77b4\"/>\n     <use xlink:href=\"#m59475243ba\" x=\"115.057308\" y=\"68.280777\" style=\"fill: #1f77b4; stroke: #1f77b4\"/>\n     <use xlink:href=\"#m59475243ba\" x=\"106.166615\" y=\"51.176955\" style=\"fill: #1f77b4; stroke: #1f77b4\"/>\n     <use xlink:href=\"#m59475243ba\" x=\"102.99466\" y=\"49.132584\" style=\"fill: #1f77b4; stroke: #1f77b4\"/>\n     <use xlink:href=\"#m59475243ba\" x=\"127.787866\" y=\"62.27273\" style=\"fill: #1f77b4; stroke: #1f77b4\"/>\n     <use xlink:href=\"#m59475243ba\" x=\"188.572609\" y=\"90.28749\" style=\"fill: #1f77b4; stroke: #1f77b4\"/>\n     <use xlink:href=\"#m59475243ba\" x=\"123.950991\" y=\"71.649718\" style=\"fill: #1f77b4; stroke: #1f77b4\"/>\n     <use xlink:href=\"#m59475243ba\" x=\"156.613674\" y=\"71.8862\" style=\"fill: #1f77b4; stroke: #1f77b4\"/>\n     <use xlink:href=\"#m59475243ba\" x=\"162.590785\" y=\"102.173384\" style=\"fill: #1f77b4; stroke: #1f77b4\"/>\n     <use xlink:href=\"#m59475243ba\" x=\"130.531064\" y=\"64.45324\" style=\"fill: #1f77b4; stroke: #1f77b4\"/>\n     <use xlink:href=\"#m59475243ba\" x=\"152.597395\" y=\"76.260866\" style=\"fill: #1f77b4; stroke: #1f77b4\"/>\n     <use xlink:href=\"#m59475243ba\" x=\"157.590791\" y=\"94.805901\" style=\"fill: #1f77b4; stroke: #1f77b4\"/>\n     <use xlink:href=\"#m59475243ba\" x=\"148.170224\" y=\"92.159436\" style=\"fill: #1f77b4; stroke: #1f77b4\"/>\n     <use xlink:href=\"#m59475243ba\" x=\"92.71067\" y=\"47.675748\" style=\"fill: #1f77b4; stroke: #1f77b4\"/>\n     <use xlink:href=\"#m59475243ba\" x=\"151.258961\" y=\"67.334905\" style=\"fill: #1f77b4; stroke: #1f77b4\"/>\n     <use xlink:href=\"#m59475243ba\" x=\"173.494255\" y=\"108.154433\" style=\"fill: #1f77b4; stroke: #1f77b4\"/>\n     <use xlink:href=\"#m59475243ba\" x=\"116.778895\" y=\"60.051445\" style=\"fill: #1f77b4; stroke: #1f77b4\"/>\n     <use xlink:href=\"#m59475243ba\" x=\"124.662136\" y=\"78.028221\" style=\"fill: #1f77b4; stroke: #1f77b4\"/>\n     <use xlink:href=\"#m59475243ba\" x=\"93.116861\" y=\"41.859474\" style=\"fill: #1f77b4; stroke: #1f77b4\"/>\n     <use xlink:href=\"#m59475243ba\" x=\"103.343779\" y=\"52.700574\" style=\"fill: #1f77b4; stroke: #1f77b4\"/>\n     <use xlink:href=\"#m59475243ba\" x=\"145.551759\" y=\"65.358677\" style=\"fill: #1f77b4; stroke: #1f77b4\"/>\n     <use xlink:href=\"#m59475243ba\" x=\"107.71453\" y=\"54.816407\" style=\"fill: #1f77b4; stroke: #1f77b4\"/>\n     <use xlink:href=\"#m59475243ba\" x=\"125.667668\" y=\"65.897564\" style=\"fill: #1f77b4; stroke: #1f77b4\"/>\n     <use xlink:href=\"#m59475243ba\" x=\"165.779347\" y=\"99.615811\" style=\"fill: #1f77b4; stroke: #1f77b4\"/>\n     <use xlink:href=\"#m59475243ba\" x=\"121.193448\" y=\"54.504842\" style=\"fill: #1f77b4; stroke: #1f77b4\"/>\n     <use xlink:href=\"#m59475243ba\" x=\"75.584495\" y=\"45.572986\" style=\"fill: #1f77b4; stroke: #1f77b4\"/>\n     <use xlink:href=\"#m59475243ba\" x=\"99.148629\" y=\"58.633936\" style=\"fill: #1f77b4; stroke: #1f77b4\"/>\n     <use xlink:href=\"#m59475243ba\" x=\"118.92424\" y=\"77.768643\" style=\"fill: #1f77b4; stroke: #1f77b4\"/>\n     <use xlink:href=\"#m59475243ba\" x=\"100.447938\" y=\"50.105465\" style=\"fill: #1f77b4; stroke: #1f77b4\"/>\n     <use xlink:href=\"#m59475243ba\" x=\"132.910109\" y=\"71.235352\" style=\"fill: #1f77b4; stroke: #1f77b4\"/>\n     <use xlink:href=\"#m59475243ba\" x=\"169.72149\" y=\"107.696097\" style=\"fill: #1f77b4; stroke: #1f77b4\"/>\n     <use xlink:href=\"#m59475243ba\" x=\"110.648016\" y=\"51.971003\" style=\"fill: #1f77b4; stroke: #1f77b4\"/>\n     <use xlink:href=\"#m59475243ba\" x=\"145.6627\" y=\"85.911289\" style=\"fill: #1f77b4; stroke: #1f77b4\"/>\n     <use xlink:href=\"#m59475243ba\" x=\"128.650911\" y=\"79.049425\" style=\"fill: #1f77b4; stroke: #1f77b4\"/>\n     <use xlink:href=\"#m59475243ba\" x=\"115.736553\" y=\"46.901413\" style=\"fill: #1f77b4; stroke: #1f77b4\"/>\n     <use xlink:href=\"#m59475243ba\" x=\"121.556914\" y=\"57.412631\" style=\"fill: #1f77b4; stroke: #1f77b4\"/>\n     <use xlink:href=\"#m59475243ba\" x=\"93.515272\" y=\"53.345794\" style=\"fill: #1f77b4; stroke: #1f77b4\"/>\n     <use xlink:href=\"#m59475243ba\" x=\"127.525259\" y=\"69.291864\" style=\"fill: #1f77b4; stroke: #1f77b4\"/>\n     <use xlink:href=\"#m59475243ba\" x=\"122.462095\" y=\"72.936293\" style=\"fill: #1f77b4; stroke: #1f77b4\"/>\n     <use xlink:href=\"#m59475243ba\" x=\"126.910681\" y=\"63.722267\" style=\"fill: #1f77b4; stroke: #1f77b4\"/>\n     <use xlink:href=\"#m59475243ba\" x=\"105.376091\" y=\"68.038559\" style=\"fill: #1f77b4; stroke: #1f77b4\"/>\n     <use xlink:href=\"#m59475243ba\" x=\"148.085378\" y=\"73.091597\" style=\"fill: #1f77b4; stroke: #1f77b4\"/>\n     <use xlink:href=\"#m59475243ba\" x=\"132.993186\" y=\"70.581279\" style=\"fill: #1f77b4; stroke: #1f77b4\"/>\n     <use xlink:href=\"#m59475243ba\" x=\"100.652284\" y=\"53.663115\" style=\"fill: #1f77b4; stroke: #1f77b4\"/>\n     <use xlink:href=\"#m59475243ba\" x=\"129.9263\" y=\"62.226813\" style=\"fill: #1f77b4; stroke: #1f77b4\"/>\n     <use xlink:href=\"#m59475243ba\" x=\"178.744073\" y=\"89.260142\" style=\"fill: #1f77b4; stroke: #1f77b4\"/>\n     <use xlink:href=\"#m59475243ba\" x=\"147.421272\" y=\"78.128548\" style=\"fill: #1f77b4; stroke: #1f77b4\"/>\n     <use xlink:href=\"#m59475243ba\" x=\"175.091063\" y=\"103.961132\" style=\"fill: #1f77b4; stroke: #1f77b4\"/>\n     <use xlink:href=\"#m59475243ba\" x=\"103.421547\" y=\"62.493285\" style=\"fill: #1f77b4; stroke: #1f77b4\"/>\n     <use xlink:href=\"#m59475243ba\" x=\"132.068162\" y=\"59.668059\" style=\"fill: #1f77b4; stroke: #1f77b4\"/>\n     <use xlink:href=\"#m59475243ba\" x=\"110.937041\" y=\"63.900902\" style=\"fill: #1f77b4; stroke: #1f77b4\"/>\n     <use xlink:href=\"#m59475243ba\" x=\"94.513904\" y=\"38.942984\" style=\"fill: #1f77b4; stroke: #1f77b4\"/>\n     <use xlink:href=\"#m59475243ba\" x=\"117.083518\" y=\"76.106622\" style=\"fill: #1f77b4; stroke: #1f77b4\"/>\n     <use xlink:href=\"#m59475243ba\" x=\"138.097085\" y=\"84.67227\" style=\"fill: #1f77b4; stroke: #1f77b4\"/>\n     <use xlink:href=\"#m59475243ba\" x=\"122.529156\" y=\"62.155708\" style=\"fill: #1f77b4; stroke: #1f77b4\"/>\n     <use xlink:href=\"#m59475243ba\" x=\"161.894115\" y=\"95.46386\" style=\"fill: #1f77b4; stroke: #1f77b4\"/>\n     <use xlink:href=\"#m59475243ba\" x=\"97.110257\" y=\"45.963525\" style=\"fill: #1f77b4; stroke: #1f77b4\"/>\n     <use xlink:href=\"#m59475243ba\" x=\"148.548537\" y=\"78.836276\" style=\"fill: #1f77b4; stroke: #1f77b4\"/>\n     <use xlink:href=\"#m59475243ba\" x=\"141.375742\" y=\"71.306259\" style=\"fill: #1f77b4; stroke: #1f77b4\"/>\n     <use xlink:href=\"#m59475243ba\" x=\"112.963715\" y=\"70.027966\" style=\"fill: #1f77b4; stroke: #1f77b4\"/>\n     <use xlink:href=\"#m59475243ba\" x=\"80.075846\" y=\"59.752047\" style=\"fill: #1f77b4; stroke: #1f77b4\"/>\n     <use xlink:href=\"#m59475243ba\" x=\"143.635301\" y=\"82.583158\" style=\"fill: #1f77b4; stroke: #1f77b4\"/>\n     <use xlink:href=\"#m59475243ba\" x=\"140.307133\" y=\"80.212045\" style=\"fill: #1f77b4; stroke: #1f77b4\"/>\n     <use xlink:href=\"#m59475243ba\" x=\"131.666355\" y=\"77.471742\" style=\"fill: #1f77b4; stroke: #1f77b4\"/>\n     <use xlink:href=\"#m59475243ba\" x=\"139.702386\" y=\"77.697777\" style=\"fill: #1f77b4; stroke: #1f77b4\"/>\n     <use xlink:href=\"#m59475243ba\" x=\"111.800833\" y=\"57.883042\" style=\"fill: #1f77b4; stroke: #1f77b4\"/>\n     <use xlink:href=\"#m59475243ba\" x=\"124.380304\" y=\"76.708742\" style=\"fill: #1f77b4; stroke: #1f77b4\"/>\n     <use xlink:href=\"#m59475243ba\" x=\"147.025084\" y=\"73.720574\" style=\"fill: #1f77b4; stroke: #1f77b4\"/>\n     <use xlink:href=\"#m59475243ba\" x=\"126.260636\" y=\"72.318607\" style=\"fill: #1f77b4; stroke: #1f77b4\"/>\n     <use xlink:href=\"#m59475243ba\" x=\"158.39474\" y=\"87.24761\" style=\"fill: #1f77b4; stroke: #1f77b4\"/>\n     <use xlink:href=\"#m59475243ba\" x=\"105.951713\" y=\"56.477557\" style=\"fill: #1f77b4; stroke: #1f77b4\"/>\n     <use xlink:href=\"#m59475243ba\" x=\"155.520962\" y=\"83.319426\" style=\"fill: #1f77b4; stroke: #1f77b4\"/>\n     <use xlink:href=\"#m59475243ba\" x=\"126.794986\" y=\"69.827121\" style=\"fill: #1f77b4; stroke: #1f77b4\"/>\n     <use xlink:href=\"#m59475243ba\" x=\"109.710278\" y=\"67.038265\" style=\"fill: #1f77b4; stroke: #1f77b4\"/>\n     <use xlink:href=\"#m59475243ba\" x=\"151.166741\" y=\"76.265867\" style=\"fill: #1f77b4; stroke: #1f77b4\"/>\n     <use xlink:href=\"#m59475243ba\" x=\"108.190112\" y=\"72.044776\" style=\"fill: #1f77b4; stroke: #1f77b4\"/>\n     <use xlink:href=\"#m59475243ba\" x=\"128.443427\" y=\"64.627704\" style=\"fill: #1f77b4; stroke: #1f77b4\"/>\n     <use xlink:href=\"#m59475243ba\" x=\"154.618477\" y=\"101.085385\" style=\"fill: #1f77b4; stroke: #1f77b4\"/>\n     <use xlink:href=\"#m59475243ba\" x=\"154.003155\" y=\"78.668335\" style=\"fill: #1f77b4; stroke: #1f77b4\"/>\n     <use xlink:href=\"#m59475243ba\" x=\"99.697909\" y=\"54.848121\" style=\"fill: #1f77b4; stroke: #1f77b4\"/>\n     <use xlink:href=\"#m59475243ba\" x=\"188.361236\" y=\"106.078001\" style=\"fill: #1f77b4; stroke: #1f77b4\"/>\n     <use xlink:href=\"#m59475243ba\" x=\"90.599132\" y=\"59.344557\" style=\"fill: #1f77b4; stroke: #1f77b4\"/>\n     <use xlink:href=\"#m59475243ba\" x=\"153.055351\" y=\"72.183587\" style=\"fill: #1f77b4; stroke: #1f77b4\"/>\n     <use xlink:href=\"#m59475243ba\" x=\"89.112021\" y=\"67.387871\" style=\"fill: #1f77b4; stroke: #1f77b4\"/>\n     <use xlink:href=\"#m59475243ba\" x=\"130.831675\" y=\"74.331128\" style=\"fill: #1f77b4; stroke: #1f77b4\"/>\n     <use xlink:href=\"#m59475243ba\" x=\"162.639825\" y=\"91.295795\" style=\"fill: #1f77b4; stroke: #1f77b4\"/>\n     <use xlink:href=\"#m59475243ba\" x=\"109.28862\" y=\"49.180772\" style=\"fill: #1f77b4; stroke: #1f77b4\"/>\n     <use xlink:href=\"#m59475243ba\" x=\"107.628684\" y=\"64.836276\" style=\"fill: #1f77b4; stroke: #1f77b4\"/>\n     <use xlink:href=\"#m59475243ba\" x=\"173.288864\" y=\"111.18276\" style=\"fill: #1f77b4; stroke: #1f77b4\"/>\n     <use xlink:href=\"#m59475243ba\" x=\"110.092747\" y=\"74.775336\" style=\"fill: #1f77b4; stroke: #1f77b4\"/>\n     <use xlink:href=\"#m59475243ba\" x=\"120.197748\" y=\"72.932817\" style=\"fill: #1f77b4; stroke: #1f77b4\"/>\n     <use xlink:href=\"#m59475243ba\" x=\"111.818834\" y=\"58.954177\" style=\"fill: #1f77b4; stroke: #1f77b4\"/>\n     <use xlink:href=\"#m59475243ba\" x=\"139.751941\" y=\"70.121187\" style=\"fill: #1f77b4; stroke: #1f77b4\"/>\n     <use xlink:href=\"#m59475243ba\" x=\"142.999889\" y=\"89.080765\" style=\"fill: #1f77b4; stroke: #1f77b4\"/>\n     <use xlink:href=\"#m59475243ba\" x=\"141.223276\" y=\"78.843961\" style=\"fill: #1f77b4; stroke: #1f77b4\"/>\n     <use xlink:href=\"#m59475243ba\" x=\"156.120012\" y=\"105.43693\" style=\"fill: #1f77b4; stroke: #1f77b4\"/>\n     <use xlink:href=\"#m59475243ba\" x=\"131.184141\" y=\"89.162579\" style=\"fill: #1f77b4; stroke: #1f77b4\"/>\n     <use xlink:href=\"#m59475243ba\" x=\"140.615747\" y=\"74.208241\" style=\"fill: #1f77b4; stroke: #1f77b4\"/>\n     <use xlink:href=\"#m59475243ba\" x=\"126.328572\" y=\"78.977404\" style=\"fill: #1f77b4; stroke: #1f77b4\"/>\n     <use xlink:href=\"#m59475243ba\" x=\"117.384402\" y=\"62.209777\" style=\"fill: #1f77b4; stroke: #1f77b4\"/>\n     <use xlink:href=\"#m59475243ba\" x=\"121.05665\" y=\"76.097397\" style=\"fill: #1f77b4; stroke: #1f77b4\"/>\n     <use xlink:href=\"#m59475243ba\" x=\"84.748362\" y=\"46.940875\" style=\"fill: #1f77b4; stroke: #1f77b4\"/>\n     <use xlink:href=\"#m59475243ba\" x=\"150.658327\" y=\"80.819152\" style=\"fill: #1f77b4; stroke: #1f77b4\"/>\n     <use xlink:href=\"#m59475243ba\" x=\"44.18196\" y=\"18.193058\" style=\"fill: #1f77b4; stroke: #1f77b4\"/>\n     <use xlink:href=\"#m59475243ba\" x=\"131.387088\" y=\"72.45962\" style=\"fill: #1f77b4; stroke: #1f77b4\"/>\n     <use xlink:href=\"#m59475243ba\" x=\"146.555229\" y=\"91.793568\" style=\"fill: #1f77b4; stroke: #1f77b4\"/>\n     <use xlink:href=\"#m59475243ba\" x=\"151.548561\" y=\"95.430681\" style=\"fill: #1f77b4; stroke: #1f77b4\"/>\n     <use xlink:href=\"#m59475243ba\" x=\"149.694833\" y=\"75.111702\" style=\"fill: #1f77b4; stroke: #1f77b4\"/>\n     <use xlink:href=\"#m59475243ba\" x=\"110.231189\" y=\"58.901227\" style=\"fill: #1f77b4; stroke: #1f77b4\"/>\n     <use xlink:href=\"#m59475243ba\" x=\"148.675656\" y=\"89.577152\" style=\"fill: #1f77b4; stroke: #1f77b4\"/>\n     <use xlink:href=\"#m59475243ba\" x=\"128.607274\" y=\"82.229937\" style=\"fill: #1f77b4; stroke: #1f77b4\"/>\n     <use xlink:href=\"#m59475243ba\" x=\"152.473551\" y=\"77.85707\" style=\"fill: #1f77b4; stroke: #1f77b4\"/>\n     <use xlink:href=\"#m59475243ba\" x=\"156.712163\" y=\"106.731751\" style=\"fill: #1f77b4; stroke: #1f77b4\"/>\n     <use xlink:href=\"#m59475243ba\" x=\"149.680508\" y=\"91.768277\" style=\"fill: #1f77b4; stroke: #1f77b4\"/>\n     <use xlink:href=\"#m59475243ba\" x=\"129.907139\" y=\"75.995892\" style=\"fill: #1f77b4; stroke: #1f77b4\"/>\n     <use xlink:href=\"#m59475243ba\" x=\"153.017204\" y=\"79.707161\" style=\"fill: #1f77b4; stroke: #1f77b4\"/>\n     <use xlink:href=\"#m59475243ba\" x=\"84.73977\" y=\"37.799573\" style=\"fill: #1f77b4; stroke: #1f77b4\"/>\n     <use xlink:href=\"#m59475243ba\" x=\"132.343091\" y=\"71.745201\" style=\"fill: #1f77b4; stroke: #1f77b4\"/>\n     <use xlink:href=\"#m59475243ba\" x=\"112.213366\" y=\"63.654529\" style=\"fill: #1f77b4; stroke: #1f77b4\"/>\n     <use xlink:href=\"#m59475243ba\" x=\"163.06538\" y=\"94.525066\" style=\"fill: #1f77b4; stroke: #1f77b4\"/>\n     <use xlink:href=\"#m59475243ba\" x=\"171.069456\" y=\"108.691609\" style=\"fill: #1f77b4; stroke: #1f77b4\"/>\n     <use xlink:href=\"#m59475243ba\" x=\"97.954812\" y=\"48.328206\" style=\"fill: #1f77b4; stroke: #1f77b4\"/>\n     <use xlink:href=\"#m59475243ba\" x=\"122.43021\" y=\"70.19624\" style=\"fill: #1f77b4; stroke: #1f77b4\"/>\n     <use xlink:href=\"#m59475243ba\" x=\"108.961004\" y=\"57.077344\" style=\"fill: #1f77b4; stroke: #1f77b4\"/>\n     <use xlink:href=\"#m59475243ba\" x=\"154.898151\" y=\"74.18934\" style=\"fill: #1f77b4; stroke: #1f77b4\"/>\n     <use xlink:href=\"#m59475243ba\" x=\"118.040726\" y=\"48.923904\" style=\"fill: #1f77b4; stroke: #1f77b4\"/>\n     <use xlink:href=\"#m59475243ba\" x=\"144.256138\" y=\"99.467274\" style=\"fill: #1f77b4; stroke: #1f77b4\"/>\n     <use xlink:href=\"#m59475243ba\" x=\"100.897211\" y=\"60.544844\" style=\"fill: #1f77b4; stroke: #1f77b4\"/>\n     <use xlink:href=\"#m59475243ba\" x=\"136.278628\" y=\"82.068202\" style=\"fill: #1f77b4; stroke: #1f77b4\"/>\n     <use xlink:href=\"#m59475243ba\" x=\"130.013242\" y=\"59.616236\" style=\"fill: #1f77b4; stroke: #1f77b4\"/>\n     <use xlink:href=\"#m59475243ba\" x=\"165.503437\" y=\"95.990142\" style=\"fill: #1f77b4; stroke: #1f77b4\"/>\n     <use xlink:href=\"#m59475243ba\" x=\"89.810249\" y=\"57.740858\" style=\"fill: #1f77b4; stroke: #1f77b4\"/>\n     <use xlink:href=\"#m59475243ba\" x=\"106.13946\" y=\"64.033298\" style=\"fill: #1f77b4; stroke: #1f77b4\"/>\n     <use xlink:href=\"#m59475243ba\" x=\"99.426472\" y=\"42.058171\" style=\"fill: #1f77b4; stroke: #1f77b4\"/>\n     <use xlink:href=\"#m59475243ba\" x=\"132.758348\" y=\"85.039235\" style=\"fill: #1f77b4; stroke: #1f77b4\"/>\n     <use xlink:href=\"#m59475243ba\" x=\"148.703791\" y=\"103.44255\" style=\"fill: #1f77b4; stroke: #1f77b4\"/>\n     <use xlink:href=\"#m59475243ba\" x=\"127.958305\" y=\"66.445628\" style=\"fill: #1f77b4; stroke: #1f77b4\"/>\n     <use xlink:href=\"#m59475243ba\" x=\"100.557632\" y=\"60.413799\" style=\"fill: #1f77b4; stroke: #1f77b4\"/>\n     <use xlink:href=\"#m59475243ba\" x=\"152.003196\" y=\"96.497088\" style=\"fill: #1f77b4; stroke: #1f77b4\"/>\n     <use xlink:href=\"#m59475243ba\" x=\"159.61362\" y=\"89.230428\" style=\"fill: #1f77b4; stroke: #1f77b4\"/>\n     <use xlink:href=\"#m59475243ba\" x=\"121.790299\" y=\"85.057129\" style=\"fill: #1f77b4; stroke: #1f77b4\"/>\n     <use xlink:href=\"#m59475243ba\" x=\"135.442388\" y=\"77.810261\" style=\"fill: #1f77b4; stroke: #1f77b4\"/>\n     <use xlink:href=\"#m59475243ba\" x=\"163.062452\" y=\"101.891392\" style=\"fill: #1f77b4; stroke: #1f77b4\"/>\n     <use xlink:href=\"#m59475243ba\" x=\"111.800801\" y=\"51.973441\" style=\"fill: #1f77b4; stroke: #1f77b4\"/>\n     <use xlink:href=\"#m59475243ba\" x=\"109.153848\" y=\"50.65876\" style=\"fill: #1f77b4; stroke: #1f77b4\"/>\n     <use xlink:href=\"#m59475243ba\" x=\"134.375519\" y=\"73.358291\" style=\"fill: #1f77b4; stroke: #1f77b4\"/>\n     <use xlink:href=\"#m59475243ba\" x=\"118.857692\" y=\"80.92512\" style=\"fill: #1f77b4; stroke: #1f77b4\"/>\n     <use xlink:href=\"#m59475243ba\" x=\"112.844094\" y=\"65.770172\" style=\"fill: #1f77b4; stroke: #1f77b4\"/>\n     <use xlink:href=\"#m59475243ba\" x=\"126.50898\" y=\"71.650857\" style=\"fill: #1f77b4; stroke: #1f77b4\"/>\n     <use xlink:href=\"#m59475243ba\" x=\"98.558128\" y=\"45.257077\" style=\"fill: #1f77b4; stroke: #1f77b4\"/>\n     <use xlink:href=\"#m59475243ba\" x=\"140.046571\" y=\"68.934162\" style=\"fill: #1f77b4; stroke: #1f77b4\"/>\n     <use xlink:href=\"#m59475243ba\" x=\"150.567917\" y=\"77.611526\" style=\"fill: #1f77b4; stroke: #1f77b4\"/>\n     <use xlink:href=\"#m59475243ba\" x=\"170.773105\" y=\"99.491716\" style=\"fill: #1f77b4; stroke: #1f77b4\"/>\n     <use xlink:href=\"#m59475243ba\" x=\"174.004098\" y=\"109.293834\" style=\"fill: #1f77b4; stroke: #1f77b4\"/>\n     <use xlink:href=\"#m59475243ba\" x=\"161.391133\" y=\"109.171338\" style=\"fill: #1f77b4; stroke: #1f77b4\"/>\n     <use xlink:href=\"#m59475243ba\" x=\"134.140904\" y=\"75.885751\" style=\"fill: #1f77b4; stroke: #1f77b4\"/>\n     <use xlink:href=\"#m59475243ba\" x=\"122.914095\" y=\"72.937034\" style=\"fill: #1f77b4; stroke: #1f77b4\"/>\n     <use xlink:href=\"#m59475243ba\" x=\"147.614009\" y=\"85.568101\" style=\"fill: #1f77b4; stroke: #1f77b4\"/>\n     <use xlink:href=\"#m59475243ba\" x=\"119.074821\" y=\"85.564911\" style=\"fill: #1f77b4; stroke: #1f77b4\"/>\n     <use xlink:href=\"#m59475243ba\" x=\"120.443335\" y=\"76.050876\" style=\"fill: #1f77b4; stroke: #1f77b4\"/>\n    </g>\n   </g>\n   <g id=\"matplotlib.axis_1\">\n    <g id=\"xtick_1\">\n     <g id=\"line2d_1\">\n      <path d=\"M 75.552042 145.8 \nL 75.552042 7.2 \n\" clip-path=\"url(#p0f4aeebfb6)\" style=\"fill: none; stroke: #b0b0b0; stroke-width: 0.8; stroke-linecap: square\"/>\n     </g>\n     <g id=\"line2d_2\">\n      <defs>\n       <path id=\"m814ae0405e\" d=\"M 0 0 \nL 0 3.5 \n\" style=\"stroke: #000000; stroke-width: 0.8\"/>\n      </defs>\n      <g>\n       <use xlink:href=\"#m814ae0405e\" x=\"75.552042\" y=\"145.8\" style=\"stroke: #000000; stroke-width: 0.8\"/>\n      </g>\n     </g>\n     <g id=\"text_1\">\n      <!-- −2 -->\n      <g transform=\"translate(68.180949 160.398438) scale(0.1 -0.1)\">\n       <defs>\n        <path id=\"DejaVuSans-2212\" d=\"M 678 2272 \nL 4684 2272 \nL 4684 1741 \nL 678 1741 \nL 678 2272 \nz\n\" transform=\"scale(0.015625)\"/>\n        <path id=\"DejaVuSans-32\" d=\"M 1228 531 \nL 3431 531 \nL 3431 0 \nL 469 0 \nL 469 531 \nQ 828 903 1448 1529 \nQ 2069 2156 2228 2338 \nQ 2531 2678 2651 2914 \nQ 2772 3150 2772 3378 \nQ 2772 3750 2511 3984 \nQ 2250 4219 1831 4219 \nQ 1534 4219 1204 4116 \nQ 875 4013 500 3803 \nL 500 4441 \nQ 881 4594 1212 4672 \nQ 1544 4750 1819 4750 \nQ 2544 4750 2975 4387 \nQ 3406 4025 3406 3419 \nQ 3406 3131 3298 2873 \nQ 3191 2616 2906 2266 \nQ 2828 2175 2409 1742 \nQ 1991 1309 1228 531 \nz\n\" transform=\"scale(0.015625)\"/>\n       </defs>\n       <use xlink:href=\"#DejaVuSans-2212\"/>\n       <use xlink:href=\"#DejaVuSans-32\" x=\"83.789062\"/>\n      </g>\n     </g>\n    </g>\n    <g id=\"xtick_2\">\n     <g id=\"line2d_3\">\n      <path d=\"M 127.425279 145.8 \nL 127.425279 7.2 \n\" clip-path=\"url(#p0f4aeebfb6)\" style=\"fill: none; stroke: #b0b0b0; stroke-width: 0.8; stroke-linecap: square\"/>\n     </g>\n     <g id=\"line2d_4\">\n      <g>\n       <use xlink:href=\"#m814ae0405e\" x=\"127.425279\" y=\"145.8\" style=\"stroke: #000000; stroke-width: 0.8\"/>\n      </g>\n     </g>\n     <g id=\"text_2\">\n      <!-- 0 -->\n      <g transform=\"translate(124.244029 160.398438) scale(0.1 -0.1)\">\n       <defs>\n        <path id=\"DejaVuSans-30\" d=\"M 2034 4250 \nQ 1547 4250 1301 3770 \nQ 1056 3291 1056 2328 \nQ 1056 1369 1301 889 \nQ 1547 409 2034 409 \nQ 2525 409 2770 889 \nQ 3016 1369 3016 2328 \nQ 3016 3291 2770 3770 \nQ 2525 4250 2034 4250 \nz\nM 2034 4750 \nQ 2819 4750 3233 4129 \nQ 3647 3509 3647 2328 \nQ 3647 1150 3233 529 \nQ 2819 -91 2034 -91 \nQ 1250 -91 836 529 \nQ 422 1150 422 2328 \nQ 422 3509 836 4129 \nQ 1250 4750 2034 4750 \nz\n\" transform=\"scale(0.015625)\"/>\n       </defs>\n       <use xlink:href=\"#DejaVuSans-30\"/>\n      </g>\n     </g>\n    </g>\n    <g id=\"xtick_3\">\n     <g id=\"line2d_5\">\n      <path d=\"M 179.298516 145.8 \nL 179.298516 7.2 \n\" clip-path=\"url(#p0f4aeebfb6)\" style=\"fill: none; stroke: #b0b0b0; stroke-width: 0.8; stroke-linecap: square\"/>\n     </g>\n     <g id=\"line2d_6\">\n      <g>\n       <use xlink:href=\"#m814ae0405e\" x=\"179.298516\" y=\"145.8\" style=\"stroke: #000000; stroke-width: 0.8\"/>\n      </g>\n     </g>\n     <g id=\"text_3\">\n      <!-- 2 -->\n      <g transform=\"translate(176.117266 160.398438) scale(0.1 -0.1)\">\n       <use xlink:href=\"#DejaVuSans-32\"/>\n      </g>\n     </g>\n    </g>\n   </g>\n   <g id=\"matplotlib.axis_2\">\n    <g id=\"ytick_1\">\n     <g id=\"line2d_7\">\n      <path d=\"M 35.304688 140.682744 \nL 230.604688 140.682744 \n\" clip-path=\"url(#p0f4aeebfb6)\" style=\"fill: none; stroke: #b0b0b0; stroke-width: 0.8; stroke-linecap: square\"/>\n     </g>\n     <g id=\"line2d_8\">\n      <defs>\n       <path id=\"m4f5dd52473\" d=\"M 0 0 \nL -3.5 0 \n\" style=\"stroke: #000000; stroke-width: 0.8\"/>\n      </defs>\n      <g>\n       <use xlink:href=\"#m4f5dd52473\" x=\"35.304688\" y=\"140.682744\" style=\"stroke: #000000; stroke-width: 0.8\"/>\n      </g>\n     </g>\n     <g id=\"text_4\">\n      <!-- −10 -->\n      <g transform=\"translate(7.2 144.481963) scale(0.1 -0.1)\">\n       <defs>\n        <path id=\"DejaVuSans-31\" d=\"M 794 531 \nL 1825 531 \nL 1825 4091 \nL 703 3866 \nL 703 4441 \nL 1819 4666 \nL 2450 4666 \nL 2450 531 \nL 3481 531 \nL 3481 0 \nL 794 0 \nL 794 531 \nz\n\" transform=\"scale(0.015625)\"/>\n       </defs>\n       <use xlink:href=\"#DejaVuSans-2212\"/>\n       <use xlink:href=\"#DejaVuSans-31\" x=\"83.789062\"/>\n       <use xlink:href=\"#DejaVuSans-30\" x=\"147.412109\"/>\n      </g>\n     </g>\n    </g>\n    <g id=\"ytick_2\">\n     <g id=\"line2d_9\">\n      <path d=\"M 35.304688 116.653325 \nL 230.604688 116.653325 \n\" clip-path=\"url(#p0f4aeebfb6)\" style=\"fill: none; stroke: #b0b0b0; stroke-width: 0.8; stroke-linecap: square\"/>\n     </g>\n     <g id=\"line2d_10\">\n      <g>\n       <use xlink:href=\"#m4f5dd52473\" x=\"35.304688\" y=\"116.653325\" style=\"stroke: #000000; stroke-width: 0.8\"/>\n      </g>\n     </g>\n     <g id=\"text_5\">\n      <!-- −5 -->\n      <g transform=\"translate(13.5625 120.452544) scale(0.1 -0.1)\">\n       <defs>\n        <path id=\"DejaVuSans-35\" d=\"M 691 4666 \nL 3169 4666 \nL 3169 4134 \nL 1269 4134 \nL 1269 2991 \nQ 1406 3038 1543 3061 \nQ 1681 3084 1819 3084 \nQ 2600 3084 3056 2656 \nQ 3513 2228 3513 1497 \nQ 3513 744 3044 326 \nQ 2575 -91 1722 -91 \nQ 1428 -91 1123 -41 \nQ 819 9 494 109 \nL 494 744 \nQ 775 591 1075 516 \nQ 1375 441 1709 441 \nQ 2250 441 2565 725 \nQ 2881 1009 2881 1497 \nQ 2881 1984 2565 2268 \nQ 2250 2553 1709 2553 \nQ 1456 2553 1204 2497 \nQ 953 2441 691 2322 \nL 691 4666 \nz\n\" transform=\"scale(0.015625)\"/>\n       </defs>\n       <use xlink:href=\"#DejaVuSans-2212\"/>\n       <use xlink:href=\"#DejaVuSans-35\" x=\"83.789062\"/>\n      </g>\n     </g>\n    </g>\n    <g id=\"ytick_3\">\n     <g id=\"line2d_11\">\n      <path d=\"M 35.304688 92.623907 \nL 230.604688 92.623907 \n\" clip-path=\"url(#p0f4aeebfb6)\" style=\"fill: none; stroke: #b0b0b0; stroke-width: 0.8; stroke-linecap: square\"/>\n     </g>\n     <g id=\"line2d_12\">\n      <g>\n       <use xlink:href=\"#m4f5dd52473\" x=\"35.304688\" y=\"92.623907\" style=\"stroke: #000000; stroke-width: 0.8\"/>\n      </g>\n     </g>\n     <g id=\"text_6\">\n      <!-- 0 -->\n      <g transform=\"translate(21.942187 96.423126) scale(0.1 -0.1)\">\n       <use xlink:href=\"#DejaVuSans-30\"/>\n      </g>\n     </g>\n    </g>\n    <g id=\"ytick_4\">\n     <g id=\"line2d_13\">\n      <path d=\"M 35.304688 68.594489 \nL 230.604688 68.594489 \n\" clip-path=\"url(#p0f4aeebfb6)\" style=\"fill: none; stroke: #b0b0b0; stroke-width: 0.8; stroke-linecap: square\"/>\n     </g>\n     <g id=\"line2d_14\">\n      <g>\n       <use xlink:href=\"#m4f5dd52473\" x=\"35.304688\" y=\"68.594489\" style=\"stroke: #000000; stroke-width: 0.8\"/>\n      </g>\n     </g>\n     <g id=\"text_7\">\n      <!-- 5 -->\n      <g transform=\"translate(21.942187 72.393707) scale(0.1 -0.1)\">\n       <use xlink:href=\"#DejaVuSans-35\"/>\n      </g>\n     </g>\n    </g>\n    <g id=\"ytick_5\">\n     <g id=\"line2d_15\">\n      <path d=\"M 35.304688 44.56507 \nL 230.604688 44.56507 \n\" clip-path=\"url(#p0f4aeebfb6)\" style=\"fill: none; stroke: #b0b0b0; stroke-width: 0.8; stroke-linecap: square\"/>\n     </g>\n     <g id=\"line2d_16\">\n      <g>\n       <use xlink:href=\"#m4f5dd52473\" x=\"35.304688\" y=\"44.56507\" style=\"stroke: #000000; stroke-width: 0.8\"/>\n      </g>\n     </g>\n     <g id=\"text_8\">\n      <!-- 10 -->\n      <g transform=\"translate(15.579687 48.364289) scale(0.1 -0.1)\">\n       <use xlink:href=\"#DejaVuSans-31\"/>\n       <use xlink:href=\"#DejaVuSans-30\" x=\"63.623047\"/>\n      </g>\n     </g>\n    </g>\n    <g id=\"ytick_6\">\n     <g id=\"line2d_17\">\n      <path d=\"M 35.304688 20.535652 \nL 230.604688 20.535652 \n\" clip-path=\"url(#p0f4aeebfb6)\" style=\"fill: none; stroke: #b0b0b0; stroke-width: 0.8; stroke-linecap: square\"/>\n     </g>\n     <g id=\"line2d_18\">\n      <g>\n       <use xlink:href=\"#m4f5dd52473\" x=\"35.304688\" y=\"20.535652\" style=\"stroke: #000000; stroke-width: 0.8\"/>\n      </g>\n     </g>\n     <g id=\"text_9\">\n      <!-- 15 -->\n      <g transform=\"translate(15.579687 24.334871) scale(0.1 -0.1)\">\n       <use xlink:href=\"#DejaVuSans-31\"/>\n       <use xlink:href=\"#DejaVuSans-35\" x=\"63.623047\"/>\n      </g>\n     </g>\n    </g>\n   </g>\n   <g id=\"patch_3\">\n    <path d=\"M 35.304688 145.8 \nL 35.304688 7.2 \n\" style=\"fill: none; stroke: #000000; stroke-width: 0.8; stroke-linejoin: miter; stroke-linecap: square\"/>\n   </g>\n   <g id=\"patch_4\">\n    <path d=\"M 230.604688 145.8 \nL 230.604688 7.2 \n\" style=\"fill: none; stroke: #000000; stroke-width: 0.8; stroke-linejoin: miter; stroke-linecap: square\"/>\n   </g>\n   <g id=\"patch_5\">\n    <path d=\"M 35.304688 145.8 \nL 230.604687 145.8 \n\" style=\"fill: none; stroke: #000000; stroke-width: 0.8; stroke-linejoin: miter; stroke-linecap: square\"/>\n   </g>\n   <g id=\"patch_6\">\n    <path d=\"M 35.304688 7.2 \nL 230.604687 7.2 \n\" style=\"fill: none; stroke: #000000; stroke-width: 0.8; stroke-linejoin: miter; stroke-linecap: square\"/>\n   </g>\n  </g>\n </g>\n <defs>\n  <clipPath id=\"p0f4aeebfb6\">\n   <rect x=\"35.304688\" y=\"7.2\" width=\"195.3\" height=\"138.6\"/>\n  </clipPath>\n </defs>\n</svg>\n",
      "text/plain": [
       "<Figure size 350x250 with 1 Axes>"
      ]
     },
     "metadata": {},
     "output_type": "display_data"
    }
   ],
   "source": [
    "bcil.set_matplotlib_formats('svg')\n",
    "plt.rcParams['figure.figsize'] = (3.5, 2.5)\n",
    "plt.grid()\n",
    "plt.scatter(features[:, 1].detach().numpy(), labels.detach().numpy(), s=1)\n",
    "\"\"\" numpy() 不放到梯度中 \"\"\""
   ]
  },
  {
   "cell_type": "code",
   "execution_count": 7,
   "id": "77435500",
   "metadata": {
    "colab": {
     "base_uri": "https://localhost:8080/"
    },
    "executionInfo": {
     "elapsed": 4,
     "status": "ok",
     "timestamp": 1674123386519,
     "user": {
      "displayName": "周佳林",
      "userId": "18191733824795449952"
     },
     "user_tz": -480
    },
    "id": "77435500",
    "outputId": "b9271e55-8641-4903-dea4-ad9b0e4ce561"
   },
   "outputs": [
    {
     "name": "stdout",
     "output_type": "stream",
     "text": [
      "tensor([[-0.0714,  0.2519],\n",
      "        [ 0.0850,  0.2882],\n",
      "        [ 0.3316,  0.2243],\n",
      "        [ 1.4598, -2.0828],\n",
      "        [-0.9917,  0.4607],\n",
      "        [ 1.5170,  2.2867],\n",
      "        [-0.8283,  2.0381],\n",
      "        [ 0.0218, -0.0353],\n",
      "        [-3.8985, -0.9398],\n",
      "        [ 1.2508,  1.6557]]) \n",
      " tensor([[ 3.1854],\n",
      "        [ 3.3679],\n",
      "        [ 4.1069],\n",
      "        [14.2075],\n",
      "        [ 0.6545],\n",
      "        [-0.5479],\n",
      "        [-4.3876],\n",
      "        [ 4.3640],\n",
      "        [-0.3790],\n",
      "        [ 1.0773]])\n"
     ]
    }
   ],
   "source": [
    "# 实现小批量读取\n",
    "def data_iter(batch_size, features, labels):\n",
    "    num_examples = features.shape[0]\n",
    "    indices = list(range(num_examples))\n",
    "    random.shuffle(indices) # 将原列表顺序打乱\n",
    "    for i in range(0, num_examples, batch_size):\n",
    "        batch_indices = torch.tensor(\n",
    "            indices[i: min(i + batch_size, num_examples)]) # 有可能超出索引范围： min()\n",
    "        yield features[batch_indices], labels[batch_indices]\n",
    "\n",
    "batch_size = 10\n",
    "\n",
    "for X, y in data_iter(batch_size, features, labels):\n",
    "    print(X, '\\n', y)\n",
    "    break"
   ]
  },
  {
   "cell_type": "markdown",
   "id": "fd889237",
   "metadata": {
    "id": "fd889237"
   },
   "source": [
    "参数初始化"
   ]
  },
  {
   "cell_type": "code",
   "execution_count": 8,
   "id": "d6289bb7",
   "metadata": {
    "id": "d6289bb7"
   },
   "outputs": [],
   "source": [
    "w = torch.normal(0, 0.01, size=(2, 1), requires_grad=True)\n",
    "b = torch.zeros(1, requires_grad=True)"
   ]
  },
  {
   "cell_type": "code",
   "execution_count": 9,
   "id": "4eddf458",
   "metadata": {
    "id": "4eddf458"
   },
   "outputs": [],
   "source": [
    "# 定义模型\n",
    "def linreg(X, w, b):\n",
    "    return torch.matmul(X, w) + b"
   ]
  },
  {
   "cell_type": "code",
   "execution_count": 10,
   "id": "48afad4a",
   "metadata": {
    "id": "48afad4a"
   },
   "outputs": [],
   "source": [
    "# 损失函数\n",
    "def squred_loss(y_hat, y):\n",
    "    return (y_hat - y.reshape(y_hat.shape)) ** 2"
   ]
  },
  {
   "cell_type": "code",
   "execution_count": 11,
   "id": "5314ad83",
   "metadata": {
    "id": "5314ad83"
   },
   "outputs": [],
   "source": [
    "# 定义优化算法\n",
    "def sgd(params, lr, batch_size):\n",
    "    with torch.no_grad(): # 梯度优化不需要梯度计算\n",
    "        for param in params:\n",
    "            param -= lr * param.grad / batch_size\n",
    "            param.grad.zero_() # 手动归零"
   ]
  },
  {
   "cell_type": "code",
   "execution_count": 12,
   "id": "0ca1fa5b",
   "metadata": {
    "colab": {
     "base_uri": "https://localhost:8080/"
    },
    "executionInfo": {
     "elapsed": 363,
     "status": "ok",
     "timestamp": 1674123387240,
     "user": {
      "displayName": "周佳林",
      "userId": "18191733824795449952"
     },
     "user_tz": -480
    },
    "id": "0ca1fa5b",
    "outputId": "536e49c9-550c-4d90-b332-6d4e2b47aab5"
   },
   "outputs": [
    {
     "name": "stdout",
     "output_type": "stream",
     "text": [
      "epochs 1, loss 0.00010040\n",
      "epochs 2, loss 0.00010725\n",
      "epochs 3, loss 0.00010128\n",
      "epochs 4, loss 0.00010104\n",
      "epochs 5, loss 0.00011092\n",
      "epochs 6, loss 0.00010092\n",
      "epochs 7, loss 0.00010199\n",
      "epochs 8, loss 0.00010057\n",
      "epochs 9, loss 0.00010133\n",
      "epochs 10, loss 0.00010110\n"
     ]
    }
   ],
   "source": [
    "lr = 0.1\n",
    "num_epochs = 10\n",
    "net = linreg\n",
    "loss = squred_loss\n",
    "batch_size = 10\n",
    "\n",
    "for epoch in range(num_epochs):\n",
    "    for X, y in data_iter(batch_size, features, labels):\n",
    "        l = loss(net(X, w, b), y)\n",
    "        # l 的形状是 (batch_size, 1), 不是标量, 无法计算梯度\n",
    "        # 使用 sum 累加损失\n",
    "        l.sum().backward()\n",
    "        sgd([w, b], lr, batch_size)\n",
    "    with torch.no_grad():\n",
    "        train = loss(net(features, w, b), labels)\n",
    "        print(f\"epochs {epoch+1}, loss {float(train.mean()):.8f}\")"
   ]
  },
  {
   "cell_type": "markdown",
   "id": "S672E1WJi-jy",
   "metadata": {
    "id": "S672E1WJi-jy"
   },
   "source": [
    "# 利用 `Pytorch` 的工具"
   ]
  },
  {
   "cell_type": "code",
   "execution_count": 13,
   "id": "5e1c2c3d",
   "metadata": {
    "id": "5e1c2c3d"
   },
   "outputs": [],
   "source": [
    "\"\"\" 使用 Pytorch 提供的工具 \"\"\"\n",
    "features, labels = synthetic_data(true_w, true_b, 1000) # 生产初始化参数"
   ]
  },
  {
   "cell_type": "code",
   "execution_count": 14,
   "id": "19a7aee9",
   "metadata": {
    "colab": {
     "base_uri": "https://localhost:8080/"
    },
    "executionInfo": {
     "elapsed": 9,
     "status": "ok",
     "timestamp": 1674123387241,
     "user": {
      "displayName": "周佳林",
      "userId": "18191733824795449952"
     },
     "user_tz": -480
    },
    "id": "19a7aee9",
    "outputId": "8b0dcf63-96fe-4573-c055-90a57a0e859a"
   },
   "outputs": [
    {
     "data": {
      "text/plain": [
       "[tensor([[-0.0968,  0.6725],\n",
       "         [-0.4828,  1.6670],\n",
       "         [ 0.5905,  0.6538],\n",
       "         [-0.0061, -2.3302],\n",
       "         [ 1.4619,  0.5562],\n",
       "         [ 1.4794, -0.8220],\n",
       "         [ 0.5583, -0.5515],\n",
       "         [ 0.0575, -0.0326],\n",
       "         [-1.7739, -1.4986],\n",
       "         [ 1.3194,  1.4204]]),\n",
       " tensor([[ 1.7214],\n",
       "         [-2.4369],\n",
       "         [ 3.1549],\n",
       "         [12.0898],\n",
       "         [ 5.2276],\n",
       "         [ 9.9645],\n",
       "         [ 7.1808],\n",
       "         [ 4.4242],\n",
       "         [ 5.7633],\n",
       "         [ 2.0144]])]"
      ]
     },
     "execution_count": 14,
     "metadata": {},
     "output_type": "execute_result"
    }
   ],
   "source": [
    "def load_array(data_arrays, batch_size, is_train=True):\n",
    "    dataset = data.TensorDataset(*data_arrays) # 当传递值为迭代器时, 使用*修饰\n",
    "    return data.DataLoader(dataset, batch_size, shuffle = is_train)\n",
    "\n",
    "batch_size = 10\n",
    "data_iter = load_array((features, labels), batch_size, True)\n",
    "\n",
    "next(iter(data_iter)) # 得到一个返回"
   ]
  },
  {
   "cell_type": "code",
   "execution_count": 15,
   "id": "47f0520f",
   "metadata": {
    "id": "47f0520f"
   },
   "outputs": [],
   "source": [
    "\"\"\" Sequential : list of layers\"\"\"\n",
    "net = nn.Sequential(nn.Linear(2, 1)) # 等价于全连接层"
   ]
  },
  {
   "cell_type": "code",
   "execution_count": 16,
   "id": "dca55d56",
   "metadata": {
    "colab": {
     "base_uri": "https://localhost:8080/"
    },
    "executionInfo": {
     "elapsed": 7,
     "status": "ok",
     "timestamp": 1674123387241,
     "user": {
      "displayName": "周佳林",
      "userId": "18191733824795449952"
     },
     "user_tz": -480
    },
    "id": "dca55d56",
    "outputId": "b26eed14-f91c-45cd-8039-0046ba302997"
   },
   "outputs": [
    {
     "data": {
      "text/plain": [
       "tensor([0.])"
      ]
     },
     "execution_count": 16,
     "metadata": {},
     "output_type": "execute_result"
    }
   ],
   "source": [
    "\"\"\" 初始化参数模型 \"\"\"\n",
    "net[0].weight.data.normal_(0, 0.01)\n",
    "net[0].bias.data.fill_(0)"
   ]
  },
  {
   "cell_type": "code",
   "execution_count": 17,
   "id": "767c87b6",
   "metadata": {
    "id": "767c87b6"
   },
   "outputs": [],
   "source": [
    "loss = nn.MSELoss() # 均方误差"
   ]
  },
  {
   "cell_type": "code",
   "execution_count": 18,
   "id": "f29e8b8d",
   "metadata": {
    "id": "f29e8b8d"
   },
   "outputs": [],
   "source": [
    "trainer = torch.optim.SGD(net.parameters(), lr=0.03)"
   ]
  },
  {
   "cell_type": "code",
   "execution_count": 19,
   "id": "611d8c4d",
   "metadata": {
    "colab": {
     "base_uri": "https://localhost:8080/"
    },
    "executionInfo": {
     "elapsed": 1061,
     "status": "ok",
     "timestamp": 1674123388296,
     "user": {
      "displayName": "周佳林",
      "userId": "18191733824795449952"
     },
     "user_tz": -480
    },
    "id": "611d8c4d",
    "outputId": "215ffa3c-13f2-4e27-b15a-cc02b7c8ee3c"
   },
   "outputs": [
    {
     "name": "stdout",
     "output_type": "stream",
     "text": [
      "epochs: 1, loss:0.00024008\n",
      "epochs: 2, loss:0.00009186\n",
      "epochs: 3, loss:0.00009143\n",
      "epochs: 4, loss:0.00009123\n",
      "epochs: 5, loss:0.00009133\n",
      "epochs: 6, loss:0.00009109\n",
      "epochs: 7, loss:0.00009121\n",
      "epochs: 8, loss:0.00009153\n",
      "epochs: 9, loss:0.00009129\n",
      "epochs: 10, loss:0.00009143\n"
     ]
    }
   ],
   "source": [
    "num_epochs = 10\n",
    "for epoch in range(num_epochs):\n",
    "    for X, y in data_iter:\n",
    "        l = loss(net(X), y) # Pytorch 默认进行了 sum() 运算\n",
    "        trainer.zero_grad()\n",
    "        l.backward()\n",
    "        trainer.step()\n",
    "    with torch.no_grad():\n",
    "        l = loss(net(features), labels)\n",
    "        print(f\"epochs: {epoch + 1}, loss:{l:.8f}\") # MSELoss没有 / 2"
   ]
  },
  {
   "attachments": {},
   "cell_type": "markdown",
   "id": "2rAGm8roiTpL",
   "metadata": {
    "id": "2rAGm8roiTpL"
   },
   "source": [
    "`batchsize` 反直觉\n",
    "\n",
    "  有的时候越小越好？ \n",
    "\n",
    "> 小的`batchsize`可以提高噪声，提高鲁棒性？\n",
    "\n",
    "建模是不精确的，优化也是不精确的[即深度学习的两个模型都是不精确的]\n",
    "\n",
    "- 不太关心统计的最优解\n",
    "- 关心**收敛的地方**，希望收敛的地方平坦，范化性很好\n",
    "\n",
    "batch_size 不是整数倍\n",
    "1. 调整 batch_size\n",
    "2. 舍弃数据多余部分\n",
    "3. 从下一个 epoch 中借用数据\n",
    "\n",
    "NaN 是由于每一次梯度迭代存在除法\n",
    "\n",
    "> 有可能被除数有 0 或者 inf\n",
    "\n",
    "** 超参数 **\n",
    "\n",
    "超参数是指神经网络学习前需要确定的值，不是通过训练得出"
   ]
  },
  {
   "cell_type": "code",
   "execution_count": null,
   "id": "QOaSQ81Cmy4s",
   "metadata": {
    "id": "QOaSQ81Cmy4s"
   },
   "outputs": [],
   "source": []
  }
 ],
 "metadata": {
  "colab": {
   "provenance": []
  },
  "gpuClass": "standard",
  "kernelspec": {
   "display_name": "d2l",
   "language": "python",
   "name": "python3"
  },
  "language_info": {
   "codemirror_mode": {
    "name": "ipython",
    "version": 3
   },
   "file_extension": ".py",
   "mimetype": "text/x-python",
   "name": "python",
   "nbconvert_exporter": "python",
   "pygments_lexer": "ipython3",
   "version": "3.10.9 | packaged by conda-forge | (main, Jan 11 2023, 15:15:40) [MSC v.1916 64 bit (AMD64)]"
  },
  "vscode": {
   "interpreter": {
    "hash": "e68e5b16d81fa9059e1158f6a4d703d6dd8750a9ccfa1e75dbe04c34949a9a2e"
   }
  }
 },
 "nbformat": 4,
 "nbformat_minor": 5
}
