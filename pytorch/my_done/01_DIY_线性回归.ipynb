{
 "cells": [
  {
   "cell_type": "markdown",
   "id": "QLqUkcHujFc4",
   "metadata": {
    "id": "QLqUkcHujFc4"
   },
   "source": [
    "# 初始化\n",
    "\n",
    "> 提供了两种线性回归的实现，1、全部自己写，2、使用`pytorch`提供的工具"
   ]
  },
  {
   "cell_type": "code",
   "execution_count": 1,
   "id": "xXeTVncwhuvT",
   "metadata": {
    "colab": {
     "base_uri": "https://localhost:8080/"
    },
    "executionInfo": {
     "elapsed": 7874,
     "status": "ok",
     "timestamp": 1674123386065,
     "user": {
      "displayName": "周佳林",
      "userId": "18191733824795449952"
     },
     "user_tz": -480
    },
    "id": "xXeTVncwhuvT",
    "outputId": "3dcaafb8-d7e6-4545-afbd-9e9977a56107"
   },
   "outputs": [
    {
     "name": "stdout",
     "output_type": "stream",
     "text": [
      "Looking in indexes: https://repo.huaweicloud.com/repository/pypi/simple\n",
      "Requirement already satisfied: matplotlib_inline in /root/miniconda3/lib/python3.8/site-packages (0.1.3)\n",
      "Requirement already satisfied: traitlets in /root/miniconda3/lib/python3.8/site-packages (from matplotlib_inline) (5.3.0)\n",
      "\u001b[33mWARNING: Running pip as the 'root' user can result in broken permissions and conflicting behaviour with the system package manager. It is recommended to use a virtual environment instead: https://pip.pypa.io/warnings/venv\u001b[0m\n"
     ]
    }
   ],
   "source": [
    "!pip install matplotlib_inline"
   ]
  },
  {
   "cell_type": "markdown",
   "id": "P2SvfPkBi7nd",
   "metadata": {
    "id": "P2SvfPkBi7nd"
   },
   "source": [
    "# 自己做"
   ]
  },
  {
   "cell_type": "code",
   "execution_count": 2,
   "id": "92d07f9a",
   "metadata": {
    "id": "92d07f9a"
   },
   "outputs": [],
   "source": [
    "%matplotlib inline \n",
    "from matplotlib import pyplot as plt\n",
    "from matplotlib_inline import backend_inline as bcil\n",
    "import random\n",
    "import torch\n",
    "from torch.utils import data\n",
    "from torch import nn"
   ]
  },
  {
   "cell_type": "markdown",
   "id": "8b04513d",
   "metadata": {
    "id": "8b04513d"
   },
   "source": [
    "数据集生成"
   ]
  },
  {
   "cell_type": "code",
   "execution_count": 3,
   "id": "240a0c40",
   "metadata": {
    "id": "240a0c40"
   },
   "outputs": [],
   "source": [
    "def synthetic_data(w, b, num_examples):  \n",
    "    \"\"\"生成y=Xw+b+噪声\"\"\"\n",
    "    X = torch.normal(0, 1, (num_examples, len(w)))\n",
    "    y = torch.matmul(X, w) + b # matmul() 对比 mm() 可以实现广播\n",
    "    y += torch.normal(0, 0.01, y.shape)\n",
    "    return X, y.reshape((-1, 1)) # reshape中-1表示自动计算\n",
    "\n",
    "true_w = torch.tensor([2, -3.4])\n",
    "true_b = 4.2\n",
    "features, labels = synthetic_data(true_w, true_b, 1000)"
   ]
  },
  {
   "cell_type": "code",
   "execution_count": 4,
   "id": "5060ea12",
   "metadata": {
    "colab": {
     "base_uri": "https://localhost:8080/"
    },
    "executionInfo": {
     "elapsed": 23,
     "status": "ok",
     "timestamp": 1674123386067,
     "user": {
      "displayName": "周佳林",
      "userId": "18191733824795449952"
     },
     "user_tz": -480
    },
    "id": "5060ea12",
    "outputId": "ae58ca8b-7b9d-44da-fa20-13cdc6a1adb0"
   },
   "outputs": [
    {
     "data": {
      "text/plain": [
       "(torch.Size([1000, 2]), torch.Size([1000, 1]))"
      ]
     },
     "execution_count": 4,
     "metadata": {},
     "output_type": "execute_result"
    }
   ],
   "source": [
    "features.shape, labels.shape"
   ]
  },
  {
   "cell_type": "code",
   "execution_count": 5,
   "id": "bc41acfb",
   "metadata": {
    "colab": {
     "base_uri": "https://localhost:8080/"
    },
    "executionInfo": {
     "elapsed": 21,
     "status": "ok",
     "timestamp": 1674123386067,
     "user": {
      "displayName": "周佳林",
      "userId": "18191733824795449952"
     },
     "user_tz": -480
    },
    "id": "bc41acfb",
    "outputId": "241fff00-8267-44da-f0ce-b6a0c894aed8"
   },
   "outputs": [
    {
     "data": {
      "text/plain": [
       "(tensor([-0.6287,  0.8349]), tensor([0.0954]))"
      ]
     },
     "execution_count": 5,
     "metadata": {},
     "output_type": "execute_result"
    }
   ],
   "source": [
    "features[0], labels[0]"
   ]
  },
  {
   "cell_type": "code",
   "execution_count": 6,
   "id": "d7ec17e8",
   "metadata": {
    "colab": {
     "base_uri": "https://localhost:8080/",
     "height": 261
    },
    "executionInfo": {
     "elapsed": 470,
     "status": "ok",
     "timestamp": 1674123386518,
     "user": {
      "displayName": "周佳林",
      "userId": "18191733824795449952"
     },
     "user_tz": -480
    },
    "id": "d7ec17e8",
    "outputId": "df06ccea-dc33-481d-b439-0a3b9104bd3c"
   },
   "outputs": [
    {
     "data": {
      "text/plain": [
       "' numpy() 不放到梯度中 '"
      ]
     },
     "execution_count": 6,
     "metadata": {},
     "output_type": "execute_result"
    },
    {
     "data": {
      "image/svg+xml": "<?xml version=\"1.0\" encoding=\"utf-8\" standalone=\"no\"?>\n<!DOCTYPE svg PUBLIC \"-//W3C//DTD SVG 1.1//EN\"\n  \"http://www.w3.org/Graphics/SVG/1.1/DTD/svg11.dtd\">\n<svg xmlns:xlink=\"http://www.w3.org/1999/xlink\" width=\"231.442187pt\" height=\"166.978125pt\" viewBox=\"0 0 231.442187 166.978125\" xmlns=\"http://www.w3.org/2000/svg\" version=\"1.1\">\n <metadata>\n  <rdf:RDF xmlns:dc=\"http://purl.org/dc/elements/1.1/\" xmlns:cc=\"http://creativecommons.org/ns#\" xmlns:rdf=\"http://www.w3.org/1999/02/22-rdf-syntax-ns#\">\n   <cc:Work>\n    <dc:type rdf:resource=\"http://purl.org/dc/dcmitype/StillImage\"/>\n    <dc:date>2023-01-21T09:19:02.984115</dc:date>\n    <dc:format>image/svg+xml</dc:format>\n    <dc:creator>\n     <cc:Agent>\n      <dc:title>Matplotlib v3.5.2, https://matplotlib.org/</dc:title>\n     </cc:Agent>\n    </dc:creator>\n   </cc:Work>\n  </rdf:RDF>\n </metadata>\n <defs>\n  <style type=\"text/css\">*{stroke-linejoin: round; stroke-linecap: butt}</style>\n </defs>\n <g id=\"figure_1\">\n  <g id=\"patch_1\">\n   <path d=\"M 0 166.978125 \nL 231.442187 166.978125 \nL 231.442187 0 \nL 0 0 \nL 0 166.978125 \nz\n\" style=\"fill: none\"/>\n  </g>\n  <g id=\"axes_1\">\n   <g id=\"patch_2\">\n    <path d=\"M 28.942188 143.1 \nL 224.242188 143.1 \nL 224.242188 7.2 \nL 28.942188 7.2 \nz\n\" style=\"fill: #ffffff\"/>\n   </g>\n   <g id=\"PathCollection_1\">\n    <defs>\n     <path id=\"m30beaf2ae0\" d=\"M 0 0.5 \nC 0.132602 0.5 0.25979 0.447317 0.353553 0.353553 \nC 0.447317 0.25979 0.5 0.132602 0.5 0 \nC 0.5 -0.132602 0.447317 -0.25979 0.353553 -0.353553 \nC 0.25979 -0.447317 0.132602 -0.5 0 -0.5 \nC -0.132602 -0.5 -0.25979 -0.447317 -0.353553 -0.353553 \nC -0.447317 -0.25979 -0.5 -0.132602 -0.5 0 \nC -0.5 0.132602 -0.447317 0.25979 -0.353553 0.353553 \nC -0.25979 0.447317 -0.132602 0.5 0 0.5 \nz\n\" style=\"stroke: #1f77b4\"/>\n    </defs>\n    <g clip-path=\"url(#pe509b8f602)\">\n     <use xlink:href=\"#m30beaf2ae0\" x=\"150.920605\" y=\"100.776444\" style=\"fill: #1f77b4; stroke: #1f77b4\"/>\n     <use xlink:href=\"#m30beaf2ae0\" x=\"143.352475\" y=\"104.049763\" style=\"fill: #1f77b4; stroke: #1f77b4\"/>\n     <use xlink:href=\"#m30beaf2ae0\" x=\"114.676552\" y=\"63.49414\" style=\"fill: #1f77b4; stroke: #1f77b4\"/>\n     <use xlink:href=\"#m30beaf2ae0\" x=\"139.406417\" y=\"92.530869\" style=\"fill: #1f77b4; stroke: #1f77b4\"/>\n     <use xlink:href=\"#m30beaf2ae0\" x=\"111.725571\" y=\"50.866227\" style=\"fill: #1f77b4; stroke: #1f77b4\"/>\n     <use xlink:href=\"#m30beaf2ae0\" x=\"139.544353\" y=\"87.023996\" style=\"fill: #1f77b4; stroke: #1f77b4\"/>\n     <use xlink:href=\"#m30beaf2ae0\" x=\"157.545258\" y=\"99.204664\" style=\"fill: #1f77b4; stroke: #1f77b4\"/>\n     <use xlink:href=\"#m30beaf2ae0\" x=\"129.867106\" y=\"83.034408\" style=\"fill: #1f77b4; stroke: #1f77b4\"/>\n     <use xlink:href=\"#m30beaf2ae0\" x=\"109.763795\" y=\"73.71948\" style=\"fill: #1f77b4; stroke: #1f77b4\"/>\n     <use xlink:href=\"#m30beaf2ae0\" x=\"101.72288\" y=\"61.635261\" style=\"fill: #1f77b4; stroke: #1f77b4\"/>\n     <use xlink:href=\"#m30beaf2ae0\" x=\"184.682706\" y=\"127.981515\" style=\"fill: #1f77b4; stroke: #1f77b4\"/>\n     <use xlink:href=\"#m30beaf2ae0\" x=\"154.549804\" y=\"104.684419\" style=\"fill: #1f77b4; stroke: #1f77b4\"/>\n     <use xlink:href=\"#m30beaf2ae0\" x=\"179.644874\" y=\"112.333694\" style=\"fill: #1f77b4; stroke: #1f77b4\"/>\n     <use xlink:href=\"#m30beaf2ae0\" x=\"119.665562\" y=\"58.966387\" style=\"fill: #1f77b4; stroke: #1f77b4\"/>\n     <use xlink:href=\"#m30beaf2ae0\" x=\"143.512163\" y=\"110.490574\" style=\"fill: #1f77b4; stroke: #1f77b4\"/>\n     <use xlink:href=\"#m30beaf2ae0\" x=\"131.52827\" y=\"88.108068\" style=\"fill: #1f77b4; stroke: #1f77b4\"/>\n     <use xlink:href=\"#m30beaf2ae0\" x=\"111.637001\" y=\"72.267556\" style=\"fill: #1f77b4; stroke: #1f77b4\"/>\n     <use xlink:href=\"#m30beaf2ae0\" x=\"72.484316\" y=\"41.880293\" style=\"fill: #1f77b4; stroke: #1f77b4\"/>\n     <use xlink:href=\"#m30beaf2ae0\" x=\"145.969617\" y=\"82.993291\" style=\"fill: #1f77b4; stroke: #1f77b4\"/>\n     <use xlink:href=\"#m30beaf2ae0\" x=\"178.227859\" y=\"106.575514\" style=\"fill: #1f77b4; stroke: #1f77b4\"/>\n     <use xlink:href=\"#m30beaf2ae0\" x=\"110.638239\" y=\"83.994962\" style=\"fill: #1f77b4; stroke: #1f77b4\"/>\n     <use xlink:href=\"#m30beaf2ae0\" x=\"126.769116\" y=\"72.719284\" style=\"fill: #1f77b4; stroke: #1f77b4\"/>\n     <use xlink:href=\"#m30beaf2ae0\" x=\"124.51198\" y=\"77.678061\" style=\"fill: #1f77b4; stroke: #1f77b4\"/>\n     <use xlink:href=\"#m30beaf2ae0\" x=\"105.521278\" y=\"58.362914\" style=\"fill: #1f77b4; stroke: #1f77b4\"/>\n     <use xlink:href=\"#m30beaf2ae0\" x=\"121.954156\" y=\"53.208728\" style=\"fill: #1f77b4; stroke: #1f77b4\"/>\n     <use xlink:href=\"#m30beaf2ae0\" x=\"110.454276\" y=\"75.032487\" style=\"fill: #1f77b4; stroke: #1f77b4\"/>\n     <use xlink:href=\"#m30beaf2ae0\" x=\"94.837152\" y=\"54.175012\" style=\"fill: #1f77b4; stroke: #1f77b4\"/>\n     <use xlink:href=\"#m30beaf2ae0\" x=\"134.435868\" y=\"84.232435\" style=\"fill: #1f77b4; stroke: #1f77b4\"/>\n     <use xlink:href=\"#m30beaf2ae0\" x=\"141.481463\" y=\"79.2064\" style=\"fill: #1f77b4; stroke: #1f77b4\"/>\n     <use xlink:href=\"#m30beaf2ae0\" x=\"141.594245\" y=\"96.117068\" style=\"fill: #1f77b4; stroke: #1f77b4\"/>\n     <use xlink:href=\"#m30beaf2ae0\" x=\"117.982453\" y=\"64.732025\" style=\"fill: #1f77b4; stroke: #1f77b4\"/>\n     <use xlink:href=\"#m30beaf2ae0\" x=\"144.530731\" y=\"104.819451\" style=\"fill: #1f77b4; stroke: #1f77b4\"/>\n     <use xlink:href=\"#m30beaf2ae0\" x=\"116.716473\" y=\"78.23548\" style=\"fill: #1f77b4; stroke: #1f77b4\"/>\n     <use xlink:href=\"#m30beaf2ae0\" x=\"121.588716\" y=\"68.304891\" style=\"fill: #1f77b4; stroke: #1f77b4\"/>\n     <use xlink:href=\"#m30beaf2ae0\" x=\"177.545893\" y=\"107.216047\" style=\"fill: #1f77b4; stroke: #1f77b4\"/>\n     <use xlink:href=\"#m30beaf2ae0\" x=\"103.479004\" y=\"75.018462\" style=\"fill: #1f77b4; stroke: #1f77b4\"/>\n     <use xlink:href=\"#m30beaf2ae0\" x=\"157.355829\" y=\"99.960175\" style=\"fill: #1f77b4; stroke: #1f77b4\"/>\n     <use xlink:href=\"#m30beaf2ae0\" x=\"142.072398\" y=\"88.66994\" style=\"fill: #1f77b4; stroke: #1f77b4\"/>\n     <use xlink:href=\"#m30beaf2ae0\" x=\"98.889793\" y=\"34.735632\" style=\"fill: #1f77b4; stroke: #1f77b4\"/>\n     <use xlink:href=\"#m30beaf2ae0\" x=\"96.848738\" y=\"46.384959\" style=\"fill: #1f77b4; stroke: #1f77b4\"/>\n     <use xlink:href=\"#m30beaf2ae0\" x=\"179.451508\" y=\"118.248646\" style=\"fill: #1f77b4; stroke: #1f77b4\"/>\n     <use xlink:href=\"#m30beaf2ae0\" x=\"95.612526\" y=\"66.656759\" style=\"fill: #1f77b4; stroke: #1f77b4\"/>\n     <use xlink:href=\"#m30beaf2ae0\" x=\"126.420963\" y=\"67.777755\" style=\"fill: #1f77b4; stroke: #1f77b4\"/>\n     <use xlink:href=\"#m30beaf2ae0\" x=\"161.822077\" y=\"109.140184\" style=\"fill: #1f77b4; stroke: #1f77b4\"/>\n     <use xlink:href=\"#m30beaf2ae0\" x=\"115.972199\" y=\"60.397493\" style=\"fill: #1f77b4; stroke: #1f77b4\"/>\n     <use xlink:href=\"#m30beaf2ae0\" x=\"143.41199\" y=\"89.039343\" style=\"fill: #1f77b4; stroke: #1f77b4\"/>\n     <use xlink:href=\"#m30beaf2ae0\" x=\"174.883844\" y=\"119.687361\" style=\"fill: #1f77b4; stroke: #1f77b4\"/>\n     <use xlink:href=\"#m30beaf2ae0\" x=\"160.504456\" y=\"92.693794\" style=\"fill: #1f77b4; stroke: #1f77b4\"/>\n     <use xlink:href=\"#m30beaf2ae0\" x=\"172.868889\" y=\"102.987172\" style=\"fill: #1f77b4; stroke: #1f77b4\"/>\n     <use xlink:href=\"#m30beaf2ae0\" x=\"121.158542\" y=\"80.30426\" style=\"fill: #1f77b4; stroke: #1f77b4\"/>\n     <use xlink:href=\"#m30beaf2ae0\" x=\"98.627073\" y=\"66.888566\" style=\"fill: #1f77b4; stroke: #1f77b4\"/>\n     <use xlink:href=\"#m30beaf2ae0\" x=\"197.240101\" y=\"110.277176\" style=\"fill: #1f77b4; stroke: #1f77b4\"/>\n     <use xlink:href=\"#m30beaf2ae0\" x=\"133.769593\" y=\"63.660687\" style=\"fill: #1f77b4; stroke: #1f77b4\"/>\n     <use xlink:href=\"#m30beaf2ae0\" x=\"122.247862\" y=\"79.94228\" style=\"fill: #1f77b4; stroke: #1f77b4\"/>\n     <use xlink:href=\"#m30beaf2ae0\" x=\"163.233236\" y=\"89.742721\" style=\"fill: #1f77b4; stroke: #1f77b4\"/>\n     <use xlink:href=\"#m30beaf2ae0\" x=\"132.778195\" y=\"88.051264\" style=\"fill: #1f77b4; stroke: #1f77b4\"/>\n     <use xlink:href=\"#m30beaf2ae0\" x=\"86.071123\" y=\"53.874878\" style=\"fill: #1f77b4; stroke: #1f77b4\"/>\n     <use xlink:href=\"#m30beaf2ae0\" x=\"150.59595\" y=\"85.510817\" style=\"fill: #1f77b4; stroke: #1f77b4\"/>\n     <use xlink:href=\"#m30beaf2ae0\" x=\"117.645238\" y=\"79.235787\" style=\"fill: #1f77b4; stroke: #1f77b4\"/>\n     <use xlink:href=\"#m30beaf2ae0\" x=\"127.893872\" y=\"82.193899\" style=\"fill: #1f77b4; stroke: #1f77b4\"/>\n     <use xlink:href=\"#m30beaf2ae0\" x=\"65.989686\" y=\"43.434033\" style=\"fill: #1f77b4; stroke: #1f77b4\"/>\n     <use xlink:href=\"#m30beaf2ae0\" x=\"181.980028\" y=\"125.03714\" style=\"fill: #1f77b4; stroke: #1f77b4\"/>\n     <use xlink:href=\"#m30beaf2ae0\" x=\"137.153457\" y=\"82.299025\" style=\"fill: #1f77b4; stroke: #1f77b4\"/>\n     <use xlink:href=\"#m30beaf2ae0\" x=\"140.627203\" y=\"93.806141\" style=\"fill: #1f77b4; stroke: #1f77b4\"/>\n     <use xlink:href=\"#m30beaf2ae0\" x=\"172.842785\" y=\"116.81225\" style=\"fill: #1f77b4; stroke: #1f77b4\"/>\n     <use xlink:href=\"#m30beaf2ae0\" x=\"119.683805\" y=\"71.387972\" style=\"fill: #1f77b4; stroke: #1f77b4\"/>\n     <use xlink:href=\"#m30beaf2ae0\" x=\"103.899853\" y=\"59.899865\" style=\"fill: #1f77b4; stroke: #1f77b4\"/>\n     <use xlink:href=\"#m30beaf2ae0\" x=\"163.442896\" y=\"97.373583\" style=\"fill: #1f77b4; stroke: #1f77b4\"/>\n     <use xlink:href=\"#m30beaf2ae0\" x=\"104.539568\" y=\"74.490907\" style=\"fill: #1f77b4; stroke: #1f77b4\"/>\n     <use xlink:href=\"#m30beaf2ae0\" x=\"153.502367\" y=\"81.629591\" style=\"fill: #1f77b4; stroke: #1f77b4\"/>\n     <use xlink:href=\"#m30beaf2ae0\" x=\"117.084814\" y=\"66.194106\" style=\"fill: #1f77b4; stroke: #1f77b4\"/>\n     <use xlink:href=\"#m30beaf2ae0\" x=\"132.702825\" y=\"100.439338\" style=\"fill: #1f77b4; stroke: #1f77b4\"/>\n     <use xlink:href=\"#m30beaf2ae0\" x=\"142.025956\" y=\"84.174696\" style=\"fill: #1f77b4; stroke: #1f77b4\"/>\n     <use xlink:href=\"#m30beaf2ae0\" x=\"84.765871\" y=\"39.255323\" style=\"fill: #1f77b4; stroke: #1f77b4\"/>\n     <use xlink:href=\"#m30beaf2ae0\" x=\"127.98266\" y=\"78.489141\" style=\"fill: #1f77b4; stroke: #1f77b4\"/>\n     <use xlink:href=\"#m30beaf2ae0\" x=\"166.883796\" y=\"113.887257\" style=\"fill: #1f77b4; stroke: #1f77b4\"/>\n     <use xlink:href=\"#m30beaf2ae0\" x=\"132.272934\" y=\"83.360389\" style=\"fill: #1f77b4; stroke: #1f77b4\"/>\n     <use xlink:href=\"#m30beaf2ae0\" x=\"109.540389\" y=\"70.689959\" style=\"fill: #1f77b4; stroke: #1f77b4\"/>\n     <use xlink:href=\"#m30beaf2ae0\" x=\"134.205208\" y=\"90.913886\" style=\"fill: #1f77b4; stroke: #1f77b4\"/>\n     <use xlink:href=\"#m30beaf2ae0\" x=\"83.17837\" y=\"47.193003\" style=\"fill: #1f77b4; stroke: #1f77b4\"/>\n     <use xlink:href=\"#m30beaf2ae0\" x=\"101.513213\" y=\"70.122809\" style=\"fill: #1f77b4; stroke: #1f77b4\"/>\n     <use xlink:href=\"#m30beaf2ae0\" x=\"147.772131\" y=\"110.904103\" style=\"fill: #1f77b4; stroke: #1f77b4\"/>\n     <use xlink:href=\"#m30beaf2ae0\" x=\"156.127766\" y=\"99.269829\" style=\"fill: #1f77b4; stroke: #1f77b4\"/>\n     <use xlink:href=\"#m30beaf2ae0\" x=\"149.908288\" y=\"64.036051\" style=\"fill: #1f77b4; stroke: #1f77b4\"/>\n     <use xlink:href=\"#m30beaf2ae0\" x=\"153.100024\" y=\"104.661953\" style=\"fill: #1f77b4; stroke: #1f77b4\"/>\n     <use xlink:href=\"#m30beaf2ae0\" x=\"117.488034\" y=\"70.810323\" style=\"fill: #1f77b4; stroke: #1f77b4\"/>\n     <use xlink:href=\"#m30beaf2ae0\" x=\"110.435677\" y=\"69.8715\" style=\"fill: #1f77b4; stroke: #1f77b4\"/>\n     <use xlink:href=\"#m30beaf2ae0\" x=\"143.74314\" y=\"93.9674\" style=\"fill: #1f77b4; stroke: #1f77b4\"/>\n     <use xlink:href=\"#m30beaf2ae0\" x=\"144.438934\" y=\"91.313748\" style=\"fill: #1f77b4; stroke: #1f77b4\"/>\n     <use xlink:href=\"#m30beaf2ae0\" x=\"109.561091\" y=\"63.247135\" style=\"fill: #1f77b4; stroke: #1f77b4\"/>\n     <use xlink:href=\"#m30beaf2ae0\" x=\"163.436566\" y=\"97.972146\" style=\"fill: #1f77b4; stroke: #1f77b4\"/>\n     <use xlink:href=\"#m30beaf2ae0\" x=\"140.142423\" y=\"85.747322\" style=\"fill: #1f77b4; stroke: #1f77b4\"/>\n     <use xlink:href=\"#m30beaf2ae0\" x=\"141.809657\" y=\"86.521656\" style=\"fill: #1f77b4; stroke: #1f77b4\"/>\n     <use xlink:href=\"#m30beaf2ae0\" x=\"94.223439\" y=\"52.609608\" style=\"fill: #1f77b4; stroke: #1f77b4\"/>\n     <use xlink:href=\"#m30beaf2ae0\" x=\"150.256906\" y=\"95.594662\" style=\"fill: #1f77b4; stroke: #1f77b4\"/>\n     <use xlink:href=\"#m30beaf2ae0\" x=\"135.875447\" y=\"90.866458\" style=\"fill: #1f77b4; stroke: #1f77b4\"/>\n     <use xlink:href=\"#m30beaf2ae0\" x=\"141.377361\" y=\"87.028992\" style=\"fill: #1f77b4; stroke: #1f77b4\"/>\n     <use xlink:href=\"#m30beaf2ae0\" x=\"104.706532\" y=\"53.126599\" style=\"fill: #1f77b4; stroke: #1f77b4\"/>\n     <use xlink:href=\"#m30beaf2ae0\" x=\"145.221862\" y=\"90.995961\" style=\"fill: #1f77b4; stroke: #1f77b4\"/>\n     <use xlink:href=\"#m30beaf2ae0\" x=\"104.228589\" y=\"68.470507\" style=\"fill: #1f77b4; stroke: #1f77b4\"/>\n     <use xlink:href=\"#m30beaf2ae0\" x=\"123.637252\" y=\"80.288143\" style=\"fill: #1f77b4; stroke: #1f77b4\"/>\n     <use xlink:href=\"#m30beaf2ae0\" x=\"142.233263\" y=\"88.852069\" style=\"fill: #1f77b4; stroke: #1f77b4\"/>\n     <use xlink:href=\"#m30beaf2ae0\" x=\"152.297843\" y=\"82.631946\" style=\"fill: #1f77b4; stroke: #1f77b4\"/>\n     <use xlink:href=\"#m30beaf2ae0\" x=\"106.478775\" y=\"71.187479\" style=\"fill: #1f77b4; stroke: #1f77b4\"/>\n     <use xlink:href=\"#m30beaf2ae0\" x=\"109.2683\" y=\"75.460818\" style=\"fill: #1f77b4; stroke: #1f77b4\"/>\n     <use xlink:href=\"#m30beaf2ae0\" x=\"106.827415\" y=\"80.790201\" style=\"fill: #1f77b4; stroke: #1f77b4\"/>\n     <use xlink:href=\"#m30beaf2ae0\" x=\"113.662403\" y=\"55.049753\" style=\"fill: #1f77b4; stroke: #1f77b4\"/>\n     <use xlink:href=\"#m30beaf2ae0\" x=\"87.711572\" y=\"59.681842\" style=\"fill: #1f77b4; stroke: #1f77b4\"/>\n     <use xlink:href=\"#m30beaf2ae0\" x=\"122.158507\" y=\"98.890201\" style=\"fill: #1f77b4; stroke: #1f77b4\"/>\n     <use xlink:href=\"#m30beaf2ae0\" x=\"125.275066\" y=\"75.345144\" style=\"fill: #1f77b4; stroke: #1f77b4\"/>\n     <use xlink:href=\"#m30beaf2ae0\" x=\"130.539629\" y=\"75.959948\" style=\"fill: #1f77b4; stroke: #1f77b4\"/>\n     <use xlink:href=\"#m30beaf2ae0\" x=\"83.345219\" y=\"65.21273\" style=\"fill: #1f77b4; stroke: #1f77b4\"/>\n     <use xlink:href=\"#m30beaf2ae0\" x=\"95.614365\" y=\"55.132884\" style=\"fill: #1f77b4; stroke: #1f77b4\"/>\n     <use xlink:href=\"#m30beaf2ae0\" x=\"148.602298\" y=\"73.302453\" style=\"fill: #1f77b4; stroke: #1f77b4\"/>\n     <use xlink:href=\"#m30beaf2ae0\" x=\"147.492676\" y=\"75.687521\" style=\"fill: #1f77b4; stroke: #1f77b4\"/>\n     <use xlink:href=\"#m30beaf2ae0\" x=\"151.931845\" y=\"109.37472\" style=\"fill: #1f77b4; stroke: #1f77b4\"/>\n     <use xlink:href=\"#m30beaf2ae0\" x=\"115.706164\" y=\"78.294565\" style=\"fill: #1f77b4; stroke: #1f77b4\"/>\n     <use xlink:href=\"#m30beaf2ae0\" x=\"137.787995\" y=\"86.55773\" style=\"fill: #1f77b4; stroke: #1f77b4\"/>\n     <use xlink:href=\"#m30beaf2ae0\" x=\"86.640601\" y=\"56.677544\" style=\"fill: #1f77b4; stroke: #1f77b4\"/>\n     <use xlink:href=\"#m30beaf2ae0\" x=\"108.608547\" y=\"80.238887\" style=\"fill: #1f77b4; stroke: #1f77b4\"/>\n     <use xlink:href=\"#m30beaf2ae0\" x=\"168.899312\" y=\"113.809648\" style=\"fill: #1f77b4; stroke: #1f77b4\"/>\n     <use xlink:href=\"#m30beaf2ae0\" x=\"132.288651\" y=\"82.184202\" style=\"fill: #1f77b4; stroke: #1f77b4\"/>\n     <use xlink:href=\"#m30beaf2ae0\" x=\"109.517893\" y=\"86.3273\" style=\"fill: #1f77b4; stroke: #1f77b4\"/>\n     <use xlink:href=\"#m30beaf2ae0\" x=\"114.076954\" y=\"69.212605\" style=\"fill: #1f77b4; stroke: #1f77b4\"/>\n     <use xlink:href=\"#m30beaf2ae0\" x=\"134.774587\" y=\"96.649003\" style=\"fill: #1f77b4; stroke: #1f77b4\"/>\n     <use xlink:href=\"#m30beaf2ae0\" x=\"112.100827\" y=\"68.948804\" style=\"fill: #1f77b4; stroke: #1f77b4\"/>\n     <use xlink:href=\"#m30beaf2ae0\" x=\"188.16426\" y=\"110.012101\" style=\"fill: #1f77b4; stroke: #1f77b4\"/>\n     <use xlink:href=\"#m30beaf2ae0\" x=\"121.267054\" y=\"95.454611\" style=\"fill: #1f77b4; stroke: #1f77b4\"/>\n     <use xlink:href=\"#m30beaf2ae0\" x=\"194.383848\" y=\"112.591174\" style=\"fill: #1f77b4; stroke: #1f77b4\"/>\n     <use xlink:href=\"#m30beaf2ae0\" x=\"124.572708\" y=\"69.578041\" style=\"fill: #1f77b4; stroke: #1f77b4\"/>\n     <use xlink:href=\"#m30beaf2ae0\" x=\"119.089438\" y=\"85.229653\" style=\"fill: #1f77b4; stroke: #1f77b4\"/>\n     <use xlink:href=\"#m30beaf2ae0\" x=\"122.332971\" y=\"58.813648\" style=\"fill: #1f77b4; stroke: #1f77b4\"/>\n     <use xlink:href=\"#m30beaf2ae0\" x=\"152.965878\" y=\"111.63599\" style=\"fill: #1f77b4; stroke: #1f77b4\"/>\n     <use xlink:href=\"#m30beaf2ae0\" x=\"109.264181\" y=\"73.397945\" style=\"fill: #1f77b4; stroke: #1f77b4\"/>\n     <use xlink:href=\"#m30beaf2ae0\" x=\"114.73932\" y=\"60.909898\" style=\"fill: #1f77b4; stroke: #1f77b4\"/>\n     <use xlink:href=\"#m30beaf2ae0\" x=\"144.850931\" y=\"81.164593\" style=\"fill: #1f77b4; stroke: #1f77b4\"/>\n     <use xlink:href=\"#m30beaf2ae0\" x=\"147.237626\" y=\"85.16086\" style=\"fill: #1f77b4; stroke: #1f77b4\"/>\n     <use xlink:href=\"#m30beaf2ae0\" x=\"111.995272\" y=\"67.744343\" style=\"fill: #1f77b4; stroke: #1f77b4\"/>\n     <use xlink:href=\"#m30beaf2ae0\" x=\"146.08311\" y=\"108.723405\" style=\"fill: #1f77b4; stroke: #1f77b4\"/>\n     <use xlink:href=\"#m30beaf2ae0\" x=\"177.558089\" y=\"120.030608\" style=\"fill: #1f77b4; stroke: #1f77b4\"/>\n     <use xlink:href=\"#m30beaf2ae0\" x=\"116.395306\" y=\"72.462628\" style=\"fill: #1f77b4; stroke: #1f77b4\"/>\n     <use xlink:href=\"#m30beaf2ae0\" x=\"117.768367\" y=\"77.443605\" style=\"fill: #1f77b4; stroke: #1f77b4\"/>\n     <use xlink:href=\"#m30beaf2ae0\" x=\"99.956343\" y=\"78.647434\" style=\"fill: #1f77b4; stroke: #1f77b4\"/>\n     <use xlink:href=\"#m30beaf2ae0\" x=\"106.697311\" y=\"68.966665\" style=\"fill: #1f77b4; stroke: #1f77b4\"/>\n     <use xlink:href=\"#m30beaf2ae0\" x=\"149.174876\" y=\"77.210138\" style=\"fill: #1f77b4; stroke: #1f77b4\"/>\n     <use xlink:href=\"#m30beaf2ae0\" x=\"142.655023\" y=\"89.701302\" style=\"fill: #1f77b4; stroke: #1f77b4\"/>\n     <use xlink:href=\"#m30beaf2ae0\" x=\"181.21942\" y=\"109.700255\" style=\"fill: #1f77b4; stroke: #1f77b4\"/>\n     <use xlink:href=\"#m30beaf2ae0\" x=\"123.315056\" y=\"93.231469\" style=\"fill: #1f77b4; stroke: #1f77b4\"/>\n     <use xlink:href=\"#m30beaf2ae0\" x=\"115.486045\" y=\"72.790054\" style=\"fill: #1f77b4; stroke: #1f77b4\"/>\n     <use xlink:href=\"#m30beaf2ae0\" x=\"158.201985\" y=\"101.035454\" style=\"fill: #1f77b4; stroke: #1f77b4\"/>\n     <use xlink:href=\"#m30beaf2ae0\" x=\"111.933703\" y=\"92.227248\" style=\"fill: #1f77b4; stroke: #1f77b4\"/>\n     <use xlink:href=\"#m30beaf2ae0\" x=\"118.512718\" y=\"78.362344\" style=\"fill: #1f77b4; stroke: #1f77b4\"/>\n     <use xlink:href=\"#m30beaf2ae0\" x=\"136.805759\" y=\"94.700222\" style=\"fill: #1f77b4; stroke: #1f77b4\"/>\n     <use xlink:href=\"#m30beaf2ae0\" x=\"123.972989\" y=\"90.699645\" style=\"fill: #1f77b4; stroke: #1f77b4\"/>\n     <use xlink:href=\"#m30beaf2ae0\" x=\"138.290078\" y=\"76.985625\" style=\"fill: #1f77b4; stroke: #1f77b4\"/>\n     <use xlink:href=\"#m30beaf2ae0\" x=\"124.410737\" y=\"80.40301\" style=\"fill: #1f77b4; stroke: #1f77b4\"/>\n     <use xlink:href=\"#m30beaf2ae0\" x=\"134.471476\" y=\"81.043325\" style=\"fill: #1f77b4; stroke: #1f77b4\"/>\n     <use xlink:href=\"#m30beaf2ae0\" x=\"120.610508\" y=\"77.195839\" style=\"fill: #1f77b4; stroke: #1f77b4\"/>\n     <use xlink:href=\"#m30beaf2ae0\" x=\"129.899678\" y=\"60.838225\" style=\"fill: #1f77b4; stroke: #1f77b4\"/>\n     <use xlink:href=\"#m30beaf2ae0\" x=\"118.114921\" y=\"82.842043\" style=\"fill: #1f77b4; stroke: #1f77b4\"/>\n     <use xlink:href=\"#m30beaf2ae0\" x=\"147.822654\" y=\"96.688692\" style=\"fill: #1f77b4; stroke: #1f77b4\"/>\n     <use xlink:href=\"#m30beaf2ae0\" x=\"95.692427\" y=\"55.008949\" style=\"fill: #1f77b4; stroke: #1f77b4\"/>\n     <use xlink:href=\"#m30beaf2ae0\" x=\"143.472461\" y=\"98.326024\" style=\"fill: #1f77b4; stroke: #1f77b4\"/>\n     <use xlink:href=\"#m30beaf2ae0\" x=\"108.989645\" y=\"65.250788\" style=\"fill: #1f77b4; stroke: #1f77b4\"/>\n     <use xlink:href=\"#m30beaf2ae0\" x=\"167.117403\" y=\"107.355723\" style=\"fill: #1f77b4; stroke: #1f77b4\"/>\n     <use xlink:href=\"#m30beaf2ae0\" x=\"120.789694\" y=\"80.97781\" style=\"fill: #1f77b4; stroke: #1f77b4\"/>\n     <use xlink:href=\"#m30beaf2ae0\" x=\"116.324555\" y=\"88.1002\" style=\"fill: #1f77b4; stroke: #1f77b4\"/>\n     <use xlink:href=\"#m30beaf2ae0\" x=\"116.872796\" y=\"83.920407\" style=\"fill: #1f77b4; stroke: #1f77b4\"/>\n     <use xlink:href=\"#m30beaf2ae0\" x=\"132.948369\" y=\"77.84469\" style=\"fill: #1f77b4; stroke: #1f77b4\"/>\n     <use xlink:href=\"#m30beaf2ae0\" x=\"151.389332\" y=\"109.523746\" style=\"fill: #1f77b4; stroke: #1f77b4\"/>\n     <use xlink:href=\"#m30beaf2ae0\" x=\"107.352952\" y=\"69.7295\" style=\"fill: #1f77b4; stroke: #1f77b4\"/>\n     <use xlink:href=\"#m30beaf2ae0\" x=\"95.019971\" y=\"45.282692\" style=\"fill: #1f77b4; stroke: #1f77b4\"/>\n     <use xlink:href=\"#m30beaf2ae0\" x=\"106.105799\" y=\"47.174375\" style=\"fill: #1f77b4; stroke: #1f77b4\"/>\n     <use xlink:href=\"#m30beaf2ae0\" x=\"168.073934\" y=\"96.398313\" style=\"fill: #1f77b4; stroke: #1f77b4\"/>\n     <use xlink:href=\"#m30beaf2ae0\" x=\"109.082488\" y=\"62.884992\" style=\"fill: #1f77b4; stroke: #1f77b4\"/>\n     <use xlink:href=\"#m30beaf2ae0\" x=\"100.63601\" y=\"69.518865\" style=\"fill: #1f77b4; stroke: #1f77b4\"/>\n     <use xlink:href=\"#m30beaf2ae0\" x=\"157.122199\" y=\"98.823445\" style=\"fill: #1f77b4; stroke: #1f77b4\"/>\n     <use xlink:href=\"#m30beaf2ae0\" x=\"121.651855\" y=\"77.304649\" style=\"fill: #1f77b4; stroke: #1f77b4\"/>\n     <use xlink:href=\"#m30beaf2ae0\" x=\"135.538872\" y=\"89.254632\" style=\"fill: #1f77b4; stroke: #1f77b4\"/>\n     <use xlink:href=\"#m30beaf2ae0\" x=\"154.611965\" y=\"97.683222\" style=\"fill: #1f77b4; stroke: #1f77b4\"/>\n     <use xlink:href=\"#m30beaf2ae0\" x=\"105.332002\" y=\"78.624888\" style=\"fill: #1f77b4; stroke: #1f77b4\"/>\n     <use xlink:href=\"#m30beaf2ae0\" x=\"108.638289\" y=\"74.719206\" style=\"fill: #1f77b4; stroke: #1f77b4\"/>\n     <use xlink:href=\"#m30beaf2ae0\" x=\"153.362899\" y=\"104.727926\" style=\"fill: #1f77b4; stroke: #1f77b4\"/>\n     <use xlink:href=\"#m30beaf2ae0\" x=\"138.612065\" y=\"90.911348\" style=\"fill: #1f77b4; stroke: #1f77b4\"/>\n     <use xlink:href=\"#m30beaf2ae0\" x=\"73.490564\" y=\"33.450816\" style=\"fill: #1f77b4; stroke: #1f77b4\"/>\n     <use xlink:href=\"#m30beaf2ae0\" x=\"140.712911\" y=\"84.08496\" style=\"fill: #1f77b4; stroke: #1f77b4\"/>\n     <use xlink:href=\"#m30beaf2ae0\" x=\"172.733091\" y=\"99.813903\" style=\"fill: #1f77b4; stroke: #1f77b4\"/>\n     <use xlink:href=\"#m30beaf2ae0\" x=\"98.718416\" y=\"66.182875\" style=\"fill: #1f77b4; stroke: #1f77b4\"/>\n     <use xlink:href=\"#m30beaf2ae0\" x=\"171.49769\" y=\"105.813949\" style=\"fill: #1f77b4; stroke: #1f77b4\"/>\n     <use xlink:href=\"#m30beaf2ae0\" x=\"97.467466\" y=\"48.331816\" style=\"fill: #1f77b4; stroke: #1f77b4\"/>\n     <use xlink:href=\"#m30beaf2ae0\" x=\"79.57372\" y=\"38.05674\" style=\"fill: #1f77b4; stroke: #1f77b4\"/>\n     <use xlink:href=\"#m30beaf2ae0\" x=\"215.364915\" y=\"135.423181\" style=\"fill: #1f77b4; stroke: #1f77b4\"/>\n     <use xlink:href=\"#m30beaf2ae0\" x=\"183.114247\" y=\"107.994614\" style=\"fill: #1f77b4; stroke: #1f77b4\"/>\n     <use xlink:href=\"#m30beaf2ae0\" x=\"113.94667\" y=\"62.384186\" style=\"fill: #1f77b4; stroke: #1f77b4\"/>\n     <use xlink:href=\"#m30beaf2ae0\" x=\"144.224233\" y=\"101.555888\" style=\"fill: #1f77b4; stroke: #1f77b4\"/>\n     <use xlink:href=\"#m30beaf2ae0\" x=\"137.590902\" y=\"82.39654\" style=\"fill: #1f77b4; stroke: #1f77b4\"/>\n     <use xlink:href=\"#m30beaf2ae0\" x=\"128.793876\" y=\"79.407857\" style=\"fill: #1f77b4; stroke: #1f77b4\"/>\n     <use xlink:href=\"#m30beaf2ae0\" x=\"116.497975\" y=\"78.693942\" style=\"fill: #1f77b4; stroke: #1f77b4\"/>\n     <use xlink:href=\"#m30beaf2ae0\" x=\"132.853694\" y=\"87.28414\" style=\"fill: #1f77b4; stroke: #1f77b4\"/>\n     <use xlink:href=\"#m30beaf2ae0\" x=\"171.482841\" y=\"110.449103\" style=\"fill: #1f77b4; stroke: #1f77b4\"/>\n     <use xlink:href=\"#m30beaf2ae0\" x=\"133.106143\" y=\"89.445696\" style=\"fill: #1f77b4; stroke: #1f77b4\"/>\n     <use xlink:href=\"#m30beaf2ae0\" x=\"167.603346\" y=\"128.194884\" style=\"fill: #1f77b4; stroke: #1f77b4\"/>\n     <use xlink:href=\"#m30beaf2ae0\" x=\"104.336745\" y=\"71.726954\" style=\"fill: #1f77b4; stroke: #1f77b4\"/>\n     <use xlink:href=\"#m30beaf2ae0\" x=\"95.257249\" y=\"56.527688\" style=\"fill: #1f77b4; stroke: #1f77b4\"/>\n     <use xlink:href=\"#m30beaf2ae0\" x=\"151.099291\" y=\"90.105697\" style=\"fill: #1f77b4; stroke: #1f77b4\"/>\n     <use xlink:href=\"#m30beaf2ae0\" x=\"138.466577\" y=\"82.81391\" style=\"fill: #1f77b4; stroke: #1f77b4\"/>\n     <use xlink:href=\"#m30beaf2ae0\" x=\"150.809732\" y=\"100.084334\" style=\"fill: #1f77b4; stroke: #1f77b4\"/>\n     <use xlink:href=\"#m30beaf2ae0\" x=\"110.764127\" y=\"74.966427\" style=\"fill: #1f77b4; stroke: #1f77b4\"/>\n     <use xlink:href=\"#m30beaf2ae0\" x=\"141.522906\" y=\"85.190203\" style=\"fill: #1f77b4; stroke: #1f77b4\"/>\n     <use xlink:href=\"#m30beaf2ae0\" x=\"149.294662\" y=\"91.652559\" style=\"fill: #1f77b4; stroke: #1f77b4\"/>\n     <use xlink:href=\"#m30beaf2ae0\" x=\"87.969964\" y=\"62.23686\" style=\"fill: #1f77b4; stroke: #1f77b4\"/>\n     <use xlink:href=\"#m30beaf2ae0\" x=\"95.450999\" y=\"71.878123\" style=\"fill: #1f77b4; stroke: #1f77b4\"/>\n     <use xlink:href=\"#m30beaf2ae0\" x=\"112.599372\" y=\"70.224402\" style=\"fill: #1f77b4; stroke: #1f77b4\"/>\n     <use xlink:href=\"#m30beaf2ae0\" x=\"110.521531\" y=\"69.843431\" style=\"fill: #1f77b4; stroke: #1f77b4\"/>\n     <use xlink:href=\"#m30beaf2ae0\" x=\"118.274855\" y=\"61.934449\" style=\"fill: #1f77b4; stroke: #1f77b4\"/>\n     <use xlink:href=\"#m30beaf2ae0\" x=\"126.837276\" y=\"65.93668\" style=\"fill: #1f77b4; stroke: #1f77b4\"/>\n     <use xlink:href=\"#m30beaf2ae0\" x=\"101.985628\" y=\"83.230982\" style=\"fill: #1f77b4; stroke: #1f77b4\"/>\n     <use xlink:href=\"#m30beaf2ae0\" x=\"167.596042\" y=\"97.175813\" style=\"fill: #1f77b4; stroke: #1f77b4\"/>\n     <use xlink:href=\"#m30beaf2ae0\" x=\"114.325291\" y=\"76.553384\" style=\"fill: #1f77b4; stroke: #1f77b4\"/>\n     <use xlink:href=\"#m30beaf2ae0\" x=\"128.375342\" y=\"89.497058\" style=\"fill: #1f77b4; stroke: #1f77b4\"/>\n     <use xlink:href=\"#m30beaf2ae0\" x=\"97.475885\" y=\"84.695806\" style=\"fill: #1f77b4; stroke: #1f77b4\"/>\n     <use xlink:href=\"#m30beaf2ae0\" x=\"158.653217\" y=\"99.942109\" style=\"fill: #1f77b4; stroke: #1f77b4\"/>\n     <use xlink:href=\"#m30beaf2ae0\" x=\"52.204624\" y=\"52.95569\" style=\"fill: #1f77b4; stroke: #1f77b4\"/>\n     <use xlink:href=\"#m30beaf2ae0\" x=\"115.533716\" y=\"77.141709\" style=\"fill: #1f77b4; stroke: #1f77b4\"/>\n     <use xlink:href=\"#m30beaf2ae0\" x=\"102.82522\" y=\"66.133721\" style=\"fill: #1f77b4; stroke: #1f77b4\"/>\n     <use xlink:href=\"#m30beaf2ae0\" x=\"144.134737\" y=\"104.641747\" style=\"fill: #1f77b4; stroke: #1f77b4\"/>\n     <use xlink:href=\"#m30beaf2ae0\" x=\"115.877861\" y=\"74.57323\" style=\"fill: #1f77b4; stroke: #1f77b4\"/>\n     <use xlink:href=\"#m30beaf2ae0\" x=\"83.507267\" y=\"60.957016\" style=\"fill: #1f77b4; stroke: #1f77b4\"/>\n     <use xlink:href=\"#m30beaf2ae0\" x=\"147.822669\" y=\"107.193872\" style=\"fill: #1f77b4; stroke: #1f77b4\"/>\n     <use xlink:href=\"#m30beaf2ae0\" x=\"151.241939\" y=\"88.025513\" style=\"fill: #1f77b4; stroke: #1f77b4\"/>\n     <use xlink:href=\"#m30beaf2ae0\" x=\"124.359003\" y=\"90.956738\" style=\"fill: #1f77b4; stroke: #1f77b4\"/>\n     <use xlink:href=\"#m30beaf2ae0\" x=\"99.713375\" y=\"76.191723\" style=\"fill: #1f77b4; stroke: #1f77b4\"/>\n     <use xlink:href=\"#m30beaf2ae0\" x=\"141.432845\" y=\"93.459435\" style=\"fill: #1f77b4; stroke: #1f77b4\"/>\n     <use xlink:href=\"#m30beaf2ae0\" x=\"157.043529\" y=\"97.906877\" style=\"fill: #1f77b4; stroke: #1f77b4\"/>\n     <use xlink:href=\"#m30beaf2ae0\" x=\"113.29363\" y=\"58.444243\" style=\"fill: #1f77b4; stroke: #1f77b4\"/>\n     <use xlink:href=\"#m30beaf2ae0\" x=\"76.278301\" y=\"58.182129\" style=\"fill: #1f77b4; stroke: #1f77b4\"/>\n     <use xlink:href=\"#m30beaf2ae0\" x=\"106.314548\" y=\"57.291492\" style=\"fill: #1f77b4; stroke: #1f77b4\"/>\n     <use xlink:href=\"#m30beaf2ae0\" x=\"58.39647\" y=\"51.818909\" style=\"fill: #1f77b4; stroke: #1f77b4\"/>\n     <use xlink:href=\"#m30beaf2ae0\" x=\"112.507171\" y=\"80.550018\" style=\"fill: #1f77b4; stroke: #1f77b4\"/>\n     <use xlink:href=\"#m30beaf2ae0\" x=\"146.012777\" y=\"93.85671\" style=\"fill: #1f77b4; stroke: #1f77b4\"/>\n     <use xlink:href=\"#m30beaf2ae0\" x=\"144.845936\" y=\"89.313109\" style=\"fill: #1f77b4; stroke: #1f77b4\"/>\n     <use xlink:href=\"#m30beaf2ae0\" x=\"125.660788\" y=\"84.83055\" style=\"fill: #1f77b4; stroke: #1f77b4\"/>\n     <use xlink:href=\"#m30beaf2ae0\" x=\"115.60791\" y=\"79.499796\" style=\"fill: #1f77b4; stroke: #1f77b4\"/>\n     <use xlink:href=\"#m30beaf2ae0\" x=\"185.827881\" y=\"110.480089\" style=\"fill: #1f77b4; stroke: #1f77b4\"/>\n     <use xlink:href=\"#m30beaf2ae0\" x=\"149.207233\" y=\"104.605037\" style=\"fill: #1f77b4; stroke: #1f77b4\"/>\n     <use xlink:href=\"#m30beaf2ae0\" x=\"121.179164\" y=\"77.584222\" style=\"fill: #1f77b4; stroke: #1f77b4\"/>\n     <use xlink:href=\"#m30beaf2ae0\" x=\"140.889576\" y=\"89.970786\" style=\"fill: #1f77b4; stroke: #1f77b4\"/>\n     <use xlink:href=\"#m30beaf2ae0\" x=\"150.602273\" y=\"95.227892\" style=\"fill: #1f77b4; stroke: #1f77b4\"/>\n     <use xlink:href=\"#m30beaf2ae0\" x=\"130.167761\" y=\"86.489749\" style=\"fill: #1f77b4; stroke: #1f77b4\"/>\n     <use xlink:href=\"#m30beaf2ae0\" x=\"126.670703\" y=\"60.674603\" style=\"fill: #1f77b4; stroke: #1f77b4\"/>\n     <use xlink:href=\"#m30beaf2ae0\" x=\"105.765168\" y=\"54.309431\" style=\"fill: #1f77b4; stroke: #1f77b4\"/>\n     <use xlink:href=\"#m30beaf2ae0\" x=\"95.828082\" y=\"60.675216\" style=\"fill: #1f77b4; stroke: #1f77b4\"/>\n     <use xlink:href=\"#m30beaf2ae0\" x=\"81.905764\" y=\"62.990952\" style=\"fill: #1f77b4; stroke: #1f77b4\"/>\n     <use xlink:href=\"#m30beaf2ae0\" x=\"99.828693\" y=\"76.59733\" style=\"fill: #1f77b4; stroke: #1f77b4\"/>\n     <use xlink:href=\"#m30beaf2ae0\" x=\"126.616109\" y=\"83.344511\" style=\"fill: #1f77b4; stroke: #1f77b4\"/>\n     <use xlink:href=\"#m30beaf2ae0\" x=\"122.280569\" y=\"55.707731\" style=\"fill: #1f77b4; stroke: #1f77b4\"/>\n     <use xlink:href=\"#m30beaf2ae0\" x=\"98.657314\" y=\"55.551285\" style=\"fill: #1f77b4; stroke: #1f77b4\"/>\n     <use xlink:href=\"#m30beaf2ae0\" x=\"145.399598\" y=\"91.681117\" style=\"fill: #1f77b4; stroke: #1f77b4\"/>\n     <use xlink:href=\"#m30beaf2ae0\" x=\"110.571775\" y=\"66.097629\" style=\"fill: #1f77b4; stroke: #1f77b4\"/>\n     <use xlink:href=\"#m30beaf2ae0\" x=\"74.672978\" y=\"43.869129\" style=\"fill: #1f77b4; stroke: #1f77b4\"/>\n     <use xlink:href=\"#m30beaf2ae0\" x=\"115.901313\" y=\"79.560961\" style=\"fill: #1f77b4; stroke: #1f77b4\"/>\n     <use xlink:href=\"#m30beaf2ae0\" x=\"124.809204\" y=\"95.487841\" style=\"fill: #1f77b4; stroke: #1f77b4\"/>\n     <use xlink:href=\"#m30beaf2ae0\" x=\"116.135945\" y=\"96.26254\" style=\"fill: #1f77b4; stroke: #1f77b4\"/>\n     <use xlink:href=\"#m30beaf2ae0\" x=\"123.736325\" y=\"83.78488\" style=\"fill: #1f77b4; stroke: #1f77b4\"/>\n     <use xlink:href=\"#m30beaf2ae0\" x=\"104.105525\" y=\"72.066506\" style=\"fill: #1f77b4; stroke: #1f77b4\"/>\n     <use xlink:href=\"#m30beaf2ae0\" x=\"166.263082\" y=\"100.570897\" style=\"fill: #1f77b4; stroke: #1f77b4\"/>\n     <use xlink:href=\"#m30beaf2ae0\" x=\"91.880294\" y=\"45.933542\" style=\"fill: #1f77b4; stroke: #1f77b4\"/>\n     <use xlink:href=\"#m30beaf2ae0\" x=\"123.806474\" y=\"81.225253\" style=\"fill: #1f77b4; stroke: #1f77b4\"/>\n     <use xlink:href=\"#m30beaf2ae0\" x=\"140.454449\" y=\"67.627031\" style=\"fill: #1f77b4; stroke: #1f77b4\"/>\n     <use xlink:href=\"#m30beaf2ae0\" x=\"121.257346\" y=\"74.580778\" style=\"fill: #1f77b4; stroke: #1f77b4\"/>\n     <use xlink:href=\"#m30beaf2ae0\" x=\"131.847313\" y=\"90.575669\" style=\"fill: #1f77b4; stroke: #1f77b4\"/>\n     <use xlink:href=\"#m30beaf2ae0\" x=\"108.632059\" y=\"74.152194\" style=\"fill: #1f77b4; stroke: #1f77b4\"/>\n     <use xlink:href=\"#m30beaf2ae0\" x=\"162.975188\" y=\"114.545288\" style=\"fill: #1f77b4; stroke: #1f77b4\"/>\n     <use xlink:href=\"#m30beaf2ae0\" x=\"138.993865\" y=\"106.130566\" style=\"fill: #1f77b4; stroke: #1f77b4\"/>\n     <use xlink:href=\"#m30beaf2ae0\" x=\"144.482268\" y=\"98.272147\" style=\"fill: #1f77b4; stroke: #1f77b4\"/>\n     <use xlink:href=\"#m30beaf2ae0\" x=\"124.160833\" y=\"73.110119\" style=\"fill: #1f77b4; stroke: #1f77b4\"/>\n     <use xlink:href=\"#m30beaf2ae0\" x=\"100.860261\" y=\"54.698715\" style=\"fill: #1f77b4; stroke: #1f77b4\"/>\n     <use xlink:href=\"#m30beaf2ae0\" x=\"129.768701\" y=\"78.105418\" style=\"fill: #1f77b4; stroke: #1f77b4\"/>\n     <use xlink:href=\"#m30beaf2ae0\" x=\"166.472465\" y=\"107.275142\" style=\"fill: #1f77b4; stroke: #1f77b4\"/>\n     <use xlink:href=\"#m30beaf2ae0\" x=\"149.188681\" y=\"85.847778\" style=\"fill: #1f77b4; stroke: #1f77b4\"/>\n     <use xlink:href=\"#m30beaf2ae0\" x=\"148.861996\" y=\"107.716181\" style=\"fill: #1f77b4; stroke: #1f77b4\"/>\n     <use xlink:href=\"#m30beaf2ae0\" x=\"148.19545\" y=\"105.511511\" style=\"fill: #1f77b4; stroke: #1f77b4\"/>\n     <use xlink:href=\"#m30beaf2ae0\" x=\"101.653978\" y=\"60.101642\" style=\"fill: #1f77b4; stroke: #1f77b4\"/>\n     <use xlink:href=\"#m30beaf2ae0\" x=\"114.525128\" y=\"54.185622\" style=\"fill: #1f77b4; stroke: #1f77b4\"/>\n     <use xlink:href=\"#m30beaf2ae0\" x=\"139.132696\" y=\"81.617879\" style=\"fill: #1f77b4; stroke: #1f77b4\"/>\n     <use xlink:href=\"#m30beaf2ae0\" x=\"135.377086\" y=\"87.838499\" style=\"fill: #1f77b4; stroke: #1f77b4\"/>\n     <use xlink:href=\"#m30beaf2ae0\" x=\"108.608068\" y=\"80.766999\" style=\"fill: #1f77b4; stroke: #1f77b4\"/>\n     <use xlink:href=\"#m30beaf2ae0\" x=\"176.824688\" y=\"111.84466\" style=\"fill: #1f77b4; stroke: #1f77b4\"/>\n     <use xlink:href=\"#m30beaf2ae0\" x=\"128.933354\" y=\"82.066614\" style=\"fill: #1f77b4; stroke: #1f77b4\"/>\n     <use xlink:href=\"#m30beaf2ae0\" x=\"137.228762\" y=\"74.729995\" style=\"fill: #1f77b4; stroke: #1f77b4\"/>\n     <use xlink:href=\"#m30beaf2ae0\" x=\"134.318042\" y=\"75.328167\" style=\"fill: #1f77b4; stroke: #1f77b4\"/>\n     <use xlink:href=\"#m30beaf2ae0\" x=\"130.604106\" y=\"76.050528\" style=\"fill: #1f77b4; stroke: #1f77b4\"/>\n     <use xlink:href=\"#m30beaf2ae0\" x=\"126.676046\" y=\"78.401681\" style=\"fill: #1f77b4; stroke: #1f77b4\"/>\n     <use xlink:href=\"#m30beaf2ae0\" x=\"120.545138\" y=\"78.419675\" style=\"fill: #1f77b4; stroke: #1f77b4\"/>\n     <use xlink:href=\"#m30beaf2ae0\" x=\"101.774477\" y=\"57.333659\" style=\"fill: #1f77b4; stroke: #1f77b4\"/>\n     <use xlink:href=\"#m30beaf2ae0\" x=\"139.18637\" y=\"96.734611\" style=\"fill: #1f77b4; stroke: #1f77b4\"/>\n     <use xlink:href=\"#m30beaf2ae0\" x=\"143.667586\" y=\"88.177827\" style=\"fill: #1f77b4; stroke: #1f77b4\"/>\n     <use xlink:href=\"#m30beaf2ae0\" x=\"154.13536\" y=\"98.465843\" style=\"fill: #1f77b4; stroke: #1f77b4\"/>\n     <use xlink:href=\"#m30beaf2ae0\" x=\"140.380419\" y=\"87.252838\" style=\"fill: #1f77b4; stroke: #1f77b4\"/>\n     <use xlink:href=\"#m30beaf2ae0\" x=\"131.748599\" y=\"89.037329\" style=\"fill: #1f77b4; stroke: #1f77b4\"/>\n     <use xlink:href=\"#m30beaf2ae0\" x=\"97.956519\" y=\"58.470875\" style=\"fill: #1f77b4; stroke: #1f77b4\"/>\n     <use xlink:href=\"#m30beaf2ae0\" x=\"179.537265\" y=\"103.116368\" style=\"fill: #1f77b4; stroke: #1f77b4\"/>\n     <use xlink:href=\"#m30beaf2ae0\" x=\"142.487196\" y=\"77.372444\" style=\"fill: #1f77b4; stroke: #1f77b4\"/>\n     <use xlink:href=\"#m30beaf2ae0\" x=\"124.24271\" y=\"92.033691\" style=\"fill: #1f77b4; stroke: #1f77b4\"/>\n     <use xlink:href=\"#m30beaf2ae0\" x=\"74.594338\" y=\"46.287042\" style=\"fill: #1f77b4; stroke: #1f77b4\"/>\n     <use xlink:href=\"#m30beaf2ae0\" x=\"144.237823\" y=\"78.518238\" style=\"fill: #1f77b4; stroke: #1f77b4\"/>\n     <use xlink:href=\"#m30beaf2ae0\" x=\"98.864801\" y=\"55.63143\" style=\"fill: #1f77b4; stroke: #1f77b4\"/>\n     <use xlink:href=\"#m30beaf2ae0\" x=\"133.678195\" y=\"92.096178\" style=\"fill: #1f77b4; stroke: #1f77b4\"/>\n     <use xlink:href=\"#m30beaf2ae0\" x=\"121.446297\" y=\"85.610715\" style=\"fill: #1f77b4; stroke: #1f77b4\"/>\n     <use xlink:href=\"#m30beaf2ae0\" x=\"170.984072\" y=\"103.12446\" style=\"fill: #1f77b4; stroke: #1f77b4\"/>\n     <use xlink:href=\"#m30beaf2ae0\" x=\"108.428564\" y=\"55.106411\" style=\"fill: #1f77b4; stroke: #1f77b4\"/>\n     <use xlink:href=\"#m30beaf2ae0\" x=\"151.583875\" y=\"93.384729\" style=\"fill: #1f77b4; stroke: #1f77b4\"/>\n     <use xlink:href=\"#m30beaf2ae0\" x=\"106.309059\" y=\"78.073422\" style=\"fill: #1f77b4; stroke: #1f77b4\"/>\n     <use xlink:href=\"#m30beaf2ae0\" x=\"158.291346\" y=\"105.948472\" style=\"fill: #1f77b4; stroke: #1f77b4\"/>\n     <use xlink:href=\"#m30beaf2ae0\" x=\"125.267391\" y=\"91.220562\" style=\"fill: #1f77b4; stroke: #1f77b4\"/>\n     <use xlink:href=\"#m30beaf2ae0\" x=\"172.152848\" y=\"117.891496\" style=\"fill: #1f77b4; stroke: #1f77b4\"/>\n     <use xlink:href=\"#m30beaf2ae0\" x=\"119.212274\" y=\"80.632502\" style=\"fill: #1f77b4; stroke: #1f77b4\"/>\n     <use xlink:href=\"#m30beaf2ae0\" x=\"111.272493\" y=\"53.385946\" style=\"fill: #1f77b4; stroke: #1f77b4\"/>\n     <use xlink:href=\"#m30beaf2ae0\" x=\"112.242554\" y=\"70.535989\" style=\"fill: #1f77b4; stroke: #1f77b4\"/>\n     <use xlink:href=\"#m30beaf2ae0\" x=\"127.896226\" y=\"66.927574\" style=\"fill: #1f77b4; stroke: #1f77b4\"/>\n     <use xlink:href=\"#m30beaf2ae0\" x=\"72.972258\" y=\"48.97988\" style=\"fill: #1f77b4; stroke: #1f77b4\"/>\n     <use xlink:href=\"#m30beaf2ae0\" x=\"151.479844\" y=\"89.992295\" style=\"fill: #1f77b4; stroke: #1f77b4\"/>\n     <use xlink:href=\"#m30beaf2ae0\" x=\"63.226948\" y=\"45.130617\" style=\"fill: #1f77b4; stroke: #1f77b4\"/>\n     <use xlink:href=\"#m30beaf2ae0\" x=\"101.842478\" y=\"86.758884\" style=\"fill: #1f77b4; stroke: #1f77b4\"/>\n     <use xlink:href=\"#m30beaf2ae0\" x=\"123.917975\" y=\"83.355598\" style=\"fill: #1f77b4; stroke: #1f77b4\"/>\n     <use xlink:href=\"#m30beaf2ae0\" x=\"149.080044\" y=\"93.449569\" style=\"fill: #1f77b4; stroke: #1f77b4\"/>\n     <use xlink:href=\"#m30beaf2ae0\" x=\"102.114467\" y=\"64.053362\" style=\"fill: #1f77b4; stroke: #1f77b4\"/>\n     <use xlink:href=\"#m30beaf2ae0\" x=\"122.919348\" y=\"76.750471\" style=\"fill: #1f77b4; stroke: #1f77b4\"/>\n     <use xlink:href=\"#m30beaf2ae0\" x=\"85.244851\" y=\"45.362809\" style=\"fill: #1f77b4; stroke: #1f77b4\"/>\n     <use xlink:href=\"#m30beaf2ae0\" x=\"123.440218\" y=\"76.879254\" style=\"fill: #1f77b4; stroke: #1f77b4\"/>\n     <use xlink:href=\"#m30beaf2ae0\" x=\"52.418114\" y=\"23.179031\" style=\"fill: #1f77b4; stroke: #1f77b4\"/>\n     <use xlink:href=\"#m30beaf2ae0\" x=\"109.602115\" y=\"84.259335\" style=\"fill: #1f77b4; stroke: #1f77b4\"/>\n     <use xlink:href=\"#m30beaf2ae0\" x=\"134.85911\" y=\"78.70642\" style=\"fill: #1f77b4; stroke: #1f77b4\"/>\n     <use xlink:href=\"#m30beaf2ae0\" x=\"113.590097\" y=\"58.963926\" style=\"fill: #1f77b4; stroke: #1f77b4\"/>\n     <use xlink:href=\"#m30beaf2ae0\" x=\"98.241642\" y=\"55.814134\" style=\"fill: #1f77b4; stroke: #1f77b4\"/>\n     <use xlink:href=\"#m30beaf2ae0\" x=\"141.711046\" y=\"78.103073\" style=\"fill: #1f77b4; stroke: #1f77b4\"/>\n     <use xlink:href=\"#m30beaf2ae0\" x=\"148.487479\" y=\"81.695666\" style=\"fill: #1f77b4; stroke: #1f77b4\"/>\n     <use xlink:href=\"#m30beaf2ae0\" x=\"152.499873\" y=\"102.884492\" style=\"fill: #1f77b4; stroke: #1f77b4\"/>\n     <use xlink:href=\"#m30beaf2ae0\" x=\"138.358002\" y=\"70.01435\" style=\"fill: #1f77b4; stroke: #1f77b4\"/>\n     <use xlink:href=\"#m30beaf2ae0\" x=\"124.06129\" y=\"89.297789\" style=\"fill: #1f77b4; stroke: #1f77b4\"/>\n     <use xlink:href=\"#m30beaf2ae0\" x=\"139.246053\" y=\"75.390245\" style=\"fill: #1f77b4; stroke: #1f77b4\"/>\n     <use xlink:href=\"#m30beaf2ae0\" x=\"106.654585\" y=\"54.753678\" style=\"fill: #1f77b4; stroke: #1f77b4\"/>\n     <use xlink:href=\"#m30beaf2ae0\" x=\"183.178075\" y=\"117.696267\" style=\"fill: #1f77b4; stroke: #1f77b4\"/>\n     <use xlink:href=\"#m30beaf2ae0\" x=\"172.217981\" y=\"99.382529\" style=\"fill: #1f77b4; stroke: #1f77b4\"/>\n     <use xlink:href=\"#m30beaf2ae0\" x=\"138.904936\" y=\"93.027335\" style=\"fill: #1f77b4; stroke: #1f77b4\"/>\n     <use xlink:href=\"#m30beaf2ae0\" x=\"126.892123\" y=\"93.886473\" style=\"fill: #1f77b4; stroke: #1f77b4\"/>\n     <use xlink:href=\"#m30beaf2ae0\" x=\"98.123205\" y=\"60.487163\" style=\"fill: #1f77b4; stroke: #1f77b4\"/>\n     <use xlink:href=\"#m30beaf2ae0\" x=\"124.937882\" y=\"81.760302\" style=\"fill: #1f77b4; stroke: #1f77b4\"/>\n     <use xlink:href=\"#m30beaf2ae0\" x=\"90.71125\" y=\"53.053208\" style=\"fill: #1f77b4; stroke: #1f77b4\"/>\n     <use xlink:href=\"#m30beaf2ae0\" x=\"149.460671\" y=\"93.036904\" style=\"fill: #1f77b4; stroke: #1f77b4\"/>\n     <use xlink:href=\"#m30beaf2ae0\" x=\"150.782736\" y=\"85.573096\" style=\"fill: #1f77b4; stroke: #1f77b4\"/>\n     <use xlink:href=\"#m30beaf2ae0\" x=\"150.240364\" y=\"80.706967\" style=\"fill: #1f77b4; stroke: #1f77b4\"/>\n     <use xlink:href=\"#m30beaf2ae0\" x=\"141.715549\" y=\"80.832662\" style=\"fill: #1f77b4; stroke: #1f77b4\"/>\n     <use xlink:href=\"#m30beaf2ae0\" x=\"120.44983\" y=\"73.59394\" style=\"fill: #1f77b4; stroke: #1f77b4\"/>\n     <use xlink:href=\"#m30beaf2ae0\" x=\"139.457781\" y=\"82.97654\" style=\"fill: #1f77b4; stroke: #1f77b4\"/>\n     <use xlink:href=\"#m30beaf2ae0\" x=\"170.013713\" y=\"93.106673\" style=\"fill: #1f77b4; stroke: #1f77b4\"/>\n     <use xlink:href=\"#m30beaf2ae0\" x=\"108.778511\" y=\"74.565697\" style=\"fill: #1f77b4; stroke: #1f77b4\"/>\n     <use xlink:href=\"#m30beaf2ae0\" x=\"139.800811\" y=\"77.627111\" style=\"fill: #1f77b4; stroke: #1f77b4\"/>\n     <use xlink:href=\"#m30beaf2ae0\" x=\"150.971833\" y=\"92.401501\" style=\"fill: #1f77b4; stroke: #1f77b4\"/>\n     <use xlink:href=\"#m30beaf2ae0\" x=\"137.347236\" y=\"99.579332\" style=\"fill: #1f77b4; stroke: #1f77b4\"/>\n     <use xlink:href=\"#m30beaf2ae0\" x=\"155.114996\" y=\"91.773851\" style=\"fill: #1f77b4; stroke: #1f77b4\"/>\n     <use xlink:href=\"#m30beaf2ae0\" x=\"133.997761\" y=\"92.474975\" style=\"fill: #1f77b4; stroke: #1f77b4\"/>\n     <use xlink:href=\"#m30beaf2ae0\" x=\"93.100199\" y=\"50.427499\" style=\"fill: #1f77b4; stroke: #1f77b4\"/>\n     <use xlink:href=\"#m30beaf2ae0\" x=\"138.963057\" y=\"72.813742\" style=\"fill: #1f77b4; stroke: #1f77b4\"/>\n     <use xlink:href=\"#m30beaf2ae0\" x=\"129.651596\" y=\"89.722939\" style=\"fill: #1f77b4; stroke: #1f77b4\"/>\n     <use xlink:href=\"#m30beaf2ae0\" x=\"102.850953\" y=\"53.404411\" style=\"fill: #1f77b4; stroke: #1f77b4\"/>\n     <use xlink:href=\"#m30beaf2ae0\" x=\"97.513106\" y=\"75.384479\" style=\"fill: #1f77b4; stroke: #1f77b4\"/>\n     <use xlink:href=\"#m30beaf2ae0\" x=\"134.489879\" y=\"87.109623\" style=\"fill: #1f77b4; stroke: #1f77b4\"/>\n     <use xlink:href=\"#m30beaf2ae0\" x=\"138.289907\" y=\"92.119316\" style=\"fill: #1f77b4; stroke: #1f77b4\"/>\n     <use xlink:href=\"#m30beaf2ae0\" x=\"128.494239\" y=\"88.361102\" style=\"fill: #1f77b4; stroke: #1f77b4\"/>\n     <use xlink:href=\"#m30beaf2ae0\" x=\"107.477075\" y=\"66.166213\" style=\"fill: #1f77b4; stroke: #1f77b4\"/>\n     <use xlink:href=\"#m30beaf2ae0\" x=\"152.089186\" y=\"89.684998\" style=\"fill: #1f77b4; stroke: #1f77b4\"/>\n     <use xlink:href=\"#m30beaf2ae0\" x=\"137.813093\" y=\"116.442816\" style=\"fill: #1f77b4; stroke: #1f77b4\"/>\n     <use xlink:href=\"#m30beaf2ae0\" x=\"123.905845\" y=\"82.863641\" style=\"fill: #1f77b4; stroke: #1f77b4\"/>\n     <use xlink:href=\"#m30beaf2ae0\" x=\"140.652688\" y=\"90.935072\" style=\"fill: #1f77b4; stroke: #1f77b4\"/>\n     <use xlink:href=\"#m30beaf2ae0\" x=\"124.836188\" y=\"90.157397\" style=\"fill: #1f77b4; stroke: #1f77b4\"/>\n     <use xlink:href=\"#m30beaf2ae0\" x=\"104.496974\" y=\"61.51052\" style=\"fill: #1f77b4; stroke: #1f77b4\"/>\n     <use xlink:href=\"#m30beaf2ae0\" x=\"127.630995\" y=\"83.073705\" style=\"fill: #1f77b4; stroke: #1f77b4\"/>\n     <use xlink:href=\"#m30beaf2ae0\" x=\"179.925453\" y=\"105.308352\" style=\"fill: #1f77b4; stroke: #1f77b4\"/>\n     <use xlink:href=\"#m30beaf2ae0\" x=\"108.414935\" y=\"68.741855\" style=\"fill: #1f77b4; stroke: #1f77b4\"/>\n     <use xlink:href=\"#m30beaf2ae0\" x=\"118.475312\" y=\"84.669929\" style=\"fill: #1f77b4; stroke: #1f77b4\"/>\n     <use xlink:href=\"#m30beaf2ae0\" x=\"144.676342\" y=\"79.942318\" style=\"fill: #1f77b4; stroke: #1f77b4\"/>\n     <use xlink:href=\"#m30beaf2ae0\" x=\"119.311141\" y=\"88.132145\" style=\"fill: #1f77b4; stroke: #1f77b4\"/>\n     <use xlink:href=\"#m30beaf2ae0\" x=\"110.89665\" y=\"63.961127\" style=\"fill: #1f77b4; stroke: #1f77b4\"/>\n     <use xlink:href=\"#m30beaf2ae0\" x=\"130.500008\" y=\"93.943662\" style=\"fill: #1f77b4; stroke: #1f77b4\"/>\n     <use xlink:href=\"#m30beaf2ae0\" x=\"88.362433\" y=\"65.079104\" style=\"fill: #1f77b4; stroke: #1f77b4\"/>\n     <use xlink:href=\"#m30beaf2ae0\" x=\"132.810312\" y=\"69.834328\" style=\"fill: #1f77b4; stroke: #1f77b4\"/>\n     <use xlink:href=\"#m30beaf2ae0\" x=\"122.828187\" y=\"86.613086\" style=\"fill: #1f77b4; stroke: #1f77b4\"/>\n     <use xlink:href=\"#m30beaf2ae0\" x=\"126.729221\" y=\"82.548512\" style=\"fill: #1f77b4; stroke: #1f77b4\"/>\n     <use xlink:href=\"#m30beaf2ae0\" x=\"158.991583\" y=\"98.135842\" style=\"fill: #1f77b4; stroke: #1f77b4\"/>\n     <use xlink:href=\"#m30beaf2ae0\" x=\"109.028935\" y=\"77.835511\" style=\"fill: #1f77b4; stroke: #1f77b4\"/>\n     <use xlink:href=\"#m30beaf2ae0\" x=\"144.153187\" y=\"95.277223\" style=\"fill: #1f77b4; stroke: #1f77b4\"/>\n     <use xlink:href=\"#m30beaf2ae0\" x=\"95.815409\" y=\"62.765749\" style=\"fill: #1f77b4; stroke: #1f77b4\"/>\n     <use xlink:href=\"#m30beaf2ae0\" x=\"154.505704\" y=\"90.125005\" style=\"fill: #1f77b4; stroke: #1f77b4\"/>\n     <use xlink:href=\"#m30beaf2ae0\" x=\"77.431485\" y=\"43.069673\" style=\"fill: #1f77b4; stroke: #1f77b4\"/>\n     <use xlink:href=\"#m30beaf2ae0\" x=\"92.506707\" y=\"66.326523\" style=\"fill: #1f77b4; stroke: #1f77b4\"/>\n     <use xlink:href=\"#m30beaf2ae0\" x=\"83.752693\" y=\"66.149234\" style=\"fill: #1f77b4; stroke: #1f77b4\"/>\n     <use xlink:href=\"#m30beaf2ae0\" x=\"139.949227\" y=\"84.505813\" style=\"fill: #1f77b4; stroke: #1f77b4\"/>\n     <use xlink:href=\"#m30beaf2ae0\" x=\"108.961325\" y=\"80.274314\" style=\"fill: #1f77b4; stroke: #1f77b4\"/>\n     <use xlink:href=\"#m30beaf2ae0\" x=\"165.399896\" y=\"101.797413\" style=\"fill: #1f77b4; stroke: #1f77b4\"/>\n     <use xlink:href=\"#m30beaf2ae0\" x=\"125.154205\" y=\"86.941796\" style=\"fill: #1f77b4; stroke: #1f77b4\"/>\n     <use xlink:href=\"#m30beaf2ae0\" x=\"155.208671\" y=\"92.473409\" style=\"fill: #1f77b4; stroke: #1f77b4\"/>\n     <use xlink:href=\"#m30beaf2ae0\" x=\"137.210099\" y=\"95.192148\" style=\"fill: #1f77b4; stroke: #1f77b4\"/>\n     <use xlink:href=\"#m30beaf2ae0\" x=\"135.562959\" y=\"96.723795\" style=\"fill: #1f77b4; stroke: #1f77b4\"/>\n     <use xlink:href=\"#m30beaf2ae0\" x=\"141.594213\" y=\"110.998759\" style=\"fill: #1f77b4; stroke: #1f77b4\"/>\n     <use xlink:href=\"#m30beaf2ae0\" x=\"109.44259\" y=\"66.720861\" style=\"fill: #1f77b4; stroke: #1f77b4\"/>\n     <use xlink:href=\"#m30beaf2ae0\" x=\"115.658233\" y=\"79.794027\" style=\"fill: #1f77b4; stroke: #1f77b4\"/>\n     <use xlink:href=\"#m30beaf2ae0\" x=\"117.661866\" y=\"51.244067\" style=\"fill: #1f77b4; stroke: #1f77b4\"/>\n     <use xlink:href=\"#m30beaf2ae0\" x=\"116.945174\" y=\"74.458516\" style=\"fill: #1f77b4; stroke: #1f77b4\"/>\n     <use xlink:href=\"#m30beaf2ae0\" x=\"145.731021\" y=\"71.168198\" style=\"fill: #1f77b4; stroke: #1f77b4\"/>\n     <use xlink:href=\"#m30beaf2ae0\" x=\"93.625743\" y=\"83.943603\" style=\"fill: #1f77b4; stroke: #1f77b4\"/>\n     <use xlink:href=\"#m30beaf2ae0\" x=\"136.873149\" y=\"93.155496\" style=\"fill: #1f77b4; stroke: #1f77b4\"/>\n     <use xlink:href=\"#m30beaf2ae0\" x=\"107.43775\" y=\"67.727325\" style=\"fill: #1f77b4; stroke: #1f77b4\"/>\n     <use xlink:href=\"#m30beaf2ae0\" x=\"139.4855\" y=\"99.216905\" style=\"fill: #1f77b4; stroke: #1f77b4\"/>\n     <use xlink:href=\"#m30beaf2ae0\" x=\"112.634521\" y=\"71.660717\" style=\"fill: #1f77b4; stroke: #1f77b4\"/>\n     <use xlink:href=\"#m30beaf2ae0\" x=\"161.100214\" y=\"101.492179\" style=\"fill: #1f77b4; stroke: #1f77b4\"/>\n     <use xlink:href=\"#m30beaf2ae0\" x=\"142.1086\" y=\"99.203611\" style=\"fill: #1f77b4; stroke: #1f77b4\"/>\n     <use xlink:href=\"#m30beaf2ae0\" x=\"143.349563\" y=\"92.19982\" style=\"fill: #1f77b4; stroke: #1f77b4\"/>\n     <use xlink:href=\"#m30beaf2ae0\" x=\"154.647413\" y=\"109.428921\" style=\"fill: #1f77b4; stroke: #1f77b4\"/>\n     <use xlink:href=\"#m30beaf2ae0\" x=\"169.081213\" y=\"112.971777\" style=\"fill: #1f77b4; stroke: #1f77b4\"/>\n     <use xlink:href=\"#m30beaf2ae0\" x=\"122.025647\" y=\"69.526478\" style=\"fill: #1f77b4; stroke: #1f77b4\"/>\n     <use xlink:href=\"#m30beaf2ae0\" x=\"131.225712\" y=\"92.789855\" style=\"fill: #1f77b4; stroke: #1f77b4\"/>\n     <use xlink:href=\"#m30beaf2ae0\" x=\"93.298647\" y=\"67.923621\" style=\"fill: #1f77b4; stroke: #1f77b4\"/>\n     <use xlink:href=\"#m30beaf2ae0\" x=\"134.046975\" y=\"76.9667\" style=\"fill: #1f77b4; stroke: #1f77b4\"/>\n     <use xlink:href=\"#m30beaf2ae0\" x=\"147.882445\" y=\"80.769681\" style=\"fill: #1f77b4; stroke: #1f77b4\"/>\n     <use xlink:href=\"#m30beaf2ae0\" x=\"155.839837\" y=\"93.449571\" style=\"fill: #1f77b4; stroke: #1f77b4\"/>\n     <use xlink:href=\"#m30beaf2ae0\" x=\"118.768347\" y=\"72.073164\" style=\"fill: #1f77b4; stroke: #1f77b4\"/>\n     <use xlink:href=\"#m30beaf2ae0\" x=\"168.356838\" y=\"108.925811\" style=\"fill: #1f77b4; stroke: #1f77b4\"/>\n     <use xlink:href=\"#m30beaf2ae0\" x=\"118.188381\" y=\"79.520051\" style=\"fill: #1f77b4; stroke: #1f77b4\"/>\n     <use xlink:href=\"#m30beaf2ae0\" x=\"130.435552\" y=\"86.355172\" style=\"fill: #1f77b4; stroke: #1f77b4\"/>\n     <use xlink:href=\"#m30beaf2ae0\" x=\"124.318603\" y=\"86.090924\" style=\"fill: #1f77b4; stroke: #1f77b4\"/>\n     <use xlink:href=\"#m30beaf2ae0\" x=\"177.836175\" y=\"110.965717\" style=\"fill: #1f77b4; stroke: #1f77b4\"/>\n     <use xlink:href=\"#m30beaf2ae0\" x=\"92.22748\" y=\"80.032547\" style=\"fill: #1f77b4; stroke: #1f77b4\"/>\n     <use xlink:href=\"#m30beaf2ae0\" x=\"87.10216\" y=\"68.580543\" style=\"fill: #1f77b4; stroke: #1f77b4\"/>\n     <use xlink:href=\"#m30beaf2ae0\" x=\"125.163065\" y=\"97.025047\" style=\"fill: #1f77b4; stroke: #1f77b4\"/>\n     <use xlink:href=\"#m30beaf2ae0\" x=\"118.722477\" y=\"69.626297\" style=\"fill: #1f77b4; stroke: #1f77b4\"/>\n     <use xlink:href=\"#m30beaf2ae0\" x=\"172.782044\" y=\"109.336415\" style=\"fill: #1f77b4; stroke: #1f77b4\"/>\n     <use xlink:href=\"#m30beaf2ae0\" x=\"97.052068\" y=\"62.163406\" style=\"fill: #1f77b4; stroke: #1f77b4\"/>\n     <use xlink:href=\"#m30beaf2ae0\" x=\"168.355306\" y=\"108.079014\" style=\"fill: #1f77b4; stroke: #1f77b4\"/>\n     <use xlink:href=\"#m30beaf2ae0\" x=\"93.176013\" y=\"59.072874\" style=\"fill: #1f77b4; stroke: #1f77b4\"/>\n     <use xlink:href=\"#m30beaf2ae0\" x=\"189.150962\" y=\"119.910074\" style=\"fill: #1f77b4; stroke: #1f77b4\"/>\n     <use xlink:href=\"#m30beaf2ae0\" x=\"147.784604\" y=\"103.612231\" style=\"fill: #1f77b4; stroke: #1f77b4\"/>\n     <use xlink:href=\"#m30beaf2ae0\" x=\"117.357852\" y=\"70.717825\" style=\"fill: #1f77b4; stroke: #1f77b4\"/>\n     <use xlink:href=\"#m30beaf2ae0\" x=\"93.602769\" y=\"59.747374\" style=\"fill: #1f77b4; stroke: #1f77b4\"/>\n     <use xlink:href=\"#m30beaf2ae0\" x=\"111.436691\" y=\"76.448552\" style=\"fill: #1f77b4; stroke: #1f77b4\"/>\n     <use xlink:href=\"#m30beaf2ae0\" x=\"102.219541\" y=\"58.072175\" style=\"fill: #1f77b4; stroke: #1f77b4\"/>\n     <use xlink:href=\"#m30beaf2ae0\" x=\"121.193537\" y=\"70.941111\" style=\"fill: #1f77b4; stroke: #1f77b4\"/>\n     <use xlink:href=\"#m30beaf2ae0\" x=\"150.273055\" y=\"89.809967\" style=\"fill: #1f77b4; stroke: #1f77b4\"/>\n     <use xlink:href=\"#m30beaf2ae0\" x=\"152.048251\" y=\"90.476884\" style=\"fill: #1f77b4; stroke: #1f77b4\"/>\n     <use xlink:href=\"#m30beaf2ae0\" x=\"135.426339\" y=\"83.49019\" style=\"fill: #1f77b4; stroke: #1f77b4\"/>\n     <use xlink:href=\"#m30beaf2ae0\" x=\"143.185552\" y=\"95.995651\" style=\"fill: #1f77b4; stroke: #1f77b4\"/>\n     <use xlink:href=\"#m30beaf2ae0\" x=\"126.737927\" y=\"85.004137\" style=\"fill: #1f77b4; stroke: #1f77b4\"/>\n     <use xlink:href=\"#m30beaf2ae0\" x=\"104.560058\" y=\"62.198262\" style=\"fill: #1f77b4; stroke: #1f77b4\"/>\n     <use xlink:href=\"#m30beaf2ae0\" x=\"179.503764\" y=\"110.121142\" style=\"fill: #1f77b4; stroke: #1f77b4\"/>\n     <use xlink:href=\"#m30beaf2ae0\" x=\"189.187092\" y=\"112.937336\" style=\"fill: #1f77b4; stroke: #1f77b4\"/>\n     <use xlink:href=\"#m30beaf2ae0\" x=\"154.370605\" y=\"68.872243\" style=\"fill: #1f77b4; stroke: #1f77b4\"/>\n     <use xlink:href=\"#m30beaf2ae0\" x=\"105.125264\" y=\"68.677189\" style=\"fill: #1f77b4; stroke: #1f77b4\"/>\n     <use xlink:href=\"#m30beaf2ae0\" x=\"165.271275\" y=\"106.091793\" style=\"fill: #1f77b4; stroke: #1f77b4\"/>\n     <use xlink:href=\"#m30beaf2ae0\" x=\"130.852235\" y=\"71.766029\" style=\"fill: #1f77b4; stroke: #1f77b4\"/>\n     <use xlink:href=\"#m30beaf2ae0\" x=\"122.420526\" y=\"92.979721\" style=\"fill: #1f77b4; stroke: #1f77b4\"/>\n     <use xlink:href=\"#m30beaf2ae0\" x=\"43.656539\" y=\"13.377273\" style=\"fill: #1f77b4; stroke: #1f77b4\"/>\n     <use xlink:href=\"#m30beaf2ae0\" x=\"96.45953\" y=\"62.192095\" style=\"fill: #1f77b4; stroke: #1f77b4\"/>\n     <use xlink:href=\"#m30beaf2ae0\" x=\"121.858362\" y=\"70.809261\" style=\"fill: #1f77b4; stroke: #1f77b4\"/>\n     <use xlink:href=\"#m30beaf2ae0\" x=\"95.1405\" y=\"68.127266\" style=\"fill: #1f77b4; stroke: #1f77b4\"/>\n     <use xlink:href=\"#m30beaf2ae0\" x=\"107.390227\" y=\"50.670488\" style=\"fill: #1f77b4; stroke: #1f77b4\"/>\n     <use xlink:href=\"#m30beaf2ae0\" x=\"150.42034\" y=\"97.494768\" style=\"fill: #1f77b4; stroke: #1f77b4\"/>\n     <use xlink:href=\"#m30beaf2ae0\" x=\"123.449105\" y=\"61.615912\" style=\"fill: #1f77b4; stroke: #1f77b4\"/>\n     <use xlink:href=\"#m30beaf2ae0\" x=\"142.624541\" y=\"95.566309\" style=\"fill: #1f77b4; stroke: #1f77b4\"/>\n     <use xlink:href=\"#m30beaf2ae0\" x=\"119.824621\" y=\"61.880618\" style=\"fill: #1f77b4; stroke: #1f77b4\"/>\n     <use xlink:href=\"#m30beaf2ae0\" x=\"119.9809\" y=\"75.147563\" style=\"fill: #1f77b4; stroke: #1f77b4\"/>\n     <use xlink:href=\"#m30beaf2ae0\" x=\"97.690249\" y=\"60.823079\" style=\"fill: #1f77b4; stroke: #1f77b4\"/>\n     <use xlink:href=\"#m30beaf2ae0\" x=\"113.522137\" y=\"74.653529\" style=\"fill: #1f77b4; stroke: #1f77b4\"/>\n     <use xlink:href=\"#m30beaf2ae0\" x=\"153.788172\" y=\"67.022745\" style=\"fill: #1f77b4; stroke: #1f77b4\"/>\n     <use xlink:href=\"#m30beaf2ae0\" x=\"139.574435\" y=\"105.850719\" style=\"fill: #1f77b4; stroke: #1f77b4\"/>\n     <use xlink:href=\"#m30beaf2ae0\" x=\"121.149803\" y=\"69.028338\" style=\"fill: #1f77b4; stroke: #1f77b4\"/>\n     <use xlink:href=\"#m30beaf2ae0\" x=\"109.927186\" y=\"58.848897\" style=\"fill: #1f77b4; stroke: #1f77b4\"/>\n     <use xlink:href=\"#m30beaf2ae0\" x=\"124.875315\" y=\"75.232324\" style=\"fill: #1f77b4; stroke: #1f77b4\"/>\n     <use xlink:href=\"#m30beaf2ae0\" x=\"148.278741\" y=\"84.134018\" style=\"fill: #1f77b4; stroke: #1f77b4\"/>\n     <use xlink:href=\"#m30beaf2ae0\" x=\"148.196582\" y=\"108.789254\" style=\"fill: #1f77b4; stroke: #1f77b4\"/>\n     <use xlink:href=\"#m30beaf2ae0\" x=\"84.623046\" y=\"69.452669\" style=\"fill: #1f77b4; stroke: #1f77b4\"/>\n     <use xlink:href=\"#m30beaf2ae0\" x=\"127.952628\" y=\"103.781552\" style=\"fill: #1f77b4; stroke: #1f77b4\"/>\n     <use xlink:href=\"#m30beaf2ae0\" x=\"143.733763\" y=\"90.071\" style=\"fill: #1f77b4; stroke: #1f77b4\"/>\n     <use xlink:href=\"#m30beaf2ae0\" x=\"114.958775\" y=\"66.261\" style=\"fill: #1f77b4; stroke: #1f77b4\"/>\n     <use xlink:href=\"#m30beaf2ae0\" x=\"131.904047\" y=\"88.893905\" style=\"fill: #1f77b4; stroke: #1f77b4\"/>\n     <use xlink:href=\"#m30beaf2ae0\" x=\"104.714418\" y=\"67.928463\" style=\"fill: #1f77b4; stroke: #1f77b4\"/>\n     <use xlink:href=\"#m30beaf2ae0\" x=\"156.645305\" y=\"85.776689\" style=\"fill: #1f77b4; stroke: #1f77b4\"/>\n     <use xlink:href=\"#m30beaf2ae0\" x=\"132.400696\" y=\"82.474775\" style=\"fill: #1f77b4; stroke: #1f77b4\"/>\n     <use xlink:href=\"#m30beaf2ae0\" x=\"138.988399\" y=\"73.418467\" style=\"fill: #1f77b4; stroke: #1f77b4\"/>\n     <use xlink:href=\"#m30beaf2ae0\" x=\"125.362176\" y=\"92.644417\" style=\"fill: #1f77b4; stroke: #1f77b4\"/>\n     <use xlink:href=\"#m30beaf2ae0\" x=\"84.702073\" y=\"59.84464\" style=\"fill: #1f77b4; stroke: #1f77b4\"/>\n     <use xlink:href=\"#m30beaf2ae0\" x=\"115.532497\" y=\"80.853816\" style=\"fill: #1f77b4; stroke: #1f77b4\"/>\n     <use xlink:href=\"#m30beaf2ae0\" x=\"138.187184\" y=\"88.731756\" style=\"fill: #1f77b4; stroke: #1f77b4\"/>\n     <use xlink:href=\"#m30beaf2ae0\" x=\"104.555519\" y=\"71.906557\" style=\"fill: #1f77b4; stroke: #1f77b4\"/>\n     <use xlink:href=\"#m30beaf2ae0\" x=\"110.789543\" y=\"60.521925\" style=\"fill: #1f77b4; stroke: #1f77b4\"/>\n     <use xlink:href=\"#m30beaf2ae0\" x=\"111.474281\" y=\"73.898686\" style=\"fill: #1f77b4; stroke: #1f77b4\"/>\n     <use xlink:href=\"#m30beaf2ae0\" x=\"114.76254\" y=\"87.280925\" style=\"fill: #1f77b4; stroke: #1f77b4\"/>\n     <use xlink:href=\"#m30beaf2ae0\" x=\"165.747692\" y=\"102.40113\" style=\"fill: #1f77b4; stroke: #1f77b4\"/>\n     <use xlink:href=\"#m30beaf2ae0\" x=\"151.67485\" y=\"80.654564\" style=\"fill: #1f77b4; stroke: #1f77b4\"/>\n     <use xlink:href=\"#m30beaf2ae0\" x=\"120.305784\" y=\"80.881031\" style=\"fill: #1f77b4; stroke: #1f77b4\"/>\n     <use xlink:href=\"#m30beaf2ae0\" x=\"97.133884\" y=\"57.683298\" style=\"fill: #1f77b4; stroke: #1f77b4\"/>\n     <use xlink:href=\"#m30beaf2ae0\" x=\"132.803738\" y=\"80.327585\" style=\"fill: #1f77b4; stroke: #1f77b4\"/>\n     <use xlink:href=\"#m30beaf2ae0\" x=\"84.46943\" y=\"57.543852\" style=\"fill: #1f77b4; stroke: #1f77b4\"/>\n     <use xlink:href=\"#m30beaf2ae0\" x=\"160.082314\" y=\"93.180699\" style=\"fill: #1f77b4; stroke: #1f77b4\"/>\n     <use xlink:href=\"#m30beaf2ae0\" x=\"144.10855\" y=\"103.85028\" style=\"fill: #1f77b4; stroke: #1f77b4\"/>\n     <use xlink:href=\"#m30beaf2ae0\" x=\"104.539414\" y=\"51.298735\" style=\"fill: #1f77b4; stroke: #1f77b4\"/>\n     <use xlink:href=\"#m30beaf2ae0\" x=\"65.912214\" y=\"42.691656\" style=\"fill: #1f77b4; stroke: #1f77b4\"/>\n     <use xlink:href=\"#m30beaf2ae0\" x=\"126.053453\" y=\"77.094384\" style=\"fill: #1f77b4; stroke: #1f77b4\"/>\n     <use xlink:href=\"#m30beaf2ae0\" x=\"194.282191\" y=\"136.922727\" style=\"fill: #1f77b4; stroke: #1f77b4\"/>\n     <use xlink:href=\"#m30beaf2ae0\" x=\"108.684963\" y=\"55.107006\" style=\"fill: #1f77b4; stroke: #1f77b4\"/>\n     <use xlink:href=\"#m30beaf2ae0\" x=\"158.110195\" y=\"99.145396\" style=\"fill: #1f77b4; stroke: #1f77b4\"/>\n     <use xlink:href=\"#m30beaf2ae0\" x=\"114.792633\" y=\"78.17285\" style=\"fill: #1f77b4; stroke: #1f77b4\"/>\n     <use xlink:href=\"#m30beaf2ae0\" x=\"37.81946\" y=\"38.19445\" style=\"fill: #1f77b4; stroke: #1f77b4\"/>\n     <use xlink:href=\"#m30beaf2ae0\" x=\"133.097987\" y=\"100.211548\" style=\"fill: #1f77b4; stroke: #1f77b4\"/>\n     <use xlink:href=\"#m30beaf2ae0\" x=\"110.736662\" y=\"83.096367\" style=\"fill: #1f77b4; stroke: #1f77b4\"/>\n     <use xlink:href=\"#m30beaf2ae0\" x=\"133.22236\" y=\"99.958654\" style=\"fill: #1f77b4; stroke: #1f77b4\"/>\n     <use xlink:href=\"#m30beaf2ae0\" x=\"180.997281\" y=\"102.431477\" style=\"fill: #1f77b4; stroke: #1f77b4\"/>\n     <use xlink:href=\"#m30beaf2ae0\" x=\"88.835039\" y=\"82.086166\" style=\"fill: #1f77b4; stroke: #1f77b4\"/>\n     <use xlink:href=\"#m30beaf2ae0\" x=\"196.33274\" y=\"118.059838\" style=\"fill: #1f77b4; stroke: #1f77b4\"/>\n     <use xlink:href=\"#m30beaf2ae0\" x=\"133.754205\" y=\"80.177168\" style=\"fill: #1f77b4; stroke: #1f77b4\"/>\n     <use xlink:href=\"#m30beaf2ae0\" x=\"131.062094\" y=\"83.87988\" style=\"fill: #1f77b4; stroke: #1f77b4\"/>\n     <use xlink:href=\"#m30beaf2ae0\" x=\"108.617005\" y=\"72.680682\" style=\"fill: #1f77b4; stroke: #1f77b4\"/>\n     <use xlink:href=\"#m30beaf2ae0\" x=\"98.350116\" y=\"65.304642\" style=\"fill: #1f77b4; stroke: #1f77b4\"/>\n     <use xlink:href=\"#m30beaf2ae0\" x=\"160.986826\" y=\"110.17912\" style=\"fill: #1f77b4; stroke: #1f77b4\"/>\n     <use xlink:href=\"#m30beaf2ae0\" x=\"142.958421\" y=\"74.271725\" style=\"fill: #1f77b4; stroke: #1f77b4\"/>\n     <use xlink:href=\"#m30beaf2ae0\" x=\"84.116362\" y=\"50.075369\" style=\"fill: #1f77b4; stroke: #1f77b4\"/>\n     <use xlink:href=\"#m30beaf2ae0\" x=\"87.675845\" y=\"67.052558\" style=\"fill: #1f77b4; stroke: #1f77b4\"/>\n     <use xlink:href=\"#m30beaf2ae0\" x=\"162.138421\" y=\"80.744346\" style=\"fill: #1f77b4; stroke: #1f77b4\"/>\n     <use xlink:href=\"#m30beaf2ae0\" x=\"137.584588\" y=\"56.969379\" style=\"fill: #1f77b4; stroke: #1f77b4\"/>\n     <use xlink:href=\"#m30beaf2ae0\" x=\"110.643027\" y=\"59.437959\" style=\"fill: #1f77b4; stroke: #1f77b4\"/>\n     <use xlink:href=\"#m30beaf2ae0\" x=\"137.469028\" y=\"97.860811\" style=\"fill: #1f77b4; stroke: #1f77b4\"/>\n     <use xlink:href=\"#m30beaf2ae0\" x=\"157.009408\" y=\"100.205136\" style=\"fill: #1f77b4; stroke: #1f77b4\"/>\n     <use xlink:href=\"#m30beaf2ae0\" x=\"124.320152\" y=\"93.736155\" style=\"fill: #1f77b4; stroke: #1f77b4\"/>\n     <use xlink:href=\"#m30beaf2ae0\" x=\"138.004222\" y=\"82.439531\" style=\"fill: #1f77b4; stroke: #1f77b4\"/>\n     <use xlink:href=\"#m30beaf2ae0\" x=\"114.153924\" y=\"73.017216\" style=\"fill: #1f77b4; stroke: #1f77b4\"/>\n     <use xlink:href=\"#m30beaf2ae0\" x=\"124.829662\" y=\"68.122527\" style=\"fill: #1f77b4; stroke: #1f77b4\"/>\n     <use xlink:href=\"#m30beaf2ae0\" x=\"129.45817\" y=\"84.340884\" style=\"fill: #1f77b4; stroke: #1f77b4\"/>\n     <use xlink:href=\"#m30beaf2ae0\" x=\"117.670997\" y=\"82.396186\" style=\"fill: #1f77b4; stroke: #1f77b4\"/>\n     <use xlink:href=\"#m30beaf2ae0\" x=\"139.287338\" y=\"89.48393\" style=\"fill: #1f77b4; stroke: #1f77b4\"/>\n     <use xlink:href=\"#m30beaf2ae0\" x=\"78.896653\" y=\"68.156624\" style=\"fill: #1f77b4; stroke: #1f77b4\"/>\n     <use xlink:href=\"#m30beaf2ae0\" x=\"144.103579\" y=\"102.828056\" style=\"fill: #1f77b4; stroke: #1f77b4\"/>\n     <use xlink:href=\"#m30beaf2ae0\" x=\"85.102693\" y=\"32.484935\" style=\"fill: #1f77b4; stroke: #1f77b4\"/>\n     <use xlink:href=\"#m30beaf2ae0\" x=\"187.358008\" y=\"129.410517\" style=\"fill: #1f77b4; stroke: #1f77b4\"/>\n     <use xlink:href=\"#m30beaf2ae0\" x=\"103.503831\" y=\"73.140325\" style=\"fill: #1f77b4; stroke: #1f77b4\"/>\n     <use xlink:href=\"#m30beaf2ae0\" x=\"82.489327\" y=\"48.880793\" style=\"fill: #1f77b4; stroke: #1f77b4\"/>\n     <use xlink:href=\"#m30beaf2ae0\" x=\"110.761249\" y=\"60.801422\" style=\"fill: #1f77b4; stroke: #1f77b4\"/>\n     <use xlink:href=\"#m30beaf2ae0\" x=\"158.733218\" y=\"116.298765\" style=\"fill: #1f77b4; stroke: #1f77b4\"/>\n     <use xlink:href=\"#m30beaf2ae0\" x=\"90.429064\" y=\"46.99469\" style=\"fill: #1f77b4; stroke: #1f77b4\"/>\n     <use xlink:href=\"#m30beaf2ae0\" x=\"122.341562\" y=\"71.537774\" style=\"fill: #1f77b4; stroke: #1f77b4\"/>\n     <use xlink:href=\"#m30beaf2ae0\" x=\"90.482919\" y=\"54.160259\" style=\"fill: #1f77b4; stroke: #1f77b4\"/>\n     <use xlink:href=\"#m30beaf2ae0\" x=\"153.887787\" y=\"94.289728\" style=\"fill: #1f77b4; stroke: #1f77b4\"/>\n     <use xlink:href=\"#m30beaf2ae0\" x=\"104.613571\" y=\"61.090584\" style=\"fill: #1f77b4; stroke: #1f77b4\"/>\n     <use xlink:href=\"#m30beaf2ae0\" x=\"116.217084\" y=\"82.077248\" style=\"fill: #1f77b4; stroke: #1f77b4\"/>\n     <use xlink:href=\"#m30beaf2ae0\" x=\"165.428308\" y=\"111.927841\" style=\"fill: #1f77b4; stroke: #1f77b4\"/>\n     <use xlink:href=\"#m30beaf2ae0\" x=\"105.141819\" y=\"73.060356\" style=\"fill: #1f77b4; stroke: #1f77b4\"/>\n     <use xlink:href=\"#m30beaf2ae0\" x=\"105.952022\" y=\"67.697568\" style=\"fill: #1f77b4; stroke: #1f77b4\"/>\n     <use xlink:href=\"#m30beaf2ae0\" x=\"141.949076\" y=\"85.319851\" style=\"fill: #1f77b4; stroke: #1f77b4\"/>\n     <use xlink:href=\"#m30beaf2ae0\" x=\"151.597553\" y=\"84.436554\" style=\"fill: #1f77b4; stroke: #1f77b4\"/>\n     <use xlink:href=\"#m30beaf2ae0\" x=\"133.632706\" y=\"91.403764\" style=\"fill: #1f77b4; stroke: #1f77b4\"/>\n     <use xlink:href=\"#m30beaf2ae0\" x=\"151.711856\" y=\"113.406435\" style=\"fill: #1f77b4; stroke: #1f77b4\"/>\n     <use xlink:href=\"#m30beaf2ae0\" x=\"141.481106\" y=\"91.265513\" style=\"fill: #1f77b4; stroke: #1f77b4\"/>\n     <use xlink:href=\"#m30beaf2ae0\" x=\"103.763775\" y=\"63.420207\" style=\"fill: #1f77b4; stroke: #1f77b4\"/>\n     <use xlink:href=\"#m30beaf2ae0\" x=\"90.41198\" y=\"58.884221\" style=\"fill: #1f77b4; stroke: #1f77b4\"/>\n     <use xlink:href=\"#m30beaf2ae0\" x=\"112.193732\" y=\"74.136711\" style=\"fill: #1f77b4; stroke: #1f77b4\"/>\n     <use xlink:href=\"#m30beaf2ae0\" x=\"131.4651\" y=\"85.606786\" style=\"fill: #1f77b4; stroke: #1f77b4\"/>\n     <use xlink:href=\"#m30beaf2ae0\" x=\"175.266619\" y=\"114.545304\" style=\"fill: #1f77b4; stroke: #1f77b4\"/>\n     <use xlink:href=\"#m30beaf2ae0\" x=\"58.612109\" y=\"35.372056\" style=\"fill: #1f77b4; stroke: #1f77b4\"/>\n     <use xlink:href=\"#m30beaf2ae0\" x=\"118.902723\" y=\"87.284577\" style=\"fill: #1f77b4; stroke: #1f77b4\"/>\n     <use xlink:href=\"#m30beaf2ae0\" x=\"169.11767\" y=\"117.959009\" style=\"fill: #1f77b4; stroke: #1f77b4\"/>\n     <use xlink:href=\"#m30beaf2ae0\" x=\"77.432086\" y=\"71.076528\" style=\"fill: #1f77b4; stroke: #1f77b4\"/>\n     <use xlink:href=\"#m30beaf2ae0\" x=\"118.72769\" y=\"50.676044\" style=\"fill: #1f77b4; stroke: #1f77b4\"/>\n     <use xlink:href=\"#m30beaf2ae0\" x=\"161.929139\" y=\"103.942952\" style=\"fill: #1f77b4; stroke: #1f77b4\"/>\n     <use xlink:href=\"#m30beaf2ae0\" x=\"78.986037\" y=\"46.826299\" style=\"fill: #1f77b4; stroke: #1f77b4\"/>\n     <use xlink:href=\"#m30beaf2ae0\" x=\"148.421781\" y=\"102.897745\" style=\"fill: #1f77b4; stroke: #1f77b4\"/>\n     <use xlink:href=\"#m30beaf2ae0\" x=\"142.90346\" y=\"91.202163\" style=\"fill: #1f77b4; stroke: #1f77b4\"/>\n     <use xlink:href=\"#m30beaf2ae0\" x=\"135.942998\" y=\"84.40894\" style=\"fill: #1f77b4; stroke: #1f77b4\"/>\n     <use xlink:href=\"#m30beaf2ae0\" x=\"134.807042\" y=\"94.000988\" style=\"fill: #1f77b4; stroke: #1f77b4\"/>\n     <use xlink:href=\"#m30beaf2ae0\" x=\"142.739661\" y=\"79.920298\" style=\"fill: #1f77b4; stroke: #1f77b4\"/>\n     <use xlink:href=\"#m30beaf2ae0\" x=\"141.382396\" y=\"76.688335\" style=\"fill: #1f77b4; stroke: #1f77b4\"/>\n     <use xlink:href=\"#m30beaf2ae0\" x=\"117.922025\" y=\"73.038444\" style=\"fill: #1f77b4; stroke: #1f77b4\"/>\n     <use xlink:href=\"#m30beaf2ae0\" x=\"110.671903\" y=\"62.110528\" style=\"fill: #1f77b4; stroke: #1f77b4\"/>\n     <use xlink:href=\"#m30beaf2ae0\" x=\"147.497431\" y=\"84.204364\" style=\"fill: #1f77b4; stroke: #1f77b4\"/>\n     <use xlink:href=\"#m30beaf2ae0\" x=\"95.019998\" y=\"63.982374\" style=\"fill: #1f77b4; stroke: #1f77b4\"/>\n     <use xlink:href=\"#m30beaf2ae0\" x=\"179.708489\" y=\"127.237437\" style=\"fill: #1f77b4; stroke: #1f77b4\"/>\n     <use xlink:href=\"#m30beaf2ae0\" x=\"137.943548\" y=\"82.828103\" style=\"fill: #1f77b4; stroke: #1f77b4\"/>\n     <use xlink:href=\"#m30beaf2ae0\" x=\"96.561053\" y=\"74.433606\" style=\"fill: #1f77b4; stroke: #1f77b4\"/>\n     <use xlink:href=\"#m30beaf2ae0\" x=\"137.17302\" y=\"97.834614\" style=\"fill: #1f77b4; stroke: #1f77b4\"/>\n     <use xlink:href=\"#m30beaf2ae0\" x=\"131.045656\" y=\"68.216495\" style=\"fill: #1f77b4; stroke: #1f77b4\"/>\n     <use xlink:href=\"#m30beaf2ae0\" x=\"118.206309\" y=\"63.558837\" style=\"fill: #1f77b4; stroke: #1f77b4\"/>\n     <use xlink:href=\"#m30beaf2ae0\" x=\"179.024852\" y=\"116.797394\" style=\"fill: #1f77b4; stroke: #1f77b4\"/>\n     <use xlink:href=\"#m30beaf2ae0\" x=\"110.57472\" y=\"72.179295\" style=\"fill: #1f77b4; stroke: #1f77b4\"/>\n     <use xlink:href=\"#m30beaf2ae0\" x=\"148.171402\" y=\"84.942672\" style=\"fill: #1f77b4; stroke: #1f77b4\"/>\n     <use xlink:href=\"#m30beaf2ae0\" x=\"114.446029\" y=\"74.256692\" style=\"fill: #1f77b4; stroke: #1f77b4\"/>\n     <use xlink:href=\"#m30beaf2ae0\" x=\"142.012087\" y=\"83.106292\" style=\"fill: #1f77b4; stroke: #1f77b4\"/>\n     <use xlink:href=\"#m30beaf2ae0\" x=\"111.330358\" y=\"65.992259\" style=\"fill: #1f77b4; stroke: #1f77b4\"/>\n     <use xlink:href=\"#m30beaf2ae0\" x=\"144.558139\" y=\"93.306707\" style=\"fill: #1f77b4; stroke: #1f77b4\"/>\n     <use xlink:href=\"#m30beaf2ae0\" x=\"127.683274\" y=\"95.206769\" style=\"fill: #1f77b4; stroke: #1f77b4\"/>\n     <use xlink:href=\"#m30beaf2ae0\" x=\"140.975926\" y=\"91.812795\" style=\"fill: #1f77b4; stroke: #1f77b4\"/>\n     <use xlink:href=\"#m30beaf2ae0\" x=\"100.956328\" y=\"50.489441\" style=\"fill: #1f77b4; stroke: #1f77b4\"/>\n     <use xlink:href=\"#m30beaf2ae0\" x=\"172.272266\" y=\"117.829922\" style=\"fill: #1f77b4; stroke: #1f77b4\"/>\n     <use xlink:href=\"#m30beaf2ae0\" x=\"146.251726\" y=\"76.066042\" style=\"fill: #1f77b4; stroke: #1f77b4\"/>\n     <use xlink:href=\"#m30beaf2ae0\" x=\"82.189482\" y=\"44.032343\" style=\"fill: #1f77b4; stroke: #1f77b4\"/>\n     <use xlink:href=\"#m30beaf2ae0\" x=\"129.120097\" y=\"79.190954\" style=\"fill: #1f77b4; stroke: #1f77b4\"/>\n     <use xlink:href=\"#m30beaf2ae0\" x=\"109.870646\" y=\"78.691901\" style=\"fill: #1f77b4; stroke: #1f77b4\"/>\n     <use xlink:href=\"#m30beaf2ae0\" x=\"120.493611\" y=\"71.588111\" style=\"fill: #1f77b4; stroke: #1f77b4\"/>\n     <use xlink:href=\"#m30beaf2ae0\" x=\"123.320711\" y=\"73.026918\" style=\"fill: #1f77b4; stroke: #1f77b4\"/>\n     <use xlink:href=\"#m30beaf2ae0\" x=\"83.87785\" y=\"58.369565\" style=\"fill: #1f77b4; stroke: #1f77b4\"/>\n     <use xlink:href=\"#m30beaf2ae0\" x=\"157.066022\" y=\"96.23184\" style=\"fill: #1f77b4; stroke: #1f77b4\"/>\n     <use xlink:href=\"#m30beaf2ae0\" x=\"98.76114\" y=\"50.300235\" style=\"fill: #1f77b4; stroke: #1f77b4\"/>\n     <use xlink:href=\"#m30beaf2ae0\" x=\"142.237287\" y=\"98.947481\" style=\"fill: #1f77b4; stroke: #1f77b4\"/>\n     <use xlink:href=\"#m30beaf2ae0\" x=\"152.124797\" y=\"79.458643\" style=\"fill: #1f77b4; stroke: #1f77b4\"/>\n     <use xlink:href=\"#m30beaf2ae0\" x=\"128.629655\" y=\"84.016475\" style=\"fill: #1f77b4; stroke: #1f77b4\"/>\n     <use xlink:href=\"#m30beaf2ae0\" x=\"103.560383\" y=\"70.997373\" style=\"fill: #1f77b4; stroke: #1f77b4\"/>\n     <use xlink:href=\"#m30beaf2ae0\" x=\"160.29199\" y=\"111.3353\" style=\"fill: #1f77b4; stroke: #1f77b4\"/>\n     <use xlink:href=\"#m30beaf2ae0\" x=\"100.32171\" y=\"54.51045\" style=\"fill: #1f77b4; stroke: #1f77b4\"/>\n     <use xlink:href=\"#m30beaf2ae0\" x=\"118.864235\" y=\"76.782702\" style=\"fill: #1f77b4; stroke: #1f77b4\"/>\n     <use xlink:href=\"#m30beaf2ae0\" x=\"136.006165\" y=\"94.877849\" style=\"fill: #1f77b4; stroke: #1f77b4\"/>\n     <use xlink:href=\"#m30beaf2ae0\" x=\"103.032204\" y=\"67.067112\" style=\"fill: #1f77b4; stroke: #1f77b4\"/>\n     <use xlink:href=\"#m30beaf2ae0\" x=\"100.707571\" y=\"46.447041\" style=\"fill: #1f77b4; stroke: #1f77b4\"/>\n     <use xlink:href=\"#m30beaf2ae0\" x=\"170.197053\" y=\"115.58938\" style=\"fill: #1f77b4; stroke: #1f77b4\"/>\n     <use xlink:href=\"#m30beaf2ae0\" x=\"116.060264\" y=\"70.226014\" style=\"fill: #1f77b4; stroke: #1f77b4\"/>\n     <use xlink:href=\"#m30beaf2ae0\" x=\"107.749888\" y=\"59.60994\" style=\"fill: #1f77b4; stroke: #1f77b4\"/>\n     <use xlink:href=\"#m30beaf2ae0\" x=\"189.682622\" y=\"109.527674\" style=\"fill: #1f77b4; stroke: #1f77b4\"/>\n     <use xlink:href=\"#m30beaf2ae0\" x=\"83.110207\" y=\"54.375169\" style=\"fill: #1f77b4; stroke: #1f77b4\"/>\n     <use xlink:href=\"#m30beaf2ae0\" x=\"135.584622\" y=\"76.280643\" style=\"fill: #1f77b4; stroke: #1f77b4\"/>\n     <use xlink:href=\"#m30beaf2ae0\" x=\"115.089413\" y=\"59.292783\" style=\"fill: #1f77b4; stroke: #1f77b4\"/>\n     <use xlink:href=\"#m30beaf2ae0\" x=\"78.39823\" y=\"53.452138\" style=\"fill: #1f77b4; stroke: #1f77b4\"/>\n     <use xlink:href=\"#m30beaf2ae0\" x=\"139.5684\" y=\"80.808122\" style=\"fill: #1f77b4; stroke: #1f77b4\"/>\n     <use xlink:href=\"#m30beaf2ae0\" x=\"124.977257\" y=\"75.377304\" style=\"fill: #1f77b4; stroke: #1f77b4\"/>\n     <use xlink:href=\"#m30beaf2ae0\" x=\"138.62991\" y=\"85.179868\" style=\"fill: #1f77b4; stroke: #1f77b4\"/>\n     <use xlink:href=\"#m30beaf2ae0\" x=\"124.732095\" y=\"72.710061\" style=\"fill: #1f77b4; stroke: #1f77b4\"/>\n     <use xlink:href=\"#m30beaf2ae0\" x=\"149.274502\" y=\"97.297819\" style=\"fill: #1f77b4; stroke: #1f77b4\"/>\n     <use xlink:href=\"#m30beaf2ae0\" x=\"168.600966\" y=\"117.977052\" style=\"fill: #1f77b4; stroke: #1f77b4\"/>\n     <use xlink:href=\"#m30beaf2ae0\" x=\"150.7983\" y=\"92.027482\" style=\"fill: #1f77b4; stroke: #1f77b4\"/>\n     <use xlink:href=\"#m30beaf2ae0\" x=\"135.989755\" y=\"67.829292\" style=\"fill: #1f77b4; stroke: #1f77b4\"/>\n     <use xlink:href=\"#m30beaf2ae0\" x=\"115.474417\" y=\"69.520864\" style=\"fill: #1f77b4; stroke: #1f77b4\"/>\n     <use xlink:href=\"#m30beaf2ae0\" x=\"118.022748\" y=\"65.212003\" style=\"fill: #1f77b4; stroke: #1f77b4\"/>\n     <use xlink:href=\"#m30beaf2ae0\" x=\"109.251306\" y=\"89.498727\" style=\"fill: #1f77b4; stroke: #1f77b4\"/>\n     <use xlink:href=\"#m30beaf2ae0\" x=\"84.071523\" y=\"52.57896\" style=\"fill: #1f77b4; stroke: #1f77b4\"/>\n     <use xlink:href=\"#m30beaf2ae0\" x=\"171.879955\" y=\"121.166894\" style=\"fill: #1f77b4; stroke: #1f77b4\"/>\n     <use xlink:href=\"#m30beaf2ae0\" x=\"143.852924\" y=\"74.827127\" style=\"fill: #1f77b4; stroke: #1f77b4\"/>\n     <use xlink:href=\"#m30beaf2ae0\" x=\"80.183142\" y=\"44.661836\" style=\"fill: #1f77b4; stroke: #1f77b4\"/>\n     <use xlink:href=\"#m30beaf2ae0\" x=\"111.757469\" y=\"69.884737\" style=\"fill: #1f77b4; stroke: #1f77b4\"/>\n     <use xlink:href=\"#m30beaf2ae0\" x=\"151.964176\" y=\"86.745393\" style=\"fill: #1f77b4; stroke: #1f77b4\"/>\n     <use xlink:href=\"#m30beaf2ae0\" x=\"142.641039\" y=\"78.908431\" style=\"fill: #1f77b4; stroke: #1f77b4\"/>\n     <use xlink:href=\"#m30beaf2ae0\" x=\"162.948921\" y=\"100.891052\" style=\"fill: #1f77b4; stroke: #1f77b4\"/>\n     <use xlink:href=\"#m30beaf2ae0\" x=\"81.147938\" y=\"65.613221\" style=\"fill: #1f77b4; stroke: #1f77b4\"/>\n     <use xlink:href=\"#m30beaf2ae0\" x=\"159.164969\" y=\"94.388046\" style=\"fill: #1f77b4; stroke: #1f77b4\"/>\n     <use xlink:href=\"#m30beaf2ae0\" x=\"109.01768\" y=\"66.697833\" style=\"fill: #1f77b4; stroke: #1f77b4\"/>\n     <use xlink:href=\"#m30beaf2ae0\" x=\"127.864892\" y=\"74.193835\" style=\"fill: #1f77b4; stroke: #1f77b4\"/>\n     <use xlink:href=\"#m30beaf2ae0\" x=\"161.455742\" y=\"116.646196\" style=\"fill: #1f77b4; stroke: #1f77b4\"/>\n     <use xlink:href=\"#m30beaf2ae0\" x=\"139.169629\" y=\"95.293239\" style=\"fill: #1f77b4; stroke: #1f77b4\"/>\n     <use xlink:href=\"#m30beaf2ae0\" x=\"151.460348\" y=\"69.685138\" style=\"fill: #1f77b4; stroke: #1f77b4\"/>\n     <use xlink:href=\"#m30beaf2ae0\" x=\"110.005218\" y=\"65.486934\" style=\"fill: #1f77b4; stroke: #1f77b4\"/>\n     <use xlink:href=\"#m30beaf2ae0\" x=\"139.105687\" y=\"90.32345\" style=\"fill: #1f77b4; stroke: #1f77b4\"/>\n     <use xlink:href=\"#m30beaf2ae0\" x=\"136.386857\" y=\"79.554975\" style=\"fill: #1f77b4; stroke: #1f77b4\"/>\n     <use xlink:href=\"#m30beaf2ae0\" x=\"129.087857\" y=\"64.85794\" style=\"fill: #1f77b4; stroke: #1f77b4\"/>\n     <use xlink:href=\"#m30beaf2ae0\" x=\"140.538345\" y=\"94.416787\" style=\"fill: #1f77b4; stroke: #1f77b4\"/>\n     <use xlink:href=\"#m30beaf2ae0\" x=\"168.754979\" y=\"119.065433\" style=\"fill: #1f77b4; stroke: #1f77b4\"/>\n     <use xlink:href=\"#m30beaf2ae0\" x=\"136.866769\" y=\"96.187\" style=\"fill: #1f77b4; stroke: #1f77b4\"/>\n     <use xlink:href=\"#m30beaf2ae0\" x=\"180.540083\" y=\"122.120536\" style=\"fill: #1f77b4; stroke: #1f77b4\"/>\n     <use xlink:href=\"#m30beaf2ae0\" x=\"131.057752\" y=\"78.348122\" style=\"fill: #1f77b4; stroke: #1f77b4\"/>\n     <use xlink:href=\"#m30beaf2ae0\" x=\"114.979826\" y=\"83.887707\" style=\"fill: #1f77b4; stroke: #1f77b4\"/>\n     <use xlink:href=\"#m30beaf2ae0\" x=\"82.48895\" y=\"47.2348\" style=\"fill: #1f77b4; stroke: #1f77b4\"/>\n     <use xlink:href=\"#m30beaf2ae0\" x=\"115.992838\" y=\"69.823853\" style=\"fill: #1f77b4; stroke: #1f77b4\"/>\n     <use xlink:href=\"#m30beaf2ae0\" x=\"117.562816\" y=\"82.780554\" style=\"fill: #1f77b4; stroke: #1f77b4\"/>\n     <use xlink:href=\"#m30beaf2ae0\" x=\"185.821168\" y=\"104.837309\" style=\"fill: #1f77b4; stroke: #1f77b4\"/>\n     <use xlink:href=\"#m30beaf2ae0\" x=\"150.346937\" y=\"87.744733\" style=\"fill: #1f77b4; stroke: #1f77b4\"/>\n     <use xlink:href=\"#m30beaf2ae0\" x=\"151.19326\" y=\"101.111293\" style=\"fill: #1f77b4; stroke: #1f77b4\"/>\n     <use xlink:href=\"#m30beaf2ae0\" x=\"138.951662\" y=\"92.731195\" style=\"fill: #1f77b4; stroke: #1f77b4\"/>\n     <use xlink:href=\"#m30beaf2ae0\" x=\"158.845412\" y=\"113.194676\" style=\"fill: #1f77b4; stroke: #1f77b4\"/>\n     <use xlink:href=\"#m30beaf2ae0\" x=\"135.413003\" y=\"86.530712\" style=\"fill: #1f77b4; stroke: #1f77b4\"/>\n     <use xlink:href=\"#m30beaf2ae0\" x=\"132.592002\" y=\"84.244843\" style=\"fill: #1f77b4; stroke: #1f77b4\"/>\n     <use xlink:href=\"#m30beaf2ae0\" x=\"169.00929\" y=\"103.797148\" style=\"fill: #1f77b4; stroke: #1f77b4\"/>\n     <use xlink:href=\"#m30beaf2ae0\" x=\"49.227348\" y=\"34.976407\" style=\"fill: #1f77b4; stroke: #1f77b4\"/>\n     <use xlink:href=\"#m30beaf2ae0\" x=\"126.394459\" y=\"71.858488\" style=\"fill: #1f77b4; stroke: #1f77b4\"/>\n     <use xlink:href=\"#m30beaf2ae0\" x=\"81.427692\" y=\"48.50375\" style=\"fill: #1f77b4; stroke: #1f77b4\"/>\n     <use xlink:href=\"#m30beaf2ae0\" x=\"140.305576\" y=\"78.142563\" style=\"fill: #1f77b4; stroke: #1f77b4\"/>\n     <use xlink:href=\"#m30beaf2ae0\" x=\"137.215227\" y=\"74.567391\" style=\"fill: #1f77b4; stroke: #1f77b4\"/>\n     <use xlink:href=\"#m30beaf2ae0\" x=\"118.971946\" y=\"73.513774\" style=\"fill: #1f77b4; stroke: #1f77b4\"/>\n     <use xlink:href=\"#m30beaf2ae0\" x=\"143.573426\" y=\"77.254591\" style=\"fill: #1f77b4; stroke: #1f77b4\"/>\n     <use xlink:href=\"#m30beaf2ae0\" x=\"155.667736\" y=\"95.173862\" style=\"fill: #1f77b4; stroke: #1f77b4\"/>\n     <use xlink:href=\"#m30beaf2ae0\" x=\"195.92253\" y=\"118.364617\" style=\"fill: #1f77b4; stroke: #1f77b4\"/>\n     <use xlink:href=\"#m30beaf2ae0\" x=\"176.490402\" y=\"113.618073\" style=\"fill: #1f77b4; stroke: #1f77b4\"/>\n     <use xlink:href=\"#m30beaf2ae0\" x=\"127.519693\" y=\"77.630498\" style=\"fill: #1f77b4; stroke: #1f77b4\"/>\n     <use xlink:href=\"#m30beaf2ae0\" x=\"143.960992\" y=\"104.237094\" style=\"fill: #1f77b4; stroke: #1f77b4\"/>\n     <use xlink:href=\"#m30beaf2ae0\" x=\"126.959693\" y=\"91.072897\" style=\"fill: #1f77b4; stroke: #1f77b4\"/>\n     <use xlink:href=\"#m30beaf2ae0\" x=\"70.637565\" y=\"55.965043\" style=\"fill: #1f77b4; stroke: #1f77b4\"/>\n     <use xlink:href=\"#m30beaf2ae0\" x=\"152.825802\" y=\"100.353911\" style=\"fill: #1f77b4; stroke: #1f77b4\"/>\n     <use xlink:href=\"#m30beaf2ae0\" x=\"110.743469\" y=\"58.484851\" style=\"fill: #1f77b4; stroke: #1f77b4\"/>\n     <use xlink:href=\"#m30beaf2ae0\" x=\"102.687317\" y=\"72.260046\" style=\"fill: #1f77b4; stroke: #1f77b4\"/>\n     <use xlink:href=\"#m30beaf2ae0\" x=\"132.797392\" y=\"65.078531\" style=\"fill: #1f77b4; stroke: #1f77b4\"/>\n     <use xlink:href=\"#m30beaf2ae0\" x=\"125.107323\" y=\"80.925023\" style=\"fill: #1f77b4; stroke: #1f77b4\"/>\n     <use xlink:href=\"#m30beaf2ae0\" x=\"97.176731\" y=\"61.258694\" style=\"fill: #1f77b4; stroke: #1f77b4\"/>\n     <use xlink:href=\"#m30beaf2ae0\" x=\"93.884148\" y=\"70.128587\" style=\"fill: #1f77b4; stroke: #1f77b4\"/>\n     <use xlink:href=\"#m30beaf2ae0\" x=\"169.591578\" y=\"134.445584\" style=\"fill: #1f77b4; stroke: #1f77b4\"/>\n     <use xlink:href=\"#m30beaf2ae0\" x=\"114.262603\" y=\"61.327774\" style=\"fill: #1f77b4; stroke: #1f77b4\"/>\n     <use xlink:href=\"#m30beaf2ae0\" x=\"140.594789\" y=\"87.392434\" style=\"fill: #1f77b4; stroke: #1f77b4\"/>\n     <use xlink:href=\"#m30beaf2ae0\" x=\"169.462103\" y=\"111.333248\" style=\"fill: #1f77b4; stroke: #1f77b4\"/>\n     <use xlink:href=\"#m30beaf2ae0\" x=\"116.522984\" y=\"84.089639\" style=\"fill: #1f77b4; stroke: #1f77b4\"/>\n     <use xlink:href=\"#m30beaf2ae0\" x=\"110.678977\" y=\"49.700909\" style=\"fill: #1f77b4; stroke: #1f77b4\"/>\n     <use xlink:href=\"#m30beaf2ae0\" x=\"120.23416\" y=\"78.531706\" style=\"fill: #1f77b4; stroke: #1f77b4\"/>\n     <use xlink:href=\"#m30beaf2ae0\" x=\"158.574293\" y=\"100.388627\" style=\"fill: #1f77b4; stroke: #1f77b4\"/>\n     <use xlink:href=\"#m30beaf2ae0\" x=\"112.215419\" y=\"73.675575\" style=\"fill: #1f77b4; stroke: #1f77b4\"/>\n     <use xlink:href=\"#m30beaf2ae0\" x=\"133.414555\" y=\"52.134404\" style=\"fill: #1f77b4; stroke: #1f77b4\"/>\n     <use xlink:href=\"#m30beaf2ae0\" x=\"146.99438\" y=\"93.278762\" style=\"fill: #1f77b4; stroke: #1f77b4\"/>\n     <use xlink:href=\"#m30beaf2ae0\" x=\"114.866028\" y=\"62.550939\" style=\"fill: #1f77b4; stroke: #1f77b4\"/>\n     <use xlink:href=\"#m30beaf2ae0\" x=\"114.139288\" y=\"45.511546\" style=\"fill: #1f77b4; stroke: #1f77b4\"/>\n     <use xlink:href=\"#m30beaf2ae0\" x=\"150.142678\" y=\"82.672232\" style=\"fill: #1f77b4; stroke: #1f77b4\"/>\n     <use xlink:href=\"#m30beaf2ae0\" x=\"78.197693\" y=\"43.327415\" style=\"fill: #1f77b4; stroke: #1f77b4\"/>\n     <use xlink:href=\"#m30beaf2ae0\" x=\"175.742382\" y=\"84.99581\" style=\"fill: #1f77b4; stroke: #1f77b4\"/>\n     <use xlink:href=\"#m30beaf2ae0\" x=\"110.949046\" y=\"82.037428\" style=\"fill: #1f77b4; stroke: #1f77b4\"/>\n     <use xlink:href=\"#m30beaf2ae0\" x=\"136.568997\" y=\"87.61235\" style=\"fill: #1f77b4; stroke: #1f77b4\"/>\n     <use xlink:href=\"#m30beaf2ae0\" x=\"118.826954\" y=\"77.115957\" style=\"fill: #1f77b4; stroke: #1f77b4\"/>\n     <use xlink:href=\"#m30beaf2ae0\" x=\"198.841713\" y=\"128.14029\" style=\"fill: #1f77b4; stroke: #1f77b4\"/>\n     <use xlink:href=\"#m30beaf2ae0\" x=\"121.654328\" y=\"72.698772\" style=\"fill: #1f77b4; stroke: #1f77b4\"/>\n     <use xlink:href=\"#m30beaf2ae0\" x=\"108.151523\" y=\"85.514161\" style=\"fill: #1f77b4; stroke: #1f77b4\"/>\n     <use xlink:href=\"#m30beaf2ae0\" x=\"108.471296\" y=\"55.615914\" style=\"fill: #1f77b4; stroke: #1f77b4\"/>\n     <use xlink:href=\"#m30beaf2ae0\" x=\"99.892977\" y=\"78.405215\" style=\"fill: #1f77b4; stroke: #1f77b4\"/>\n     <use xlink:href=\"#m30beaf2ae0\" x=\"160.513972\" y=\"108.580256\" style=\"fill: #1f77b4; stroke: #1f77b4\"/>\n     <use xlink:href=\"#m30beaf2ae0\" x=\"103.806825\" y=\"69.160504\" style=\"fill: #1f77b4; stroke: #1f77b4\"/>\n     <use xlink:href=\"#m30beaf2ae0\" x=\"138.092845\" y=\"98.390022\" style=\"fill: #1f77b4; stroke: #1f77b4\"/>\n     <use xlink:href=\"#m30beaf2ae0\" x=\"139.155201\" y=\"89.02481\" style=\"fill: #1f77b4; stroke: #1f77b4\"/>\n     <use xlink:href=\"#m30beaf2ae0\" x=\"127.545259\" y=\"87.532696\" style=\"fill: #1f77b4; stroke: #1f77b4\"/>\n     <use xlink:href=\"#m30beaf2ae0\" x=\"98.155264\" y=\"58.965924\" style=\"fill: #1f77b4; stroke: #1f77b4\"/>\n     <use xlink:href=\"#m30beaf2ae0\" x=\"145.413467\" y=\"82.252419\" style=\"fill: #1f77b4; stroke: #1f77b4\"/>\n     <use xlink:href=\"#m30beaf2ae0\" x=\"176.537803\" y=\"104.11838\" style=\"fill: #1f77b4; stroke: #1f77b4\"/>\n     <use xlink:href=\"#m30beaf2ae0\" x=\"124.981658\" y=\"66.183079\" style=\"fill: #1f77b4; stroke: #1f77b4\"/>\n     <use xlink:href=\"#m30beaf2ae0\" x=\"135.241996\" y=\"96.870087\" style=\"fill: #1f77b4; stroke: #1f77b4\"/>\n     <use xlink:href=\"#m30beaf2ae0\" x=\"182.042922\" y=\"125.886756\" style=\"fill: #1f77b4; stroke: #1f77b4\"/>\n     <use xlink:href=\"#m30beaf2ae0\" x=\"119.688258\" y=\"63.12254\" style=\"fill: #1f77b4; stroke: #1f77b4\"/>\n     <use xlink:href=\"#m30beaf2ae0\" x=\"84.348224\" y=\"59.34653\" style=\"fill: #1f77b4; stroke: #1f77b4\"/>\n     <use xlink:href=\"#m30beaf2ae0\" x=\"116.81223\" y=\"79.578426\" style=\"fill: #1f77b4; stroke: #1f77b4\"/>\n     <use xlink:href=\"#m30beaf2ae0\" x=\"136.428075\" y=\"89.168007\" style=\"fill: #1f77b4; stroke: #1f77b4\"/>\n     <use xlink:href=\"#m30beaf2ae0\" x=\"180.268801\" y=\"113.086394\" style=\"fill: #1f77b4; stroke: #1f77b4\"/>\n     <use xlink:href=\"#m30beaf2ae0\" x=\"179.50278\" y=\"101.349422\" style=\"fill: #1f77b4; stroke: #1f77b4\"/>\n     <use xlink:href=\"#m30beaf2ae0\" x=\"175.608266\" y=\"93.26182\" style=\"fill: #1f77b4; stroke: #1f77b4\"/>\n     <use xlink:href=\"#m30beaf2ae0\" x=\"148.578927\" y=\"90.962976\" style=\"fill: #1f77b4; stroke: #1f77b4\"/>\n     <use xlink:href=\"#m30beaf2ae0\" x=\"105.085086\" y=\"64.490124\" style=\"fill: #1f77b4; stroke: #1f77b4\"/>\n     <use xlink:href=\"#m30beaf2ae0\" x=\"137.373617\" y=\"82.967619\" style=\"fill: #1f77b4; stroke: #1f77b4\"/>\n     <use xlink:href=\"#m30beaf2ae0\" x=\"162.92844\" y=\"93.255987\" style=\"fill: #1f77b4; stroke: #1f77b4\"/>\n     <use xlink:href=\"#m30beaf2ae0\" x=\"128.111286\" y=\"66.395703\" style=\"fill: #1f77b4; stroke: #1f77b4\"/>\n     <use xlink:href=\"#m30beaf2ae0\" x=\"140.011776\" y=\"88.080031\" style=\"fill: #1f77b4; stroke: #1f77b4\"/>\n     <use xlink:href=\"#m30beaf2ae0\" x=\"147.379975\" y=\"71.380249\" style=\"fill: #1f77b4; stroke: #1f77b4\"/>\n     <use xlink:href=\"#m30beaf2ae0\" x=\"138.45259\" y=\"89.775934\" style=\"fill: #1f77b4; stroke: #1f77b4\"/>\n     <use xlink:href=\"#m30beaf2ae0\" x=\"137.055791\" y=\"79.576184\" style=\"fill: #1f77b4; stroke: #1f77b4\"/>\n     <use xlink:href=\"#m30beaf2ae0\" x=\"145.116022\" y=\"95.012081\" style=\"fill: #1f77b4; stroke: #1f77b4\"/>\n     <use xlink:href=\"#m30beaf2ae0\" x=\"105.669713\" y=\"65.853433\" style=\"fill: #1f77b4; stroke: #1f77b4\"/>\n     <use xlink:href=\"#m30beaf2ae0\" x=\"138.963512\" y=\"91.838367\" style=\"fill: #1f77b4; stroke: #1f77b4\"/>\n     <use xlink:href=\"#m30beaf2ae0\" x=\"139.841071\" y=\"78.752039\" style=\"fill: #1f77b4; stroke: #1f77b4\"/>\n     <use xlink:href=\"#m30beaf2ae0\" x=\"77.412166\" y=\"56.559567\" style=\"fill: #1f77b4; stroke: #1f77b4\"/>\n     <use xlink:href=\"#m30beaf2ae0\" x=\"145.014283\" y=\"80.711669\" style=\"fill: #1f77b4; stroke: #1f77b4\"/>\n     <use xlink:href=\"#m30beaf2ae0\" x=\"110.112165\" y=\"80.915559\" style=\"fill: #1f77b4; stroke: #1f77b4\"/>\n     <use xlink:href=\"#m30beaf2ae0\" x=\"124.889132\" y=\"91.248934\" style=\"fill: #1f77b4; stroke: #1f77b4\"/>\n     <use xlink:href=\"#m30beaf2ae0\" x=\"125.431967\" y=\"71.454746\" style=\"fill: #1f77b4; stroke: #1f77b4\"/>\n     <use xlink:href=\"#m30beaf2ae0\" x=\"129.10163\" y=\"69.241451\" style=\"fill: #1f77b4; stroke: #1f77b4\"/>\n     <use xlink:href=\"#m30beaf2ae0\" x=\"185.059408\" y=\"134.990425\" style=\"fill: #1f77b4; stroke: #1f77b4\"/>\n     <use xlink:href=\"#m30beaf2ae0\" x=\"105.079701\" y=\"63.814012\" style=\"fill: #1f77b4; stroke: #1f77b4\"/>\n     <use xlink:href=\"#m30beaf2ae0\" x=\"89.146552\" y=\"52.995984\" style=\"fill: #1f77b4; stroke: #1f77b4\"/>\n     <use xlink:href=\"#m30beaf2ae0\" x=\"98.249944\" y=\"48.458175\" style=\"fill: #1f77b4; stroke: #1f77b4\"/>\n     <use xlink:href=\"#m30beaf2ae0\" x=\"114.625868\" y=\"73.591223\" style=\"fill: #1f77b4; stroke: #1f77b4\"/>\n     <use xlink:href=\"#m30beaf2ae0\" x=\"134.529374\" y=\"78.709502\" style=\"fill: #1f77b4; stroke: #1f77b4\"/>\n     <use xlink:href=\"#m30beaf2ae0\" x=\"156.159482\" y=\"115.314981\" style=\"fill: #1f77b4; stroke: #1f77b4\"/>\n     <use xlink:href=\"#m30beaf2ae0\" x=\"145.164509\" y=\"93.94274\" style=\"fill: #1f77b4; stroke: #1f77b4\"/>\n     <use xlink:href=\"#m30beaf2ae0\" x=\"182.778696\" y=\"127.276739\" style=\"fill: #1f77b4; stroke: #1f77b4\"/>\n     <use xlink:href=\"#m30beaf2ae0\" x=\"121.811085\" y=\"76.823422\" style=\"fill: #1f77b4; stroke: #1f77b4\"/>\n     <use xlink:href=\"#m30beaf2ae0\" x=\"167.483735\" y=\"104.864168\" style=\"fill: #1f77b4; stroke: #1f77b4\"/>\n     <use xlink:href=\"#m30beaf2ae0\" x=\"124.927611\" y=\"81.96679\" style=\"fill: #1f77b4; stroke: #1f77b4\"/>\n     <use xlink:href=\"#m30beaf2ae0\" x=\"137.056147\" y=\"89.054775\" style=\"fill: #1f77b4; stroke: #1f77b4\"/>\n     <use xlink:href=\"#m30beaf2ae0\" x=\"137.208183\" y=\"98.944486\" style=\"fill: #1f77b4; stroke: #1f77b4\"/>\n     <use xlink:href=\"#m30beaf2ae0\" x=\"144.834548\" y=\"89.299105\" style=\"fill: #1f77b4; stroke: #1f77b4\"/>\n     <use xlink:href=\"#m30beaf2ae0\" x=\"177.729149\" y=\"124.337575\" style=\"fill: #1f77b4; stroke: #1f77b4\"/>\n     <use xlink:href=\"#m30beaf2ae0\" x=\"94.836185\" y=\"76.48228\" style=\"fill: #1f77b4; stroke: #1f77b4\"/>\n     <use xlink:href=\"#m30beaf2ae0\" x=\"52.422419\" y=\"27.411487\" style=\"fill: #1f77b4; stroke: #1f77b4\"/>\n     <use xlink:href=\"#m30beaf2ae0\" x=\"110.648831\" y=\"69.839497\" style=\"fill: #1f77b4; stroke: #1f77b4\"/>\n     <use xlink:href=\"#m30beaf2ae0\" x=\"149.769583\" y=\"89.466195\" style=\"fill: #1f77b4; stroke: #1f77b4\"/>\n     <use xlink:href=\"#m30beaf2ae0\" x=\"138.9919\" y=\"92.405677\" style=\"fill: #1f77b4; stroke: #1f77b4\"/>\n     <use xlink:href=\"#m30beaf2ae0\" x=\"128.664984\" y=\"69.008322\" style=\"fill: #1f77b4; stroke: #1f77b4\"/>\n     <use xlink:href=\"#m30beaf2ae0\" x=\"128.396583\" y=\"62.670825\" style=\"fill: #1f77b4; stroke: #1f77b4\"/>\n     <use xlink:href=\"#m30beaf2ae0\" x=\"152.832389\" y=\"96.199886\" style=\"fill: #1f77b4; stroke: #1f77b4\"/>\n     <use xlink:href=\"#m30beaf2ae0\" x=\"70.047953\" y=\"40.664303\" style=\"fill: #1f77b4; stroke: #1f77b4\"/>\n     <use xlink:href=\"#m30beaf2ae0\" x=\"177.88118\" y=\"90.090569\" style=\"fill: #1f77b4; stroke: #1f77b4\"/>\n     <use xlink:href=\"#m30beaf2ae0\" x=\"122.276394\" y=\"81.775144\" style=\"fill: #1f77b4; stroke: #1f77b4\"/>\n     <use xlink:href=\"#m30beaf2ae0\" x=\"93.289281\" y=\"73.8773\" style=\"fill: #1f77b4; stroke: #1f77b4\"/>\n     <use xlink:href=\"#m30beaf2ae0\" x=\"145.454884\" y=\"86.307882\" style=\"fill: #1f77b4; stroke: #1f77b4\"/>\n     <use xlink:href=\"#m30beaf2ae0\" x=\"178.413851\" y=\"114.942634\" style=\"fill: #1f77b4; stroke: #1f77b4\"/>\n     <use xlink:href=\"#m30beaf2ae0\" x=\"134.835862\" y=\"69.023568\" style=\"fill: #1f77b4; stroke: #1f77b4\"/>\n     <use xlink:href=\"#m30beaf2ae0\" x=\"142.307635\" y=\"117.358365\" style=\"fill: #1f77b4; stroke: #1f77b4\"/>\n     <use xlink:href=\"#m30beaf2ae0\" x=\"122.316859\" y=\"91.449245\" style=\"fill: #1f77b4; stroke: #1f77b4\"/>\n     <use xlink:href=\"#m30beaf2ae0\" x=\"100.645493\" y=\"57.695369\" style=\"fill: #1f77b4; stroke: #1f77b4\"/>\n     <use xlink:href=\"#m30beaf2ae0\" x=\"144.041299\" y=\"107.330724\" style=\"fill: #1f77b4; stroke: #1f77b4\"/>\n     <use xlink:href=\"#m30beaf2ae0\" x=\"199.363423\" y=\"131.268381\" style=\"fill: #1f77b4; stroke: #1f77b4\"/>\n     <use xlink:href=\"#m30beaf2ae0\" x=\"138.807128\" y=\"84.300242\" style=\"fill: #1f77b4; stroke: #1f77b4\"/>\n     <use xlink:href=\"#m30beaf2ae0\" x=\"143.089955\" y=\"78.62526\" style=\"fill: #1f77b4; stroke: #1f77b4\"/>\n     <use xlink:href=\"#m30beaf2ae0\" x=\"148.073479\" y=\"76.563988\" style=\"fill: #1f77b4; stroke: #1f77b4\"/>\n     <use xlink:href=\"#m30beaf2ae0\" x=\"94.053911\" y=\"69.423189\" style=\"fill: #1f77b4; stroke: #1f77b4\"/>\n     <use xlink:href=\"#m30beaf2ae0\" x=\"119.99287\" y=\"79.792139\" style=\"fill: #1f77b4; stroke: #1f77b4\"/>\n     <use xlink:href=\"#m30beaf2ae0\" x=\"173.791565\" y=\"115.079514\" style=\"fill: #1f77b4; stroke: #1f77b4\"/>\n     <use xlink:href=\"#m30beaf2ae0\" x=\"131.037797\" y=\"91.772991\" style=\"fill: #1f77b4; stroke: #1f77b4\"/>\n     <use xlink:href=\"#m30beaf2ae0\" x=\"78.183809\" y=\"46.858482\" style=\"fill: #1f77b4; stroke: #1f77b4\"/>\n     <use xlink:href=\"#m30beaf2ae0\" x=\"109.385187\" y=\"73.925491\" style=\"fill: #1f77b4; stroke: #1f77b4\"/>\n     <use xlink:href=\"#m30beaf2ae0\" x=\"139.59629\" y=\"82.533563\" style=\"fill: #1f77b4; stroke: #1f77b4\"/>\n     <use xlink:href=\"#m30beaf2ae0\" x=\"150.863779\" y=\"115.428876\" style=\"fill: #1f77b4; stroke: #1f77b4\"/>\n     <use xlink:href=\"#m30beaf2ae0\" x=\"180.258854\" y=\"106.730123\" style=\"fill: #1f77b4; stroke: #1f77b4\"/>\n     <use xlink:href=\"#m30beaf2ae0\" x=\"82.12766\" y=\"47.549074\" style=\"fill: #1f77b4; stroke: #1f77b4\"/>\n     <use xlink:href=\"#m30beaf2ae0\" x=\"136.622744\" y=\"76.686643\" style=\"fill: #1f77b4; stroke: #1f77b4\"/>\n     <use xlink:href=\"#m30beaf2ae0\" x=\"118.105001\" y=\"69.280229\" style=\"fill: #1f77b4; stroke: #1f77b4\"/>\n     <use xlink:href=\"#m30beaf2ae0\" x=\"152.878003\" y=\"89.85636\" style=\"fill: #1f77b4; stroke: #1f77b4\"/>\n     <use xlink:href=\"#m30beaf2ae0\" x=\"82.263814\" y=\"29.952877\" style=\"fill: #1f77b4; stroke: #1f77b4\"/>\n     <use xlink:href=\"#m30beaf2ae0\" x=\"115.443111\" y=\"78.243779\" style=\"fill: #1f77b4; stroke: #1f77b4\"/>\n     <use xlink:href=\"#m30beaf2ae0\" x=\"108.800355\" y=\"92.611043\" style=\"fill: #1f77b4; stroke: #1f77b4\"/>\n     <use xlink:href=\"#m30beaf2ae0\" x=\"112.415126\" y=\"66.285065\" style=\"fill: #1f77b4; stroke: #1f77b4\"/>\n     <use xlink:href=\"#m30beaf2ae0\" x=\"155.275392\" y=\"96.087108\" style=\"fill: #1f77b4; stroke: #1f77b4\"/>\n     <use xlink:href=\"#m30beaf2ae0\" x=\"108.129183\" y=\"56.584851\" style=\"fill: #1f77b4; stroke: #1f77b4\"/>\n     <use xlink:href=\"#m30beaf2ae0\" x=\"149.168147\" y=\"125.642263\" style=\"fill: #1f77b4; stroke: #1f77b4\"/>\n     <use xlink:href=\"#m30beaf2ae0\" x=\"160.706381\" y=\"98.965191\" style=\"fill: #1f77b4; stroke: #1f77b4\"/>\n     <use xlink:href=\"#m30beaf2ae0\" x=\"113.33811\" y=\"74.62784\" style=\"fill: #1f77b4; stroke: #1f77b4\"/>\n     <use xlink:href=\"#m30beaf2ae0\" x=\"108.362841\" y=\"63.772701\" style=\"fill: #1f77b4; stroke: #1f77b4\"/>\n     <use xlink:href=\"#m30beaf2ae0\" x=\"106.784153\" y=\"66.407171\" style=\"fill: #1f77b4; stroke: #1f77b4\"/>\n     <use xlink:href=\"#m30beaf2ae0\" x=\"148.768987\" y=\"93.247714\" style=\"fill: #1f77b4; stroke: #1f77b4\"/>\n     <use xlink:href=\"#m30beaf2ae0\" x=\"144.317768\" y=\"95.753371\" style=\"fill: #1f77b4; stroke: #1f77b4\"/>\n     <use xlink:href=\"#m30beaf2ae0\" x=\"92.486559\" y=\"43.955059\" style=\"fill: #1f77b4; stroke: #1f77b4\"/>\n     <use xlink:href=\"#m30beaf2ae0\" x=\"104.483579\" y=\"83.608427\" style=\"fill: #1f77b4; stroke: #1f77b4\"/>\n     <use xlink:href=\"#m30beaf2ae0\" x=\"134.283519\" y=\"75.922015\" style=\"fill: #1f77b4; stroke: #1f77b4\"/>\n     <use xlink:href=\"#m30beaf2ae0\" x=\"124.598681\" y=\"86.596628\" style=\"fill: #1f77b4; stroke: #1f77b4\"/>\n     <use xlink:href=\"#m30beaf2ae0\" x=\"124.970886\" y=\"77.295857\" style=\"fill: #1f77b4; stroke: #1f77b4\"/>\n     <use xlink:href=\"#m30beaf2ae0\" x=\"140.248685\" y=\"88.224023\" style=\"fill: #1f77b4; stroke: #1f77b4\"/>\n     <use xlink:href=\"#m30beaf2ae0\" x=\"84.707102\" y=\"63.405061\" style=\"fill: #1f77b4; stroke: #1f77b4\"/>\n     <use xlink:href=\"#m30beaf2ae0\" x=\"116.201781\" y=\"56.017961\" style=\"fill: #1f77b4; stroke: #1f77b4\"/>\n     <use xlink:href=\"#m30beaf2ae0\" x=\"136.673423\" y=\"61.366814\" style=\"fill: #1f77b4; stroke: #1f77b4\"/>\n     <use xlink:href=\"#m30beaf2ae0\" x=\"127.434701\" y=\"88.26523\" style=\"fill: #1f77b4; stroke: #1f77b4\"/>\n     <use xlink:href=\"#m30beaf2ae0\" x=\"94.480777\" y=\"66.417615\" style=\"fill: #1f77b4; stroke: #1f77b4\"/>\n     <use xlink:href=\"#m30beaf2ae0\" x=\"95.784401\" y=\"74.285957\" style=\"fill: #1f77b4; stroke: #1f77b4\"/>\n     <use xlink:href=\"#m30beaf2ae0\" x=\"110.286479\" y=\"59.450938\" style=\"fill: #1f77b4; stroke: #1f77b4\"/>\n     <use xlink:href=\"#m30beaf2ae0\" x=\"161.329704\" y=\"97.251844\" style=\"fill: #1f77b4; stroke: #1f77b4\"/>\n     <use xlink:href=\"#m30beaf2ae0\" x=\"71.044144\" y=\"50.834418\" style=\"fill: #1f77b4; stroke: #1f77b4\"/>\n     <use xlink:href=\"#m30beaf2ae0\" x=\"106.80778\" y=\"59.883207\" style=\"fill: #1f77b4; stroke: #1f77b4\"/>\n     <use xlink:href=\"#m30beaf2ae0\" x=\"73.38755\" y=\"52.559231\" style=\"fill: #1f77b4; stroke: #1f77b4\"/>\n     <use xlink:href=\"#m30beaf2ae0\" x=\"204.090255\" y=\"124.564522\" style=\"fill: #1f77b4; stroke: #1f77b4\"/>\n     <use xlink:href=\"#m30beaf2ae0\" x=\"141.678175\" y=\"87.017389\" style=\"fill: #1f77b4; stroke: #1f77b4\"/>\n     <use xlink:href=\"#m30beaf2ae0\" x=\"96.116274\" y=\"51.248382\" style=\"fill: #1f77b4; stroke: #1f77b4\"/>\n     <use xlink:href=\"#m30beaf2ae0\" x=\"129.022622\" y=\"67.608526\" style=\"fill: #1f77b4; stroke: #1f77b4\"/>\n     <use xlink:href=\"#m30beaf2ae0\" x=\"138.654372\" y=\"99.457522\" style=\"fill: #1f77b4; stroke: #1f77b4\"/>\n     <use xlink:href=\"#m30beaf2ae0\" x=\"139.506605\" y=\"91.264825\" style=\"fill: #1f77b4; stroke: #1f77b4\"/>\n     <use xlink:href=\"#m30beaf2ae0\" x=\"119.953997\" y=\"76.157637\" style=\"fill: #1f77b4; stroke: #1f77b4\"/>\n     <use xlink:href=\"#m30beaf2ae0\" x=\"118.734549\" y=\"57.124182\" style=\"fill: #1f77b4; stroke: #1f77b4\"/>\n     <use xlink:href=\"#m30beaf2ae0\" x=\"171.700369\" y=\"109.330586\" style=\"fill: #1f77b4; stroke: #1f77b4\"/>\n     <use xlink:href=\"#m30beaf2ae0\" x=\"147.294088\" y=\"104.101913\" style=\"fill: #1f77b4; stroke: #1f77b4\"/>\n     <use xlink:href=\"#m30beaf2ae0\" x=\"146.791436\" y=\"74.439618\" style=\"fill: #1f77b4; stroke: #1f77b4\"/>\n     <use xlink:href=\"#m30beaf2ae0\" x=\"131.974974\" y=\"106.143714\" style=\"fill: #1f77b4; stroke: #1f77b4\"/>\n     <use xlink:href=\"#m30beaf2ae0\" x=\"110.983925\" y=\"68.518807\" style=\"fill: #1f77b4; stroke: #1f77b4\"/>\n     <use xlink:href=\"#m30beaf2ae0\" x=\"127.761745\" y=\"93.778252\" style=\"fill: #1f77b4; stroke: #1f77b4\"/>\n     <use xlink:href=\"#m30beaf2ae0\" x=\"164.35658\" y=\"86.986428\" style=\"fill: #1f77b4; stroke: #1f77b4\"/>\n     <use xlink:href=\"#m30beaf2ae0\" x=\"61.074556\" y=\"44.481303\" style=\"fill: #1f77b4; stroke: #1f77b4\"/>\n     <use xlink:href=\"#m30beaf2ae0\" x=\"116.537065\" y=\"94.766134\" style=\"fill: #1f77b4; stroke: #1f77b4\"/>\n     <use xlink:href=\"#m30beaf2ae0\" x=\"153.093694\" y=\"81.174392\" style=\"fill: #1f77b4; stroke: #1f77b4\"/>\n     <use xlink:href=\"#m30beaf2ae0\" x=\"94.629992\" y=\"67.996679\" style=\"fill: #1f77b4; stroke: #1f77b4\"/>\n     <use xlink:href=\"#m30beaf2ae0\" x=\"102.486737\" y=\"56.069526\" style=\"fill: #1f77b4; stroke: #1f77b4\"/>\n     <use xlink:href=\"#m30beaf2ae0\" x=\"116.930852\" y=\"85.497862\" style=\"fill: #1f77b4; stroke: #1f77b4\"/>\n     <use xlink:href=\"#m30beaf2ae0\" x=\"96.538173\" y=\"54.27393\" style=\"fill: #1f77b4; stroke: #1f77b4\"/>\n     <use xlink:href=\"#m30beaf2ae0\" x=\"68.316989\" y=\"53.329467\" style=\"fill: #1f77b4; stroke: #1f77b4\"/>\n     <use xlink:href=\"#m30beaf2ae0\" x=\"137.582772\" y=\"84.520799\" style=\"fill: #1f77b4; stroke: #1f77b4\"/>\n     <use xlink:href=\"#m30beaf2ae0\" x=\"133.57074\" y=\"75.761218\" style=\"fill: #1f77b4; stroke: #1f77b4\"/>\n     <use xlink:href=\"#m30beaf2ae0\" x=\"136.128768\" y=\"90.577945\" style=\"fill: #1f77b4; stroke: #1f77b4\"/>\n     <use xlink:href=\"#m30beaf2ae0\" x=\"180.552646\" y=\"111.632663\" style=\"fill: #1f77b4; stroke: #1f77b4\"/>\n     <use xlink:href=\"#m30beaf2ae0\" x=\"78.678431\" y=\"40.728993\" style=\"fill: #1f77b4; stroke: #1f77b4\"/>\n     <use xlink:href=\"#m30beaf2ae0\" x=\"183.182135\" y=\"114.476164\" style=\"fill: #1f77b4; stroke: #1f77b4\"/>\n     <use xlink:href=\"#m30beaf2ae0\" x=\"86.776149\" y=\"39.889383\" style=\"fill: #1f77b4; stroke: #1f77b4\"/>\n     <use xlink:href=\"#m30beaf2ae0\" x=\"125.15886\" y=\"64.6295\" style=\"fill: #1f77b4; stroke: #1f77b4\"/>\n     <use xlink:href=\"#m30beaf2ae0\" x=\"130.148236\" y=\"83.059195\" style=\"fill: #1f77b4; stroke: #1f77b4\"/>\n     <use xlink:href=\"#m30beaf2ae0\" x=\"77.865793\" y=\"52.353312\" style=\"fill: #1f77b4; stroke: #1f77b4\"/>\n     <use xlink:href=\"#m30beaf2ae0\" x=\"126.56077\" y=\"78.818818\" style=\"fill: #1f77b4; stroke: #1f77b4\"/>\n     <use xlink:href=\"#m30beaf2ae0\" x=\"131.915204\" y=\"89.640174\" style=\"fill: #1f77b4; stroke: #1f77b4\"/>\n     <use xlink:href=\"#m30beaf2ae0\" x=\"103.442911\" y=\"65.440145\" style=\"fill: #1f77b4; stroke: #1f77b4\"/>\n     <use xlink:href=\"#m30beaf2ae0\" x=\"89.811137\" y=\"64.960783\" style=\"fill: #1f77b4; stroke: #1f77b4\"/>\n     <use xlink:href=\"#m30beaf2ae0\" x=\"177.674167\" y=\"106.322066\" style=\"fill: #1f77b4; stroke: #1f77b4\"/>\n     <use xlink:href=\"#m30beaf2ae0\" x=\"97.65876\" y=\"74.31942\" style=\"fill: #1f77b4; stroke: #1f77b4\"/>\n     <use xlink:href=\"#m30beaf2ae0\" x=\"151.391988\" y=\"88.283622\" style=\"fill: #1f77b4; stroke: #1f77b4\"/>\n     <use xlink:href=\"#m30beaf2ae0\" x=\"137.236472\" y=\"71.717206\" style=\"fill: #1f77b4; stroke: #1f77b4\"/>\n     <use xlink:href=\"#m30beaf2ae0\" x=\"123.621526\" y=\"80.981632\" style=\"fill: #1f77b4; stroke: #1f77b4\"/>\n     <use xlink:href=\"#m30beaf2ae0\" x=\"129.4025\" y=\"111.095577\" style=\"fill: #1f77b4; stroke: #1f77b4\"/>\n     <use xlink:href=\"#m30beaf2ae0\" x=\"78.734555\" y=\"53.289336\" style=\"fill: #1f77b4; stroke: #1f77b4\"/>\n     <use xlink:href=\"#m30beaf2ae0\" x=\"131.119879\" y=\"73.219964\" style=\"fill: #1f77b4; stroke: #1f77b4\"/>\n     <use xlink:href=\"#m30beaf2ae0\" x=\"132.38073\" y=\"92.787756\" style=\"fill: #1f77b4; stroke: #1f77b4\"/>\n     <use xlink:href=\"#m30beaf2ae0\" x=\"127.737033\" y=\"72.569917\" style=\"fill: #1f77b4; stroke: #1f77b4\"/>\n     <use xlink:href=\"#m30beaf2ae0\" x=\"178.037282\" y=\"115.755489\" style=\"fill: #1f77b4; stroke: #1f77b4\"/>\n     <use xlink:href=\"#m30beaf2ae0\" x=\"79.320937\" y=\"42.273508\" style=\"fill: #1f77b4; stroke: #1f77b4\"/>\n     <use xlink:href=\"#m30beaf2ae0\" x=\"139.150169\" y=\"85.106638\" style=\"fill: #1f77b4; stroke: #1f77b4\"/>\n     <use xlink:href=\"#m30beaf2ae0\" x=\"143.807859\" y=\"96.851262\" style=\"fill: #1f77b4; stroke: #1f77b4\"/>\n     <use xlink:href=\"#m30beaf2ae0\" x=\"154.770943\" y=\"104.399565\" style=\"fill: #1f77b4; stroke: #1f77b4\"/>\n     <use xlink:href=\"#m30beaf2ae0\" x=\"137.439509\" y=\"85.524815\" style=\"fill: #1f77b4; stroke: #1f77b4\"/>\n     <use xlink:href=\"#m30beaf2ae0\" x=\"146.735204\" y=\"88.398642\" style=\"fill: #1f77b4; stroke: #1f77b4\"/>\n     <use xlink:href=\"#m30beaf2ae0\" x=\"109.09783\" y=\"57.90948\" style=\"fill: #1f77b4; stroke: #1f77b4\"/>\n     <use xlink:href=\"#m30beaf2ae0\" x=\"115.619319\" y=\"63.58113\" style=\"fill: #1f77b4; stroke: #1f77b4\"/>\n     <use xlink:href=\"#m30beaf2ae0\" x=\"126.03959\" y=\"72.679734\" style=\"fill: #1f77b4; stroke: #1f77b4\"/>\n     <use xlink:href=\"#m30beaf2ae0\" x=\"124.051381\" y=\"86.145909\" style=\"fill: #1f77b4; stroke: #1f77b4\"/>\n     <use xlink:href=\"#m30beaf2ae0\" x=\"140.718418\" y=\"87.271096\" style=\"fill: #1f77b4; stroke: #1f77b4\"/>\n     <use xlink:href=\"#m30beaf2ae0\" x=\"150.910461\" y=\"98.186828\" style=\"fill: #1f77b4; stroke: #1f77b4\"/>\n     <use xlink:href=\"#m30beaf2ae0\" x=\"152.675833\" y=\"103.100075\" style=\"fill: #1f77b4; stroke: #1f77b4\"/>\n     <use xlink:href=\"#m30beaf2ae0\" x=\"102.611677\" y=\"66.226601\" style=\"fill: #1f77b4; stroke: #1f77b4\"/>\n     <use xlink:href=\"#m30beaf2ae0\" x=\"157.37892\" y=\"99.177793\" style=\"fill: #1f77b4; stroke: #1f77b4\"/>\n     <use xlink:href=\"#m30beaf2ae0\" x=\"185.363684\" y=\"117.662429\" style=\"fill: #1f77b4; stroke: #1f77b4\"/>\n     <use xlink:href=\"#m30beaf2ae0\" x=\"123.836913\" y=\"69.912757\" style=\"fill: #1f77b4; stroke: #1f77b4\"/>\n     <use xlink:href=\"#m30beaf2ae0\" x=\"151.185709\" y=\"103.456857\" style=\"fill: #1f77b4; stroke: #1f77b4\"/>\n     <use xlink:href=\"#m30beaf2ae0\" x=\"135.941995\" y=\"80.023539\" style=\"fill: #1f77b4; stroke: #1f77b4\"/>\n     <use xlink:href=\"#m30beaf2ae0\" x=\"152.64358\" y=\"73.448481\" style=\"fill: #1f77b4; stroke: #1f77b4\"/>\n     <use xlink:href=\"#m30beaf2ae0\" x=\"104.336406\" y=\"70.635454\" style=\"fill: #1f77b4; stroke: #1f77b4\"/>\n     <use xlink:href=\"#m30beaf2ae0\" x=\"67.61244\" y=\"48.093821\" style=\"fill: #1f77b4; stroke: #1f77b4\"/>\n     <use xlink:href=\"#m30beaf2ae0\" x=\"83.783788\" y=\"58.2093\" style=\"fill: #1f77b4; stroke: #1f77b4\"/>\n     <use xlink:href=\"#m30beaf2ae0\" x=\"63.39973\" y=\"47.015256\" style=\"fill: #1f77b4; stroke: #1f77b4\"/>\n     <use xlink:href=\"#m30beaf2ae0\" x=\"150.327524\" y=\"113.397827\" style=\"fill: #1f77b4; stroke: #1f77b4\"/>\n     <use xlink:href=\"#m30beaf2ae0\" x=\"180.493883\" y=\"128.936182\" style=\"fill: #1f77b4; stroke: #1f77b4\"/>\n     <use xlink:href=\"#m30beaf2ae0\" x=\"100.799998\" y=\"61.238568\" style=\"fill: #1f77b4; stroke: #1f77b4\"/>\n     <use xlink:href=\"#m30beaf2ae0\" x=\"144.708278\" y=\"95.651829\" style=\"fill: #1f77b4; stroke: #1f77b4\"/>\n     <use xlink:href=\"#m30beaf2ae0\" x=\"88.107537\" y=\"56.973905\" style=\"fill: #1f77b4; stroke: #1f77b4\"/>\n     <use xlink:href=\"#m30beaf2ae0\" x=\"131.371494\" y=\"99.128191\" style=\"fill: #1f77b4; stroke: #1f77b4\"/>\n     <use xlink:href=\"#m30beaf2ae0\" x=\"139.225128\" y=\"102.579277\" style=\"fill: #1f77b4; stroke: #1f77b4\"/>\n     <use xlink:href=\"#m30beaf2ae0\" x=\"159.41515\" y=\"95.419388\" style=\"fill: #1f77b4; stroke: #1f77b4\"/>\n     <use xlink:href=\"#m30beaf2ae0\" x=\"145.244402\" y=\"87.558791\" style=\"fill: #1f77b4; stroke: #1f77b4\"/>\n     <use xlink:href=\"#m30beaf2ae0\" x=\"96.086404\" y=\"47.908449\" style=\"fill: #1f77b4; stroke: #1f77b4\"/>\n     <use xlink:href=\"#m30beaf2ae0\" x=\"126.393868\" y=\"87.327334\" style=\"fill: #1f77b4; stroke: #1f77b4\"/>\n     <use xlink:href=\"#m30beaf2ae0\" x=\"150.702907\" y=\"96.473281\" style=\"fill: #1f77b4; stroke: #1f77b4\"/>\n     <use xlink:href=\"#m30beaf2ae0\" x=\"76.105315\" y=\"52.360782\" style=\"fill: #1f77b4; stroke: #1f77b4\"/>\n     <use xlink:href=\"#m30beaf2ae0\" x=\"84.266761\" y=\"45.712134\" style=\"fill: #1f77b4; stroke: #1f77b4\"/>\n     <use xlink:href=\"#m30beaf2ae0\" x=\"136.782601\" y=\"84.656399\" style=\"fill: #1f77b4; stroke: #1f77b4\"/>\n     <use xlink:href=\"#m30beaf2ae0\" x=\"127.910089\" y=\"84.371552\" style=\"fill: #1f77b4; stroke: #1f77b4\"/>\n     <use xlink:href=\"#m30beaf2ae0\" x=\"174.054412\" y=\"117.074146\" style=\"fill: #1f77b4; stroke: #1f77b4\"/>\n     <use xlink:href=\"#m30beaf2ae0\" x=\"125.738921\" y=\"94.053879\" style=\"fill: #1f77b4; stroke: #1f77b4\"/>\n     <use xlink:href=\"#m30beaf2ae0\" x=\"140.160738\" y=\"80.176667\" style=\"fill: #1f77b4; stroke: #1f77b4\"/>\n     <use xlink:href=\"#m30beaf2ae0\" x=\"95.198926\" y=\"73.000075\" style=\"fill: #1f77b4; stroke: #1f77b4\"/>\n     <use xlink:href=\"#m30beaf2ae0\" x=\"118.068881\" y=\"76.874068\" style=\"fill: #1f77b4; stroke: #1f77b4\"/>\n     <use xlink:href=\"#m30beaf2ae0\" x=\"100.815922\" y=\"76.726856\" style=\"fill: #1f77b4; stroke: #1f77b4\"/>\n     <use xlink:href=\"#m30beaf2ae0\" x=\"132.415171\" y=\"68.426734\" style=\"fill: #1f77b4; stroke: #1f77b4\"/>\n     <use xlink:href=\"#m30beaf2ae0\" x=\"80.656122\" y=\"56.440883\" style=\"fill: #1f77b4; stroke: #1f77b4\"/>\n     <use xlink:href=\"#m30beaf2ae0\" x=\"123.374772\" y=\"80.307139\" style=\"fill: #1f77b4; stroke: #1f77b4\"/>\n     <use xlink:href=\"#m30beaf2ae0\" x=\"120.11812\" y=\"75.002022\" style=\"fill: #1f77b4; stroke: #1f77b4\"/>\n     <use xlink:href=\"#m30beaf2ae0\" x=\"140.027183\" y=\"82.778498\" style=\"fill: #1f77b4; stroke: #1f77b4\"/>\n     <use xlink:href=\"#m30beaf2ae0\" x=\"171.135949\" y=\"104.076729\" style=\"fill: #1f77b4; stroke: #1f77b4\"/>\n     <use xlink:href=\"#m30beaf2ae0\" x=\"118.862194\" y=\"68.600742\" style=\"fill: #1f77b4; stroke: #1f77b4\"/>\n     <use xlink:href=\"#m30beaf2ae0\" x=\"157.978305\" y=\"83.959755\" style=\"fill: #1f77b4; stroke: #1f77b4\"/>\n     <use xlink:href=\"#m30beaf2ae0\" x=\"168.578206\" y=\"115.158527\" style=\"fill: #1f77b4; stroke: #1f77b4\"/>\n     <use xlink:href=\"#m30beaf2ae0\" x=\"151.482533\" y=\"87.790601\" style=\"fill: #1f77b4; stroke: #1f77b4\"/>\n     <use xlink:href=\"#m30beaf2ae0\" x=\"133.323131\" y=\"103.564367\" style=\"fill: #1f77b4; stroke: #1f77b4\"/>\n     <use xlink:href=\"#m30beaf2ae0\" x=\"153.170579\" y=\"86.856447\" style=\"fill: #1f77b4; stroke: #1f77b4\"/>\n     <use xlink:href=\"#m30beaf2ae0\" x=\"102.088821\" y=\"57.181083\" style=\"fill: #1f77b4; stroke: #1f77b4\"/>\n     <use xlink:href=\"#m30beaf2ae0\" x=\"149.24661\" y=\"67.499238\" style=\"fill: #1f77b4; stroke: #1f77b4\"/>\n     <use xlink:href=\"#m30beaf2ae0\" x=\"95.439738\" y=\"57.20281\" style=\"fill: #1f77b4; stroke: #1f77b4\"/>\n     <use xlink:href=\"#m30beaf2ae0\" x=\"144.055383\" y=\"87.970775\" style=\"fill: #1f77b4; stroke: #1f77b4\"/>\n     <use xlink:href=\"#m30beaf2ae0\" x=\"129.529273\" y=\"87.461067\" style=\"fill: #1f77b4; stroke: #1f77b4\"/>\n     <use xlink:href=\"#m30beaf2ae0\" x=\"118.499075\" y=\"75.079374\" style=\"fill: #1f77b4; stroke: #1f77b4\"/>\n     <use xlink:href=\"#m30beaf2ae0\" x=\"113.372718\" y=\"83.454952\" style=\"fill: #1f77b4; stroke: #1f77b4\"/>\n     <use xlink:href=\"#m30beaf2ae0\" x=\"98.498633\" y=\"65.716389\" style=\"fill: #1f77b4; stroke: #1f77b4\"/>\n     <use xlink:href=\"#m30beaf2ae0\" x=\"113.898908\" y=\"51.684999\" style=\"fill: #1f77b4; stroke: #1f77b4\"/>\n     <use xlink:href=\"#m30beaf2ae0\" x=\"117.393483\" y=\"58.23259\" style=\"fill: #1f77b4; stroke: #1f77b4\"/>\n     <use xlink:href=\"#m30beaf2ae0\" x=\"106.542306\" y=\"80.77022\" style=\"fill: #1f77b4; stroke: #1f77b4\"/>\n     <use xlink:href=\"#m30beaf2ae0\" x=\"160.932838\" y=\"114.701683\" style=\"fill: #1f77b4; stroke: #1f77b4\"/>\n     <use xlink:href=\"#m30beaf2ae0\" x=\"91.127913\" y=\"40.040208\" style=\"fill: #1f77b4; stroke: #1f77b4\"/>\n     <use xlink:href=\"#m30beaf2ae0\" x=\"87.665438\" y=\"64.156939\" style=\"fill: #1f77b4; stroke: #1f77b4\"/>\n     <use xlink:href=\"#m30beaf2ae0\" x=\"123.026724\" y=\"83.450173\" style=\"fill: #1f77b4; stroke: #1f77b4\"/>\n     <use xlink:href=\"#m30beaf2ae0\" x=\"101.234574\" y=\"85.118594\" style=\"fill: #1f77b4; stroke: #1f77b4\"/>\n     <use xlink:href=\"#m30beaf2ae0\" x=\"116.115137\" y=\"66.350646\" style=\"fill: #1f77b4; stroke: #1f77b4\"/>\n     <use xlink:href=\"#m30beaf2ae0\" x=\"170.034154\" y=\"115.742445\" style=\"fill: #1f77b4; stroke: #1f77b4\"/>\n     <use xlink:href=\"#m30beaf2ae0\" x=\"82.615068\" y=\"63.851807\" style=\"fill: #1f77b4; stroke: #1f77b4\"/>\n     <use xlink:href=\"#m30beaf2ae0\" x=\"67.347905\" y=\"31.183044\" style=\"fill: #1f77b4; stroke: #1f77b4\"/>\n     <use xlink:href=\"#m30beaf2ae0\" x=\"154.380397\" y=\"109.867332\" style=\"fill: #1f77b4; stroke: #1f77b4\"/>\n     <use xlink:href=\"#m30beaf2ae0\" x=\"115.36428\" y=\"92.700214\" style=\"fill: #1f77b4; stroke: #1f77b4\"/>\n     <use xlink:href=\"#m30beaf2ae0\" x=\"132.333023\" y=\"87.894175\" style=\"fill: #1f77b4; stroke: #1f77b4\"/>\n     <use xlink:href=\"#m30beaf2ae0\" x=\"100.765868\" y=\"71.123998\" style=\"fill: #1f77b4; stroke: #1f77b4\"/>\n     <use xlink:href=\"#m30beaf2ae0\" x=\"177.1191\" y=\"113.904281\" style=\"fill: #1f77b4; stroke: #1f77b4\"/>\n     <use xlink:href=\"#m30beaf2ae0\" x=\"89.675102\" y=\"64.166349\" style=\"fill: #1f77b4; stroke: #1f77b4\"/>\n     <use xlink:href=\"#m30beaf2ae0\" x=\"141.026409\" y=\"113.968677\" style=\"fill: #1f77b4; stroke: #1f77b4\"/>\n     <use xlink:href=\"#m30beaf2ae0\" x=\"167.736081\" y=\"108.563592\" style=\"fill: #1f77b4; stroke: #1f77b4\"/>\n     <use xlink:href=\"#m30beaf2ae0\" x=\"196.520383\" y=\"119.694819\" style=\"fill: #1f77b4; stroke: #1f77b4\"/>\n     <use xlink:href=\"#m30beaf2ae0\" x=\"124.30378\" y=\"105.46144\" style=\"fill: #1f77b4; stroke: #1f77b4\"/>\n     <use xlink:href=\"#m30beaf2ae0\" x=\"102.2924\" y=\"45.953003\" style=\"fill: #1f77b4; stroke: #1f77b4\"/>\n     <use xlink:href=\"#m30beaf2ae0\" x=\"148.732545\" y=\"116.142006\" style=\"fill: #1f77b4; stroke: #1f77b4\"/>\n     <use xlink:href=\"#m30beaf2ae0\" x=\"134.115001\" y=\"83.056139\" style=\"fill: #1f77b4; stroke: #1f77b4\"/>\n     <use xlink:href=\"#m30beaf2ae0\" x=\"120.465307\" y=\"78.499471\" style=\"fill: #1f77b4; stroke: #1f77b4\"/>\n     <use xlink:href=\"#m30beaf2ae0\" x=\"102.286033\" y=\"64.535771\" style=\"fill: #1f77b4; stroke: #1f77b4\"/>\n     <use xlink:href=\"#m30beaf2ae0\" x=\"110.428384\" y=\"73.38732\" style=\"fill: #1f77b4; stroke: #1f77b4\"/>\n     <use xlink:href=\"#m30beaf2ae0\" x=\"145.642536\" y=\"84.506706\" style=\"fill: #1f77b4; stroke: #1f77b4\"/>\n     <use xlink:href=\"#m30beaf2ae0\" x=\"119.099112\" y=\"75.673987\" style=\"fill: #1f77b4; stroke: #1f77b4\"/>\n     <use xlink:href=\"#m30beaf2ae0\" x=\"143.760205\" y=\"88.62487\" style=\"fill: #1f77b4; stroke: #1f77b4\"/>\n     <use xlink:href=\"#m30beaf2ae0\" x=\"118.400983\" y=\"86.478341\" style=\"fill: #1f77b4; stroke: #1f77b4\"/>\n     <use xlink:href=\"#m30beaf2ae0\" x=\"89.690134\" y=\"66.907057\" style=\"fill: #1f77b4; stroke: #1f77b4\"/>\n     <use xlink:href=\"#m30beaf2ae0\" x=\"100.697088\" y=\"57.698093\" style=\"fill: #1f77b4; stroke: #1f77b4\"/>\n     <use xlink:href=\"#m30beaf2ae0\" x=\"55.329597\" y=\"38.438862\" style=\"fill: #1f77b4; stroke: #1f77b4\"/>\n     <use xlink:href=\"#m30beaf2ae0\" x=\"119.731151\" y=\"75.353061\" style=\"fill: #1f77b4; stroke: #1f77b4\"/>\n     <use xlink:href=\"#m30beaf2ae0\" x=\"144.133266\" y=\"98.273271\" style=\"fill: #1f77b4; stroke: #1f77b4\"/>\n     <use xlink:href=\"#m30beaf2ae0\" x=\"133.969337\" y=\"71.880882\" style=\"fill: #1f77b4; stroke: #1f77b4\"/>\n     <use xlink:href=\"#m30beaf2ae0\" x=\"121.399739\" y=\"79.472761\" style=\"fill: #1f77b4; stroke: #1f77b4\"/>\n     <use xlink:href=\"#m30beaf2ae0\" x=\"146.121039\" y=\"99.402661\" style=\"fill: #1f77b4; stroke: #1f77b4\"/>\n     <use xlink:href=\"#m30beaf2ae0\" x=\"116.035554\" y=\"65.565094\" style=\"fill: #1f77b4; stroke: #1f77b4\"/>\n     <use xlink:href=\"#m30beaf2ae0\" x=\"167.030718\" y=\"104.481733\" style=\"fill: #1f77b4; stroke: #1f77b4\"/>\n     <use xlink:href=\"#m30beaf2ae0\" x=\"136.996811\" y=\"65.199817\" style=\"fill: #1f77b4; stroke: #1f77b4\"/>\n     <use xlink:href=\"#m30beaf2ae0\" x=\"153.81699\" y=\"90.779216\" style=\"fill: #1f77b4; stroke: #1f77b4\"/>\n     <use xlink:href=\"#m30beaf2ae0\" x=\"119.602805\" y=\"90.642884\" style=\"fill: #1f77b4; stroke: #1f77b4\"/>\n     <use xlink:href=\"#m30beaf2ae0\" x=\"145.92168\" y=\"88.107029\" style=\"fill: #1f77b4; stroke: #1f77b4\"/>\n     <use xlink:href=\"#m30beaf2ae0\" x=\"162.374531\" y=\"90.534375\" style=\"fill: #1f77b4; stroke: #1f77b4\"/>\n     <use xlink:href=\"#m30beaf2ae0\" x=\"118.247602\" y=\"74.283427\" style=\"fill: #1f77b4; stroke: #1f77b4\"/>\n     <use xlink:href=\"#m30beaf2ae0\" x=\"163.094068\" y=\"93.979395\" style=\"fill: #1f77b4; stroke: #1f77b4\"/>\n    </g>\n   </g>\n   <g id=\"matplotlib.axis_1\">\n    <g id=\"xtick_1\">\n     <g id=\"line2d_1\">\n      <path d=\"M 71.571633 143.1 \nL 71.571633 7.2 \n\" clip-path=\"url(#pe509b8f602)\" style=\"fill: none; stroke: #b0b0b0; stroke-width: 0.8; stroke-linecap: square\"/>\n     </g>\n     <g id=\"line2d_2\">\n      <defs>\n       <path id=\"me65d7de403\" d=\"M 0 0 \nL 0 3.5 \n\" style=\"stroke: #000000; stroke-width: 0.8\"/>\n      </defs>\n      <g>\n       <use xlink:href=\"#me65d7de403\" x=\"71.571633\" y=\"143.1\" style=\"stroke: #000000; stroke-width: 0.8\"/>\n      </g>\n     </g>\n     <g id=\"text_1\">\n      <!-- −2 -->\n      <g transform=\"translate(64.200539 157.698438)scale(0.1 -0.1)\">\n       <defs>\n        <path id=\"DejaVuSans-2212\" d=\"M 678 2272 \nL 4684 2272 \nL 4684 1741 \nL 678 1741 \nL 678 2272 \nz\n\" transform=\"scale(0.015625)\"/>\n        <path id=\"DejaVuSans-32\" d=\"M 1228 531 \nL 3431 531 \nL 3431 0 \nL 469 0 \nL 469 531 \nQ 828 903 1448 1529 \nQ 2069 2156 2228 2338 \nQ 2531 2678 2651 2914 \nQ 2772 3150 2772 3378 \nQ 2772 3750 2511 3984 \nQ 2250 4219 1831 4219 \nQ 1534 4219 1204 4116 \nQ 875 4013 500 3803 \nL 500 4441 \nQ 881 4594 1212 4672 \nQ 1544 4750 1819 4750 \nQ 2544 4750 2975 4387 \nQ 3406 4025 3406 3419 \nQ 3406 3131 3298 2873 \nQ 3191 2616 2906 2266 \nQ 2828 2175 2409 1742 \nQ 1991 1309 1228 531 \nz\n\" transform=\"scale(0.015625)\"/>\n       </defs>\n       <use xlink:href=\"#DejaVuSans-2212\"/>\n       <use xlink:href=\"#DejaVuSans-32\" x=\"83.789062\"/>\n      </g>\n     </g>\n    </g>\n    <g id=\"xtick_2\">\n     <g id=\"line2d_3\">\n      <path d=\"M 127.552519 143.1 \nL 127.552519 7.2 \n\" clip-path=\"url(#pe509b8f602)\" style=\"fill: none; stroke: #b0b0b0; stroke-width: 0.8; stroke-linecap: square\"/>\n     </g>\n     <g id=\"line2d_4\">\n      <g>\n       <use xlink:href=\"#me65d7de403\" x=\"127.552519\" y=\"143.1\" style=\"stroke: #000000; stroke-width: 0.8\"/>\n      </g>\n     </g>\n     <g id=\"text_2\">\n      <!-- 0 -->\n      <g transform=\"translate(124.371269 157.698438)scale(0.1 -0.1)\">\n       <defs>\n        <path id=\"DejaVuSans-30\" d=\"M 2034 4250 \nQ 1547 4250 1301 3770 \nQ 1056 3291 1056 2328 \nQ 1056 1369 1301 889 \nQ 1547 409 2034 409 \nQ 2525 409 2770 889 \nQ 3016 1369 3016 2328 \nQ 3016 3291 2770 3770 \nQ 2525 4250 2034 4250 \nz\nM 2034 4750 \nQ 2819 4750 3233 4129 \nQ 3647 3509 3647 2328 \nQ 3647 1150 3233 529 \nQ 2819 -91 2034 -91 \nQ 1250 -91 836 529 \nQ 422 1150 422 2328 \nQ 422 3509 836 4129 \nQ 1250 4750 2034 4750 \nz\n\" transform=\"scale(0.015625)\"/>\n       </defs>\n       <use xlink:href=\"#DejaVuSans-30\"/>\n      </g>\n     </g>\n    </g>\n    <g id=\"xtick_3\">\n     <g id=\"line2d_5\">\n      <path d=\"M 183.533405 143.1 \nL 183.533405 7.2 \n\" clip-path=\"url(#pe509b8f602)\" style=\"fill: none; stroke: #b0b0b0; stroke-width: 0.8; stroke-linecap: square\"/>\n     </g>\n     <g id=\"line2d_6\">\n      <g>\n       <use xlink:href=\"#me65d7de403\" x=\"183.533405\" y=\"143.1\" style=\"stroke: #000000; stroke-width: 0.8\"/>\n      </g>\n     </g>\n     <g id=\"text_3\">\n      <!-- 2 -->\n      <g transform=\"translate(180.352155 157.698438)scale(0.1 -0.1)\">\n       <use xlink:href=\"#DejaVuSans-32\"/>\n      </g>\n     </g>\n    </g>\n   </g>\n   <g id=\"matplotlib.axis_2\">\n    <g id=\"ytick_1\">\n     <g id=\"line2d_7\">\n      <path d=\"M 28.942188 125.783879 \nL 224.242188 125.783879 \n\" clip-path=\"url(#pe509b8f602)\" style=\"fill: none; stroke: #b0b0b0; stroke-width: 0.8; stroke-linecap: square\"/>\n     </g>\n     <g id=\"line2d_8\">\n      <defs>\n       <path id=\"m87dcf076f3\" d=\"M 0 0 \nL -3.5 0 \n\" style=\"stroke: #000000; stroke-width: 0.8\"/>\n      </defs>\n      <g>\n       <use xlink:href=\"#m87dcf076f3\" x=\"28.942188\" y=\"125.783879\" style=\"stroke: #000000; stroke-width: 0.8\"/>\n      </g>\n     </g>\n     <g id=\"text_4\">\n      <!-- −5 -->\n      <g transform=\"translate(7.2 129.583097)scale(0.1 -0.1)\">\n       <defs>\n        <path id=\"DejaVuSans-35\" d=\"M 691 4666 \nL 3169 4666 \nL 3169 4134 \nL 1269 4134 \nL 1269 2991 \nQ 1406 3038 1543 3061 \nQ 1681 3084 1819 3084 \nQ 2600 3084 3056 2656 \nQ 3513 2228 3513 1497 \nQ 3513 744 3044 326 \nQ 2575 -91 1722 -91 \nQ 1428 -91 1123 -41 \nQ 819 9 494 109 \nL 494 744 \nQ 775 591 1075 516 \nQ 1375 441 1709 441 \nQ 2250 441 2565 725 \nQ 2881 1009 2881 1497 \nQ 2881 1984 2565 2268 \nQ 2250 2553 1709 2553 \nQ 1456 2553 1204 2497 \nQ 953 2441 691 2322 \nL 691 4666 \nz\n\" transform=\"scale(0.015625)\"/>\n       </defs>\n       <use xlink:href=\"#DejaVuSans-2212\"/>\n       <use xlink:href=\"#DejaVuSans-35\" x=\"83.789062\"/>\n      </g>\n     </g>\n    </g>\n    <g id=\"ytick_2\">\n     <g id=\"line2d_9\">\n      <path d=\"M 28.942188 101.244485 \nL 224.242188 101.244485 \n\" clip-path=\"url(#pe509b8f602)\" style=\"fill: none; stroke: #b0b0b0; stroke-width: 0.8; stroke-linecap: square\"/>\n     </g>\n     <g id=\"line2d_10\">\n      <g>\n       <use xlink:href=\"#m87dcf076f3\" x=\"28.942188\" y=\"101.244485\" style=\"stroke: #000000; stroke-width: 0.8\"/>\n      </g>\n     </g>\n     <g id=\"text_5\">\n      <!-- 0 -->\n      <g transform=\"translate(15.579688 105.043704)scale(0.1 -0.1)\">\n       <use xlink:href=\"#DejaVuSans-30\"/>\n      </g>\n     </g>\n    </g>\n    <g id=\"ytick_3\">\n     <g id=\"line2d_11\">\n      <path d=\"M 28.942188 76.705092 \nL 224.242188 76.705092 \n\" clip-path=\"url(#pe509b8f602)\" style=\"fill: none; stroke: #b0b0b0; stroke-width: 0.8; stroke-linecap: square\"/>\n     </g>\n     <g id=\"line2d_12\">\n      <g>\n       <use xlink:href=\"#m87dcf076f3\" x=\"28.942188\" y=\"76.705092\" style=\"stroke: #000000; stroke-width: 0.8\"/>\n      </g>\n     </g>\n     <g id=\"text_6\">\n      <!-- 5 -->\n      <g transform=\"translate(15.579688 80.50431)scale(0.1 -0.1)\">\n       <use xlink:href=\"#DejaVuSans-35\"/>\n      </g>\n     </g>\n    </g>\n    <g id=\"ytick_4\">\n     <g id=\"line2d_13\">\n      <path d=\"M 28.942188 52.165698 \nL 224.242188 52.165698 \n\" clip-path=\"url(#pe509b8f602)\" style=\"fill: none; stroke: #b0b0b0; stroke-width: 0.8; stroke-linecap: square\"/>\n     </g>\n     <g id=\"line2d_14\">\n      <g>\n       <use xlink:href=\"#m87dcf076f3\" x=\"28.942188\" y=\"52.165698\" style=\"stroke: #000000; stroke-width: 0.8\"/>\n      </g>\n     </g>\n     <g id=\"text_7\">\n      <!-- 10 -->\n      <g transform=\"translate(9.217188 55.964917)scale(0.1 -0.1)\">\n       <defs>\n        <path id=\"DejaVuSans-31\" d=\"M 794 531 \nL 1825 531 \nL 1825 4091 \nL 703 3866 \nL 703 4441 \nL 1819 4666 \nL 2450 4666 \nL 2450 531 \nL 3481 531 \nL 3481 0 \nL 794 0 \nL 794 531 \nz\n\" transform=\"scale(0.015625)\"/>\n       </defs>\n       <use xlink:href=\"#DejaVuSans-31\"/>\n       <use xlink:href=\"#DejaVuSans-30\" x=\"63.623047\"/>\n      </g>\n     </g>\n    </g>\n    <g id=\"ytick_5\">\n     <g id=\"line2d_15\">\n      <path d=\"M 28.942188 27.626304 \nL 224.242188 27.626304 \n\" clip-path=\"url(#pe509b8f602)\" style=\"fill: none; stroke: #b0b0b0; stroke-width: 0.8; stroke-linecap: square\"/>\n     </g>\n     <g id=\"line2d_16\">\n      <g>\n       <use xlink:href=\"#m87dcf076f3\" x=\"28.942188\" y=\"27.626304\" style=\"stroke: #000000; stroke-width: 0.8\"/>\n      </g>\n     </g>\n     <g id=\"text_8\">\n      <!-- 15 -->\n      <g transform=\"translate(9.217188 31.425523)scale(0.1 -0.1)\">\n       <use xlink:href=\"#DejaVuSans-31\"/>\n       <use xlink:href=\"#DejaVuSans-35\" x=\"63.623047\"/>\n      </g>\n     </g>\n    </g>\n   </g>\n   <g id=\"patch_3\">\n    <path d=\"M 28.942188 143.1 \nL 28.942188 7.2 \n\" style=\"fill: none; stroke: #000000; stroke-width: 0.8; stroke-linejoin: miter; stroke-linecap: square\"/>\n   </g>\n   <g id=\"patch_4\">\n    <path d=\"M 224.242188 143.1 \nL 224.242188 7.2 \n\" style=\"fill: none; stroke: #000000; stroke-width: 0.8; stroke-linejoin: miter; stroke-linecap: square\"/>\n   </g>\n   <g id=\"patch_5\">\n    <path d=\"M 28.942188 143.1 \nL 224.242188 143.1 \n\" style=\"fill: none; stroke: #000000; stroke-width: 0.8; stroke-linejoin: miter; stroke-linecap: square\"/>\n   </g>\n   <g id=\"patch_6\">\n    <path d=\"M 28.942188 7.2 \nL 224.242188 7.2 \n\" style=\"fill: none; stroke: #000000; stroke-width: 0.8; stroke-linejoin: miter; stroke-linecap: square\"/>\n   </g>\n  </g>\n </g>\n <defs>\n  <clipPath id=\"pe509b8f602\">\n   <rect x=\"28.942188\" y=\"7.2\" width=\"195.3\" height=\"135.9\"/>\n  </clipPath>\n </defs>\n</svg>\n",
      "text/plain": [
       "<Figure size 252x180 with 1 Axes>"
      ]
     },
     "metadata": {
      "needs_background": "light"
     },
     "output_type": "display_data"
    }
   ],
   "source": [
    "bcil.set_matplotlib_formats('svg')\n",
    "plt.rcParams['figure.figsize'] = (3.5, 2.5)\n",
    "plt.grid()\n",
    "plt.scatter(features[:, 1].detach().numpy(), labels.detach().numpy(), s=1)\n",
    "\"\"\" numpy() 不放到梯度中 \"\"\""
   ]
  },
  {
   "cell_type": "code",
   "execution_count": 7,
   "id": "77435500",
   "metadata": {
    "colab": {
     "base_uri": "https://localhost:8080/"
    },
    "executionInfo": {
     "elapsed": 4,
     "status": "ok",
     "timestamp": 1674123386519,
     "user": {
      "displayName": "周佳林",
      "userId": "18191733824795449952"
     },
     "user_tz": -480
    },
    "id": "77435500",
    "outputId": "b9271e55-8641-4903-dea4-ad9b0e4ce561"
   },
   "outputs": [
    {
     "name": "stdout",
     "output_type": "stream",
     "text": [
      "tensor([[-1.0178e+00,  1.3123e-01],\n",
      "        [-3.9517e-01,  2.8532e-01],\n",
      "        [ 2.2087e+00, -1.8835e-01],\n",
      "        [-1.9558e+00,  8.1367e-01],\n",
      "        [ 5.6934e-01,  9.3834e-01],\n",
      "        [-3.1837e-02,  1.4104e+00],\n",
      "        [-4.7827e-01, -2.2920e+00],\n",
      "        [ 1.2004e-03, -3.0201e-01],\n",
      "        [ 7.6460e-01,  2.3202e-01],\n",
      "        [-5.5672e-01, -5.7576e-01]]) \n",
      " tensor([[ 1.7227],\n",
      "        [ 2.4430],\n",
      "        [ 9.2783],\n",
      "        [-2.4763],\n",
      "        [ 2.1323],\n",
      "        [-0.6596],\n",
      "        [11.0494],\n",
      "        [ 5.2101],\n",
      "        [ 4.9467],\n",
      "        [ 5.0523]])\n"
     ]
    }
   ],
   "source": [
    "# 实现小批量读取\n",
    "def data_iter(batch_size, features, labels):\n",
    "    num_examples = features.shape[0]\n",
    "    indices = list(range(num_examples))\n",
    "    random.shuffle(indices) # 将原列表顺序打乱\n",
    "    for i in range(0, num_examples, batch_size):\n",
    "        batch_indices = torch.tensor(\n",
    "            indices[i: min(i + batch_size, num_examples)]) # 有可能超出索引范围： min()\n",
    "        yield features[batch_indices], labels[batch_indices]\n",
    "\n",
    "batch_size = 10\n",
    "\n",
    "for X, y in data_iter(batch_size, features, labels):\n",
    "    print(X, '\\n', y)\n",
    "    break"
   ]
  },
  {
   "cell_type": "markdown",
   "id": "fd889237",
   "metadata": {
    "id": "fd889237"
   },
   "source": [
    "参数初始化"
   ]
  },
  {
   "cell_type": "code",
   "execution_count": 8,
   "id": "d6289bb7",
   "metadata": {
    "id": "d6289bb7"
   },
   "outputs": [],
   "source": [
    "w = torch.normal(0, 0.01, size=(2, 1), requires_grad=True)\n",
    "b = torch.zeros(1, requires_grad=True)"
   ]
  },
  {
   "cell_type": "code",
   "execution_count": 9,
   "id": "4eddf458",
   "metadata": {
    "id": "4eddf458"
   },
   "outputs": [],
   "source": [
    "# 定义模型\n",
    "def linreg(X, w, b):\n",
    "    return torch.matmul(X, w) + b"
   ]
  },
  {
   "cell_type": "code",
   "execution_count": 10,
   "id": "48afad4a",
   "metadata": {
    "id": "48afad4a"
   },
   "outputs": [],
   "source": [
    "# 损失函数\n",
    "def squred_loss(y_hat, y):\n",
    "    return (y_hat - y.reshape(y_hat.shape)) ** 2"
   ]
  },
  {
   "cell_type": "code",
   "execution_count": 11,
   "id": "5314ad83",
   "metadata": {
    "id": "5314ad83"
   },
   "outputs": [],
   "source": [
    "# 定义优化算法\n",
    "def sgd(params, lr, batch_size):\n",
    "    with torch.no_grad(): # 梯度优化不需要梯度计算\n",
    "        for param in params:\n",
    "            param -= lr * param.grad / batch_size\n",
    "            param.grad.zero_() # 手动归零"
   ]
  },
  {
   "cell_type": "code",
   "execution_count": 12,
   "id": "0ca1fa5b",
   "metadata": {
    "colab": {
     "base_uri": "https://localhost:8080/"
    },
    "executionInfo": {
     "elapsed": 363,
     "status": "ok",
     "timestamp": 1674123387240,
     "user": {
      "displayName": "周佳林",
      "userId": "18191733824795449952"
     },
     "user_tz": -480
    },
    "id": "0ca1fa5b",
    "outputId": "536e49c9-550c-4d90-b332-6d4e2b47aab5"
   },
   "outputs": [
    {
     "name": "stdout",
     "output_type": "stream",
     "text": [
      "epochs 1, loss 0.00010070\n",
      "epochs 2, loss 0.00010044\n",
      "epochs 3, loss 0.00010121\n",
      "epochs 4, loss 0.00010344\n",
      "epochs 5, loss 0.00010351\n",
      "epochs 6, loss 0.00010545\n",
      "epochs 7, loss 0.00010330\n",
      "epochs 8, loss 0.00010221\n",
      "epochs 9, loss 0.00010016\n",
      "epochs 10, loss 0.00010363\n"
     ]
    }
   ],
   "source": [
    "lr = 0.1\n",
    "num_epochs = 10\n",
    "net = linreg\n",
    "loss = squred_loss\n",
    "batch_size = 10\n",
    "\n",
    "for epoch in range(num_epochs):\n",
    "    for X, y in data_iter(batch_size, features, labels):\n",
    "        l = loss(net(X, w, b), y)\n",
    "        # l 的形状是 (batch_size, 1), 不是标量, 无法计算梯度\n",
    "        # 使用 sum 累加损失\n",
    "        l.sum().backward()\n",
    "        sgd([w, b], lr, batch_size)\n",
    "    with torch.no_grad():\n",
    "        train = loss(net(features, w, b), labels)\n",
    "        print(f\"epochs {epoch+1}, loss {float(train.mean()):.8f}\")"
   ]
  },
  {
   "cell_type": "markdown",
   "id": "S672E1WJi-jy",
   "metadata": {
    "id": "S672E1WJi-jy"
   },
   "source": [
    "# 利用 `Pytorch` 的工具"
   ]
  },
  {
   "cell_type": "code",
   "execution_count": 13,
   "id": "5e1c2c3d",
   "metadata": {
    "id": "5e1c2c3d"
   },
   "outputs": [],
   "source": [
    "\"\"\" 使用 Pytorch 提供的工具 \"\"\"\n",
    "features, labels = synthetic_data(true_w, true_b, 1000) # 生产初始化参数"
   ]
  },
  {
   "cell_type": "code",
   "execution_count": 14,
   "id": "19a7aee9",
   "metadata": {
    "colab": {
     "base_uri": "https://localhost:8080/"
    },
    "executionInfo": {
     "elapsed": 9,
     "status": "ok",
     "timestamp": 1674123387241,
     "user": {
      "displayName": "周佳林",
      "userId": "18191733824795449952"
     },
     "user_tz": -480
    },
    "id": "19a7aee9",
    "outputId": "8b0dcf63-96fe-4573-c055-90a57a0e859a"
   },
   "outputs": [
    {
     "data": {
      "text/plain": [
       "[tensor([[ 0.9045,  0.8903],\n",
       "         [ 0.0974, -1.2499],\n",
       "         [ 0.5129, -0.7398],\n",
       "         [-1.2968,  0.6867],\n",
       "         [ 1.0031, -0.3060],\n",
       "         [ 1.4880,  0.5389],\n",
       "         [ 1.8875,  0.1248],\n",
       "         [ 0.0504,  0.2228],\n",
       "         [ 0.9706, -1.5496],\n",
       "         [-1.1531, -1.4712]]),\n",
       " tensor([[ 2.9921],\n",
       "         [ 8.6421],\n",
       "         [ 7.7460],\n",
       "         [-0.7173],\n",
       "         [ 7.2311],\n",
       "         [ 5.3462],\n",
       "         [ 7.5429],\n",
       "         [ 3.5480],\n",
       "         [11.4098],\n",
       "         [ 6.8936]])]"
      ]
     },
     "execution_count": 14,
     "metadata": {},
     "output_type": "execute_result"
    }
   ],
   "source": [
    "def load_array(data_arrays, batch_size, is_train=True):\n",
    "    dataset = data.TensorDataset(*data_arrays) # 当传递值为迭代器时, 使用*修饰\n",
    "    return data.DataLoader(dataset, batch_size, shuffle = is_train)\n",
    "\n",
    "batch_size = 10\n",
    "data_iter = load_array((features, labels), batch_size, True)\n",
    "\n",
    "next(iter(data_iter)) # 得到一个返回"
   ]
  },
  {
   "cell_type": "code",
   "execution_count": 15,
   "id": "47f0520f",
   "metadata": {
    "id": "47f0520f"
   },
   "outputs": [],
   "source": [
    "\"\"\" Sequential : list of layers\"\"\"\n",
    "net = nn.Sequential(nn.Linear(2, 1)) # 等价于全连接层"
   ]
  },
  {
   "cell_type": "code",
   "execution_count": 16,
   "id": "dca55d56",
   "metadata": {
    "colab": {
     "base_uri": "https://localhost:8080/"
    },
    "executionInfo": {
     "elapsed": 7,
     "status": "ok",
     "timestamp": 1674123387241,
     "user": {
      "displayName": "周佳林",
      "userId": "18191733824795449952"
     },
     "user_tz": -480
    },
    "id": "dca55d56",
    "outputId": "b26eed14-f91c-45cd-8039-0046ba302997"
   },
   "outputs": [
    {
     "data": {
      "text/plain": [
       "tensor([0.])"
      ]
     },
     "execution_count": 16,
     "metadata": {},
     "output_type": "execute_result"
    }
   ],
   "source": [
    "\"\"\" 初始化参数模型 \"\"\"\n",
    "net[0].weight.data.normal_(0, 0.01)\n",
    "net[0].bias.data.fill_(0)"
   ]
  },
  {
   "cell_type": "code",
   "execution_count": 17,
   "id": "767c87b6",
   "metadata": {
    "id": "767c87b6"
   },
   "outputs": [],
   "source": [
    "loss = nn.MSELoss() # 均方误差"
   ]
  },
  {
   "cell_type": "code",
   "execution_count": 18,
   "id": "f29e8b8d",
   "metadata": {
    "id": "f29e8b8d"
   },
   "outputs": [],
   "source": [
    "trainer = torch.optim.SGD(net.parameters(), lr=0.03)"
   ]
  },
  {
   "cell_type": "code",
   "execution_count": 19,
   "id": "611d8c4d",
   "metadata": {
    "colab": {
     "base_uri": "https://localhost:8080/"
    },
    "executionInfo": {
     "elapsed": 1061,
     "status": "ok",
     "timestamp": 1674123388296,
     "user": {
      "displayName": "周佳林",
      "userId": "18191733824795449952"
     },
     "user_tz": -480
    },
    "id": "611d8c4d",
    "outputId": "215ffa3c-13f2-4e27-b15a-cc02b7c8ee3c"
   },
   "outputs": [
    {
     "name": "stdout",
     "output_type": "stream",
     "text": [
      "epochs: 1, loss:0.00023832\n",
      "epochs: 2, loss:0.00010006\n",
      "epochs: 3, loss:0.00010025\n",
      "epochs: 4, loss:0.00009992\n",
      "epochs: 5, loss:0.00009990\n",
      "epochs: 6, loss:0.00010016\n",
      "epochs: 7, loss:0.00010040\n",
      "epochs: 8, loss:0.00010000\n",
      "epochs: 9, loss:0.00009984\n",
      "epochs: 10, loss:0.00010038\n"
     ]
    }
   ],
   "source": [
    "num_epochs = 10\n",
    "for epoch in range(num_epochs):\n",
    "    for X, y in data_iter:\n",
    "        l = loss(net(X), y) # Pytorch 默认进行了 sum() 运算\n",
    "        trainer.zero_grad()\n",
    "        l.backward()\n",
    "        trainer.step()\n",
    "    with torch.no_grad():\n",
    "        l = loss(net(features), labels)\n",
    "        print(f\"epochs: {epoch + 1}, loss:{l:.8f}\") # MSELoss没有 / 2"
   ]
  },
  {
   "cell_type": "markdown",
   "id": "2rAGm8roiTpL",
   "metadata": {
    "id": "2rAGm8roiTpL"
   },
   "source": [
    "`batchsize` 反直觉\n",
    "\n",
    "  有的时候越小越好？ \n",
    "\n",
    "> 小的`batchsize`可以提高噪声，提高鲁棒性？\n",
    "\n",
    "建模是不精确的，优化也是不精确的[即深度学习的两个模型都是不精确的]\n",
    "\n",
    "- 不太关心统计的最优解\n",
    "- 关心**收敛的地方**，希望收敛的地方平坦，范化性很好\n",
    "\n",
    "batch_size 不是整数倍\n",
    "1. 调整 batch_size\n",
    "2. 舍弃数据多余部分\n",
    "3. 从下一个 epoch 中借用数据\n",
    "\n",
    "NaN 是由于每一次梯度迭代存在除法\n",
    "\n",
    "> 有可能被除数有 0 或者 inf\n"
   ]
  },
  {
   "cell_type": "code",
   "execution_count": null,
   "id": "QOaSQ81Cmy4s",
   "metadata": {
    "id": "QOaSQ81Cmy4s"
   },
   "outputs": [],
   "source": []
  }
 ],
 "metadata": {
  "colab": {
   "provenance": []
  },
  "gpuClass": "standard",
  "kernelspec": {
   "display_name": "d2l",
   "language": "python",
   "name": "python3"
  },
  "language_info": {
   "codemirror_mode": {
    "name": "ipython",
    "version": 3
   },
   "file_extension": ".py",
   "mimetype": "text/x-python",
   "name": "python",
   "nbconvert_exporter": "python",
   "pygments_lexer": "ipython3",
   "version": "3.10.9 | packaged by conda-forge | (main, Jan 11 2023, 15:15:40) [MSC v.1916 64 bit (AMD64)]"
  },
  "vscode": {
   "interpreter": {
    "hash": "e68e5b16d81fa9059e1158f6a4d703d6dd8750a9ccfa1e75dbe04c34949a9a2e"
   }
  }
 },
 "nbformat": 4,
 "nbformat_minor": 5
}
