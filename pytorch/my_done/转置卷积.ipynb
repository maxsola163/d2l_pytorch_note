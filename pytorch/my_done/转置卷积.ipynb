{
 "cells": [
  {
   "cell_type": "markdown",
   "id": "5e88789a",
   "metadata": {},
   "source": [
    "# 转置卷积\n",
    "\n",
    "卷积要么宽高不变，要么宽高减小，**但是像素级预测需要最后换高增大**\n",
    "\n",
    "- 转置卷积则可以用来增大输入高宽\n",
    "\n",
    "$$Y[i:i+h, j:j+w]+=x[i,j]\\cdot\\text{kernel}$$\n",
    "\n",
    "- padding作用在输出上\n",
    "\n",
    "## 转置\n",
    "\n",
    "- 对于卷积$Y=X\\star W$\n",
    "    - 可以对 W 构造出一个 V，使得卷积等价于$Y=V\\cdot X$\n",
    "- 而转置卷积则等价于$Y'=V^T\\cdot X'$"
   ]
  },
  {
   "cell_type": "code",
   "execution_count": 1,
   "id": "ee855d50",
   "metadata": {
    "ExecuteTime": {
     "end_time": "2023-02-27T04:51:02.076397Z",
     "start_time": "2023-02-27T04:51:01.761570Z"
    }
   },
   "outputs": [],
   "source": [
    "import torch\n",
    "from torch import nn\n",
    "from d2l import torch as d2l"
   ]
  },
  {
   "cell_type": "code",
   "execution_count": 10,
   "id": "6dd5915d",
   "metadata": {
    "ExecuteTime": {
     "end_time": "2023-02-27T04:55:31.347168Z",
     "start_time": "2023-02-27T04:55:31.343117Z"
    }
   },
   "outputs": [],
   "source": [
    "\"\"\" No padding Stride = 1 \"\"\"\n",
    "def trans_conv(X, k):\n",
    "    h, w = k.shape\n",
    "    Y = torch.zeros((X.shape[0] + h - 1, X.shape[1] + w - 1))\n",
    "    for i in range(X.shape[0]):\n",
    "        for j in range(X.shape[1]):\n",
    "            Y[i:i+h, j:j+w] += X[i, j] * k\n",
    "    return Y"
   ]
  },
  {
   "cell_type": "code",
   "execution_count": 11,
   "id": "c1363092",
   "metadata": {
    "ExecuteTime": {
     "end_time": "2023-02-27T04:55:31.837880Z",
     "start_time": "2023-02-27T04:55:31.833150Z"
    }
   },
   "outputs": [
    {
     "data": {
      "text/plain": [
       "tensor([[ 0.,  0.,  1.],\n",
       "        [ 0.,  4.,  6.],\n",
       "        [ 4., 12.,  9.]])"
      ]
     },
     "execution_count": 11,
     "metadata": {},
     "output_type": "execute_result"
    }
   ],
   "source": [
    "X = torch.tensor([[0.0, 1.0], [2.0, 3.0]])\n",
    "k = X.clone()\n",
    "trans_conv(X, k)"
   ]
  },
  {
   "cell_type": "code",
   "execution_count": 12,
   "id": "a38b7328",
   "metadata": {
    "ExecuteTime": {
     "end_time": "2023-02-27T04:58:11.455582Z",
     "start_time": "2023-02-27T04:58:11.446546Z"
    }
   },
   "outputs": [
    {
     "data": {
      "text/plain": [
       "tensor([[[[ 0.,  0.,  1.],\n",
       "          [ 0.,  4.,  6.],\n",
       "          [ 4., 12.,  9.]]]], grad_fn=<SlowConvTranspose2DBackward0>)"
      ]
     },
     "execution_count": 12,
     "metadata": {},
     "output_type": "execute_result"
    }
   ],
   "source": [
    "X, k = X.reshape(1, 1, 2, 2), k.reshape(1, 1, 2, 2)\n",
    "tconv = nn.ConvTranspose2d(1, 1, kernel_size=2, bias=False)\n",
    "tconv.weight.data=k\n",
    "tconv(X)"
   ]
  },
  {
   "cell_type": "code",
   "execution_count": null,
   "id": "5c9814ca",
   "metadata": {},
   "outputs": [],
   "source": []
  }
 ],
 "metadata": {
  "kernelspec": {
   "display_name": "Python 3",
   "language": "python",
   "name": "python3"
  },
  "language_info": {
   "codemirror_mode": {
    "name": "ipython",
    "version": 3
   },
   "file_extension": ".py",
   "mimetype": "text/x-python",
   "name": "python",
   "nbconvert_exporter": "python",
   "pygments_lexer": "ipython3",
   "version": "3.6.13"
  }
 },
 "nbformat": 4,
 "nbformat_minor": 5
}
