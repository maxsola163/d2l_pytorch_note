{
 "cells": [
  {
   "cell_type": "markdown",
   "metadata": {
    "id": "JZMtDh0lZuR5"
   },
   "source": [
    "# Softmax\n",
    "\n",
    "> 损失图像的空间信息\n",
    "\n",
    "- 回归估计一个连续值\n",
    "- 分类预测一个离散类别\n",
    "\n",
    "|回归|分类|\n",
    "-|-\n",
    "|单连续数值输出|多个离散值输出|\n",
    "|自然区间 $R$ | 输出i是第i类的置信度|\n",
    "|和真实值的区别作为损失||\n",
    "\n",
    "1. 类别进行独热编码\n",
    "2. 可以使用均方损失\n",
    "3. 关心正确类的置信度远大于其他类的置信度\n",
    "\n",
    "**输出匹配概率**\n",
    "\n",
    "$$y_i = \\frac{e^{o_i}}{\\sum_k e^{o_k}}$$\n",
    "\n",
    "> 非负且行和为1\n",
    "\n",
    "**损失函数**\n",
    "\n",
    "交叉熵损失：\n",
    "\n",
    "$$loss(y, \\hat{y})=-\\sum_iy_i\\log{\\hat{y_i}} = -\\log{\\hat{y_y}}$$\n",
    "\n",
    "> 由于是独热编码，真实值中仅有一个值为1\n",
    "\n",
    "梯度：\n",
    "\n",
    "$$d_{o_i}loss(y, \\hat{y})=softmax(o)_i-y_i$$"
   ]
  },
  {
   "cell_type": "markdown",
   "metadata": {
    "id": "shhkAWC5dAMR"
   },
   "source": [
    "## 损失函数\n",
    "\n",
    "**L2 Loss**\n",
    "\n",
    "$$loss(y,y')=\\frac{1}{2}(y-y')^2$$\n",
    "\n",
    "> 梯度呈二次函数，离原点越远，梯度越大\n",
    "\n",
    "**L1 Loss**\n",
    "\n",
    "$$loss(y,y')=|y-y'|$$\n",
    "\n",
    "> 优点是，梯度保持恒定值，缺点是零点不可导，不平滑\n",
    "\n",
    "**Huber's Robust Loss**\n",
    "\n",
    "$$loss(y,y')=\\begin{cases}|y-y'|-\\frac{1}{2}&if|y-y'|>1\\\\\\frac{1}{2}(y-y')^2&otherwise\\end{cases}$$\n",
    "\n",
    "> 两者的结合，一阶可导"
   ]
  },
  {
   "cell_type": "code",
   "execution_count": 1,
   "metadata": {
    "colab": {
     "base_uri": "https://localhost:8080/"
    },
    "executionInfo": {
     "elapsed": 4111,
     "status": "ok",
     "timestamp": 1674224257171,
     "user": {
      "displayName": "周佳林",
      "userId": "18191733824795449952"
     },
     "user_tz": -480
    },
    "id": "dFEcAJ1bcy9o",
    "outputId": "67e8502c-9f50-4f20-bfc5-562ccd638cc2"
   },
   "outputs": [
    {
     "name": "stdout",
     "output_type": "stream",
     "text": [
      "Looking in indexes: https://pypi.douban.com/simple/\n",
      "Requirement already satisfied: matplotlib.inline in c:\\users\\maxsola\\miniconda3\\envs\\d2l\\lib\\site-packages (0.1.6)\n",
      "Requirement already satisfied: traitlets in c:\\users\\maxsola\\miniconda3\\envs\\d2l\\lib\\site-packages (from matplotlib.inline) (5.8.1)\n",
      "Note: you may need to restart the kernel to use updated packages.\n"
     ]
    }
   ],
   "source": [
    "%pip install matplotlib.inline"
   ]
  },
  {
   "cell_type": "markdown",
   "metadata": {
    "id": "SV7O1uNCfcPG"
   },
   "source": [
    "### 1 图像数据集"
   ]
  },
  {
   "cell_type": "code",
   "execution_count": 2,
   "metadata": {
    "executionInfo": {
     "elapsed": 16,
     "status": "ok",
     "timestamp": 1674224257172,
     "user": {
      "displayName": "周佳林",
      "userId": "18191733824795449952"
     },
     "user_tz": -480
    },
    "id": "U6feTtY1fFOI"
   },
   "outputs": [],
   "source": [
    "\"\"\" preliminary \"\"\"\n",
    "from matplotlib_inline import backend_inline\n",
    "from matplotlib import pyplot as plt\n",
    "import torch\n",
    "import torchvision # 视觉模型的库\n",
    "from torch.utils import data\n",
    "from torchvision import transforms\n",
    "import os\n",
    "%matplotlib inline\n",
    "backend_inline.set_matplotlib_formats('svg')"
   ]
  },
  {
   "cell_type": "markdown",
   "metadata": {
    "id": "RX0iPoz8f5AT"
   },
   "source": [
    "**下载 Fashion-MNIST**"
   ]
  },
  {
   "cell_type": "code",
   "execution_count": 3,
   "metadata": {
    "colab": {
     "base_uri": "https://localhost:8080/"
    },
    "executionInfo": {
     "elapsed": 15,
     "status": "ok",
     "timestamp": 1674224257172,
     "user": {
      "displayName": "周佳林",
      "userId": "18191733824795449952"
     },
     "user_tz": -480
    },
    "id": "aPlQOIDOf2Yl",
    "outputId": "08602b86-af7a-41a4-a4e2-d565a9a4d572"
   },
   "outputs": [
    {
     "data": {
      "text/plain": [
       "(60000, 10000)"
      ]
     },
     "execution_count": 3,
     "metadata": {},
     "output_type": "execute_result"
    }
   ],
   "source": [
    "# 使用 ToTensor 将图像数据从 PIL 类型变换为 32 为浮点数\n",
    "trans = transforms.ToTensor() # 自动归一化成 0-1 \n",
    "mnist_train = torchvision.datasets.FashionMNIST(root=\"./data\", train=True, transform=trans, download=True)\n",
    "mnist_test = torchvision.datasets.FashionMNIST(root=\"./data\", train=False, transform=trans, download=True)\n",
    "\n",
    "len(mnist_train), len(mnist_test)"
   ]
  },
  {
   "cell_type": "code",
   "execution_count": 4,
   "metadata": {
    "executionInfo": {
     "elapsed": 14,
     "status": "ok",
     "timestamp": 1674224257172,
     "user": {
      "displayName": "周佳林",
      "userId": "18191733824795449952"
     },
     "user_tz": -480
    },
    "id": "OmHbJAz6x2r8"
   },
   "outputs": [],
   "source": [
    "\"\"\" 获得标签索引对应文本\"\"\"\n",
    "def get_fashion_mnist_labels(labels):\n",
    "    text_labels = ['t-shirt', 'trouser', 'pullover', 'dress', 'coat', \\\n",
    "                 'sandal', 'shirt', 'sneaker', 'bag', 'ankle boot']\n",
    "    return [text_labels[int(i)] for i in labels]"
   ]
  },
  {
   "cell_type": "code",
   "execution_count": 5,
   "metadata": {
    "executionInfo": {
     "elapsed": 14,
     "status": "ok",
     "timestamp": 1674224257172,
     "user": {
      "displayName": "周佳林",
      "userId": "18191733824795449952"
     },
     "user_tz": -480
    },
    "id": "J7cHZ1oFzAQl"
   },
   "outputs": [],
   "source": [
    "\"\"\" 打印图片 \"\"\"\n",
    "def show_img(imgs, num_rows, num_cols, title=None, scale=1.5):\n",
    "    figsize = (num_cols * scale, num_rows * scale)\n",
    "    plt.rcParams[\"figure.figsize\"] = figsize\n",
    "    for i in range(num_rows * num_cols):\n",
    "        plt.subplot(num_rows, num_cols, i+1)\n",
    "        plt.title(title[i])\n",
    "        plt.axis('off')\n",
    "        if torch.is_tensor(imgs[i].numpy()):\n",
    "            plt.imshow(imgs[i].numpy())\n",
    "        else:\n",
    "            plt.imshow(imgs[i])"
   ]
  },
  {
   "cell_type": "code",
   "execution_count": 6,
   "metadata": {
    "colab": {
     "base_uri": "https://localhost:8080/"
    },
    "executionInfo": {
     "elapsed": 14,
     "status": "ok",
     "timestamp": 1674224257172,
     "user": {
      "displayName": "周佳林",
      "userId": "18191733824795449952"
     },
     "user_tz": -480
    },
    "id": "lFvg5eqKEVwA",
    "outputId": "9f84b7a9-a7cc-4f71-ec43-b9858b1e8a17"
   },
   "outputs": [
    {
     "data": {
      "text/plain": [
       "(torch.Size([18, 1, 28, 28]), torch.Size([18]))"
      ]
     },
     "execution_count": 6,
     "metadata": {},
     "output_type": "execute_result"
    }
   ],
   "source": [
    "X, y = next(iter(data.DataLoader(mnist_train, batch_size=18)))\n",
    "X.shape, y.shape"
   ]
  },
  {
   "cell_type": "code",
   "execution_count": 7,
   "metadata": {
    "colab": {
     "base_uri": "https://localhost:8080/",
     "height": 386
    },
    "executionInfo": {
     "elapsed": 898,
     "status": "ok",
     "timestamp": 1674224258058,
     "user": {
      "displayName": "周佳林",
      "userId": "18191733824795449952"
     },
     "user_tz": -480
    },
    "id": "ESUyxukqEkx5",
    "outputId": "572dde23-c881-43b0-d60d-03a8a7273d48"
   },
   "outputs": [
    {
     "data": {
      "image/svg+xml": "<?xml version=\"1.0\" encoding=\"utf-8\" standalone=\"no\"?>\n<!DOCTYPE svg PUBLIC \"-//W3C//DTD SVG 1.1//EN\"\n  \"http://www.w3.org/Graphics/SVG/1.1/DTD/svg11.dtd\">\n<svg xmlns:xlink=\"http://www.w3.org/1999/xlink\" width=\"516.6pt\" height=\"277.364512pt\" viewBox=\"0 0 516.6 277.364512\" xmlns=\"http://www.w3.org/2000/svg\" version=\"1.1\">\n <metadata>\n  <rdf:RDF xmlns:dc=\"http://purl.org/dc/elements/1.1/\" xmlns:cc=\"http://creativecommons.org/ns#\" xmlns:rdf=\"http://www.w3.org/1999/02/22-rdf-syntax-ns#\">\n   <cc:Work>\n    <dc:type rdf:resource=\"http://purl.org/dc/dcmitype/StillImage\"/>\n    <dc:date>2023-01-21T15:43:11.100712</dc:date>\n    <dc:format>image/svg+xml</dc:format>\n    <dc:creator>\n     <cc:Agent>\n      <dc:title>Matplotlib v3.6.3, https://matplotlib.org/</dc:title>\n     </cc:Agent>\n    </dc:creator>\n   </cc:Work>\n  </rdf:RDF>\n </metadata>\n <defs>\n  <style type=\"text/css\">*{stroke-linejoin: round; stroke-linecap: butt}</style>\n </defs>\n <g id=\"figure_1\">\n  <g id=\"patch_1\">\n   <path d=\"M 0 277.364512 \nL 516.6 277.364512 \nL 516.6 0 \nL 0 0 \nz\n\" style=\"fill: #ffffff\"/>\n  </g>\n  <g id=\"axes_1\">\n   <g clip-path=\"url(#p3232fde4bc)\">\n    <image xlink:href=\"data:image/png;base64,\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\" id=\"image592beb0c52\" transform=\"scale(1 -1) translate(0 -72)\" x=\"7.2\" y=\"-22.060982\" width=\"72\" height=\"72\"/>\n   </g>\n   <g id=\"text_1\">\n    <!-- ankle boot -->\n    <g transform=\"translate(11.348304 16.318125) scale(0.12 -0.12)\">\n     <defs>\n      <path id=\"DejaVuSans-61\" d=\"M 2194 1759 \nQ 1497 1759 1228 1600 \nQ 959 1441 959 1056 \nQ 959 750 1161 570 \nQ 1363 391 1709 391 \nQ 2188 391 2477 730 \nQ 2766 1069 2766 1631 \nL 2766 1759 \nL 2194 1759 \nz\nM 3341 1997 \nL 3341 0 \nL 2766 0 \nL 2766 531 \nQ 2569 213 2275 61 \nQ 1981 -91 1556 -91 \nQ 1019 -91 701 211 \nQ 384 513 384 1019 \nQ 384 1609 779 1909 \nQ 1175 2209 1959 2209 \nL 2766 2209 \nL 2766 2266 \nQ 2766 2663 2505 2880 \nQ 2244 3097 1772 3097 \nQ 1472 3097 1187 3025 \nQ 903 2953 641 2809 \nL 641 3341 \nQ 956 3463 1253 3523 \nQ 1550 3584 1831 3584 \nQ 2591 3584 2966 3190 \nQ 3341 2797 3341 1997 \nz\n\" transform=\"scale(0.015625)\"/>\n      <path id=\"DejaVuSans-6e\" d=\"M 3513 2113 \nL 3513 0 \nL 2938 0 \nL 2938 2094 \nQ 2938 2591 2744 2837 \nQ 2550 3084 2163 3084 \nQ 1697 3084 1428 2787 \nQ 1159 2491 1159 1978 \nL 1159 0 \nL 581 0 \nL 581 3500 \nL 1159 3500 \nL 1159 2956 \nQ 1366 3272 1645 3428 \nQ 1925 3584 2291 3584 \nQ 2894 3584 3203 3211 \nQ 3513 2838 3513 2113 \nz\n\" transform=\"scale(0.015625)\"/>\n      <path id=\"DejaVuSans-6b\" d=\"M 581 4863 \nL 1159 4863 \nL 1159 1991 \nL 2875 3500 \nL 3609 3500 \nL 1753 1863 \nL 3688 0 \nL 2938 0 \nL 1159 1709 \nL 1159 0 \nL 581 0 \nL 581 4863 \nz\n\" transform=\"scale(0.015625)\"/>\n      <path id=\"DejaVuSans-6c\" d=\"M 603 4863 \nL 1178 4863 \nL 1178 0 \nL 603 0 \nL 603 4863 \nz\n\" transform=\"scale(0.015625)\"/>\n      <path id=\"DejaVuSans-65\" d=\"M 3597 1894 \nL 3597 1613 \nL 953 1613 \nQ 991 1019 1311 708 \nQ 1631 397 2203 397 \nQ 2534 397 2845 478 \nQ 3156 559 3463 722 \nL 3463 178 \nQ 3153 47 2828 -22 \nQ 2503 -91 2169 -91 \nQ 1331 -91 842 396 \nQ 353 884 353 1716 \nQ 353 2575 817 3079 \nQ 1281 3584 2069 3584 \nQ 2775 3584 3186 3129 \nQ 3597 2675 3597 1894 \nz\nM 3022 2063 \nQ 3016 2534 2758 2815 \nQ 2500 3097 2075 3097 \nQ 1594 3097 1305 2825 \nQ 1016 2553 972 2059 \nL 3022 2063 \nz\n\" transform=\"scale(0.015625)\"/>\n      <path id=\"DejaVuSans-20\" transform=\"scale(0.015625)\"/>\n      <path id=\"DejaVuSans-62\" d=\"M 3116 1747 \nQ 3116 2381 2855 2742 \nQ 2594 3103 2138 3103 \nQ 1681 3103 1420 2742 \nQ 1159 2381 1159 1747 \nQ 1159 1113 1420 752 \nQ 1681 391 2138 391 \nQ 2594 391 2855 752 \nQ 3116 1113 3116 1747 \nz\nM 1159 2969 \nQ 1341 3281 1617 3432 \nQ 1894 3584 2278 3584 \nQ 2916 3584 3314 3078 \nQ 3713 2572 3713 1747 \nQ 3713 922 3314 415 \nQ 2916 -91 2278 -91 \nQ 1894 -91 1617 61 \nQ 1341 213 1159 525 \nL 1159 0 \nL 581 0 \nL 581 4863 \nL 1159 4863 \nL 1159 2969 \nz\n\" transform=\"scale(0.015625)\"/>\n      <path id=\"DejaVuSans-6f\" d=\"M 1959 3097 \nQ 1497 3097 1228 2736 \nQ 959 2375 959 1747 \nQ 959 1119 1226 758 \nQ 1494 397 1959 397 \nQ 2419 397 2687 759 \nQ 2956 1122 2956 1747 \nQ 2956 2369 2687 2733 \nQ 2419 3097 1959 3097 \nz\nM 1959 3584 \nQ 2709 3584 3137 3096 \nQ 3566 2609 3566 1747 \nQ 3566 888 3137 398 \nQ 2709 -91 1959 -91 \nQ 1206 -91 779 398 \nQ 353 888 353 1747 \nQ 353 2609 779 3096 \nQ 1206 3584 1959 3584 \nz\n\" transform=\"scale(0.015625)\"/>\n      <path id=\"DejaVuSans-74\" d=\"M 1172 4494 \nL 1172 3500 \nL 2356 3500 \nL 2356 3053 \nL 1172 3053 \nL 1172 1153 \nQ 1172 725 1289 603 \nQ 1406 481 1766 481 \nL 2356 481 \nL 2356 0 \nL 1766 0 \nQ 1100 0 847 248 \nQ 594 497 594 1153 \nL 594 3053 \nL 172 3053 \nL 172 3500 \nL 594 3500 \nL 594 4494 \nL 1172 4494 \nz\n\" transform=\"scale(0.015625)\"/>\n     </defs>\n     <use xlink:href=\"#DejaVuSans-61\"/>\n     <use xlink:href=\"#DejaVuSans-6e\" x=\"61.279297\"/>\n     <use xlink:href=\"#DejaVuSans-6b\" x=\"124.658203\"/>\n     <use xlink:href=\"#DejaVuSans-6c\" x=\"182.568359\"/>\n     <use xlink:href=\"#DejaVuSans-65\" x=\"210.351562\"/>\n     <use xlink:href=\"#DejaVuSans-20\" x=\"271.875\"/>\n     <use xlink:href=\"#DejaVuSans-62\" x=\"303.662109\"/>\n     <use xlink:href=\"#DejaVuSans-6f\" x=\"367.138672\"/>\n     <use xlink:href=\"#DejaVuSans-6f\" x=\"428.320312\"/>\n     <use xlink:href=\"#DejaVuSans-74\" x=\"489.501953\"/>\n    </g>\n   </g>\n  </g>\n  <g id=\"axes_2\">\n   <g clip-path=\"url(#p4e6b449c20)\">\n    <image xlink:href=\"data:image/png;base64,\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\" id=\"image5f68429729\" transform=\"scale(1 -1) translate(0 -72)\" x=\"93.291429\" y=\"-22.060982\" width=\"72\" height=\"72\"/>\n   </g>\n   <g id=\"text_2\">\n    <!-- t-shirt -->\n    <g transform=\"translate(111.232232 16.318125) scale(0.12 -0.12)\">\n     <defs>\n      <path id=\"DejaVuSans-2d\" d=\"M 313 2009 \nL 1997 2009 \nL 1997 1497 \nL 313 1497 \nL 313 2009 \nz\n\" transform=\"scale(0.015625)\"/>\n      <path id=\"DejaVuSans-73\" d=\"M 2834 3397 \nL 2834 2853 \nQ 2591 2978 2328 3040 \nQ 2066 3103 1784 3103 \nQ 1356 3103 1142 2972 \nQ 928 2841 928 2578 \nQ 928 2378 1081 2264 \nQ 1234 2150 1697 2047 \nL 1894 2003 \nQ 2506 1872 2764 1633 \nQ 3022 1394 3022 966 \nQ 3022 478 2636 193 \nQ 2250 -91 1575 -91 \nQ 1294 -91 989 -36 \nQ 684 19 347 128 \nL 347 722 \nQ 666 556 975 473 \nQ 1284 391 1588 391 \nQ 1994 391 2212 530 \nQ 2431 669 2431 922 \nQ 2431 1156 2273 1281 \nQ 2116 1406 1581 1522 \nL 1381 1569 \nQ 847 1681 609 1914 \nQ 372 2147 372 2553 \nQ 372 3047 722 3315 \nQ 1072 3584 1716 3584 \nQ 2034 3584 2315 3537 \nQ 2597 3491 2834 3397 \nz\n\" transform=\"scale(0.015625)\"/>\n      <path id=\"DejaVuSans-68\" d=\"M 3513 2113 \nL 3513 0 \nL 2938 0 \nL 2938 2094 \nQ 2938 2591 2744 2837 \nQ 2550 3084 2163 3084 \nQ 1697 3084 1428 2787 \nQ 1159 2491 1159 1978 \nL 1159 0 \nL 581 0 \nL 581 4863 \nL 1159 4863 \nL 1159 2956 \nQ 1366 3272 1645 3428 \nQ 1925 3584 2291 3584 \nQ 2894 3584 3203 3211 \nQ 3513 2838 3513 2113 \nz\n\" transform=\"scale(0.015625)\"/>\n      <path id=\"DejaVuSans-69\" d=\"M 603 3500 \nL 1178 3500 \nL 1178 0 \nL 603 0 \nL 603 3500 \nz\nM 603 4863 \nL 1178 4863 \nL 1178 4134 \nL 603 4134 \nL 603 4863 \nz\n\" transform=\"scale(0.015625)\"/>\n      <path id=\"DejaVuSans-72\" d=\"M 2631 2963 \nQ 2534 3019 2420 3045 \nQ 2306 3072 2169 3072 \nQ 1681 3072 1420 2755 \nQ 1159 2438 1159 1844 \nL 1159 0 \nL 581 0 \nL 581 3500 \nL 1159 3500 \nL 1159 2956 \nQ 1341 3275 1631 3429 \nQ 1922 3584 2338 3584 \nQ 2397 3584 2469 3576 \nQ 2541 3569 2628 3553 \nL 2631 2963 \nz\n\" transform=\"scale(0.015625)\"/>\n     </defs>\n     <use xlink:href=\"#DejaVuSans-74\"/>\n     <use xlink:href=\"#DejaVuSans-2d\" x=\"39.208984\"/>\n     <use xlink:href=\"#DejaVuSans-73\" x=\"75.292969\"/>\n     <use xlink:href=\"#DejaVuSans-68\" x=\"127.392578\"/>\n     <use xlink:href=\"#DejaVuSans-69\" x=\"190.771484\"/>\n     <use xlink:href=\"#DejaVuSans-72\" x=\"218.554688\"/>\n     <use xlink:href=\"#DejaVuSans-74\" x=\"259.667969\"/>\n    </g>\n   </g>\n  </g>\n  <g id=\"axes_3\">\n   <g clip-path=\"url(#p3622acd5c9)\">\n    <image xlink:href=\"data:image/png;base64,\niVBORw0KGgoAAAANSUhEUgAAAGQAAABkCAYAAABw4pVUAAAFTElEQVR4nO2dv28cRRTHd+9HfDlfHJ2TmCCIjBRRBIIgVEgIpcA9BaGkgAZRUVDR8U/QgIQiWroIUdEjpUiRAhJREHACAdmKdfGd7273dimQZt57qxtsc7fzlfz9VG/11jt7fvt+zOzMbLqV3iiTuklTL5eHb7717EUn55sbSjfpr+gmxGVPbw+Urnzw0MnFcHi4+0ySI93rcWksvQVyJGgQMGgQMFpRWhWxuLG6qlR777zi5IPz+nnJxKmleZQas0Bzr59Tx+nMH/ceFUq3fusnJ88GOvfUAT0EDBoEjDRG2dtcW3Py7x9f1TckIkjrIHARHWmSRq5/Rhr4VUXTy+PzurSV7W9+eV/pZju7gRtaDPQQMGgQMGgQMKKUvU/fvuLk1OSClT0f/GWs//dkIZoytzTnyhTSyOffS/exTjZZzzcyfu0FpWv/wBxy4qBBwIgSsvKODwuNTOtKEZZs71vqbIhKAmXurG1LW3+y7fG3970u7+lG2vObWBj0EDBoEDBoEDCi5JDe9tjJo2e6SqfKYPvCTj4+RxjwkTmjojOqQvxHRhd0Djl9+CaPDT0EDBoEjCghqzkR9awJSzJk2F78oghdtxAl8vq98fwTlwQ9BAwaBAwaBIwoOSSdZAGlF+2wxjIobQ4T4yOtpxN97vJvhx6CBg0CBg0CRpwckol+iAnM8k1gZYhd8j8CetHyiSM1E6hlDrEzW+qAHgIGDQJG9LLXDmPI0ddKVFpC3Vk2Td0r31iOdNkbmD68MOghYNAgYNAgYERfH1KZ4CZDui2JRb6pDKuYVKCvaWadyPYrryWFvPtk/kWXBD0EDBoEjDghK19AARkIUZVTTW9chTBbdstbmwZGpZcEPQQMGgQMGgSM6GVvpbSVqlCesMMoR8gpur35FypndQyWaOghYNAgYEQJWeVw5A9sRznQUw9NeqgscQudKy5se/HyfooDTpQ78dAgYNAgYMTJIfn8dcrHnRwXHP0NvGm0a0fUG8SCZe+JhwYBgwYBI86sE1H72/5DHci+R2tc/6asIeghYNAgYMQJWV2/wHim9z/WW22Eookd3bXnimM7GU+WyHb7juna/A06g5suLwh6CBg0CBg0CBhxtmd6/JeT09llrQwOc4jTQmtHDHZYRb4lzDta1xr65FRHzrDQQ8CgQcCIM8lBENrmwpaklU0xA9cJjRrLTTHl7nZJkiSd3bg9d3oIGDQIGDQIGHA5JO/6mC43VU4S/UkouxNccFJdQBccuokAPQQMGgSM+CHLzHdIZWkbWNJWKZdtSRwop2V4s9cJfTqpDughYNAgYNAgYETPIaf2daLIxGFl6ETI/7UZf+gbVKFc1Kx/frWCHgIGDQIGDQJG9BxSmeyc+mekaM5PBJ09HfztdwyzbkPIge0zjMpep27oIWDQIGBED1lyQ0pLd0fXvTK8DS7pW7efUF174EPamYd6fGZ0wf9tZZT4mMurFwU9BAwaBAwaBIzoOUR+6jRJkqT7t4/9g019e1sf/ujkl7uPlG69ua+Ofx4/5+Sb995Quo1v/GTvSd/8CyIvF6GHgEGDgBE9ZDWmOkbkKz6EXf/gttK9dea+lzs7Stdv6s/vXW7fdfLVa9tK92n5npPPfav/btqL+4zSQ8CgQcCgQcCI8x3Dft/J07O67H3/k++d/CTXa/xu/vmmk7/I9Ay3YXZKHV9cHTj5bFu/Bvz81e+c/NngXaVbv80cQgQ0CBjpVnojat+0tXlJHf/y0fNOfvGrP5Qu//W3hbRZXL/m5N2X9Jq2ja/vOLmc6O+H1AE9BAwaBAwaBIx/ALLsUkHQHoydAAAAAElFTkSuQmCC\" id=\"imagee05ad1d0bb\" transform=\"scale(1 -1) translate(0 -72)\" x=\"179.382857\" y=\"-22.060982\" width=\"72\" height=\"72\"/>\n   </g>\n   <g id=\"text_3\">\n    <!-- t-shirt -->\n    <g transform=\"translate(197.323661 16.318125) scale(0.12 -0.12)\">\n     <use xlink:href=\"#DejaVuSans-74\"/>\n     <use xlink:href=\"#DejaVuSans-2d\" x=\"39.208984\"/>\n     <use xlink:href=\"#DejaVuSans-73\" x=\"75.292969\"/>\n     <use xlink:href=\"#DejaVuSans-68\" x=\"127.392578\"/>\n     <use xlink:href=\"#DejaVuSans-69\" x=\"190.771484\"/>\n     <use xlink:href=\"#DejaVuSans-72\" x=\"218.554688\"/>\n     <use xlink:href=\"#DejaVuSans-74\" x=\"259.667969\"/>\n    </g>\n   </g>\n  </g>\n  <g id=\"axes_4\">\n   <g clip-path=\"url(#p688748969f)\">\n    <image xlink:href=\"data:image/png;base64,\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\" id=\"imagea3cb3e1d1a\" transform=\"scale(1 -1) translate(0 -72)\" x=\"265.474286\" y=\"-22.060982\" width=\"72\" height=\"72\"/>\n   </g>\n   <g id=\"text_4\">\n    <!-- dress -->\n    <g transform=\"translate(285.261964 16.318125) scale(0.12 -0.12)\">\n     <defs>\n      <path id=\"DejaVuSans-64\" d=\"M 2906 2969 \nL 2906 4863 \nL 3481 4863 \nL 3481 0 \nL 2906 0 \nL 2906 525 \nQ 2725 213 2448 61 \nQ 2172 -91 1784 -91 \nQ 1150 -91 751 415 \nQ 353 922 353 1747 \nQ 353 2572 751 3078 \nQ 1150 3584 1784 3584 \nQ 2172 3584 2448 3432 \nQ 2725 3281 2906 2969 \nz\nM 947 1747 \nQ 947 1113 1208 752 \nQ 1469 391 1925 391 \nQ 2381 391 2643 752 \nQ 2906 1113 2906 1747 \nQ 2906 2381 2643 2742 \nQ 2381 3103 1925 3103 \nQ 1469 3103 1208 2742 \nQ 947 2381 947 1747 \nz\n\" transform=\"scale(0.015625)\"/>\n     </defs>\n     <use xlink:href=\"#DejaVuSans-64\"/>\n     <use xlink:href=\"#DejaVuSans-72\" x=\"63.476562\"/>\n     <use xlink:href=\"#DejaVuSans-65\" x=\"102.339844\"/>\n     <use xlink:href=\"#DejaVuSans-73\" x=\"163.863281\"/>\n     <use xlink:href=\"#DejaVuSans-73\" x=\"215.962891\"/>\n    </g>\n   </g>\n  </g>\n  <g id=\"axes_5\">\n   <g clip-path=\"url(#pd829aff9c6)\">\n    <image xlink:href=\"data:image/png;base64,\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\" id=\"imagea71ab88a48\" transform=\"scale(1 -1) translate(0 -72)\" x=\"351.565714\" y=\"-22.060982\" width=\"72\" height=\"72\"/>\n   </g>\n   <g id=\"text_5\">\n    <!-- t-shirt -->\n    <g transform=\"translate(369.506518 16.318125) scale(0.12 -0.12)\">\n     <use xlink:href=\"#DejaVuSans-74\"/>\n     <use xlink:href=\"#DejaVuSans-2d\" x=\"39.208984\"/>\n     <use xlink:href=\"#DejaVuSans-73\" x=\"75.292969\"/>\n     <use xlink:href=\"#DejaVuSans-68\" x=\"127.392578\"/>\n     <use xlink:href=\"#DejaVuSans-69\" x=\"190.771484\"/>\n     <use xlink:href=\"#DejaVuSans-72\" x=\"218.554688\"/>\n     <use xlink:href=\"#DejaVuSans-74\" x=\"259.667969\"/>\n    </g>\n   </g>\n  </g>\n  <g id=\"axes_6\">\n   <g clip-path=\"url(#pfd75ec62e4)\">\n    <image xlink:href=\"data:image/png;base64,\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\" id=\"imagedc8bce7962\" transform=\"scale(1 -1) translate(0 -72)\" x=\"437.657143\" y=\"-22.060982\" width=\"72\" height=\"72\"/>\n   </g>\n   <g id=\"text_6\">\n    <!-- pullover -->\n    <g transform=\"translate(449.202321 16.318125) scale(0.12 -0.12)\">\n     <defs>\n      <path id=\"DejaVuSans-70\" d=\"M 1159 525 \nL 1159 -1331 \nL 581 -1331 \nL 581 3500 \nL 1159 3500 \nL 1159 2969 \nQ 1341 3281 1617 3432 \nQ 1894 3584 2278 3584 \nQ 2916 3584 3314 3078 \nQ 3713 2572 3713 1747 \nQ 3713 922 3314 415 \nQ 2916 -91 2278 -91 \nQ 1894 -91 1617 61 \nQ 1341 213 1159 525 \nz\nM 3116 1747 \nQ 3116 2381 2855 2742 \nQ 2594 3103 2138 3103 \nQ 1681 3103 1420 2742 \nQ 1159 2381 1159 1747 \nQ 1159 1113 1420 752 \nQ 1681 391 2138 391 \nQ 2594 391 2855 752 \nQ 3116 1113 3116 1747 \nz\n\" transform=\"scale(0.015625)\"/>\n      <path id=\"DejaVuSans-75\" d=\"M 544 1381 \nL 544 3500 \nL 1119 3500 \nL 1119 1403 \nQ 1119 906 1312 657 \nQ 1506 409 1894 409 \nQ 2359 409 2629 706 \nQ 2900 1003 2900 1516 \nL 2900 3500 \nL 3475 3500 \nL 3475 0 \nL 2900 0 \nL 2900 538 \nQ 2691 219 2414 64 \nQ 2138 -91 1772 -91 \nQ 1169 -91 856 284 \nQ 544 659 544 1381 \nz\nM 1991 3584 \nL 1991 3584 \nz\n\" transform=\"scale(0.015625)\"/>\n      <path id=\"DejaVuSans-76\" d=\"M 191 3500 \nL 800 3500 \nL 1894 563 \nL 2988 3500 \nL 3597 3500 \nL 2284 0 \nL 1503 0 \nL 191 3500 \nz\n\" transform=\"scale(0.015625)\"/>\n     </defs>\n     <use xlink:href=\"#DejaVuSans-70\"/>\n     <use xlink:href=\"#DejaVuSans-75\" x=\"63.476562\"/>\n     <use xlink:href=\"#DejaVuSans-6c\" x=\"126.855469\"/>\n     <use xlink:href=\"#DejaVuSans-6c\" x=\"154.638672\"/>\n     <use xlink:href=\"#DejaVuSans-6f\" x=\"182.421875\"/>\n     <use xlink:href=\"#DejaVuSans-76\" x=\"243.603516\"/>\n     <use xlink:href=\"#DejaVuSans-65\" x=\"302.783203\"/>\n     <use xlink:href=\"#DejaVuSans-72\" x=\"364.306641\"/>\n    </g>\n   </g>\n  </g>\n  <g id=\"axes_7\">\n   <g clip-path=\"url(#p29e958f1d8)\">\n    <image xlink:href=\"data:image/png;base64,\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\" id=\"image1866a947dd\" transform=\"scale(1 -1) translate(0 -72)\" x=\"7.2\" y=\"-110.112747\" width=\"72\" height=\"72\"/>\n   </g>\n   <g id=\"text_7\">\n    <!-- sneaker -->\n    <g transform=\"translate(19.359241 104.36989) scale(0.12 -0.12)\">\n     <use xlink:href=\"#DejaVuSans-73\"/>\n     <use xlink:href=\"#DejaVuSans-6e\" x=\"52.099609\"/>\n     <use xlink:href=\"#DejaVuSans-65\" x=\"115.478516\"/>\n     <use xlink:href=\"#DejaVuSans-61\" x=\"177.001953\"/>\n     <use xlink:href=\"#DejaVuSans-6b\" x=\"238.28125\"/>\n     <use xlink:href=\"#DejaVuSans-65\" x=\"292.566406\"/>\n     <use xlink:href=\"#DejaVuSans-72\" x=\"354.089844\"/>\n    </g>\n   </g>\n  </g>\n  <g id=\"axes_8\">\n   <g clip-path=\"url(#p3a272c917f)\">\n    <image xlink:href=\"data:image/png;base64,\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\" id=\"imaged9b2289deb\" transform=\"scale(1 -1) translate(0 -72)\" x=\"93.291429\" y=\"-110.112747\" width=\"72\" height=\"72\"/>\n   </g>\n   <g id=\"text_8\">\n    <!-- pullover -->\n    <g transform=\"translate(104.836607 104.36989) scale(0.12 -0.12)\">\n     <use xlink:href=\"#DejaVuSans-70\"/>\n     <use xlink:href=\"#DejaVuSans-75\" x=\"63.476562\"/>\n     <use xlink:href=\"#DejaVuSans-6c\" x=\"126.855469\"/>\n     <use xlink:href=\"#DejaVuSans-6c\" x=\"154.638672\"/>\n     <use xlink:href=\"#DejaVuSans-6f\" x=\"182.421875\"/>\n     <use xlink:href=\"#DejaVuSans-76\" x=\"243.603516\"/>\n     <use xlink:href=\"#DejaVuSans-65\" x=\"302.783203\"/>\n     <use xlink:href=\"#DejaVuSans-72\" x=\"364.306641\"/>\n    </g>\n   </g>\n  </g>\n  <g id=\"axes_9\">\n   <g clip-path=\"url(#pef07b98ce6)\">\n    <image xlink:href=\"data:image/png;base64,\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\" id=\"image0e4a7da3f9\" transform=\"scale(1 -1) translate(0 -72)\" x=\"179.382857\" y=\"-110.112747\" width=\"72\" height=\"72\"/>\n   </g>\n   <g id=\"text_9\">\n    <!-- sandal -->\n    <g transform=\"translate(195.496473 104.36989) scale(0.12 -0.12)\">\n     <use xlink:href=\"#DejaVuSans-73\"/>\n     <use xlink:href=\"#DejaVuSans-61\" x=\"52.099609\"/>\n     <use xlink:href=\"#DejaVuSans-6e\" x=\"113.378906\"/>\n     <use xlink:href=\"#DejaVuSans-64\" x=\"176.757812\"/>\n     <use xlink:href=\"#DejaVuSans-61\" x=\"240.234375\"/>\n     <use xlink:href=\"#DejaVuSans-6c\" x=\"301.513672\"/>\n    </g>\n   </g>\n  </g>\n  <g id=\"axes_10\">\n   <g clip-path=\"url(#p085576baed)\">\n    <image xlink:href=\"data:image/png;base64,\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\" id=\"image3069b38590\" transform=\"scale(1 -1) translate(0 -72)\" x=\"265.474286\" y=\"-110.112747\" width=\"72\" height=\"72\"/>\n   </g>\n   <g id=\"text_10\">\n    <!-- sandal -->\n    <g transform=\"translate(281.587902 104.36989) scale(0.12 -0.12)\">\n     <use xlink:href=\"#DejaVuSans-73\"/>\n     <use xlink:href=\"#DejaVuSans-61\" x=\"52.099609\"/>\n     <use xlink:href=\"#DejaVuSans-6e\" x=\"113.378906\"/>\n     <use xlink:href=\"#DejaVuSans-64\" x=\"176.757812\"/>\n     <use xlink:href=\"#DejaVuSans-61\" x=\"240.234375\"/>\n     <use xlink:href=\"#DejaVuSans-6c\" x=\"301.513672\"/>\n    </g>\n   </g>\n  </g>\n  <g id=\"axes_11\">\n   <g clip-path=\"url(#pa0aa5e4706)\">\n    <image xlink:href=\"data:image/png;base64,\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\" id=\"image47792b07cd\" transform=\"scale(1 -1) translate(0 -72)\" x=\"351.565714\" y=\"-110.112747\" width=\"72\" height=\"72\"/>\n   </g>\n   <g id=\"text_11\">\n    <!-- t-shirt -->\n    <g transform=\"translate(369.506518 104.36989) scale(0.12 -0.12)\">\n     <use xlink:href=\"#DejaVuSans-74\"/>\n     <use xlink:href=\"#DejaVuSans-2d\" x=\"39.208984\"/>\n     <use xlink:href=\"#DejaVuSans-73\" x=\"75.292969\"/>\n     <use xlink:href=\"#DejaVuSans-68\" x=\"127.392578\"/>\n     <use xlink:href=\"#DejaVuSans-69\" x=\"190.771484\"/>\n     <use xlink:href=\"#DejaVuSans-72\" x=\"218.554688\"/>\n     <use xlink:href=\"#DejaVuSans-74\" x=\"259.667969\"/>\n    </g>\n   </g>\n  </g>\n  <g id=\"axes_12\">\n   <g clip-path=\"url(#p1a41360f5e)\">\n    <image xlink:href=\"data:image/png;base64,\niVBORw0KGgoAAAANSUhEUgAAAGQAAABkCAYAAABw4pVUAAAJk0lEQVR4nO1da2wU1xW+M/te75r1+1ETHFPb1NQoD1IKIlELqK1iqS0BqVGTNjgqaR59CaEmomkkpNIXaWlF3CpFVRWgpUFqoKSJUFsFYijEEMABCnEBY2oe9QPbi2HZ50z/3Xu/u5rBdp34UN3v1zn+xjOze/aec+bcc+8YS4zlNvuAYdw7G/R4Q5TLySITuNCQxeXCrlHg7GP/nJz78XrFObNZx+MSS+eBHr5yE3RvX5zL2fMXJuXezFsfovFhQhuEGLRBiMF760MEPA0zuXzma+XAtSw+zOW1FfuAm2Z2TuDW8nEle53LDz27GrjCbe9MyjV61s3nclfrrx2vzxhjb92cweU/LMJ4k710mcuGzw+cnUk7Xl+PEGLQBiGGPJdlRkVKOm23D7iVlTu5XOeNA2dJctwCivXlboCesMRlfQYeHDRyXK7y4FAfkP6v/cU24BYlnwY9vKODTQR2XcKRO5WZBvoj0atcfnluDXAhcFn4NWuXdRtBG4QYtEGIIS+G9D7TzOWXan4K3N7ER7mcs9GWfsn3l3kwZshxgTGMG9UerNzckNSto7XAvXLhk1xeVfd34Pa1vQz6Z3fcxZxg+EVsUksnXl9OPZwjaiZBT1jiZtMRpQQkyXbGuTyjQo8QYtAGIYY8lzVju0jXOh+vBm5BqJvLfbkIcKbkhq5aIeCCRgb0EjPF5RwzgFtz6UEuLy99F7h19Tu5PD+YYghM0W/sruNywee6gbMSzqltYTjpyI3kwsolhWtOVOBvGxPksUOPEGLQBiEGbRBiyIsh2e4eLv9o/SPAvfb99Vxu8uBsXrmngMs5G8sh57LOpYLv9LaA3ipViv88fA9wq8v3cHlAyU7jFqaW++e8xuX7Wp8Crvh3Bx3vJ+TLOHJBEzmPIeJf2i1oKN+HG/QIIQZtEGJwnaAq2YRDe+WmhVyWGwUYY8yYJZ7i3/92FLjzLZtA/8YlMZnTFLkC3MaLS7i85o6/ABeUXMSI4gWiJvqwdil7PbwOJ5rm5YQLi23Gz5jOedhYYUq/51Sls6uzc85P//nn1CAFbRBi0AYhhvwYIvlpMxAAykoKx6xWSe2T73O5YSWesnEdpp17vyLS56fOLwNuQ+2fuJyw0Z/3ZkV5RK0ghxXdz2Qdz9PxYxFTmstxpjE1go0MzudkzJLmSX2Fzqk9s8fei6hHCDFogxCDNggxGONqtjaFLzY86Jch17bc8+6yAzEu/2L6G8CdzQS5nFZ8/z1+EcNCBnakDFvYCP0bpewiY2Gki8ujVhC4Y4laLj9RdAQ4OYYxxlidV8TRpae/DFzgMz2O13eDHiHEoA1CDOPq7ZVdke3mlkyl/KAce/kF0SNc9ArOLppys4SBs4JvJqq4vGvwbuDSFl5zemiYy2srDgDXLWXsvx+cD9yG6rfFbSsuU23qi5jiseDOwqvAXWYTgx4hxKANQgzaIMQwvrT3A8D9x7HL42NB4X239X0CuCUlp7lc5sUZy2WRa47X+G28EvRa/wCXPxXEsnnKFgFmyMJySMLGDpkGn5gl/cHgLOD2zcF0GiCVp9Syih4hxKANQgzjS3vd4DIM3fD6i58G/XmpEtvk3wVcpZSFhk18aj6extS6rV+ct9CLbnFWQLjFxy4sAm5mgXBna0o7gTuZdv5cg5mI8heXfl6X70ePEGLQBiEGbRBimLwY4hY3XEopatfH7hdEOWK6Fyu4l6UwcS6JnWlHEneC/lzF37hcYGK6uu+mKMGoJRc57fYqpZOgoTZ4CzxchGsaH3u1lcu1Xzru+H8q9AghBm0QYpg8l+WGW0xYyXj6zRVc7l6Oy9TWD4kqsU9pani25BjoHkO4vv1JfGqWn+o39mBTX8zjvHbEZOiW5Z0dknYhcD+8eyeXv7sFGzkK3xEV7vI2rETrEUIM2iDEoA1CDB9ODFHgtqNb43MnuPzGg+j7BzPC3z9RvB84tRIbzwl/n7OVtYHMOab5DHE/WeU4vzJjWOUV5ZKOFF7DIx1b+lf8HLEtGDdk6BFCDNogxKANQgxTEkPcdgKV15Cv+mMrcEdWbODy1muNwNX6B0EPS2vhM0xdhCNmCRtjfcCcS1dweV4A17fP9GGJvenAo1w+tWArcLMPivWZNVuc1zSq0COEGLRBiGFKXBbApRJ8x26s9kYeF+mjWuIoU5Zpy3gvNQP04YBolnhg2r+AO5sULitiYrq66wamtrVrpPvbi9esWTaxTZ/1CCEGbRBi0AYhhimPIYYymyfvQmHu7wRu+3UxS1jswbWAGWU9YrU02/ho4WngRixxkQVB3ET/YrrY8V7b6htA739GxJvFpz4PnJf92/E8btAjhBi0QYhhyl2W21O7iu+9u5TLB+/HjZQ3DmEfcNISjXRV/hHgrudEOjsnhK7lxOhHhFJyBri+by0APd4snvjLl7i4KAPdsm6Uu42gDUIM2iDEMOUxJA8uTdvV28RS6MxC5OSYwRhjc8K9XG4OXALuRErEiWZ/P3BvBZy31ij7Qi/oFYt7HY5kE24+1yOEGLRBiIGcyzK8wvWo79kIvn6Iyx0/x2VqatODPJnUmcK0U3ZhR1O4WfRQWlR0N18rBe6qUu0ty7/9/xl6hBCDNggxaIMQA7kYYmedd/eUsb3/PtBjlW+D/suBe7l8MRED7ovlojHbUn6Tm2e0c3ntQBNwR+e+CnrdS1/n8qxfDQOXO4UzkWOFHiHEoA1CDNogxEAuhoy1zHDoIDbKPfnQHtCbwmKt4M+q8LWs8m6i7ymbifbnxB+eLz0J3Ok0rnc3MuL5pvvhEuDKj4rpgNDOQ8C5NZvrEUIM2iDEQM9ljXEj5zLcn5I9gHtQMsZEeeRsBpczR03hsoIGfgWHU8L1tCjvo6rzYUW5dfFeLrc/iW+L9l0Z4bI6J2pbesbwtoE2CDFogxADvRgipb12zvndTbEdnaBf/AnO9Pmll5+mlCa6qJT2jlq4IXNPWhTVhwNdwMkNdowxtqpYbJnxj2t3AZc9LxrwzDCW7d3eo6hHCDFogxADPZclwe3dTXIKzBhjO0Zng14f+A+XYya6iJNpsQ1Gkx83QK6PivegFEmvAmSMMZ+B1wybwt11rcZj61dIimc877XSIAVtEGLQBiEG0jFkPK8s7YjjjnJLa8QavwIDf3dF4NNxqXND+1fFORpxJzi1aXvjMbHzaeM3cYZQvnP7Jq6VdIMeIcSgDUIMU773+2TBmPtx0C+0iNQ2gP0HzJMUH7liD+7kkDuDuzdM/IZ0b+//BbRBiEEbhBj+CzDbsuaV8WM0AAAAAElFTkSuQmCC\" id=\"imagecd6a0eef2b\" transform=\"scale(1 -1) translate(0 -72)\" x=\"437.657143\" y=\"-110.112747\" width=\"72\" height=\"72\"/>\n   </g>\n   <g id=\"text_12\">\n    <!-- ankle boot -->\n    <g transform=\"translate(441.805446 104.36989) scale(0.12 -0.12)\">\n     <use xlink:href=\"#DejaVuSans-61\"/>\n     <use xlink:href=\"#DejaVuSans-6e\" x=\"61.279297\"/>\n     <use xlink:href=\"#DejaVuSans-6b\" x=\"124.658203\"/>\n     <use xlink:href=\"#DejaVuSans-6c\" x=\"182.568359\"/>\n     <use xlink:href=\"#DejaVuSans-65\" x=\"210.351562\"/>\n     <use xlink:href=\"#DejaVuSans-20\" x=\"271.875\"/>\n     <use xlink:href=\"#DejaVuSans-62\" x=\"303.662109\"/>\n     <use xlink:href=\"#DejaVuSans-6f\" x=\"367.138672\"/>\n     <use xlink:href=\"#DejaVuSans-6f\" x=\"428.320312\"/>\n     <use xlink:href=\"#DejaVuSans-74\" x=\"489.501953\"/>\n    </g>\n   </g>\n  </g>\n  <g id=\"axes_13\">\n   <g clip-path=\"url(#pd168b7974b)\">\n    <image xlink:href=\"data:image/png;base64,\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\" id=\"image664d31ee39\" transform=\"scale(1 -1) translate(0 -72)\" x=\"7.2\" y=\"-198.164512\" width=\"72\" height=\"72\"/>\n   </g>\n   <g id=\"text_13\">\n    <!-- sandal -->\n    <g transform=\"translate(23.313616 192.421654) scale(0.12 -0.12)\">\n     <use xlink:href=\"#DejaVuSans-73\"/>\n     <use xlink:href=\"#DejaVuSans-61\" x=\"52.099609\"/>\n     <use xlink:href=\"#DejaVuSans-6e\" x=\"113.378906\"/>\n     <use xlink:href=\"#DejaVuSans-64\" x=\"176.757812\"/>\n     <use xlink:href=\"#DejaVuSans-61\" x=\"240.234375\"/>\n     <use xlink:href=\"#DejaVuSans-6c\" x=\"301.513672\"/>\n    </g>\n   </g>\n  </g>\n  <g id=\"axes_14\">\n   <g clip-path=\"url(#p3b3d2ed8eb)\">\n    <image xlink:href=\"data:image/png;base64,\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\" id=\"image3300aa7d40\" transform=\"scale(1 -1) translate(0 -72)\" x=\"93.291429\" y=\"-198.164512\" width=\"72\" height=\"72\"/>\n   </g>\n   <g id=\"text_14\">\n    <!-- sandal -->\n    <g transform=\"translate(109.405045 192.421654) scale(0.12 -0.12)\">\n     <use xlink:href=\"#DejaVuSans-73\"/>\n     <use xlink:href=\"#DejaVuSans-61\" x=\"52.099609\"/>\n     <use xlink:href=\"#DejaVuSans-6e\" x=\"113.378906\"/>\n     <use xlink:href=\"#DejaVuSans-64\" x=\"176.757812\"/>\n     <use xlink:href=\"#DejaVuSans-61\" x=\"240.234375\"/>\n     <use xlink:href=\"#DejaVuSans-6c\" x=\"301.513672\"/>\n    </g>\n   </g>\n  </g>\n  <g id=\"axes_15\">\n   <g clip-path=\"url(#pb87ba65918)\">\n    <image xlink:href=\"data:image/png;base64,\niVBORw0KGgoAAAANSUhEUgAAAGQAAABkCAYAAABw4pVUAAAEsklEQVR4nO2cy24cRRSGq3umPZ6xceLLGF9CEoRsTEBBIgTCZRWyyCoLRMQDsCHZILFFghVCIB4AiSULHgB5RTYIQcJlAQgRGUsRcuRIiMRjj4fx2NPTza5P/WXGCZFJftD/rU7N6e5q+3PVKVe3HZ2JXsmdoCG+3zcgEAkhQ0LIkBAyJIQMCSFDQsiQEDIkhAwJIUNCyJAQMiSEDAkhQ0LIkBAyJIQMCSFDQsiQEDIkhAwJIUNCyJAQMiSEDAkhQ0LIkBAyJIQMCSFDQsgohx+UJsatMXYwOLpkcdqDVNRNizj3j3PORcGxQI5/npJXK3Zeu4PH+teJb/OzFEfeDUT9jwtyecm7btBHXh3AdmJfZ5RmfbvIS9hHVrFve7K6BjmNEDIkhAwJIaMMNcM517t5yxp+vI9EFasTrof1Ja7VLLW9jed58300PLR3J6lX0zp4ncy/br4/f2L5T67iV5R8fAxyGiFkSAgZZZg+nHN/XHiuiBtPpZCbfejOprD1dhXaw4M4ZZye/rWIWz3sfzSxPqaTdchNJRtFPBh1IRe2H02adp3yMOS2czu2neF5tTgp4mtdzF1PD0D7t269iLs5LvV9NtIatF8cXiriN9+9ADmNEDIkhAwJIaO8+vJR+OCDNz4u4tcXX4Pc2ldTRZxsBhfasoVfJVgDRi38YLE++bfnOefc9pi3KAyuM7psS+RuNdzyCNpeszuMOb9spVjuXBbevH/eILbTCa/GdIPtmczalfEtSP08O1PEk5exLmuEkCEhZES7/htQ7C3fnnkcUs2HbfnWGUOXOyMWpzW8ZNIKpxeLuyN4bO2GHbt5Eod63rDd1qEVXGbOnVuG9qHaehF/8clJ149gRepK3gp9B1e5rtwOzh2yew+ns2TDvo6BYHpvnrBd7IX3W5DTCCFDQsiQEDJ2PTF0mbf7euUnSI1c8eIY5/CS93Qxn6lDrvUITsZbXv3pPoDdbyzYds3o1zgxN47bvXXqWHuePLAK7eU/bWndnum/lI1xd8S157wPIjwvHcCngr1t/wlqUCdnvW2nCnZybMKWutkNLEwaIWRICBkSQkZ0Jj6PE2XkOcqDNyn26emaT+mxOWivvmdlrRRj/41Vq0XJOtawSgPn8GTT7jU/24Bcs2n7JVkHy+jA79aurOE1w3rTnLeaNnQIf9lo3bQnmp++9BHkvmzPF/GlJ7CIaoSQISFklHdNQ/keL7XtxV4vo+0x1fWu4pbH9Ku2Fds7dQxyzXP285MdxpfosvkdaFeHbNvl1jdTkMsP2lR4+BJOi4OfXe57ryEPenF6+gTkzn74fREfKeMW0MVrTxdx3S1BTiOEDAkhQ0LI2L39fk969Z8K3l338fEFaK+8g8vgzootJ1849Qvkvv3cHiscefvOa8bdcv2t56E9+YOtnyuL30FOI4QMCSHj/kxZ9wJvWmydfxZSI0v2wl3249W+5/0bOxO3QyOEDAkhQ0LI+P/WkP8oGiFkSAgZEkKGhJAhIWRICBkSQoaEkCEhZEgIGRJChoSQISFkSAgZEkKGhJAhIWRICBkSQoaEkCEhZEgIGRJChoSQISFkSAgZEkKGhJAhIWRICBkSQsZfQJ0ayRdLRDYAAAAASUVORK5CYII=\" id=\"imagedcbbd6f708\" transform=\"scale(1 -1) translate(0 -72)\" x=\"179.382857\" y=\"-198.164512\" width=\"72\" height=\"72\"/>\n   </g>\n   <g id=\"text_15\">\n    <!-- sneaker -->\n    <g transform=\"translate(191.542098 192.421654) scale(0.12 -0.12)\">\n     <use xlink:href=\"#DejaVuSans-73\"/>\n     <use xlink:href=\"#DejaVuSans-6e\" x=\"52.099609\"/>\n     <use xlink:href=\"#DejaVuSans-65\" x=\"115.478516\"/>\n     <use xlink:href=\"#DejaVuSans-61\" x=\"177.001953\"/>\n     <use xlink:href=\"#DejaVuSans-6b\" x=\"238.28125\"/>\n     <use xlink:href=\"#DejaVuSans-65\" x=\"292.566406\"/>\n     <use xlink:href=\"#DejaVuSans-72\" x=\"354.089844\"/>\n    </g>\n   </g>\n  </g>\n  <g id=\"axes_16\">\n   <g clip-path=\"url(#paade86dd3c)\">\n    <image xlink:href=\"data:image/png;base64,\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\" id=\"image5b43523c2b\" transform=\"scale(1 -1) translate(0 -72)\" x=\"265.474286\" y=\"-198.164512\" width=\"72\" height=\"72\"/>\n   </g>\n   <g id=\"text_16\">\n    <!-- ankle boot -->\n    <g transform=\"translate(269.622589 192.421654) scale(0.12 -0.12)\">\n     <use xlink:href=\"#DejaVuSans-61\"/>\n     <use xlink:href=\"#DejaVuSans-6e\" x=\"61.279297\"/>\n     <use xlink:href=\"#DejaVuSans-6b\" x=\"124.658203\"/>\n     <use xlink:href=\"#DejaVuSans-6c\" x=\"182.568359\"/>\n     <use xlink:href=\"#DejaVuSans-65\" x=\"210.351562\"/>\n     <use xlink:href=\"#DejaVuSans-20\" x=\"271.875\"/>\n     <use xlink:href=\"#DejaVuSans-62\" x=\"303.662109\"/>\n     <use xlink:href=\"#DejaVuSans-6f\" x=\"367.138672\"/>\n     <use xlink:href=\"#DejaVuSans-6f\" x=\"428.320312\"/>\n     <use xlink:href=\"#DejaVuSans-74\" x=\"489.501953\"/>\n    </g>\n   </g>\n  </g>\n  <g id=\"axes_17\">\n   <g clip-path=\"url(#p19857a635c)\">\n    <image xlink:href=\"data:image/png;base64,\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\" id=\"image9631e22396\" transform=\"scale(1 -1) translate(0 -72)\" x=\"351.565714\" y=\"-198.164512\" width=\"72\" height=\"72\"/>\n   </g>\n   <g id=\"text_17\">\n    <!-- trouser -->\n    <g transform=\"translate(365.99558 192.421654) scale(0.12 -0.12)\">\n     <use xlink:href=\"#DejaVuSans-74\"/>\n     <use xlink:href=\"#DejaVuSans-72\" x=\"39.208984\"/>\n     <use xlink:href=\"#DejaVuSans-6f\" x=\"78.072266\"/>\n     <use xlink:href=\"#DejaVuSans-75\" x=\"139.253906\"/>\n     <use xlink:href=\"#DejaVuSans-73\" x=\"202.632812\"/>\n     <use xlink:href=\"#DejaVuSans-65\" x=\"254.732422\"/>\n     <use xlink:href=\"#DejaVuSans-72\" x=\"316.255859\"/>\n    </g>\n   </g>\n  </g>\n  <g id=\"axes_18\">\n   <g clip-path=\"url(#p4aaab852a6)\">\n    <image xlink:href=\"data:image/png;base64,\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\" id=\"image8ab53f6789\" transform=\"scale(1 -1) translate(0 -72)\" x=\"437.657143\" y=\"-198.164512\" width=\"72\" height=\"72\"/>\n   </g>\n   <g id=\"text_18\">\n    <!-- t-shirt -->\n    <g transform=\"translate(455.597946 192.421654) scale(0.12 -0.12)\">\n     <use xlink:href=\"#DejaVuSans-74\"/>\n     <use xlink:href=\"#DejaVuSans-2d\" x=\"39.208984\"/>\n     <use xlink:href=\"#DejaVuSans-73\" x=\"75.292969\"/>\n     <use xlink:href=\"#DejaVuSans-68\" x=\"127.392578\"/>\n     <use xlink:href=\"#DejaVuSans-69\" x=\"190.771484\"/>\n     <use xlink:href=\"#DejaVuSans-72\" x=\"218.554688\"/>\n     <use xlink:href=\"#DejaVuSans-74\" x=\"259.667969\"/>\n    </g>\n   </g>\n  </g>\n </g>\n <defs>\n  <clipPath id=\"p3232fde4bc\">\n   <rect x=\"7.2\" y=\"22.318125\" width=\"71.742857\" height=\"71.742857\"/>\n  </clipPath>\n  <clipPath id=\"p4e6b449c20\">\n   <rect x=\"93.291429\" y=\"22.318125\" width=\"71.742857\" height=\"71.742857\"/>\n  </clipPath>\n  <clipPath id=\"p3622acd5c9\">\n   <rect x=\"179.382857\" y=\"22.318125\" width=\"71.742857\" height=\"71.742857\"/>\n  </clipPath>\n  <clipPath id=\"p688748969f\">\n   <rect x=\"265.474286\" y=\"22.318125\" width=\"71.742857\" height=\"71.742857\"/>\n  </clipPath>\n  <clipPath id=\"pd829aff9c6\">\n   <rect x=\"351.565714\" y=\"22.318125\" width=\"71.742857\" height=\"71.742857\"/>\n  </clipPath>\n  <clipPath id=\"pfd75ec62e4\">\n   <rect x=\"437.657143\" y=\"22.318125\" width=\"71.742857\" height=\"71.742857\"/>\n  </clipPath>\n  <clipPath id=\"p29e958f1d8\">\n   <rect x=\"7.2\" y=\"110.36989\" width=\"71.742857\" height=\"71.742857\"/>\n  </clipPath>\n  <clipPath id=\"p3a272c917f\">\n   <rect x=\"93.291429\" y=\"110.36989\" width=\"71.742857\" height=\"71.742857\"/>\n  </clipPath>\n  <clipPath id=\"pef07b98ce6\">\n   <rect x=\"179.382857\" y=\"110.36989\" width=\"71.742857\" height=\"71.742857\"/>\n  </clipPath>\n  <clipPath id=\"p085576baed\">\n   <rect x=\"265.474286\" y=\"110.36989\" width=\"71.742857\" height=\"71.742857\"/>\n  </clipPath>\n  <clipPath id=\"pa0aa5e4706\">\n   <rect x=\"351.565714\" y=\"110.36989\" width=\"71.742857\" height=\"71.742857\"/>\n  </clipPath>\n  <clipPath id=\"p1a41360f5e\">\n   <rect x=\"437.657143\" y=\"110.36989\" width=\"71.742857\" height=\"71.742857\"/>\n  </clipPath>\n  <clipPath id=\"pd168b7974b\">\n   <rect x=\"7.2\" y=\"198.421654\" width=\"71.742857\" height=\"71.742857\"/>\n  </clipPath>\n  <clipPath id=\"p3b3d2ed8eb\">\n   <rect x=\"93.291429\" y=\"198.421654\" width=\"71.742857\" height=\"71.742857\"/>\n  </clipPath>\n  <clipPath id=\"pb87ba65918\">\n   <rect x=\"179.382857\" y=\"198.421654\" width=\"71.742857\" height=\"71.742857\"/>\n  </clipPath>\n  <clipPath id=\"paade86dd3c\">\n   <rect x=\"265.474286\" y=\"198.421654\" width=\"71.742857\" height=\"71.742857\"/>\n  </clipPath>\n  <clipPath id=\"p19857a635c\">\n   <rect x=\"351.565714\" y=\"198.421654\" width=\"71.742857\" height=\"71.742857\"/>\n  </clipPath>\n  <clipPath id=\"p4aaab852a6\">\n   <rect x=\"437.657143\" y=\"198.421654\" width=\"71.742857\" height=\"71.742857\"/>\n  </clipPath>\n </defs>\n</svg>\n",
      "text/plain": [
       "<Figure size 900x450 with 18 Axes>"
      ]
     },
     "metadata": {},
     "output_type": "display_data"
    }
   ],
   "source": [
    "show_img(X.reshape((18, 28, 28)), 3, 6, title=get_fashion_mnist_labels(y))"
   ]
  },
  {
   "cell_type": "code",
   "execution_count": 8,
   "metadata": {
    "executionInfo": {
     "elapsed": 4,
     "status": "ok",
     "timestamp": 1674224258059,
     "user": {
      "displayName": "周佳林",
      "userId": "18191733824795449952"
     },
     "user_tz": -480
    },
    "id": "ha5wd1phFSfP"
   },
   "outputs": [],
   "source": [
    "batch_size = 256\n",
    "cpu_cores = os.cpu_count()\n",
    "train_iter = data.DataLoader(mnist_train, batch_size, shuffle=True,num_workers=cpu_cores) # 构建数据集"
   ]
  },
  {
   "cell_type": "code",
   "execution_count": 9,
   "metadata": {
    "colab": {
     "base_uri": "https://localhost:8080/"
    },
    "executionInfo": {
     "elapsed": 10563,
     "status": "ok",
     "timestamp": 1674224268619,
     "user": {
      "displayName": "周佳林",
      "userId": "18191733824795449952"
     },
     "user_tz": -480
    },
    "id": "nSmq6ZnSKBKd",
    "outputId": "e7d815a7-3946-4bb2-dd1e-f747373bd465"
   },
   "outputs": [
    {
     "name": "stdout",
     "output_type": "stream",
     "text": [
      "time : 11.588147 sec\n"
     ]
    }
   ],
   "source": [
    "import time\n",
    "\"\"\" 测试读取时间 \"\"\"\n",
    "start = time.perf_counter()\n",
    "for X, y in train_iter:\n",
    "    continue\n",
    "end = time.perf_counter()\n",
    "print(f\"time : {end-start:8f} sec\")\n",
    "# 读取时间要快于训练时间"
   ]
  },
  {
   "cell_type": "markdown",
   "metadata": {
    "id": "AnhOXggujJy6"
   },
   "source": [
    "# Softmax 从零开始"
   ]
  },
  {
   "cell_type": "code",
   "execution_count": 10,
   "metadata": {
    "colab": {
     "base_uri": "https://localhost:8080/"
    },
    "executionInfo": {
     "elapsed": 783,
     "status": "ok",
     "timestamp": 1674224269391,
     "user": {
      "displayName": "周佳林",
      "userId": "18191733824795449952"
     },
     "user_tz": -480
    },
    "id": "zbqli7czKMPd",
    "outputId": "eecd833f-74d6-4737-f9ed-6ce8aee983b2"
   },
   "outputs": [
    {
     "name": "stdout",
     "output_type": "stream",
     "text": [
      "torch.Size([256, 1, 28, 28]) torch.Size([256])\n"
     ]
    },
    {
     "data": {
      "text/plain": [
       "12"
      ]
     },
     "execution_count": 10,
     "metadata": {},
     "output_type": "execute_result"
    }
   ],
   "source": [
    "\"\"\" 数据集 \"\"\"\n",
    "cpu_cores = os.cpu_count()\n",
    "batch_size = 256\n",
    "train_iter = data.DataLoader(mnist_train, batch_size, shuffle=True, num_workers=cpu_cores)\n",
    "test_iter = data.DataLoader(mnist_train, batch_size, shuffle=False, num_workers=cpu_cores)\n",
    "for X, y in test_iter:\n",
    "    print(X.shape, y.shape)\n",
    "    break\n",
    "cpu_cores"
   ]
  },
  {
   "cell_type": "code",
   "execution_count": 11,
   "metadata": {
    "executionInfo": {
     "elapsed": 9,
     "status": "ok",
     "timestamp": 1674224269392,
     "user": {
      "displayName": "周佳林",
      "userId": "18191733824795449952"
     },
     "user_tz": -480
    },
    "id": "zbk7ajyCjwoV"
   },
   "outputs": [],
   "source": [
    "\"\"\" 参数初始化 \"\"\"\n",
    "num_inputs = 28 * 28 # softmax 输入是向量，所以要展平\n",
    "num_outputs = 10\n",
    "W = torch.normal(mean=0, std=0.01, size=(num_inputs, num_outputs), requires_grad=True)\n",
    "b = torch.zeros(num_outputs, requires_grad=True)"
   ]
  },
  {
   "cell_type": "markdown",
   "metadata": {
    "id": "BKeK5SzQlbES"
   },
   "source": [
    "$$Softmax(x) = \\frac{e^{o_i}}{\\sum_k e^{o_k}}$$"
   ]
  },
  {
   "cell_type": "code",
   "execution_count": 12,
   "metadata": {
    "executionInfo": {
     "elapsed": 8,
     "status": "ok",
     "timestamp": 1674224269392,
     "user": {
      "displayName": "周佳林",
      "userId": "18191733824795449952"
     },
     "user_tz": -480
    },
    "id": "hf16-oGdkxZQ"
   },
   "outputs": [],
   "source": [
    "\"\"\" Softmax 实现 \"\"\"\n",
    "def softmax(X):\n",
    "    X_exp = torch.exp(X)\n",
    "    partition = X_exp.sum(1, keepdim=True)\n",
    "    return X_exp / partition # 使用广播机制 "
   ]
  },
  {
   "cell_type": "code",
   "execution_count": 13,
   "metadata": {
    "executionInfo": {
     "elapsed": 8,
     "status": "ok",
     "timestamp": 1674224269392,
     "user": {
      "displayName": "周佳林",
      "userId": "18191733824795449952"
     },
     "user_tz": -480
    },
    "id": "XH8uZVKBl-X0"
   },
   "outputs": [],
   "source": [
    "\"\"\" 网络定义 \"\"\"\n",
    "def net(X):\n",
    "    # 依旧使用的是线性回归 but 十输出\n",
    "    return softmax(torch.matmul(X.reshape(-1, W.shape[0]), W) + b)\n",
    "    # X 应该是 256(batch_size) * 784(input_num)\n",
    "    # X(256x784) x W(784x10) = Out(256x10)\n",
    "    # 广播机制加上偏移"
   ]
  },
  {
   "cell_type": "code",
   "execution_count": 14,
   "metadata": {
    "colab": {
     "base_uri": "https://localhost:8080/"
    },
    "executionInfo": {
     "elapsed": 8,
     "status": "ok",
     "timestamp": 1674224269393,
     "user": {
      "displayName": "周佳林",
      "userId": "18191733824795449952"
     },
     "user_tz": -480
    },
    "id": "lfspf08Vunkh",
    "outputId": "9d73b17e-b400-49e7-eb25-c0a40fb56348"
   },
   "outputs": [
    {
     "name": "stdout",
     "output_type": "stream",
     "text": [
      "tensor([[0., 1., 2.],\n",
      "        [3., 4., 5.]]) 2\n",
      "tensor([0., 5.])\n"
     ]
    }
   ],
   "source": [
    "\"\"\" 索引 \"\"\"\n",
    "y = torch.tensor([0, 2])\n",
    "y_hat = torch.arange(6, dtype=torch.float32).reshape([2, 3])\n",
    "print(y_hat, len(y_hat))\n",
    "print(y_hat[[0, 1], y])\n",
    "# 相当于用 tensor 切片\n",
    "# 前面是行，后面是列"
   ]
  },
  {
   "cell_type": "markdown",
   "metadata": {
    "id": "zgNVJ0tGblJd"
   },
   "source": [
    "$$loss(y, \\hat{y})=-\\sum_iy_i\\log{\\hat{y_i}} = -\\log{\\hat{y_y}}$$"
   ]
  },
  {
   "cell_type": "code",
   "execution_count": 15,
   "metadata": {
    "executionInfo": {
     "elapsed": 7,
     "status": "ok",
     "timestamp": 1674224269393,
     "user": {
      "displayName": "周佳林",
      "userId": "18191733824795449952"
     },
     "user_tz": -480
    },
    "id": "OXHtJUS0a3BC"
   },
   "outputs": [],
   "source": [
    "\"\"\" 交叉熵损失函数 \"\"\"\n",
    "def cross_entropy(y_hat, y):\n",
    "    return -torch.log(y_hat[range(len(y_hat)), y]) # 独热编码，y的值对应 y_hat 应该最大\n",
    "    # 行取 len(y_hat) = 256, 列取 y 真值对应的列"
   ]
  },
  {
   "cell_type": "code",
   "execution_count": 16,
   "metadata": {
    "executionInfo": {
     "elapsed": 7,
     "status": "ok",
     "timestamp": 1674224269393,
     "user": {
      "displayName": "周佳林",
      "userId": "18191733824795449952"
     },
     "user_tz": -480
    },
    "id": "WEUQkaQhdI9p"
   },
   "outputs": [],
   "source": [
    "\"\"\" 与真实值对比 \"\"\"\n",
    "def accuracy(y_hat, y):\n",
    "    \"\"\" 分类问题，统计正确个数 \"\"\"\n",
    "    # y_hat 是二维矩阵，取每一行的最大值\n",
    "    if len(y_hat.shape) > 1 and y_hat.shape[1] > 1:\n",
    "        y_hat = y_hat.argmax(axis=1) # 返回最大值对应的序号\n",
    "    cmp = y_hat.type(y.dtype) == y # 保证 y 和 y_hat 类型相同\n",
    "    # cmp 是 bool 类型\n",
    "    return float(cmp.type(y.dtype).sum())"
   ]
  },
  {
   "cell_type": "code",
   "execution_count": 17,
   "metadata": {},
   "outputs": [
    {
     "data": {
      "text/plain": [
       "0.5"
      ]
     },
     "execution_count": 17,
     "metadata": {},
     "output_type": "execute_result"
    }
   ],
   "source": [
    "accuracy(y_hat, y) / len(y)"
   ]
  },
  {
   "cell_type": "code",
   "execution_count": 18,
   "metadata": {
    "executionInfo": {
     "elapsed": 3,
     "status": "ok",
     "timestamp": 1674224409010,
     "user": {
      "displayName": "周佳林",
      "userId": "18191733824795449952"
     },
     "user_tz": -480
    },
    "id": "ZMgeELfvdss2"
   },
   "outputs": [],
   "source": [
    "class Accumulator: # 累加器对象\n",
    "    \"\"\" 在 n 个变量上累加 \"\"\"\n",
    "    def __init__(self, n):\n",
    "        self.data = [0.0] * n # python 语法 [0]*n将n个list连接在一起\n",
    "\n",
    "    def add(self, *args):\n",
    "        self.data = [a + float(b) for a, b in zip(self.data, args)]\n",
    "        # zip() 将迭代器打包成元组\n",
    "\n",
    "    def reset(self):\n",
    "        self.data = [0.0] * len(self.data)\n",
    "\n",
    "    def __getitem__(self, index):\n",
    "        return self.data[index]"
   ]
  },
  {
   "cell_type": "code",
   "execution_count": 19,
   "metadata": {},
   "outputs": [],
   "source": [
    "\"\"\" 评估 net 的准确性 \"\"\"\n",
    "def evaluate_accuracy(net, data_iter):\n",
    "    if isinstance(net, torch.nn.Module):\n",
    "        net.eval() # 如果是 torch 神经网络，则设置为评估模式，不进行反向传播\n",
    "    accum = Accumulator(2)\n",
    "    for X, y in data_iter:\n",
    "        accum.add(accuracy(net(X), y), y.numel())\n",
    "    return accum[0] / accum[1]\n"
   ]
  },
  {
   "cell_type": "code",
   "execution_count": 20,
   "metadata": {
    "colab": {
     "base_uri": "https://localhost:8080/"
    },
    "executionInfo": {
     "elapsed": 8141,
     "status": "ok",
     "timestamp": 1674224418035,
     "user": {
      "displayName": "周佳林",
      "userId": "18191733824795449952"
     },
     "user_tz": -480
    },
    "id": "Ctv-fA1Qhi51",
    "outputId": "62844f70-73ef-49b8-addd-c83a6e28ea65"
   },
   "outputs": [
    {
     "data": {
      "text/plain": [
       "0.09775"
      ]
     },
     "execution_count": 20,
     "metadata": {},
     "output_type": "execute_result"
    }
   ],
   "source": [
    "evaluate_accuracy(net, test_iter) # 随机正确率约为 10%"
   ]
  },
  {
   "cell_type": "code",
   "execution_count": 21,
   "metadata": {},
   "outputs": [],
   "source": [
    "\"\"\" 梯度下降更新器 \"\"\"\n",
    "def sgd_updater(params, lr, batch_size):\n",
    "    with torch.no_grad():\n",
    "        for param in params:\n",
    "            param -= lr * param.grad / batch_size # 累加梯度\n",
    "            param.grad.zero_() # 梯度清理"
   ]
  },
  {
   "cell_type": "code",
   "execution_count": 22,
   "metadata": {
    "executionInfo": {
     "elapsed": 315,
     "status": "ok",
     "timestamp": 1674225003226,
     "user": {
      "displayName": "周佳林",
      "userId": "18191733824795449952"
     },
     "user_tz": -480
    },
    "id": "TfKJYHBPiGzw"
   },
   "outputs": [],
   "source": [
    "\"\"\" 一轮训练 \"\"\"\n",
    "def train_epoch_ch3(net, train_iter, loss, params, updater, lr):\n",
    "    if isinstance(net, torch.nn.Module):\n",
    "        net.train() # 训练模式，进行反向传播\n",
    "    metric = Accumulator(3)\n",
    "    for X, y in train_iter:\n",
    "        l = loss(net(X), y)\n",
    "        if isinstance(updater, torch.optim.Optimizer):\n",
    "            updater.zero_grad()\n",
    "            l.backward()\n",
    "            updater.step()\n",
    "        else:\n",
    "            l.sum().backward()\n",
    "            updater(params, lr, len(X)) # 更新器需要 batch_size\n",
    "        metric.add(float(l.sum()), accuracy(net(X), y), y.numel())\n",
    "    return metric[0] / metric[2], metric[1] / metric[2]"
   ]
  },
  {
   "cell_type": "code",
   "execution_count": 23,
   "metadata": {},
   "outputs": [],
   "source": [
    "\"\"\" 训练函数 \"\"\"\n",
    "def train_ch3(net, train_iter, test_iter, loss, num_epochs, params, updater, lr):\n",
    "    accumulator = [Accumulator(3) for _ in range(num_epochs)]\n",
    "    for epoch in range(num_epochs):\n",
    "        start = time.perf_counter()\n",
    "        train_metrics = train_epoch_ch3(net, train_iter, loss, params, updater, lr) # 训练误差\n",
    "        test_accuracy = evaluate_accuracy(net, test_iter) # 测试误差\n",
    "        accumulator[epoch].add(train_metrics[0], train_metrics[1], test_accuracy)\n",
    "        end = time.perf_counter()\n",
    "        print(f\"Finish {epoch + 1} train, cose {end-start:.3f} sec\")\n",
    "    return accumulator"
   ]
  },
  {
   "cell_type": "code",
   "execution_count": 24,
   "metadata": {},
   "outputs": [
    {
     "name": "stdout",
     "output_type": "stream",
     "text": [
      "Finish 1 train, cose 21.682 sec\n",
      "Finish 2 train, cose 22.690 sec\n",
      "Finish 3 train, cose 22.382 sec\n",
      "Finish 4 train, cose 21.132 sec\n",
      "Finish 5 train, cose 21.580 sec\n",
      "Finish 6 train, cose 23.186 sec\n",
      "Finish 7 train, cose 22.063 sec\n",
      "Finish 8 train, cose 22.222 sec\n",
      "Finish 9 train, cose 22.025 sec\n",
      "Finish 10 train, cose 21.393 sec\n",
      "Finish 11 train, cose 22.113 sec\n",
      "Finish 12 train, cose 21.940 sec\n",
      "Finish 13 train, cose 21.857 sec\n",
      "Finish 14 train, cose 21.984 sec\n",
      "Finish 15 train, cose 22.356 sec\n",
      "Finish 16 train, cose 21.423 sec\n",
      "Finish 17 train, cose 22.701 sec\n",
      "Finish 18 train, cose 18.810 sec\n",
      "Finish 19 train, cose 10.641 sec\n",
      "Finish 20 train, cose 10.980 sec\n",
      "\n",
      " Totally use 415.173 sec\n"
     ]
    }
   ],
   "source": [
    "\"\"\" 训练 \"\"\"\n",
    "lr = 0.05\n",
    "num_epochs = 20\n",
    "all_start = time.perf_counter()\n",
    "accumulator = train_ch3(net, train_iter, test_iter, cross_entropy, num_epochs, [W, b], sgd_updater, lr)\n",
    "all_end = time.perf_counter()\n",
    "print(f\"\\n Totally use {all_end-all_start:.3f} sec\")"
   ]
  },
  {
   "cell_type": "code",
   "execution_count": 25,
   "metadata": {},
   "outputs": [
    {
     "data": {
      "image/svg+xml": "<?xml version=\"1.0\" encoding=\"utf-8\" standalone=\"no\"?>\n<!DOCTYPE svg PUBLIC \"-//W3C//DTD SVG 1.1//EN\"\n  \"http://www.w3.org/Graphics/SVG/1.1/DTD/svg11.dtd\">\n<svg xmlns:xlink=\"http://www.w3.org/1999/xlink\" width=\"246.28125pt\" height=\"198.474375pt\" viewBox=\"0 0 246.28125 198.474375\" xmlns=\"http://www.w3.org/2000/svg\" version=\"1.1\">\n <metadata>\n  <rdf:RDF xmlns:dc=\"http://purl.org/dc/elements/1.1/\" xmlns:cc=\"http://creativecommons.org/ns#\" xmlns:rdf=\"http://www.w3.org/1999/02/22-rdf-syntax-ns#\">\n   <cc:Work>\n    <dc:type rdf:resource=\"http://purl.org/dc/dcmitype/StillImage\"/>\n    <dc:date>2023-01-21T15:50:39.135201</dc:date>\n    <dc:format>image/svg+xml</dc:format>\n    <dc:creator>\n     <cc:Agent>\n      <dc:title>Matplotlib v3.6.3, https://matplotlib.org/</dc:title>\n     </cc:Agent>\n    </dc:creator>\n   </cc:Work>\n  </rdf:RDF>\n </metadata>\n <defs>\n  <style type=\"text/css\">*{stroke-linejoin: round; stroke-linecap: butt}</style>\n </defs>\n <g id=\"figure_1\">\n  <g id=\"patch_1\">\n   <path d=\"M 0 198.474375 \nL 246.28125 198.474375 \nL 246.28125 0 \nL 0 0 \nz\n\" style=\"fill: #ffffff\"/>\n  </g>\n  <g id=\"axes_1\">\n   <g id=\"patch_2\">\n    <path d=\"M 43.78125 160.918125 \nL 239.08125 160.918125 \nL 239.08125 22.318125 \nL 43.78125 22.318125 \nz\n\" style=\"fill: #ffffff\"/>\n   </g>\n   <g id=\"matplotlib.axis_1\">\n    <g id=\"xtick_1\">\n     <g id=\"line2d_1\">\n      <path d=\"M 52.658523 160.918125 \nL 52.658523 22.318125 \n\" clip-path=\"url(#p04a0ec1251)\" style=\"fill: none; stroke: #b0b0b0; stroke-width: 0.8; stroke-linecap: square\"/>\n     </g>\n     <g id=\"line2d_2\">\n      <defs>\n       <path id=\"mba7f88b1d7\" d=\"M 0 0 \nL 0 3.5 \n\" style=\"stroke: #000000; stroke-width: 0.8\"/>\n      </defs>\n      <g>\n       <use xlink:href=\"#mba7f88b1d7\" x=\"52.658523\" y=\"160.918125\" style=\"stroke: #000000; stroke-width: 0.8\"/>\n      </g>\n     </g>\n     <g id=\"text_1\">\n      <!-- 0 -->\n      <g transform=\"translate(49.477273 175.516563) scale(0.1 -0.1)\">\n       <defs>\n        <path id=\"DejaVuSans-30\" d=\"M 2034 4250 \nQ 1547 4250 1301 3770 \nQ 1056 3291 1056 2328 \nQ 1056 1369 1301 889 \nQ 1547 409 2034 409 \nQ 2525 409 2770 889 \nQ 3016 1369 3016 2328 \nQ 3016 3291 2770 3770 \nQ 2525 4250 2034 4250 \nz\nM 2034 4750 \nQ 2819 4750 3233 4129 \nQ 3647 3509 3647 2328 \nQ 3647 1150 3233 529 \nQ 2819 -91 2034 -91 \nQ 1250 -91 836 529 \nQ 422 1150 422 2328 \nQ 422 3509 836 4129 \nQ 1250 4750 2034 4750 \nz\n\" transform=\"scale(0.015625)\"/>\n       </defs>\n       <use xlink:href=\"#DejaVuSans-30\"/>\n      </g>\n     </g>\n    </g>\n    <g id=\"xtick_2\">\n     <g id=\"line2d_3\">\n      <path d=\"M 99.381011 160.918125 \nL 99.381011 22.318125 \n\" clip-path=\"url(#p04a0ec1251)\" style=\"fill: none; stroke: #b0b0b0; stroke-width: 0.8; stroke-linecap: square\"/>\n     </g>\n     <g id=\"line2d_4\">\n      <g>\n       <use xlink:href=\"#mba7f88b1d7\" x=\"99.381011\" y=\"160.918125\" style=\"stroke: #000000; stroke-width: 0.8\"/>\n      </g>\n     </g>\n     <g id=\"text_2\">\n      <!-- 5 -->\n      <g transform=\"translate(96.199761 175.516563) scale(0.1 -0.1)\">\n       <defs>\n        <path id=\"DejaVuSans-35\" d=\"M 691 4666 \nL 3169 4666 \nL 3169 4134 \nL 1269 4134 \nL 1269 2991 \nQ 1406 3038 1543 3061 \nQ 1681 3084 1819 3084 \nQ 2600 3084 3056 2656 \nQ 3513 2228 3513 1497 \nQ 3513 744 3044 326 \nQ 2575 -91 1722 -91 \nQ 1428 -91 1123 -41 \nQ 819 9 494 109 \nL 494 744 \nQ 775 591 1075 516 \nQ 1375 441 1709 441 \nQ 2250 441 2565 725 \nQ 2881 1009 2881 1497 \nQ 2881 1984 2565 2268 \nQ 2250 2553 1709 2553 \nQ 1456 2553 1204 2497 \nQ 953 2441 691 2322 \nL 691 4666 \nz\n\" transform=\"scale(0.015625)\"/>\n       </defs>\n       <use xlink:href=\"#DejaVuSans-35\"/>\n      </g>\n     </g>\n    </g>\n    <g id=\"xtick_3\">\n     <g id=\"line2d_5\">\n      <path d=\"M 146.103499 160.918125 \nL 146.103499 22.318125 \n\" clip-path=\"url(#p04a0ec1251)\" style=\"fill: none; stroke: #b0b0b0; stroke-width: 0.8; stroke-linecap: square\"/>\n     </g>\n     <g id=\"line2d_6\">\n      <g>\n       <use xlink:href=\"#mba7f88b1d7\" x=\"146.103499\" y=\"160.918125\" style=\"stroke: #000000; stroke-width: 0.8\"/>\n      </g>\n     </g>\n     <g id=\"text_3\">\n      <!-- 10 -->\n      <g transform=\"translate(139.740999 175.516563) scale(0.1 -0.1)\">\n       <defs>\n        <path id=\"DejaVuSans-31\" d=\"M 794 531 \nL 1825 531 \nL 1825 4091 \nL 703 3866 \nL 703 4441 \nL 1819 4666 \nL 2450 4666 \nL 2450 531 \nL 3481 531 \nL 3481 0 \nL 794 0 \nL 794 531 \nz\n\" transform=\"scale(0.015625)\"/>\n       </defs>\n       <use xlink:href=\"#DejaVuSans-31\"/>\n       <use xlink:href=\"#DejaVuSans-30\" x=\"63.623047\"/>\n      </g>\n     </g>\n    </g>\n    <g id=\"xtick_4\">\n     <g id=\"line2d_7\">\n      <path d=\"M 192.825987 160.918125 \nL 192.825987 22.318125 \n\" clip-path=\"url(#p04a0ec1251)\" style=\"fill: none; stroke: #b0b0b0; stroke-width: 0.8; stroke-linecap: square\"/>\n     </g>\n     <g id=\"line2d_8\">\n      <g>\n       <use xlink:href=\"#mba7f88b1d7\" x=\"192.825987\" y=\"160.918125\" style=\"stroke: #000000; stroke-width: 0.8\"/>\n      </g>\n     </g>\n     <g id=\"text_4\">\n      <!-- 15 -->\n      <g transform=\"translate(186.463487 175.516563) scale(0.1 -0.1)\">\n       <use xlink:href=\"#DejaVuSans-31\"/>\n       <use xlink:href=\"#DejaVuSans-35\" x=\"63.623047\"/>\n      </g>\n     </g>\n    </g>\n    <g id=\"text_5\">\n     <!-- epochs -->\n     <g transform=\"translate(123.598438 189.194688) scale(0.1 -0.1)\">\n      <defs>\n       <path id=\"DejaVuSans-65\" d=\"M 3597 1894 \nL 3597 1613 \nL 953 1613 \nQ 991 1019 1311 708 \nQ 1631 397 2203 397 \nQ 2534 397 2845 478 \nQ 3156 559 3463 722 \nL 3463 178 \nQ 3153 47 2828 -22 \nQ 2503 -91 2169 -91 \nQ 1331 -91 842 396 \nQ 353 884 353 1716 \nQ 353 2575 817 3079 \nQ 1281 3584 2069 3584 \nQ 2775 3584 3186 3129 \nQ 3597 2675 3597 1894 \nz\nM 3022 2063 \nQ 3016 2534 2758 2815 \nQ 2500 3097 2075 3097 \nQ 1594 3097 1305 2825 \nQ 1016 2553 972 2059 \nL 3022 2063 \nz\n\" transform=\"scale(0.015625)\"/>\n       <path id=\"DejaVuSans-70\" d=\"M 1159 525 \nL 1159 -1331 \nL 581 -1331 \nL 581 3500 \nL 1159 3500 \nL 1159 2969 \nQ 1341 3281 1617 3432 \nQ 1894 3584 2278 3584 \nQ 2916 3584 3314 3078 \nQ 3713 2572 3713 1747 \nQ 3713 922 3314 415 \nQ 2916 -91 2278 -91 \nQ 1894 -91 1617 61 \nQ 1341 213 1159 525 \nz\nM 3116 1747 \nQ 3116 2381 2855 2742 \nQ 2594 3103 2138 3103 \nQ 1681 3103 1420 2742 \nQ 1159 2381 1159 1747 \nQ 1159 1113 1420 752 \nQ 1681 391 2138 391 \nQ 2594 391 2855 752 \nQ 3116 1113 3116 1747 \nz\n\" transform=\"scale(0.015625)\"/>\n       <path id=\"DejaVuSans-6f\" d=\"M 1959 3097 \nQ 1497 3097 1228 2736 \nQ 959 2375 959 1747 \nQ 959 1119 1226 758 \nQ 1494 397 1959 397 \nQ 2419 397 2687 759 \nQ 2956 1122 2956 1747 \nQ 2956 2369 2687 2733 \nQ 2419 3097 1959 3097 \nz\nM 1959 3584 \nQ 2709 3584 3137 3096 \nQ 3566 2609 3566 1747 \nQ 3566 888 3137 398 \nQ 2709 -91 1959 -91 \nQ 1206 -91 779 398 \nQ 353 888 353 1747 \nQ 353 2609 779 3096 \nQ 1206 3584 1959 3584 \nz\n\" transform=\"scale(0.015625)\"/>\n       <path id=\"DejaVuSans-63\" d=\"M 3122 3366 \nL 3122 2828 \nQ 2878 2963 2633 3030 \nQ 2388 3097 2138 3097 \nQ 1578 3097 1268 2742 \nQ 959 2388 959 1747 \nQ 959 1106 1268 751 \nQ 1578 397 2138 397 \nQ 2388 397 2633 464 \nQ 2878 531 3122 666 \nL 3122 134 \nQ 2881 22 2623 -34 \nQ 2366 -91 2075 -91 \nQ 1284 -91 818 406 \nQ 353 903 353 1747 \nQ 353 2603 823 3093 \nQ 1294 3584 2113 3584 \nQ 2378 3584 2631 3529 \nQ 2884 3475 3122 3366 \nz\n\" transform=\"scale(0.015625)\"/>\n       <path id=\"DejaVuSans-68\" d=\"M 3513 2113 \nL 3513 0 \nL 2938 0 \nL 2938 2094 \nQ 2938 2591 2744 2837 \nQ 2550 3084 2163 3084 \nQ 1697 3084 1428 2787 \nQ 1159 2491 1159 1978 \nL 1159 0 \nL 581 0 \nL 581 4863 \nL 1159 4863 \nL 1159 2956 \nQ 1366 3272 1645 3428 \nQ 1925 3584 2291 3584 \nQ 2894 3584 3203 3211 \nQ 3513 2838 3513 2113 \nz\n\" transform=\"scale(0.015625)\"/>\n       <path id=\"DejaVuSans-73\" d=\"M 2834 3397 \nL 2834 2853 \nQ 2591 2978 2328 3040 \nQ 2066 3103 1784 3103 \nQ 1356 3103 1142 2972 \nQ 928 2841 928 2578 \nQ 928 2378 1081 2264 \nQ 1234 2150 1697 2047 \nL 1894 2003 \nQ 2506 1872 2764 1633 \nQ 3022 1394 3022 966 \nQ 3022 478 2636 193 \nQ 2250 -91 1575 -91 \nQ 1294 -91 989 -36 \nQ 684 19 347 128 \nL 347 722 \nQ 666 556 975 473 \nQ 1284 391 1588 391 \nQ 1994 391 2212 530 \nQ 2431 669 2431 922 \nQ 2431 1156 2273 1281 \nQ 2116 1406 1581 1522 \nL 1381 1569 \nQ 847 1681 609 1914 \nQ 372 2147 372 2553 \nQ 372 3047 722 3315 \nQ 1072 3584 1716 3584 \nQ 2034 3584 2315 3537 \nQ 2597 3491 2834 3397 \nz\n\" transform=\"scale(0.015625)\"/>\n      </defs>\n      <use xlink:href=\"#DejaVuSans-65\"/>\n      <use xlink:href=\"#DejaVuSans-70\" x=\"61.523438\"/>\n      <use xlink:href=\"#DejaVuSans-6f\" x=\"125\"/>\n      <use xlink:href=\"#DejaVuSans-63\" x=\"186.181641\"/>\n      <use xlink:href=\"#DejaVuSans-68\" x=\"241.162109\"/>\n      <use xlink:href=\"#DejaVuSans-73\" x=\"304.541016\"/>\n     </g>\n    </g>\n   </g>\n   <g id=\"matplotlib.axis_2\">\n    <g id=\"ytick_1\">\n     <g id=\"line2d_9\">\n      <path d=\"M 43.78125 139.154427 \nL 239.08125 139.154427 \n\" clip-path=\"url(#p04a0ec1251)\" style=\"fill: none; stroke: #b0b0b0; stroke-width: 0.8; stroke-linecap: square\"/>\n     </g>\n     <g id=\"line2d_10\">\n      <defs>\n       <path id=\"m153865c324\" d=\"M 0 0 \nL -3.5 0 \n\" style=\"stroke: #000000; stroke-width: 0.8\"/>\n      </defs>\n      <g>\n       <use xlink:href=\"#m153865c324\" x=\"43.78125\" y=\"139.154427\" style=\"stroke: #000000; stroke-width: 0.8\"/>\n      </g>\n     </g>\n     <g id=\"text_6\">\n      <!-- 0.5 -->\n      <g transform=\"translate(20.878125 142.953646) scale(0.1 -0.1)\">\n       <defs>\n        <path id=\"DejaVuSans-2e\" d=\"M 684 794 \nL 1344 794 \nL 1344 0 \nL 684 0 \nL 684 794 \nz\n\" transform=\"scale(0.015625)\"/>\n       </defs>\n       <use xlink:href=\"#DejaVuSans-30\"/>\n       <use xlink:href=\"#DejaVuSans-2e\" x=\"63.623047\"/>\n       <use xlink:href=\"#DejaVuSans-35\" x=\"95.410156\"/>\n      </g>\n     </g>\n    </g>\n    <g id=\"ytick_2\">\n     <g id=\"line2d_11\">\n      <path d=\"M 43.78125 112.271041 \nL 239.08125 112.271041 \n\" clip-path=\"url(#p04a0ec1251)\" style=\"fill: none; stroke: #b0b0b0; stroke-width: 0.8; stroke-linecap: square\"/>\n     </g>\n     <g id=\"line2d_12\">\n      <g>\n       <use xlink:href=\"#m153865c324\" x=\"43.78125\" y=\"112.271041\" style=\"stroke: #000000; stroke-width: 0.8\"/>\n      </g>\n     </g>\n     <g id=\"text_7\">\n      <!-- 0.6 -->\n      <g transform=\"translate(20.878125 116.07026) scale(0.1 -0.1)\">\n       <defs>\n        <path id=\"DejaVuSans-36\" d=\"M 2113 2584 \nQ 1688 2584 1439 2293 \nQ 1191 2003 1191 1497 \nQ 1191 994 1439 701 \nQ 1688 409 2113 409 \nQ 2538 409 2786 701 \nQ 3034 994 3034 1497 \nQ 3034 2003 2786 2293 \nQ 2538 2584 2113 2584 \nz\nM 3366 4563 \nL 3366 3988 \nQ 3128 4100 2886 4159 \nQ 2644 4219 2406 4219 \nQ 1781 4219 1451 3797 \nQ 1122 3375 1075 2522 \nQ 1259 2794 1537 2939 \nQ 1816 3084 2150 3084 \nQ 2853 3084 3261 2657 \nQ 3669 2231 3669 1497 \nQ 3669 778 3244 343 \nQ 2819 -91 2113 -91 \nQ 1303 -91 875 529 \nQ 447 1150 447 2328 \nQ 447 3434 972 4092 \nQ 1497 4750 2381 4750 \nQ 2619 4750 2861 4703 \nQ 3103 4656 3366 4563 \nz\n\" transform=\"scale(0.015625)\"/>\n       </defs>\n       <use xlink:href=\"#DejaVuSans-30\"/>\n       <use xlink:href=\"#DejaVuSans-2e\" x=\"63.623047\"/>\n       <use xlink:href=\"#DejaVuSans-36\" x=\"95.410156\"/>\n      </g>\n     </g>\n    </g>\n    <g id=\"ytick_3\">\n     <g id=\"line2d_13\">\n      <path d=\"M 43.78125 85.387654 \nL 239.08125 85.387654 \n\" clip-path=\"url(#p04a0ec1251)\" style=\"fill: none; stroke: #b0b0b0; stroke-width: 0.8; stroke-linecap: square\"/>\n     </g>\n     <g id=\"line2d_14\">\n      <g>\n       <use xlink:href=\"#m153865c324\" x=\"43.78125\" y=\"85.387654\" style=\"stroke: #000000; stroke-width: 0.8\"/>\n      </g>\n     </g>\n     <g id=\"text_8\">\n      <!-- 0.7 -->\n      <g transform=\"translate(20.878125 89.186873) scale(0.1 -0.1)\">\n       <defs>\n        <path id=\"DejaVuSans-37\" d=\"M 525 4666 \nL 3525 4666 \nL 3525 4397 \nL 1831 0 \nL 1172 0 \nL 2766 4134 \nL 525 4134 \nL 525 4666 \nz\n\" transform=\"scale(0.015625)\"/>\n       </defs>\n       <use xlink:href=\"#DejaVuSans-30\"/>\n       <use xlink:href=\"#DejaVuSans-2e\" x=\"63.623047\"/>\n       <use xlink:href=\"#DejaVuSans-37\" x=\"95.410156\"/>\n      </g>\n     </g>\n    </g>\n    <g id=\"ytick_4\">\n     <g id=\"line2d_15\">\n      <path d=\"M 43.78125 58.504268 \nL 239.08125 58.504268 \n\" clip-path=\"url(#p04a0ec1251)\" style=\"fill: none; stroke: #b0b0b0; stroke-width: 0.8; stroke-linecap: square\"/>\n     </g>\n     <g id=\"line2d_16\">\n      <g>\n       <use xlink:href=\"#m153865c324\" x=\"43.78125\" y=\"58.504268\" style=\"stroke: #000000; stroke-width: 0.8\"/>\n      </g>\n     </g>\n     <g id=\"text_9\">\n      <!-- 0.8 -->\n      <g transform=\"translate(20.878125 62.303486) scale(0.1 -0.1)\">\n       <defs>\n        <path id=\"DejaVuSans-38\" d=\"M 2034 2216 \nQ 1584 2216 1326 1975 \nQ 1069 1734 1069 1313 \nQ 1069 891 1326 650 \nQ 1584 409 2034 409 \nQ 2484 409 2743 651 \nQ 3003 894 3003 1313 \nQ 3003 1734 2745 1975 \nQ 2488 2216 2034 2216 \nz\nM 1403 2484 \nQ 997 2584 770 2862 \nQ 544 3141 544 3541 \nQ 544 4100 942 4425 \nQ 1341 4750 2034 4750 \nQ 2731 4750 3128 4425 \nQ 3525 4100 3525 3541 \nQ 3525 3141 3298 2862 \nQ 3072 2584 2669 2484 \nQ 3125 2378 3379 2068 \nQ 3634 1759 3634 1313 \nQ 3634 634 3220 271 \nQ 2806 -91 2034 -91 \nQ 1263 -91 848 271 \nQ 434 634 434 1313 \nQ 434 1759 690 2068 \nQ 947 2378 1403 2484 \nz\nM 1172 3481 \nQ 1172 3119 1398 2916 \nQ 1625 2713 2034 2713 \nQ 2441 2713 2670 2916 \nQ 2900 3119 2900 3481 \nQ 2900 3844 2670 4047 \nQ 2441 4250 2034 4250 \nQ 1625 4250 1398 4047 \nQ 1172 3844 1172 3481 \nz\n\" transform=\"scale(0.015625)\"/>\n       </defs>\n       <use xlink:href=\"#DejaVuSans-30\"/>\n       <use xlink:href=\"#DejaVuSans-2e\" x=\"63.623047\"/>\n       <use xlink:href=\"#DejaVuSans-38\" x=\"95.410156\"/>\n      </g>\n     </g>\n    </g>\n    <g id=\"ytick_5\">\n     <g id=\"line2d_17\">\n      <path d=\"M 43.78125 31.620881 \nL 239.08125 31.620881 \n\" clip-path=\"url(#p04a0ec1251)\" style=\"fill: none; stroke: #b0b0b0; stroke-width: 0.8; stroke-linecap: square\"/>\n     </g>\n     <g id=\"line2d_18\">\n      <g>\n       <use xlink:href=\"#m153865c324\" x=\"43.78125\" y=\"31.620881\" style=\"stroke: #000000; stroke-width: 0.8\"/>\n      </g>\n     </g>\n     <g id=\"text_10\">\n      <!-- 0.9 -->\n      <g transform=\"translate(20.878125 35.4201) scale(0.1 -0.1)\">\n       <defs>\n        <path id=\"DejaVuSans-39\" d=\"M 703 97 \nL 703 672 \nQ 941 559 1184 500 \nQ 1428 441 1663 441 \nQ 2288 441 2617 861 \nQ 2947 1281 2994 2138 \nQ 2813 1869 2534 1725 \nQ 2256 1581 1919 1581 \nQ 1219 1581 811 2004 \nQ 403 2428 403 3163 \nQ 403 3881 828 4315 \nQ 1253 4750 1959 4750 \nQ 2769 4750 3195 4129 \nQ 3622 3509 3622 2328 \nQ 3622 1225 3098 567 \nQ 2575 -91 1691 -91 \nQ 1453 -91 1209 -44 \nQ 966 3 703 97 \nz\nM 1959 2075 \nQ 2384 2075 2632 2365 \nQ 2881 2656 2881 3163 \nQ 2881 3666 2632 3958 \nQ 2384 4250 1959 4250 \nQ 1534 4250 1286 3958 \nQ 1038 3666 1038 3163 \nQ 1038 2656 1286 2365 \nQ 1534 2075 1959 2075 \nz\n\" transform=\"scale(0.015625)\"/>\n       </defs>\n       <use xlink:href=\"#DejaVuSans-30\"/>\n       <use xlink:href=\"#DejaVuSans-2e\" x=\"63.623047\"/>\n       <use xlink:href=\"#DejaVuSans-39\" x=\"95.410156\"/>\n      </g>\n     </g>\n    </g>\n    <g id=\"text_11\">\n     <!-- percent -->\n     <g transform=\"translate(14.798438 110.766563) rotate(-90) scale(0.1 -0.1)\">\n      <defs>\n       <path id=\"DejaVuSans-72\" d=\"M 2631 2963 \nQ 2534 3019 2420 3045 \nQ 2306 3072 2169 3072 \nQ 1681 3072 1420 2755 \nQ 1159 2438 1159 1844 \nL 1159 0 \nL 581 0 \nL 581 3500 \nL 1159 3500 \nL 1159 2956 \nQ 1341 3275 1631 3429 \nQ 1922 3584 2338 3584 \nQ 2397 3584 2469 3576 \nQ 2541 3569 2628 3553 \nL 2631 2963 \nz\n\" transform=\"scale(0.015625)\"/>\n       <path id=\"DejaVuSans-6e\" d=\"M 3513 2113 \nL 3513 0 \nL 2938 0 \nL 2938 2094 \nQ 2938 2591 2744 2837 \nQ 2550 3084 2163 3084 \nQ 1697 3084 1428 2787 \nQ 1159 2491 1159 1978 \nL 1159 0 \nL 581 0 \nL 581 3500 \nL 1159 3500 \nL 1159 2956 \nQ 1366 3272 1645 3428 \nQ 1925 3584 2291 3584 \nQ 2894 3584 3203 3211 \nQ 3513 2838 3513 2113 \nz\n\" transform=\"scale(0.015625)\"/>\n       <path id=\"DejaVuSans-74\" d=\"M 1172 4494 \nL 1172 3500 \nL 2356 3500 \nL 2356 3053 \nL 1172 3053 \nL 1172 1153 \nQ 1172 725 1289 603 \nQ 1406 481 1766 481 \nL 2356 481 \nL 2356 0 \nL 1766 0 \nQ 1100 0 847 248 \nQ 594 497 594 1153 \nL 594 3053 \nL 172 3053 \nL 172 3500 \nL 594 3500 \nL 594 4494 \nL 1172 4494 \nz\n\" transform=\"scale(0.015625)\"/>\n      </defs>\n      <use xlink:href=\"#DejaVuSans-70\"/>\n      <use xlink:href=\"#DejaVuSans-65\" x=\"63.476562\"/>\n      <use xlink:href=\"#DejaVuSans-72\" x=\"125\"/>\n      <use xlink:href=\"#DejaVuSans-63\" x=\"163.863281\"/>\n      <use xlink:href=\"#DejaVuSans-65\" x=\"218.84375\"/>\n      <use xlink:href=\"#DejaVuSans-6e\" x=\"280.367188\"/>\n      <use xlink:href=\"#DejaVuSans-74\" x=\"343.746094\"/>\n     </g>\n    </g>\n   </g>\n   <g id=\"line2d_19\">\n    <path d=\"M 52.658523 28.618125 \nL 62.00302 101.535653 \nL 71.347518 117.431405 \nL 80.692016 125.889017 \nL 90.036513 131.563241 \nL 99.381011 135.589028 \nL 108.725508 138.768792 \nL 118.070006 141.395674 \nL 127.414504 143.403287 \nL 136.759001 145.112403 \nL 146.103499 146.564299 \nL 155.447996 147.976235 \nL 164.792494 149.088886 \nL 174.136992 150.133273 \nL 183.481489 150.991407 \nL 192.825987 151.889004 \nL 202.170484 152.679955 \nL 211.514982 153.328763 \nL 220.85948 154.018466 \nL 230.203977 154.618125 \n\" clip-path=\"url(#p04a0ec1251)\" style=\"fill: none; stroke-dasharray: 5.55,2.4; stroke-dashoffset: 0; stroke: #bf00bf; stroke-width: 1.5\"/>\n   </g>\n   <g id=\"line2d_20\">\n    <path d=\"M 52.658523 76.059119 \nL 62.00302 58.069653 \nL 71.347518 54.162601 \nL 80.692016 51.657965 \nL 90.036513 50.134573 \nL 99.381011 49.368397 \nL 108.725508 48.333386 \nL 118.070006 47.72403 \nL 127.414504 47.195323 \nL 136.759001 46.783111 \nL 146.103499 46.442588 \nL 155.447996 45.97661 \nL 164.792494 45.694334 \nL 174.136992 45.488228 \nL 183.481489 45.049133 \nL 192.825987 44.816143 \nL 202.170484 44.811663 \nL 211.514982 44.511465 \nL 220.85948 44.287437 \nL 230.203977 44.242631 \n\" clip-path=\"url(#p04a0ec1251)\" style=\"fill: none; stroke-dasharray: 1.5,2.475; stroke-dashoffset: 0; stroke: #ff0000; stroke-width: 1.5\"/>\n   </g>\n   <g id=\"line2d_21\">\n    <path d=\"M 52.658523 64.176662 \nL 62.00302 56.671717 \nL 71.347518 54.104353 \nL 80.692016 52.33453 \nL 90.036513 50.891789 \nL 99.381011 50.412368 \nL 108.725508 48.857612 \nL 118.070006 49.31463 \nL 127.414504 48.75904 \nL 136.759001 47.482079 \nL 146.103499 47.17292 \nL 155.447996 46.957853 \nL 164.792494 45.855634 \nL 174.136992 46.85032 \nL 183.481489 45.703295 \nL 192.825987 45.707776 \nL 202.170484 45.810829 \nL 211.514982 45.689853 \nL 220.85948 44.941599 \nL 230.203977 44.999846 \n\" clip-path=\"url(#p04a0ec1251)\" style=\"fill: none; stroke: #008000; stroke-width: 1.5; stroke-linecap: square\"/>\n   </g>\n   <g id=\"patch_3\">\n    <path d=\"M 43.78125 160.918125 \nL 43.78125 22.318125 \n\" style=\"fill: none; stroke: #000000; stroke-width: 0.8; stroke-linejoin: miter; stroke-linecap: square\"/>\n   </g>\n   <g id=\"patch_4\">\n    <path d=\"M 239.08125 160.918125 \nL 239.08125 22.318125 \n\" style=\"fill: none; stroke: #000000; stroke-width: 0.8; stroke-linejoin: miter; stroke-linecap: square\"/>\n   </g>\n   <g id=\"patch_5\">\n    <path d=\"M 43.78125 160.918125 \nL 239.08125 160.918125 \n\" style=\"fill: none; stroke: #000000; stroke-width: 0.8; stroke-linejoin: miter; stroke-linecap: square\"/>\n   </g>\n   <g id=\"patch_6\">\n    <path d=\"M 43.78125 22.318125 \nL 239.08125 22.318125 \n\" style=\"fill: none; stroke: #000000; stroke-width: 0.8; stroke-linejoin: miter; stroke-linecap: square\"/>\n   </g>\n   <g id=\"text_12\">\n    <!-- softmax in 20 epochs -->\n    <g transform=\"translate(76.978125 16.318125) scale(0.12 -0.12)\">\n     <defs>\n      <path id=\"DejaVuSans-66\" d=\"M 2375 4863 \nL 2375 4384 \nL 1825 4384 \nQ 1516 4384 1395 4259 \nQ 1275 4134 1275 3809 \nL 1275 3500 \nL 2222 3500 \nL 2222 3053 \nL 1275 3053 \nL 1275 0 \nL 697 0 \nL 697 3053 \nL 147 3053 \nL 147 3500 \nL 697 3500 \nL 697 3744 \nQ 697 4328 969 4595 \nQ 1241 4863 1831 4863 \nL 2375 4863 \nz\n\" transform=\"scale(0.015625)\"/>\n      <path id=\"DejaVuSans-6d\" d=\"M 3328 2828 \nQ 3544 3216 3844 3400 \nQ 4144 3584 4550 3584 \nQ 5097 3584 5394 3201 \nQ 5691 2819 5691 2113 \nL 5691 0 \nL 5113 0 \nL 5113 2094 \nQ 5113 2597 4934 2840 \nQ 4756 3084 4391 3084 \nQ 3944 3084 3684 2787 \nQ 3425 2491 3425 1978 \nL 3425 0 \nL 2847 0 \nL 2847 2094 \nQ 2847 2600 2669 2842 \nQ 2491 3084 2119 3084 \nQ 1678 3084 1418 2786 \nQ 1159 2488 1159 1978 \nL 1159 0 \nL 581 0 \nL 581 3500 \nL 1159 3500 \nL 1159 2956 \nQ 1356 3278 1631 3431 \nQ 1906 3584 2284 3584 \nQ 2666 3584 2933 3390 \nQ 3200 3197 3328 2828 \nz\n\" transform=\"scale(0.015625)\"/>\n      <path id=\"DejaVuSans-61\" d=\"M 2194 1759 \nQ 1497 1759 1228 1600 \nQ 959 1441 959 1056 \nQ 959 750 1161 570 \nQ 1363 391 1709 391 \nQ 2188 391 2477 730 \nQ 2766 1069 2766 1631 \nL 2766 1759 \nL 2194 1759 \nz\nM 3341 1997 \nL 3341 0 \nL 2766 0 \nL 2766 531 \nQ 2569 213 2275 61 \nQ 1981 -91 1556 -91 \nQ 1019 -91 701 211 \nQ 384 513 384 1019 \nQ 384 1609 779 1909 \nQ 1175 2209 1959 2209 \nL 2766 2209 \nL 2766 2266 \nQ 2766 2663 2505 2880 \nQ 2244 3097 1772 3097 \nQ 1472 3097 1187 3025 \nQ 903 2953 641 2809 \nL 641 3341 \nQ 956 3463 1253 3523 \nQ 1550 3584 1831 3584 \nQ 2591 3584 2966 3190 \nQ 3341 2797 3341 1997 \nz\n\" transform=\"scale(0.015625)\"/>\n      <path id=\"DejaVuSans-78\" d=\"M 3513 3500 \nL 2247 1797 \nL 3578 0 \nL 2900 0 \nL 1881 1375 \nL 863 0 \nL 184 0 \nL 1544 1831 \nL 300 3500 \nL 978 3500 \nL 1906 2253 \nL 2834 3500 \nL 3513 3500 \nz\n\" transform=\"scale(0.015625)\"/>\n      <path id=\"DejaVuSans-20\" transform=\"scale(0.015625)\"/>\n      <path id=\"DejaVuSans-69\" d=\"M 603 3500 \nL 1178 3500 \nL 1178 0 \nL 603 0 \nL 603 3500 \nz\nM 603 4863 \nL 1178 4863 \nL 1178 4134 \nL 603 4134 \nL 603 4863 \nz\n\" transform=\"scale(0.015625)\"/>\n      <path id=\"DejaVuSans-32\" d=\"M 1228 531 \nL 3431 531 \nL 3431 0 \nL 469 0 \nL 469 531 \nQ 828 903 1448 1529 \nQ 2069 2156 2228 2338 \nQ 2531 2678 2651 2914 \nQ 2772 3150 2772 3378 \nQ 2772 3750 2511 3984 \nQ 2250 4219 1831 4219 \nQ 1534 4219 1204 4116 \nQ 875 4013 500 3803 \nL 500 4441 \nQ 881 4594 1212 4672 \nQ 1544 4750 1819 4750 \nQ 2544 4750 2975 4387 \nQ 3406 4025 3406 3419 \nQ 3406 3131 3298 2873 \nQ 3191 2616 2906 2266 \nQ 2828 2175 2409 1742 \nQ 1991 1309 1228 531 \nz\n\" transform=\"scale(0.015625)\"/>\n     </defs>\n     <use xlink:href=\"#DejaVuSans-73\"/>\n     <use xlink:href=\"#DejaVuSans-6f\" x=\"52.099609\"/>\n     <use xlink:href=\"#DejaVuSans-66\" x=\"113.28125\"/>\n     <use xlink:href=\"#DejaVuSans-74\" x=\"146.736328\"/>\n     <use xlink:href=\"#DejaVuSans-6d\" x=\"185.945312\"/>\n     <use xlink:href=\"#DejaVuSans-61\" x=\"283.357422\"/>\n     <use xlink:href=\"#DejaVuSans-78\" x=\"344.636719\"/>\n     <use xlink:href=\"#DejaVuSans-20\" x=\"403.816406\"/>\n     <use xlink:href=\"#DejaVuSans-69\" x=\"435.603516\"/>\n     <use xlink:href=\"#DejaVuSans-6e\" x=\"463.386719\"/>\n     <use xlink:href=\"#DejaVuSans-20\" x=\"526.765625\"/>\n     <use xlink:href=\"#DejaVuSans-32\" x=\"558.552734\"/>\n     <use xlink:href=\"#DejaVuSans-30\" x=\"622.175781\"/>\n     <use xlink:href=\"#DejaVuSans-20\" x=\"685.798828\"/>\n     <use xlink:href=\"#DejaVuSans-65\" x=\"717.585938\"/>\n     <use xlink:href=\"#DejaVuSans-70\" x=\"779.109375\"/>\n     <use xlink:href=\"#DejaVuSans-6f\" x=\"842.585938\"/>\n     <use xlink:href=\"#DejaVuSans-63\" x=\"903.767578\"/>\n     <use xlink:href=\"#DejaVuSans-68\" x=\"958.748047\"/>\n     <use xlink:href=\"#DejaVuSans-73\" x=\"1022.126953\"/>\n    </g>\n   </g>\n   <g id=\"legend_1\">\n    <g id=\"patch_7\">\n     <path d=\"M 126.6875 115.5525 \nL 232.08125 115.5525 \nQ 234.08125 115.5525 234.08125 113.5525 \nL 234.08125 69.68375 \nQ 234.08125 67.68375 232.08125 67.68375 \nL 126.6875 67.68375 \nQ 124.6875 67.68375 124.6875 69.68375 \nL 124.6875 113.5525 \nQ 124.6875 115.5525 126.6875 115.5525 \nz\n\" style=\"fill: #ffffff; opacity: 0.8; stroke: #cccccc; stroke-linejoin: miter\"/>\n    </g>\n    <g id=\"line2d_22\">\n     <path d=\"M 128.6875 75.782188 \nL 138.6875 75.782188 \nL 148.6875 75.782188 \n\" style=\"fill: none; stroke-dasharray: 5.55,2.4; stroke-dashoffset: 0; stroke: #bf00bf; stroke-width: 1.5\"/>\n    </g>\n    <g id=\"text_13\">\n     <!-- train_loss -->\n     <g transform=\"translate(156.6875 79.282188) scale(0.1 -0.1)\">\n      <defs>\n       <path id=\"DejaVuSans-5f\" d=\"M 3263 -1063 \nL 3263 -1509 \nL -63 -1509 \nL -63 -1063 \nL 3263 -1063 \nz\n\" transform=\"scale(0.015625)\"/>\n       <path id=\"DejaVuSans-6c\" d=\"M 603 4863 \nL 1178 4863 \nL 1178 0 \nL 603 0 \nL 603 4863 \nz\n\" transform=\"scale(0.015625)\"/>\n      </defs>\n      <use xlink:href=\"#DejaVuSans-74\"/>\n      <use xlink:href=\"#DejaVuSans-72\" x=\"39.208984\"/>\n      <use xlink:href=\"#DejaVuSans-61\" x=\"80.322266\"/>\n      <use xlink:href=\"#DejaVuSans-69\" x=\"141.601562\"/>\n      <use xlink:href=\"#DejaVuSans-6e\" x=\"169.384766\"/>\n      <use xlink:href=\"#DejaVuSans-5f\" x=\"232.763672\"/>\n      <use xlink:href=\"#DejaVuSans-6c\" x=\"282.763672\"/>\n      <use xlink:href=\"#DejaVuSans-6f\" x=\"310.546875\"/>\n      <use xlink:href=\"#DejaVuSans-73\" x=\"371.728516\"/>\n      <use xlink:href=\"#DejaVuSans-73\" x=\"423.828125\"/>\n     </g>\n    </g>\n    <g id=\"line2d_23\">\n     <path d=\"M 128.6875 90.738438 \nL 138.6875 90.738438 \nL 148.6875 90.738438 \n\" style=\"fill: none; stroke-dasharray: 1.5,2.475; stroke-dashoffset: 0; stroke: #ff0000; stroke-width: 1.5\"/>\n    </g>\n    <g id=\"text_14\">\n     <!-- train_accuracy -->\n     <g transform=\"translate(156.6875 94.238438) scale(0.1 -0.1)\">\n      <defs>\n       <path id=\"DejaVuSans-75\" d=\"M 544 1381 \nL 544 3500 \nL 1119 3500 \nL 1119 1403 \nQ 1119 906 1312 657 \nQ 1506 409 1894 409 \nQ 2359 409 2629 706 \nQ 2900 1003 2900 1516 \nL 2900 3500 \nL 3475 3500 \nL 3475 0 \nL 2900 0 \nL 2900 538 \nQ 2691 219 2414 64 \nQ 2138 -91 1772 -91 \nQ 1169 -91 856 284 \nQ 544 659 544 1381 \nz\nM 1991 3584 \nL 1991 3584 \nz\n\" transform=\"scale(0.015625)\"/>\n       <path id=\"DejaVuSans-79\" d=\"M 2059 -325 \nQ 1816 -950 1584 -1140 \nQ 1353 -1331 966 -1331 \nL 506 -1331 \nL 506 -850 \nL 844 -850 \nQ 1081 -850 1212 -737 \nQ 1344 -625 1503 -206 \nL 1606 56 \nL 191 3500 \nL 800 3500 \nL 1894 763 \nL 2988 3500 \nL 3597 3500 \nL 2059 -325 \nz\n\" transform=\"scale(0.015625)\"/>\n      </defs>\n      <use xlink:href=\"#DejaVuSans-74\"/>\n      <use xlink:href=\"#DejaVuSans-72\" x=\"39.208984\"/>\n      <use xlink:href=\"#DejaVuSans-61\" x=\"80.322266\"/>\n      <use xlink:href=\"#DejaVuSans-69\" x=\"141.601562\"/>\n      <use xlink:href=\"#DejaVuSans-6e\" x=\"169.384766\"/>\n      <use xlink:href=\"#DejaVuSans-5f\" x=\"232.763672\"/>\n      <use xlink:href=\"#DejaVuSans-61\" x=\"282.763672\"/>\n      <use xlink:href=\"#DejaVuSans-63\" x=\"344.042969\"/>\n      <use xlink:href=\"#DejaVuSans-63\" x=\"399.023438\"/>\n      <use xlink:href=\"#DejaVuSans-75\" x=\"454.003906\"/>\n      <use xlink:href=\"#DejaVuSans-72\" x=\"517.382812\"/>\n      <use xlink:href=\"#DejaVuSans-61\" x=\"558.496094\"/>\n      <use xlink:href=\"#DejaVuSans-63\" x=\"619.775391\"/>\n      <use xlink:href=\"#DejaVuSans-79\" x=\"674.755859\"/>\n     </g>\n    </g>\n    <g id=\"line2d_24\">\n     <path d=\"M 128.6875 105.694688 \nL 138.6875 105.694688 \nL 148.6875 105.694688 \n\" style=\"fill: none; stroke: #008000; stroke-width: 1.5; stroke-linecap: square\"/>\n    </g>\n    <g id=\"text_15\">\n     <!-- test_accuracy -->\n     <g transform=\"translate(156.6875 109.194688) scale(0.1 -0.1)\">\n      <use xlink:href=\"#DejaVuSans-74\"/>\n      <use xlink:href=\"#DejaVuSans-65\" x=\"39.208984\"/>\n      <use xlink:href=\"#DejaVuSans-73\" x=\"100.732422\"/>\n      <use xlink:href=\"#DejaVuSans-74\" x=\"152.832031\"/>\n      <use xlink:href=\"#DejaVuSans-5f\" x=\"192.041016\"/>\n      <use xlink:href=\"#DejaVuSans-61\" x=\"242.041016\"/>\n      <use xlink:href=\"#DejaVuSans-63\" x=\"303.320312\"/>\n      <use xlink:href=\"#DejaVuSans-63\" x=\"358.300781\"/>\n      <use xlink:href=\"#DejaVuSans-75\" x=\"413.28125\"/>\n      <use xlink:href=\"#DejaVuSans-72\" x=\"476.660156\"/>\n      <use xlink:href=\"#DejaVuSans-61\" x=\"517.773438\"/>\n      <use xlink:href=\"#DejaVuSans-63\" x=\"579.052734\"/>\n      <use xlink:href=\"#DejaVuSans-79\" x=\"634.033203\"/>\n     </g>\n    </g>\n   </g>\n  </g>\n </g>\n <defs>\n  <clipPath id=\"p04a0ec1251\">\n   <rect x=\"43.78125\" y=\"22.318125\" width=\"195.3\" height=\"138.6\"/>\n  </clipPath>\n </defs>\n</svg>\n",
      "text/plain": [
       "<Figure size 350x250 with 1 Axes>"
      ]
     },
     "metadata": {},
     "output_type": "display_data"
    }
   ],
   "source": [
    "\"\"\" 绘图 \"\"\"\n",
    "backend_inline.set_matplotlib_formats('svg')\n",
    "plt.rcParams[\"figure.figsize\"] = (3.5, 2.5)\n",
    "\n",
    "train_loss, train_accuracy, test_accuracy = [], [], []\n",
    "for i in range(num_epochs):\n",
    "    train_loss.append(accumulator[i][0])\n",
    "    train_accuracy.append(accumulator[i][1])\n",
    "    test_accuracy.append(accumulator[i][2])\n",
    "    \n",
    "plt.plot(list(range(num_epochs)), train_loss, 'm--')\n",
    "plt.plot(list(range(num_epochs)), train_accuracy, 'r:')\n",
    "plt.plot(list(range(num_epochs)), test_accuracy, 'g-')\n",
    "plt.legend([\"train_loss\", \"train_accuracy\", \"test_accuracy\"])\n",
    "plt.xlabel('epochs')\n",
    "plt.ylabel('percent')\n",
    "plt.title(f'softmax in {num_epochs} epochs')\n",
    "plt.grid(True)"
   ]
  },
  {
   "cell_type": "code",
   "execution_count": 26,
   "metadata": {},
   "outputs": [
    {
     "data": {
      "image/svg+xml": "<?xml version=\"1.0\" encoding=\"utf-8\" standalone=\"no\"?>\n<!DOCTYPE svg PUBLIC \"-//W3C//DTD SVG 1.1//EN\"\n  \"http://www.w3.org/Graphics/SVG/1.1/DTD/svg11.dtd\">\n<svg xmlns:xlink=\"http://www.w3.org/1999/xlink\" width=\"348.66pt\" height=\"375.5955pt\" viewBox=\"0 0 348.66 375.5955\" xmlns=\"http://www.w3.org/2000/svg\" version=\"1.1\">\n <metadata>\n  <rdf:RDF xmlns:dc=\"http://purl.org/dc/elements/1.1/\" xmlns:cc=\"http://creativecommons.org/ns#\" xmlns:rdf=\"http://www.w3.org/1999/02/22-rdf-syntax-ns#\">\n   <cc:Work>\n    <dc:type rdf:resource=\"http://purl.org/dc/dcmitype/StillImage\"/>\n    <dc:date>2023-01-21T15:50:43.487833</dc:date>\n    <dc:format>image/svg+xml</dc:format>\n    <dc:creator>\n     <cc:Agent>\n      <dc:title>Matplotlib v3.6.3, https://matplotlib.org/</dc:title>\n     </cc:Agent>\n    </dc:creator>\n   </cc:Work>\n  </rdf:RDF>\n </metadata>\n <defs>\n  <style type=\"text/css\">*{stroke-linejoin: round; stroke-linecap: butt}</style>\n </defs>\n <g id=\"figure_1\">\n  <g id=\"patch_1\">\n   <path d=\"M 0 375.5955 \nL 348.66 375.5955 \nL 348.66 -0 \nL 0 -0 \nz\n\" style=\"fill: #ffffff\"/>\n  </g>\n  <g id=\"axes_1\">\n   <g clip-path=\"url(#p12d8461c44)\">\n    <image xlink:href=\"data:image/png;base64,\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\" id=\"imagedb65fdca14\" transform=\"scale(1 -1) translate(0 -83.52)\" x=\"7.2\" y=\"-35.3955\" width=\"83.52\" height=\"83.52\"/>\n   </g>\n   <g id=\"text_1\">\n    <!-- T:ankle boot -->\n    <g transform=\"translate(12.030938 16.318125) scale(0.12 -0.12)\">\n     <defs>\n      <path id=\"DejaVuSans-54\" d=\"M -19 4666 \nL 3928 4666 \nL 3928 4134 \nL 2272 4134 \nL 2272 0 \nL 1638 0 \nL 1638 4134 \nL -19 4134 \nL -19 4666 \nz\n\" transform=\"scale(0.015625)\"/>\n      <path id=\"DejaVuSans-3a\" d=\"M 750 794 \nL 1409 794 \nL 1409 0 \nL 750 0 \nL 750 794 \nz\nM 750 3309 \nL 1409 3309 \nL 1409 2516 \nL 750 2516 \nL 750 3309 \nz\n\" transform=\"scale(0.015625)\"/>\n      <path id=\"DejaVuSans-61\" d=\"M 2194 1759 \nQ 1497 1759 1228 1600 \nQ 959 1441 959 1056 \nQ 959 750 1161 570 \nQ 1363 391 1709 391 \nQ 2188 391 2477 730 \nQ 2766 1069 2766 1631 \nL 2766 1759 \nL 2194 1759 \nz\nM 3341 1997 \nL 3341 0 \nL 2766 0 \nL 2766 531 \nQ 2569 213 2275 61 \nQ 1981 -91 1556 -91 \nQ 1019 -91 701 211 \nQ 384 513 384 1019 \nQ 384 1609 779 1909 \nQ 1175 2209 1959 2209 \nL 2766 2209 \nL 2766 2266 \nQ 2766 2663 2505 2880 \nQ 2244 3097 1772 3097 \nQ 1472 3097 1187 3025 \nQ 903 2953 641 2809 \nL 641 3341 \nQ 956 3463 1253 3523 \nQ 1550 3584 1831 3584 \nQ 2591 3584 2966 3190 \nQ 3341 2797 3341 1997 \nz\n\" transform=\"scale(0.015625)\"/>\n      <path id=\"DejaVuSans-6e\" d=\"M 3513 2113 \nL 3513 0 \nL 2938 0 \nL 2938 2094 \nQ 2938 2591 2744 2837 \nQ 2550 3084 2163 3084 \nQ 1697 3084 1428 2787 \nQ 1159 2491 1159 1978 \nL 1159 0 \nL 581 0 \nL 581 3500 \nL 1159 3500 \nL 1159 2956 \nQ 1366 3272 1645 3428 \nQ 1925 3584 2291 3584 \nQ 2894 3584 3203 3211 \nQ 3513 2838 3513 2113 \nz\n\" transform=\"scale(0.015625)\"/>\n      <path id=\"DejaVuSans-6b\" d=\"M 581 4863 \nL 1159 4863 \nL 1159 1991 \nL 2875 3500 \nL 3609 3500 \nL 1753 1863 \nL 3688 0 \nL 2938 0 \nL 1159 1709 \nL 1159 0 \nL 581 0 \nL 581 4863 \nz\n\" transform=\"scale(0.015625)\"/>\n      <path id=\"DejaVuSans-6c\" d=\"M 603 4863 \nL 1178 4863 \nL 1178 0 \nL 603 0 \nL 603 4863 \nz\n\" transform=\"scale(0.015625)\"/>\n      <path id=\"DejaVuSans-65\" d=\"M 3597 1894 \nL 3597 1613 \nL 953 1613 \nQ 991 1019 1311 708 \nQ 1631 397 2203 397 \nQ 2534 397 2845 478 \nQ 3156 559 3463 722 \nL 3463 178 \nQ 3153 47 2828 -22 \nQ 2503 -91 2169 -91 \nQ 1331 -91 842 396 \nQ 353 884 353 1716 \nQ 353 2575 817 3079 \nQ 1281 3584 2069 3584 \nQ 2775 3584 3186 3129 \nQ 3597 2675 3597 1894 \nz\nM 3022 2063 \nQ 3016 2534 2758 2815 \nQ 2500 3097 2075 3097 \nQ 1594 3097 1305 2825 \nQ 1016 2553 972 2059 \nL 3022 2063 \nz\n\" transform=\"scale(0.015625)\"/>\n      <path id=\"DejaVuSans-20\" transform=\"scale(0.015625)\"/>\n      <path id=\"DejaVuSans-62\" d=\"M 3116 1747 \nQ 3116 2381 2855 2742 \nQ 2594 3103 2138 3103 \nQ 1681 3103 1420 2742 \nQ 1159 2381 1159 1747 \nQ 1159 1113 1420 752 \nQ 1681 391 2138 391 \nQ 2594 391 2855 752 \nQ 3116 1113 3116 1747 \nz\nM 1159 2969 \nQ 1341 3281 1617 3432 \nQ 1894 3584 2278 3584 \nQ 2916 3584 3314 3078 \nQ 3713 2572 3713 1747 \nQ 3713 922 3314 415 \nQ 2916 -91 2278 -91 \nQ 1894 -91 1617 61 \nQ 1341 213 1159 525 \nL 1159 0 \nL 581 0 \nL 581 4863 \nL 1159 4863 \nL 1159 2969 \nz\n\" transform=\"scale(0.015625)\"/>\n      <path id=\"DejaVuSans-6f\" d=\"M 1959 3097 \nQ 1497 3097 1228 2736 \nQ 959 2375 959 1747 \nQ 959 1119 1226 758 \nQ 1494 397 1959 397 \nQ 2419 397 2687 759 \nQ 2956 1122 2956 1747 \nQ 2956 2369 2687 2733 \nQ 2419 3097 1959 3097 \nz\nM 1959 3584 \nQ 2709 3584 3137 3096 \nQ 3566 2609 3566 1747 \nQ 3566 888 3137 398 \nQ 2709 -91 1959 -91 \nQ 1206 -91 779 398 \nQ 353 888 353 1747 \nQ 353 2609 779 3096 \nQ 1206 3584 1959 3584 \nz\n\" transform=\"scale(0.015625)\"/>\n      <path id=\"DejaVuSans-74\" d=\"M 1172 4494 \nL 1172 3500 \nL 2356 3500 \nL 2356 3053 \nL 1172 3053 \nL 1172 1153 \nQ 1172 725 1289 603 \nQ 1406 481 1766 481 \nL 2356 481 \nL 2356 0 \nL 1766 0 \nQ 1100 0 847 248 \nQ 594 497 594 1153 \nL 594 3053 \nL 172 3053 \nL 172 3500 \nL 594 3500 \nL 594 4494 \nL 1172 4494 \nz\n\" transform=\"scale(0.015625)\"/>\n     </defs>\n     <use xlink:href=\"#DejaVuSans-54\"/>\n     <use xlink:href=\"#DejaVuSans-3a\" x=\"50.083984\"/>\n     <use xlink:href=\"#DejaVuSans-61\" x=\"83.775391\"/>\n     <use xlink:href=\"#DejaVuSans-6e\" x=\"145.054688\"/>\n     <use xlink:href=\"#DejaVuSans-6b\" x=\"208.433594\"/>\n     <use xlink:href=\"#DejaVuSans-6c\" x=\"266.34375\"/>\n     <use xlink:href=\"#DejaVuSans-65\" x=\"294.126953\"/>\n     <use xlink:href=\"#DejaVuSans-20\" x=\"355.650391\"/>\n     <use xlink:href=\"#DejaVuSans-62\" x=\"387.4375\"/>\n     <use xlink:href=\"#DejaVuSans-6f\" x=\"450.914062\"/>\n     <use xlink:href=\"#DejaVuSans-6f\" x=\"512.095703\"/>\n     <use xlink:href=\"#DejaVuSans-74\" x=\"573.277344\"/>\n    </g>\n    <!-- P:ankle boot -->\n    <g transform=\"translate(11.417813 29.7555) scale(0.12 -0.12)\">\n     <defs>\n      <path id=\"DejaVuSans-50\" d=\"M 1259 4147 \nL 1259 2394 \nL 2053 2394 \nQ 2494 2394 2734 2622 \nQ 2975 2850 2975 3272 \nQ 2975 3691 2734 3919 \nQ 2494 4147 2053 4147 \nL 1259 4147 \nz\nM 628 4666 \nL 2053 4666 \nQ 2838 4666 3239 4311 \nQ 3641 3956 3641 3272 \nQ 3641 2581 3239 2228 \nQ 2838 1875 2053 1875 \nL 1259 1875 \nL 1259 0 \nL 628 0 \nL 628 4666 \nz\n\" transform=\"scale(0.015625)\"/>\n     </defs>\n     <use xlink:href=\"#DejaVuSans-50\"/>\n     <use xlink:href=\"#DejaVuSans-3a\" x=\"60.302734\"/>\n     <use xlink:href=\"#DejaVuSans-61\" x=\"93.994141\"/>\n     <use xlink:href=\"#DejaVuSans-6e\" x=\"155.273438\"/>\n     <use xlink:href=\"#DejaVuSans-6b\" x=\"218.652344\"/>\n     <use xlink:href=\"#DejaVuSans-6c\" x=\"276.5625\"/>\n     <use xlink:href=\"#DejaVuSans-65\" x=\"304.345703\"/>\n     <use xlink:href=\"#DejaVuSans-20\" x=\"365.869141\"/>\n     <use xlink:href=\"#DejaVuSans-62\" x=\"397.65625\"/>\n     <use xlink:href=\"#DejaVuSans-6f\" x=\"461.132812\"/>\n     <use xlink:href=\"#DejaVuSans-6f\" x=\"522.314453\"/>\n     <use xlink:href=\"#DejaVuSans-74\" x=\"583.496094\"/>\n    </g>\n   </g>\n  </g>\n  <g id=\"axes_2\">\n   <g clip-path=\"url(#pfe2324bfa1)\">\n    <image xlink:href=\"data:image/png;base64,\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\" id=\"image4006f98a2f\" transform=\"scale(1 -1) translate(0 -83.52)\" x=\"132.75\" y=\"-35.3955\" width=\"83.52\" height=\"83.52\"/>\n   </g>\n   <g id=\"text_2\">\n    <!-- T:t-shirt -->\n    <g transform=\"translate(151.373438 16.318125) scale(0.12 -0.12)\">\n     <defs>\n      <path id=\"DejaVuSans-2d\" d=\"M 313 2009 \nL 1997 2009 \nL 1997 1497 \nL 313 1497 \nL 313 2009 \nz\n\" transform=\"scale(0.015625)\"/>\n      <path id=\"DejaVuSans-73\" d=\"M 2834 3397 \nL 2834 2853 \nQ 2591 2978 2328 3040 \nQ 2066 3103 1784 3103 \nQ 1356 3103 1142 2972 \nQ 928 2841 928 2578 \nQ 928 2378 1081 2264 \nQ 1234 2150 1697 2047 \nL 1894 2003 \nQ 2506 1872 2764 1633 \nQ 3022 1394 3022 966 \nQ 3022 478 2636 193 \nQ 2250 -91 1575 -91 \nQ 1294 -91 989 -36 \nQ 684 19 347 128 \nL 347 722 \nQ 666 556 975 473 \nQ 1284 391 1588 391 \nQ 1994 391 2212 530 \nQ 2431 669 2431 922 \nQ 2431 1156 2273 1281 \nQ 2116 1406 1581 1522 \nL 1381 1569 \nQ 847 1681 609 1914 \nQ 372 2147 372 2553 \nQ 372 3047 722 3315 \nQ 1072 3584 1716 3584 \nQ 2034 3584 2315 3537 \nQ 2597 3491 2834 3397 \nz\n\" transform=\"scale(0.015625)\"/>\n      <path id=\"DejaVuSans-68\" d=\"M 3513 2113 \nL 3513 0 \nL 2938 0 \nL 2938 2094 \nQ 2938 2591 2744 2837 \nQ 2550 3084 2163 3084 \nQ 1697 3084 1428 2787 \nQ 1159 2491 1159 1978 \nL 1159 0 \nL 581 0 \nL 581 4863 \nL 1159 4863 \nL 1159 2956 \nQ 1366 3272 1645 3428 \nQ 1925 3584 2291 3584 \nQ 2894 3584 3203 3211 \nQ 3513 2838 3513 2113 \nz\n\" transform=\"scale(0.015625)\"/>\n      <path id=\"DejaVuSans-69\" d=\"M 603 3500 \nL 1178 3500 \nL 1178 0 \nL 603 0 \nL 603 3500 \nz\nM 603 4863 \nL 1178 4863 \nL 1178 4134 \nL 603 4134 \nL 603 4863 \nz\n\" transform=\"scale(0.015625)\"/>\n      <path id=\"DejaVuSans-72\" d=\"M 2631 2963 \nQ 2534 3019 2420 3045 \nQ 2306 3072 2169 3072 \nQ 1681 3072 1420 2755 \nQ 1159 2438 1159 1844 \nL 1159 0 \nL 581 0 \nL 581 3500 \nL 1159 3500 \nL 1159 2956 \nQ 1341 3275 1631 3429 \nQ 1922 3584 2338 3584 \nQ 2397 3584 2469 3576 \nQ 2541 3569 2628 3553 \nL 2631 2963 \nz\n\" transform=\"scale(0.015625)\"/>\n     </defs>\n     <use xlink:href=\"#DejaVuSans-54\"/>\n     <use xlink:href=\"#DejaVuSans-3a\" x=\"50.083984\"/>\n     <use xlink:href=\"#DejaVuSans-74\" x=\"83.775391\"/>\n     <use xlink:href=\"#DejaVuSans-2d\" x=\"122.984375\"/>\n     <use xlink:href=\"#DejaVuSans-73\" x=\"159.068359\"/>\n     <use xlink:href=\"#DejaVuSans-68\" x=\"211.167969\"/>\n     <use xlink:href=\"#DejaVuSans-69\" x=\"274.546875\"/>\n     <use xlink:href=\"#DejaVuSans-72\" x=\"302.330078\"/>\n     <use xlink:href=\"#DejaVuSans-74\" x=\"343.443359\"/>\n    </g>\n    <!-- P:t-shirt -->\n    <g transform=\"translate(150.760312 29.7555) scale(0.12 -0.12)\">\n     <use xlink:href=\"#DejaVuSans-50\"/>\n     <use xlink:href=\"#DejaVuSans-3a\" x=\"60.302734\"/>\n     <use xlink:href=\"#DejaVuSans-74\" x=\"93.994141\"/>\n     <use xlink:href=\"#DejaVuSans-2d\" x=\"133.203125\"/>\n     <use xlink:href=\"#DejaVuSans-73\" x=\"169.287109\"/>\n     <use xlink:href=\"#DejaVuSans-68\" x=\"221.386719\"/>\n     <use xlink:href=\"#DejaVuSans-69\" x=\"284.765625\"/>\n     <use xlink:href=\"#DejaVuSans-72\" x=\"312.548828\"/>\n     <use xlink:href=\"#DejaVuSans-74\" x=\"353.662109\"/>\n    </g>\n   </g>\n  </g>\n  <g id=\"axes_3\">\n   <g clip-path=\"url(#p2ec99b6f07)\">\n    <image xlink:href=\"data:image/png;base64,\niVBORw0KGgoAAAANSUhEUgAAAHQAAAB0CAYAAABUmhYnAAAFm0lEQVR4nO2dvW8cVRTF3+xHvFlvHK3tmCCIjBRRAEEQKiSEUuCeglBSQIOoKKjo+CdoQIoiWjqEqOiRUlBQQCIKAk4gIFuxNtn1fszuUJ97J/vWeD8eR+fX3d03M299/HTm3jfvTbaXXS/CqskyjIuTd6n29EWI890diAftNbykucTZ/Q524e49d41Jtzu9E3P4HaelsvQrioUiQcmQoGTUVt2BEILzmsr6OsRHb7/sDjnexv/FER4SCvOvWhlHuvDaFsTZeMu1ad2fQLz5zc8Qjzvow6tAI5QMCUqGBCUjSyEPrW5sQPzHR1cgztC6Qggh1I4jJzXHVHL8mTYPdYdX/Wf9bcwzbb92v7gD8fjgcPpFFoBGKBkSlAwJSkYSeeijt16A2HrT2pE3POdxpoyambyzMO3tGSv59D6GEELzAR41auFF+68+B3H9e3moOCUSlAwJSoYEJSOJm6K8gTcXlRF+X5gbnhB8sd22sTdB7i7IMK7booE/wBb864+xTd7Ci9anX3IhaISSIUHJkKBkJOGhrf0+xL2nmhCXFedtIcH6W8wz3elKPNO1MU0m5q/Xu4AeevZkXZgLGqFkSFAyJCgZSXhodWCSSuOP1qtCeIKvzpFZzj8xuevm7f4TWi4PjVAyJCgZEpSMJDw0G4wiDfxHLu9cArZePDHF2tqjAbZfcH/K0AglQ4KSIUHJSMNDR3Zy03xfstDIzXe6BqfqUpjUvHFnZlGV9VD7cPcq0AglQ4KSIUHJSMNDTR5q66hlC4vcR0tI+oqqfZobw0oP89DIGuOFoBFKhgQlQ4KSkYSH2k0z3MKiklquy1WN77pab9k54BrmudySTaMK9yCTaXD4cPpFloBGKBkSlAwJSoYEJSONm6J8ASl45CbINbc3ZnZnzRBc8d1NGgwjE/VLQCOUDAlKhgQlIw0PtUm8LRqUFedjHmmPOaGnluGLDXjSYryKcjyiEUqGBCVDgpKRhIcW3R5+YGvgMxTnYw9eu53FYu1LZsxdbmofvD7WYiUxZyQoGRKUjDQ8NJ++FeY8FiZFJ7xneMjMbqzhHhqbKA8Vc0aCkiFByUjCQzP7gNbqrah0PrTWX/kLNKJohJIhQcmQoGSk4aFN3OZwjC/jdRsihxDieWMszzzpg9rBb7o83Jj+VsXoG4EXgEYoGRKUDAlKRhIemj/4G+JsfBkbzFRnNYfENtUwWM8sW6yUNzCuddGoV+GZFo1QMiQoGRKUDAlKRhI3RZZZdpO2SX7ZK5annTM2aV72+kn7BqjGYXrFeo1QMiQoGRKUjP+Fh+ZNP9lsX+PsnoG2D2LHFivNsJhppkmDFaMRSoYEJUOCkpGmh5ocMCvLMSMT1C6XteeI5LplnmvPaXPhFNAIJUOCkiFByUjSQ8+Yt8+PSkqmrpZrvncT3DNsxAHfl3is/ay6+vW9Do1QMiQoGRKUjCQ91C2szfz/3aQ63QQbR2h4ldz4crNi4shu1SH4t0Dkmg8VC0aCkiFByUjSQ8veDGhpHmAian23cwl/Wn8bz7lxFz323D0sIPcu+D+Nq+/OYUPIeaMRSoYEJUOCkpGkh45aaE7Nf3xhtbOLXd/74AeIX2reh3iz+hjiX/rPQHzz9usQ73yFi5BDCGHQNn+u9NJQjVA2JCgZEpQMCUpGkjdFlSHebeRrPoO/9v4tiN88dwfjxgHE7WoT4sv1nyC+cnUf4k+Kd901t77Gcwxb6Y2H9HokToUEJUOCkpGEh1bbbYiH59Ez3/v4O3fMwxx37br51xsQfz7ClUXd0RmIL653ID5fxye+PnvlW3fNTzvvQLx5K73xkF6PxKmQoGRIUDKyvex6ciXm2u4liH/98FnX5vkv/4Q4/+33ufZhcu2q++zwRdxKbOfGjxAXg8Fc+/Bf0AglQ4KSIUHJ+BcW4VJhsl4sPwAAAABJRU5ErkJggg==\" id=\"image6324ca2df1\" transform=\"scale(1 -1) translate(0 -83.52)\" x=\"258.3\" y=\"-35.3955\" width=\"83.52\" height=\"83.52\"/>\n   </g>\n   <g id=\"text_3\">\n    <!-- T:t-shirt -->\n    <g transform=\"translate(276.923437 16.318125) scale(0.12 -0.12)\">\n     <use xlink:href=\"#DejaVuSans-54\"/>\n     <use xlink:href=\"#DejaVuSans-3a\" x=\"50.083984\"/>\n     <use xlink:href=\"#DejaVuSans-74\" x=\"83.775391\"/>\n     <use xlink:href=\"#DejaVuSans-2d\" x=\"122.984375\"/>\n     <use xlink:href=\"#DejaVuSans-73\" x=\"159.068359\"/>\n     <use xlink:href=\"#DejaVuSans-68\" x=\"211.167969\"/>\n     <use xlink:href=\"#DejaVuSans-69\" x=\"274.546875\"/>\n     <use xlink:href=\"#DejaVuSans-72\" x=\"302.330078\"/>\n     <use xlink:href=\"#DejaVuSans-74\" x=\"343.443359\"/>\n    </g>\n    <!-- P:t-shirt -->\n    <g transform=\"translate(276.310313 29.7555) scale(0.12 -0.12)\">\n     <use xlink:href=\"#DejaVuSans-50\"/>\n     <use xlink:href=\"#DejaVuSans-3a\" x=\"60.302734\"/>\n     <use xlink:href=\"#DejaVuSans-74\" x=\"93.994141\"/>\n     <use xlink:href=\"#DejaVuSans-2d\" x=\"133.203125\"/>\n     <use xlink:href=\"#DejaVuSans-73\" x=\"169.287109\"/>\n     <use xlink:href=\"#DejaVuSans-68\" x=\"221.386719\"/>\n     <use xlink:href=\"#DejaVuSans-69\" x=\"284.765625\"/>\n     <use xlink:href=\"#DejaVuSans-72\" x=\"312.548828\"/>\n     <use xlink:href=\"#DejaVuSans-74\" x=\"353.662109\"/>\n    </g>\n   </g>\n  </g>\n  <g id=\"axes_4\">\n   <g clip-path=\"url(#pe14c2899ca)\">\n    <image xlink:href=\"data:image/png;base64,\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\" id=\"image86712f8a7b\" transform=\"scale(1 -1) translate(0 -83.52)\" x=\"7.2\" y=\"-160.1355\" width=\"83.52\" height=\"83.52\"/>\n   </g>\n   <g id=\"text_4\">\n    <!-- T:dress -->\n    <g transform=\"translate(27.670313 141.058125) scale(0.12 -0.12)\">\n     <defs>\n      <path id=\"DejaVuSans-64\" d=\"M 2906 2969 \nL 2906 4863 \nL 3481 4863 \nL 3481 0 \nL 2906 0 \nL 2906 525 \nQ 2725 213 2448 61 \nQ 2172 -91 1784 -91 \nQ 1150 -91 751 415 \nQ 353 922 353 1747 \nQ 353 2572 751 3078 \nQ 1150 3584 1784 3584 \nQ 2172 3584 2448 3432 \nQ 2725 3281 2906 2969 \nz\nM 947 1747 \nQ 947 1113 1208 752 \nQ 1469 391 1925 391 \nQ 2381 391 2643 752 \nQ 2906 1113 2906 1747 \nQ 2906 2381 2643 2742 \nQ 2381 3103 1925 3103 \nQ 1469 3103 1208 2742 \nQ 947 2381 947 1747 \nz\n\" transform=\"scale(0.015625)\"/>\n     </defs>\n     <use xlink:href=\"#DejaVuSans-54\"/>\n     <use xlink:href=\"#DejaVuSans-3a\" x=\"50.083984\"/>\n     <use xlink:href=\"#DejaVuSans-64\" x=\"83.775391\"/>\n     <use xlink:href=\"#DejaVuSans-72\" x=\"147.251953\"/>\n     <use xlink:href=\"#DejaVuSans-65\" x=\"186.115234\"/>\n     <use xlink:href=\"#DejaVuSans-73\" x=\"247.638672\"/>\n     <use xlink:href=\"#DejaVuSans-73\" x=\"299.738281\"/>\n    </g>\n    <!-- P:t-shirt -->\n    <g transform=\"translate(25.210313 154.4955) scale(0.12 -0.12)\">\n     <use xlink:href=\"#DejaVuSans-50\"/>\n     <use xlink:href=\"#DejaVuSans-3a\" x=\"60.302734\"/>\n     <use xlink:href=\"#DejaVuSans-74\" x=\"93.994141\"/>\n     <use xlink:href=\"#DejaVuSans-2d\" x=\"133.203125\"/>\n     <use xlink:href=\"#DejaVuSans-73\" x=\"169.287109\"/>\n     <use xlink:href=\"#DejaVuSans-68\" x=\"221.386719\"/>\n     <use xlink:href=\"#DejaVuSans-69\" x=\"284.765625\"/>\n     <use xlink:href=\"#DejaVuSans-72\" x=\"312.548828\"/>\n     <use xlink:href=\"#DejaVuSans-74\" x=\"353.662109\"/>\n    </g>\n   </g>\n  </g>\n  <g id=\"axes_5\">\n   <g clip-path=\"url(#p6c406432d7)\">\n    <image xlink:href=\"data:image/png;base64,\niVBORw0KGgoAAAANSUhEUgAAAHQAAAB0CAYAAABUmhYnAAAG20lEQVR4nO2dT2wUZRjG35npdrf7p10KtEBVUmsrISER2hqD6EUkhuAJogcPXkyUi1FJPHryoOEgBw/+SYweTDSkejDRYKJBKCpWjAZbtNBS01paSput2y67O50Zz8/7TXZp4nYmr+/v9kxn5pvm2S/PzPfXOmgdCyjmlJ980Di2uLsJdMsjt0B3vFgFvTY5BXr83UHQma0l0NmhnFFm28c/1n3WqLGjfgDlv0UNFYYaKoym+qc0nuDhB0B/ffpD0NfdYeOaJb8ZdH8S9cBjx0FvZhl68fAp0B1OBsvsXzHK7D6ZBb3/5RdA5z6NPmO1hgpDDRWGGiqMWGSomZmYXyOVLuOakp8E3Z+8CTp906tZ5vnb20Hvap4HPeF2mGUGi6C/f+sd0IcvPwXaGxuv+QyNQGuoMNRQYaihwogkQ2df3Q96gn1nTribQOdtbGclInKD2o8e2FbNvw+mZkEXfLxfq102rpley4NOWZipV15pBd33XM1HaAhaQ4WhhgpDDRWGGiqMSF6KOg7NgG638Xd1lf3OEtaacY95t40dwReUahbvkWZnpy320mRjGUsh7RIpywW9xXFAD+66DnrZvEXD0RoqDDVUGGqoMCLJ0MkpbPie7MHHOFe8H3Rfy5xxj6yDH/7nWDvAJ6+fBH35NSzzmpsCPV7tBF30W4wyExYG61ZnAvTIeDfoPpbrG4HWUGGoocJQQ4URSYZ2fYXfb/2HcYDXGacCmmcXEZFNPui5Nfwu7XKwk5xn4pKHA744GbtiHPuugNn+eBo7sLNj+H9EgdZQYaihwlBDhRFJhrZdmALtBZiHaZahXlC7s5rI7PBe8DAzCx625vJcTlk4uSllY7stEdHwZA/o0jZ8F9g8Zl6z0WgNFYYaKgw1VBiRZOjaHA5qvlTFPMuxAVrlwPy+49+JPGdtC3OZ92W6Aeafb+Fvu+Dh5CUiojcGPgPd6WAZLWdH8Z7GHRqP1lBhqKHCUEOFEYvJSkMFXMBib/ov0Ish7a4OSyiPMBPLQQLPZ5nKM5RT8RPGsWm/HfQZVoZfMgeEbzRaQ4WhhgpDDRVGLDL09G/9oB898AfoWTZ5iYjIc2r/FsshGViLKmsLvrVm5nZPEr+f37xyCPR2urKuMhuB1lBhqKHCUEOFoYYKIxYvRVvOYuO7cwAXCA1rBKjX6e2z3yofVMbhDQk2mYuUPpPDlVY+eK/2QLMo0BoqDDVUGGqoMGKRoe2X/wH9RBo7ryeq5ook9TKSN87z8zk8p3OOWeaFCt4j+eVIzXtGgdZQYaihwlBDhRGLDA0u4eCqZf826LDJSl7AMpR1YFdZJvLzPeIav2v5QDUiop9L9xrH4obWUGGoocJQQ4URiwzl+EH9zZ74dyMfBMbhmcnhbblbm4rGOZ/f2MuOzBjnRI3WUGGoocJQQ4URywz1QvoizXPYdyT7zuQTgPnA7Apr6y152CebDlk04+oMLl7VqxmqNBo1VBhqqDBimaHuHXyHcnim8oHW/LuVa9vCMvkEYSIieyH6haXqoTVUGGqoMNRQYcQyQxN8gf87wJwAXLv/k/ef+mycb1jbsJeJYhmM9aE1VBhqqDDUUGGoocKI5UvRJtvckYHDX4Lq/p29Z/GBZ0m2sxJv7CcisnPRr7ZZD62hwlBDhaGGCiMWGdrUvZMd+QVU2ITfks8mCbNO8SRbkZpnKp/MVGFbNpf8pFFmvm3VOBY3tIYKQw0VhhoqjFhkqLsDVwobWjVXDuPwgdB8JbBltisEn3zE9Q3Kgw7bFSKVMHcajhtaQ4WhhgpDDRVGLDJ05S7cbTdv48rQ80HeuIa3xeYdvObZVlwVe9LFTBwp3wO6L4W7CLez3Q2JzE7wOKI1VBhqqDDUUGHEJEPxd8V3TQpryy16mLtHMjhx6MjTx0HPncDdB78ZeB/06eIu0H5If2hXdhmfwTgjerSGCkMNFYYaKoxYZGixD78ReV8lHxRNRHR38yLoNjYOyR7+FS84sRtkh4O7D/LMXA3ZEXFnegn078YZ0aM1VBhqqDDUUGHEIkO7dmIerrLxPGGTbzfbOL6n3qYCD+3Att1xF6/ni2QUPXNs8HyllR0p1CwzCrSGCkMNFYYaKgw1VBixeCnqzS+Abmad1/tapoxrtjn4EnO+jC8sVz/aB/pU59ugE2xg9p7UNOixSpdR5p7c36C/pYxxTtRoDRWGGioMNVQYscjQioePcXG1B/RocbtxzcrzW0B7o3+C7mUTnl6i/aCd+7pBH/3iB9DbEgWjzJ+KuCuEk8cGEK+AHeBRoDVUGGqoMNRQYVgHrWPrX/ryfwDPWCIi79r1CJ5kfWgNFYYaKgw1VBj/Anurw6lwaBUbAAAAAElFTkSuQmCC\" id=\"imagef82ad8eab5\" transform=\"scale(1 -1) translate(0 -83.52)\" x=\"132.75\" y=\"-160.1355\" width=\"83.52\" height=\"83.52\"/>\n   </g>\n   <g id=\"text_5\">\n    <!-- T:t-shirt -->\n    <g transform=\"translate(151.373438 141.058125) scale(0.12 -0.12)\">\n     <use xlink:href=\"#DejaVuSans-54\"/>\n     <use xlink:href=\"#DejaVuSans-3a\" x=\"50.083984\"/>\n     <use xlink:href=\"#DejaVuSans-74\" x=\"83.775391\"/>\n     <use xlink:href=\"#DejaVuSans-2d\" x=\"122.984375\"/>\n     <use xlink:href=\"#DejaVuSans-73\" x=\"159.068359\"/>\n     <use xlink:href=\"#DejaVuSans-68\" x=\"211.167969\"/>\n     <use xlink:href=\"#DejaVuSans-69\" x=\"274.546875\"/>\n     <use xlink:href=\"#DejaVuSans-72\" x=\"302.330078\"/>\n     <use xlink:href=\"#DejaVuSans-74\" x=\"343.443359\"/>\n    </g>\n    <!-- P:dress -->\n    <g transform=\"translate(152.607188 154.4955) scale(0.12 -0.12)\">\n     <use xlink:href=\"#DejaVuSans-50\"/>\n     <use xlink:href=\"#DejaVuSans-3a\" x=\"60.302734\"/>\n     <use xlink:href=\"#DejaVuSans-64\" x=\"93.994141\"/>\n     <use xlink:href=\"#DejaVuSans-72\" x=\"157.470703\"/>\n     <use xlink:href=\"#DejaVuSans-65\" x=\"196.333984\"/>\n     <use xlink:href=\"#DejaVuSans-73\" x=\"257.857422\"/>\n     <use xlink:href=\"#DejaVuSans-73\" x=\"309.957031\"/>\n    </g>\n   </g>\n  </g>\n  <g id=\"axes_6\">\n   <g clip-path=\"url(#pbaa0a2d610)\">\n    <image xlink:href=\"data:image/png;base64,\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\" id=\"image8c84d465da\" transform=\"scale(1 -1) translate(0 -83.52)\" x=\"258.3\" y=\"-160.1355\" width=\"83.52\" height=\"83.52\"/>\n   </g>\n   <g id=\"text_6\">\n    <!-- T:pullover -->\n    <g transform=\"translate(270.527812 141.058125) scale(0.12 -0.12)\">\n     <defs>\n      <path id=\"DejaVuSans-70\" d=\"M 1159 525 \nL 1159 -1331 \nL 581 -1331 \nL 581 3500 \nL 1159 3500 \nL 1159 2969 \nQ 1341 3281 1617 3432 \nQ 1894 3584 2278 3584 \nQ 2916 3584 3314 3078 \nQ 3713 2572 3713 1747 \nQ 3713 922 3314 415 \nQ 2916 -91 2278 -91 \nQ 1894 -91 1617 61 \nQ 1341 213 1159 525 \nz\nM 3116 1747 \nQ 3116 2381 2855 2742 \nQ 2594 3103 2138 3103 \nQ 1681 3103 1420 2742 \nQ 1159 2381 1159 1747 \nQ 1159 1113 1420 752 \nQ 1681 391 2138 391 \nQ 2594 391 2855 752 \nQ 3116 1113 3116 1747 \nz\n\" transform=\"scale(0.015625)\"/>\n      <path id=\"DejaVuSans-75\" d=\"M 544 1381 \nL 544 3500 \nL 1119 3500 \nL 1119 1403 \nQ 1119 906 1312 657 \nQ 1506 409 1894 409 \nQ 2359 409 2629 706 \nQ 2900 1003 2900 1516 \nL 2900 3500 \nL 3475 3500 \nL 3475 0 \nL 2900 0 \nL 2900 538 \nQ 2691 219 2414 64 \nQ 2138 -91 1772 -91 \nQ 1169 -91 856 284 \nQ 544 659 544 1381 \nz\nM 1991 3584 \nL 1991 3584 \nz\n\" transform=\"scale(0.015625)\"/>\n      <path id=\"DejaVuSans-76\" d=\"M 191 3500 \nL 800 3500 \nL 1894 563 \nL 2988 3500 \nL 3597 3500 \nL 2284 0 \nL 1503 0 \nL 191 3500 \nz\n\" transform=\"scale(0.015625)\"/>\n     </defs>\n     <use xlink:href=\"#DejaVuSans-54\"/>\n     <use xlink:href=\"#DejaVuSans-3a\" x=\"50.083984\"/>\n     <use xlink:href=\"#DejaVuSans-70\" x=\"83.775391\"/>\n     <use xlink:href=\"#DejaVuSans-75\" x=\"147.251953\"/>\n     <use xlink:href=\"#DejaVuSans-6c\" x=\"210.630859\"/>\n     <use xlink:href=\"#DejaVuSans-6c\" x=\"238.414062\"/>\n     <use xlink:href=\"#DejaVuSans-6f\" x=\"266.197266\"/>\n     <use xlink:href=\"#DejaVuSans-76\" x=\"327.378906\"/>\n     <use xlink:href=\"#DejaVuSans-65\" x=\"386.558594\"/>\n     <use xlink:href=\"#DejaVuSans-72\" x=\"448.082031\"/>\n    </g>\n    <!-- P:pullover -->\n    <g transform=\"translate(269.914688 154.4955) scale(0.12 -0.12)\">\n     <use xlink:href=\"#DejaVuSans-50\"/>\n     <use xlink:href=\"#DejaVuSans-3a\" x=\"60.302734\"/>\n     <use xlink:href=\"#DejaVuSans-70\" x=\"93.994141\"/>\n     <use xlink:href=\"#DejaVuSans-75\" x=\"157.470703\"/>\n     <use xlink:href=\"#DejaVuSans-6c\" x=\"220.849609\"/>\n     <use xlink:href=\"#DejaVuSans-6c\" x=\"248.632812\"/>\n     <use xlink:href=\"#DejaVuSans-6f\" x=\"276.416016\"/>\n     <use xlink:href=\"#DejaVuSans-76\" x=\"337.597656\"/>\n     <use xlink:href=\"#DejaVuSans-65\" x=\"396.777344\"/>\n     <use xlink:href=\"#DejaVuSans-72\" x=\"458.300781\"/>\n    </g>\n   </g>\n  </g>\n  <g id=\"axes_7\">\n   <g clip-path=\"url(#p7f81a30609)\">\n    <image xlink:href=\"data:image/png;base64,\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\" id=\"image3e58415515\" transform=\"scale(1 -1) translate(0 -83.52)\" x=\"7.2\" y=\"-284.8755\" width=\"83.52\" height=\"83.52\"/>\n   </g>\n   <g id=\"text_7\">\n    <!-- T:sneaker -->\n    <g transform=\"translate(20.041875 265.798125) scale(0.12 -0.12)\">\n     <use xlink:href=\"#DejaVuSans-54\"/>\n     <use xlink:href=\"#DejaVuSans-3a\" x=\"50.083984\"/>\n     <use xlink:href=\"#DejaVuSans-73\" x=\"83.775391\"/>\n     <use xlink:href=\"#DejaVuSans-6e\" x=\"135.875\"/>\n     <use xlink:href=\"#DejaVuSans-65\" x=\"199.253906\"/>\n     <use xlink:href=\"#DejaVuSans-61\" x=\"260.777344\"/>\n     <use xlink:href=\"#DejaVuSans-6b\" x=\"322.056641\"/>\n     <use xlink:href=\"#DejaVuSans-65\" x=\"376.341797\"/>\n     <use xlink:href=\"#DejaVuSans-72\" x=\"437.865234\"/>\n    </g>\n    <!-- P:sneaker -->\n    <g transform=\"translate(19.42875 279.2355) scale(0.12 -0.12)\">\n     <use xlink:href=\"#DejaVuSans-50\"/>\n     <use xlink:href=\"#DejaVuSans-3a\" x=\"60.302734\"/>\n     <use xlink:href=\"#DejaVuSans-73\" x=\"93.994141\"/>\n     <use xlink:href=\"#DejaVuSans-6e\" x=\"146.09375\"/>\n     <use xlink:href=\"#DejaVuSans-65\" x=\"209.472656\"/>\n     <use xlink:href=\"#DejaVuSans-61\" x=\"270.996094\"/>\n     <use xlink:href=\"#DejaVuSans-6b\" x=\"332.275391\"/>\n     <use xlink:href=\"#DejaVuSans-65\" x=\"386.560547\"/>\n     <use xlink:href=\"#DejaVuSans-72\" x=\"448.083984\"/>\n    </g>\n   </g>\n  </g>\n  <g id=\"axes_8\">\n   <g clip-path=\"url(#p338e929030)\">\n    <image xlink:href=\"data:image/png;base64,\niVBORw0KGgoAAAANSUhEUgAAAHQAAAB0CAYAAABUmhYnAAAJk0lEQVR4nO1dXWwcVxW+M7OzXmxv7Nixk7h1qv6mltKnqoZGBVEplRBIhCopL5UqtaF/6kORqBARyQMq4gUQIKUgFYTUvkARjxVKUPMCKI3aNHEb0lSOipOmceIkdjdxYu/u7MzwgET9ffdq7k5/aHM439s3O3Pn7py9+917zrlngi3B9tyUQRBYh849fTfw2gI22X+mDbyy/w1sMq4CzxM8/1pBUKkAzzsd4PM78Dn9fvcvgDeymtXmD3Y+Abz+0sHCPoTeXiquKahBhUENKgwV/ymE3Jbc3z79K+CTPTHwh059Bfjcfrw+7PsC8LRxbWqoCYrHR3ME5x/rohT4WHTVuiYvOeR0hAqDGlQY1KDCUFpDo4lbrWON9BjwmeQD4FNz1wFfby4DTxuXynbDmDACGkTM8beaO7QfkPmX43mKmmcy5HknKby+eccy8P4A5xrHHZcPPHoa7/GH4j7qCBUGNagwqEGFIfD5cqO1o8D/cuSv1jlTrRbwOMiA3xKjVH/zurtKdVIKdkzPAN9cOwP8QBPnGsYYs60P5yMTLz4F/MadrwLXESoMalBhUIMKgxpUGLyOhUsv9HsbOZMOAB8O0cncE+Ci/9NA2NeHfGg1nUCBeXYkkOMhbzate6QX5z9y/4wx5tv96EA51sbnMhxdsa6Zz9AZccPk+4X30BEqDGpQYVCDCoNXQzklbCax/+eT3K+zRZj+zSTwPfe9CPymyoJ1zUS1F/j+ZdKjcKnwnm36LWcUSb7sSNi6p4Zzg1aOSWA/Pn8P8L8990VqYQpYSk/3atZj3XM0wrnBuX3jwMcMOu91hAqDGlQY1KDC4NXQ5QRPuTG29fLlK8PAx3tZ81DfFh7BhOMD3/gp8IEQE69nOnZyNwcEIoOJZvNZL32O60zWL/68FtrR5pkOBrTjAK/5+frDwB9+DPWPERsMYtSC4gC5McZs+BOuQzv0uY5QYVCDCoMaVBi8GtrZvwYP3GmfU4/Q3zgUcqI0auIvdz0H/HAb75Hk2K16iO0bY0zqyUDuC1FjeY0XURA+JF41lBBmjGlQGw3S6cNN1PGtw0eAX0xxHVsPy+0TM8aYzsn3Cj/XESoMalBhUIMKg1dDr//zKTzwffucwQj9poMh/k5ea+H6qpHV6Xy8/kwHY5kuH2dGv8UhiiUOkoay3rFGNjNMes48G4+MMWYxRc0cqWACOfe7STHXKm2erga2bpeFjlBhUIMKgxpUGLwaOve1Dd5GQvJJxqQ/NdIGXmf2kQ+Tc2tcGsr3XKJz+gJcC7Of1F53+tHM48LP+XtxnxYzfC7jFeTcp48CHaHCoAYVBjWoMHg1NCuWDWOMrXlJjlqQ5RgPfXsZN+WM1XFDTuzRXGNsXy3HNxO6py/WyOvadm7nErOGcsx0JFoEzuvrRbq+maPOs+7/B92o+4fQESoMalBhUIMKgxpUGLyTonWvzOGB3fY5tQBTlRoZB4/xd7MmxskDL8AHKaC94Fhwx3RP45g4rQQngTH86Vk2eNIzFuGkJibn+ytL1wNfF2GSdC9/J2NMK7cT5IqgI1QY1KDCoAYVBq+Gpif+Bfxsx96sNEJr8NMdDCaPV1BrqqQVvIjnKiquRT47HxhtSu5mRwNf342zvpFhG0MU2L+Q4ePcGOP5dgAcx1MU2Dr/8tVh61gRdIQKgxpUGNSgwlC6GudLi5usY98ZeAf4VIobmjiAfX8/Jp4dauH5vo1EnxV4U/BgiHOBqRZWXRuPLgKPDK63W6TrbUfy+LZ+1N3n+a0clHimI1QY1KDCoAYVhtIa+sKvv24d++4PTwLn4DPjzTZtziXN9RW8+F/AtfblgDbH/hfoeyzm54GvpUSAU5RQvqlqF7b66j8fAN6Tn3R197/QESoMalBhUIMKQ2kNTbqoMcVJXQOkPXWKPs4mqCVcFMoFXhPyBmCfr9fbvqMPvPF4iZbHnPy9kKLK3lFFfiJBnR4MbXMsttCrbKeccx8UoqAGFQY1qDCU1lBHyM4kORdkQh9nnYoPX/K8xYj10VU0g5Oe+Z7WBl5TrLndbLZln/I850JRfJSLX7Vy/B68Xl/I7JyiVXtWefu1EjpChUENKgxqUGEoraGjh2w/7ZWMCymifiUUs2NNXVfB4vrzGRY9dG3iaZIGWjFTzuWlj7nwFIPXlMbY/t2w5AbguRS/x0iE99hQsRf51X2HCu/B0BEqDGpQYVCDCoMaVBhKT4rCxJ4sNPPiypanU1yAb4xxAc1JYVyhq1axtxLZydnYJk9I+B6Wc58mQS7nPE+UfLvEl3KqzEKTwYRe+bx3yed690NHqDCoQYVBDSoM5TX070esY69TgvHt1QvATyS44WayB9/8d6GDDmh2crsqmKRBcUCbHQ2suexY4OtZY11tsIOfne2LHZwLHG3j99wYo0Ol15Nc1w10hAqDGlQY1KDCUFpDXWDnekqFHnxVvFJTHNB2bVZivbI01BWJLwNHrQr/WhY/5wprrMHrIwyAf3nvo9Y9bzOve7u6EjpChUENKgxqUGH4RDR057vbgO+55Y/AGykGrNO8Adynsa5Kz/xLrDoC0nBPlyiWhC+I3uZqnfS9zqf4Noz5rAF89ZEuzKEbfv+/oAYVBjWoMHj/tIMKnpJ37GTgyhZ8Y97ELK6vlnIsHjGd2G2sBK8p+xxFDRNaA4a07sxKFj3sBr7iHVY8lBKxeb0+GuHcYv3eWatN/uZBBXU6TzDxTEeoMKhBhUENKgxeDXVppg937XoS+MFn8Y2+e5cxLsi+2zppUdLF766ZFxdrZP3zbQh26WUPv62C+pXQBqnLWQ34l2oYJ777me8BXzVzsLBPxtiaydARKgxqUGFQgwpDsCXYXi5wyL5EYyx/ImPiDZTqn6w9APwfTVyPcU6RK7+HX1zAvlpfQf/ZFDWWNZh13Bhj5tLiiiH1EHOl7uzBghf3HtsKvHofvT3ZBY/vlqEjVBjUoMKgBhUGNagwlJ8UuRBS5cqseNG++U2csOxY/RrwoRAnE2dTezF9mpKzR6KrwI+2xoAfbyK/t/848LEKvu1ptoPBaGPsapo3UODirTY+hyePPgh8dCtW/rbAz9EY77O0mih1tuJzDzWoMKhBheGT0VBGSU2NbrsZ+PTjI8D3bf+Zdc3NcRdlQT8GWrntWFjK8Njm3z0DfMOP0GHiRcnn1FWTH7sFxecKalBhUIMKw6ejoS4H/kp4HMzdYPlbk8D738Y3KqTT75ZqL9x0O/Dzm1db56x5/tVSbX4W0BEqDGpQYVCDCsO/ATxB4ejAFrYkAAAAAElFTkSuQmCC\" id=\"image6f429543f0\" transform=\"scale(1 -1) translate(0 -83.52)\" x=\"132.75\" y=\"-284.8755\" width=\"83.52\" height=\"83.52\"/>\n   </g>\n   <g id=\"text_8\">\n    <!-- T:pullover -->\n    <g transform=\"translate(144.977813 265.798125) scale(0.12 -0.12)\">\n     <use xlink:href=\"#DejaVuSans-54\"/>\n     <use xlink:href=\"#DejaVuSans-3a\" x=\"50.083984\"/>\n     <use xlink:href=\"#DejaVuSans-70\" x=\"83.775391\"/>\n     <use xlink:href=\"#DejaVuSans-75\" x=\"147.251953\"/>\n     <use xlink:href=\"#DejaVuSans-6c\" x=\"210.630859\"/>\n     <use xlink:href=\"#DejaVuSans-6c\" x=\"238.414062\"/>\n     <use xlink:href=\"#DejaVuSans-6f\" x=\"266.197266\"/>\n     <use xlink:href=\"#DejaVuSans-76\" x=\"327.378906\"/>\n     <use xlink:href=\"#DejaVuSans-65\" x=\"386.558594\"/>\n     <use xlink:href=\"#DejaVuSans-72\" x=\"448.082031\"/>\n    </g>\n    <!-- P:pullover -->\n    <g transform=\"translate(144.364688 279.2355) scale(0.12 -0.12)\">\n     <use xlink:href=\"#DejaVuSans-50\"/>\n     <use xlink:href=\"#DejaVuSans-3a\" x=\"60.302734\"/>\n     <use xlink:href=\"#DejaVuSans-70\" x=\"93.994141\"/>\n     <use xlink:href=\"#DejaVuSans-75\" x=\"157.470703\"/>\n     <use xlink:href=\"#DejaVuSans-6c\" x=\"220.849609\"/>\n     <use xlink:href=\"#DejaVuSans-6c\" x=\"248.632812\"/>\n     <use xlink:href=\"#DejaVuSans-6f\" x=\"276.416016\"/>\n     <use xlink:href=\"#DejaVuSans-76\" x=\"337.597656\"/>\n     <use xlink:href=\"#DejaVuSans-65\" x=\"396.777344\"/>\n     <use xlink:href=\"#DejaVuSans-72\" x=\"458.300781\"/>\n    </g>\n   </g>\n  </g>\n  <g id=\"axes_9\">\n   <g clip-path=\"url(#p70f44b8181)\">\n    <image xlink:href=\"data:image/png;base64,\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\" id=\"imagea443e5a1af\" transform=\"scale(1 -1) translate(0 -83.52)\" x=\"258.3\" y=\"-284.8755\" width=\"83.52\" height=\"83.52\"/>\n   </g>\n   <g id=\"text_9\">\n    <!-- T:sandal -->\n    <g transform=\"translate(275.09625 265.798125) scale(0.12 -0.12)\">\n     <use xlink:href=\"#DejaVuSans-54\"/>\n     <use xlink:href=\"#DejaVuSans-3a\" x=\"50.083984\"/>\n     <use xlink:href=\"#DejaVuSans-73\" x=\"83.775391\"/>\n     <use xlink:href=\"#DejaVuSans-61\" x=\"135.875\"/>\n     <use xlink:href=\"#DejaVuSans-6e\" x=\"197.154297\"/>\n     <use xlink:href=\"#DejaVuSans-64\" x=\"260.533203\"/>\n     <use xlink:href=\"#DejaVuSans-61\" x=\"324.009766\"/>\n     <use xlink:href=\"#DejaVuSans-6c\" x=\"385.289062\"/>\n    </g>\n    <!-- P:sandal -->\n    <g transform=\"translate(274.483125 279.2355) scale(0.12 -0.12)\">\n     <use xlink:href=\"#DejaVuSans-50\"/>\n     <use xlink:href=\"#DejaVuSans-3a\" x=\"60.302734\"/>\n     <use xlink:href=\"#DejaVuSans-73\" x=\"93.994141\"/>\n     <use xlink:href=\"#DejaVuSans-61\" x=\"146.09375\"/>\n     <use xlink:href=\"#DejaVuSans-6e\" x=\"207.373047\"/>\n     <use xlink:href=\"#DejaVuSans-64\" x=\"270.751953\"/>\n     <use xlink:href=\"#DejaVuSans-61\" x=\"334.228516\"/>\n     <use xlink:href=\"#DejaVuSans-6c\" x=\"395.507812\"/>\n    </g>\n   </g>\n  </g>\n </g>\n <defs>\n  <clipPath id=\"p12d8461c44\">\n   <rect x=\"7.2\" y=\"35.7555\" width=\"83.16\" height=\"83.16\"/>\n  </clipPath>\n  <clipPath id=\"pfe2324bfa1\">\n   <rect x=\"132.75\" y=\"35.7555\" width=\"83.16\" height=\"83.16\"/>\n  </clipPath>\n  <clipPath id=\"p2ec99b6f07\">\n   <rect x=\"258.3\" y=\"35.7555\" width=\"83.16\" height=\"83.16\"/>\n  </clipPath>\n  <clipPath id=\"pe14c2899ca\">\n   <rect x=\"7.2\" y=\"160.4955\" width=\"83.16\" height=\"83.16\"/>\n  </clipPath>\n  <clipPath id=\"p6c406432d7\">\n   <rect x=\"132.75\" y=\"160.4955\" width=\"83.16\" height=\"83.16\"/>\n  </clipPath>\n  <clipPath id=\"pbaa0a2d610\">\n   <rect x=\"258.3\" y=\"160.4955\" width=\"83.16\" height=\"83.16\"/>\n  </clipPath>\n  <clipPath id=\"p7f81a30609\">\n   <rect x=\"7.2\" y=\"285.2355\" width=\"83.16\" height=\"83.16\"/>\n  </clipPath>\n  <clipPath id=\"p338e929030\">\n   <rect x=\"132.75\" y=\"285.2355\" width=\"83.16\" height=\"83.16\"/>\n  </clipPath>\n  <clipPath id=\"p70f44b8181\">\n   <rect x=\"258.3\" y=\"285.2355\" width=\"83.16\" height=\"83.16\"/>\n  </clipPath>\n </defs>\n</svg>\n",
      "text/plain": [
       "<Figure size 600x600 with 9 Axes>"
      ]
     },
     "metadata": {},
     "output_type": "display_data"
    }
   ],
   "source": [
    "def predtic_ch3(net, test_iter, rows, cols):\n",
    "    n = rows * cols\n",
    "    for X, y in test_iter:\n",
    "        break\n",
    "    trues = get_fashion_mnist_labels(y)\n",
    "    predicts = get_fashion_mnist_labels(net(X).argmax(axis=1))\n",
    "    title = [f\"T:{true}\\nP:{predict}\" for true, predict in zip(trues, predicts)]\n",
    "    show_img(X[0:n].reshape([n, 28, 28]), rows, cols, title=title[0:n], scale=2)\n",
    "    plt.subplots_adjust(wspace=0.5, hspace=0.5)\n",
    "    \n",
    "predtic_ch3(net, test_iter, 3, 3)"
   ]
  },
  {
   "attachments": {},
   "cell_type": "markdown",
   "metadata": {},
   "source": [
    "**softmax 的 label**\n",
    "\n",
    "由于独热编码，只存在 0, 1 但是 0, 1 很难由概率逼近，一般使用 0.1, 0.9\n",
    "\n",
    "> 但是 0, 1编码可以使得错误类被消去, 损失函数只需要正确的类\n",
    "\n",
    "**MSE 和 似然函数**\n",
    "\n",
    "最小化损失，等价于最大化权重"
   ]
  }
 ],
 "metadata": {
  "colab": {
   "authorship_tag": "ABX9TyPhQNTL9ZBg7ZKjK8nTsP/E",
   "mount_file_id": "1xLTH8aX78bG_LXbYBdtYk724MszKwie1",
   "provenance": []
  },
  "gpuClass": "standard",
  "kernelspec": {
   "display_name": "Python 3 (ipykernel)",
   "language": "python",
   "name": "python3"
  },
  "language_info": {
   "codemirror_mode": {
    "name": "ipython",
    "version": 3
   },
   "file_extension": ".py",
   "mimetype": "text/x-python",
   "name": "python",
   "nbconvert_exporter": "python",
   "pygments_lexer": "ipython3",
   "version": "3.10.9"
  },
  "vscode": {
   "interpreter": {
    "hash": "e68e5b16d81fa9059e1158f6a4d703d6dd8750a9ccfa1e75dbe04c34949a9a2e"
   }
  }
 },
 "nbformat": 4,
 "nbformat_minor": 4
}
