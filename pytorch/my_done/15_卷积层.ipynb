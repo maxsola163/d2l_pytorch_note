{
 "cells": [
  {
   "attachments": {},
   "cell_type": "markdown",
   "metadata": {},
   "source": [
    "# 卷积\n",
    "\n",
    "Eg. 分类猫和狗的图片\n",
    "\n",
    "- 12M相机，则对应的RGB为有36M元素\n",
    "- 对应100大小的单隐藏层，则有$3.6Billion\\sim 14GB$的元素\n",
    "- 实际上只有900M狗，600M猫\n",
    "\n",
    "**两个原则**\n",
    "\n",
    "- 平移不变性\n",
    "- 局部性\n",
    "\n",
    "******\n",
    "\n",
    "**从二维全连接层到卷积层**\n",
    "\n",
    "全路径从一维扩展到二维：\n",
    "\n",
    "$$h_{i,j}=\\sum_{k,l}w_{i,j,k,l}x_{k,l}=\\sum_{a,b}v_{i,j,a,b}x_{i+a,j+b}$$\n",
    "\n",
    "其中：$v_{i,j,k,l}=w_{i,j,i+a,j+b}$\n",
    "\n",
    "**平移不变性**：$v_{i,j,k,l}=v_{a,b}$\n",
    "\n",
    "$$h_{i,j}=\\sum_{a,b}v_{a,b}x_{i+a,i+b}\\qquad\\text{二维交叉卷积}$$\n",
    "\n",
    "**局部性**：$|a|,|b|<\\Delta$\n",
    "\n",
    "$$h_{i,j}=\\sum_{a=-\\Delta}^{\\Delta}\\sum_{b=-\\Delta}^{\\Delta}v_{a,b}x_{i+a,i+b}$$\n",
    "\n",
    "******\n",
    "\n",
    "**卷积层**\n",
    "\n",
    "- 输入X：$n_h\\times n_w$\n",
    "- 核W：$k_h\\times k_w$\n",
    "- 偏差$b\\in R$\n",
    "- 输出Y：$(n_h-k_h+1)\\times(n_w-k_w+1)$\n",
    "\n",
    "$$Y=X\\cdot W+b$$"
   ]
  },
  {
   "cell_type": "code",
   "execution_count": 31,
   "metadata": {},
   "outputs": [],
   "source": [
    "import torch\n",
    "\n",
    "def corr2d(X, K):\n",
    "    h, w = K.shape\n",
    "    Y = torch.zeros(size=(X.shape[0]-h+1,X.shape[1]-w+1))\n",
    "    for i in range(Y.shape[0]):\n",
    "        for j in range(Y.shape[1]):\n",
    "            Y[i, j] = (X[i:i+h, j:j+w] * K).sum()\n",
    "    return Y"
   ]
  },
  {
   "cell_type": "code",
   "execution_count": 32,
   "metadata": {},
   "outputs": [
    {
     "data": {
      "text/plain": [
       "tensor([[19., 25.],\n",
       "        [37., 43.]])"
      ]
     },
     "execution_count": 32,
     "metadata": {},
     "output_type": "execute_result"
    }
   ],
   "source": [
    "X = torch.arange(9, dtype=torch.float32).reshape(shape=(3, 3))\n",
    "K = torch.arange(4, dtype=torch.float32).reshape(shape=(2, 2))\n",
    "corr2d(X, K)"
   ]
  },
  {
   "cell_type": "code",
   "execution_count": 33,
   "metadata": {},
   "outputs": [],
   "source": [
    "\"\"\" 卷积层 \"\"\"\n",
    "class Conv2D(torch.nn.Module):\n",
    "    def __init__(self, kernel_size):\n",
    "        super().__init__()\n",
    "        self.weight = torch.nn.Paramter(torch.rand(kernel_size))\n",
    "        self.bias = torch.nn.Parameter(torch.zeros(1))\n",
    "\n",
    "    def forward(self, X):\n",
    "        return corr2d(X, self.weight) + self.bias"
   ]
  },
  {
   "cell_type": "markdown",
   "metadata": {},
   "source": [
    "## 应用"
   ]
  },
  {
   "cell_type": "code",
   "execution_count": 34,
   "metadata": {},
   "outputs": [
    {
     "data": {
      "text/plain": [
       "tensor([[1., 1., 0., 0., 0., 0., 1., 1.],\n",
       "        [1., 1., 0., 0., 0., 0., 1., 1.],\n",
       "        [1., 1., 0., 0., 0., 0., 1., 1.],\n",
       "        [1., 1., 0., 0., 0., 0., 1., 1.],\n",
       "        [1., 1., 0., 0., 0., 0., 1., 1.],\n",
       "        [1., 1., 0., 0., 0., 0., 1., 1.]])"
      ]
     },
     "execution_count": 34,
     "metadata": {},
     "output_type": "execute_result"
    }
   ],
   "source": [
    "\"\"\" 假定[1, 1]是边缘 \"\"\"\n",
    "X = torch.ones(size = (6, 8))\n",
    "X[:, 2:6] = 0\n",
    "X"
   ]
  },
  {
   "cell_type": "code",
   "execution_count": 35,
   "metadata": {},
   "outputs": [
    {
     "data": {
      "text/plain": [
       "tensor([[ 0.,  1.,  0.,  0.,  0., -1.,  0.],\n",
       "        [ 0.,  1.,  0.,  0.,  0., -1.,  0.],\n",
       "        [ 0.,  1.,  0.,  0.,  0., -1.,  0.],\n",
       "        [ 0.,  1.,  0.,  0.,  0., -1.,  0.],\n",
       "        [ 0.,  1.,  0.,  0.,  0., -1.,  0.],\n",
       "        [ 0.,  1.,  0.,  0.,  0., -1.,  0.]])"
      ]
     },
     "execution_count": 35,
     "metadata": {},
     "output_type": "execute_result"
    }
   ],
   "source": [
    "\"\"\" 使用K检测 \"\"\"\n",
    "K = torch.tensor([[1.0, -1.0]])\n",
    "Y = corr2d(X, K)\n",
    "Y"
   ]
  },
  {
   "cell_type": "code",
   "execution_count": 36,
   "metadata": {},
   "outputs": [
    {
     "data": {
      "text/plain": [
       "tensor([[0., 0., 0., 0., 0.],\n",
       "        [0., 0., 0., 0., 0.],\n",
       "        [0., 0., 0., 0., 0.],\n",
       "        [0., 0., 0., 0., 0.],\n",
       "        [0., 0., 0., 0., 0.],\n",
       "        [0., 0., 0., 0., 0.],\n",
       "        [0., 0., 0., 0., 0.],\n",
       "        [0., 0., 0., 0., 0.]])"
      ]
     },
     "execution_count": 36,
     "metadata": {},
     "output_type": "execute_result"
    }
   ],
   "source": [
    "\"\"\" 只能检测垂直边缘 \"\"\"\n",
    "corr2d(X.T, K)"
   ]
  },
  {
   "cell_type": "code",
   "execution_count": 37,
   "metadata": {},
   "outputs": [
    {
     "name": "stdout",
     "output_type": "stream",
     "text": [
      "batch:1, loss:9.853525\n",
      "batch:2, loss:4.652109\n",
      "batch:3, loss:2.299811\n",
      "batch:4, loss:1.194359\n",
      "batch:5, loss:0.650718\n",
      "batch:6, loss:0.369899\n",
      "batch:7, loss:0.217664\n",
      "batch:8, loss:0.131494\n",
      "batch:9, loss:0.080956\n",
      "batch:10, loss:0.050501\n",
      "batch:11, loss:0.031784\n",
      "batch:12, loss:0.020122\n",
      "batch:13, loss:0.012788\n",
      "batch:14, loss:0.008147\n",
      "batch:15, loss:0.005199\n",
      "batch:16, loss:0.003321\n",
      "batch:17, loss:0.002123\n",
      "batch:18, loss:0.001358\n",
      "batch:19, loss:0.000869\n",
      "batch:20, loss:0.000556\n"
     ]
    }
   ],
   "source": [
    "\"\"\" 学习卷积和 K \"\"\"\n",
    "conv2D = torch.nn.Conv2d(in_channels=1, out_channels=1, kernel_size=(1, 2), bias=False)\n",
    "\n",
    "\"\"\"增加维度\"\"\"\n",
    "# 批量大小 通道数 高 宽\n",
    "X = X.reshape(shape=[1, 1, 6, 8])\n",
    "Y = Y.reshape(shape=[1, 1, 6, 7])\n",
    "\n",
    "for i in range(20):\n",
    "    Y_hat = conv2D(X)\n",
    "    l = (Y_hat - Y) ** 2\n",
    "    conv2D.zero_grad()\n",
    "    l.sum().backward()\n",
    "    conv2D.weight.data[:] -= 3e-2 * conv2D.weight.grad\n",
    "    print(f\"batch:{i+1}, loss:{l.sum():.6f}\")"
   ]
  },
  {
   "cell_type": "code",
   "execution_count": 38,
   "metadata": {},
   "outputs": [
    {
     "data": {
      "text/plain": [
       "tensor([[[[ 0.9975, -1.0023]]]])"
      ]
     },
     "execution_count": 38,
     "metadata": {},
     "output_type": "execute_result"
    }
   ],
   "source": [
    "conv2D.weight.data"
   ]
  },
  {
   "cell_type": "code",
   "execution_count": 39,
   "metadata": {},
   "outputs": [
    {
     "data": {
      "text/plain": [
       "tensor([[ 1., -1.]])"
      ]
     },
     "execution_count": 39,
     "metadata": {},
     "output_type": "execute_result"
    }
   ],
   "source": [
    "K"
   ]
  },
  {
   "attachments": {},
   "cell_type": "markdown",
   "metadata": {},
   "source": [
    "## 填充和步幅\n",
    "\n",
    "**使用卷积核会导致输出变小**\n",
    "\n",
    "### 填充\n",
    "\n",
    "**填充额外的行和列（补0）**\n",
    "\n",
    "输出形状：$(n_h-k_h+p_h+1)\\times(n_w-k_w+p_w+1)$\n",
    "\n",
    "- 取填充 $p_h=k_h-1\\quad p_w=k_w-1$ 此时输出为$n_h\\times n_w$\n",
    "    - $k_h$为奇数：上下填充$\\frac{p_h}{2}$\n",
    "    - $k_h$为偶数：上下填充$[\\frac{p_h}{2}\\pm 1]$\n",
    "\n",
    "\n",
    "### 步幅\n",
    "\n",
    "- 步幅是指行列滑动的步长(加快维度下降)\n",
    "    - $\\lfloor(n_h-k_h+p_h+s_h)/s_h\\rfloor \\lfloor(n_w-k_w+p_w+s_w)/s_w\\rfloor$"
   ]
  },
  {
   "cell_type": "code",
   "execution_count": 40,
   "metadata": {},
   "outputs": [
    {
     "data": {
      "text/plain": [
       "torch.Size([8, 8])"
      ]
     },
     "execution_count": 40,
     "metadata": {},
     "output_type": "execute_result"
    }
   ],
   "source": [
    "def comp_conv2d(conv2d, X):\n",
    "    X = X.reshape((1, 1) + X.shape)\n",
    "    Y = conv2d(X)\n",
    "    return Y.reshape(Y.shape[2:])\n",
    "\n",
    "conv2d = torch.nn.Conv2d(1, 1, kernel_size=3, padding=1)\n",
    "X = torch.randn(size=(8, 8))\n",
    "comp_conv2d(conv2d, X).shape"
   ]
  },
  {
   "cell_type": "code",
   "execution_count": 41,
   "metadata": {},
   "outputs": [
    {
     "data": {
      "text/plain": [
       "torch.Size([8, 8])"
      ]
     },
     "execution_count": 41,
     "metadata": {},
     "output_type": "execute_result"
    }
   ],
   "source": [
    "conv2d = torch.nn.Conv2d(1, 1, kernel_size=(5, 3), padding=(2, 1))\n",
    "X = torch.randn(size=(8, 8))\n",
    "comp_conv2d(conv2d, X).shape"
   ]
  },
  {
   "cell_type": "code",
   "execution_count": 42,
   "metadata": {},
   "outputs": [
    {
     "data": {
      "text/plain": [
       "torch.Size([4, 4])"
      ]
     },
     "execution_count": 42,
     "metadata": {},
     "output_type": "execute_result"
    }
   ],
   "source": [
    "conv2d = torch.nn.Conv2d(1, 1, kernel_size=3, padding=1, stride=2)\n",
    "X = torch.randn(size=(8, 8))\n",
    "comp_conv2d(conv2d, X).shape"
   ]
  },
  {
   "cell_type": "code",
   "execution_count": 43,
   "metadata": {},
   "outputs": [
    {
     "data": {
      "text/plain": [
       "torch.Size([2, 2])"
      ]
     },
     "execution_count": 43,
     "metadata": {},
     "output_type": "execute_result"
    }
   ],
   "source": [
    "conv2d = torch.nn.Conv2d(\n",
    "    in_channels = 1, \n",
    "    out_channels = 1,\n",
    "    kernel_size = (3, 5), \n",
    "    padding= (0, 1), \n",
    "    stride=(3, 4)) # 存在向下取整\n",
    "X = torch.randn(size=(8, 8))\n",
    "comp_conv2d(conv2d, X).shape"
   ]
  },
  {
   "attachments": {},
   "cell_type": "markdown",
   "metadata": {},
   "source": [
    "- 希望最后最大 $7\\times 7$\n",
    "- 机器学习是极端的压缩算法"
   ]
  },
  {
   "attachments": {},
   "cell_type": "markdown",
   "metadata": {},
   "source": [
    "## 多通道\n",
    "\n",
    "- 彩色图片有可能是 RGB 三个通道\n",
    "- 转换成灰度会丢失信息\n",
    "\n",
    "\n",
    "**多输入通道**：\n",
    "\n",
    "- 输入X：$c_i\\times n_h\\times n_w$\n",
    "- 核W：$c_i\\times k_h\\times k_w$\n",
    "- 输出Y：$m_h\\times m_w$\n",
    "\n",
    "$$Y=\\sum_{i=0}^{c_i}X_{i,:,:}\\cdot W_{i,:,:}$$\n",
    "\n",
    "**多输出通道**：\n",
    "\n",
    "对每一个输入通道都有$c_o$个卷积核\n",
    "\n",
    "- 输入X：$c_i\\times n_h\\times n_w$\n",
    "- 核W：$c_o\\times c_i\\times k_h\\times k_w$\n",
    "- 输出Y：$c_o\\times m_h\\times m_w$\n",
    "\n",
    "$$Y_{i,:,:}=X\\cdot W_{i,:,:,:}$$\n",
    "\n",
    "**通道？**\n",
    "\n",
    "- 每一个输出通道可以识别特定的模式（识别局部特征）\n",
    "- 输入通道识别并组合输入的模式（组合局部特征）\n",
    "\n",
    "**$1\\times 1$卷积核**\n",
    "\n",
    "$k_h=k_w=1$卷积核**不考虑空间结构**，而是融合不同的通道。\n",
    "\n",
    "*相当于输入为 $n_hn_w\\times c_i$, 权重为 $c_o\\times c_i$ 的全连接层*\n",
    "\n",
    "******\n",
    "\n",
    "### 二维卷积层\n",
    "\n",
    "- 输入X：$c_i\\times n_h\\times n_w$\n",
    "- 核W：$c_o\\times c_i\\times k_h\\times k_w$\n",
    "- 偏差B：$c_o\\times c_i$\n",
    "- 输出Y：$c_o\\times m_h\\times m_w$\n",
    "\n",
    "**计算复杂度**：$O(c_ic_ok_hk_wm_hm_w)\\quad FLOP$\n",
    "\n",
    "> $CPU\\sim 0.15GFLOP$"
   ]
  },
  {
   "cell_type": "code",
   "execution_count": 44,
   "metadata": {},
   "outputs": [
    {
     "data": {
      "text/plain": [
       "tensor([[268., 296.],\n",
       "        [352., 380.]])"
      ]
     },
     "execution_count": 44,
     "metadata": {},
     "output_type": "execute_result"
    }
   ],
   "source": [
    "def corr2d_multi_in(X, K): # X-3D K-4D\n",
    "    return sum(corr2d(x, k) for x, k in zip(X, K))\n",
    "\n",
    "X = torch.arange(18, dtype=torch.float32).reshape(shape=(2, 3, 3))\n",
    "K = torch.arange(8, dtype=torch.float32).reshape(shape=(2, 2, 2))\n",
    "corr2d_multi_in(X, K)"
   ]
  },
  {
   "cell_type": "code",
   "execution_count": 45,
   "metadata": {},
   "outputs": [
    {
     "data": {
      "text/plain": [
       "torch.Size([3, 2, 2, 2])"
      ]
     },
     "execution_count": 45,
     "metadata": {},
     "output_type": "execute_result"
    }
   ],
   "source": [
    "def corr2d_multi_out(X, K): # X-3D K-4D\n",
    "    return torch.stack([corr2d_multi_in(X, k) for k in K], 0)\n",
    "\n",
    "K = torch.stack(tensors=(K, K+1, K+2), dim=0)\n",
    "K.shape"
   ]
  },
  {
   "cell_type": "code",
   "execution_count": 46,
   "metadata": {},
   "outputs": [
    {
     "data": {
      "text/plain": [
       "tensor([[[268., 296.],\n",
       "         [352., 380.]],\n",
       "\n",
       "        [[320., 356.],\n",
       "         [428., 464.]],\n",
       "\n",
       "        [[372., 416.],\n",
       "         [504., 548.]]])"
      ]
     },
     "execution_count": 46,
     "metadata": {},
     "output_type": "execute_result"
    }
   ],
   "source": [
    "corr2d_multi_out(X, K)"
   ]
  },
  {
   "cell_type": "code",
   "execution_count": 47,
   "metadata": {},
   "outputs": [],
   "source": [
    "\"\"\" 1x1 Conv2D\"\"\"\n",
    "\n",
    "def corr2d_multi_in_out_1x1(X, K):\n",
    "    c_i, h, w = X.shape\n",
    "    c_o = K.shape[0]\n",
    "    X = X.reshape(c_i, h*w)\n",
    "    K = K.reshape(c_o, c_i) # kh*ki=1*1=1\n",
    "    Y = torch.matmul(K, X)\n",
    "    return Y.reshape(c_o, h, w)\n",
    "\n",
    "X = torch.normal(mean=0, std=1, size=(3, 3, 3))\n",
    "K = torch.normal(mean=0, std=1, size=(2, 3, 1, 1))\n",
    "\n",
    "Y1 = corr2d_multi_in_out_1x1(X, K)\n",
    "Y2 = corr2d_multi_out(X, K)\n",
    "\n",
    "assert float(torch.abs(Y1 - Y2).sum()) < 1e6"
   ]
  },
  {
   "attachments": {},
   "cell_type": "markdown",
   "metadata": {},
   "source": [
    "- 一般输入输出高度宽度不变，通道数不变，但是宽高减半，通道数一般加倍\n",
    "- 一般不同通道的卷积核大小相同"
   ]
  },
  {
   "attachments": {},
   "cell_type": "markdown",
   "metadata": {},
   "source": [
    "## 池化层\n",
    "\n",
    "**卷积对位置是十分敏感的**：一个像素的偏移就有可能导致 0 输出\n",
    "\n",
    "*需要具备一定的平移不变性*\n",
    "\n",
    "### 二维最大池化\n",
    "\n",
    "返回移动窗口的最大值\n",
    "\n",
    "$$out = max_{1,2,3,4}(x_i)$$\n",
    "\n",
    "### 平均池化层\n",
    "\n",
    "返回移动窗口的平均值\n",
    "\n",
    "**池化层可以容忍一定范围的像素偏移**\n",
    "\n",
    "- 有填充和步幅\n",
    "- 没有可以学习的参数\n",
    "- 每一个通道应该都有一个池化\n",
    "- 输出通道数 = 输入通道数\n",
    "\n",
    "> 通常在卷积层后，缓解卷积层的位置敏感性"
   ]
  },
  {
   "cell_type": "code",
   "execution_count": 48,
   "metadata": {},
   "outputs": [],
   "source": [
    "def pool2d(X, pool_size, mode=\"max\"):\n",
    "    p_h, p_w = pool_size\n",
    "    Y = torch.zeros((X.shape[0]-p_h+1, X.shape[1]-p_w+1))\n",
    "    for i in range(Y.shape[0]):\n",
    "        for j in range(Y.shape[1]):\n",
    "            if mode == \"max\":\n",
    "                Y[i, j] = X[i:i+p_h, j:j+p_w].max()\n",
    "            elif mode == \"mean\":\n",
    "                Y[i, j] = X[i:i+p_h, j:j+p_w].mean()\n",
    "    return Y"
   ]
  },
  {
   "cell_type": "code",
   "execution_count": 49,
   "metadata": {},
   "outputs": [
    {
     "data": {
      "text/plain": [
       "tensor([[4., 5.],\n",
       "        [7., 8.]])"
      ]
     },
     "execution_count": 49,
     "metadata": {},
     "output_type": "execute_result"
    }
   ],
   "source": [
    "X = torch.arange(9, dtype=torch.float32).reshape(3, 3)\n",
    "pool2d(X, (2, 2))"
   ]
  },
  {
   "cell_type": "code",
   "execution_count": 50,
   "metadata": {},
   "outputs": [
    {
     "data": {
      "text/plain": [
       "tensor([[2., 3.],\n",
       "        [5., 6.]])"
      ]
     },
     "execution_count": 50,
     "metadata": {},
     "output_type": "execute_result"
    }
   ],
   "source": [
    "pool2d(X, (2, 2), 'mean')"
   ]
  },
  {
   "cell_type": "code",
   "execution_count": 51,
   "metadata": {},
   "outputs": [
    {
     "data": {
      "text/plain": [
       "(tensor([[[[ 0.,  1.,  2.,  3.],\n",
       "           [ 4.,  5.,  6.,  7.],\n",
       "           [ 8.,  9., 10., 11.],\n",
       "           [12., 13., 14., 15.]]]]),\n",
       " tensor([[[[10.]]]]))"
      ]
     },
     "execution_count": 51,
     "metadata": {},
     "output_type": "execute_result"
    }
   ],
   "source": [
    "X = torch.arange(16, dtype=torch.float32).reshape((1, 1, 4, 4))\n",
    "pool2d = torch.nn.MaxPool2d(kernel_size=3)\n",
    "X, pool2d(X) # pytorch 默认步幅等于kernel_size"
   ]
  },
  {
   "cell_type": "code",
   "execution_count": 52,
   "metadata": {},
   "outputs": [
    {
     "data": {
      "text/plain": [
       "(tensor([[[[ 0.,  1.,  2.,  3.],\n",
       "           [ 4.,  5.,  6.,  7.],\n",
       "           [ 8.,  9., 10., 11.],\n",
       "           [12., 13., 14., 15.]]]]),\n",
       " tensor([[[[ 5.,  7.],\n",
       "           [13., 15.]]]]))"
      ]
     },
     "execution_count": 52,
     "metadata": {},
     "output_type": "execute_result"
    }
   ],
   "source": [
    "pool2d = torch.nn.MaxPool2d(kernel_size=3, \n",
    "                            padding=1,\n",
    "                            stride=3)\n",
    "X, pool2d(X)"
   ]
  },
  {
   "cell_type": "code",
   "execution_count": 53,
   "metadata": {},
   "outputs": [
    {
     "data": {
      "text/plain": [
       "torch.Size([1, 2, 4, 4])"
      ]
     },
     "execution_count": 53,
     "metadata": {},
     "output_type": "execute_result"
    }
   ],
   "source": [
    "\"\"\" 多通道 \"\"\"\n",
    "X = torch.cat(tensors=(X, X+1), dim=1)\n",
    "# cat 保存维度，stack 创建新的维度\n",
    "X.shape"
   ]
  },
  {
   "cell_type": "code",
   "execution_count": 54,
   "metadata": {},
   "outputs": [
    {
     "data": {
      "text/plain": [
       "tensor([[[[ 5.,  7.],\n",
       "          [13., 15.]],\n",
       "\n",
       "         [[ 6.,  8.],\n",
       "          [14., 16.]]]])"
      ]
     },
     "execution_count": 54,
     "metadata": {},
     "output_type": "execute_result"
    }
   ],
   "source": [
    "pool2d(X)"
   ]
  },
  {
   "attachments": {},
   "cell_type": "markdown",
   "metadata": {},
   "source": [
    "- 保证性能，不用python自带的函数，使用list\n",
    "- 池化层用的越来越少？\n",
    "    - 目的是 1. 减少偏移影响 2. 加快维度下降\n",
    "    - 由于数据增强，加扰，所以本身卷积的过拟合不重，不太需要池化"
   ]
  }
 ],
 "metadata": {
  "kernelspec": {
   "display_name": "d2l",
   "language": "python",
   "name": "python3"
  },
  "language_info": {
   "codemirror_mode": {
    "name": "ipython",
    "version": 3
   },
   "file_extension": ".py",
   "mimetype": "text/x-python",
   "name": "python",
   "nbconvert_exporter": "python",
   "pygments_lexer": "ipython3",
   "version": "3.10.9"
  },
  "orig_nbformat": 4,
  "vscode": {
   "interpreter": {
    "hash": "e68e5b16d81fa9059e1158f6a4d703d6dd8750a9ccfa1e75dbe04c34949a9a2e"
   }
  }
 },
 "nbformat": 4,
 "nbformat_minor": 2
}
