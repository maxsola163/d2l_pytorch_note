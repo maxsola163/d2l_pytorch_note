{
 "cells": [
  {
   "attachments": {},
   "cell_type": "markdown",
   "metadata": {},
   "source": [
    "# 丢弃法\n",
    "\n",
    "理论上优于权重衰退\n",
    "\n",
    "**动机**\n",
    "\n",
    "- 好的模型应该对输入扰动鲁棒\n",
    "    - 有噪音的数据，相当于`Tikhonov`正则\n",
    "    - 丢弃法：在层间加入噪音\n",
    "\n",
    "******\n",
    "\n",
    "**无偏差的加入噪声**\n",
    "\n",
    "希望：$E[x'] = x$\n",
    "\n",
    "$$x_i' = \\begin{cases}0 & \\text{with probability} p\\\\\\frac{x_i}{1-p}&otherwise\\end{cases}$$\n",
    "\n",
    "******\n",
    "\n",
    "**使用丢弃法**\n",
    "\n",
    "- 通常作用在隐藏全连接层的输出上\n",
    "\n"
   ]
  },
  {
   "cell_type": "code",
   "execution_count": null,
   "metadata": {},
   "outputs": [],
   "source": []
  }
 ],
 "metadata": {
  "kernelspec": {
   "display_name": "d2l",
   "language": "python",
   "name": "python3"
  },
  "language_info": {
   "name": "python",
   "version": "3.10.9 | packaged by conda-forge | (main, Jan 11 2023, 15:15:40) [MSC v.1916 64 bit (AMD64)]"
  },
  "orig_nbformat": 4,
  "vscode": {
   "interpreter": {
    "hash": "e68e5b16d81fa9059e1158f6a4d703d6dd8750a9ccfa1e75dbe04c34949a9a2e"
   }
  }
 },
 "nbformat": 4,
 "nbformat_minor": 2
}
