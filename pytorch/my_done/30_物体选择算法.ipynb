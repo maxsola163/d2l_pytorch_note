{
 "cells": [
  {
   "cell_type": "markdown",
   "id": "1edd8b1c",
   "metadata": {},
   "source": [
    "# 目标检测\n",
    "\n",
    "> 主要基于锚框算法\n",
    "\n",
    "## R-CNN\n",
    "\n",
    "- 使用启发式搜索算法得到锚框\n",
    "- 使用预训练模型对每一个锚框抽取特征\n",
    "- 使用SVM分类\n",
    "- 训练线性回归模型预测偏移\n",
    "\n",
    "锚框大小不一样？\n",
    "\n",
    "- 兴趣区域池化\n",
    "    - 锚框分成$n\\times m$个块\n",
    "    - 给出块中的最大值\n",
    "    - 不管锚框多大，总是输出nm个值\n",
    "    \n",
    "## Fast R-CNN\n",
    "\n",
    "- 使用CNN抽取特征（不是对锚框抽特征），得到特征图\n",
    "- 选取锚框，映射道特征图，再进行RoL的抽取特征得到固定长度的特征\n",
    "- 最后全连接预测\n",
    "\n",
    "## Faster R-CNN\n",
    "\n",
    "- 使用区域提议网络代替启发式搜索\n",
    "    - 使用一个小的网络，在一堆差的锚框中，预测一个比较好的锚框\n",
    "- Two-stage\n",
    "\n",
    "## Mask R-CNN\n",
    "\n",
    "- 如果存在像素级变化，使用FCN利用这些信息\n",
    "- 像素级预测不用使用ROI Pooling，而是使用ROI align(使用像素的加权平均)\n",
    "    - 防止边界错位\n",
    "    \n",
    "> `Faster R-CNN` 以及 `Mask R-CNN` 是追求高精度场景下的常用算法"
   ]
  },
  {
   "cell_type": "markdown",
   "id": "e4949e63",
   "metadata": {},
   "source": [
    "# 单发多框检测(SSD)\n",
    "\n",
    "> RNN Two-stage, SSD Single-stage\n",
    "\n",
    "- 以每一个像素为中心生产锚框\n",
    "- 直接对锚框做预测\n",
    "    - 使用底层网络抽取特征，多个卷积层高宽减半\n",
    "    - 每一次都生成锚框\n",
    "        - 底层锚框拟合小物体\n",
    "        - 顶层锚框拟合大物体\n",
    "- 每一层都预测类以及偏移"
   ]
  },
  {
   "cell_type": "markdown",
   "id": "239be802",
   "metadata": {},
   "source": [
    "# YOLO\n",
    "\n",
    "You only life once? **You only look once**\n",
    "\n",
    "- SSD中存在大量锚框的重合，浪费大量的计算,YOLO让锚框不重叠\n",
    "    - YOLO将图片均分成$S\\times S$个锚框\n",
    "    - 每个锚框预测B个边缘框"
   ]
  },
  {
   "cell_type": "markdown",
   "id": "cc2d215c",
   "metadata": {},
   "source": [
    "# 非锚框\n",
    "\n",
    "- 使用像素级预测：\n",
    "    - center net\n",
    "    "
   ]
  },
  {
   "cell_type": "markdown",
   "id": "22291d43",
   "metadata": {
    "ExecuteTime": {
     "end_time": "2023-02-16T09:55:20.647522Z",
     "start_time": "2023-02-16T09:55:20.514250Z"
    }
   },
   "source": [
    "# QA\n",
    "\n",
    "- 多模型融合可以提高精度\n",
    "- R-CNN 会改变锚框，而YOLO不会改变锚框\n",
    "    - 锚框使用的是相对大小$h,w\\in(0,1)$，和图片的大小无关\n",
    "- 目标检测对最后的特征图要求不高，因为最后不需要变成向量"
   ]
  },
  {
   "cell_type": "markdown",
   "id": "a97af67b",
   "metadata": {},
   "source": [
    "# SSD的实现"
   ]
  },
  {
   "cell_type": "code",
   "execution_count": 2,
   "id": "baf6d57e",
   "metadata": {
    "ExecuteTime": {
     "end_time": "2023-02-16T12:44:52.140811Z",
     "start_time": "2023-02-16T12:44:51.721262Z"
    }
   },
   "outputs": [],
   "source": [
    "import torch"
   ]
  },
  {
   "cell_type": "code",
   "execution_count": null,
   "id": "685de778",
   "metadata": {},
   "outputs": [],
   "source": []
  }
 ],
 "metadata": {
  "kernelspec": {
   "display_name": "Python 3 (ipykernel)",
   "language": "python",
   "name": "python3"
  },
  "language_info": {
   "codemirror_mode": {
    "name": "ipython",
    "version": 3
   },
   "file_extension": ".py",
   "mimetype": "text/x-python",
   "name": "python",
   "nbconvert_exporter": "python",
   "pygments_lexer": "ipython3",
   "version": "3.8.12"
  },
  "toc": {
   "base_numbering": 1,
   "nav_menu": {},
   "number_sections": true,
   "sideBar": true,
   "skip_h1_title": false,
   "title_cell": "Table of Contents",
   "title_sidebar": "Contents",
   "toc_cell": false,
   "toc_position": {},
   "toc_section_display": true,
   "toc_window_display": false
  },
  "varInspector": {
   "cols": {
    "lenName": 16,
    "lenType": 16,
    "lenVar": 40
   },
   "kernels_config": {
    "python": {
     "delete_cmd_postfix": "",
     "delete_cmd_prefix": "del ",
     "library": "var_list.py",
     "varRefreshCmd": "print(var_dic_list())"
    },
    "r": {
     "delete_cmd_postfix": ") ",
     "delete_cmd_prefix": "rm(",
     "library": "var_list.r",
     "varRefreshCmd": "cat(var_dic_list()) "
    }
   },
   "types_to_exclude": [
    "module",
    "function",
    "builtin_function_or_method",
    "instance",
    "_Feature"
   ],
   "window_display": false
  }
 },
 "nbformat": 4,
 "nbformat_minor": 5
}
