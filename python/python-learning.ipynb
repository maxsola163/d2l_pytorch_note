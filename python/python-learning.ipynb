{
 "cells": [
  {
   "cell_type": "code",
   "execution_count": 2,
   "id": "edb61012",
   "metadata": {},
   "outputs": [
    {
     "name": "stdout",
     "output_type": "stream",
     "text": [
      "The Zen of Python, by Tim Peters\n",
      "\n",
      "Beautiful is better than ugly.\n",
      "Explicit is better than implicit.\n",
      "Simple is better than complex.\n",
      "Complex is better than complicated.\n",
      "Flat is better than nested.\n",
      "Sparse is better than dense.\n",
      "Readability counts.\n",
      "Special cases aren't special enough to break the rules.\n",
      "Although practicality beats purity.\n",
      "Errors should never pass silently.\n",
      "Unless explicitly silenced.\n",
      "In the face of ambiguity, refuse the temptation to guess.\n",
      "There should be one-- and preferably only one --obvious way to do it.\n",
      "Although that way may not be obvious at first unless you're Dutch.\n",
      "Now is better than never.\n",
      "Although never is often better than *right* now.\n",
      "If the implementation is hard to explain, it's a bad idea.\n",
      "If the implementation is easy to explain, it may be a good idea.\n",
      "Namespaces are one honking great idea -- let's do more of those!\n"
     ]
    }
   ],
   "source": [
    "import this"
   ]
  },
  {
   "cell_type": "code",
   "execution_count": 3,
   "id": "b7cc90b9",
   "metadata": {},
   "outputs": [
    {
     "name": "stdout",
     "output_type": "stream",
     "text": [
      "Ada Lovelace\n",
      "Ada Lovelace\n",
      "ADA LOVELACE\n",
      "ada lovelace\n"
     ]
    }
   ],
   "source": [
    "name = \"ada lovelace\"\n",
    "\n",
    "print(name.title())\n",
    "print(name.title())\n",
    "print(name.upper())\n",
    "print(name.lower())"
   ]
  },
  {
   "cell_type": "code",
   "execution_count": 4,
   "id": "3a40a898",
   "metadata": {},
   "outputs": [
    {
     "name": "stdout",
     "output_type": "stream",
     "text": [
      "Hello, Ada Lovelace\n",
      "Hello, Ada Lovelace\n"
     ]
    }
   ],
   "source": [
    "first_name = \"ada\"\n",
    "last_name = \"lovelace\"\n",
    "full_name = f\"{first_name} {last_name}\"\n",
    "\n",
    "print(f\"Hello, {first_name.title()} {last_name.title()}\")\n",
    "\n",
    "message = \"Hello, {} {}\".format(first_name.title(), last_name.title())\n",
    "\n",
    "print(message)"
   ]
  },
  {
   "cell_type": "code",
   "execution_count": 5,
   "id": "cb9ad6d4",
   "metadata": {},
   "outputs": [
    {
     "name": "stdout",
     "output_type": "stream",
     "text": [
      "pyth on\n",
      "\tLength:7\n",
      "pyth on \n",
      "\tLength:8\n",
      " pyth on\n",
      "\tLength:8\n",
      " pyth on \n",
      "\tLength:9\n"
     ]
    }
   ],
   "source": [
    "# delete blank character\n",
    "\n",
    "language = \" pyth on \"\n",
    "print(\"{}\\n\\tLength:{}\".format(language.strip(), len(language.strip())))\n",
    "print(\"{}\\n\\tLength:{}\".format(language.lstrip(), len(language.lstrip())))\n",
    "print(\"{}\\n\\tLength:{}\".format(language.rstrip(), len(language.rstrip())))\n",
    "print(\"{}\\n\\tLength:{}\".format(language, len(language)))"
   ]
  },
  {
   "cell_type": "code",
   "execution_count": 6,
   "id": "54d0c3d8",
   "metadata": {},
   "outputs": [
    {
     "data": {
      "text/plain": [
       "(1000000, 9, 0.5)"
      ]
     },
     "execution_count": 6,
     "metadata": {},
     "output_type": "execute_result"
    }
   ],
   "source": [
    "10**6, 3*3, 2/4"
   ]
  },
  {
   "cell_type": "code",
   "execution_count": 7,
   "id": "75734a26",
   "metadata": {},
   "outputs": [
    {
     "data": {
      "text/plain": [
       "0.30000000000000004"
      ]
     },
     "execution_count": 7,
     "metadata": {},
     "output_type": "execute_result"
    }
   ],
   "source": [
    "0.2+0.1"
   ]
  },
  {
   "cell_type": "code",
   "execution_count": 8,
   "id": "3ecac17a",
   "metadata": {},
   "outputs": [
    {
     "name": "stdout",
     "output_type": "stream",
     "text": [
      "14000000\n"
     ]
    }
   ],
   "source": [
    "universe_age = 14_000_000 # only after python 3.6\n",
    "print(universe_age)"
   ]
  },
  {
   "cell_type": "code",
   "execution_count": 9,
   "id": "6f16d4ce",
   "metadata": {},
   "outputs": [
    {
     "name": "stdout",
     "output_type": "stream",
     "text": [
      "0 0 0\n"
     ]
    }
   ],
   "source": [
    "x, y, z = 0, 0, 0 # python 内没有常量\n",
    "print(x, y, z)"
   ]
  },
  {
   "cell_type": "code",
   "execution_count": 10,
   "id": "7df8d0b5",
   "metadata": {},
   "outputs": [
    {
     "name": "stdout",
     "output_type": "stream",
     "text": [
      "8 8 8 8\n"
     ]
    }
   ],
   "source": [
    "print(3+5, 2*4, int(16/2), 10-2)"
   ]
  },
  {
   "cell_type": "code",
   "execution_count": 11,
   "id": "af065bfd",
   "metadata": {},
   "outputs": [
    {
     "name": "stdout",
     "output_type": "stream",
     "text": [
      "My favorite number is 2\n"
     ]
    }
   ],
   "source": [
    "my_favorite_number = 2\n",
    "print(f\"My favorite number is {my_favorite_number}\")"
   ]
  },
  {
   "cell_type": "markdown",
   "id": "8c06d689",
   "metadata": {},
   "source": [
    "# List"
   ]
  },
  {
   "cell_type": "code",
   "execution_count": 12,
   "id": "0ce70b7f",
   "metadata": {},
   "outputs": [
    {
     "name": "stdout",
     "output_type": "stream",
     "text": [
      "['trek', 'cannondale', 'redline']\tTrek\n"
     ]
    }
   ],
   "source": [
    "bicycles = ['trek', 'cannondale', 'redline']\n",
    "print(bicycles, end='\\t')\n",
    "print(bicycles[0].title())"
   ]
  },
  {
   "cell_type": "code",
   "execution_count": 13,
   "id": "b94e70cb",
   "metadata": {},
   "outputs": [
    {
     "name": "stdout",
     "output_type": "stream",
     "text": [
      "['not trek', 'cannondale', 'redline']\n"
     ]
    }
   ],
   "source": [
    "bicycles = ['trek', 'cannondale', 'redline']\n",
    "bicycles[0] = 'not trek' # begin index is 0\n",
    "print(bicycles)"
   ]
  },
  {
   "cell_type": "code",
   "execution_count": 14,
   "id": "1cba3e02",
   "metadata": {},
   "outputs": [
    {
     "name": "stdout",
     "output_type": "stream",
     "text": [
      "['not trek', 'cannondale', 'redline', 'trek']\n"
     ]
    }
   ],
   "source": [
    "# 压入\n",
    "bicycles = ['trek', 'cannondale', 'redline']\n",
    "bicycles.append('trek')\n",
    "print(bicycles)"
   ]
  },
  {
   "cell_type": "code",
   "execution_count": 15,
   "id": "796176eb",
   "metadata": {},
   "outputs": [
    {
     "name": "stdout",
     "output_type": "stream",
     "text": [
      "['ducati', 'not trek', 'cannondale', 'redline', 'trek']\n"
     ]
    }
   ],
   "source": [
    "# 列表中插入\n",
    "bicycles = ['trek', 'cannondale', 'redline']\n",
    "bicycles.insert(0, 'ducati')\n",
    "print(bicycles)"
   ]
  },
  {
   "cell_type": "code",
   "execution_count": 16,
   "id": "d9970a92",
   "metadata": {},
   "outputs": [
    {
     "name": "stdout",
     "output_type": "stream",
     "text": [
      "['not trek', 'cannondale', 'redline', 'trek']\n"
     ]
    }
   ],
   "source": [
    "# 删除元素\n",
    "bicycles = ['trek', 'cannondale', 'redline']\n",
    "del bicycles[0]\n",
    "print(bicycles)"
   ]
  },
  {
   "cell_type": "code",
   "execution_count": 17,
   "id": "dd2b095e",
   "metadata": {},
   "outputs": [
    {
     "name": "stdout",
     "output_type": "stream",
     "text": [
      "trek\n",
      "['not trek', 'cannondale', 'redline']\n"
     ]
    }
   ],
   "source": [
    "# 弹出\n",
    "bicycles_poped_element = bicycles.pop()\n",
    "print(bicycles_poped_element)\n",
    "print(bicycles)"
   ]
  },
  {
   "cell_type": "code",
   "execution_count": 18,
   "id": "eb6be862",
   "metadata": {},
   "outputs": [
    {
     "name": "stdout",
     "output_type": "stream",
     "text": [
      "redline\n",
      "['not trek', 'cannondale']\n"
     ]
    }
   ],
   "source": [
    "# 弹出任意位置的元素\n",
    "bicycles_poped_element = bicycles.pop(2)\n",
    "print(bicycles_poped_element)\n",
    "print(bicycles)"
   ]
  },
  {
   "cell_type": "code",
   "execution_count": 23,
   "id": "a8a4b55b",
   "metadata": {},
   "outputs": [
    {
     "name": "stdout",
     "output_type": "stream",
     "text": [
      "trek\n",
      "['cannondale', 'redline']\n",
      "trek is too expensive\n"
     ]
    }
   ],
   "source": [
    "# 根据值删除\n",
    "bicycles = ['trek', 'cannondale', 'redline']\n",
    "bicycles_deleted_elements = 'trek'\n",
    "bicycles.remove(bicycles_deleted_elements)\n",
    "print(bicycles_deleted_elements)\n",
    "print(bicycles)\n",
    "print(f\"{bicycles_deleted_elements} is too expensive\")"
   ]
  },
  {
   "cell_type": "code",
   "execution_count": 38,
   "id": "e9724bdc",
   "metadata": {},
   "outputs": [
    {
     "name": "stdout",
     "output_type": "stream",
     "text": [
      "The list is ['maxsola', 'mixkim', 'official']\n",
      "official is busy, the rest people is ['maxsola', 'mixkim']\n",
      "but 2official is available, he can come. the people is {dinner_list}\n",
      "there is bigger table, the rest people is ['maxsola', 'mixkim', '2official', '3official', '4official', '5official']\n",
      "sorry maxsola\n",
      "sorry mixkim\n",
      "sorry 2official\n",
      "sorry 3official\n",
      "[]\n"
     ]
    }
   ],
   "source": [
    "## practice\n",
    "dinner_list = ['maxsola', 'mixkim', 'official']\n",
    "print(f\"The list is {dinner_list}\")\n",
    "\n",
    "busy_people = 'official'\n",
    "dinner_list.remove(busy_people)\n",
    "print(f\"{busy_people} is busy, the rest people is {dinner_list}\")\n",
    "\n",
    "avail_people = '2official'\n",
    "dinner_list.insert(2, avail_people)\n",
    "print(f\"but {avail_people} is available, he can come. the people \"\n",
    "      \"is {dinner_list}\")\n",
    "\n",
    "more_people = ['3official', '4official', '5official']\n",
    "for i in range(len(more_people)):\n",
    "    dinner_list.append(more_people[i])\n",
    "print(f\"there is bigger table, the rest people is {dinner_list}\")\n",
    "\n",
    "for i in range(len(dinner_list) - 2):\n",
    "    print(f\"sorry {dinner_list.pop(0)}\")\n",
    "\n",
    "for i in range(2):\n",
    "    del dinner_list[0]\n",
    "    \n",
    "print(dinner_list)"
   ]
  },
  {
   "cell_type": "markdown",
   "id": "dbd32072",
   "metadata": {},
   "source": [
    "# List Sort"
   ]
  },
  {
   "cell_type": "code",
   "execution_count": 42,
   "id": "190457c7",
   "metadata": {},
   "outputs": [
    {
     "name": "stdout",
     "output_type": "stream",
     "text": [
      "['BMW', 'audi', 'bms', 'toyota']\n"
     ]
    }
   ],
   "source": [
    "cars = ['BMW', 'bms', 'toyota', 'audi'] # ascii 码\n",
    "cars.sort()\n",
    "print(cars)"
   ]
  },
  {
   "cell_type": "code",
   "execution_count": 43,
   "id": "4a0c4b9b",
   "metadata": {},
   "outputs": [
    {
     "name": "stdout",
     "output_type": "stream",
     "text": [
      "['toyota', 'bms', 'audi', 'BMW']\n"
     ]
    }
   ],
   "source": [
    "cars.sort(reverse=True)\n",
    "print(cars)"
   ]
  },
  {
   "cell_type": "code",
   "execution_count": 46,
   "id": "da3a24d6",
   "metadata": {},
   "outputs": [
    {
     "data": {
      "text/plain": [
       "['toyota', 'bms', 'audi', 'BMW']"
      ]
     },
     "execution_count": 46,
     "metadata": {},
     "output_type": "execute_result"
    }
   ],
   "source": [
    "# sort 永久排序\n",
    "# sorted 临时排序\n",
    "sorted(cars, reverse=True)"
   ]
  },
  {
   "cell_type": "code",
   "execution_count": 48,
   "id": "382544c1",
   "metadata": {},
   "outputs": [
    {
     "name": "stdout",
     "output_type": "stream",
     "text": [
      "['toyota', 'bms', 'audi', 'BMW']\n"
     ]
    }
   ],
   "source": [
    "# 反转元素顺序\n",
    "cars.reverse()\n",
    "print(cars)"
   ]
  },
  {
   "cell_type": "code",
   "execution_count": 49,
   "id": "d3c49bdb",
   "metadata": {},
   "outputs": [
    {
     "data": {
      "text/plain": [
       "4"
      ]
     },
     "execution_count": 49,
     "metadata": {},
     "output_type": "execute_result"
    }
   ],
   "source": [
    "len(cars)"
   ]
  },
  {
   "cell_type": "code",
   "execution_count": 50,
   "id": "dcc7deeb",
   "metadata": {},
   "outputs": [
    {
     "ename": "IndexError",
     "evalue": "list index out of range",
     "output_type": "error",
     "traceback": [
      "\u001b[1;31m---------------------------------------------------------------------------\u001b[0m",
      "\u001b[1;31mIndexError\u001b[0m                                Traceback (most recent call last)",
      "Cell \u001b[1;32mIn[50], line 1\u001b[0m\n\u001b[1;32m----> 1\u001b[0m \u001b[43mcars\u001b[49m\u001b[43m[\u001b[49m\u001b[38;5;241;43m5\u001b[39;49m\u001b[43m]\u001b[49m\n",
      "\u001b[1;31mIndexError\u001b[0m: list index out of range"
     ]
    }
   ],
   "source": [
    "cars[5]"
   ]
  },
  {
   "cell_type": "code",
   "execution_count": 53,
   "id": "d7469497",
   "metadata": {},
   "outputs": [
    {
     "name": "stdout",
     "output_type": "stream",
     "text": [
      "toyota\tbms\taudi\tBMW\t"
     ]
    }
   ],
   "source": [
    "cars = ['BMW', 'bms', 'toyota', 'audi']\n",
    "for car in cars:\n",
    "    print(car, end='\\t')"
   ]
  },
  {
   "cell_type": "code",
   "execution_count": 55,
   "id": "c90bda97",
   "metadata": {},
   "outputs": [
    {
     "name": "stdout",
     "output_type": "stream",
     "text": [
      "Bms, this is a great cars\n",
      "Toyota, this is a great cars\n",
      "Audi, this is a great cars\n",
      "thanks\n"
     ]
    }
   ],
   "source": [
    "cars = ['bms', 'toyota', 'audi']\n",
    "for car in cars:\n",
    "    print(f\"{car.title()}, this is a great cars\")\n",
    "\n",
    "print(\"thanks\")"
   ]
  },
  {
   "cell_type": "code",
   "execution_count": 61,
   "id": "30d4f1e8",
   "metadata": {},
   "outputs": [
    {
     "name": "stdout",
     "output_type": "stream",
     "text": [
      "1\t2\t3\t4\t"
     ]
    }
   ],
   "source": [
    "# range() 左闭右开\n",
    "for value in range(1, 5):\n",
    "    print(value,end='\\t')"
   ]
  },
  {
   "cell_type": "code",
   "execution_count": 67,
   "id": "b2dc9a04",
   "metadata": {},
   "outputs": [
    {
     "data": {
      "text/plain": [
       "[0, 2, 4]"
      ]
     },
     "execution_count": 67,
     "metadata": {},
     "output_type": "execute_result"
    }
   ],
   "source": [
    "# range(start, stop, step)\n",
    "list(range(0, 6, 2))"
   ]
  },
  {
   "cell_type": "code",
   "execution_count": 68,
   "id": "dc7aaabf",
   "metadata": {},
   "outputs": [
    {
     "name": "stdout",
     "output_type": "stream",
     "text": [
      "[1, 4, 9, 16, 25, 36, 49, 64, 81, 100]\n"
     ]
    }
   ],
   "source": [
    "sqare = []\n",
    "for value in range(1, 11):\n",
    "    sqare.append(value**2)\n",
    "print(sqare)"
   ]
  },
  {
   "cell_type": "markdown",
   "id": "12547ceb",
   "metadata": {},
   "source": [
    "# Number solve"
   ]
  },
  {
   "cell_type": "code",
   "execution_count": 69,
   "id": "1fb68b86",
   "metadata": {},
   "outputs": [
    {
     "name": "stdout",
     "output_type": "stream",
     "text": [
      "[0, 1, 2, 3, 4, 5, 6, 7, 8, 9]\n"
     ]
    }
   ],
   "source": [
    "digits = list(range(10))\n",
    "print(digits)"
   ]
  },
  {
   "cell_type": "code",
   "execution_count": 71,
   "id": "77abde7c",
   "metadata": {},
   "outputs": [
    {
     "data": {
      "text/plain": [
       "(0, 9, 45)"
      ]
     },
     "execution_count": 71,
     "metadata": {},
     "output_type": "execute_result"
    }
   ],
   "source": [
    "min(digits), max(digits), sum(digits)"
   ]
  },
  {
   "cell_type": "code",
   "execution_count": 73,
   "id": "27bf7b75",
   "metadata": {},
   "outputs": [
    {
     "data": {
      "text/plain": [
       "[1, 4, 9, 16, 25, 36, 49, 64, 81, 100]"
      ]
     },
     "execution_count": 73,
     "metadata": {},
     "output_type": "execute_result"
    }
   ],
   "source": [
    "# 列表解析\n",
    "squares = [value**2 for value in range(1, 11)]\n",
    "squares"
   ]
  },
  {
   "cell_type": "code",
   "execution_count": 79,
   "id": "9a53bf75",
   "metadata": {},
   "outputs": [
    {
     "data": {
      "text/plain": [
       "([4, 9],\n",
       " [1, 4, 9],\n",
       " [1, 4, 9, 16, 25, 36, 49, 64, 81, 100],\n",
       " [9, 16, 25, 36, 49, 64, 81, 100],\n",
       " [81, 100])"
      ]
     },
     "execution_count": 79,
     "metadata": {},
     "output_type": "execute_result"
    }
   ],
   "source": [
    "# slice 均是左闭右开\n",
    "squares[1:3], squares[:3], squares[:], squares[2:], squares[-2:]"
   ]
  },
  {
   "cell_type": "code",
   "execution_count": null,
   "id": "ecbf240f",
   "metadata": {},
   "outputs": [],
   "source": []
  }
 ],
 "metadata": {
  "kernelspec": {
   "display_name": "Python 3 (ipykernel)",
   "language": "python",
   "name": "python3"
  },
  "language_info": {
   "codemirror_mode": {
    "name": "ipython",
    "version": 3
   },
   "file_extension": ".py",
   "mimetype": "text/x-python",
   "name": "python",
   "nbconvert_exporter": "python",
   "pygments_lexer": "ipython3",
   "version": "3.10.8"
  }
 },
 "nbformat": 4,
 "nbformat_minor": 5
}
