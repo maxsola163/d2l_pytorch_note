{
 "cells": [
  {
   "cell_type": "code",
   "execution_count": 19,
   "id": "edb61012",
   "metadata": {},
   "outputs": [],
   "source": [
    "import this"
   ]
  },
  {
   "cell_type": "code",
   "execution_count": 20,
   "id": "b7cc90b9",
   "metadata": {},
   "outputs": [
    {
     "name": "stdout",
     "output_type": "stream",
     "text": [
      "Ada Lovelace\n",
      "Ada Lovelace\n",
      "ADA LOVELACE\n",
      "ada lovelace\n"
     ]
    }
   ],
   "source": [
    "name = \"ada lovelace\"\n",
    "\n",
    "print(name.title())\n",
    "print(name.title())\n",
    "print(name.upper())\n",
    "print(name.lower())"
   ]
  },
  {
   "cell_type": "code",
   "execution_count": 21,
   "id": "3a40a898",
   "metadata": {},
   "outputs": [
    {
     "name": "stdout",
     "output_type": "stream",
     "text": [
      "Hello, Ada Lovelace\n",
      "Hello, Ada Lovelace\n"
     ]
    }
   ],
   "source": [
    "first_name = \"ada\"\n",
    "last_name = \"lovelace\"\n",
    "full_name = f\"{first_name} {last_name}\"\n",
    "\n",
    "print(f\"Hello, {first_name.title()} {last_name.title()}\")\n",
    "\n",
    "message = \"Hello, {} {}\".format(first_name.title(), last_name.title())\n",
    "\n",
    "print(message)"
   ]
  },
  {
   "cell_type": "code",
   "execution_count": 22,
   "id": "cb9ad6d4",
   "metadata": {},
   "outputs": [
    {
     "name": "stdout",
     "output_type": "stream",
     "text": [
      "pyth on\n",
      "\tLength:7\n",
      "pyth on \n",
      "\tLength:8\n",
      " pyth on\n",
      "\tLength:8\n",
      " pyth on \n",
      "\tLength:9\n"
     ]
    }
   ],
   "source": [
    "# delete blank character\n",
    "\n",
    "language = \" pyth on \"\n",
    "print(\"{}\\n\\tLength:{}\".format(language.strip(), len(language.strip())))\n",
    "print(\"{}\\n\\tLength:{}\".format(language.lstrip(), len(language.lstrip())))\n",
    "print(\"{}\\n\\tLength:{}\".format(language.rstrip(), len(language.rstrip())))\n",
    "print(\"{}\\n\\tLength:{}\".format(language, len(language)))"
   ]
  },
  {
   "cell_type": "code",
   "execution_count": 23,
   "id": "54d0c3d8",
   "metadata": {},
   "outputs": [
    {
     "data": {
      "text/plain": [
       "(1000000, 9, 0.5)"
      ]
     },
     "execution_count": 23,
     "metadata": {},
     "output_type": "execute_result"
    }
   ],
   "source": [
    "10**6, 3*3, 2/4"
   ]
  },
  {
   "cell_type": "code",
   "execution_count": 24,
   "id": "75734a26",
   "metadata": {},
   "outputs": [
    {
     "data": {
      "text/plain": [
       "0.30000000000000004"
      ]
     },
     "execution_count": 24,
     "metadata": {},
     "output_type": "execute_result"
    }
   ],
   "source": [
    "0.2+0.1"
   ]
  },
  {
   "cell_type": "code",
   "execution_count": 25,
   "id": "3ecac17a",
   "metadata": {},
   "outputs": [
    {
     "name": "stdout",
     "output_type": "stream",
     "text": [
      "14000000\n"
     ]
    }
   ],
   "source": [
    "universe_age = 14_000_000 # only after python 3.6\n",
    "print(universe_age)"
   ]
  },
  {
   "cell_type": "code",
   "execution_count": 26,
   "id": "6f16d4ce",
   "metadata": {},
   "outputs": [
    {
     "name": "stdout",
     "output_type": "stream",
     "text": [
      "0 0 0\n"
     ]
    }
   ],
   "source": [
    "x, y, z = 0, 0, 0 # python 内没有常量\n",
    "print(x, y, z)"
   ]
  },
  {
   "cell_type": "code",
   "execution_count": 27,
   "id": "7df8d0b5",
   "metadata": {},
   "outputs": [
    {
     "name": "stdout",
     "output_type": "stream",
     "text": [
      "8 8 8 8\n"
     ]
    }
   ],
   "source": [
    "print(3+5, 2*4, int(16/2), 10-2)"
   ]
  },
  {
   "cell_type": "code",
   "execution_count": 28,
   "id": "af065bfd",
   "metadata": {},
   "outputs": [
    {
     "name": "stdout",
     "output_type": "stream",
     "text": [
      "My favorite number is 2\n"
     ]
    }
   ],
   "source": [
    "my_favorite_number = 2\n",
    "print(f\"My favorite number is {my_favorite_number}\")"
   ]
  },
  {
   "cell_type": "markdown",
   "id": "8c06d689",
   "metadata": {},
   "source": [
    "# List"
   ]
  },
  {
   "cell_type": "code",
   "execution_count": 29,
   "id": "0ce70b7f",
   "metadata": {},
   "outputs": [
    {
     "name": "stdout",
     "output_type": "stream",
     "text": [
      "['trek', 'cannondale', 'redline']\tTrek\n"
     ]
    }
   ],
   "source": [
    "bicycles = ['trek', 'cannondale', 'redline']\n",
    "print(bicycles, end='\\t')\n",
    "print(bicycles[0].title())"
   ]
  },
  {
   "cell_type": "code",
   "execution_count": 30,
   "id": "b94e70cb",
   "metadata": {},
   "outputs": [
    {
     "name": "stdout",
     "output_type": "stream",
     "text": [
      "['not trek', 'cannondale', 'redline']\n"
     ]
    }
   ],
   "source": [
    "bicycles = ['trek', 'cannondale', 'redline']\n",
    "bicycles[0] = 'not trek' # begin index is 0\n",
    "print(bicycles)"
   ]
  },
  {
   "cell_type": "code",
   "execution_count": 31,
   "id": "1cba3e02",
   "metadata": {},
   "outputs": [
    {
     "name": "stdout",
     "output_type": "stream",
     "text": [
      "['trek', 'cannondale', 'redline', 'trek']\n"
     ]
    }
   ],
   "source": [
    "# 压入\n",
    "bicycles = ['trek', 'cannondale', 'redline']\n",
    "bicycles.append('trek')\n",
    "print(bicycles)"
   ]
  },
  {
   "cell_type": "code",
   "execution_count": 32,
   "id": "796176eb",
   "metadata": {},
   "outputs": [
    {
     "name": "stdout",
     "output_type": "stream",
     "text": [
      "['ducati', 'trek', 'cannondale', 'redline']\n"
     ]
    }
   ],
   "source": [
    "# 列表中插入\n",
    "bicycles = ['trek', 'cannondale', 'redline']\n",
    "bicycles.insert(0, 'ducati')\n",
    "print(bicycles)"
   ]
  },
  {
   "cell_type": "code",
   "execution_count": 33,
   "id": "d9970a92",
   "metadata": {},
   "outputs": [
    {
     "name": "stdout",
     "output_type": "stream",
     "text": [
      "['cannondale', 'redline']\n"
     ]
    }
   ],
   "source": [
    "# 删除元素\n",
    "bicycles = ['trek', 'cannondale', 'redline']\n",
    "del bicycles[0]\n",
    "print(bicycles)"
   ]
  },
  {
   "cell_type": "code",
   "execution_count": 34,
   "id": "dd2b095e",
   "metadata": {},
   "outputs": [
    {
     "name": "stdout",
     "output_type": "stream",
     "text": [
      "redline\n",
      "['cannondale']\n"
     ]
    }
   ],
   "source": [
    "# 弹出\n",
    "bicycles_poped_element = bicycles.pop()\n",
    "print(bicycles_poped_element)\n",
    "print(bicycles)"
   ]
  },
  {
   "cell_type": "code",
   "execution_count": 35,
   "id": "eb6be862",
   "metadata": {},
   "outputs": [
    {
     "ename": "IndexError",
     "evalue": "pop index out of range",
     "output_type": "error",
     "traceback": [
      "\u001b[1;31m---------------------------------------------------------------------------\u001b[0m",
      "\u001b[1;31mIndexError\u001b[0m                                Traceback (most recent call last)",
      "Cell \u001b[1;32mIn[35], line 2\u001b[0m\n\u001b[0;32m      1\u001b[0m \u001b[38;5;66;03m# 弹出任意位置的元素\u001b[39;00m\n\u001b[1;32m----> 2\u001b[0m bicycles_poped_element \u001b[38;5;241m=\u001b[39m \u001b[43mbicycles\u001b[49m\u001b[38;5;241;43m.\u001b[39;49m\u001b[43mpop\u001b[49m\u001b[43m(\u001b[49m\u001b[38;5;241;43m2\u001b[39;49m\u001b[43m)\u001b[49m\n\u001b[0;32m      3\u001b[0m \u001b[38;5;28mprint\u001b[39m(bicycles_poped_element)\n\u001b[0;32m      4\u001b[0m \u001b[38;5;28mprint\u001b[39m(bicycles)\n",
      "\u001b[1;31mIndexError\u001b[0m: pop index out of range"
     ]
    }
   ],
   "source": [
    "# 弹出任意位置的元素\n",
    "bicycles_poped_element = bicycles.pop(2)\n",
    "print(bicycles_poped_element)\n",
    "print(bicycles)"
   ]
  },
  {
   "cell_type": "code",
   "execution_count": 36,
   "id": "a8a4b55b",
   "metadata": {},
   "outputs": [
    {
     "name": "stdout",
     "output_type": "stream",
     "text": [
      "trek\n",
      "['cannondale', 'redline']\n",
      "trek is too expensive\n"
     ]
    }
   ],
   "source": [
    "# 根据值删除\n",
    "bicycles = ['trek', 'cannondale', 'redline']\n",
    "bicycles_deleted_elements = 'trek'\n",
    "bicycles.remove(bicycles_deleted_elements)\n",
    "print(bicycles_deleted_elements)\n",
    "print(bicycles)\n",
    "print(f\"{bicycles_deleted_elements} is too expensive\")"
   ]
  },
  {
   "cell_type": "code",
   "execution_count": 37,
   "id": "e9724bdc",
   "metadata": {},
   "outputs": [
    {
     "name": "stdout",
     "output_type": "stream",
     "text": [
      "The list is ['maxsola', 'mixkim', 'official']\n",
      "official is busy, the rest people is ['maxsola', 'mixkim']\n",
      "but 2official is available, he can come. the people is {dinner_list}\n",
      "there is bigger table, the rest people is ['maxsola', 'mixkim', '2official', '3official', '4official', '5official']\n",
      "sorry maxsola\n",
      "sorry mixkim\n",
      "sorry 2official\n",
      "sorry 3official\n",
      "[]\n"
     ]
    }
   ],
   "source": [
    "## practice\n",
    "dinner_list = ['maxsola', 'mixkim', 'official']\n",
    "print(f\"The list is {dinner_list}\")\n",
    "\n",
    "busy_people = 'official'\n",
    "dinner_list.remove(busy_people)\n",
    "print(f\"{busy_people} is busy, the rest people is {dinner_list}\")\n",
    "\n",
    "avail_people = '2official'\n",
    "dinner_list.insert(2, avail_people)\n",
    "print(f\"but {avail_people} is available, he can come. the people \"\n",
    "      \"is {dinner_list}\")\n",
    "\n",
    "more_people = ['3official', '4official', '5official']\n",
    "for i in range(len(more_people)):\n",
    "    dinner_list.append(more_people[i])\n",
    "print(f\"there is bigger table, the rest people is {dinner_list}\")\n",
    "\n",
    "for i in range(len(dinner_list) - 2):\n",
    "    print(f\"sorry {dinner_list.pop(0)}\")\n",
    "\n",
    "for i in range(2):\n",
    "    del dinner_list[0]\n",
    "    \n",
    "print(dinner_list)"
   ]
  },
  {
   "cell_type": "markdown",
   "id": "dbd32072",
   "metadata": {},
   "source": [
    "# List Sort"
   ]
  },
  {
   "cell_type": "code",
   "execution_count": 38,
   "id": "190457c7",
   "metadata": {},
   "outputs": [
    {
     "name": "stdout",
     "output_type": "stream",
     "text": [
      "['BMW', 'audi', 'bms', 'toyota']\n"
     ]
    }
   ],
   "source": [
    "cars = ['BMW', 'bms', 'toyota', 'audi'] # ascii 码\n",
    "cars.sort()\n",
    "print(cars)"
   ]
  },
  {
   "cell_type": "code",
   "execution_count": 39,
   "id": "4a0c4b9b",
   "metadata": {},
   "outputs": [
    {
     "name": "stdout",
     "output_type": "stream",
     "text": [
      "['toyota', 'bms', 'audi', 'BMW']\n"
     ]
    }
   ],
   "source": [
    "cars.sort(reverse=True)\n",
    "print(cars)"
   ]
  },
  {
   "cell_type": "code",
   "execution_count": 40,
   "id": "da3a24d6",
   "metadata": {},
   "outputs": [
    {
     "data": {
      "text/plain": [
       "['toyota', 'bms', 'audi', 'BMW']"
      ]
     },
     "execution_count": 40,
     "metadata": {},
     "output_type": "execute_result"
    }
   ],
   "source": [
    "# sort 永久排序\n",
    "# sorted 临时排序\n",
    "sorted(cars, reverse=True)"
   ]
  },
  {
   "cell_type": "code",
   "execution_count": 41,
   "id": "382544c1",
   "metadata": {},
   "outputs": [
    {
     "name": "stdout",
     "output_type": "stream",
     "text": [
      "['BMW', 'audi', 'bms', 'toyota']\n"
     ]
    }
   ],
   "source": [
    "# 反转元素顺序\n",
    "cars.reverse()\n",
    "print(cars)"
   ]
  },
  {
   "cell_type": "code",
   "execution_count": 42,
   "id": "d3c49bdb",
   "metadata": {},
   "outputs": [
    {
     "data": {
      "text/plain": [
       "4"
      ]
     },
     "execution_count": 42,
     "metadata": {},
     "output_type": "execute_result"
    }
   ],
   "source": [
    "len(cars)"
   ]
  },
  {
   "cell_type": "code",
   "execution_count": 43,
   "id": "dcc7deeb",
   "metadata": {},
   "outputs": [
    {
     "ename": "IndexError",
     "evalue": "list index out of range",
     "output_type": "error",
     "traceback": [
      "\u001b[1;31m---------------------------------------------------------------------------\u001b[0m",
      "\u001b[1;31mIndexError\u001b[0m                                Traceback (most recent call last)",
      "Cell \u001b[1;32mIn[43], line 1\u001b[0m\n\u001b[1;32m----> 1\u001b[0m \u001b[43mcars\u001b[49m\u001b[43m[\u001b[49m\u001b[38;5;241;43m5\u001b[39;49m\u001b[43m]\u001b[49m\n",
      "\u001b[1;31mIndexError\u001b[0m: list index out of range"
     ]
    }
   ],
   "source": [
    "cars[5]"
   ]
  },
  {
   "cell_type": "code",
   "execution_count": 44,
   "id": "d7469497",
   "metadata": {},
   "outputs": [
    {
     "name": "stdout",
     "output_type": "stream",
     "text": [
      "BMW\tbms\ttoyota\taudi\t"
     ]
    }
   ],
   "source": [
    "cars = ['BMW', 'bms', 'toyota', 'audi']\n",
    "for car in cars:\n",
    "    print(car, end='\\t')"
   ]
  },
  {
   "cell_type": "code",
   "execution_count": 45,
   "id": "c90bda97",
   "metadata": {},
   "outputs": [
    {
     "name": "stdout",
     "output_type": "stream",
     "text": [
      "Bms, this is a great cars\n",
      "Toyota, this is a great cars\n",
      "Audi, this is a great cars\n",
      "thanks\n"
     ]
    }
   ],
   "source": [
    "cars = ['bms', 'toyota', 'audi']\n",
    "for car in cars:\n",
    "    print(f\"{car.title()}, this is a great cars\")\n",
    "\n",
    "print(\"thanks\")"
   ]
  },
  {
   "cell_type": "code",
   "execution_count": 46,
   "id": "30d4f1e8",
   "metadata": {},
   "outputs": [
    {
     "name": "stdout",
     "output_type": "stream",
     "text": [
      "1\t2\t3\t4\t"
     ]
    }
   ],
   "source": [
    "# range() 左闭右开\n",
    "for value in range(1, 5):\n",
    "    print(value,end='\\t')"
   ]
  },
  {
   "cell_type": "code",
   "execution_count": 47,
   "id": "b2dc9a04",
   "metadata": {},
   "outputs": [
    {
     "data": {
      "text/plain": [
       "[0, 2, 4]"
      ]
     },
     "execution_count": 47,
     "metadata": {},
     "output_type": "execute_result"
    }
   ],
   "source": [
    "# range(start, stop, step)\n",
    "list(range(0, 6, 2))"
   ]
  },
  {
   "cell_type": "code",
   "execution_count": 48,
   "id": "dc7aaabf",
   "metadata": {},
   "outputs": [
    {
     "name": "stdout",
     "output_type": "stream",
     "text": [
      "[1, 4, 9, 16, 25, 36, 49, 64, 81, 100]\n"
     ]
    }
   ],
   "source": [
    "sqare = []\n",
    "for value in range(1, 11):\n",
    "    sqare.append(value**2)\n",
    "print(sqare)"
   ]
  },
  {
   "cell_type": "markdown",
   "id": "12547ceb",
   "metadata": {},
   "source": [
    "# Number solve"
   ]
  },
  {
   "cell_type": "code",
   "execution_count": 49,
   "id": "1fb68b86",
   "metadata": {},
   "outputs": [
    {
     "name": "stdout",
     "output_type": "stream",
     "text": [
      "[0, 1, 2, 3, 4, 5, 6, 7, 8, 9]\n"
     ]
    }
   ],
   "source": [
    "digits = list(range(10))\n",
    "print(digits)"
   ]
  },
  {
   "cell_type": "code",
   "execution_count": 50,
   "id": "77abde7c",
   "metadata": {},
   "outputs": [
    {
     "data": {
      "text/plain": [
       "(0, 9, 45)"
      ]
     },
     "execution_count": 50,
     "metadata": {},
     "output_type": "execute_result"
    }
   ],
   "source": [
    "min(digits), max(digits), sum(digits)"
   ]
  },
  {
   "cell_type": "code",
   "execution_count": 51,
   "id": "27bf7b75",
   "metadata": {},
   "outputs": [
    {
     "data": {
      "text/plain": [
       "[1, 4, 9, 16, 25, 36, 49, 64, 81, 100]"
      ]
     },
     "execution_count": 51,
     "metadata": {},
     "output_type": "execute_result"
    }
   ],
   "source": [
    "# 列表解析\n",
    "squares = [value**2 for value in range(1, 11)]\n",
    "squares"
   ]
  },
  {
   "cell_type": "code",
   "execution_count": 52,
   "id": "5a0e29b5",
   "metadata": {},
   "outputs": [
    {
     "data": {
      "text/plain": [
       "([4, 9],\n",
       " [1, 4, 9],\n",
       " [1, 4, 9, 16, 25, 36, 49, 64, 81, 100],\n",
       " [9, 16, 25, 36, 49, 64, 81, 100],\n",
       " [81, 100])"
      ]
     },
     "execution_count": 52,
     "metadata": {},
     "output_type": "execute_result"
    }
   ],
   "source": [
    "# slice 均是左闭右开\n",
    "squares[1:3], squares[:3], squares[:], squares[2:], squares[-2:]"
   ]
  },
  {
   "cell_type": "code",
   "execution_count": 53,
   "id": "ecbf240f",
   "metadata": {},
   "outputs": [
    {
     "name": "stdout",
     "output_type": "stream",
     "text": [
      "Charles Martina Michael "
     ]
    }
   ],
   "source": [
    "players = ['charles', 'martina', 'michael', 'eli', 'florence']\n",
    "for play in players[:3]:\n",
    "    print(play.title(), end=' ')"
   ]
  },
  {
   "cell_type": "code",
   "execution_count": 54,
   "id": "42e96e02",
   "metadata": {},
   "outputs": [
    {
     "data": {
      "text/plain": [
       "(['pizza', 'watermelon', 'carrot cake'],\n",
       " ['pizza', 'qw%whortyui', 'carrot cake'])"
      ]
     },
     "execution_count": 54,
     "metadata": {},
     "output_type": "execute_result"
    }
   ],
   "source": [
    "# 复制列表 \n",
    "# 深复制\n",
    "my_foods = [\"pizza\", \"qw%whortyui\", \"carrot cake\"]\n",
    "copy_my_foods = my_foods[:]\n",
    "copy_my_foods[1] = 'watermelon'\n",
    "copy_my_foods, my_foods"
   ]
  },
  {
   "cell_type": "code",
   "execution_count": 55,
   "id": "23ca0159",
   "metadata": {},
   "outputs": [
    {
     "data": {
      "text/plain": [
       "(['pizza', 'watermelon', 'carrot cake'],\n",
       " ['pizza', 'watermelon', 'carrot cake'])"
      ]
     },
     "execution_count": 55,
     "metadata": {},
     "output_type": "execute_result"
    }
   ],
   "source": [
    "# 浅复制\n",
    "my_foods = [\"pizza\", \"falafel\", \"carrot cake\"]\n",
    "copy_my_foods = my_foods\n",
    "copy_my_foods[1] = 'watermelon'\n",
    "copy_my_foods, my_foods"
   ]
  },
  {
   "cell_type": "markdown",
   "id": "b629958e",
   "metadata": {},
   "source": [
    "# Tuple\n",
    "> 不可修改的列表(list)"
   ]
  },
  {
   "cell_type": "code",
   "execution_count": 56,
   "id": "a61c7f83",
   "metadata": {},
   "outputs": [
    {
     "name": "stdout",
     "output_type": "stream",
     "text": [
      "200\t50\t"
     ]
    }
   ],
   "source": [
    "dimensions = (200, 50)\n",
    "for di in dimensions:\n",
    "    print(di, end='\\t')"
   ]
  },
  {
   "cell_type": "code",
   "execution_count": 57,
   "id": "adad1e1c",
   "metadata": {},
   "outputs": [
    {
     "ename": "TypeError",
     "evalue": "'tuple' object does not support item assignment",
     "output_type": "error",
     "traceback": [
      "\u001b[1;31m---------------------------------------------------------------------------\u001b[0m",
      "\u001b[1;31mTypeError\u001b[0m                                 Traceback (most recent call last)",
      "Cell \u001b[1;32mIn[57], line 1\u001b[0m\n\u001b[1;32m----> 1\u001b[0m \u001b[43mdimensions\u001b[49m\u001b[43m[\u001b[49m\u001b[38;5;241;43m1\u001b[39;49m\u001b[43m]\u001b[49m \u001b[38;5;241m=\u001b[39m \u001b[38;5;241m500\u001b[39m\n",
      "\u001b[1;31mTypeError\u001b[0m: 'tuple' object does not support item assignment"
     ]
    }
   ],
   "source": [
    "dimensions[1] = 500"
   ]
  },
  {
   "cell_type": "markdown",
   "id": "cee263bf",
   "metadata": {},
   "source": [
    "**代码格式说明** PEP8\n",
    "\n",
    "- 缩进使用4个空格\n",
    "- 一行不超过80个字符\n",
    "- 使用一行空行将程序不同部分分开"
   ]
  },
  {
   "cell_type": "markdown",
   "id": "fc34e02e",
   "metadata": {},
   "source": [
    "# if"
   ]
  },
  {
   "cell_type": "code",
   "execution_count": 58,
   "id": "08610061",
   "metadata": {},
   "outputs": [
    {
     "name": "stdout",
     "output_type": "stream",
     "text": [
      "Audi\tBMW\tSubaru\tToyota\t"
     ]
    }
   ],
   "source": [
    "cars = ['audi', 'bmw', 'subaru', 'toyota']\n",
    "\n",
    "for car in cars:\n",
    "    if car == 'bmw':\n",
    "        print(car.upper(), end='\\t')\n",
    "    else:\n",
    "        print(car.title(), end='\\t')\n"
   ]
  },
  {
   "cell_type": "markdown",
   "id": "42e71426",
   "metadata": {},
   "source": [
    "## 条件判断"
   ]
  },
  {
   "cell_type": "code",
   "execution_count": 59,
   "id": "3e6de482",
   "metadata": {},
   "outputs": [
    {
     "data": {
      "text/plain": [
       "(True, False)"
      ]
     },
     "execution_count": 59,
     "metadata": {},
     "output_type": "execute_result"
    }
   ],
   "source": [
    "car == 'toyota', car == 'false'"
   ]
  },
  {
   "cell_type": "code",
   "execution_count": 60,
   "id": "4666728c",
   "metadata": {},
   "outputs": [
    {
     "data": {
      "text/plain": [
       "(False, True)"
      ]
     },
     "execution_count": 60,
     "metadata": {},
     "output_type": "execute_result"
    }
   ],
   "source": [
    "car == 'false', car != 'false'"
   ]
  },
  {
   "cell_type": "code",
   "execution_count": 61,
   "id": "dfe88ea2",
   "metadata": {},
   "outputs": [
    {
     "data": {
      "text/plain": [
       "(False, True)"
      ]
     },
     "execution_count": 61,
     "metadata": {},
     "output_type": "execute_result"
    }
   ],
   "source": [
    "(12 > 1) and (20 < 1), (12 > 1) and (20 > 1)"
   ]
  },
  {
   "cell_type": "code",
   "execution_count": 62,
   "id": "28755ad2",
   "metadata": {},
   "outputs": [
    {
     "data": {
      "text/plain": [
       "(True, True)"
      ]
     },
     "execution_count": 62,
     "metadata": {},
     "output_type": "execute_result"
    }
   ],
   "source": [
    "(12 > 1) or (20 < 1), (12 > 1) or (20 > 1)"
   ]
  },
  {
   "cell_type": "code",
   "execution_count": 63,
   "id": "e2b75b3e",
   "metadata": {},
   "outputs": [
    {
     "data": {
      "text/plain": [
       "True"
      ]
     },
     "execution_count": 63,
     "metadata": {},
     "output_type": "execute_result"
    }
   ],
   "source": [
    "'audi' in ['audi', 'bmw', 'subaru', 'toyota']"
   ]
  },
  {
   "cell_type": "code",
   "execution_count": 64,
   "id": "ecbaf8e8",
   "metadata": {},
   "outputs": [
    {
     "data": {
      "text/plain": [
       "False"
      ]
     },
     "execution_count": 64,
     "metadata": {},
     "output_type": "execute_result"
    }
   ],
   "source": [
    "'audi' not in ['audi', 'bmw', 'subaru', 'toyota']"
   ]
  },
  {
   "cell_type": "code",
   "execution_count": 5,
   "id": "b16380d6",
   "metadata": {},
   "outputs": [
    {
     "name": "stdout",
     "output_type": "stream",
     "text": [
      "$25\n"
     ]
    }
   ],
   "source": [
    "age = 12\n",
    "if age < 4:\n",
    "    print('Free')\n",
    "elif age <18:\n",
    "    print('$25')\n",
    "else:\n",
    "    print('$40')"
   ]
  },
  {
   "cell_type": "code",
   "execution_count": 6,
   "id": "81a158c9",
   "metadata": {},
   "outputs": [
    {
     "name": "stdout",
     "output_type": "stream",
     "text": [
      "The list is empty.\n"
     ]
    }
   ],
   "source": [
    "# 确定遍历的列表非空\n",
    "requests = []\n",
    "\n",
    "if requests:\n",
    "    for request in requests:\n",
    "        print(f\"{request}\")\n",
    "else:\n",
    "    print(\"The list is empty.\")"
   ]
  },
  {
   "cell_type": "code",
   "execution_count": 10,
   "id": "642c1fcc",
   "metadata": {},
   "outputs": [
    {
     "name": "stdout",
     "output_type": "stream",
     "text": [
      "add mushrooms.\n",
      "french fries is not available.\n",
      "add extra cheese.\n"
     ]
    }
   ],
   "source": [
    "available_toppings = ['mushrooms', 'olives', 'green peppers', 'pepperoni', 'pineapple', 'extra cheese']\n",
    "requests_toppings = ['mushrooms', 'french fries', 'extra cheese']\n",
    "\n",
    "if requests_toppings:\n",
    "    for request in requests_toppings:\n",
    "        if request in available_toppings:\n",
    "            print(f\"add {request}.\")\n",
    "        else:\n",
    "            print(f\"{request} is not available.\")\n",
    "else:\n",
    "    print(\"Do you want a plain pizza?\")"
   ]
  },
  {
   "cell_type": "markdown",
   "id": "3c013080",
   "metadata": {},
   "source": [
    "# 字典"
   ]
  },
  {
   "cell_type": "code",
   "execution_count": 12,
   "id": "51f91f47",
   "metadata": {},
   "outputs": [
    {
     "name": "stdout",
     "output_type": "stream",
     "text": [
      "green\t5\n"
     ]
    }
   ],
   "source": [
    "alien = {\n",
    "    'color' : 'green',\n",
    "    'points' : 5\n",
    "}\n",
    "print(alien['color'], end='\\t')\n",
    "print(alien['points'])"
   ]
  },
  {
   "cell_type": "code",
   "execution_count": 13,
   "id": "2991a814",
   "metadata": {},
   "outputs": [
    {
     "name": "stdout",
     "output_type": "stream",
     "text": [
      "{'color': 'green', 'points': 5, 'x_position': 0, 'y_position': 25}\n"
     ]
    }
   ],
   "source": [
    "# 增加键值对\n",
    "alien['x_position'] = 0\n",
    "alien['y_position'] = 25\n",
    "print(alien)"
   ]
  },
  {
   "cell_type": "code",
   "execution_count": 20,
   "id": "8184c2ae",
   "metadata": {},
   "outputs": [
    {
     "name": "stdout",
     "output_type": "stream",
     "text": [
      "{'color': 'green', 'points': 5}\n"
     ]
    }
   ],
   "source": [
    "alien = {}\n",
    "alien['color'] = 'green'\n",
    "alien['points'] = 5\n",
    "print(alien)"
   ]
  },
  {
   "cell_type": "code",
   "execution_count": 21,
   "id": "bdefc19c",
   "metadata": {},
   "outputs": [
    {
     "name": "stdout",
     "output_type": "stream",
     "text": [
      "The color of alien is green\n",
      "The color of alien is yellow\n"
     ]
    }
   ],
   "source": [
    "print(f\"The color of alien is {alien['color']}\")\n",
    "alien['color'] = \"yellow\"\n",
    "print(f\"The color of alien is {alien['color']}\") # f-string 不能使用转义字符"
   ]
  },
  {
   "cell_type": "code",
   "execution_count": 27,
   "id": "4959fa6f",
   "metadata": {},
   "outputs": [
    {
     "name": "stdout",
     "output_type": "stream",
     "text": [
      "Original position: 0, 25\n",
      "Original position: 2, 27\n"
     ]
    }
   ],
   "source": [
    "alien = {'x_position':0, 'y_position':25, 'speed':'medium'}\n",
    "print(f\"Original position: {alien['x_position']}, {alien['y_position']}\")\n",
    "\n",
    "if alien['speed'] == 'slow':\n",
    "    increment = 1\n",
    "elif alien['speed'] == 'medium':\n",
    "    increment = 2\n",
    "elif alien['speed'] == 'fast':\n",
    "    increment = 3\n",
    "\n",
    "alien['x_position'] += increment\n",
    "alien['y_position'] += increment\n",
    "print(f\"Original position: {alien['x_position']}, {alien['y_position']}\")"
   ]
  },
  {
   "cell_type": "code",
   "execution_count": 29,
   "id": "51630388",
   "metadata": {},
   "outputs": [
    {
     "name": "stdout",
     "output_type": "stream",
     "text": [
      "{'color': 'green', 'points': 5}\n",
      "{'color': 'green'}\n"
     ]
    }
   ],
   "source": [
    "# 删除键值对\n",
    "alien_0 = {'color': 'green', 'points': 5}\n",
    "print(alien_0)\n",
    "del alien_0['points']\n",
    "print(alien_0)\n"
   ]
  },
  {
   "cell_type": "code",
   "execution_count": 31,
   "id": "b99e86b9",
   "metadata": {},
   "outputs": [
    {
     "name": "stdout",
     "output_type": "stream",
     "text": [
      "Sarah's favorite language is java\n"
     ]
    }
   ],
   "source": [
    "favorite_language = {\n",
    "    'jen': 'c',\n",
    "    'sarah': 'java',\n",
    "    'edward': 'ruby',\n",
    "    'phil': 'python',\n",
    "}\n",
    "print(f\"Sarah's favorite language is {favorite_language['sarah']}\")"
   ]
  },
  {
   "cell_type": "code",
   "execution_count": 32,
   "id": "079c7eea",
   "metadata": {},
   "outputs": [
    {
     "data": {
      "text/plain": [
       "'No point assigned'"
      ]
     },
     "execution_count": 32,
     "metadata": {},
     "output_type": "execute_result"
    }
   ],
   "source": [
    "alien.get('sdfsdf', 'No point assigned')"
   ]
  },
  {
   "cell_type": "code",
   "execution_count": 39,
   "id": "fe07b84e",
   "metadata": {},
   "outputs": [
    {
     "name": "stdout",
     "output_type": "stream",
     "text": [
      "name : efermi\n",
      "first : enrico\n",
      "last : fermi\n"
     ]
    }
   ],
   "source": [
    "# 遍历字典\n",
    "user = {\n",
    "    'name': 'efermi',\n",
    "    'first': 'enrico',\n",
    "    'last': 'fermi'\n",
    "}\n",
    "\n",
    "for key, value in user.items(): # 返回一个列表\n",
    "    print(key, end=' : ')\n",
    "    print(value)"
   ]
  },
  {
   "cell_type": "code",
   "execution_count": 41,
   "id": "6951c854",
   "metadata": {},
   "outputs": [
    {
     "name": "stdout",
     "output_type": "stream",
     "text": [
      "name\tfirst\tlast\t\n",
      "Efermi\tEnrico\tFermi\t"
     ]
    }
   ],
   "source": [
    "for key in user.keys():\n",
    "    print(key, end='\\t')\n",
    "print()\n",
    "for value in user.values():\n",
    "    print(value.title(), end='\\t')"
   ]
  },
  {
   "cell_type": "code",
   "execution_count": 43,
   "id": "7f0b8818",
   "metadata": {},
   "outputs": [
    {
     "data": {
      "text/plain": [
       "(dict_values(['efermi', 'enrico', 'fermi']),\n",
       " dict_items([('name', 'efermi'), ('first', 'enrico'), ('last', 'fermi')]))"
      ]
     },
     "execution_count": 43,
     "metadata": {},
     "output_type": "execute_result"
    }
   ],
   "source": [
    "user.values(), user.items()"
   ]
  },
  {
   "cell_type": "code",
   "execution_count": 44,
   "id": "c70bbcde",
   "metadata": {},
   "outputs": [
    {
     "name": "stdout",
     "output_type": "stream",
     "text": [
      "Erin, please take our poll!\n"
     ]
    }
   ],
   "source": [
    "favorite_languages = {\n",
    "    'jen': 'python',\n",
    "    'sarah': 'c',\n",
    "    'edward': 'ruby',\n",
    "    'phil': 'python',\n",
    "}\n",
    "\n",
    "if 'erin' not in favorite_languages:\n",
    "    print(\"Erin, please take our poll!\")\n"
   ]
  },
  {
   "cell_type": "code",
   "execution_count": 46,
   "id": "30db7385",
   "metadata": {},
   "outputs": [
    {
     "name": "stdout",
     "output_type": "stream",
     "text": [
      "Edward, thank you for taking the poll.\n",
      "Jen, thank you for taking the poll.\n",
      "Phil, thank you for taking the poll.\n",
      "Sarah, thank you for taking the poll.\n"
     ]
    }
   ],
   "source": [
    "# 按特定顺序访问\n",
    "favorite_languages = {'jen': 'python', 'sarah': 'c', 'edward': 'ruby', 'phil': 'python'}\n",
    "\n",
    "for name in sorted(favorite_languages.keys()):\n",
    "    print(f\"{name.title()}, thank you for taking the poll.\")"
   ]
  },
  {
   "cell_type": "markdown",
   "id": "94b90b96",
   "metadata": {},
   "source": [
    "## 集合 set"
   ]
  },
  {
   "cell_type": "code",
   "execution_count": 51,
   "id": "e8be3456",
   "metadata": {},
   "outputs": [
    {
     "name": "stdout",
     "output_type": "stream",
     "text": [
      "python c ruby python c++ c++ \n",
      "ruby python c++ c "
     ]
    }
   ],
   "source": [
    "# 剔除重复值：集合 set\n",
    "favorite_languages['maxsola'] = 'c++'\n",
    "favorite_languages['max'] = 'c++'\n",
    "\n",
    "for name in favorite_languages.values():\n",
    "    print(f\"{name}\", end=' ')\n",
    "print()\n",
    "for name in set(favorite_languages.values()):\n",
    "    print(f\"{name}\", end=' ')"
   ]
  },
  {
   "cell_type": "code",
   "execution_count": 52,
   "id": "8cbe756f",
   "metadata": {},
   "outputs": [
    {
     "data": {
      "text/plain": [
       "{'c++', 'python'}"
      ]
     },
     "execution_count": 52,
     "metadata": {},
     "output_type": "execute_result"
    }
   ],
   "source": [
    "# 集合\n",
    "set_language = {'python', 'c++', 'python'}\n",
    "set_language"
   ]
  },
  {
   "cell_type": "markdown",
   "id": "3d0750d5",
   "metadata": {},
   "source": [
    "## 混合类型"
   ]
  },
  {
   "cell_type": "code",
   "execution_count": 55,
   "id": "be994a14",
   "metadata": {},
   "outputs": [
    {
     "name": "stdout",
     "output_type": "stream",
     "text": [
      "{'color': 'green', 'points': 5}\n",
      "{'color': 'yellow', 'points': 10}\n",
      "{'color': 'red', 'points': 25}\n"
     ]
    }
   ],
   "source": [
    "alien_0 = {'color': 'green', 'points': 5}\n",
    "alien_1 = {'color': 'yellow', 'points': 10}\n",
    "alien_2 = {'color': 'red', 'points': 25}\n",
    "\n",
    "aliens = [alien_0, alien_1, alien_2]\n",
    "for alien in aliens:\n",
    "    print(alien)"
   ]
  },
  {
   "cell_type": "code",
   "execution_count": null,
   "id": "c5aaabde",
   "metadata": {},
   "outputs": [],
   "source": [
    "aliens = []\n",
    "\n",
    "for alien_number in range(30):\n",
    "    new_"
   ]
  }
 ],
 "metadata": {
  "kernelspec": {
   "display_name": "Python 3 (ipykernel)",
   "language": "python",
   "name": "python3"
  },
  "language_info": {
   "codemirror_mode": {
    "name": "ipython",
    "version": 3
   },
   "file_extension": ".py",
   "mimetype": "text/x-python",
   "name": "python",
   "nbconvert_exporter": "python",
   "pygments_lexer": "ipython3",
   "version": "3.10.8"
  }
 },
 "nbformat": 4,
 "nbformat_minor": 5
}
