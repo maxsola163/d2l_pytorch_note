{
 "cells": [
  {
   "cell_type": "code",
   "execution_count": 19,
   "id": "edb61012",
   "metadata": {},
   "outputs": [],
   "source": [
    "import this"
   ]
  },
  {
   "cell_type": "code",
   "execution_count": 20,
   "id": "b7cc90b9",
   "metadata": {},
   "outputs": [
    {
     "name": "stdout",
     "output_type": "stream",
     "text": [
      "Ada Lovelace\n",
      "Ada Lovelace\n",
      "ADA LOVELACE\n",
      "ada lovelace\n"
     ]
    }
   ],
   "source": [
    "name = \"ada lovelace\"\n",
    "\n",
    "print(name.title())\n",
    "print(name.title())\n",
    "print(name.upper())\n",
    "print(name.lower())"
   ]
  },
  {
   "cell_type": "code",
   "execution_count": 21,
   "id": "3a40a898",
   "metadata": {},
   "outputs": [
    {
     "name": "stdout",
     "output_type": "stream",
     "text": [
      "Hello, Ada Lovelace\n",
      "Hello, Ada Lovelace\n"
     ]
    }
   ],
   "source": [
    "first_name = \"ada\"\n",
    "last_name = \"lovelace\"\n",
    "full_name = f\"{first_name} {last_name}\"\n",
    "\n",
    "print(f\"Hello, {first_name.title()} {last_name.title()}\")\n",
    "\n",
    "message = \"Hello, {} {}\".format(first_name.title(), last_name.title())\n",
    "\n",
    "print(message)"
   ]
  },
  {
   "cell_type": "code",
   "execution_count": 22,
   "id": "cb9ad6d4",
   "metadata": {},
   "outputs": [
    {
     "name": "stdout",
     "output_type": "stream",
     "text": [
      "pyth on\n",
      "\tLength:7\n",
      "pyth on \n",
      "\tLength:8\n",
      " pyth on\n",
      "\tLength:8\n",
      " pyth on \n",
      "\tLength:9\n"
     ]
    }
   ],
   "source": [
    "# delete blank character\n",
    "\n",
    "language = \" pyth on \"\n",
    "print(\"{}\\n\\tLength:{}\".format(language.strip(), len(language.strip())))\n",
    "print(\"{}\\n\\tLength:{}\".format(language.lstrip(), len(language.lstrip())))\n",
    "print(\"{}\\n\\tLength:{}\".format(language.rstrip(), len(language.rstrip())))\n",
    "print(\"{}\\n\\tLength:{}\".format(language, len(language)))"
   ]
  },
  {
   "cell_type": "code",
   "execution_count": 23,
   "id": "54d0c3d8",
   "metadata": {},
   "outputs": [
    {
     "data": {
      "text/plain": [
       "(1000000, 9, 0.5)"
      ]
     },
     "execution_count": 23,
     "metadata": {},
     "output_type": "execute_result"
    }
   ],
   "source": [
    "10**6, 3*3, 2/4"
   ]
  },
  {
   "cell_type": "code",
   "execution_count": 24,
   "id": "75734a26",
   "metadata": {},
   "outputs": [
    {
     "data": {
      "text/plain": [
       "0.30000000000000004"
      ]
     },
     "execution_count": 24,
     "metadata": {},
     "output_type": "execute_result"
    }
   ],
   "source": [
    "0.2+0.1"
   ]
  },
  {
   "cell_type": "code",
   "execution_count": 25,
   "id": "3ecac17a",
   "metadata": {},
   "outputs": [
    {
     "name": "stdout",
     "output_type": "stream",
     "text": [
      "14000000\n"
     ]
    }
   ],
   "source": [
    "universe_age = 14_000_000 # only after python 3.6\n",
    "print(universe_age)"
   ]
  },
  {
   "cell_type": "code",
   "execution_count": 26,
   "id": "6f16d4ce",
   "metadata": {},
   "outputs": [
    {
     "name": "stdout",
     "output_type": "stream",
     "text": [
      "0 0 0\n"
     ]
    }
   ],
   "source": [
    "x, y, z = 0, 0, 0 # python 内没有常量\n",
    "print(x, y, z)"
   ]
  },
  {
   "cell_type": "code",
   "execution_count": 27,
   "id": "7df8d0b5",
   "metadata": {},
   "outputs": [
    {
     "name": "stdout",
     "output_type": "stream",
     "text": [
      "8 8 8 8\n"
     ]
    }
   ],
   "source": [
    "print(3+5, 2*4, int(16/2), 10-2)"
   ]
  },
  {
   "cell_type": "code",
   "execution_count": 28,
   "id": "af065bfd",
   "metadata": {},
   "outputs": [
    {
     "name": "stdout",
     "output_type": "stream",
     "text": [
      "My favorite number is 2\n"
     ]
    }
   ],
   "source": [
    "my_favorite_number = 2\n",
    "print(f\"My favorite number is {my_favorite_number}\")"
   ]
  },
  {
   "cell_type": "markdown",
   "id": "8c06d689",
   "metadata": {},
   "source": [
    "# List"
   ]
  },
  {
   "cell_type": "code",
   "execution_count": 29,
   "id": "0ce70b7f",
   "metadata": {},
   "outputs": [
    {
     "name": "stdout",
     "output_type": "stream",
     "text": [
      "['trek', 'cannondale', 'redline']\tTrek\n"
     ]
    }
   ],
   "source": [
    "bicycles = ['trek', 'cannondale', 'redline']\n",
    "print(bicycles, end='\\t')\n",
    "print(bicycles[0].title())"
   ]
  },
  {
   "cell_type": "code",
   "execution_count": 30,
   "id": "b94e70cb",
   "metadata": {},
   "outputs": [
    {
     "name": "stdout",
     "output_type": "stream",
     "text": [
      "['not trek', 'cannondale', 'redline']\n"
     ]
    }
   ],
   "source": [
    "bicycles = ['trek', 'cannondale', 'redline']\n",
    "bicycles[0] = 'not trek' # begin index is 0\n",
    "print(bicycles)"
   ]
  },
  {
   "cell_type": "code",
   "execution_count": 31,
   "id": "1cba3e02",
   "metadata": {},
   "outputs": [
    {
     "name": "stdout",
     "output_type": "stream",
     "text": [
      "['trek', 'cannondale', 'redline', 'trek']\n"
     ]
    }
   ],
   "source": [
    "# 压入\n",
    "bicycles = ['trek', 'cannondale', 'redline']\n",
    "bicycles.append('trek')\n",
    "print(bicycles)"
   ]
  },
  {
   "cell_type": "code",
   "execution_count": 32,
   "id": "796176eb",
   "metadata": {},
   "outputs": [
    {
     "name": "stdout",
     "output_type": "stream",
     "text": [
      "['ducati', 'trek', 'cannondale', 'redline']\n"
     ]
    }
   ],
   "source": [
    "# 列表中插入\n",
    "bicycles = ['trek', 'cannondale', 'redline']\n",
    "bicycles.insert(0, 'ducati')\n",
    "print(bicycles)"
   ]
  },
  {
   "cell_type": "code",
   "execution_count": 33,
   "id": "d9970a92",
   "metadata": {},
   "outputs": [
    {
     "name": "stdout",
     "output_type": "stream",
     "text": [
      "['cannondale', 'redline']\n"
     ]
    }
   ],
   "source": [
    "# 删除元素\n",
    "bicycles = ['trek', 'cannondale', 'redline']\n",
    "del bicycles[0]\n",
    "print(bicycles)"
   ]
  },
  {
   "cell_type": "code",
   "execution_count": 34,
   "id": "dd2b095e",
   "metadata": {},
   "outputs": [
    {
     "name": "stdout",
     "output_type": "stream",
     "text": [
      "redline\n",
      "['cannondale']\n"
     ]
    }
   ],
   "source": [
    "# 弹出\n",
    "bicycles_poped_element = bicycles.pop()\n",
    "print(bicycles_poped_element)\n",
    "print(bicycles)"
   ]
  },
  {
   "cell_type": "code",
   "execution_count": 35,
   "id": "eb6be862",
   "metadata": {},
   "outputs": [
    {
     "ename": "IndexError",
     "evalue": "pop index out of range",
     "output_type": "error",
     "traceback": [
      "\u001b[1;31m---------------------------------------------------------------------------\u001b[0m",
      "\u001b[1;31mIndexError\u001b[0m                                Traceback (most recent call last)",
      "Cell \u001b[1;32mIn[35], line 2\u001b[0m\n\u001b[0;32m      1\u001b[0m \u001b[38;5;66;03m# 弹出任意位置的元素\u001b[39;00m\n\u001b[1;32m----> 2\u001b[0m bicycles_poped_element \u001b[38;5;241m=\u001b[39m \u001b[43mbicycles\u001b[49m\u001b[38;5;241;43m.\u001b[39;49m\u001b[43mpop\u001b[49m\u001b[43m(\u001b[49m\u001b[38;5;241;43m2\u001b[39;49m\u001b[43m)\u001b[49m\n\u001b[0;32m      3\u001b[0m \u001b[38;5;28mprint\u001b[39m(bicycles_poped_element)\n\u001b[0;32m      4\u001b[0m \u001b[38;5;28mprint\u001b[39m(bicycles)\n",
      "\u001b[1;31mIndexError\u001b[0m: pop index out of range"
     ]
    }
   ],
   "source": [
    "# 弹出任意位置的元素\n",
    "bicycles_poped_element = bicycles.pop(2)\n",
    "print(bicycles_poped_element)\n",
    "print(bicycles)"
   ]
  },
  {
   "cell_type": "code",
   "execution_count": 36,
   "id": "a8a4b55b",
   "metadata": {},
   "outputs": [
    {
     "name": "stdout",
     "output_type": "stream",
     "text": [
      "trek\n",
      "['cannondale', 'redline']\n",
      "trek is too expensive\n"
     ]
    }
   ],
   "source": [
    "# 根据值删除\n",
    "bicycles = ['trek', 'cannondale', 'redline']\n",
    "bicycles_deleted_elements = 'trek'\n",
    "bicycles.remove(bicycles_deleted_elements)\n",
    "print(bicycles_deleted_elements)\n",
    "print(bicycles)\n",
    "print(f\"{bicycles_deleted_elements} is too expensive\")"
   ]
  },
  {
   "cell_type": "code",
   "execution_count": 37,
   "id": "e9724bdc",
   "metadata": {},
   "outputs": [
    {
     "name": "stdout",
     "output_type": "stream",
     "text": [
      "The list is ['maxsola', 'mixkim', 'official']\n",
      "official is busy, the rest people is ['maxsola', 'mixkim']\n",
      "but 2official is available, he can come. the people is {dinner_list}\n",
      "there is bigger table, the rest people is ['maxsola', 'mixkim', '2official', '3official', '4official', '5official']\n",
      "sorry maxsola\n",
      "sorry mixkim\n",
      "sorry 2official\n",
      "sorry 3official\n",
      "[]\n"
     ]
    }
   ],
   "source": [
    "## practice\n",
    "dinner_list = ['maxsola', 'mixkim', 'official']\n",
    "print(f\"The list is {dinner_list}\")\n",
    "\n",
    "busy_people = 'official'\n",
    "dinner_list.remove(busy_people)\n",
    "print(f\"{busy_people} is busy, the rest people is {dinner_list}\")\n",
    "\n",
    "avail_people = '2official'\n",
    "dinner_list.insert(2, avail_people)\n",
    "print(f\"but {avail_people} is available, he can come. the people \"\n",
    "      \"is {dinner_list}\")\n",
    "\n",
    "more_people = ['3official', '4official', '5official']\n",
    "for i in range(len(more_people)):\n",
    "    dinner_list.append(more_people[i])\n",
    "print(f\"there is bigger table, the rest people is {dinner_list}\")\n",
    "\n",
    "for i in range(len(dinner_list) - 2):\n",
    "    print(f\"sorry {dinner_list.pop(0)}\")\n",
    "\n",
    "for i in range(2):\n",
    "    del dinner_list[0]\n",
    "    \n",
    "print(dinner_list)"
   ]
  },
  {
   "cell_type": "markdown",
   "id": "dbd32072",
   "metadata": {},
   "source": [
    "# List Sort"
   ]
  },
  {
   "cell_type": "code",
   "execution_count": 38,
   "id": "190457c7",
   "metadata": {},
   "outputs": [
    {
     "name": "stdout",
     "output_type": "stream",
     "text": [
      "['BMW', 'audi', 'bms', 'toyota']\n"
     ]
    }
   ],
   "source": [
    "cars = ['BMW', 'bms', 'toyota', 'audi'] # ascii 码\n",
    "cars.sort()\n",
    "print(cars)"
   ]
  },
  {
   "cell_type": "code",
   "execution_count": 39,
   "id": "4a0c4b9b",
   "metadata": {},
   "outputs": [
    {
     "name": "stdout",
     "output_type": "stream",
     "text": [
      "['toyota', 'bms', 'audi', 'BMW']\n"
     ]
    }
   ],
   "source": [
    "cars.sort(reverse=True)\n",
    "print(cars)"
   ]
  },
  {
   "cell_type": "code",
   "execution_count": 40,
   "id": "da3a24d6",
   "metadata": {},
   "outputs": [
    {
     "data": {
      "text/plain": [
       "['toyota', 'bms', 'audi', 'BMW']"
      ]
     },
     "execution_count": 40,
     "metadata": {},
     "output_type": "execute_result"
    }
   ],
   "source": [
    "# sort 永久排序\n",
    "# sorted 临时排序\n",
    "sorted(cars, reverse=True)"
   ]
  },
  {
   "cell_type": "code",
   "execution_count": 41,
   "id": "382544c1",
   "metadata": {},
   "outputs": [
    {
     "name": "stdout",
     "output_type": "stream",
     "text": [
      "['BMW', 'audi', 'bms', 'toyota']\n"
     ]
    }
   ],
   "source": [
    "# 反转元素顺序\n",
    "cars.reverse()\n",
    "print(cars)"
   ]
  },
  {
   "cell_type": "code",
   "execution_count": 42,
   "id": "d3c49bdb",
   "metadata": {},
   "outputs": [
    {
     "data": {
      "text/plain": [
       "4"
      ]
     },
     "execution_count": 42,
     "metadata": {},
     "output_type": "execute_result"
    }
   ],
   "source": [
    "len(cars)"
   ]
  },
  {
   "cell_type": "code",
   "execution_count": 43,
   "id": "dcc7deeb",
   "metadata": {},
   "outputs": [
    {
     "ename": "IndexError",
     "evalue": "list index out of range",
     "output_type": "error",
     "traceback": [
      "\u001b[1;31m---------------------------------------------------------------------------\u001b[0m",
      "\u001b[1;31mIndexError\u001b[0m                                Traceback (most recent call last)",
      "Cell \u001b[1;32mIn[43], line 1\u001b[0m\n\u001b[1;32m----> 1\u001b[0m \u001b[43mcars\u001b[49m\u001b[43m[\u001b[49m\u001b[38;5;241;43m5\u001b[39;49m\u001b[43m]\u001b[49m\n",
      "\u001b[1;31mIndexError\u001b[0m: list index out of range"
     ]
    }
   ],
   "source": [
    "cars[5]"
   ]
  },
  {
   "cell_type": "code",
   "execution_count": 44,
   "id": "d7469497",
   "metadata": {},
   "outputs": [
    {
     "name": "stdout",
     "output_type": "stream",
     "text": [
      "BMW\tbms\ttoyota\taudi\t"
     ]
    }
   ],
   "source": [
    "cars = ['BMW', 'bms', 'toyota', 'audi']\n",
    "for car in cars:\n",
    "    print(car, end='\\t')"
   ]
  },
  {
   "cell_type": "code",
   "execution_count": 45,
   "id": "c90bda97",
   "metadata": {},
   "outputs": [
    {
     "name": "stdout",
     "output_type": "stream",
     "text": [
      "Bms, this is a great cars\n",
      "Toyota, this is a great cars\n",
      "Audi, this is a great cars\n",
      "thanks\n"
     ]
    }
   ],
   "source": [
    "cars = ['bms', 'toyota', 'audi']\n",
    "for car in cars:\n",
    "    print(f\"{car.title()}, this is a great cars\")\n",
    "\n",
    "print(\"thanks\")"
   ]
  },
  {
   "cell_type": "code",
   "execution_count": 46,
   "id": "30d4f1e8",
   "metadata": {},
   "outputs": [
    {
     "name": "stdout",
     "output_type": "stream",
     "text": [
      "1\t2\t3\t4\t"
     ]
    }
   ],
   "source": [
    "# range() 左闭右开\n",
    "for value in range(1, 5):\n",
    "    print(value,end='\\t')"
   ]
  },
  {
   "cell_type": "code",
   "execution_count": 47,
   "id": "b2dc9a04",
   "metadata": {},
   "outputs": [
    {
     "data": {
      "text/plain": [
       "[0, 2, 4]"
      ]
     },
     "execution_count": 47,
     "metadata": {},
     "output_type": "execute_result"
    }
   ],
   "source": [
    "# range(start, stop, step)\n",
    "list(range(0, 6, 2))"
   ]
  },
  {
   "cell_type": "code",
   "execution_count": 48,
   "id": "dc7aaabf",
   "metadata": {},
   "outputs": [
    {
     "name": "stdout",
     "output_type": "stream",
     "text": [
      "[1, 4, 9, 16, 25, 36, 49, 64, 81, 100]\n"
     ]
    }
   ],
   "source": [
    "sqare = []\n",
    "for value in range(1, 11):\n",
    "    sqare.append(value**2)\n",
    "print(sqare)"
   ]
  },
  {
   "cell_type": "markdown",
   "id": "12547ceb",
   "metadata": {},
   "source": [
    "# Number solve"
   ]
  },
  {
   "cell_type": "code",
   "execution_count": 49,
   "id": "1fb68b86",
   "metadata": {},
   "outputs": [
    {
     "name": "stdout",
     "output_type": "stream",
     "text": [
      "[0, 1, 2, 3, 4, 5, 6, 7, 8, 9]\n"
     ]
    }
   ],
   "source": [
    "digits = list(range(10))\n",
    "print(digits)"
   ]
  },
  {
   "cell_type": "code",
   "execution_count": 50,
   "id": "77abde7c",
   "metadata": {},
   "outputs": [
    {
     "data": {
      "text/plain": [
       "(0, 9, 45)"
      ]
     },
     "execution_count": 50,
     "metadata": {},
     "output_type": "execute_result"
    }
   ],
   "source": [
    "min(digits), max(digits), sum(digits)"
   ]
  },
  {
   "cell_type": "code",
   "execution_count": 51,
   "id": "27bf7b75",
   "metadata": {},
   "outputs": [
    {
     "data": {
      "text/plain": [
       "[1, 4, 9, 16, 25, 36, 49, 64, 81, 100]"
      ]
     },
     "execution_count": 51,
     "metadata": {},
     "output_type": "execute_result"
    }
   ],
   "source": [
    "# 列表解析\n",
    "squares = [value**2 for value in range(1, 11)]\n",
    "squares"
   ]
  },
  {
   "cell_type": "code",
   "execution_count": 52,
   "id": "5a0e29b5",
   "metadata": {},
   "outputs": [
    {
     "data": {
      "text/plain": [
       "([4, 9],\n",
       " [1, 4, 9],\n",
       " [1, 4, 9, 16, 25, 36, 49, 64, 81, 100],\n",
       " [9, 16, 25, 36, 49, 64, 81, 100],\n",
       " [81, 100])"
      ]
     },
     "execution_count": 52,
     "metadata": {},
     "output_type": "execute_result"
    }
   ],
   "source": [
    "# slice 均是左闭右开\n",
    "squares[1:3], squares[:3], squares[:], squares[2:], squares[-2:]"
   ]
  },
  {
   "cell_type": "code",
   "execution_count": 53,
   "id": "ecbf240f",
   "metadata": {},
   "outputs": [
    {
     "name": "stdout",
     "output_type": "stream",
     "text": [
      "Charles Martina Michael "
     ]
    }
   ],
   "source": [
    "players = ['charles', 'martina', 'michael', 'eli', 'florence']\n",
    "for play in players[:3]:\n",
    "    print(play.title(), end=' ')"
   ]
  },
  {
   "cell_type": "code",
   "execution_count": 54,
   "id": "42e96e02",
   "metadata": {},
   "outputs": [
    {
     "data": {
      "text/plain": [
       "(['pizza', 'watermelon', 'carrot cake'],\n",
       " ['pizza', 'qw%whortyui', 'carrot cake'])"
      ]
     },
     "execution_count": 54,
     "metadata": {},
     "output_type": "execute_result"
    }
   ],
   "source": [
    "# 复制列表 \n",
    "# 深复制\n",
    "my_foods = [\"pizza\", \"qw%whortyui\", \"carrot cake\"]\n",
    "copy_my_foods = my_foods[:]\n",
    "copy_my_foods[1] = 'watermelon'\n",
    "copy_my_foods, my_foods"
   ]
  },
  {
   "cell_type": "code",
   "execution_count": 55,
   "id": "23ca0159",
   "metadata": {},
   "outputs": [
    {
     "data": {
      "text/plain": [
       "(['pizza', 'watermelon', 'carrot cake'],\n",
       " ['pizza', 'watermelon', 'carrot cake'])"
      ]
     },
     "execution_count": 55,
     "metadata": {},
     "output_type": "execute_result"
    }
   ],
   "source": [
    "# 浅复制\n",
    "my_foods = [\"pizza\", \"falafel\", \"carrot cake\"]\n",
    "copy_my_foods = my_foods\n",
    "copy_my_foods[1] = 'watermelon'\n",
    "copy_my_foods, my_foods"
   ]
  },
  {
   "cell_type": "markdown",
   "id": "b629958e",
   "metadata": {},
   "source": [
    "# Tuple\n",
    "> 不可修改的列表(list)"
   ]
  },
  {
   "cell_type": "code",
   "execution_count": 56,
   "id": "a61c7f83",
   "metadata": {},
   "outputs": [
    {
     "name": "stdout",
     "output_type": "stream",
     "text": [
      "200\t50\t"
     ]
    }
   ],
   "source": [
    "dimensions = (200, 50)\n",
    "for di in dimensions:\n",
    "    print(di, end='\\t')"
   ]
  },
  {
   "cell_type": "code",
   "execution_count": 57,
   "id": "adad1e1c",
   "metadata": {},
   "outputs": [
    {
     "ename": "TypeError",
     "evalue": "'tuple' object does not support item assignment",
     "output_type": "error",
     "traceback": [
      "\u001b[1;31m---------------------------------------------------------------------------\u001b[0m",
      "\u001b[1;31mTypeError\u001b[0m                                 Traceback (most recent call last)",
      "Cell \u001b[1;32mIn[57], line 1\u001b[0m\n\u001b[1;32m----> 1\u001b[0m \u001b[43mdimensions\u001b[49m\u001b[43m[\u001b[49m\u001b[38;5;241;43m1\u001b[39;49m\u001b[43m]\u001b[49m \u001b[38;5;241m=\u001b[39m \u001b[38;5;241m500\u001b[39m\n",
      "\u001b[1;31mTypeError\u001b[0m: 'tuple' object does not support item assignment"
     ]
    }
   ],
   "source": [
    "dimensions[1] = 500"
   ]
  },
  {
   "cell_type": "markdown",
   "id": "cee263bf",
   "metadata": {},
   "source": [
    "**代码格式说明** PEP8\n",
    "\n",
    "- 缩进使用4个空格\n",
    "- 一行不超过80个字符\n",
    "- 使用一行空行将程序不同部分分开"
   ]
  },
  {
   "cell_type": "markdown",
   "id": "fc34e02e",
   "metadata": {},
   "source": [
    "# if"
   ]
  },
  {
   "cell_type": "code",
   "execution_count": 58,
   "id": "08610061",
   "metadata": {},
   "outputs": [
    {
     "name": "stdout",
     "output_type": "stream",
     "text": [
      "Audi\tBMW\tSubaru\tToyota\t"
     ]
    }
   ],
   "source": [
    "cars = ['audi', 'bmw', 'subaru', 'toyota']\n",
    "\n",
    "for car in cars:\n",
    "    if car == 'bmw':\n",
    "        print(car.upper(), end='\\t')\n",
    "    else:\n",
    "        print(car.title(), end='\\t')\n"
   ]
  },
  {
   "cell_type": "markdown",
   "id": "42e71426",
   "metadata": {},
   "source": [
    "## 条件判断"
   ]
  },
  {
   "cell_type": "code",
   "execution_count": 59,
   "id": "3e6de482",
   "metadata": {},
   "outputs": [
    {
     "data": {
      "text/plain": [
       "(True, False)"
      ]
     },
     "execution_count": 59,
     "metadata": {},
     "output_type": "execute_result"
    }
   ],
   "source": [
    "car == 'toyota', car == 'false'"
   ]
  },
  {
   "cell_type": "code",
   "execution_count": 60,
   "id": "4666728c",
   "metadata": {},
   "outputs": [
    {
     "data": {
      "text/plain": [
       "(False, True)"
      ]
     },
     "execution_count": 60,
     "metadata": {},
     "output_type": "execute_result"
    }
   ],
   "source": [
    "car == 'false', car != 'false'"
   ]
  },
  {
   "cell_type": "code",
   "execution_count": 61,
   "id": "dfe88ea2",
   "metadata": {},
   "outputs": [
    {
     "data": {
      "text/plain": [
       "(False, True)"
      ]
     },
     "execution_count": 61,
     "metadata": {},
     "output_type": "execute_result"
    }
   ],
   "source": [
    "(12 > 1) and (20 < 1), (12 > 1) and (20 > 1)"
   ]
  },
  {
   "cell_type": "code",
   "execution_count": 62,
   "id": "28755ad2",
   "metadata": {},
   "outputs": [
    {
     "data": {
      "text/plain": [
       "(True, True)"
      ]
     },
     "execution_count": 62,
     "metadata": {},
     "output_type": "execute_result"
    }
   ],
   "source": [
    "(12 > 1) or (20 < 1), (12 > 1) or (20 > 1)"
   ]
  },
  {
   "cell_type": "code",
   "execution_count": 63,
   "id": "e2b75b3e",
   "metadata": {},
   "outputs": [
    {
     "data": {
      "text/plain": [
       "True"
      ]
     },
     "execution_count": 63,
     "metadata": {},
     "output_type": "execute_result"
    }
   ],
   "source": [
    "'audi' in ['audi', 'bmw', 'subaru', 'toyota']"
   ]
  },
  {
   "cell_type": "code",
   "execution_count": 64,
   "id": "ecbaf8e8",
   "metadata": {},
   "outputs": [
    {
     "data": {
      "text/plain": [
       "False"
      ]
     },
     "execution_count": 64,
     "metadata": {},
     "output_type": "execute_result"
    }
   ],
   "source": [
    "'audi' not in ['audi', 'bmw', 'subaru', 'toyota']"
   ]
  },
  {
   "cell_type": "code",
   "execution_count": 5,
   "id": "b16380d6",
   "metadata": {},
   "outputs": [
    {
     "name": "stdout",
     "output_type": "stream",
     "text": [
      "$25\n"
     ]
    }
   ],
   "source": [
    "age = 12\n",
    "if age < 4:\n",
    "    print('Free')\n",
    "elif age <18:\n",
    "    print('$25')\n",
    "else:\n",
    "    print('$40')"
   ]
  },
  {
   "cell_type": "code",
   "execution_count": 6,
   "id": "81a158c9",
   "metadata": {},
   "outputs": [
    {
     "name": "stdout",
     "output_type": "stream",
     "text": [
      "The list is empty.\n"
     ]
    }
   ],
   "source": [
    "# 确定遍历的列表非空\n",
    "requests = []\n",
    "\n",
    "if requests:\n",
    "    for request in requests:\n",
    "        print(f\"{request}\")\n",
    "else:\n",
    "    print(\"The list is empty.\")"
   ]
  },
  {
   "cell_type": "code",
   "execution_count": 10,
   "id": "642c1fcc",
   "metadata": {},
   "outputs": [
    {
     "name": "stdout",
     "output_type": "stream",
     "text": [
      "add mushrooms.\n",
      "french fries is not available.\n",
      "add extra cheese.\n"
     ]
    }
   ],
   "source": [
    "available_toppings = ['mushrooms', 'olives', 'green peppers', 'pepperoni', 'pineapple', 'extra cheese']\n",
    "requests_toppings = ['mushrooms', 'french fries', 'extra cheese']\n",
    "\n",
    "if requests_toppings:\n",
    "    for request in requests_toppings:\n",
    "        if request in available_toppings:\n",
    "            print(f\"add {request}.\")\n",
    "        else:\n",
    "            print(f\"{request} is not available.\")\n",
    "else:\n",
    "    print(\"Do you want a plain pizza?\")"
   ]
  },
  {
   "cell_type": "markdown",
   "id": "3c013080",
   "metadata": {},
   "source": [
    "# 字典"
   ]
  },
  {
   "cell_type": "code",
   "execution_count": 12,
   "id": "51f91f47",
   "metadata": {},
   "outputs": [
    {
     "name": "stdout",
     "output_type": "stream",
     "text": [
      "green\t5\n"
     ]
    }
   ],
   "source": [
    "alien = {\n",
    "    'color' : 'green',\n",
    "    'points' : 5\n",
    "}\n",
    "print(alien['color'], end='\\t')\n",
    "print(alien['points'])"
   ]
  },
  {
   "cell_type": "code",
   "execution_count": 13,
   "id": "2991a814",
   "metadata": {},
   "outputs": [
    {
     "name": "stdout",
     "output_type": "stream",
     "text": [
      "{'color': 'green', 'points': 5, 'x_position': 0, 'y_position': 25}\n"
     ]
    }
   ],
   "source": [
    "# 增加键值对\n",
    "alien['x_position'] = 0\n",
    "alien['y_position'] = 25\n",
    "print(alien)"
   ]
  },
  {
   "cell_type": "code",
   "execution_count": 20,
   "id": "8184c2ae",
   "metadata": {},
   "outputs": [
    {
     "name": "stdout",
     "output_type": "stream",
     "text": [
      "{'color': 'green', 'points': 5}\n"
     ]
    }
   ],
   "source": [
    "alien = {}\n",
    "alien['color'] = 'green'\n",
    "alien['points'] = 5\n",
    "print(alien)"
   ]
  },
  {
   "cell_type": "code",
   "execution_count": 21,
   "id": "bdefc19c",
   "metadata": {},
   "outputs": [
    {
     "name": "stdout",
     "output_type": "stream",
     "text": [
      "The color of alien is green\n",
      "The color of alien is yellow\n"
     ]
    }
   ],
   "source": [
    "print(f\"The color of alien is {alien['color']}\")\n",
    "alien['color'] = \"yellow\"\n",
    "print(f\"The color of alien is {alien['color']}\") # f-string 不能使用转义字符"
   ]
  },
  {
   "cell_type": "code",
   "execution_count": 27,
   "id": "4959fa6f",
   "metadata": {},
   "outputs": [
    {
     "name": "stdout",
     "output_type": "stream",
     "text": [
      "Original position: 0, 25\n",
      "Original position: 2, 27\n"
     ]
    }
   ],
   "source": [
    "alien = {'x_position':0, 'y_position':25, 'speed':'medium'}\n",
    "print(f\"Original position: {alien['x_position']}, {alien['y_position']}\")\n",
    "\n",
    "if alien['speed'] == 'slow':\n",
    "    increment = 1\n",
    "elif alien['speed'] == 'medium':\n",
    "    increment = 2\n",
    "elif alien['speed'] == 'fast':\n",
    "    increment = 3\n",
    "\n",
    "alien['x_position'] += increment\n",
    "alien['y_position'] += increment\n",
    "print(f\"Original position: {alien['x_position']}, {alien['y_position']}\")"
   ]
  },
  {
   "cell_type": "code",
   "execution_count": 29,
   "id": "51630388",
   "metadata": {},
   "outputs": [
    {
     "name": "stdout",
     "output_type": "stream",
     "text": [
      "{'color': 'green', 'points': 5}\n",
      "{'color': 'green'}\n"
     ]
    }
   ],
   "source": [
    "# 删除键值对\n",
    "alien_0 = {'color': 'green', 'points': 5}\n",
    "print(alien_0)\n",
    "del alien_0['points']\n",
    "print(alien_0)\n"
   ]
  },
  {
   "cell_type": "code",
   "execution_count": 31,
   "id": "b99e86b9",
   "metadata": {},
   "outputs": [
    {
     "name": "stdout",
     "output_type": "stream",
     "text": [
      "Sarah's favorite language is java\n"
     ]
    }
   ],
   "source": [
    "favorite_language = {\n",
    "    'jen': 'c',\n",
    "    'sarah': 'java',\n",
    "    'edward': 'ruby',\n",
    "    'phil': 'python',\n",
    "}\n",
    "print(f\"Sarah's favorite language is {favorite_language['sarah']}\")"
   ]
  },
  {
   "cell_type": "code",
   "execution_count": 32,
   "id": "079c7eea",
   "metadata": {},
   "outputs": [
    {
     "data": {
      "text/plain": [
       "'No point assigned'"
      ]
     },
     "execution_count": 32,
     "metadata": {},
     "output_type": "execute_result"
    }
   ],
   "source": [
    "alien.get('sdfsdf', 'No point assigned')"
   ]
  },
  {
   "cell_type": "code",
   "execution_count": 39,
   "id": "fe07b84e",
   "metadata": {},
   "outputs": [
    {
     "name": "stdout",
     "output_type": "stream",
     "text": [
      "name : efermi\n",
      "first : enrico\n",
      "last : fermi\n"
     ]
    }
   ],
   "source": [
    "# 遍历字典\n",
    "user = {\n",
    "    'name': 'efermi',\n",
    "    'first': 'enrico',\n",
    "    'last': 'fermi'\n",
    "}\n",
    "\n",
    "for key, value in user.items(): # 返回一个列表\n",
    "    print(key, end=' : ')\n",
    "    print(value)"
   ]
  },
  {
   "cell_type": "code",
   "execution_count": 41,
   "id": "6951c854",
   "metadata": {},
   "outputs": [
    {
     "name": "stdout",
     "output_type": "stream",
     "text": [
      "name\tfirst\tlast\t\n",
      "Efermi\tEnrico\tFermi\t"
     ]
    }
   ],
   "source": [
    "for key in user.keys():\n",
    "    print(key, end='\\t')\n",
    "print()\n",
    "for value in user.values():\n",
    "    print(value.title(), end='\\t')"
   ]
  },
  {
   "cell_type": "code",
   "execution_count": 43,
   "id": "7f0b8818",
   "metadata": {},
   "outputs": [
    {
     "data": {
      "text/plain": [
       "(dict_values(['efermi', 'enrico', 'fermi']),\n",
       " dict_items([('name', 'efermi'), ('first', 'enrico'), ('last', 'fermi')]))"
      ]
     },
     "execution_count": 43,
     "metadata": {},
     "output_type": "execute_result"
    }
   ],
   "source": [
    "user.values(), user.items()"
   ]
  },
  {
   "cell_type": "code",
   "execution_count": 44,
   "id": "c70bbcde",
   "metadata": {},
   "outputs": [
    {
     "name": "stdout",
     "output_type": "stream",
     "text": [
      "Erin, please take our poll!\n"
     ]
    }
   ],
   "source": [
    "favorite_languages = {\n",
    "    'jen': 'python',\n",
    "    'sarah': 'c',\n",
    "    'edward': 'ruby',\n",
    "    'phil': 'python',\n",
    "}\n",
    "\n",
    "if 'erin' not in favorite_languages:\n",
    "    print(\"Erin, please take our poll!\")\n"
   ]
  },
  {
   "cell_type": "code",
   "execution_count": 46,
   "id": "30db7385",
   "metadata": {},
   "outputs": [
    {
     "name": "stdout",
     "output_type": "stream",
     "text": [
      "Edward, thank you for taking the poll.\n",
      "Jen, thank you for taking the poll.\n",
      "Phil, thank you for taking the poll.\n",
      "Sarah, thank you for taking the poll.\n"
     ]
    }
   ],
   "source": [
    "# 按特定顺序访问\n",
    "favorite_languages = {'jen': 'python', 'sarah': 'c', 'edward': 'ruby', 'phil': 'python'}\n",
    "\n",
    "for name in sorted(favorite_languages.keys()):\n",
    "    print(f\"{name.title()}, thank you for taking the poll.\")"
   ]
  },
  {
   "cell_type": "markdown",
   "id": "94b90b96",
   "metadata": {},
   "source": [
    "## 集合 set"
   ]
  },
  {
   "cell_type": "code",
   "execution_count": 51,
   "id": "e8be3456",
   "metadata": {},
   "outputs": [
    {
     "name": "stdout",
     "output_type": "stream",
     "text": [
      "python c ruby python c++ c++ \n",
      "ruby python c++ c "
     ]
    }
   ],
   "source": [
    "# 剔除重复值：集合 set\n",
    "favorite_languages['maxsola'] = 'c++'\n",
    "favorite_languages['max'] = 'c++'\n",
    "\n",
    "for name in favorite_languages.values():\n",
    "    print(f\"{name}\", end=' ')\n",
    "print()\n",
    "for name in set(favorite_languages.values()):\n",
    "    print(f\"{name}\", end=' ')"
   ]
  },
  {
   "cell_type": "code",
   "execution_count": 52,
   "id": "8cbe756f",
   "metadata": {},
   "outputs": [
    {
     "data": {
      "text/plain": [
       "{'c++', 'python'}"
      ]
     },
     "execution_count": 52,
     "metadata": {},
     "output_type": "execute_result"
    }
   ],
   "source": [
    "# 集合\n",
    "set_language = {'python', 'c++', 'python'}\n",
    "set_language"
   ]
  },
  {
   "cell_type": "markdown",
   "id": "3d0750d5",
   "metadata": {},
   "source": [
    "## 混合类型"
   ]
  },
  {
   "cell_type": "markdown",
   "id": "b350825a",
   "metadata": {},
   "source": [
    "### 列表中存储字典"
   ]
  },
  {
   "cell_type": "code",
   "execution_count": 6,
   "id": "be994a14",
   "metadata": {},
   "outputs": [
    {
     "name": "stdout",
     "output_type": "stream",
     "text": [
      "{'color': 'green', 'points': 5}\n",
      "{'color': 'yellow', 'points': 10}\n",
      "{'color': 'red', 'points': 25}\n"
     ]
    }
   ],
   "source": [
    "alien_0 = {'color': 'green', 'points': 5}\n",
    "alien_1 = {'color': 'yellow', 'points': 10}\n",
    "alien_2 = {'color': 'red', 'points': 25}\n",
    "\n",
    "aliens = [alien_0, alien_1, alien_2]\n",
    "for alien in aliens:\n",
    "    print(alien)"
   ]
  },
  {
   "cell_type": "code",
   "execution_count": 7,
   "id": "c5aaabde",
   "metadata": {},
   "outputs": [
    {
     "name": "stdout",
     "output_type": "stream",
     "text": [
      "{'color': 'yellow', 'points': 20, 'speed': 'medium'}\n",
      "{'color': 'yellow', 'points': 20, 'speed': 'medium'}\n",
      "{'color': 'yellow', 'points': 20, 'speed': 'medium'}\n",
      "{'color': 'green', 'points': 5, 'speed': 'slow'}\n",
      "{'color': 'green', 'points': 5, 'speed': 'slow'}\n",
      "Total number of aliens: 30\n"
     ]
    }
   ],
   "source": [
    "aliens = []\n",
    "\n",
    "for alien_number in range(30):\n",
    "    aliens.append({'color': 'green', 'points': 5, 'speed': 'slow'})\n",
    "\n",
    "for alien in aliens[:3]: # 浅拷贝\n",
    "    if alien['color'] == 'green':\n",
    "        alien['color'] = 'yellow'\n",
    "        alien['speed'] = 'medium'\n",
    "        alien['points'] = 20\n",
    "    \n",
    "for alien in aliens[:5]:\n",
    "    print(alien)\n",
    "print(f\"Total number of aliens: {len(aliens)}\")"
   ]
  },
  {
   "cell_type": "markdown",
   "id": "39a954e5",
   "metadata": {},
   "source": [
    "### 字典中存储列表"
   ]
  },
  {
   "cell_type": "code",
   "execution_count": 14,
   "id": "89588946",
   "metadata": {},
   "outputs": [
    {
     "name": "stdout",
     "output_type": "stream",
     "text": [
      "You ordered a thick ~ crust pizza\n",
      "\tmushrooms\n",
      "\textra cheese\n"
     ]
    }
   ],
   "source": [
    "pizza = {\n",
    "    'crust': 'thick',\n",
    "    'topping': ['mushrooms', 'extra cheese'],\n",
    "}\n",
    "\n",
    "print(f\"You ordered a {pizza['crust']} ~ crust pizza\")\n",
    "\n",
    "for topping in pizza['topping']:\n",
    "    print(\"\\t\" + topping)"
   ]
  },
  {
   "cell_type": "markdown",
   "id": "1cd19604",
   "metadata": {},
   "source": [
    "### 字典中存储字典"
   ]
  },
  {
   "cell_type": "code",
   "execution_count": 16,
   "id": "b71e1b9a",
   "metadata": {},
   "outputs": [
    {
     "name": "stdout",
     "output_type": "stream",
     "text": [
      "\n",
      "Username: aeinstein\n",
      "\tFull name: Albert Seinstein\n",
      "\tlocation: Princeton\n",
      "\n",
      "Username: mcurie\n",
      "\tFull name: Marie Curie\n",
      "\tlocation: Paris\n"
     ]
    }
   ],
   "source": [
    "users = {\n",
    "    'aeinstein': {\n",
    "        'first': 'albert',\n",
    "        'last': 'seinstein',\n",
    "        'location': 'princeton',\n",
    "    },\n",
    "     \n",
    "    'mcurie': {\n",
    "        'first': 'marie',\n",
    "        'last': 'curie',\n",
    "        'location': 'paris'\n",
    "    },\n",
    "}\n",
    "\n",
    "for username, user_info in users.items():\n",
    "    print(f\"\\nUsername: {username}\")\n",
    "    full_name = f\"{user_info['first']} {user_info['last']}\"\n",
    "    position = f\"{user_info['location']}\"\n",
    "    print(f\"\\tFull name: {full_name.title()}\")\n",
    "    print(f\"\\tlocation: {position.title()}\")"
   ]
  },
  {
   "cell_type": "markdown",
   "id": "2adae94d",
   "metadata": {},
   "source": [
    "# 用户输入和while循环"
   ]
  },
  {
   "cell_type": "code",
   "execution_count": 18,
   "id": "b045f7d6",
   "metadata": {},
   "outputs": [
    {
     "name": "stdout",
     "output_type": "stream",
     "text": [
      "Input somethinginput \n",
      "input  \t <class 'str'>\n"
     ]
    }
   ],
   "source": [
    "message = input(\"Input something\")\n",
    "print(message, '\\t', type(message))"
   ]
  },
  {
   "cell_type": "code",
   "execution_count": 22,
   "id": "dddd0df8",
   "metadata": {},
   "outputs": [
    {
     "name": "stdout",
     "output_type": "stream",
     "text": [
      "How old are you? 12\n",
      "12 \t <class 'int'>\n"
     ]
    }
   ],
   "source": [
    "age = int(input(\"How old are you? \"))\n",
    "print(age, '\\t', type(age))"
   ]
  },
  {
   "cell_type": "code",
   "execution_count": 24,
   "id": "4e5a42d7",
   "metadata": {},
   "outputs": [
    {
     "name": "stdout",
     "output_type": "stream",
     "text": [
      "Please input a number12\n",
      "The number 12 is even\n"
     ]
    }
   ],
   "source": [
    "# judge odd or even\n",
    "number = int(input(\"Please input a number\"))\n",
    "\n",
    "if number % 2 == 0:\n",
    "    print(f\"The number {number} is even\")\n",
    "else:\n",
    "    print(f\"The number {number} is odd\")"
   ]
  },
  {
   "cell_type": "code",
   "execution_count": 3,
   "id": "2bfac123",
   "metadata": {},
   "outputs": [
    {
     "name": "stdout",
     "output_type": "stream",
     "text": [
      "input quit to quit 12345\n",
      "12345\n",
      "input quit to quit quit\n"
     ]
    }
   ],
   "source": [
    "message = \"\"\n",
    "while message != 'quit':\n",
    "    message = input(\"input quit to quit \")\n",
    "    if message != 'quit':\n",
    "        print(message)"
   ]
  },
  {
   "cell_type": "code",
   "execution_count": 6,
   "id": "ddae08c9",
   "metadata": {},
   "outputs": [
    {
     "name": "stdout",
     "output_type": "stream",
     "text": [
      "input quit to quit :123\n",
      "123\n",
      "input quit to quit :quit\n"
     ]
    }
   ],
   "source": [
    "# 使用标志处理\n",
    "active = True\n",
    "while active:\n",
    "    message = input(\"input quit to quit :\")\n",
    "    if message == 'quit':\n",
    "        active = False\n",
    "    else:\n",
    "        print(message)"
   ]
  },
  {
   "cell_type": "code",
   "execution_count": 7,
   "id": "265fef57",
   "metadata": {},
   "outputs": [
    {
     "name": "stdout",
     "output_type": "stream",
     "text": [
      "input quit to quitsz\n",
      "I want to go sz\n",
      "input quit to quitquit\n"
     ]
    }
   ],
   "source": [
    "# 使用 break 退出\n",
    "while True:\n",
    "    city = input(\"input quit to quit\")\n",
    "    if city == \"quit\":\n",
    "        break\n",
    "    else:\n",
    "        print(f\"I want to go {city}\")"
   ]
  },
  {
   "cell_type": "code",
   "execution_count": 10,
   "id": "ffcebc65",
   "metadata": {},
   "outputs": [
    {
     "name": "stdout",
     "output_type": "stream",
     "text": [
      "1 3 5 7 9 "
     ]
    }
   ],
   "source": [
    "# continue\n",
    "current_number = 0\n",
    "while current_number < 10:\n",
    "    current_number += 1\n",
    "    if current_number % 2 == 0:\n",
    "        continue\n",
    "    \n",
    "    print(current_number, end=' ')"
   ]
  },
  {
   "cell_type": "markdown",
   "id": "28081476",
   "metadata": {},
   "source": [
    "**for循环是遍历的好方法，但是不应该修改列表的值**"
   ]
  },
  {
   "cell_type": "code",
   "execution_count": 14,
   "id": "9bd112fa",
   "metadata": {},
   "outputs": [
    {
     "name": "stdout",
     "output_type": "stream",
     "text": [
      "Verifying user: candace\n",
      "Verifying user: brain\n",
      "Verifying user: alice\n",
      "\n",
      "The following users have been confirmed\n",
      "Candace Brain Alice "
     ]
    }
   ],
   "source": [
    "unconfirmed_users = ['alice', 'brain', 'candace']\n",
    "confiremd_users = []\n",
    "\n",
    "while unconfirmed_users:\n",
    "    current_user = unconfirmed_users.pop()\n",
    "    \n",
    "    print(f\"Verifying user: {current_user}\")\n",
    "    confiremd_users.append(current_user)\n",
    "\n",
    "print(\"\\nThe following users have been confirmed\")\n",
    "for confiremd_user in confiremd_users:\n",
    "    print(confiremd_user.title(), end=' ')"
   ]
  },
  {
   "cell_type": "code",
   "execution_count": 18,
   "id": "2cd40c50",
   "metadata": {},
   "outputs": [
    {
     "name": "stdout",
     "output_type": "stream",
     "text": [
      "['dog', 'cat', 'dog', 'goldfish', 'cat', 'rabbit', 'cat']\n",
      "True\n",
      "['dog', 'dog', 'goldfish', 'rabbit']\n"
     ]
    }
   ],
   "source": [
    "pets = ['dog', 'cat', 'dog', 'goldfish', 'cat', 'rabbit', 'cat']\n",
    "print(pets)\n",
    "\n",
    "while 'cat' in pets:\n",
    "    pets.remove('cat') # 移除列表中第一个匹配项\n",
    "    \n",
    "print(pets)"
   ]
  },
  {
   "cell_type": "code",
   "execution_count": 20,
   "id": "80d9ce56",
   "metadata": {},
   "outputs": [
    {
     "name": "stdout",
     "output_type": "stream",
     "text": [
      "\n",
      "What is your name? 123\n",
      "Which mountain would you like to climb someday? wutong\n",
      "Would you like to let another person respond? (yes / no) no\n"
     ]
    }
   ],
   "source": [
    "responses = {}\n",
    "\n",
    "polling_active = True\n",
    "\n",
    "while polling_active:\n",
    "    name = input(\"\\nWhat is your name? \")\n",
    "    response = input(\"Which mountain would you like to climb someday? \")\n",
    "    \n",
    "    responses[name] = response\n",
    "    repeat = input(\"Would you like to let another person respond? (yes / no) \")\n",
    "    if repeat == 'no':\n",
    "        polling_active = False"
   ]
  },
  {
   "cell_type": "markdown",
   "id": "9d302b7c",
   "metadata": {},
   "source": [
    "## 函数"
   ]
  },
  {
   "cell_type": "code",
   "execution_count": 23,
   "id": "3c7e602d",
   "metadata": {},
   "outputs": [
    {
     "name": "stdout",
     "output_type": "stream",
     "text": [
      "Hello\n"
     ]
    }
   ],
   "source": [
    "def greet_user():\n",
    "    print(\"Hello\")\n",
    "    \n",
    "greet_user()"
   ]
  },
  {
   "cell_type": "code",
   "execution_count": 24,
   "id": "dd77bd5b",
   "metadata": {},
   "outputs": [
    {
     "name": "stdout",
     "output_type": "stream",
     "text": [
      "Hello, Jesse\n"
     ]
    }
   ],
   "source": [
    "def greet_user(username):\n",
    "    print(f\"Hello, {username.title()}\")\n",
    "    \n",
    "greet_user(\"jesse\")"
   ]
  },
  {
   "cell_type": "code",
   "execution_count": 29,
   "id": "1d87e82f",
   "metadata": {},
   "outputs": [
    {
     "name": "stdout",
     "output_type": "stream",
     "text": [
      "\n",
      "I have a dog\n",
      "My dog's name is Jimmy\n"
     ]
    }
   ],
   "source": [
    "# 位置实参 （基于位置顺序关联实参和形参）\n",
    "def describe_pet(animal_type, pet_name):\n",
    "    print(f\"\\nI have a {animal_type}\")\n",
    "    print(f\"My {animal_type}'s name is {pet_name.title()}\")  \n",
    "describe_pet(\"dog\", \"jimmy\")\n"
   ]
  },
  {
   "cell_type": "code",
   "execution_count": 30,
   "id": "4d6ccce4",
   "metadata": {},
   "outputs": [
    {
     "name": "stdout",
     "output_type": "stream",
     "text": [
      "\n",
      "I have a dog\n",
      "My dog's name is Sola\n"
     ]
    }
   ],
   "source": [
    "# 关键字实参\n",
    "def describe_pet(animal_type, pet_name):\n",
    "    print(f\"\\nI have a {animal_type}\")\n",
    "    print(f\"My {animal_type}'s name is {pet_name.title()}\")\n",
    "describe_pet(animal_type='dog', pet_name='sola')"
   ]
  },
  {
   "cell_type": "code",
   "execution_count": 32,
   "id": "09b3d134",
   "metadata": {},
   "outputs": [
    {
     "name": "stdout",
     "output_type": "stream",
     "text": [
      "\n",
      "I have a dog\n",
      "My dog's name is Sola\n",
      "\n",
      "I have a cat\n",
      "My cat's name is Sola\n"
     ]
    }
   ],
   "source": [
    "# 默认值（必须在无默认值的后面）\n",
    "def describe_pet(pet_name, animal_type='dog'):\n",
    "    print(f\"\\nI have a {animal_type}\")\n",
    "    print(f\"My {animal_type}'s name is {pet_name.title()}\")\n",
    "describe_pet('sola')\n",
    "describe_pet('sola', 'cat')"
   ]
  },
  {
   "cell_type": "code",
   "execution_count": 33,
   "id": "cd1a088c",
   "metadata": {},
   "outputs": [
    {
     "ename": "TypeError",
     "evalue": "describe_pet() missing 1 required positional argument: 'pet_name'",
     "output_type": "error",
     "traceback": [
      "\u001b[1;31m---------------------------------------------------------------------------\u001b[0m",
      "\u001b[1;31mTypeError\u001b[0m                                 Traceback (most recent call last)",
      "Cell \u001b[1;32mIn[33], line 1\u001b[0m\n\u001b[1;32m----> 1\u001b[0m \u001b[43mdescribe_pet\u001b[49m\u001b[43m(\u001b[49m\u001b[43m)\u001b[49m\n",
      "\u001b[1;31mTypeError\u001b[0m: describe_pet() missing 1 required positional argument: 'pet_name'"
     ]
    }
   ],
   "source": [
    "describe_pet()"
   ]
  },
  {
   "cell_type": "code",
   "execution_count": 34,
   "id": "fcdca512",
   "metadata": {},
   "outputs": [
    {
     "name": "stdout",
     "output_type": "stream",
     "text": [
      "Jimi Hendrix\n"
     ]
    }
   ],
   "source": [
    "def get_formatted_name(first_name, last_name):\n",
    "    return f\"{first_name} {last_name}\".title()\n",
    "\n",
    "print(get_formatted_name('jimi', 'hendrix'))"
   ]
  },
  {
   "cell_type": "code",
   "execution_count": 36,
   "id": "7d95f76b",
   "metadata": {},
   "outputs": [
    {
     "name": "stdout",
     "output_type": "stream",
     "text": [
      "Jimi Hendrix\n",
      "Jimi Lee Hendrix\n"
     ]
    }
   ],
   "source": [
    "def get_formatted_name(first_name, last_name, middle_name=''):\n",
    "    if middle_name:\n",
    "        full_name = f\"{first_name} {middle_name} {last_name}\".title()\n",
    "    else:\n",
    "        full_name = f\"{first_name} {last_name}\".title()\n",
    "    return full_name\n",
    "print(get_formatted_name('jimi', 'hendrix'))\n",
    "print(get_formatted_name('jimi', 'hendrix', 'lee'))"
   ]
  },
  {
   "cell_type": "code",
   "execution_count": 38,
   "id": "a6ac6243",
   "metadata": {},
   "outputs": [
    {
     "name": "stdout",
     "output_type": "stream",
     "text": [
      "{'first_name': 'jimi', 'last_name': 'hendrix'}\n"
     ]
    }
   ],
   "source": [
    "def build_person(first_name, last_name, age=None):\n",
    "    person = {\n",
    "        'first_name': first_name,\n",
    "        'last_name': last_name,\n",
    "        'age': age,\n",
    "    }\n",
    "    return person\n",
    "print(build_person('jimi', 'hendrix'))"
   ]
  },
  {
   "cell_type": "code",
   "execution_count": 43,
   "id": "aa22dd38",
   "metadata": {},
   "outputs": [
    {
     "name": "stdout",
     "output_type": "stream",
     "text": [
      "you can type q to quit\n",
      "Please tell me your name: \n",
      "First name:123\n",
      "Last name:32\n",
      "\n",
      "Hello, 123 32\n",
      "Please tell me your name: \n",
      "First name:1\n",
      "Last name:q\n"
     ]
    }
   ],
   "source": [
    "def get_formatted_name(first_name, last_name):\n",
    "    full_name = f\"{first_name} {last_name}\"\n",
    "    return full_name.title()\n",
    "\n",
    "print(\"you can type q to quit\")\n",
    "while True:\n",
    "    print(\"Please tell me your name: \")\n",
    "    f_name = input(\"First name:\")\n",
    "    if f_name == 'q':\n",
    "        break\n",
    "    \n",
    "    l_name = input(\"Last name:\")\n",
    "    if l_name == 'q':\n",
    "        break\n",
    "    \n",
    "    formatted_name = get_formatted_name(f_name, l_name)\n",
    "    print(f\"\\nHello, {formatted_name}\")"
   ]
  },
  {
   "cell_type": "code",
   "execution_count": 44,
   "id": "d9068e35",
   "metadata": {},
   "outputs": [
    {
     "name": "stdout",
     "output_type": "stream",
     "text": [
      "Hello, Hannah\n",
      "Hello, Ty\n",
      "Hello, Marget\n"
     ]
    }
   ],
   "source": [
    "def greet_users(names):\n",
    "    for name in names:\n",
    "        msg = f\"Hello, {name.title()}\"\n",
    "        print(msg)\n",
    "usernames = ['hannah', 'ty', 'marget']\n",
    "greet_users(usernames)"
   ]
  },
  {
   "cell_type": "code",
   "execution_count": 46,
   "id": "1fc03f8f",
   "metadata": {},
   "outputs": [
    {
     "name": "stdout",
     "output_type": "stream",
     "text": [
      "Printing model: dodecahedron\n",
      "Printing model: robot pendant\n",
      "Printing model: phone case\n",
      "\n",
      "gThe following models have been printed\n",
      "dodecahedron\n",
      "robot pendant\n",
      "phone case\n"
     ]
    }
   ],
   "source": [
    "# 修改列表参数 浅拷贝\n",
    "def print_models(unprinted_designs, completed_models):\n",
    "    \"\"\"\n",
    "    打印每一个设计，并且打印后会移动到 completed_models\n",
    "    \"\"\"\n",
    "    while unprinted_designs:\n",
    "        current = unprinted_designs.pop()\n",
    "        print(f\"Printing model: {current}\")\n",
    "        completed_models.append(current)\n",
    "\n",
    "def show_completed_models(completed_models):\n",
    "    print(\"\\ngThe following models have been printed\")\n",
    "    for completed in completed_models:\n",
    "        print(completed)\n",
    "\n",
    "unprinted_designs = ['phone case', 'robot pendant', 'dodecahedron']\n",
    "completed_models = []\n",
    "print_models(unprinted_designs, completed_models)\n",
    "show_completed_models(completed_models)"
   ]
  },
  {
   "cell_type": "code",
   "execution_count": 48,
   "id": "c6ecf118",
   "metadata": {},
   "outputs": [
    {
     "name": "stdout",
     "output_type": "stream",
     "text": [
      "Printing model: dodecahedron\n",
      "Printing model: robot pendant\n",
      "Printing model: phone case\n",
      "[]\n"
     ]
    }
   ],
   "source": [
    "# 深拷贝\n",
    "unprinted_designs = ['phone case', 'robot pendant', 'dodecahedron']\n",
    "completed_models = []\n",
    "print_models(unprinted_designs[:], completed_models[:])\n",
    "print(completed_models)"
   ]
  },
  {
   "cell_type": "code",
   "execution_count": 49,
   "id": "76a1fd58",
   "metadata": {},
   "outputs": [
    {
     "name": "stdout",
     "output_type": "stream",
     "text": [
      "('mushroom', 'green peppera', 'extra cheese')\n"
     ]
    }
   ],
   "source": [
    "# 任意数量实参\n",
    "# *toppings 会创建空元组\n",
    "def make_pizza(*toppings):\n",
    "    print(toppings)\n",
    "make_pizza('mushroom', 'green peppera', 'extra cheese')"
   ]
  },
  {
   "cell_type": "code",
   "execution_count": 51,
   "id": "4f6d18e4",
   "metadata": {},
   "outputs": [
    {
     "name": "stdout",
     "output_type": "stream",
     "text": [
      "Making a 16-inch pizza with the following toppings : \n",
      "- pepperoni\n",
      "- green peppers\n",
      "- extra cheese\n"
     ]
    }
   ],
   "source": [
    "# 参数匹配优先级\n",
    "# 位置实参，关键词实参，最后一个形参\n",
    "def make_pizza(size, *toppings):\n",
    "    print(f\"Making a {size}-inch pizza with the following toppings : \")\n",
    "    for topping in toppings:\n",
    "        print(f\"- {topping}\")\n",
    "make_pizza(16, 'pepperoni', 'green peppers', 'extra cheese')"
   ]
  },
  {
   "cell_type": "code",
   "execution_count": 54,
   "id": "39f3e403",
   "metadata": {},
   "outputs": [
    {
     "name": "stdout",
     "output_type": "stream",
     "text": [
      "{'location': 'princeton', 'field': 'physics', 'first_name': 'albert', 'last_name': 'einstein'}\n"
     ]
    }
   ],
   "source": [
    "# 任意数量的关键字参数\n",
    "# **user_info 创建空字典\n",
    "# 一般使用 **kwargs (keywords arguments)\n",
    "def build_profile(first, last, **user_info):\n",
    "    user_info['first_name'] = first\n",
    "    user_info['last_name'] = last\n",
    "    return user_info\n",
    "user_profile = build_profile('albert', 'einstein', location='princeton', field='physics')\n",
    "print(user_profile)"
   ]
  },
  {
   "cell_type": "code",
   "execution_count": 57,
   "id": "7fcca69d",
   "metadata": {},
   "outputs": [
    {
     "name": "stdout",
     "output_type": "stream",
     "text": [
      "\n",
      "Making a 12-inch pizza with the following toppings : \n",
      "- mushroom\n",
      "- green peppers\n",
      "- extra cheese\n"
     ]
    }
   ],
   "source": [
    "import pizza as pza\n",
    "\n",
    "pza.make_pizza(12, 'mushroom', 'green peppers', 'extra cheese')"
   ]
  },
  {
   "cell_type": "code",
   "execution_count": 58,
   "id": "a288e5b3",
   "metadata": {},
   "outputs": [
    {
     "name": "stdout",
     "output_type": "stream",
     "text": [
      "\n",
      "Making a 12-inch pizza with the following toppings : \n",
      "- mushroom\n",
      "- green peppers\n",
      "- extra cheese\n"
     ]
    }
   ],
   "source": [
    "from pizza import make_pizza as mp\n",
    "\n",
    "mp(12, 'mushroom', 'green peppers', 'extra cheese')"
   ]
  },
  {
   "cell_type": "code",
   "execution_count": 59,
   "id": "5a18ef23",
   "metadata": {},
   "outputs": [],
   "source": [
    "# 导入模块中的所有函数 不推荐\n",
    "# from pizza import *"
   ]
  },
  {
   "cell_type": "markdown",
   "id": "a1dc9e40",
   "metadata": {},
   "source": [
    "## 类"
   ]
  },
  {
   "cell_type": "code",
   "execution_count": 63,
   "id": "17f394a6",
   "metadata": {},
   "outputs": [
    {
     "name": "stdout",
     "output_type": "stream",
     "text": [
      "Willie\t6\n",
      "Willie is now sitting.\n"
     ]
    }
   ],
   "source": [
    " class Dog:\n",
    "        def __init__(self, name, age):\n",
    "            self.name = name\n",
    "            self.age = age\n",
    "            \n",
    "        def sit(self):\n",
    "            print(f\"{self.name} is now sitting.\")\n",
    "            \n",
    "        def roll_over(self):\n",
    "            print(f\"{self.name} rolled over\")\n",
    "            \n",
    "my_dog = Dog('Willie', 6)\n",
    "print(my_dog.name, end='\\t')\n",
    "print(my_dog.age)\n",
    "my_dog.sit()"
   ]
  },
  {
   "cell_type": "code",
   "execution_count": 75,
   "id": "15196b1f",
   "metadata": {},
   "outputs": [
    {
     "name": "stdout",
     "output_type": "stream",
     "text": [
      "2019 audi a4\n",
      "This car has 23 miles on it\n"
     ]
    }
   ],
   "source": [
    "class Car:\n",
    "    \n",
    "    def __init__(self, make, model, year):\n",
    "        self.make = make\n",
    "        self.model = model\n",
    "        self.year = year\n",
    "        self.__odometer = 0\n",
    "    \n",
    "    def get_descriptive_name(self):\n",
    "        return f\"{self.year} {self.make} {self.model}\"\n",
    "    \n",
    "    def read_odometer(self):\n",
    "        print(f\"This car has {self.__odometer} miles on it\")\n",
    "        \n",
    "    def update_odometer(self, mileage):\n",
    "        self.__odometer = mileage\n",
    "        \n",
    "my_new_car = Car('audi', 'a4', 2019)\n",
    "print(my_new_car.get_descriptive_name())\n",
    "my_new_car.update_odometer(23)\n",
    "my_new_car.read_odometer()"
   ]
  },
  {
   "cell_type": "code",
   "execution_count": 76,
   "id": "80e2ec07",
   "metadata": {},
   "outputs": [],
   "source": [
    "my_new_car.__odometer = 0 # ????"
   ]
  },
  {
   "cell_type": "markdown",
   "id": "49212f9f",
   "metadata": {},
   "source": [
    "# 继承"
   ]
  },
  {
   "cell_type": "code",
   "execution_count": 100,
   "id": "5445b14f",
   "metadata": {},
   "outputs": [
    {
     "name": "stdout",
     "output_type": "stream",
     "text": [
      "2019 tesla model s ElectricCar\n",
      "This car has a 75~kWh battery.\n"
     ]
    }
   ],
   "source": [
    "class Car:\n",
    "    \n",
    "    def __init__(self, make, model, year):\n",
    "        self.make = make\n",
    "        self.model = model\n",
    "        self.year = year\n",
    "        self.odometer = 0\n",
    "        \n",
    "    def get_descriptive_name(self):\n",
    "        long_name = f\"{self.year} {self.make} {self.model}\"\n",
    "        return long_name\n",
    "        \n",
    "    def read_odometer(self):\n",
    "        print(f\"This car has {self.odometer} miles on it.\")\n",
    "        \n",
    "    def update_odometer(self, mileage):\n",
    "        if (mileage >= self.odometer):\n",
    "            self.odometer = mileage\n",
    "        else:\n",
    "            print(\"You can't roll back an odometer\")\n",
    "    \n",
    "    def increment_odometer(self, miles):\n",
    "        self.odometer += miles\n",
    "        \n",
    "        \n",
    "class ElectricCar(Car):\n",
    "    \n",
    "    def __init__(self, make, model, year):\n",
    "        \"\"\"初始化父类属性\"\"\"\n",
    "        super().__init__(make, model, year)\n",
    "        self.battery_size = 75\n",
    "    \n",
    "    def get_descriptive_name(self):\n",
    "        long_name = f\"{self.year} {self.make} {self.model} ElectricCar\"\n",
    "        return long_name\n",
    "    \n",
    "    def describe_battery(self):\n",
    "        print(f\"This car has a {self.battery_size}~kWh battery.\")\n",
    "        \n",
    "my_tesla = ElectricCar('tesla', 'model s', 2019)\n",
    "print(my_tesla.get_descriptive_name())\n",
    "my_tesla.describe_battery()"
   ]
  },
  {
   "cell_type": "markdown",
   "id": "a833787f",
   "metadata": {},
   "source": [
    "**大类细节复杂可以拆分成小类，小类作为大类的属性**"
   ]
  },
  {
   "cell_type": "code",
   "execution_count": 101,
   "id": "5645549d",
   "metadata": {},
   "outputs": [
    {
     "name": "stdout",
     "output_type": "stream",
     "text": [
      "2019 tesla model s\n",
      "This car has a 75~kWh battery.\n",
      "This car can go about 225 miles on a full charge\n"
     ]
    }
   ],
   "source": [
    "class Car:\n",
    "    \n",
    "    def __init__(self, make, model, year):\n",
    "        self.make = make\n",
    "        self.model = model\n",
    "        self.year = year\n",
    "        self.odometer = 0\n",
    "        \n",
    "    def get_descriptive_name(self):\n",
    "        long_name = f\"{self.year} {self.make} {self.model}\"\n",
    "        return long_name\n",
    "        \n",
    "    def read_odometer(self):\n",
    "        print(f\"This car has {self.odometer} miles on it.\")\n",
    "        \n",
    "    def update_odometer(self, mileage):\n",
    "        if (mileage >= self.odometer):\n",
    "            self.odometer = mileage\n",
    "        else:\n",
    "            print(\"You can't roll back an odometer\")\n",
    "    \n",
    "    def increment_odometer(self, miles):\n",
    "        self.odometer += miles\n",
    "        \n",
    "class Battery:\n",
    "    def __init__(self, battery_size=75):\n",
    "        self.battery_size = battery_size\n",
    "    \n",
    "    def describe_battery(self):\n",
    "        print(f\"This car has a {self.battery_size}~kWh battery.\")\n",
    "        \n",
    "    def get_range(self):\n",
    "        range = self.battery_size * 3\n",
    "        print(f\"This car can go about {range} miles on a full charge\")\n",
    "        \n",
    "class ElectricCar(Car):\n",
    "    def __init__(self, make, model, year):\n",
    "        \"\"\"初始化父类属性\"\"\"\n",
    "        super().__init__(make, model, year)\n",
    "        self.battery = Battery()\n",
    "    \n",
    "    def get_descriptive_name(self):\n",
    "        long_name = f\"{self.year} {self.make} {self.model}\"\n",
    "        return long_name\n",
    "\n",
    "my_tesla = ElectricCar('tesla', 'model s', 2019)\n",
    "print(my_tesla.get_descriptive_name())\n",
    "my_tesla.battery.describe_battery()\n",
    "my_tesla.battery.get_range()"
   ]
  },
  {
   "cell_type": "code",
   "execution_count": 106,
   "id": "ae84ead4",
   "metadata": {},
   "outputs": [
    {
     "name": "stdout",
     "output_type": "stream",
     "text": [
      "2019 a4 audi\n",
      "This car has 25 miles on it.\n"
     ]
    }
   ],
   "source": [
    "from car import Car as mc\n",
    "my_new_car = mc('audi', 'a4', 2019)\n",
    "\n",
    "print(my_new_car.get_descriptive_name())\n",
    "my_new_car.update_odometer(25)\n",
    "my_new_car.read_odometer()"
   ]
  },
  {
   "cell_type": "code",
   "execution_count": 1,
   "id": "7261b9da",
   "metadata": {},
   "outputs": [
    {
     "name": "stdout",
     "output_type": "stream",
     "text": [
      "2019 model s tesla\n",
      "This car has a 75~kWh battery.\n"
     ]
    },
    {
     "data": {
      "text/plain": [
       "225"
      ]
     },
     "execution_count": 1,
     "metadata": {},
     "output_type": "execute_result"
    }
   ],
   "source": [
    "from car import Electric_Car as ec\n",
    "my_tesla = ec('tesla', 'model s', 2019)\n",
    "print(my_tesla.get_descriptive_name())\n",
    "my_tesla.battery.describe_battery()\n",
    "my_tesla.battery.get_range()"
   ]
  },
  {
   "cell_type": "code",
   "execution_count": 2,
   "id": "8e843e30",
   "metadata": {},
   "outputs": [],
   "source": [
    "from car import Car, Electric_Car"
   ]
  },
  {
   "cell_type": "markdown",
   "id": "6c786495",
   "metadata": {},
   "source": [
    "### Python 标准库"
   ]
  },
  {
   "cell_type": "code",
   "execution_count": 3,
   "id": "adee625f",
   "metadata": {},
   "outputs": [
    {
     "data": {
      "text/plain": [
       "2"
      ]
     },
     "execution_count": 3,
     "metadata": {},
     "output_type": "execute_result"
    }
   ],
   "source": [
    "from random import randint\n",
    "randint(1, 6)"
   ]
  },
  {
   "cell_type": "code",
   "execution_count": 4,
   "id": "85ffc98f",
   "metadata": {},
   "outputs": [
    {
     "data": {
      "text/plain": [
       "'b'"
      ]
     },
     "execution_count": 4,
     "metadata": {},
     "output_type": "execute_result"
    }
   ],
   "source": [
    "from random import choice\n",
    "players = ['a', 'b', 'c']\n",
    "choice(players)"
   ]
  },
  {
   "cell_type": "markdown",
   "id": "a0133283",
   "metadata": {},
   "source": [
    "# 文件 和 异常"
   ]
  },
  {
   "cell_type": "code",
   "execution_count": 23,
   "id": "8895da4a",
   "metadata": {},
   "outputs": [
    {
     "name": "stdout",
     "output_type": "stream",
     "text": [
      "3.1415926535\n",
      "8979323846\n",
      "2643383279\n"
     ]
    }
   ],
   "source": [
    "with open('pi.txt') as file_object:\n",
    "    contents = file_object.read() # 会在末尾多加一个空行\n",
    "print(contents.rstrip())"
   ]
  },
  {
   "cell_type": "code",
   "execution_count": 24,
   "id": "9bf95854",
   "metadata": {},
   "outputs": [
    {
     "name": "stdout",
     "output_type": "stream",
     "text": [
      "3.1415926535\n",
      "8979323846\n",
      "2643383279\n",
      "3.141592653589793238462643383279\n",
      "32\n"
     ]
    }
   ],
   "source": [
    "filename = 'pi.txt'\n",
    "\n",
    "with open(filename, 'r')  as file_object:\n",
    "    for line in file_object:\n",
    "        print(line.rstrip())\n",
    "    file_object.seek(0)\n",
    "    lines = file_object.readlines()\n",
    "\n",
    "pi_string = \"\"\n",
    "for line in lines:\n",
    "    pi_string += line.strip()\n",
    "print(pi_string)\n",
    "print(len(pi_string))"
   ]
  },
  {
   "cell_type": "code",
   "execution_count": 31,
   "id": "87c16c06",
   "metadata": {},
   "outputs": [],
   "source": [
    "# 写入文件\n",
    "filename = 'programming.txt'\n",
    "with open(filename, 'w') as fp: # w 模式会清空原有文件\n",
    "    fp.write('asdf\\n') # write 不会添加换行符\n",
    "    fp.write('the next line')"
   ]
  },
  {
   "cell_type": "code",
   "execution_count": 32,
   "id": "a4b13e81",
   "metadata": {},
   "outputs": [],
   "source": [
    "# 附加模式\n",
    "filename = 'programming.txt'\n",
    "with open(filename, 'a') as fp:\n",
    "    fp.write('\\ntest')"
   ]
  },
  {
   "cell_type": "code",
   "execution_count": 33,
   "id": "240b1dae",
   "metadata": {},
   "outputs": [
    {
     "name": "stdout",
     "output_type": "stream",
     "text": [
      "asdf\n",
      "the next line\n",
      "test\n"
     ]
    }
   ],
   "source": [
    "filename = 'programming.txt'\n",
    "with open(filename, 'r') as fp:\n",
    "    print(fp.read().rstrip())"
   ]
  },
  {
   "cell_type": "markdown",
   "id": "8eaa04f2",
   "metadata": {},
   "source": [
    "## 异常"
   ]
  },
  {
   "cell_type": "code",
   "execution_count": 34,
   "id": "7294aad3",
   "metadata": {},
   "outputs": [
    {
     "ename": "ZeroDivisionError",
     "evalue": "division by zero",
     "output_type": "error",
     "traceback": [
      "\u001b[1;31m---------------------------------------------------------------------------\u001b[0m",
      "\u001b[1;31mZeroDivisionError\u001b[0m                         Traceback (most recent call last)",
      "Cell \u001b[1;32mIn[34], line 1\u001b[0m\n\u001b[1;32m----> 1\u001b[0m \u001b[38;5;241;43m5\u001b[39;49m\u001b[38;5;241;43m/\u001b[39;49m\u001b[38;5;241;43m0\u001b[39;49m\n",
      "\u001b[1;31mZeroDivisionError\u001b[0m: division by zero"
     ]
    }
   ],
   "source": [
    "5/0"
   ]
  },
  {
   "cell_type": "code",
   "execution_count": 35,
   "id": "b092d105",
   "metadata": {},
   "outputs": [
    {
     "name": "stdout",
     "output_type": "stream",
     "text": [
      "You can't divide ny zero!\n"
     ]
    }
   ],
   "source": [
    "try:\n",
    "    print(5/0)\n",
    "except ZeroDivisionError:\n",
    "    print(\"You can't divide ny zero!\")"
   ]
  },
  {
   "cell_type": "code",
   "execution_count": 38,
   "id": "f6e1519b",
   "metadata": {},
   "outputs": [
    {
     "name": "stdout",
     "output_type": "stream",
     "text": [
      "q to quit\n",
      "\n",
      "First number:22\n",
      "Second number:0\n",
      "You can't divide by 0\n",
      "61.5\n",
      "\n",
      "First number:123\n",
      "Second number:2\n",
      "61.5\n",
      "61.5\n",
      "\n",
      "First number:q\n"
     ]
    }
   ],
   "source": [
    "print('q to quit')\n",
    "while True:\n",
    "    first_number = input('\\nFirst number:')\n",
    "    if first_number == 'q':\n",
    "        break\n",
    "    second_number = input('Second number:')\n",
    "    if second_number == 'q':\n",
    "        break\n",
    "    try:\n",
    "        answer = int(first_number) / float(second_number)\n",
    "    except ZeroDivisionError:\n",
    "        print(\"You can't divide by 0\")\n",
    "    else:\n",
    "        print(answer)\n",
    "    print(answer)"
   ]
  },
  {
   "cell_type": "code",
   "execution_count": 42,
   "id": "be369fcf",
   "metadata": {},
   "outputs": [
    {
     "name": "stdout",
     "output_type": "stream",
     "text": [
      "Sorry, the file a does not exist\n"
     ]
    }
   ],
   "source": [
    "filename = 'a'\n",
    "try:\n",
    "    with open(filename, 'r', encoding='utf-8') as fp:\n",
    "        contents = fp.read()\n",
    "except FileNotFoundError:\n",
    "    print(f\"Sorry, the file {filename} does not exist\")"
   ]
  },
  {
   "cell_type": "code",
   "execution_count": 43,
   "id": "8f0973fb",
   "metadata": {},
   "outputs": [
    {
     "data": {
      "text/plain": [
       "['Alice', 'in', 'Wonderland']"
      ]
     },
     "execution_count": 43,
     "metadata": {},
     "output_type": "execute_result"
    }
   ],
   "source": [
    "# 分析文本\n",
    "title = \"Alice in Wonderland\"\n",
    "title.split()"
   ]
  },
  {
   "cell_type": "code",
   "execution_count": 44,
   "id": "c63ce9c4",
   "metadata": {},
   "outputs": [],
   "source": [
    "def a():\n",
    "    pass # 占位符"
   ]
  },
  {
   "cell_type": "markdown",
   "id": "baa2c771",
   "metadata": {},
   "source": [
    "#### json"
   ]
  },
  {
   "cell_type": "code",
   "execution_count": 65,
   "id": "1f3b043e",
   "metadata": {},
   "outputs": [],
   "source": [
    "import json\n",
    "username = {\n",
    "    'qiqi' : 'not',\n",
    "    'GenShen' : 'op'\n",
    "}\n",
    "filename = 'username.json'\n",
    "with open(filename, 'w') as fp:\n",
    "    json.dump(username, fp)"
   ]
  },
  {
   "cell_type": "code",
   "execution_count": 66,
   "id": "3ac667d5",
   "metadata": {},
   "outputs": [
    {
     "name": "stdout",
     "output_type": "stream",
     "text": [
      "{'qiqi': 'not', 'GenShen': 'op'}\n"
     ]
    }
   ],
   "source": [
    "try:\n",
    "    with open(filename) as fp:\n",
    "        username = json.load(fp)\n",
    "except FileNotFoundError:\n",
    "    username = input(\"What's your name? \")\n",
    "    with open(filename, 'w') as fp:\n",
    "        json.dump(username, fp)\n",
    "        print(f\"{username}\")\n",
    "else:\n",
    "    print(f\"{username}\")"
   ]
  },
  {
   "cell_type": "markdown",
   "id": "9fbd2187",
   "metadata": {},
   "source": [
    "# 测试函数"
   ]
  },
  {
   "cell_type": "markdown",
   "id": "af4d202e",
   "metadata": {},
   "source": [
    "## 单元测试"
   ]
  },
  {
   "cell_type": "raw",
   "id": "9b09df75",
   "metadata": {},
   "source": [
    "import unittest\n",
    "\n",
    "\n",
    "def get_formatted_name(first, last, middle=''):\n",
    "    if middle == '':\n",
    "        full_name = f\"{first} {last}\"\n",
    "        return full_name.title()\n",
    "    else:\n",
    "        full_name = f\"{first} {middle} {last}\"\n",
    "        return full_name.title()\n",
    "\n",
    "\n",
    "class NamesTestCase(unittest.TestCase):\n",
    "    def test_first_last_name(self):\n",
    "        formatted_name = get_formatted_name('janis', 'joplin')\n",
    "        self.assertEqual(formatted_name, 'Janis Joplin')\n",
    "\n",
    "    def test_first_last_middle_name(self):\n",
    "        formatted_name = get_formatted_name('wolfgang', 'mozart', 'amadeus')\n",
    "        self.assertEqual(formatted_name, 'Wolfgang Amadeus Mozart')\n",
    "\n",
    "\n",
    "if __name__ == '__main__':\n",
    "    unittest.main()\n"
   ]
  },
  {
   "cell_type": "markdown",
   "id": "9a089a7d",
   "metadata": {},
   "source": [
    "> 在`Jupyter NoteBook` 环境中无法运行"
   ]
  },
  {
   "cell_type": "raw",
   "id": "5ef9481f",
   "metadata": {},
   "source": [
    "import unittest\n",
    "\n",
    "\n",
    "class AnonymousSurvey:\n",
    "    def __init__(self, question):\n",
    "        self.question = question\n",
    "        self.responses = []\n",
    "\n",
    "    def show_question(self):\n",
    "        print(self.question)\n",
    "\n",
    "    def store_response(self, new_response):\n",
    "        self.responses.append(new_response)\n",
    "\n",
    "    def show_results(self):\n",
    "        print(\"Survey results\")\n",
    "        for response in self.responses:\n",
    "            print(f\"- {response}\")\n",
    "\n",
    "\n",
    "class TestAnonymousSurvey(unittest.TestCase):\n",
    "\n",
    "    def setUp(self):\n",
    "        question = \"What language did you first learn to speak?\"\n",
    "        self.my_survey = AnonymousSurvey(question)\n",
    "        self.responses = ['chinese', 'japanese', 'english']\n",
    "\n",
    "    def test_store_single_response(self):\n",
    "        for response in self.responses:\n",
    "            self.my_survey.store_response(response)\n",
    "        for response in self.responses:\n",
    "            self.assertIn(response, self.my_survey.responses)\n",
    "\n",
    "\n",
    "if __name__ == '__main__':\n",
    "    unittest.main()"
   ]
  },
  {
   "cell_type": "markdown",
   "id": "3c39a5c7",
   "metadata": {},
   "source": [
    "> 'Jupyter Notebook'环境中无法运行"
   ]
  }
 ],
 "metadata": {
  "kernelspec": {
   "display_name": "Python 3 (ipykernel)",
   "language": "python",
   "name": "python3"
  },
  "language_info": {
   "codemirror_mode": {
    "name": "ipython",
    "version": 3
   },
   "file_extension": ".py",
   "mimetype": "text/x-python",
   "name": "python",
   "nbconvert_exporter": "python",
   "pygments_lexer": "ipython3",
   "version": "3.10.8"
  }
 },
 "nbformat": 4,
 "nbformat_minor": 5
}
